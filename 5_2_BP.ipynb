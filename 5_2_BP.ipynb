{
  "nbformat": 4,
  "nbformat_minor": 0,
  "metadata": {
    "colab": {
      "provenance": []
    },
    "kernelspec": {
      "name": "python3",
      "display_name": "Python 3"
    },
    "language_info": {
      "name": "python"
    }
  },
  "cells": [
    {
      "cell_type": "markdown",
      "source": [
        "BUTANOL 10"
      ],
      "metadata": {
        "id": "cBxBJfLifnUq"
      }
    },
    {
      "cell_type": "code",
      "execution_count": null,
      "metadata": {
        "colab": {
          "base_uri": "https://localhost:8080/"
        },
        "id": "A-fIO_3gdvBe",
        "outputId": "eb2d5c8c-0abb-47a0-f3bc-354f3a106099"
      },
      "outputs": [
        {
          "output_type": "stream",
          "name": "stdout",
          "text": [
            "For Fuel 1 amount = 26.28, Fuel 2 amount = 2.628, Brake power = 5.2, Heat Input = 16.198464647999998,  Efficiency=32.101807874995345\n",
            "For Fuel 1 amount = 25.935, Fuel 2 amount = 2.5935, Brake power = 5.2, Heat Input = 15.985813571,  Efficiency=32.52884175650193\n",
            "For Fuel 1 amount = 25.935, Fuel 2 amount = 2.5935, Brake power = 5.2, Heat Input = 15.985813571,  Efficiency=32.52884175650193\n"
          ]
        }
      ],
      "source": [
        "#Butano1 10\n",
        "fuel_1_range = [16.46,20.11,28.18,18.05,20.49,27.43,41.24,12.81,19.13,8.91,8.37,26.28,33.83,17.658,22.041,27.756,26.955,15.264,18.224,22.4,16.912,18.648,23.429,9.324,11.994,14.682,17.604,21.522,6.909,17.094,20.86,28.042,35.945,13.992,15.432,19.744,24.288,17.776,10.346,12.936,17.85,25.298,30.807,18.891,20.421,12.504,14.92,19.432,22.616,20.848,10.143,12.621,15.365,20.958,10.528,13.944,11.277,12.978,17.031,25.935,11.416,13.968,16.656,9.555,11.963,14.924,20.972,22.008,19.053,23.886,33.264,4.936,12.936,19.376,10.843,12.117,13.272,12.488,16.48,20.584,29.072,10.409,12.425,16.268,24.983,32.508,12.424,14.88,18.272,27.12,11.375,13.811,16.954,25.935]  # Values from 1 to 60 (inclusive)\n",
        "fuel_2_range=[]\n",
        "for i in fuel_1_range:\n",
        "  fuel_2_range.append(i*0.1)\n",
        " # Values from 1 to 40 (inclusive)\n",
        "calorific_value1 = 35800\n",
        "brake_power = 5.2\n",
        "density1 = 958\n",
        "density2=811.6\n",
        "calorific_value2=33100\n",
        "# Assuming you have the formulas defined as functions, for example:\n",
        "def predict_efficiency(fuel_amount_1, fuel_amount_2, calorific_value1,calorific_value2, brake_power, density1,density2):\n",
        "    # Your formula to calculate efficiency based on the given inputs\n",
        "    mass_of_fuel1 = ((fuel_amount_1  * 0.000001) / 60) * density1\n",
        "    mass_of_fuel2=((fuel_amount_2  * 0.000001) / 60) * density2\n",
        "    heat_input = mass_of_fuel1 * calorific_value1 + mass_of_fuel2 * calorific_value2\n",
        "    efficiency = brake_power / heat_input\n",
        "    return heat_input\n",
        "    # Limit efficiency to a maximum value of 32\n",
        "    efficiency = min(efficiency, 32)\n",
        "\n",
        "    return efficiency\n",
        "\n",
        "# List to store combinations that meet the efficiency criteria\n",
        "efficient_combinations = []\n",
        "\n",
        "# Loop through all combinations of fuel_1 and fuel_2\n",
        "for fuel_amount_1 in fuel_1_range:\n",
        "      # Use the formula-based prediction function to get efficiency\n",
        "      predicted_efficiency = predict_efficiency(fuel_amount_1, fuel_amount_1*0.1, calorific_value1,calorific_value2 ,brake_power,density1,density2)\n",
        "      \"\"\"if 23 <= predicted_efficiency <= 32:\"\"\"\n",
        "      efficient_combinations.append((fuel_amount_1, fuel_amount_1*0.1, predicted_efficiency))\n",
        "\n",
        "# Print the combinations that meet the efficiency criteria\n",
        "if efficient_combinations:\n",
        "    for fuel_amount_1, fuel_amount_2, predicted_efficiency in efficient_combinations:\n",
        "        eff=(brake_power/predicted_efficiency)*100\n",
        "        if eff<33 and eff>31.999999999999:\n",
        "          print(f\"For Fuel 1 amount = {fuel_amount_1}, Fuel 2 amount = {fuel_amount_2}, \"\n",
        "                f\"Brake power = {brake_power}, \"\n",
        "                f\"Heat Input = {predicted_efficiency}, \",f\"Efficiency={eff}\")\n",
        "\n",
        "else:\n",
        "    print(\"No combinations meet the efficiency criteria.\")"
      ]
    },
    {
      "cell_type": "markdown",
      "source": [
        "DIESEL"
      ],
      "metadata": {
        "id": "eq-T8Curftow"
      }
    },
    {
      "cell_type": "code",
      "source": [
        "#Diesel\n",
        "fuel_1_range = [16.46,20.11,28.18,18.05,20.49,27.43,41.24,12.81,19.13,8.91,8.37,26.28,33.83,17.658,22.041,27.756,26.955,15.264,18.224,22.4,16.912,18.648,23.429,9.324,11.994,14.682,17.604,21.522,6.909,17.094,20.86,28.042,35.945,13.992,15.432,19.744,24.288,17.776,10.346,12.936,17.85,25.298,30.807,18.891,20.421,12.504,14.92,19.432,22.616,20.848,10.143,12.621,15.365,20.958,10.528,13.944,11.277,12.978,17.031,25.935,11.416,13.968,16.656,9.555,11.963,14.924,20.972,22.008,19.053,23.886,33.264,4.936,12.936,19.376,10.843,12.117,13.272,12.488,16.48,20.584,29.072,10.409,12.425,16.268,24.983,32.508,12.424,14.88,18.272,27.12,11.375,13.811,16.954,25.935]  # Values from 1 to 60 (inclusive)\n",
        "fuel_2_range=[]\n",
        "for i in fuel_1_range:\n",
        "  fuel_2_range.append(i*0)\n",
        " # Values from 1 to 40 (inclusive)\n",
        "calorific_value1 = 42500\n",
        "brake_power = 5.2\n",
        "density1 = 840\n",
        "density2=0\n",
        "calorific_value2=0\n",
        "# Assuming you have the formulas defined as functions, for example:\n",
        "def predict_efficiency(fuel_amount_1, fuel_amount_2, calorific_value1,calorific_value2, brake_power, density1,density2):\n",
        "    # Your formula to calculate efficiency based on the given inputs\n",
        "    mass_of_fuel1 = ((fuel_amount_1  * 0.000001) / 60) * density1\n",
        "    mass_of_fuel2=((fuel_amount_2  * 0.000001) / 60) * density2\n",
        "    heat_input = mass_of_fuel1 * calorific_value1 + mass_of_fuel2 * calorific_value2\n",
        "    efficiency = brake_power / heat_input\n",
        "    return heat_input\n",
        "    # Limit efficiency to a maximum value of 32\n",
        "    efficiency = min(efficiency, 32)\n",
        "\n",
        "    return efficiency\n",
        "\n",
        "# List to store combinations that meet the efficiency criteria\n",
        "efficient_combinations = []\n",
        "\n",
        "# Loop through all combinations of fuel_1 and fuel_2\n",
        "for fuel_amount_1 in fuel_1_range:\n",
        "      # Use the formula-based prediction function to get efficiency\n",
        "      predicted_efficiency = predict_efficiency(fuel_amount_1, fuel_amount_1*0, calorific_value1,calorific_value2 ,brake_power,density1,density2)\n",
        "      \"\"\"if 23 <= predicted_efficiency <= 32:\"\"\"\n",
        "      efficient_combinations.append((fuel_amount_1, fuel_amount_1*0, predicted_efficiency))\n",
        "\n",
        "# Print the combinations that meet the efficiency criteria\n",
        "if efficient_combinations:\n",
        "    for fuel_amount_1, fuel_amount_2, predicted_efficiency in efficient_combinations:\n",
        "        eff=(brake_power/predicted_efficiency)*100\n",
        "        if eff<33 and eff>31.999999999999:\n",
        "          print(f\"For Fuel 1 amount = {fuel_amount_1}, Fuel 2 amount = {fuel_amount_2}, \"\n",
        "                f\"Brake power = {brake_power}, \"\n",
        "                f\"Heat Input = {predicted_efficiency}, \",f\"Efficiency={eff}\")\n",
        "\n",
        "else:\n",
        "    print(\"No combinations meet the efficiency criteria.\")"
      ],
      "metadata": {
        "colab": {
          "base_uri": "https://localhost:8080/"
        },
        "id": "ziEZr5Nie-ak",
        "outputId": "29c839c0-c259-4ae1-8a02-2dd57f030905"
      },
      "execution_count": null,
      "outputs": [
        {
          "output_type": "stream",
          "name": "stdout",
          "text": [
            "For Fuel 1 amount = 26.955, Fuel 2 amount = 0.0, Brake power = 5.2, Heat Input = 16.038225,  Efficiency=32.422540524278716\n",
            "For Fuel 1 amount = 27.12, Fuel 2 amount = 0.0, Brake power = 5.2, Heat Input = 16.136400000000002,  Efficiency=32.2252794923279\n"
          ]
        }
      ]
    },
    {
      "cell_type": "markdown",
      "source": [
        "CNSL"
      ],
      "metadata": {
        "id": "1c5nDuOlg3SV"
      }
    },
    {
      "cell_type": "code",
      "source": [
        "#CNSL\n",
        "fuel_1_range = [16.46,20.11,28.18,18.05,20.49,27.43,41.24,12.81,19.13,8.91,8.37,26.28,33.83,17.658,22.041,27.756,26.955,15.264,18.224,22.4,16.912,18.648,23.429,9.324,11.994,14.682,17.604,21.522,6.909,17.094,20.86,28.042,35.945,13.992,15.432,19.744,24.288,17.776,10.346,12.936,17.85,25.298,30.807,18.891,20.421,12.504,14.92,19.432,22.616,20.848,10.143,12.621,15.365,20.958,10.528,13.944,11.277,12.978,17.031,25.935,11.416,13.968,16.656,9.555,11.963,14.924,20.972,22.008,19.053,23.886,33.264,4.936,12.936,19.376,10.843,12.117,13.272,12.488,16.48,20.584,29.072,10.409,12.425,16.268,24.983,32.508,12.424,14.88,18.272,27.12,11.375,13.811,16.954,25.935]  # Values from 1 to 60 (inclusive)\n",
        "fuel_2_range=[]\n",
        "for i in fuel_1_range:\n",
        "  fuel_2_range.append(i*0)\n",
        " # Values from 1 to 40 (inclusive)\n",
        "calorific_value1 = 35800\n",
        "brake_power = 5.2\n",
        "density1 = 958\n",
        "density2=0\n",
        "calorific_value2=0\n",
        "# Assuming you have the formulas defined as functions, for example:\n",
        "def predict_efficiency(fuel_amount_1, fuel_amount_2, calorific_value1,calorific_value2, brake_power, density1,density2):\n",
        "    # Your formula to calculate efficiency based on the given inputs\n",
        "    mass_of_fuel1 = ((fuel_amount_1  * 0.000001) / 60) * density1\n",
        "    mass_of_fuel2=((fuel_amount_2  * 0.000001) / 60) * density2\n",
        "    heat_input = mass_of_fuel1 * calorific_value1 + mass_of_fuel2 * calorific_value2\n",
        "    efficiency = brake_power / heat_input\n",
        "    return heat_input\n",
        "    # Limit efficiency to a maximum value of 32\n",
        "    efficiency = min(efficiency, 32)\n",
        "\n",
        "    return efficiency\n",
        "\n",
        "# List to store combinations that meet the efficiency criteria\n",
        "efficient_combinations = []\n",
        "\n",
        "# Loop through all combinations of fuel_1 and fuel_2\n",
        "for fuel_amount_1 in fuel_1_range:\n",
        "      # Use the formula-based prediction function to get efficiency\n",
        "      predicted_efficiency = predict_efficiency(fuel_amount_1, fuel_amount_1*0, calorific_value1,calorific_value2 ,brake_power,density1,density2)\n",
        "      \"\"\"if 23 <= predicted_efficiency <= 32:\"\"\"\n",
        "      efficient_combinations.append((fuel_amount_1, fuel_amount_1*0, predicted_efficiency))\n",
        "\n",
        "# Print the combinations that meet the efficiency criteria\n",
        "if efficient_combinations:\n",
        "    for fuel_amount_1, fuel_amount_2, predicted_efficiency in efficient_combinations:\n",
        "        eff=(brake_power/predicted_efficiency)*100\n",
        "        if eff<33 and eff>31.999999999999:\n",
        "          print(f\"For Fuel 1 amount = {fuel_amount_1}, Fuel 2 amount = {fuel_amount_2}, \"\n",
        "                f\"Brake power = {brake_power}, \"\n",
        "                f\"Heat Input = {predicted_efficiency}, \",f\"Efficiency={eff}\")\n",
        "\n",
        "else:\n",
        "    print(\"No combinations meet the efficiency criteria.\")"
      ],
      "metadata": {
        "colab": {
          "base_uri": "https://localhost:8080/"
        },
        "id": "hVzGNfbXfVoW",
        "outputId": "7286f554-5654-4b16-ea3b-79f8c2f7b7c6"
      },
      "execution_count": null,
      "outputs": [
        {
          "output_type": "stream",
          "name": "stdout",
          "text": [
            "For Fuel 1 amount = 28.18, Fuel 2 amount = 0.0, Brake power = 5.2, Heat Input = 16.107875866666664,  Efficiency=32.28234463093165\n",
            "For Fuel 1 amount = 27.756, Fuel 2 amount = 0.0, Brake power = 5.2, Heat Input = 15.865514639999999,  Efficiency=32.77548896453573\n",
            "For Fuel 1 amount = 28.042, Fuel 2 amount = 0.0, Brake power = 5.2, Heat Input = 16.028994146666665,  Efficiency=32.44121217101682\n"
          ]
        }
      ]
    },
    {
      "cell_type": "markdown",
      "source": [
        "CNSOME"
      ],
      "metadata": {
        "id": "ZQXEoOrRhyyA"
      }
    },
    {
      "cell_type": "code",
      "source": [
        "#CNSOME\n",
        "fuel_1_range = [16.46,20.11,28.18,18.05,20.49,27.43,41.24,12.81,19.13,8.91,8.37,26.28,33.83,17.658,22.041,27.756,26.955,15.264,18.224,22.4,16.912,18.648,23.429,9.324,11.994,14.682,17.604,21.522,6.909,17.094,20.86,28.042,35.945,13.992,15.432,19.744,24.288,17.776,10.346,12.936,17.85,25.298,30.807,18.891,20.421,12.504,14.92,19.432,22.616,20.848,10.143,12.621,15.365,20.958,10.528,13.944,11.277,12.978,17.031,25.935,11.416,13.968,16.656,9.555,11.963,14.924,20.972,22.008,19.053,23.886,33.264,4.936,12.936,19.376,10.843,12.117,13.272,12.488,16.48,20.584,29.072,10.409,12.425,16.268,24.983,32.508,12.424,14.88,18.272,27.12,11.375,13.811,16.954,25.935]  # Values from 1 to 60 (inclusive)\n",
        "fuel_2_range=[]\n",
        "for i in fuel_1_range:\n",
        "  fuel_2_range.append(i*0)\n",
        " # Values from 1 to 40 (inclusive)\n",
        "calorific_value1 = 38400\n",
        "brake_power = 5.2\n",
        "density1 = 906.4\n",
        "density2=0\n",
        "calorific_value2=0\n",
        "# Assuming you have the formulas defined as functions, for example:\n",
        "def predict_efficiency(fuel_amount_1, fuel_amount_2, calorific_value1,calorific_value2, brake_power, density1,density2):\n",
        "    # Your formula to calculate efficiency based on the given inputs\n",
        "    mass_of_fuel1 = ((fuel_amount_1  * 0.000001) / 60) * density1\n",
        "    mass_of_fuel2=((fuel_amount_2  * 0.000001) / 60) * density2\n",
        "    heat_input = mass_of_fuel1 * calorific_value1 + mass_of_fuel2 * calorific_value2\n",
        "    efficiency = brake_power / heat_input\n",
        "    return heat_input\n",
        "    # Limit efficiency to a maximum value of 32\n",
        "    efficiency = min(efficiency, 32)\n",
        "\n",
        "    return efficiency\n",
        "\n",
        "# List to store combinations that meet the efficiency criteria\n",
        "efficient_combinations = []\n",
        "\n",
        "# Loop through all combinations of fuel_1 and fuel_2\n",
        "for fuel_amount_1 in fuel_1_range:\n",
        "      # Use the formula-based prediction function to get efficiency\n",
        "      predicted_efficiency = predict_efficiency(fuel_amount_1, fuel_amount_1*0, calorific_value1,calorific_value2 ,brake_power,density1,density2)\n",
        "      \"\"\"if 23 <= predicted_efficiency <= 32:\"\"\"\n",
        "      efficient_combinations.append((fuel_amount_1, fuel_amount_1*0, predicted_efficiency))\n",
        "\n",
        "# Print the combinations that meet the efficiency criteria\n",
        "if efficient_combinations:\n",
        "    for fuel_amount_1, fuel_amount_2, predicted_efficiency in efficient_combinations:\n",
        "        eff=(brake_power/predicted_efficiency)*100\n",
        "        if eff<33 and eff>31.999999999999:\n",
        "          print(f\"For Fuel 1 amount = {fuel_amount_1}, Fuel 2 amount = {fuel_amount_2}, \"\n",
        "                f\"Brake power = {brake_power}, \"\n",
        "                f\"Heat Input = {predicted_efficiency}, \",f\"Efficiency={eff}\")\n",
        "\n",
        "else:\n",
        "    print(\"No combinations meet the efficiency criteria.\")"
      ],
      "metadata": {
        "colab": {
          "base_uri": "https://localhost:8080/"
        },
        "id": "yDOqzI8Hh2yn",
        "outputId": "a34a875e-5aba-4182-900b-27d56673cbf4"
      },
      "execution_count": null,
      "outputs": [
        {
          "output_type": "stream",
          "name": "stdout",
          "text": [
            "For Fuel 1 amount = 27.43, Fuel 2 amount = 0.0, Brake power = 5.2, Heat Input = 15.912033280000001,  Efficiency=32.67967021245446\n",
            "For Fuel 1 amount = 27.756, Fuel 2 amount = 0.0, Brake power = 5.2, Heat Input = 16.101144576,  Efficiency=32.29584068048803\n"
          ]
        }
      ]
    },
    {
      "cell_type": "markdown",
      "source": [
        "Butanol 20"
      ],
      "metadata": {
        "id": "Wf6zSczSiP33"
      }
    },
    {
      "cell_type": "code",
      "source": [
        "#Butano1 20\n",
        "fuel_1_range = [16.46,20.11,28.18,18.05,20.49,27.43,41.24,12.81,19.13,8.91,8.37,26.28,33.83,17.658,22.041,27.756,26.955,15.264,18.224,22.4,16.912,18.648,23.429,9.324,11.994,14.682,17.604,21.522,6.909,17.094,20.86,28.042,35.945,13.992,15.432,19.744,24.288,17.776,10.346,12.936,17.85,25.298,30.807,18.891,20.421,12.504,14.92,19.432,22.616,20.848,10.143,12.621,15.365,20.958,10.528,13.944,11.277,12.978,17.031,25.935,11.416,13.968,16.656,9.555,11.963,14.924,20.972,22.008,19.053,23.886,33.264,4.936,12.936,19.376,10.843,12.117,13.272,12.488,16.48,20.584,29.072,10.409,12.425,16.268,24.983,32.508,12.424,14.88,18.272,27.12,11.375,13.811,16.954,25.935]  # Values from 1 to 60 (inclusive)\n",
        "fuel_2_range=[]\n",
        "for i in fuel_1_range:\n",
        "  fuel_2_range.append(i*0.2)\n",
        " # Values from 1 to 40 (inclusive)\n",
        "calorific_value1 = 35800\n",
        "brake_power = 5.2\n",
        "density1 = 958\n",
        "density2=811.6\n",
        "calorific_value2=33100\n",
        "# Assuming you have the formulas defined as functions, for example:\n",
        "def predict_efficiency(fuel_amount_1, fuel_amount_2, calorific_value1,calorific_value2, brake_power, density1,density2):\n",
        "    # Your formula to calculate efficiency based on the given inputs\n",
        "    mass_of_fuel1 = ((fuel_amount_1  * 0.000001) / 60) * density1\n",
        "    mass_of_fuel2=((fuel_amount_2  * 0.000001) / 60) * density2\n",
        "    heat_input = mass_of_fuel1 * calorific_value1 + mass_of_fuel2 * calorific_value2\n",
        "    efficiency = brake_power / heat_input\n",
        "    return heat_input\n",
        "    # Limit efficiency to a maximum value of 32\n",
        "    efficiency = min(efficiency, 32)\n",
        "\n",
        "    return efficiency\n",
        "\n",
        "# List to store combinations that meet the efficiency criteria\n",
        "efficient_combinations = []\n",
        "\n",
        "# Loop through all combinations of fuel_1 and fuel_2\n",
        "for fuel_amount_1 in fuel_1_range:\n",
        "      # Use the formula-based prediction function to get efficiency\n",
        "      predicted_efficiency = predict_efficiency(fuel_amount_1, fuel_amount_1*0.2, calorific_value1,calorific_value2 ,brake_power,density1,density2)\n",
        "      \"\"\"if 23 <= predicted_efficiency <= 32:\"\"\"\n",
        "      efficient_combinations.append((fuel_amount_1, fuel_amount_1*0.2, predicted_efficiency))\n",
        "\n",
        "# Print the combinations that meet the efficiency criteria\n",
        "if efficient_combinations:\n",
        "    for fuel_amount_1, fuel_amount_2, predicted_efficiency in efficient_combinations:\n",
        "        eff=(brake_power/predicted_efficiency)*100\n",
        "        if eff<33 and eff>31.999999999999:\n",
        "          print(f\"For Fuel 1 amount = {fuel_amount_1}, Fuel 2 amount = {fuel_amount_2}, \"\n",
        "                f\"Brake power = {brake_power}, \"\n",
        "                f\"Heat Input = {predicted_efficiency}, \",f\"Efficiency={eff}\")\n",
        "\n",
        "else:\n",
        "    print(\"No combinations meet the efficiency criteria.\")"
      ],
      "metadata": {
        "colab": {
          "base_uri": "https://localhost:8080/"
        },
        "id": "I0Ay90lWiRvS",
        "outputId": "04f87787-dd5c-4bb8-82d3-567f78c3b1ad"
      },
      "execution_count": null,
      "outputs": [
        {
          "output_type": "stream",
          "name": "stdout",
          "text": [
            "For Fuel 1 amount = 24.288, Fuel 2 amount = 4.857600000000001, Brake power = 5.2, Heat Input = 16.0580889216,  Efficiency=32.38243370919061\n",
            "For Fuel 1 amount = 23.886, Fuel 2 amount = 4.7772, Brake power = 5.2, Heat Input = 15.792305335199998,  Efficiency=32.92742819763968\n"
          ]
        }
      ]
    },
    {
      "cell_type": "markdown",
      "source": [
        "Butanol 30"
      ],
      "metadata": {
        "id": "9_g4cYAPibaj"
      }
    },
    {
      "cell_type": "code",
      "source": [
        "#Butano1 30\n",
        "fuel_1_range = [16.46,20.11,28.18,18.05,20.49,27.43,41.24,12.81,19.13,8.91,8.37,26.28,33.83,17.658,22.041,27.756,26.955,15.264,18.224,22.4,16.912,18.648,23.429,9.324,11.994,14.682,17.604,21.522,6.909,17.094,20.86,28.042,35.945,13.992,15.432,19.744,24.288,17.776,10.346,12.936,17.85,25.298,30.807,18.891,20.421,12.504,14.92,19.432,22.616,20.848,10.143,12.621,15.365,20.958,10.528,13.944,11.277,12.978,17.031,25.935,11.416,13.968,16.656,9.555,11.963,14.924,20.972,22.008,19.053,23.886,33.264,4.936,12.936,19.376,10.843,12.117,13.272,12.488,16.48,20.584,29.072,10.409,12.425,16.268,24.983,32.508,12.424,14.88,18.272,27.12,11.375,13.811,16.954,25.935]  # Values from 1 to 60 (inclusive)\n",
        "fuel_2_range=[]\n",
        "for i in fuel_1_range:\n",
        "  fuel_2_range.append(i*0.3)\n",
        " # Values from 1 to 40 (inclusive)\n",
        "calorific_value1 = 35800\n",
        "brake_power = 5.2\n",
        "density1 = 958\n",
        "density2=811.6\n",
        "calorific_value2=33100\n",
        "# Assuming you have the formulas defined as functions, for example:\n",
        "def predict_efficiency(fuel_amount_1, fuel_amount_2, calorific_value1,calorific_value2, brake_power, density1,density2):\n",
        "    # Your formula to calculate efficiency based on the given inputs\n",
        "    mass_of_fuel1 = ((fuel_amount_1  * 0.000001) / 60) * density1\n",
        "    mass_of_fuel2=((fuel_amount_2  * 0.000001) / 60) * density2\n",
        "    heat_input = mass_of_fuel1 * calorific_value1 + mass_of_fuel2 * calorific_value2\n",
        "    efficiency = brake_power / heat_input\n",
        "    return heat_input\n",
        "    # Limit efficiency to a maximum value of 32\n",
        "    efficiency = min(efficiency, 32)\n",
        "\n",
        "    return efficiency\n",
        "\n",
        "# List to store combinations that meet the efficiency criteria\n",
        "efficient_combinations = []\n",
        "\n",
        "# Loop through all combinations of fuel_1 and fuel_2\n",
        "for fuel_amount_1 in fuel_1_range:\n",
        "      # Use the formula-based prediction function to get efficiency\n",
        "      predicted_efficiency = predict_efficiency(fuel_amount_1, fuel_amount_1*0.3, calorific_value1,calorific_value2 ,brake_power,density1,density2)\n",
        "      \"\"\"if 23 <= predicted_efficiency <= 32:\"\"\"\n",
        "      efficient_combinations.append((fuel_amount_1, fuel_amount_1*0.3, predicted_efficiency))\n",
        "\n",
        "# Print the combinations that meet the efficiency criteria\n",
        "if efficient_combinations:\n",
        "    for fuel_amount_1, fuel_amount_2, predicted_efficiency in efficient_combinations:\n",
        "        eff=(brake_power/predicted_efficiency)*100\n",
        "        if eff<33 and eff>31.999999999999:\n",
        "          print(f\"For Fuel 1 amount = {fuel_amount_1}, Fuel 2 amount = {fuel_amount_2}, \"\n",
        "                f\"Brake power = {brake_power}, \"\n",
        "                f\"Heat Input = {predicted_efficiency}, \",f\"Efficiency={eff}\")\n",
        "\n",
        "else:\n",
        "    print(\"No combinations meet the efficiency criteria.\")"
      ],
      "metadata": {
        "colab": {
          "base_uri": "https://localhost:8080/"
        },
        "id": "T57t8r1pidBS",
        "outputId": "df9a4f4e-9553-46a0-dd6c-99970075da4f"
      },
      "execution_count": null,
      "outputs": [
        {
          "output_type": "stream",
          "name": "stdout",
          "text": [
            "For Fuel 1 amount = 22.4, Fuel 2 amount = 6.72, Brake power = 5.2, Heat Input = 15.812752853333333,  Efficiency=32.88484964149578\n",
            "For Fuel 1 amount = 22.616, Fuel 2 amount = 6.7848, Brake power = 5.2, Heat Input = 15.965232970133332,  Efficiency=32.570774317717785\n"
          ]
        }
      ]
    },
    {
      "cell_type": "markdown",
      "source": [
        "Butanol 40"
      ],
      "metadata": {
        "id": "wMaOZrQOii9-"
      }
    },
    {
      "cell_type": "code",
      "source": [
        "#Butano1 40\n",
        "fuel_1_range = [16.46,20.11,28.18,18.05,20.49,27.43,41.24,12.81,19.13,8.91,8.37,26.28,33.83,17.658,22.041,27.756,26.955,15.264,18.224,22.4,16.912,18.648,23.429,9.324,11.994,14.682,17.604,21.522,6.909,17.094,20.86,28.042,35.945,13.992,15.432,19.744,24.288,17.776,10.346,12.936,17.85,25.298,30.807,18.891,20.421,12.504,14.92,19.432,22.616,20.848,10.143,12.621,15.365,20.958,10.528,13.944,11.277,12.978,17.031,25.935,11.416,13.968,16.656,9.555,11.963,14.924,20.972,22.008,19.053,23.886,33.264,4.936,12.936,19.376,10.843,12.117,13.272,12.488,16.48,20.584,29.072,10.409,12.425,16.268,24.983,32.508,12.424,14.88,18.272,27.12,11.375,13.811,16.954,25.935]  # Values from 1 to 60 (inclusive)\n",
        "fuel_2_range=[]\n",
        "for i in fuel_1_range:\n",
        "  fuel_2_range.append(i*0.4)\n",
        " # Values from 1 to 40 (inclusive)\n",
        "calorific_value1 = 35800\n",
        "brake_power = 5.2\n",
        "density1 = 958\n",
        "density2=811.6\n",
        "calorific_value2=33100\n",
        "# Assuming you have the formulas defined as functions, for example:\n",
        "def predict_efficiency(fuel_amount_1, fuel_amount_2, calorific_value1,calorific_value2, brake_power, density1,density2):\n",
        "    # Your formula to calculate efficiency based on the given inputs\n",
        "    mass_of_fuel1 = ((fuel_amount_1  * 0.000001) / 60) * density1\n",
        "    mass_of_fuel2=((fuel_amount_2  * 0.000001) / 60) * density2\n",
        "    heat_input = mass_of_fuel1 * calorific_value1 + mass_of_fuel2 * calorific_value2\n",
        "    efficiency = brake_power / heat_input\n",
        "    return heat_input\n",
        "    # Limit efficiency to a maximum value of 32\n",
        "    efficiency = min(efficiency, 32)\n",
        "\n",
        "    return efficiency\n",
        "\n",
        "# List to store combinations that meet the efficiency criteria\n",
        "efficient_combinations = []\n",
        "\n",
        "# Loop through all combinations of fuel_1 and fuel_2\n",
        "for fuel_amount_1 in fuel_1_range:\n",
        "      # Use the formula-based prediction function to get efficiency\n",
        "      predicted_efficiency = predict_efficiency(fuel_amount_1, fuel_amount_1*0.4, calorific_value1,calorific_value2 ,brake_power,density1,density2)\n",
        "      \"\"\"if 23 <= predicted_efficiency <= 32:\"\"\"\n",
        "      efficient_combinations.append((fuel_amount_1, fuel_amount_1*0.4, predicted_efficiency))\n",
        "\n",
        "# Print the combinations that meet the efficiency criteria\n",
        "if efficient_combinations:\n",
        "    for fuel_amount_1, fuel_amount_2, predicted_efficiency in efficient_combinations:\n",
        "        eff=(brake_power/predicted_efficiency)*100\n",
        "        if eff<33 and eff>31.999999999999:\n",
        "          print(f\"For Fuel 1 amount = {fuel_amount_1}, Fuel 2 amount = {fuel_amount_2}, \"\n",
        "                f\"Brake power = {brake_power}, \"\n",
        "                f\"Heat Input = {predicted_efficiency}, \",f\"Efficiency={eff}\")\n",
        "\n",
        "else:\n",
        "    print(\"No combinations meet the efficiency criteria.\")"
      ],
      "metadata": {
        "colab": {
          "base_uri": "https://localhost:8080/"
        },
        "id": "tqPN0vPviiiD",
        "outputId": "e471845d-dda0-413a-9786-1b5540729050"
      },
      "execution_count": null,
      "outputs": [
        {
          "output_type": "stream",
          "name": "stdout",
          "text": [
            "For Fuel 1 amount = 21.522, Fuel 2 amount = 8.6088, Brake power = 5.2, Heat Input = 16.1565596608,  Efficiency=32.18506977457922\n"
          ]
        }
      ]
    },
    {
      "cell_type": "markdown",
      "source": [
        "Methanol 10"
      ],
      "metadata": {
        "id": "ibMrKAZuiuS6"
      }
    },
    {
      "cell_type": "code",
      "source": [
        "#Methano1 10\n",
        "fuel_1_range = [16.46,20.11,28.18,18.05,20.49,27.43,41.24,12.81,19.13,8.91,8.37,26.28,33.83,17.658,22.041,27.756,26.955,15.264,18.224,22.4,16.912,18.648,23.429,9.324,11.994,14.682,17.604,21.522,6.909,17.094,20.86,28.042,35.945,13.992,15.432,19.744,24.288,17.776,10.346,12.936,17.85,25.298,30.807,18.891,20.421,12.504,14.92,19.432,22.616,20.848,10.143,12.621,15.365,20.958,10.528,13.944,11.277,12.978,17.031,25.935,11.416,13.968,16.656,9.555,11.963,14.924,20.972,22.008,19.053,23.886,33.264,4.936,12.936,19.376,10.843,12.117,13.272,12.488,16.48,20.584,29.072,10.409,12.425,16.268,24.983,32.508,12.424,14.88,18.272,27.12,11.375,13.811,16.954,25.935]  # Values from 1 to 60 (inclusive)\n",
        "fuel_2_range=[]\n",
        "for i in fuel_1_range:\n",
        "  fuel_2_range.append(i*0.1)\n",
        " # Values from 1 to 40 (inclusive)\n",
        "calorific_value1 = 35800\n",
        "brake_power = 5.2\n",
        "density1 = 958\n",
        "density2=776\n",
        "calorific_value2=20000\n",
        "# Assuming you have the formulas defined as functions, for example:\n",
        "def predict_efficiency(fuel_amount_1, fuel_amount_2, calorific_value1,calorific_value2, brake_power, density1,density2):\n",
        "    # Your formula to calculate efficiency based on the given inputs\n",
        "    mass_of_fuel1 = ((fuel_amount_1  * 0.000001) / 60) * density1\n",
        "    mass_of_fuel2=((fuel_amount_2  * 0.000001) / 60) * density2\n",
        "    heat_input = mass_of_fuel1 * calorific_value1 + mass_of_fuel2 * calorific_value2\n",
        "    efficiency = brake_power / heat_input\n",
        "    return heat_input\n",
        "    # Limit efficiency to a maximum value of 32\n",
        "    efficiency = min(efficiency, 32)\n",
        "\n",
        "    return efficiency\n",
        "\n",
        "# List to store combinations that meet the efficiency criteria\n",
        "efficient_combinations = []\n",
        "\n",
        "# Loop through all combinations of fuel_1 and fuel_2\n",
        "for fuel_amount_1 in fuel_1_range:\n",
        "      # Use the formula-based prediction function to get efficiency\n",
        "      predicted_efficiency = predict_efficiency(fuel_amount_1, fuel_amount_1*0.1, calorific_value1,calorific_value2 ,brake_power,density1,density2)\n",
        "      \"\"\"if 23 <= predicted_efficiency <= 32:\"\"\"\n",
        "      efficient_combinations.append((fuel_amount_1, fuel_amount_1*0.1, predicted_efficiency))\n",
        "\n",
        "# Print the combinations that meet the efficiency criteria\n",
        "if efficient_combinations:\n",
        "    for fuel_amount_1, fuel_amount_2, predicted_efficiency in efficient_combinations:\n",
        "        eff=(brake_power/predicted_efficiency)*100\n",
        "        if eff<33 and eff>31.999999999999:\n",
        "          print(f\"For Fuel 1 amount = {fuel_amount_1}, Fuel 2 amount = {fuel_amount_2}, \"\n",
        "                f\"Brake power = {brake_power}, \"\n",
        "                f\"Heat Input = {predicted_efficiency}, \",f\"Efficiency={eff}\")\n",
        "\n",
        "else:\n",
        "    print(\"No combinations meet the efficiency criteria.\")"
      ],
      "metadata": {
        "colab": {
          "base_uri": "https://localhost:8080/"
        },
        "id": "-KGWN_Lyi0t7",
        "outputId": "929343fb-06cd-4e66-eb2f-670d05b87050"
      },
      "execution_count": null,
      "outputs": [
        {
          "output_type": "stream",
          "name": "stdout",
          "text": [
            "For Fuel 1 amount = 26.955, Fuel 2 amount = 2.6955, Brake power = 5.2, Heat Input = 16.104893699999998,  Efficiency=32.28832239979331\n",
            "For Fuel 1 amount = 27.12, Fuel 2 amount = 2.712, Brake power = 5.2, Heat Input = 16.2034768,  Efficiency=32.09187796041403\n"
          ]
        }
      ]
    },
    {
      "cell_type": "markdown",
      "source": [
        "Methanol 20"
      ],
      "metadata": {
        "id": "04ltKI49jL3e"
      }
    },
    {
      "cell_type": "code",
      "source": [
        "#Methano1 20\n",
        "fuel_1_range = [16.46,20.11,28.18,18.05,20.49,27.43,41.24,12.81,19.13,8.91,8.37,26.28,33.83,17.658,22.041,27.756,26.955,15.264,18.224,22.4,16.912,18.648,23.429,9.324,11.994,14.682,17.604,21.522,6.909,17.094,20.86,28.042,35.945,13.992,15.432,19.744,24.288,17.776,10.346,12.936,17.85,25.298,30.807,18.891,20.421,12.504,14.92,19.432,22.616,20.848,10.143,12.621,15.365,20.958,10.528,13.944,11.277,12.978,17.031,25.935,11.416,13.968,16.656,9.555,11.963,14.924,20.972,22.008,19.053,23.886,33.264,4.936,12.936,19.376,10.843,12.117,13.272,12.488,16.48,20.584,29.072,10.409,12.425,16.268,24.983,32.508,12.424,14.88,18.272,27.12,11.375,13.811,16.954,25.935]  # Values from 1 to 60 (inclusive)\n",
        "fuel_2_range=[]\n",
        "for i in fuel_1_range:\n",
        "  fuel_2_range.append(i*0.2)\n",
        " # Values from 1 to 40 (inclusive)\n",
        "calorific_value1 = 35800\n",
        "brake_power = 5.2\n",
        "density1 = 958\n",
        "density2=776\n",
        "calorific_value2=20000\n",
        "# Assuming you have the formulas defined as functions, for example:\n",
        "def predict_efficiency(fuel_amount_1, fuel_amount_2, calorific_value1,calorific_value2, brake_power, density1,density2):\n",
        "    # Your formula to calculate efficiency based on the given inputs\n",
        "    mass_of_fuel1 = ((fuel_amount_1  * 0.000001) / 60) * density1\n",
        "    mass_of_fuel2=((fuel_amount_2  * 0.000001) / 60) * density2\n",
        "    heat_input = mass_of_fuel1 * calorific_value1 + mass_of_fuel2 * calorific_value2\n",
        "    efficiency = brake_power / heat_input\n",
        "    return heat_input\n",
        "    # Limit efficiency to a maximum value of 32\n",
        "    efficiency = min(efficiency, 32)\n",
        "\n",
        "    return efficiency\n",
        "\n",
        "# List to store combinations that meet the efficiency criteria\n",
        "efficient_combinations = []\n",
        "\n",
        "# Loop through all combinations of fuel_1 and fuel_2\n",
        "for fuel_amount_1 in fuel_1_range:\n",
        "      # Use the formula-based prediction function to get efficiency\n",
        "      predicted_efficiency = predict_efficiency(fuel_amount_1, fuel_amount_1*0.2, calorific_value1,calorific_value2 ,brake_power,density1,density2)\n",
        "      \"\"\"if 23 <= predicted_efficiency <= 32:\"\"\"\n",
        "      efficient_combinations.append((fuel_amount_1, fuel_amount_1*0.2, predicted_efficiency))\n",
        "\n",
        "# Print the combinations that meet the efficiency criteria\n",
        "if efficient_combinations:\n",
        "    for fuel_amount_1, fuel_amount_2, predicted_efficiency in efficient_combinations:\n",
        "        eff=(brake_power/predicted_efficiency)*100\n",
        "        if eff<33 and eff>31.999999999999:\n",
        "          print(f\"For Fuel 1 amount = {fuel_amount_1}, Fuel 2 amount = {fuel_amount_2}, \"\n",
        "                f\"Brake power = {brake_power}, \"\n",
        "                f\"Heat Input = {predicted_efficiency}, \",f\"Efficiency={eff}\")\n",
        "\n",
        "else:\n",
        "    print(\"No combinations meet the efficiency criteria.\")"
      ],
      "metadata": {
        "colab": {
          "base_uri": "https://localhost:8080/"
        },
        "id": "fAYCf69VjOhs",
        "outputId": "e542daeb-4808-4bf9-e90a-4b53028f10fa"
      },
      "execution_count": null,
      "outputs": [
        {
          "output_type": "stream",
          "name": "stdout",
          "text": [
            "For Fuel 1 amount = 25.298, Fuel 2 amount = 5.0596, Brake power = 5.2, Heat Input = 15.769255319999996,  Efficiency=32.975558417174526\n",
            "For Fuel 1 amount = 25.935, Fuel 2 amount = 5.187, Brake power = 5.2, Heat Input = 16.166322899999997,  Efficiency=32.16563242096322\n",
            "For Fuel 1 amount = 25.935, Fuel 2 amount = 5.187, Brake power = 5.2, Heat Input = 16.166322899999997,  Efficiency=32.16563242096322\n"
          ]
        }
      ]
    },
    {
      "cell_type": "markdown",
      "source": [
        "Methanol 30"
      ],
      "metadata": {
        "id": "4wuocD36jj5N"
      }
    },
    {
      "cell_type": "code",
      "source": [
        "#Methano1 30\n",
        "fuel_1_range = [16.46,20.11,28.18,18.05,20.49,27.43,41.24,12.81,19.13,8.91,8.37,26.28,33.83,17.658,22.041,27.756,26.955,15.264,18.224,22.4,16.912,18.648,23.429,9.324,11.994,14.682,17.604,21.522,6.909,17.094,20.86,28.042,35.945,13.992,15.432,19.744,24.288,17.776,10.346,12.936,17.85,25.298,30.807,18.891,20.421,12.504,14.92,19.432,22.616,20.848,10.143,12.621,15.365,20.958,10.528,13.944,11.277,12.978,17.031,25.935,11.416,13.968,16.656,9.555,11.963,14.924,20.972,22.008,19.053,23.886,33.264,4.936,12.936,19.376,10.843,12.117,13.272,12.488,16.48,20.584,29.072,10.409,12.425,16.268,24.983,32.508,12.424,14.88,18.272,27.12,11.375,13.811,16.954,25.935]  # Values from 1 to 60 (inclusive)\n",
        "fuel_2_range=[]\n",
        "for i in fuel_1_range:\n",
        "  fuel_2_range.append(i*0.3)\n",
        " # Values from 1 to 40 (inclusive)\n",
        "calorific_value1 = 35800\n",
        "brake_power = 5.2\n",
        "density1 = 958\n",
        "density2=776\n",
        "calorific_value2=20000\n",
        "# Assuming you have the formulas defined as functions, for example:\n",
        "def predict_efficiency(fuel_amount_1, fuel_amount_2, calorific_value1,calorific_value2, brake_power, density1,density2):\n",
        "    # Your formula to calculate efficiency based on the given inputs\n",
        "    mass_of_fuel1 = ((fuel_amount_1  * 0.000001) / 60) * density1\n",
        "    mass_of_fuel2=((fuel_amount_2  * 0.000001) / 60) * density2\n",
        "    heat_input = mass_of_fuel1 * calorific_value1 + mass_of_fuel2 * calorific_value2\n",
        "    efficiency = brake_power / heat_input\n",
        "    return heat_input\n",
        "    # Limit efficiency to a maximum value of 32\n",
        "    efficiency = min(efficiency, 32)\n",
        "\n",
        "    return efficiency\n",
        "\n",
        "# List to store combinations that meet the efficiency criteria\n",
        "efficient_combinations = []\n",
        "\n",
        "# Loop through all combinations of fuel_1 and fuel_2\n",
        "for fuel_amount_1 in fuel_1_range:\n",
        "      # Use the formula-based prediction function to get efficiency\n",
        "      predicted_efficiency = predict_efficiency(fuel_amount_1, fuel_amount_1*0.3, calorific_value1,calorific_value2 ,brake_power,density1,density2)\n",
        "      \"\"\"if 23 <= predicted_efficiency <= 32:\"\"\"\n",
        "      efficient_combinations.append((fuel_amount_1, fuel_amount_1*0.3, predicted_efficiency))\n",
        "\n",
        "# Print the combinations that meet the efficiency criteria\n",
        "if efficient_combinations:\n",
        "    for fuel_amount_1, fuel_amount_2, predicted_efficiency in efficient_combinations:\n",
        "        eff=(brake_power/predicted_efficiency)*100\n",
        "        if eff<33 and eff>31.999999999999:\n",
        "          print(f\"For Fuel 1 amount = {fuel_amount_1}, Fuel 2 amount = {fuel_amount_2}, \"\n",
        "                f\"Brake power = {brake_power}, \"\n",
        "                f\"Heat Input = {predicted_efficiency}, \",f\"Efficiency={eff}\")\n",
        "\n",
        "else:\n",
        "    print(\"No combinations meet the efficiency criteria.\")"
      ],
      "metadata": {
        "colab": {
          "base_uri": "https://localhost:8080/"
        },
        "id": "cURUBia5jmRj",
        "outputId": "258a2f71-9ffe-4e9e-9b1f-d25368c490f2"
      },
      "execution_count": null,
      "outputs": [
        {
          "output_type": "stream",
          "name": "stdout",
          "text": [
            "For Fuel 1 amount = 24.288, Fuel 2 amount = 7.2863999999999995, Brake power = 5.2, Heat Input = 15.76793152,  Efficiency=32.978326887102064\n",
            "For Fuel 1 amount = 24.983, Fuel 2 amount = 7.4948999999999995, Brake power = 5.2, Heat Input = 16.21913015333333,  Efficiency=32.06090555313352\n"
          ]
        }
      ]
    },
    {
      "cell_type": "markdown",
      "source": [
        "Methanol 40"
      ],
      "metadata": {
        "id": "_nYJAbHzjtmt"
      }
    },
    {
      "cell_type": "code",
      "source": [
        "#Methano1 40\n",
        "fuel_1_range = [16.46,20.11,28.18,18.05,20.49,27.43,41.24,12.81,19.13,8.91,8.37,26.28,33.83,17.658,22.041,27.756,26.955,15.264,18.224,22.4,16.912,18.648,23.429,9.324,11.994,14.682,17.604,21.522,6.909,17.094,20.86,28.042,35.945,13.992,15.432,19.744,24.288,17.776,10.346,12.936,17.85,25.298,30.807,18.891,20.421,12.504,14.92,19.432,22.616,20.848,10.143,12.621,15.365,20.958,10.528,13.944,11.277,12.978,17.031,25.935,11.416,13.968,16.656,9.555,11.963,14.924,20.972,22.008,19.053,23.886,33.264,4.936,12.936,19.376,10.843,12.117,13.272,12.488,16.48,20.584,29.072,10.409,12.425,16.268,24.983,32.508,12.424,14.88,18.272,27.12,11.375,13.811,16.954,25.935]  # Values from 1 to 60 (inclusive)\n",
        "fuel_2_range=[]\n",
        "for i in fuel_1_range:\n",
        "  fuel_2_range.append(i*0.4)\n",
        " # Values from 1 to 40 (inclusive)\n",
        "calorific_value1 = 35800\n",
        "brake_power = 5.2\n",
        "density1 = 958\n",
        "density2=776\n",
        "calorific_value2=20000\n",
        "# Assuming you have the formulas defined as functions, for example:\n",
        "def predict_efficiency(fuel_amount_1, fuel_amount_2, calorific_value1,calorific_value2, brake_power, density1,density2):\n",
        "    # Your formula to calculate efficiency based on the given inputs\n",
        "    mass_of_fuel1 = ((fuel_amount_1  * 0.000001) / 60) * density1\n",
        "    mass_of_fuel2=((fuel_amount_2  * 0.000001) / 60) * density2\n",
        "    heat_input = mass_of_fuel1 * calorific_value1 + mass_of_fuel2 * calorific_value2\n",
        "    efficiency = brake_power / heat_input\n",
        "    return heat_input\n",
        "    # Limit efficiency to a maximum value of 32\n",
        "    efficiency = min(efficiency, 32)\n",
        "\n",
        "    return efficiency\n",
        "\n",
        "# List to store combinations that meet the efficiency criteria\n",
        "efficient_combinations = []\n",
        "\n",
        "# Loop through all combinations of fuel_1 and fuel_2\n",
        "for fuel_amount_1 in fuel_1_range:\n",
        "      # Use the formula-based prediction function to get efficiency\n",
        "      predicted_efficiency = predict_efficiency(fuel_amount_1, fuel_amount_1*0.4, calorific_value1,calorific_value2 ,brake_power,density1,density2)\n",
        "      \"\"\"if 23 <= predicted_efficiency <= 32:\"\"\"\n",
        "      efficient_combinations.append((fuel_amount_1, fuel_amount_1*0.4, predicted_efficiency))\n",
        "\n",
        "# Print the combinations that meet the efficiency criteria\n",
        "if efficient_combinations:\n",
        "    for fuel_amount_1, fuel_amount_2, predicted_efficiency in efficient_combinations:\n",
        "        eff=(brake_power/predicted_efficiency)*100\n",
        "        if eff<33 and eff>31.999999999999:\n",
        "          print(f\"For Fuel 1 amount = {fuel_amount_1}, Fuel 2 amount = {fuel_amount_2}, \"\n",
        "                f\"Brake power = {brake_power}, \"\n",
        "                f\"Heat Input = {predicted_efficiency}, \",f\"Efficiency={eff}\")\n",
        "\n",
        "else:\n",
        "    print(\"No combinations meet the efficiency criteria.\")"
      ],
      "metadata": {
        "colab": {
          "base_uri": "https://localhost:8080/"
        },
        "id": "2mz3VkcHjwhY",
        "outputId": "499c736d-4e56-46a3-817c-2f0fd6d809da"
      },
      "execution_count": null,
      "outputs": [
        {
          "output_type": "stream",
          "name": "stdout",
          "text": [
            "For Fuel 1 amount = 23.429, Fuel 2 amount = 9.371599999999999, Brake power = 5.2, Heat Input = 15.816293126666666,  Efficiency=32.87748879181222\n",
            "For Fuel 1 amount = 23.886, Fuel 2 amount = 9.5544, Brake power = 5.2, Heat Input = 16.124801639999998,  Efficiency=32.248458716543944\n"
          ]
        }
      ]
    },
    {
      "cell_type": "markdown",
      "source": [
        "COCO 10"
      ],
      "metadata": {
        "id": "4beYRhOTj26W"
      }
    },
    {
      "cell_type": "code",
      "source": [
        "#COCO 10\n",
        "fuel_1_range = [16.46,20.11,28.18,18.05,20.49,27.43,41.24,12.81,19.13,8.91,8.37,26.28,33.83,17.658,22.041,27.756,26.955,15.264,18.224,22.4,16.912,18.648,23.429,9.324,11.994,14.682,17.604,21.522,6.909,17.094,20.86,28.042,35.945,13.992,15.432,19.744,24.288,17.776,10.346,12.936,17.85,25.298,30.807,18.891,20.421,12.504,14.92,19.432,22.616,20.848,10.143,12.621,15.365,20.958,10.528,13.944,11.277,12.978,17.031,25.935,11.416,13.968,16.656,9.555,11.963,14.924,20.972,22.008,19.053,23.886,33.264,4.936,12.936,19.376,10.843,12.117,13.272,12.488,16.48,20.584,29.072,10.409,12.425,16.268,24.983,32.508,12.424,14.88,18.272,27.12,11.375,13.811,16.954,25.935]  # Values from 1 to 60 (inclusive)\n",
        "fuel_2_range=[]\n",
        "for i in fuel_1_range:\n",
        "  fuel_2_range.append(i*0.1)\n",
        " # Values from 1 to 40 (inclusive)\n",
        "calorific_value1 = 35800\n",
        "brake_power = 5.2\n",
        "density1 = 958\n",
        "density2=915.1\n",
        "calorific_value2=37100\n",
        "# Assuming you have the formulas defined as functions, for example:\n",
        "def predict_efficiency(fuel_amount_1, fuel_amount_2, calorific_value1,calorific_value2, brake_power, density1,density2):\n",
        "    # Your formula to calculate efficiency based on the given inputs\n",
        "    mass_of_fuel1 = ((fuel_amount_1  * 0.000001) / 60) * density1\n",
        "    mass_of_fuel2=((fuel_amount_2  * 0.000001) / 60) * density2\n",
        "    heat_input = mass_of_fuel1 * calorific_value1 + mass_of_fuel2 * calorific_value2\n",
        "    efficiency = brake_power / heat_input\n",
        "    return heat_input\n",
        "    # Limit efficiency to a maximum value of 32\n",
        "    efficiency = min(efficiency, 32)\n",
        "\n",
        "    return efficiency\n",
        "\n",
        "# List to store combinations that meet the efficiency criteria\n",
        "efficient_combinations = []\n",
        "\n",
        "# Loop through all combinations of fuel_1 and fuel_2\n",
        "for fuel_amount_1 in fuel_1_range:\n",
        "      # Use the formula-based prediction function to get efficiency\n",
        "      predicted_efficiency = predict_efficiency(fuel_amount_1, fuel_amount_1*0.1, calorific_value1,calorific_value2 ,brake_power,density1,density2)\n",
        "      \"\"\"if 23 <= predicted_efficiency <= 32:\"\"\"\n",
        "      efficient_combinations.append((fuel_amount_1, fuel_amount_1*0.1, predicted_efficiency))\n",
        "\n",
        "# Print the combinations that meet the efficiency criteria\n",
        "if efficient_combinations:\n",
        "    for fuel_amount_1, fuel_amount_2, predicted_efficiency in efficient_combinations:\n",
        "        eff=(brake_power/predicted_efficiency)*100\n",
        "        if eff<33 and eff>31.999999999999:\n",
        "          print(f\"For Fuel 1 amount = {fuel_amount_1}, Fuel 2 amount = {fuel_amount_2}, \"\n",
        "                f\"Brake power = {brake_power}, \"\n",
        "                f\"Heat Input = {predicted_efficiency}, \",f\"Efficiency={eff}\")\n",
        "\n",
        "else:\n",
        "    print(\"No combinations meet the efficiency criteria.\")"
      ],
      "metadata": {
        "colab": {
          "base_uri": "https://localhost:8080/"
        },
        "id": "wvg9H-vdj__E",
        "outputId": "5f36b955-ed36-47e8-bd7b-0625915c5601"
      },
      "execution_count": null,
      "outputs": [
        {
          "output_type": "stream",
          "name": "stdout",
          "text": [
            "For Fuel 1 amount = 25.298, Fuel 2 amount = 2.5298, Brake power = 5.2, Heat Input = 15.891959474299997,  Efficiency=32.720949285135575\n"
          ]
        }
      ]
    },
    {
      "cell_type": "markdown",
      "source": [
        "COCO 20"
      ],
      "metadata": {
        "id": "5hlRSS50j3jX"
      }
    },
    {
      "cell_type": "code",
      "source": [
        "#COCO 20\n",
        "fuel_1_range = [16.46,20.11,28.18,18.05,20.49,27.43,41.24,12.81,19.13,8.91,8.37,26.28,33.83,17.658,22.041,27.756,26.955,15.264,18.224,22.4,16.912,18.648,23.429,9.324,11.994,14.682,17.604,21.522,6.909,17.094,20.86,28.042,35.945,13.992,15.432,19.744,24.288,17.776,10.346,12.936,17.85,25.298,30.807,18.891,20.421,12.504,14.92,19.432,22.616,20.848,10.143,12.621,15.365,20.958,10.528,13.944,11.277,12.978,17.031,25.935,11.416,13.968,16.656,9.555,11.963,14.924,20.972,22.008,19.053,23.886,33.264,4.936,12.936,19.376,10.843,12.117,13.272,12.488,16.48,20.584,29.072,10.409,12.425,16.268,24.983,32.508,12.424,14.88,18.272,27.12,11.375,13.811,16.954,25.935]  # Values from 1 to 60 (inclusive)\n",
        "fuel_2_range=[]\n",
        "for i in fuel_1_range:\n",
        "  fuel_2_range.append(i*0.2)\n",
        " # Values from 1 to 40 (inclusive)\n",
        "calorific_value1 = 35800\n",
        "brake_power = 5.2\n",
        "density1 = 958\n",
        "density2=915.1\n",
        "calorific_value2=37100\n",
        "# Assuming you have the formulas defined as functions, for example:\n",
        "def predict_efficiency(fuel_amount_1, fuel_amount_2, calorific_value1,calorific_value2, brake_power, density1,density2):\n",
        "    # Your formula to calculate efficiency based on the given inputs\n",
        "    mass_of_fuel1 = ((fuel_amount_1  * 0.000001) / 60) * density1\n",
        "    mass_of_fuel2=((fuel_amount_2  * 0.000001) / 60) * density2\n",
        "    heat_input = mass_of_fuel1 * calorific_value1 + mass_of_fuel2 * calorific_value2\n",
        "    efficiency = brake_power / heat_input\n",
        "    return heat_input\n",
        "    # Limit efficiency to a maximum value of 32\n",
        "    efficiency = min(efficiency, 32)\n",
        "\n",
        "    return efficiency\n",
        "\n",
        "# List to store combinations that meet the efficiency criteria\n",
        "efficient_combinations = []\n",
        "\n",
        "# Loop through all combinations of fuel_1 and fuel_2\n",
        "for fuel_amount_1 in fuel_1_range:\n",
        "      # Use the formula-based prediction function to get efficiency\n",
        "      predicted_efficiency = predict_efficiency(fuel_amount_1, fuel_amount_1*0.2, calorific_value1,calorific_value2 ,brake_power,density1,density2)\n",
        "      \"\"\"if 23 <= predicted_efficiency <= 32:\"\"\"\n",
        "      efficient_combinations.append((fuel_amount_1, fuel_amount_1*0.2, predicted_efficiency))\n",
        "\n",
        "# Print the combinations that meet the efficiency criteria\n",
        "if efficient_combinations:\n",
        "    for fuel_amount_1, fuel_amount_2, predicted_efficiency in efficient_combinations:\n",
        "        eff=(brake_power/predicted_efficiency)*100\n",
        "        if eff<33 and eff>31.999999999999:\n",
        "          print(f\"For Fuel 1 amount = {fuel_amount_1}, Fuel 2 amount = {fuel_amount_2}, \"\n",
        "                f\"Brake power = {brake_power}, \"\n",
        "                f\"Heat Input = {predicted_efficiency}, \",f\"Efficiency={eff}\")\n",
        "\n",
        "else:\n",
        "    print(\"No combinations meet the efficiency criteria.\")"
      ],
      "metadata": {
        "colab": {
          "base_uri": "https://localhost:8080/"
        },
        "id": "vd0ejtASkNUM",
        "outputId": "2bf9e15a-92bb-4121-eae4-5474097510a3"
      },
      "execution_count": null,
      "outputs": [
        {
          "output_type": "stream",
          "name": "stdout",
          "text": [
            "For Fuel 1 amount = 23.429, Fuel 2 amount = 4.6857999999999995, Brake power = 5.2, Heat Input = 16.043570826966665,  Efficiency=32.411737113159596\n"
          ]
        }
      ]
    },
    {
      "cell_type": "markdown",
      "source": [
        "COCO30"
      ],
      "metadata": {
        "id": "_Y0oWfM6kS_V"
      }
    },
    {
      "cell_type": "code",
      "source": [
        "#COCO 30\n",
        "fuel_1_range = [16.46,20.11,28.18,18.05,20.49,27.43,41.24,12.81,19.13,8.91,8.37,26.28,33.83,17.658,22.041,27.756,26.955,15.264,18.224,22.4,16.912,18.648,23.429,9.324,11.994,14.682,17.604,21.522,6.909,17.094,20.86,28.042,35.945,13.992,15.432,19.744,24.288,17.776,10.346,12.936,17.85,25.298,30.807,18.891,20.421,12.504,14.92,19.432,22.616,20.848,10.143,12.621,15.365,20.958,10.528,13.944,11.277,12.978,17.031,25.935,11.416,13.968,16.656,9.555,11.963,14.924,20.972,22.008,19.053,23.886,33.264,4.936,12.936,19.376,10.843,12.117,13.272,12.488,16.48,20.584,29.072,10.409,12.425,16.268,24.983,32.508,12.424,14.88,18.272,27.12,11.375,13.811,16.954,25.935]  # Values from 1 to 60 (inclusive)\n",
        "fuel_2_range=[]\n",
        "for i in fuel_1_range:\n",
        "  fuel_2_range.append(i*0.3)\n",
        " # Values from 1 to 40 (inclusive)\n",
        "calorific_value1 = 35800\n",
        "brake_power = 5.2\n",
        "density1 = 958\n",
        "density2=915.1\n",
        "calorific_value2=37100\n",
        "# Assuming you have the formulas defined as functions, for example:\n",
        "def predict_efficiency(fuel_amount_1, fuel_amount_2, calorific_value1,calorific_value2, brake_power, density1,density2):\n",
        "    # Your formula to calculate efficiency based on the given inputs\n",
        "    mass_of_fuel1 = ((fuel_amount_1  * 0.000001) / 60) * density1\n",
        "    mass_of_fuel2=((fuel_amount_2  * 0.000001) / 60) * density2\n",
        "    heat_input = mass_of_fuel1 * calorific_value1 + mass_of_fuel2 * calorific_value2\n",
        "    efficiency = brake_power / heat_input\n",
        "    return heat_input\n",
        "    # Limit efficiency to a maximum value of 32\n",
        "    efficiency = min(efficiency, 32)\n",
        "\n",
        "    return efficiency\n",
        "\n",
        "# List to store combinations that meet the efficiency criteria\n",
        "efficient_combinations = []\n",
        "\n",
        "# Loop through all combinations of fuel_1 and fuel_2\n",
        "for fuel_amount_1 in fuel_1_range:\n",
        "      # Use the formula-based prediction function to get efficiency\n",
        "      predicted_efficiency = predict_efficiency(fuel_amount_1, fuel_amount_1*0.3, calorific_value1,calorific_value2 ,brake_power,density1,density2)\n",
        "      \"\"\"if 23 <= predicted_efficiency <= 32:\"\"\"\n",
        "      efficient_combinations.append((fuel_amount_1, fuel_amount_1*0.3, predicted_efficiency))\n",
        "\n",
        "# Print the combinations that meet the efficiency criteria\n",
        "if efficient_combinations:\n",
        "    for fuel_amount_1, fuel_amount_2, predicted_efficiency in efficient_combinations:\n",
        "        eff=(brake_power/predicted_efficiency)*100\n",
        "        if eff<33 and eff>31.999999999999:\n",
        "          print(f\"For Fuel 1 amount = {fuel_amount_1}, Fuel 2 amount = {fuel_amount_2}, \"\n",
        "                f\"Brake power = {brake_power}, \"\n",
        "                f\"Heat Input = {predicted_efficiency}, \",f\"Efficiency={eff}\")\n",
        "\n",
        "else:\n",
        "    print(\"No combinations meet the efficiency criteria.\")"
      ],
      "metadata": {
        "colab": {
          "base_uri": "https://localhost:8080/"
        },
        "id": "VA6JM2-RkShT",
        "outputId": "65123a7d-f565-48da-ac4e-312b17fa6d4a"
      },
      "execution_count": null,
      "outputs": [
        {
          "output_type": "stream",
          "name": "stdout",
          "text": [
            "For Fuel 1 amount = 21.522, Fuel 2 amount = 6.456599999999999, Brake power = 5.2, Heat Input = 15.955500778099996,  Efficiency=32.590641135735154\n"
          ]
        }
      ]
    },
    {
      "cell_type": "markdown",
      "source": [
        "COCO 40"
      ],
      "metadata": {
        "id": "L-6jkUWQkcgW"
      }
    },
    {
      "cell_type": "code",
      "source": [
        "#COCO 40\n",
        "fuel_1_range = [16.46,20.11,28.18,18.05,20.49,27.43,41.24,12.81,19.13,8.91,8.37,26.28,33.83,17.658,22.041,27.756,26.955,15.264,18.224,22.4,16.912,18.648,23.429,9.324,11.994,14.682,17.604,21.522,6.909,17.094,20.86,28.042,35.945,13.992,15.432,19.744,24.288,17.776,10.346,12.936,17.85,25.298,30.807,18.891,20.421,12.504,14.92,19.432,22.616,20.848,10.143,12.621,15.365,20.958,10.528,13.944,11.277,12.978,17.031,25.935,11.416,13.968,16.656,9.555,11.963,14.924,20.972,22.008,19.053,23.886,33.264,4.936,12.936,19.376,10.843,12.117,13.272,12.488,16.48,20.584,29.072,10.409,12.425,16.268,24.983,32.508,12.424,14.88,18.272,27.12,11.375,13.811,16.954,25.935]  # Values from 1 to 60 (inclusive)\n",
        "fuel_2_range=[]\n",
        "for i in fuel_1_range:\n",
        "  fuel_2_range.append(i*0.4)\n",
        " # Values from 1 to 40 (inclusive)\n",
        "calorific_value1 = 35800\n",
        "brake_power = 5.2\n",
        "density1 = 958\n",
        "density2=915.1\n",
        "calorific_value2=37100\n",
        "# Assuming you have the formulas defined as functions, for example:\n",
        "def predict_efficiency(fuel_amount_1, fuel_amount_2, calorific_value1,calorific_value2, brake_power, density1,density2):\n",
        "    # Your formula to calculate efficiency based on the given inputs\n",
        "    mass_of_fuel1 = ((fuel_amount_1  * 0.000001) / 60) * density1\n",
        "    mass_of_fuel2=((fuel_amount_2  * 0.000001) / 60) * density2\n",
        "    heat_input = mass_of_fuel1 * calorific_value1 + mass_of_fuel2 * calorific_value2\n",
        "    efficiency = brake_power / heat_input\n",
        "    return heat_input\n",
        "    # Limit efficiency to a maximum value of 32\n",
        "    efficiency = min(efficiency, 32)\n",
        "\n",
        "    return efficiency\n",
        "\n",
        "# List to store combinations that meet the efficiency criteria\n",
        "efficient_combinations = []\n",
        "\n",
        "# Loop through all combinations of fuel_1 and fuel_2\n",
        "for fuel_amount_1 in fuel_1_range:\n",
        "      # Use the formula-based prediction function to get efficiency\n",
        "      predicted_efficiency = predict_efficiency(fuel_amount_1, fuel_amount_1*0.4, calorific_value1,calorific_value2 ,brake_power,density1,density2)\n",
        "      \"\"\"if 23 <= predicted_efficiency <= 32:\"\"\"\n",
        "      efficient_combinations.append((fuel_amount_1, fuel_amount_1*0.4, predicted_efficiency))\n",
        "\n",
        "# Print the combinations that meet the efficiency criteria\n",
        "if efficient_combinations:\n",
        "    for fuel_amount_1, fuel_amount_2, predicted_efficiency in efficient_combinations:\n",
        "        eff=(brake_power/predicted_efficiency)*100\n",
        "        if eff<33 and eff>31.999999999999:\n",
        "          print(f\"For Fuel 1 amount = {fuel_amount_1}, Fuel 2 amount = {fuel_amount_2}, \"\n",
        "                f\"Brake power = {brake_power}, \"\n",
        "                f\"Heat Input = {predicted_efficiency}, \",f\"Efficiency={eff}\")\n",
        "\n",
        "else:\n",
        "    print(\"No combinations meet the efficiency criteria.\")"
      ],
      "metadata": {
        "colab": {
          "base_uri": "https://localhost:8080/"
        },
        "id": "-8crSUtukdi3",
        "outputId": "26a343af-d702-49a3-a09a-7111552104e0"
      },
      "execution_count": null,
      "outputs": [
        {
          "output_type": "stream",
          "name": "stdout",
          "text": [
            "For Fuel 1 amount = 20.11, Fuel 2 amount = 8.044, Brake power = 5.2, Heat Input = 16.046601554,  Efficiency=32.40561549746822\n"
          ]
        }
      ]
    },
    {
      "cell_type": "markdown",
      "source": [
        "COT 10"
      ],
      "metadata": {
        "id": "mkNGmQjUkidz"
      }
    },
    {
      "cell_type": "code",
      "source": [
        "#COT 10\n",
        "fuel_1_range = [16.46,20.11,28.18,18.05,20.49,27.43,41.24,12.81,19.13,8.91,8.37,26.28,33.83,17.658,22.041,27.756,26.955,15.264,18.224,22.4,16.912,18.648,23.429,9.324,11.994,14.682,17.604,21.522,6.909,17.094,20.86,28.042,35.945,13.992,15.432,19.744,24.288,17.776,10.346,12.936,17.85,25.298,30.807,18.891,20.421,12.504,14.92,19.432,22.616,20.848,10.143,12.621,15.365,20.958,10.528,13.944,11.277,12.978,17.031,25.935,11.416,13.968,16.656,9.555,11.963,14.924,20.972,22.008,19.053,23.886,33.264,4.936,12.936,19.376,10.843,12.117,13.272,12.488,16.48,20.584,29.072,10.409,12.425,16.268,24.983,32.508,12.424,14.88,18.272,27.12,11.375,13.811,16.954,25.935]  # Values from 1 to 60 (inclusive)\n",
        "fuel_2_range=[]\n",
        "for i in fuel_1_range:\n",
        "  fuel_2_range.append(i*0.1)\n",
        " # Values from 1 to 40 (inclusive)\n",
        "calorific_value1 = 35800\n",
        "brake_power = 5.2\n",
        "density1 = 958\n",
        "density2=909.8\n",
        "calorific_value2=40400\n",
        "# Assuming you have the formulas defined as functions, for example:\n",
        "def predict_efficiency(fuel_amount_1, fuel_amount_2, calorific_value1,calorific_value2, brake_power, density1,density2):\n",
        "    # Your formula to calculate efficiency based on the given inputs\n",
        "    mass_of_fuel1 = ((fuel_amount_1  * 0.000001) / 60) * density1\n",
        "    mass_of_fuel2=((fuel_amount_2  * 0.000001) / 60) * density2\n",
        "    heat_input = mass_of_fuel1 * calorific_value1 + mass_of_fuel2 * calorific_value2\n",
        "    efficiency = brake_power / heat_input\n",
        "    return heat_input\n",
        "    # Limit efficiency to a maximum value of 32\n",
        "    efficiency = min(efficiency, 32)\n",
        "\n",
        "    return efficiency\n",
        "\n",
        "# List to store combinations that meet the efficiency criteria\n",
        "efficient_combinations = []\n",
        "\n",
        "# Loop through all combinations of fuel_1 and fuel_2\n",
        "for fuel_amount_1 in fuel_1_range:\n",
        "      # Use the formula-based prediction function to get efficiency\n",
        "      predicted_efficiency = predict_efficiency(fuel_amount_1, fuel_amount_1*0.1, calorific_value1,calorific_value2 ,brake_power,density1,density2)\n",
        "      \"\"\"if 23 <= predicted_efficiency <= 32:\"\"\"\n",
        "      efficient_combinations.append((fuel_amount_1, fuel_amount_1*0.1, predicted_efficiency))\n",
        "\n",
        "# Print the combinations that meet the efficiency criteria\n",
        "if efficient_combinations:\n",
        "    for fuel_amount_1, fuel_amount_2, predicted_efficiency in efficient_combinations:\n",
        "        eff=(brake_power/predicted_efficiency)*100\n",
        "        if eff<33 and eff>31.999999999999:\n",
        "          print(f\"For Fuel 1 amount = {fuel_amount_1}, Fuel 2 amount = {fuel_amount_2}, \"\n",
        "                f\"Brake power = {brake_power}, \"\n",
        "                f\"Heat Input = {predicted_efficiency}, \",f\"Efficiency={eff}\")\n",
        "\n",
        "else:\n",
        "    print(\"No combinations meet the efficiency criteria.\")"
      ],
      "metadata": {
        "colab": {
          "base_uri": "https://localhost:8080/"
        },
        "id": "A9DCUAuXkuYA",
        "outputId": "733e0259-79c0-411b-ae75-6a9154aa0361"
      },
      "execution_count": null,
      "outputs": [
        {
          "output_type": "stream",
          "name": "stdout",
          "text": [
            "For Fuel 1 amount = 25.298, Fuel 2 amount = 2.5298, Brake power = 5.2, Heat Input = 16.010257560266663,  Efficiency=32.47917767984608\n",
            "For Fuel 1 amount = 24.983, Fuel 2 amount = 2.4983000000000004, Brake power = 5.2, Heat Input = 15.810904602266667,  Efficiency=32.888693789566744\n"
          ]
        }
      ]
    },
    {
      "cell_type": "markdown",
      "source": [
        "COT 20"
      ],
      "metadata": {
        "id": "sh5Tww3jk7gC"
      }
    },
    {
      "cell_type": "code",
      "source": [
        "#COT 20\n",
        "fuel_1_range = [16.46,20.11,28.18,18.05,20.49,27.43,41.24,12.81,19.13,8.91,8.37,26.28,33.83,17.658,22.041,27.756,26.955,15.264,18.224,22.4,16.912,18.648,23.429,9.324,11.994,14.682,17.604,21.522,6.909,17.094,20.86,28.042,35.945,13.992,15.432,19.744,24.288,17.776,10.346,12.936,17.85,25.298,30.807,18.891,20.421,12.504,14.92,19.432,22.616,20.848,10.143,12.621,15.365,20.958,10.528,13.944,11.277,12.978,17.031,25.935,11.416,13.968,16.656,9.555,11.963,14.924,20.972,22.008,19.053,23.886,33.264,4.936,12.936,19.376,10.843,12.117,13.272,12.488,16.48,20.584,29.072,10.409,12.425,16.268,24.983,32.508,12.424,14.88,18.272,27.12,11.375,13.811,16.954,25.935]  # Values from 1 to 60 (inclusive)\n",
        "fuel_2_range=[]\n",
        "for i in fuel_1_range:\n",
        "  fuel_2_range.append(i*0.2)\n",
        " # Values from 1 to 40 (inclusive)\n",
        "calorific_value1 = 35800\n",
        "brake_power = 5.2\n",
        "density1 = 958\n",
        "density2=909.8\n",
        "calorific_value2=40400\n",
        "# Assuming you have the formulas defined as functions, for example:\n",
        "def predict_efficiency(fuel_amount_1, fuel_amount_2, calorific_value1,calorific_value2, brake_power, density1,density2):\n",
        "    # Your formula to calculate efficiency based on the given inputs\n",
        "    mass_of_fuel1 = ((fuel_amount_1  * 0.000001) / 60) * density1\n",
        "    mass_of_fuel2=((fuel_amount_2  * 0.000001) / 60) * density2\n",
        "    heat_input = mass_of_fuel1 * calorific_value1 + mass_of_fuel2 * calorific_value2\n",
        "    efficiency = brake_power / heat_input\n",
        "    return heat_input\n",
        "    # Limit efficiency to a maximum value of 32\n",
        "    efficiency = min(efficiency, 32)\n",
        "\n",
        "    return efficiency\n",
        "\n",
        "# List to store combinations that meet the efficiency criteria\n",
        "efficient_combinations = []\n",
        "\n",
        "# Loop through all combinations of fuel_1 and fuel_2\n",
        "for fuel_amount_1 in fuel_1_range:\n",
        "      # Use the formula-based prediction function to get efficiency\n",
        "      predicted_efficiency = predict_efficiency(fuel_amount_1, fuel_amount_1*0.2, calorific_value1,calorific_value2 ,brake_power,density1,density2)\n",
        "      \"\"\"if 23 <= predicted_efficiency <= 32:\"\"\"\n",
        "      efficient_combinations.append((fuel_amount_1, fuel_amount_1*0.2, predicted_efficiency))\n",
        "\n",
        "# Print the combinations that meet the efficiency criteria\n",
        "if efficient_combinations:\n",
        "    for fuel_amount_1, fuel_amount_2, predicted_efficiency in efficient_combinations:\n",
        "        eff=(brake_power/predicted_efficiency)*100\n",
        "        if eff<33 and eff>31.999999999999:\n",
        "          print(f\"For Fuel 1 amount = {fuel_amount_1}, Fuel 2 amount = {fuel_amount_2}, \"\n",
        "                f\"Brake power = {brake_power}, \"\n",
        "                f\"Heat Input = {predicted_efficiency}, \",f\"Efficiency={eff}\")\n",
        "\n",
        "else:\n",
        "    print(\"No combinations meet the efficiency criteria.\")"
      ],
      "metadata": {
        "id": "RBrrOQwCk83w"
      },
      "execution_count": null,
      "outputs": []
    },
    {
      "cell_type": "markdown",
      "source": [
        "COT 30"
      ],
      "metadata": {
        "id": "IyL8H9TklFCO"
      }
    },
    {
      "cell_type": "code",
      "source": [
        "#COT 30\n",
        "fuel_1_range = [16.46,20.11,28.18,18.05,20.49,27.43,41.24,12.81,19.13,8.91,8.37,26.28,33.83,17.658,22.041,27.756,26.955,15.264,18.224,22.4,16.912,18.648,23.429,9.324,11.994,14.682,17.604,21.522,6.909,17.094,20.86,28.042,35.945,13.992,15.432,19.744,24.288,17.776,10.346,12.936,17.85,25.298,30.807,18.891,20.421,12.504,14.92,19.432,22.616,20.848,10.143,12.621,15.365,20.958,10.528,13.944,11.277,12.978,17.031,25.935,11.416,13.968,16.656,9.555,11.963,14.924,20.972,22.008,19.053,23.886,33.264,4.936,12.936,19.376,10.843,12.117,13.272,12.488,16.48,20.584,29.072,10.409,12.425,16.268,24.983,32.508,12.424,14.88,18.272,27.12,11.375,13.811,16.954,25.935]  # Values from 1 to 60 (inclusive)\n",
        "fuel_2_range=[]\n",
        "for i in fuel_1_range:\n",
        "  fuel_2_range.append(i*0.3)\n",
        " # Values from 1 to 40 (inclusive)\n",
        "calorific_value1 = 35800\n",
        "brake_power = 5.2\n",
        "density1 = 958\n",
        "density2=909.8\n",
        "calorific_value2=40400\n",
        "# Assuming you have the formulas defined as functions, for example:\n",
        "def predict_efficiency(fuel_amount_1, fuel_amount_2, calorific_value1,calorific_value2, brake_power, density1,density2):\n",
        "    # Your formula to calculate efficiency based on the given inputs\n",
        "    mass_of_fuel1 = ((fuel_amount_1  * 0.000001) / 60) * density1\n",
        "    mass_of_fuel2=((fuel_amount_2  * 0.000001) / 60) * density2\n",
        "    heat_input = mass_of_fuel1 * calorific_value1 + mass_of_fuel2 * calorific_value2\n",
        "    efficiency = brake_power / heat_input\n",
        "    return heat_input\n",
        "    # Limit efficiency to a maximum value of 32\n",
        "    efficiency = min(efficiency, 32)\n",
        "\n",
        "    return efficiency\n",
        "\n",
        "# List to store combinations that meet the efficiency criteria\n",
        "efficient_combinations = []\n",
        "\n",
        "# Loop through all combinations of fuel_1 and fuel_2\n",
        "for fuel_amount_1 in fuel_1_range:\n",
        "      # Use the formula-based prediction function to get efficiency\n",
        "      predicted_efficiency = predict_efficiency(fuel_amount_1, fuel_amount_1*0.3, calorific_value1,calorific_value2 ,brake_power,density1,density2)\n",
        "      \"\"\"if 23 <= predicted_efficiency <= 32:\"\"\"\n",
        "      efficient_combinations.append((fuel_amount_1, fuel_amount_1*0.3, predicted_efficiency))\n",
        "\n",
        "# Print the combinations that meet the efficiency criteria\n",
        "if efficient_combinations:\n",
        "    for fuel_amount_1, fuel_amount_2, predicted_efficiency in efficient_combinations:\n",
        "        eff=(brake_power/predicted_efficiency)*100\n",
        "        if eff<33 and eff>31.999999999999:\n",
        "          print(f\"For Fuel 1 amount = {fuel_amount_1}, Fuel 2 amount = {fuel_amount_2}, \"\n",
        "                f\"Brake power = {brake_power}, \"\n",
        "                f\"Heat Input = {predicted_efficiency}, \",f\"Efficiency={eff}\")\n",
        "\n",
        "else:\n",
        "    print(\"No combinations meet the efficiency criteria.\")"
      ],
      "metadata": {
        "colab": {
          "base_uri": "https://localhost:8080/"
        },
        "id": "TOpW9DkolExJ",
        "outputId": "91b79158-5612-4f6e-af5d-7b23e57db5e5"
      },
      "execution_count": null,
      "outputs": [
        {
          "output_type": "stream",
          "name": "stdout",
          "text": [
            "For Fuel 1 amount = 20.958, Fuel 2 amount = 6.287399999999999, Brake power = 5.2, Heat Input = 15.8313853768,  Efficiency=32.846146286226514\n",
            "For Fuel 1 amount = 20.972, Fuel 2 amount = 6.2916, Brake power = 5.2, Heat Input = 15.841960784533335,  Efficiency=32.8242196198138\n"
          ]
        }
      ]
    },
    {
      "cell_type": "markdown",
      "source": [
        "COT 40"
      ],
      "metadata": {
        "id": "8HprWH2clOFe"
      }
    },
    {
      "cell_type": "code",
      "source": [
        "#COT 40\n",
        "fuel_1_range = [16.46,20.11,28.18,18.05,20.49,27.43,41.24,12.81,19.13,8.91,8.37,26.28,33.83,17.658,22.041,27.756,26.955,15.264,18.224,22.4,16.912,18.648,23.429,9.324,11.994,14.682,17.604,21.522,6.909,17.094,20.86,28.042,35.945,13.992,15.432,19.744,24.288,17.776,10.346,12.936,17.85,25.298,30.807,18.891,20.421,12.504,14.92,19.432,22.616,20.848,10.143,12.621,15.365,20.958,10.528,13.944,11.277,12.978,17.031,25.935,11.416,13.968,16.656,9.555,11.963,14.924,20.972,22.008,19.053,23.886,33.264,4.936,12.936,19.376,10.843,12.117,13.272,12.488,16.48,20.584,29.072,10.409,12.425,16.268,24.983,32.508,12.424,14.88,18.272,27.12,11.375,13.811,16.954,25.935]  # Values from 1 to 60 (inclusive)\n",
        "fuel_2_range=[]\n",
        "for i in fuel_1_range:\n",
        "  fuel_2_range.append(i*0.4)\n",
        " # Values from 1 to 40 (inclusive)\n",
        "calorific_value1 = 35800\n",
        "brake_power = 5.2\n",
        "density1 = 958\n",
        "density2=909.8\n",
        "calorific_value2=40400\n",
        "# Assuming you have the formulas defined as functions, for example:\n",
        "def predict_efficiency(fuel_amount_1, fuel_amount_2, calorific_value1,calorific_value2, brake_power, density1,density2):\n",
        "    # Your formula to calculate efficiency based on the given inputs\n",
        "    mass_of_fuel1 = ((fuel_amount_1  * 0.000001) / 60) * density1\n",
        "    mass_of_fuel2=((fuel_amount_2  * 0.000001) / 60) * density2\n",
        "    heat_input = mass_of_fuel1 * calorific_value1 + mass_of_fuel2 * calorific_value2\n",
        "    efficiency = brake_power / heat_input\n",
        "    return heat_input\n",
        "    # Limit efficiency to a maximum value of 32\n",
        "    efficiency = min(efficiency, 32)\n",
        "\n",
        "    return efficiency\n",
        "\n",
        "# List to store combinations that meet the efficiency criteria\n",
        "efficient_combinations = []\n",
        "\n",
        "# Loop through all combinations of fuel_1 and fuel_2\n",
        "for fuel_amount_1 in fuel_1_range:\n",
        "      # Use the formula-based prediction function to get efficiency\n",
        "      predicted_efficiency = predict_efficiency(fuel_amount_1, fuel_amount_1*0.4, calorific_value1,calorific_value2 ,brake_power,density1,density2)\n",
        "      \"\"\"if 23 <= predicted_efficiency <= 32:\"\"\"\n",
        "      efficient_combinations.append((fuel_amount_1, fuel_amount_1*0.4, predicted_efficiency))\n",
        "\n",
        "# Print the combinations that meet the efficiency criteria\n",
        "if efficient_combinations:\n",
        "    for fuel_amount_1, fuel_amount_2, predicted_efficiency in efficient_combinations:\n",
        "        eff=(brake_power/predicted_efficiency)*100\n",
        "        if eff<33 and eff>31.999999999999:\n",
        "          print(f\"For Fuel 1 amount = {fuel_amount_1}, Fuel 2 amount = {fuel_amount_2}, \"\n",
        "                f\"Brake power = {brake_power}, \"\n",
        "                f\"Heat Input = {predicted_efficiency}, \",f\"Efficiency={eff}\")\n",
        "\n",
        "else:\n",
        "    print(\"No combinations meet the efficiency criteria.\")"
      ],
      "metadata": {
        "colab": {
          "base_uri": "https://localhost:8080/"
        },
        "id": "2QBQ4_-xlLEN",
        "outputId": "c337b63b-c10d-4a56-da72-598b66bfe9d9"
      },
      "execution_count": null,
      "outputs": [
        {
          "output_type": "stream",
          "name": "stdout",
          "text": [
            "For Fuel 1 amount = 19.744, Fuel 2 amount = 7.897600000000001, Brake power = 5.2, Heat Input = 16.12386125653333,  Efficiency=32.250339526414486\n",
            "For Fuel 1 amount = 19.432, Fuel 2 amount = 7.7728, Brake power = 5.2, Heat Input = 15.869067662933332,  Efficiency=32.76815065919759\n",
            "For Fuel 1 amount = 19.376, Fuel 2 amount = 7.750400000000001, Brake power = 5.2, Heat Input = 15.823335479466666,  Efficiency=32.86285629694093\n"
          ]
        }
      ]
    },
    {
      "cell_type": "markdown",
      "source": [
        "OP 10"
      ],
      "metadata": {
        "id": "S6je4jiUlgy0"
      }
    },
    {
      "cell_type": "code",
      "source": [
        "#OP10\n",
        "fuel_1_range = [16.46,20.11,28.18,18.05,20.49,27.43,41.24,12.81,19.13,8.91,8.37,26.28,33.83,17.658,22.041,27.756,26.955,15.264,18.224,22.4,16.912,18.648,23.429,9.324,11.994,14.682,17.604,21.522,6.909,17.094,20.86,28.042,35.945,13.992,15.432,19.744,24.288,17.776,10.346,12.936,17.85,25.298,30.807,18.891,20.421,12.504,14.92,19.432,22.616,20.848,10.143,12.621,15.365,20.958,10.528,13.944,11.277,12.978,17.031,25.935,11.416,13.968,16.656,9.555,11.963,14.924,20.972,22.008,19.053,23.886,33.264,4.936,12.936,19.376,10.843,12.117,13.272,12.488,16.48,20.584,29.072,10.409,12.425,16.268,24.983,32.508,12.424,14.88,18.272,27.12,11.375,13.811,16.954,25.935]  # Values from 1 to 60 (inclusive)\n",
        "fuel_2_range=[]\n",
        "for i in fuel_1_range:\n",
        "  fuel_2_range.append(i*0.1)\n",
        " # Values from 1 to 40 (inclusive)\n",
        "calorific_value1 = 35800\n",
        "brake_power = 5.2\n",
        "density1 = 958\n",
        "density2=816.9\n",
        "calorific_value2=39000\n",
        "# Assuming you have the formulas defined as functions, for example:\n",
        "def predict_efficiency(fuel_amount_1, fuel_amount_2, calorific_value1,calorific_value2, brake_power, density1,density2):\n",
        "    # Your formula to calculate efficiency based on the given inputs\n",
        "    mass_of_fuel1 = ((fuel_amount_1  * 0.000001) / 60) * density1\n",
        "    mass_of_fuel2=((fuel_amount_2  * 0.000001) / 60) * density2\n",
        "    heat_input = mass_of_fuel1 * calorific_value1 + mass_of_fuel2 * calorific_value2\n",
        "    efficiency = brake_power / heat_input\n",
        "    return heat_input\n",
        "    # Limit efficiency to a maximum value of 32\n",
        "    efficiency = min(efficiency, 32)\n",
        "\n",
        "    return efficiency\n",
        "\n",
        "# List to store combinations that meet the efficiency criteria\n",
        "efficient_combinations = []\n",
        "\n",
        "# Loop through all combinations of fuel_1 and fuel_2\n",
        "for fuel_amount_1 in fuel_1_range:\n",
        "      # Use the formula-based prediction function to get efficiency\n",
        "      predicted_efficiency = predict_efficiency(fuel_amount_1, fuel_amount_1*0.1, calorific_value1,calorific_value2 ,brake_power,density1,density2)\n",
        "      \"\"\"if 23 <= predicted_efficiency <= 32:\"\"\"\n",
        "      efficient_combinations.append((fuel_amount_1, fuel_amount_1*0.1, predicted_efficiency))\n",
        "\n",
        "# Print the combinations that meet the efficiency criteria\n",
        "if efficient_combinations:\n",
        "    for fuel_amount_1, fuel_amount_2, predicted_efficiency in efficient_combinations:\n",
        "        eff=(brake_power/predicted_efficiency)*100\n",
        "        if eff<33 and eff>31.999999999999:\n",
        "          print(f\"For Fuel 1 amount = {fuel_amount_1}, Fuel 2 amount = {fuel_amount_2}, \"\n",
        "                f\"Brake power = {brake_power}, \"\n",
        "                f\"Heat Input = {predicted_efficiency}, \",f\"Efficiency={eff}\")\n",
        "\n",
        "else:\n",
        "    print(\"No combinations meet the efficiency criteria.\")"
      ],
      "metadata": {
        "colab": {
          "base_uri": "https://localhost:8080/"
        },
        "id": "qfusk0nmlWsI",
        "outputId": "743e30aa-e2cb-4b6d-acba-81b88db9b60b"
      },
      "execution_count": null,
      "outputs": [
        {
          "output_type": "stream",
          "name": "stdout",
          "text": [
            "For Fuel 1 amount = 25.298, Fuel 2 amount = 2.5298, Brake power = 5.2, Heat Input = 15.803791306333329,  Efficiency=32.90349701034152\n",
            "For Fuel 1 amount = 25.935, Fuel 2 amount = 2.5935, Brake power = 5.2, Heat Input = 16.2017284975,  Efficiency=32.095340943420844\n",
            "For Fuel 1 amount = 25.935, Fuel 2 amount = 2.5935, Brake power = 5.2, Heat Input = 16.2017284975,  Efficiency=32.095340943420844\n"
          ]
        }
      ]
    },
    {
      "cell_type": "markdown",
      "source": [
        "OP 20"
      ],
      "metadata": {
        "id": "a5FOLF46lriv"
      }
    },
    {
      "cell_type": "code",
      "source": [
        "#OP20\n",
        "fuel_1_range = [16.46,20.11,28.18,18.05,20.49,27.43,41.24,12.81,19.13,8.91,8.37,26.28,33.83,17.658,22.041,27.756,26.955,15.264,18.224,22.4,16.912,18.648,23.429,9.324,11.994,14.682,17.604,21.522,6.909,17.094,20.86,28.042,35.945,13.992,15.432,19.744,24.288,17.776,10.346,12.936,17.85,25.298,30.807,18.891,20.421,12.504,14.92,19.432,22.616,20.848,10.143,12.621,15.365,20.958,10.528,13.944,11.277,12.978,17.031,25.935,11.416,13.968,16.656,9.555,11.963,14.924,20.972,22.008,19.053,23.886,33.264,4.936,12.936,19.376,10.843,12.117,13.272,12.488,16.48,20.584,29.072,10.409,12.425,16.268,24.983,32.508,12.424,14.88,18.272,27.12,11.375,13.811,16.954,25.935]  # Values from 1 to 60 (inclusive)\n",
        "fuel_2_range=[]\n",
        "for i in fuel_1_range:\n",
        "  fuel_2_range.append(i*0.2)\n",
        " # Values from 1 to 40 (inclusive)\n",
        "calorific_value1 = 35800\n",
        "brake_power = 5.2\n",
        "density1 = 958\n",
        "density2=816.9\n",
        "calorific_value2=39000\n",
        "# Assuming you have the formulas defined as functions, for example:\n",
        "def predict_efficiency(fuel_amount_1, fuel_amount_2, calorific_value1,calorific_value2, brake_power, density1,density2):\n",
        "    # Your formula to calculate efficiency based on the given inputs\n",
        "    mass_of_fuel1 = ((fuel_amount_1  * 0.000001) / 60) * density1\n",
        "    mass_of_fuel2=((fuel_amount_2  * 0.000001) / 60) * density2\n",
        "    heat_input = mass_of_fuel1 * calorific_value1 + mass_of_fuel2 * calorific_value2\n",
        "    efficiency = brake_power / heat_input\n",
        "    return heat_input\n",
        "    # Limit efficiency to a maximum value of 32\n",
        "    efficiency = min(efficiency, 32)\n",
        "\n",
        "    return efficiency\n",
        "\n",
        "# List to store combinations that meet the efficiency criteria\n",
        "efficient_combinations = []\n",
        "\n",
        "# Loop through all combinations of fuel_1 and fuel_2\n",
        "for fuel_amount_1 in fuel_1_range:\n",
        "      # Use the formula-based prediction function to get efficiency\n",
        "      predicted_efficiency = predict_efficiency(fuel_amount_1, fuel_amount_1*0.2, calorific_value1,calorific_value2 ,brake_power,density1,density2)\n",
        "      \"\"\"if 23 <= predicted_efficiency <= 32:\"\"\"\n",
        "      efficient_combinations.append((fuel_amount_1, fuel_amount_1*0.2, predicted_efficiency))\n",
        "\n",
        "# Print the combinations that meet the efficiency criteria\n",
        "if efficient_combinations:\n",
        "    for fuel_amount_1, fuel_amount_2, predicted_efficiency in efficient_combinations:\n",
        "        eff=(brake_power/predicted_efficiency)*100\n",
        "        if eff<33 and eff>31.999999999999:\n",
        "          print(f\"For Fuel 1 amount = {fuel_amount_1}, Fuel 2 amount = {fuel_amount_2}, \"\n",
        "                f\"Brake power = {brake_power}, \"\n",
        "                f\"Heat Input = {predicted_efficiency}, \",f\"Efficiency={eff}\")\n",
        "\n",
        "else:\n",
        "    print(\"No combinations meet the efficiency criteria.\")"
      ],
      "metadata": {
        "colab": {
          "base_uri": "https://localhost:8080/"
        },
        "id": "9JaGdeDDl3Dl",
        "outputId": "fd7af4c3-a6a5-487f-d51b-6e9b6a7101b1"
      },
      "execution_count": null,
      "outputs": [
        {
          "output_type": "stream",
          "name": "stdout",
          "text": [
            "For Fuel 1 amount = 23.429, Fuel 2 amount = 4.6857999999999995, Brake power = 5.2, Heat Input = 15.880262106333333,  Efficiency=32.74505146817537\n",
            "For Fuel 1 amount = 23.886, Fuel 2 amount = 4.7772, Brake power = 5.2, Heat Input = 16.190018381999998,  Efficiency=32.11855525612831\n"
          ]
        }
      ]
    },
    {
      "cell_type": "markdown",
      "source": [
        "OP 30"
      ],
      "metadata": {
        "id": "4abGLq9Yl8tc"
      }
    },
    {
      "cell_type": "code",
      "source": [
        "#OP30\n",
        "fuel_1_range = [16.46,20.11,28.18,18.05,20.49,27.43,41.24,12.81,19.13,8.91,8.37,26.28,33.83,17.658,22.041,27.756,26.955,15.264,18.224,22.4,16.912,18.648,23.429,9.324,11.994,14.682,17.604,21.522,6.909,17.094,20.86,28.042,35.945,13.992,15.432,19.744,24.288,17.776,10.346,12.936,17.85,25.298,30.807,18.891,20.421,12.504,14.92,19.432,22.616,20.848,10.143,12.621,15.365,20.958,10.528,13.944,11.277,12.978,17.031,25.935,11.416,13.968,16.656,9.555,11.963,14.924,20.972,22.008,19.053,23.886,33.264,4.936,12.936,19.376,10.843,12.117,13.272,12.488,16.48,20.584,29.072,10.409,12.425,16.268,24.983,32.508,12.424,14.88,18.272,27.12,11.375,13.811,16.954,25.935]  # Values from 1 to 60 (inclusive)\n",
        "fuel_2_range=[]\n",
        "for i in fuel_1_range:\n",
        "  fuel_2_range.append(i*0.3)\n",
        " # Values from 1 to 40 (inclusive)\n",
        "calorific_value1 = 35800\n",
        "brake_power = 5.2\n",
        "density1 = 958\n",
        "density2=816.9\n",
        "calorific_value2=39000\n",
        "# Assuming you have the formulas defined as functions, for example:\n",
        "def predict_efficiency(fuel_amount_1, fuel_amount_2, calorific_value1,calorific_value2, brake_power, density1,density2):\n",
        "    # Your formula to calculate efficiency based on the given inputs\n",
        "    mass_of_fuel1 = ((fuel_amount_1  * 0.000001) / 60) * density1\n",
        "    mass_of_fuel2=((fuel_amount_2  * 0.000001) / 60) * density2\n",
        "    heat_input = mass_of_fuel1 * calorific_value1 + mass_of_fuel2 * calorific_value2\n",
        "    efficiency = brake_power / heat_input\n",
        "    return heat_input\n",
        "    # Limit efficiency to a maximum value of 32\n",
        "    efficiency = min(efficiency, 32)\n",
        "\n",
        "    return efficiency\n",
        "\n",
        "# List to store combinations that meet the efficiency criteria\n",
        "efficient_combinations = []\n",
        "\n",
        "# Loop through all combinations of fuel_1 and fuel_2\n",
        "for fuel_amount_1 in fuel_1_range:\n",
        "      # Use the formula-based prediction function to get efficiency\n",
        "      predicted_efficiency = predict_efficiency(fuel_amount_1, fuel_amount_1*0.3, calorific_value1,calorific_value2 ,brake_power,density1,density2)\n",
        "      \"\"\"if 23 <= predicted_efficiency <= 32:\"\"\"\n",
        "      efficient_combinations.append((fuel_amount_1, fuel_amount_1*0.3, predicted_efficiency))\n",
        "\n",
        "# Print the combinations that meet the efficiency criteria\n",
        "if efficient_combinations:\n",
        "    for fuel_amount_1, fuel_amount_2, predicted_efficiency in efficient_combinations:\n",
        "        eff=(brake_power/predicted_efficiency)*100\n",
        "        if eff<33 and eff>31.999999999999:\n",
        "          print(f\"For Fuel 1 amount = {fuel_amount_1}, Fuel 2 amount = {fuel_amount_2}, \"\n",
        "                f\"Brake power = {brake_power}, \"\n",
        "                f\"Heat Input = {predicted_efficiency}, \",f\"Efficiency={eff}\")\n",
        "\n",
        "else:\n",
        "    print(\"No combinations meet the efficiency criteria.\")"
      ],
      "metadata": {
        "colab": {
          "base_uri": "https://localhost:8080/"
        },
        "id": "GoXcKNcvl-sP",
        "outputId": "2ccdf9be-c78e-4fb1-b51d-3a1cf64d9a49"
      },
      "execution_count": null,
      "outputs": [
        {
          "output_type": "stream",
          "name": "stdout",
          "text": [
            "For Fuel 1 amount = 22.041, Fuel 2 amount = 6.6123, Brake power = 5.2, Heat Input = 16.1098146555,  Efficiency=32.27845950558274\n",
            "For Fuel 1 amount = 22.008, Fuel 2 amount = 6.602399999999999, Brake power = 5.2, Heat Input = 16.085694883999995,  Efficiency=32.326859594808674\n"
          ]
        }
      ]
    },
    {
      "cell_type": "markdown",
      "source": [
        "OP 40"
      ],
      "metadata": {
        "id": "p3YyOC9dl_Yr"
      }
    },
    {
      "cell_type": "code",
      "source": [
        "#OP40\n",
        "fuel_1_range = [16.46,20.11,28.18,18.05,20.49,27.43,41.24,12.81,19.13,8.91,8.37,26.28,33.83,17.658,22.041,27.756,26.955,15.264,18.224,22.4,16.912,18.648,23.429,9.324,11.994,14.682,17.604,21.522,6.909,17.094,20.86,28.042,35.945,13.992,15.432,19.744,24.288,17.776,10.346,12.936,17.85,25.298,30.807,18.891,20.421,12.504,14.92,19.432,22.616,20.848,10.143,12.621,15.365,20.958,10.528,13.944,11.277,12.978,17.031,25.935,11.416,13.968,16.656,9.555,11.963,14.924,20.972,22.008,19.053,23.886,33.264,4.936,12.936,19.376,10.843,12.117,13.272,12.488,16.48,20.584,29.072,10.409,12.425,16.268,24.983,32.508,12.424,14.88,18.272,27.12,11.375,13.811,16.954,25.935]  # Values from 1 to 60 (inclusive)\n",
        "fuel_2_range=[]\n",
        "for i in fuel_1_range:\n",
        "  fuel_2_range.append(i*0.4)\n",
        " # Values from 1 to 40 (inclusive)\n",
        "calorific_value1 = 35800\n",
        "brake_power = 5.2\n",
        "density1 = 958\n",
        "density2=816.9\n",
        "calorific_value2=39000\n",
        "# Assuming you have the formulas defined as functions, for example:\n",
        "def predict_efficiency(fuel_amount_1, fuel_amount_2, calorific_value1,calorific_value2, brake_power, density1,density2):\n",
        "    # Your formula to calculate efficiency based on the given inputs\n",
        "    mass_of_fuel1 = ((fuel_amount_1  * 0.000001) / 60) * density1\n",
        "    mass_of_fuel2=((fuel_amount_2  * 0.000001) / 60) * density2\n",
        "    heat_input = mass_of_fuel1 * calorific_value1 + mass_of_fuel2 * calorific_value2\n",
        "    efficiency = brake_power / heat_input\n",
        "    return heat_input\n",
        "    # Limit efficiency to a maximum value of 32\n",
        "    efficiency = min(efficiency, 32)\n",
        "\n",
        "    return efficiency\n",
        "\n",
        "# List to store combinations that meet the efficiency criteria\n",
        "efficient_combinations = []\n",
        "\n",
        "# Loop through all combinations of fuel_1 and fuel_2\n",
        "for fuel_amount_1 in fuel_1_range:\n",
        "      # Use the formula-based prediction function to get efficiency\n",
        "      predicted_efficiency = predict_efficiency(fuel_amount_1, fuel_amount_1*0.4, calorific_value1,calorific_value2 ,brake_power,density1,density2)\n",
        "      \"\"\"if 23 <= predicted_efficiency <= 32:\"\"\"\n",
        "      efficient_combinations.append((fuel_amount_1, fuel_amount_1*0.4, predicted_efficiency))\n",
        "\n",
        "# Print the combinations that meet the efficiency criteria\n",
        "if efficient_combinations:\n",
        "    for fuel_amount_1, fuel_amount_2, predicted_efficiency in efficient_combinations:\n",
        "        eff=(brake_power/predicted_efficiency)*100\n",
        "        if eff<33 and eff>31.999999999999:\n",
        "          print(f\"For Fuel 1 amount = {fuel_amount_1}, Fuel 2 amount = {fuel_amount_2}, \"\n",
        "                f\"Brake power = {brake_power}, \"\n",
        "                f\"Heat Input = {predicted_efficiency}, \",f\"Efficiency={eff}\")\n",
        "\n",
        "else:\n",
        "    print(\"No combinations meet the efficiency criteria.\")"
      ],
      "metadata": {
        "colab": {
          "base_uri": "https://localhost:8080/"
        },
        "id": "xUWh06xRmATp",
        "outputId": "072504bf-1bd4-4eb4-9164-4961ab55c7e7"
      },
      "execution_count": null,
      "outputs": [
        {
          "output_type": "stream",
          "name": "stdout",
          "text": [
            "For Fuel 1 amount = 20.11, Fuel 2 amount = 8.044, Brake power = 5.2, Heat Input = 15.766253406666666,  Efficiency=32.98183700257673\n",
            "For Fuel 1 amount = 20.49, Fuel 2 amount = 8.196, Brake power = 5.2, Heat Input = 16.064173659999998,  Efficiency=32.37016799032787\n",
            "For Fuel 1 amount = 20.421, Fuel 2 amount = 8.1684, Brake power = 5.2, Heat Input = 16.010077614,  Efficiency=32.47954273159091\n",
            "For Fuel 1 amount = 20.584, Fuel 2 amount = 8.233600000000001, Brake power = 5.2, Heat Input = 16.137869722666665,  Efficiency=32.22234464252905\n"
          ]
        }
      ]
    },
    {
      "cell_type": "markdown",
      "source": [
        "DMC 10"
      ],
      "metadata": {
        "id": "5VhWkGu4mQwO"
      }
    },
    {
      "cell_type": "code",
      "source": [
        "#DMC 10\n",
        "fuel_1_range = [16.46,20.11,28.18,18.05,20.49,27.43,41.24,12.81,19.13,8.91,8.37,26.28,33.83,17.658,22.041,27.756,26.955,15.264,18.224,22.4,16.912,18.648,23.429,9.324,11.994,14.682,17.604,21.522,6.909,17.094,20.86,28.042,35.945,13.992,15.432,19.744,24.288,17.776,10.346,12.936,17.85,25.298,30.807,18.891,20.421,12.504,14.92,19.432,22.616,20.848,10.143,12.621,15.365,20.958,10.528,13.944,11.277,12.978,17.031,25.935,11.416,13.968,16.656,9.555,11.963,14.924,20.972,22.008,19.053,23.886,33.264,4.936,12.936,19.376,10.843,12.117,13.272,12.488,16.48,20.584,29.072,10.409,12.425,16.268,24.983,32.508,12.424,14.88,18.272,27.12,11.375,13.811,16.954,25.935]  # Values from 1 to 60 (inclusive)\n",
        "fuel_2_range=[]\n",
        "for i in fuel_1_range:\n",
        "  fuel_2_range.append(i*0.1)\n",
        " # Values from 1 to 40 (inclusive)\n",
        "calorific_value1 = 35800\n",
        "brake_power = 5.2\n",
        "density1 = 958\n",
        "density2=1073\n",
        "calorific_value2=35000\n",
        "# Assuming you have the formulas defined as functions, for example:\n",
        "def predict_efficiency(fuel_amount_1, fuel_amount_2, calorific_value1,calorific_value2, brake_power, density1,density2):\n",
        "    # Your formula to calculate efficiency based on the given inputs\n",
        "    mass_of_fuel1 = ((fuel_amount_1  * 0.000001) / 60) * density1\n",
        "    mass_of_fuel2=((fuel_amount_2  * 0.000001) / 60) * density2\n",
        "    heat_input = mass_of_fuel1 * calorific_value1 + mass_of_fuel2 * calorific_value2\n",
        "    efficiency = brake_power / heat_input\n",
        "    return heat_input\n",
        "    # Limit efficiency to a maximum value of 32\n",
        "    efficiency = min(efficiency, 32)\n",
        "\n",
        "    return efficiency\n",
        "\n",
        "# List to store combinations that meet the efficiency criteria\n",
        "efficient_combinations = []\n",
        "\n",
        "# Loop through all combinations of fuel_1 and fuel_2\n",
        "for fuel_amount_1 in fuel_1_range:\n",
        "      # Use the formula-based prediction function to get efficiency\n",
        "      predicted_efficiency = predict_efficiency(fuel_amount_1, fuel_amount_1*0.1, calorific_value1,calorific_value2 ,brake_power,density1,density2)\n",
        "      \"\"\"if 23 <= predicted_efficiency <= 32:\"\"\"\n",
        "      efficient_combinations.append((fuel_amount_1, fuel_amount_1*0.1, predicted_efficiency))\n",
        "\n",
        "# Print the combinations that meet the efficiency criteria\n",
        "if efficient_combinations:\n",
        "    for fuel_amount_1, fuel_amount_2, predicted_efficiency in efficient_combinations:\n",
        "        eff=(brake_power/predicted_efficiency)*100\n",
        "        if eff<33 and eff>31.999999999999:\n",
        "          print(f\"For Fuel 1 amount = {fuel_amount_1}, Fuel 2 amount = {fuel_amount_2}, \"\n",
        "                f\"Brake power = {brake_power}, \"\n",
        "                f\"Heat Input = {predicted_efficiency}, \",f\"Efficiency={eff}\")\n",
        "\n",
        "else:\n",
        "    print(\"No combinations meet the efficiency criteria.\")"
      ],
      "metadata": {
        "colab": {
          "base_uri": "https://localhost:8080/"
        },
        "id": "9dFQFN-zmURU",
        "outputId": "78a44b72-58ab-437b-fafd-d24d01a35713"
      },
      "execution_count": null,
      "outputs": [
        {
          "output_type": "stream",
          "name": "stdout",
          "text": [
            "For Fuel 1 amount = 25.298, Fuel 2 amount = 2.5298, Brake power = 5.2, Heat Input = 16.04394943666666,  Efficiency=32.41097225173235\n",
            "For Fuel 1 amount = 24.983, Fuel 2 amount = 2.4983000000000004, Brake power = 5.2, Heat Input = 15.844176961666667,  Efficiency=32.81962838827702\n"
          ]
        }
      ]
    },
    {
      "cell_type": "markdown",
      "source": [
        "DMC 20"
      ],
      "metadata": {
        "id": "396jJs0umWKi"
      }
    },
    {
      "cell_type": "code",
      "source": [
        "#DMC 20\n",
        "fuel_1_range = [16.46,20.11,28.18,18.05,20.49,27.43,41.24,12.81,19.13,8.91,8.37,26.28,33.83,17.658,22.041,27.756,26.955,15.264,18.224,22.4,16.912,18.648,23.429,9.324,11.994,14.682,17.604,21.522,6.909,17.094,20.86,28.042,35.945,13.992,15.432,19.744,24.288,17.776,10.346,12.936,17.85,25.298,30.807,18.891,20.421,12.504,14.92,19.432,22.616,20.848,10.143,12.621,15.365,20.958,10.528,13.944,11.277,12.978,17.031,25.935,11.416,13.968,16.656,9.555,11.963,14.924,20.972,22.008,19.053,23.886,33.264,4.936,12.936,19.376,10.843,12.117,13.272,12.488,16.48,20.584,29.072,10.409,12.425,16.268,24.983,32.508,12.424,14.88,18.272,27.12,11.375,13.811,16.954,25.935]  # Values from 1 to 60 (inclusive)\n",
        "fuel_2_range=[]\n",
        "for i in fuel_1_range:\n",
        "  fuel_2_range.append(i*0.2)\n",
        " # Values from 1 to 40 (inclusive)\n",
        "calorific_value1 = 35800\n",
        "brake_power = 5.2\n",
        "density1 = 958\n",
        "density2=1073\n",
        "calorific_value2=35000\n",
        "# Assuming you have the formulas defined as functions, for example:\n",
        "def predict_efficiency(fuel_amount_1, fuel_amount_2, calorific_value1,calorific_value2, brake_power, density1,density2):\n",
        "    # Your formula to calculate efficiency based on the given inputs\n",
        "    mass_of_fuel1 = ((fuel_amount_1  * 0.000001) / 60) * density1\n",
        "    mass_of_fuel2=((fuel_amount_2  * 0.000001) / 60) * density2\n",
        "    heat_input = mass_of_fuel1 * calorific_value1 + mass_of_fuel2 * calorific_value2\n",
        "    efficiency = brake_power / heat_input\n",
        "    return heat_input\n",
        "    # Limit efficiency to a maximum value of 32\n",
        "    efficiency = min(efficiency, 32)\n",
        "\n",
        "    return efficiency\n",
        "\n",
        "# List to store combinations that meet the efficiency criteria\n",
        "efficient_combinations = []\n",
        "\n",
        "# Loop through all combinations of fuel_1 and fuel_2\n",
        "for fuel_amount_1 in fuel_1_range:\n",
        "      # Use the formula-based prediction function to get efficiency\n",
        "      predicted_efficiency = predict_efficiency(fuel_amount_1, fuel_amount_1*0.2, calorific_value1,calorific_value2 ,brake_power,density1,density2)\n",
        "      \"\"\"if 23 <= predicted_efficiency <= 32:\"\"\"\n",
        "      efficient_combinations.append((fuel_amount_1, fuel_amount_1*0.2, predicted_efficiency))\n",
        "\n",
        "# Print the combinations that meet the efficiency criteria\n",
        "if efficient_combinations:\n",
        "    for fuel_amount_1, fuel_amount_2, predicted_efficiency in efficient_combinations:\n",
        "        eff=(brake_power/predicted_efficiency)*100\n",
        "        if eff<33 and eff>31.999999999999:\n",
        "          print(f\"For Fuel 1 amount = {fuel_amount_1}, Fuel 2 amount = {fuel_amount_2}, \"\n",
        "                f\"Brake power = {brake_power}, \"\n",
        "                f\"Heat Input = {predicted_efficiency}, \",f\"Efficiency={eff}\")\n",
        "\n",
        "else:\n",
        "    print(\"No combinations meet the efficiency criteria.\")"
      ],
      "metadata": {
        "colab": {
          "base_uri": "https://localhost:8080/"
        },
        "id": "srTFDbMumYHM",
        "outputId": "4cadbe7a-83f3-447a-ff93-856c9411ee84"
      },
      "execution_count": null,
      "outputs": [
        {
          "output_type": "stream",
          "name": "stdout",
          "text": [
            "For Fuel 1 amount = 22.616, Fuel 2 amount = 4.5232, Brake power = 5.2, Heat Input = 15.75860264,  Efficiency=32.997849611366306\n"
          ]
        }
      ]
    },
    {
      "cell_type": "markdown",
      "source": [
        "DMC 30"
      ],
      "metadata": {
        "id": "MxeHye24mYkC"
      }
    },
    {
      "cell_type": "code",
      "source": [
        "#DMC 30\n",
        "fuel_1_range = [16.46,20.11,28.18,18.05,20.49,27.43,41.24,12.81,19.13,8.91,8.37,26.28,33.83,17.658,22.041,27.756,26.955,15.264,18.224,22.4,16.912,18.648,23.429,9.324,11.994,14.682,17.604,21.522,6.909,17.094,20.86,28.042,35.945,13.992,15.432,19.744,24.288,17.776,10.346,12.936,17.85,25.298,30.807,18.891,20.421,12.504,14.92,19.432,22.616,20.848,10.143,12.621,15.365,20.958,10.528,13.944,11.277,12.978,17.031,25.935,11.416,13.968,16.656,9.555,11.963,14.924,20.972,22.008,19.053,23.886,33.264,4.936,12.936,19.376,10.843,12.117,13.272,12.488,16.48,20.584,29.072,10.409,12.425,16.268,24.983,32.508,12.424,14.88,18.272,27.12,11.375,13.811,16.954,25.935]  # Values from 1 to 60 (inclusive)\n",
        "fuel_2_range=[]\n",
        "for i in fuel_1_range:\n",
        "  fuel_2_range.append(i*0.3)\n",
        " # Values from 1 to 40 (inclusive)\n",
        "calorific_value1 = 35800\n",
        "brake_power = 5.2\n",
        "density1 = 958\n",
        "density2=1073\n",
        "calorific_value2=35000\n",
        "# Assuming you have the formulas defined as functions, for example:\n",
        "def predict_efficiency(fuel_amount_1, fuel_amount_2, calorific_value1,calorific_value2, brake_power, density1,density2):\n",
        "    # Your formula to calculate efficiency based on the given inputs\n",
        "    mass_of_fuel1 = ((fuel_amount_1  * 0.000001) / 60) * density1\n",
        "    mass_of_fuel2=((fuel_amount_2  * 0.000001) / 60) * density2\n",
        "    heat_input = mass_of_fuel1 * calorific_value1 + mass_of_fuel2 * calorific_value2\n",
        "    efficiency = brake_power / heat_input\n",
        "    return heat_input\n",
        "    # Limit efficiency to a maximum value of 32\n",
        "    efficiency = min(efficiency, 32)\n",
        "\n",
        "    return efficiency\n",
        "\n",
        "# List to store combinations that meet the efficiency criteria\n",
        "efficient_combinations = []\n",
        "\n",
        "# Loop through all combinations of fuel_1 and fuel_2\n",
        "for fuel_amount_1 in fuel_1_range:\n",
        "      # Use the formula-based prediction function to get efficiency\n",
        "      predicted_efficiency = predict_efficiency(fuel_amount_1, fuel_amount_1*0.3, calorific_value1,calorific_value2 ,brake_power,density1,density2)\n",
        "      \"\"\"if 23 <= predicted_efficiency <= 32:\"\"\"\n",
        "      efficient_combinations.append((fuel_amount_1, fuel_amount_1*0.3, predicted_efficiency))\n",
        "\n",
        "# Print the combinations that meet the efficiency criteria\n",
        "if efficient_combinations:\n",
        "    for fuel_amount_1, fuel_amount_2, predicted_efficiency in efficient_combinations:\n",
        "        eff=(brake_power/predicted_efficiency)*100\n",
        "        if eff<33 and eff>31.999999999999:\n",
        "          print(f\"For Fuel 1 amount = {fuel_amount_1}, Fuel 2 amount = {fuel_amount_2}, \"\n",
        "                f\"Brake power = {brake_power}, \"\n",
        "                f\"Heat Input = {predicted_efficiency}, \",f\"Efficiency={eff}\")\n",
        "\n",
        "else:\n",
        "    print(\"No combinations meet the efficiency criteria.\")"
      ],
      "metadata": {
        "colab": {
          "base_uri": "https://localhost:8080/"
        },
        "id": "SD4uswLBmasH",
        "outputId": "9020ba63-df4b-4a35-a74c-0d3ee869386b"
      },
      "execution_count": null,
      "outputs": [
        {
          "output_type": "stream",
          "name": "stdout",
          "text": [
            "For Fuel 1 amount = 20.86, Fuel 2 amount = 6.258, Brake power = 5.2, Heat Input = 15.840701566666668,  Efficiency=32.82682890095143\n",
            "For Fuel 1 amount = 20.848, Fuel 2 amount = 6.2543999999999995, Brake power = 5.2, Heat Input = 15.831588986666663,  Efficiency=32.845723852352606\n",
            "For Fuel 1 amount = 20.958, Fuel 2 amount = 6.287399999999999, Brake power = 5.2, Heat Input = 15.91512097,  Efficiency=32.67333003501513\n",
            "For Fuel 1 amount = 20.972, Fuel 2 amount = 6.2916, Brake power = 5.2, Heat Input = 15.925752313333334,  Efficiency=32.651518733256104\n"
          ]
        }
      ]
    },
    {
      "cell_type": "markdown",
      "source": [
        "DMC 40"
      ],
      "metadata": {
        "id": "CndCDV_TmgHz"
      }
    },
    {
      "cell_type": "code",
      "source": [
        "#DMC 40\n",
        "fuel_1_range = [16.46,20.11,28.18,18.05,20.49,27.43,41.24,12.81,19.13,8.91,8.37,26.28,33.83,17.658,22.041,27.756,26.955,15.264,18.224,22.4,16.912,18.648,23.429,9.324,11.994,14.682,17.604,21.522,6.909,17.094,20.86,28.042,35.945,13.992,15.432,19.744,24.288,17.776,10.346,12.936,17.85,25.298,30.807,18.891,20.421,12.504,14.92,19.432,22.616,20.848,10.143,12.621,15.365,20.958,10.528,13.944,11.277,12.978,17.031,25.935,11.416,13.968,16.656,9.555,11.963,14.924,20.972,22.008,19.053,23.886,33.264,4.936,12.936,19.376,10.843,12.117,13.272,12.488,16.48,20.584,29.072,10.409,12.425,16.268,24.983,32.508,12.424,14.88,18.272,27.12,11.375,13.811,16.954,25.935]  # Values from 1 to 60 (inclusive)\n",
        "fuel_2_range=[]\n",
        "for i in fuel_1_range:\n",
        "  fuel_2_range.append(i*0.4)\n",
        " # Values from 1 to 40 (inclusive)\n",
        "calorific_value1 = 35800\n",
        "brake_power = 5.2\n",
        "density1 = 958\n",
        "density2=1073\n",
        "calorific_value2=35000\n",
        "# Assuming you have the formulas defined as functions, for example:\n",
        "def predict_efficiency(fuel_amount_1, fuel_amount_2, calorific_value1,calorific_value2, brake_power, density1,density2):\n",
        "    # Your formula to calculate efficiency based on the given inputs\n",
        "    mass_of_fuel1 = ((fuel_amount_1  * 0.000001) / 60) * density1\n",
        "    mass_of_fuel2=((fuel_amount_2  * 0.000001) / 60) * density2\n",
        "    heat_input = mass_of_fuel1 * calorific_value1 + mass_of_fuel2 * calorific_value2\n",
        "    efficiency = brake_power / heat_input\n",
        "    return heat_input\n",
        "    # Limit efficiency to a maximum value of 32\n",
        "    efficiency = min(efficiency, 32)\n",
        "\n",
        "    return efficiency\n",
        "\n",
        "# List to store combinations that meet the efficiency criteria\n",
        "efficient_combinations = []\n",
        "\n",
        "# Loop through all combinations of fuel_1 and fuel_2\n",
        "for fuel_amount_1 in fuel_1_range:\n",
        "      # Use the formula-based prediction function to get efficiency\n",
        "      predicted_efficiency = predict_efficiency(fuel_amount_1, fuel_amount_1*0.4, calorific_value1,calorific_value2 ,brake_power,density1,density2)\n",
        "      \"\"\"if 23 <= predicted_efficiency <= 32:\"\"\"\n",
        "      efficient_combinations.append((fuel_amount_1, fuel_amount_1*0.4, predicted_efficiency))\n",
        "\n",
        "# Print the combinations that meet the efficiency criteria\n",
        "if efficient_combinations:\n",
        "    for fuel_amount_1, fuel_amount_2, predicted_efficiency in efficient_combinations:\n",
        "        eff=(brake_power/predicted_efficiency)*100\n",
        "        if eff<33 and eff>31.999999999999:\n",
        "          print(f\"For Fuel 1 amount = {fuel_amount_1}, Fuel 2 amount = {fuel_amount_2}, \"\n",
        "                f\"Brake power = {brake_power}, \"\n",
        "                f\"Heat Input = {predicted_efficiency}, \",f\"Efficiency={eff}\")\n",
        "\n",
        "else:\n",
        "    print(\"No combinations meet the efficiency criteria.\")"
      ],
      "metadata": {
        "colab": {
          "base_uri": "https://localhost:8080/"
        },
        "id": "EWq1h6EImhqt",
        "outputId": "6232b318-efd0-4496-d158-dfa5723c1832"
      },
      "execution_count": null,
      "outputs": [
        {
          "output_type": "stream",
          "name": "stdout",
          "text": [
            "For Fuel 1 amount = 19.744, Fuel 2 amount = 7.897600000000001, Brake power = 5.2, Heat Input = 16.229041493333334,  Efficiency=32.04132543586193\n",
            "For Fuel 1 amount = 19.432, Fuel 2 amount = 7.7728, Brake power = 5.2, Heat Input = 15.972585813333332,  Efficiency=32.555780640472314\n",
            "For Fuel 1 amount = 19.376, Fuel 2 amount = 7.750400000000001, Brake power = 5.2, Heat Input = 15.926555306666666,  Efficiency=32.64987249203437\n"
          ]
        }
      ]
    },
    {
      "cell_type": "markdown",
      "source": [
        "CM 10"
      ],
      "metadata": {
        "id": "ztUlOWD0nTel"
      }
    },
    {
      "cell_type": "code",
      "source": [
        "#CM 10\n",
        "fuel_1_range = [16.46,20.11,28.18,18.05,20.49,27.43,41.24,12.81,19.13,8.91,8.37,26.28,33.83,17.658,22.041,27.756,26.955,15.264,18.224,22.4,16.912,18.648,23.429,9.324,11.994,14.682,17.604,21.522,6.909,17.094,20.86,28.042,35.945,13.992,15.432,19.744,24.288,17.776,10.346,12.936,17.85,25.298,30.807,18.891,20.421,12.504,14.92,19.432,22.616,20.848,10.143,12.621,15.365,20.958,10.528,13.944,11.277,12.978,17.031,25.935,11.416,13.968,16.656,9.555,11.963,14.924,20.972,22.008,19.053,23.886,33.264,4.936,12.936,19.376,10.843,12.117,13.272,12.488,16.48,20.584,29.072,10.409,12.425,16.268,24.983,32.508,12.424,14.88,18.272,27.12,11.375,13.811,16.954,25.935]  # Values from 1 to 60 (inclusive)\n",
        "fuel_2_range=[]\n",
        "for i in fuel_1_range:\n",
        "  fuel_2_range.append(i*0.1)\n",
        " # Values from 1 to 40 (inclusive)\n",
        "calorific_value1 = 35800\n",
        "brake_power = 5.2\n",
        "density1 = 958\n",
        "density2=894.2\n",
        "calorific_value2=38200\n",
        "# Assuming you have the formulas defined as functions, for example:\n",
        "def predict_efficiency(fuel_amount_1, fuel_amount_2, calorific_value1,calorific_value2, brake_power, density1,density2):\n",
        "    # Your formula to calculate efficiency based on the given inputs\n",
        "    mass_of_fuel1 = ((fuel_amount_1  * 0.000001) / 60) * density1\n",
        "    mass_of_fuel2=((fuel_amount_2  * 0.000001) / 60) * density2\n",
        "    heat_input = mass_of_fuel1 * calorific_value1 + mass_of_fuel2 * calorific_value2\n",
        "    efficiency = brake_power / heat_input\n",
        "    return heat_input\n",
        "    # Limit efficiency to a maximum value of 32\n",
        "    efficiency = min(efficiency, 32)\n",
        "\n",
        "    return efficiency\n",
        "\n",
        "# List to store combinations that meet the efficiency criteria\n",
        "efficient_combinations = []\n",
        "\n",
        "# Loop through all combinations of fuel_1 and fuel_2\n",
        "for fuel_amount_1 in fuel_1_range:\n",
        "      # Use the formula-based prediction function to get efficiency\n",
        "      predicted_efficiency = predict_efficiency(fuel_amount_1, fuel_amount_1*0.1, calorific_value1,calorific_value2 ,brake_power,density1,density2)\n",
        "      \"\"\"if 23 <= predicted_efficiency <= 32:\"\"\"\n",
        "      efficient_combinations.append((fuel_amount_1, fuel_amount_1*0.1, predicted_efficiency))\n",
        "\n",
        "# Print the combinations that meet the efficiency criteria\n",
        "if efficient_combinations:\n",
        "    for fuel_amount_1, fuel_amount_2, predicted_efficiency in efficient_combinations:\n",
        "        eff=(brake_power/predicted_efficiency)*100\n",
        "        if eff<33 and eff>31.999999999999:\n",
        "          print(f\"For Fuel 1 amount = {fuel_amount_1}, Fuel 2 amount = {fuel_amount_2}, \"\n",
        "                f\"Brake power = {brake_power}, \"\n",
        "                f\"Heat Input = {predicted_efficiency}, \",f\"Efficiency={eff}\")\n",
        "\n",
        "else:\n",
        "    print(\"No combinations meet the efficiency criteria.\")"
      ],
      "metadata": {
        "colab": {
          "base_uri": "https://localhost:8080/"
        },
        "id": "4bnx4oEnnfvr",
        "outputId": "10b2e149-d4d0-46e5-815e-25f8dc01878f"
      },
      "execution_count": null,
      "outputs": [
        {
          "output_type": "stream",
          "name": "stdout",
          "text": [
            "For Fuel 1 amount = 25.298, Fuel 2 amount = 2.5298, Brake power = 5.2, Heat Input = 15.900739145199996,  Efficiency=32.70288225292809\n"
          ]
        }
      ]
    },
    {
      "cell_type": "markdown",
      "source": [
        "CM 20"
      ],
      "metadata": {
        "id": "CDpZFlgKngVE"
      }
    },
    {
      "cell_type": "code",
      "source": [
        "#CM 20\n",
        "fuel_1_range = [16.46,20.11,28.18,18.05,20.49,27.43,41.24,12.81,19.13,8.91,8.37,26.28,33.83,17.658,22.041,27.756,26.955,15.264,18.224,22.4,16.912,18.648,23.429,9.324,11.994,14.682,17.604,21.522,6.909,17.094,20.86,28.042,35.945,13.992,15.432,19.744,24.288,17.776,10.346,12.936,17.85,25.298,30.807,18.891,20.421,12.504,14.92,19.432,22.616,20.848,10.143,12.621,15.365,20.958,10.528,13.944,11.277,12.978,17.031,25.935,11.416,13.968,16.656,9.555,11.963,14.924,20.972,22.008,19.053,23.886,33.264,4.936,12.936,19.376,10.843,12.117,13.272,12.488,16.48,20.584,29.072,10.409,12.425,16.268,24.983,32.508,12.424,14.88,18.272,27.12,11.375,13.811,16.954,25.935]  # Values from 1 to 60 (inclusive)\n",
        "fuel_2_range=[]\n",
        "for i in fuel_1_range:\n",
        "  fuel_2_range.append(i*0.2)\n",
        " # Values from 1 to 40 (inclusive)\n",
        "calorific_value1 = 35800\n",
        "brake_power = 5.2\n",
        "density1 = 958\n",
        "density2=894.2\n",
        "calorific_value2=38200\n",
        "# Assuming you have the formulas defined as functions, for example:\n",
        "def predict_efficiency(fuel_amount_1, fuel_amount_2, calorific_value1,calorific_value2, brake_power, density1,density2):\n",
        "    # Your formula to calculate efficiency based on the given inputs\n",
        "    mass_of_fuel1 = ((fuel_amount_1  * 0.000001) / 60) * density1\n",
        "    mass_of_fuel2=((fuel_amount_2  * 0.000001) / 60) * density2\n",
        "    heat_input = mass_of_fuel1 * calorific_value1 + mass_of_fuel2 * calorific_value2\n",
        "    efficiency = brake_power / heat_input\n",
        "    return heat_input\n",
        "    # Limit efficiency to a maximum value of 32\n",
        "    efficiency = min(efficiency, 32)\n",
        "\n",
        "    return efficiency\n",
        "\n",
        "# List to store combinations that meet the efficiency criteria\n",
        "efficient_combinations = []\n",
        "\n",
        "# Loop through all combinations of fuel_1 and fuel_2\n",
        "for fuel_amount_1 in fuel_1_range:\n",
        "      # Use the formula-based prediction function to get efficiency\n",
        "      predicted_efficiency = predict_efficiency(fuel_amount_1, fuel_amount_1*0.2, calorific_value1,calorific_value2 ,brake_power,density1,density2)\n",
        "      \"\"\"if 23 <= predicted_efficiency <= 32:\"\"\"\n",
        "      efficient_combinations.append((fuel_amount_1, fuel_amount_1*0.2, predicted_efficiency))\n",
        "\n",
        "# Print the combinations that meet the efficiency criteria\n",
        "if efficient_combinations:\n",
        "    for fuel_amount_1, fuel_amount_2, predicted_efficiency in efficient_combinations:\n",
        "        eff=(brake_power/predicted_efficiency)*100\n",
        "        if eff<33 and eff>31.999999999999:\n",
        "          print(f\"For Fuel 1 amount = {fuel_amount_1}, Fuel 2 amount = {fuel_amount_2}, \"\n",
        "                f\"Brake power = {brake_power}, \"\n",
        "                f\"Heat Input = {predicted_efficiency}, \",f\"Efficiency={eff}\")\n",
        "\n",
        "else:\n",
        "    print(\"No combinations meet the efficiency criteria.\")"
      ],
      "metadata": {
        "colab": {
          "base_uri": "https://localhost:8080/"
        },
        "id": "dvYuWMf0nhr0",
        "outputId": "24991e3f-547b-40a8-de56-7b36e58c5e4e"
      },
      "execution_count": null,
      "outputs": [
        {
          "output_type": "stream",
          "name": "stdout",
          "text": [
            "For Fuel 1 amount = 23.429, Fuel 2 amount = 4.6857999999999995, Brake power = 5.2, Heat Input = 16.059832895866666,  Efficiency=32.37891722608352\n"
          ]
        }
      ]
    },
    {
      "cell_type": "markdown",
      "source": [
        "CM 30"
      ],
      "metadata": {
        "id": "5DWpGRjenigT"
      }
    },
    {
      "cell_type": "code",
      "source": [
        "#CM 30\n",
        "fuel_1_range = [16.46,20.11,28.18,18.05,20.49,27.43,41.24,12.81,19.13,8.91,8.37,26.28,33.83,17.658,22.041,27.756,26.955,15.264,18.224,22.4,16.912,18.648,23.429,9.324,11.994,14.682,17.604,21.522,6.909,17.094,20.86,28.042,35.945,13.992,15.432,19.744,24.288,17.776,10.346,12.936,17.85,25.298,30.807,18.891,20.421,12.504,14.92,19.432,22.616,20.848,10.143,12.621,15.365,20.958,10.528,13.944,11.277,12.978,17.031,25.935,11.416,13.968,16.656,9.555,11.963,14.924,20.972,22.008,19.053,23.886,33.264,4.936,12.936,19.376,10.843,12.117,13.272,12.488,16.48,20.584,29.072,10.409,12.425,16.268,24.983,32.508,12.424,14.88,18.272,27.12,11.375,13.811,16.954,25.935]  # Values from 1 to 60 (inclusive)\n",
        "fuel_2_range=[]\n",
        "for i in fuel_1_range:\n",
        "  fuel_2_range.append(i*0.3)\n",
        " # Values from 1 to 40 (inclusive)\n",
        "calorific_value1 = 35800\n",
        "brake_power = 5.2\n",
        "density1 = 958\n",
        "density2=894.2\n",
        "calorific_value2=38200\n",
        "# Assuming you have the formulas defined as functions, for example:\n",
        "def predict_efficiency(fuel_amount_1, fuel_amount_2, calorific_value1,calorific_value2, brake_power, density1,density2):\n",
        "    # Your formula to calculate efficiency based on the given inputs\n",
        "    mass_of_fuel1 = ((fuel_amount_1  * 0.000001) / 60) * density1\n",
        "    mass_of_fuel2=((fuel_amount_2  * 0.000001) / 60) * density2\n",
        "    heat_input = mass_of_fuel1 * calorific_value1 + mass_of_fuel2 * calorific_value2\n",
        "    efficiency = brake_power / heat_input\n",
        "    return heat_input\n",
        "    # Limit efficiency to a maximum value of 32\n",
        "    efficiency = min(efficiency, 32)\n",
        "\n",
        "    return efficiency\n",
        "\n",
        "# List to store combinations that meet the efficiency criteria\n",
        "efficient_combinations = []\n",
        "\n",
        "# Loop through all combinations of fuel_1 and fuel_2\n",
        "for fuel_amount_1 in fuel_1_range:\n",
        "      # Use the formula-based prediction function to get efficiency\n",
        "      predicted_efficiency = predict_efficiency(fuel_amount_1, fuel_amount_1*0.3, calorific_value1,calorific_value2 ,brake_power,density1,density2)\n",
        "      \"\"\"if 23 <= predicted_efficiency <= 32:\"\"\"\n",
        "      efficient_combinations.append((fuel_amount_1, fuel_amount_1*0.3, predicted_efficiency))\n",
        "\n",
        "# Print the combinations that meet the efficiency criteria\n",
        "if efficient_combinations:\n",
        "    for fuel_amount_1, fuel_amount_2, predicted_efficiency in efficient_combinations:\n",
        "        eff=(brake_power/predicted_efficiency)*100\n",
        "        if eff<33 and eff>31.999999999999:\n",
        "          print(f\"For Fuel 1 amount = {fuel_amount_1}, Fuel 2 amount = {fuel_amount_2}, \"\n",
        "                f\"Brake power = {brake_power}, \"\n",
        "                f\"Heat Input = {predicted_efficiency}, \",f\"Efficiency={eff}\")\n",
        "\n",
        "else:\n",
        "    print(\"No combinations meet the efficiency criteria.\")"
      ],
      "metadata": {
        "colab": {
          "base_uri": "https://localhost:8080/"
        },
        "id": "jhx2treGnjbv",
        "outputId": "6ce078b9-d009-454c-8c12-d3b4732e85ff"
      },
      "execution_count": null,
      "outputs": [
        {
          "output_type": "stream",
          "name": "stdout",
          "text": [
            "For Fuel 1 amount = 21.522, Fuel 2 amount = 6.456599999999999, Brake power = 5.2, Heat Input = 15.977908408399998,  Efficiency=32.54493558910519\n"
          ]
        }
      ]
    },
    {
      "cell_type": "markdown",
      "source": [
        "CM 40"
      ],
      "metadata": {
        "id": "zGfL3U9LnkBc"
      }
    },
    {
      "cell_type": "code",
      "source": [
        "#CM 40\n",
        "fuel_1_range = [16.46,20.11,28.18,18.05,20.49,27.43,41.24,12.81,19.13,8.91,8.37,26.28,33.83,17.658,22.041,27.756,26.955,15.264,18.224,22.4,16.912,18.648,23.429,9.324,11.994,14.682,17.604,21.522,6.909,17.094,20.86,28.042,35.945,13.992,15.432,19.744,24.288,17.776,10.346,12.936,17.85,25.298,30.807,18.891,20.421,12.504,14.92,19.432,22.616,20.848,10.143,12.621,15.365,20.958,10.528,13.944,11.277,12.978,17.031,25.935,11.416,13.968,16.656,9.555,11.963,14.924,20.972,22.008,19.053,23.886,33.264,4.936,12.936,19.376,10.843,12.117,13.272,12.488,16.48,20.584,29.072,10.409,12.425,16.268,24.983,32.508,12.424,14.88,18.272,27.12,11.375,13.811,16.954,25.935]  # Values from 1 to 60 (inclusive)\n",
        "fuel_2_range=[]\n",
        "for i in fuel_1_range:\n",
        "  fuel_2_range.append(i*0.4)\n",
        " # Values from 1 to 40 (inclusive)\n",
        "calorific_value1 = 35800\n",
        "brake_power = 5.2\n",
        "density1 = 958\n",
        "density2=894.2\n",
        "calorific_value2=38200\n",
        "# Assuming you have the formulas defined as functions, for example:\n",
        "def predict_efficiency(fuel_amount_1, fuel_amount_2, calorific_value1,calorific_value2, brake_power, density1,density2):\n",
        "    # Your formula to calculate efficiency based on the given inputs\n",
        "    mass_of_fuel1 = ((fuel_amount_1  * 0.000001) / 60) * density1\n",
        "    mass_of_fuel2=((fuel_amount_2  * 0.000001) / 60) * density2\n",
        "    heat_input = mass_of_fuel1 * calorific_value1 + mass_of_fuel2 * calorific_value2\n",
        "    efficiency = brake_power / heat_input\n",
        "    return heat_input\n",
        "    # Limit efficiency to a maximum value of 32\n",
        "    efficiency = min(efficiency, 32)\n",
        "\n",
        "    return efficiency\n",
        "\n",
        "# List to store combinations that meet the efficiency criteria\n",
        "efficient_combinations = []\n",
        "\n",
        "# Loop through all combinations of fuel_1 and fuel_2\n",
        "for fuel_amount_1 in fuel_1_range:\n",
        "      # Use the formula-based prediction function to get efficiency\n",
        "      predicted_efficiency = predict_efficiency(fuel_amount_1, fuel_amount_1*0.4, calorific_value1,calorific_value2 ,brake_power,density1,density2)\n",
        "      \"\"\"if 23 <= predicted_efficiency <= 32:\"\"\"\n",
        "      efficient_combinations.append((fuel_amount_1, fuel_amount_1*0.4, predicted_efficiency))\n",
        "\n",
        "# Print the combinations that meet the efficiency criteria\n",
        "if efficient_combinations:\n",
        "    for fuel_amount_1, fuel_amount_2, predicted_efficiency in efficient_combinations:\n",
        "        eff=(brake_power/predicted_efficiency)*100\n",
        "        if eff<33 and eff>31.999999999999:\n",
        "          print(f\"For Fuel 1 amount = {fuel_amount_1}, Fuel 2 amount = {fuel_amount_2}, \"\n",
        "                f\"Brake power = {brake_power}, \"\n",
        "                f\"Heat Input = {predicted_efficiency}, \",f\"Efficiency={eff}\")\n",
        "\n",
        "else:\n",
        "    print(\"No combinations meet the efficiency criteria.\")"
      ],
      "metadata": {
        "colab": {
          "base_uri": "https://localhost:8080/"
        },
        "id": "45cs5Y3Gnlto",
        "outputId": "8c16c8b0-703d-4dbe-98ec-514137257725"
      },
      "execution_count": null,
      "outputs": [
        {
          "output_type": "stream",
          "name": "stdout",
          "text": [
            "For Fuel 1 amount = 20.11, Fuel 2 amount = 8.044, Brake power = 5.2, Heat Input = 16.074518255999998,  Efficiency=32.34933649136913\n",
            "For Fuel 1 amount = 19.744, Fuel 2 amount = 7.897600000000001, Brake power = 5.2, Heat Input = 15.7819636224,  Efficiency=32.94900510744698\n"
          ]
        }
      ]
    },
    {
      "cell_type": "markdown",
      "source": [
        "DEE 10"
      ],
      "metadata": {
        "id": "0RHgED08oMlJ"
      }
    },
    {
      "cell_type": "code",
      "source": [
        "#DEE 10\n",
        "fuel_1_range = [16.46,20.11,28.18,18.05,20.49,27.43,41.24,12.81,19.13,8.91,8.37,26.28,33.83,17.658,22.041,27.756,26.955,15.264,18.224,22.4,16.912,18.648,23.429,9.324,11.994,14.682,17.604,21.522,6.909,17.094,20.86,28.042,35.945,13.992,15.432,19.744,24.288,17.776,10.346,12.936,17.85,25.298,30.807,18.891,20.421,12.504,14.92,19.432,22.616,20.848,10.143,12.621,15.365,20.958,10.528,13.944,11.277,12.978,17.031,25.935,11.416,13.968,16.656,9.555,11.963,14.924,20.972,22.008,19.053,23.886,33.264,4.936,12.936,19.376,10.843,12.117,13.272,12.488,16.48,20.584,29.072,10.409,12.425,16.268,24.983,32.508,12.424,14.88,18.272,27.12,11.375,13.811,16.954,25.935]  # Values from 1 to 60 (inclusive)\n",
        "fuel_2_range=[]\n",
        "for i in fuel_1_range:\n",
        "  fuel_2_range.append(i*0.1)\n",
        " # Values from 1 to 40 (inclusive)\n",
        "calorific_value1 = 35800\n",
        "brake_power = 5.2\n",
        "density1 = 958\n",
        "density2=713\n",
        "calorific_value2=39000\n",
        "# Assuming you have the formulas defined as functions, for example:\n",
        "def predict_efficiency(fuel_amount_1, fuel_amount_2, calorific_value1,calorific_value2, brake_power, density1,density2):\n",
        "    # Your formula to calculate efficiency based on the given inputs\n",
        "    mass_of_fuel1 = ((fuel_amount_1  * 0.000001) / 60) * density1\n",
        "    mass_of_fuel2=((fuel_amount_2  * 0.000001) / 60) * density2\n",
        "    heat_input = mass_of_fuel1 * calorific_value1 + mass_of_fuel2 * calorific_value2\n",
        "    efficiency = brake_power / heat_input\n",
        "    return heat_input\n",
        "    # Limit efficiency to a maximum value of 32\n",
        "    efficiency = min(efficiency, 32)\n",
        "\n",
        "    return efficiency\n",
        "\n",
        "# List to store combinations that meet the efficiency criteria\n",
        "efficient_combinations = []\n",
        "\n",
        "# Loop through all combinations of fuel_1 and fuel_2\n",
        "for fuel_amount_1 in fuel_1_range:\n",
        "      # Use the formula-based prediction function to get efficiency\n",
        "      predicted_efficiency = predict_efficiency(fuel_amount_1, fuel_amount_1*0.1, calorific_value1,calorific_value2 ,brake_power,density1,density2)\n",
        "      \"\"\"if 23 <= predicted_efficiency <= 32:\"\"\"\n",
        "      efficient_combinations.append((fuel_amount_1, fuel_amount_1*0.1, predicted_efficiency))\n",
        "\n",
        "# Print the combinations that meet the efficiency criteria\n",
        "if efficient_combinations:\n",
        "    for fuel_amount_1, fuel_amount_2, predicted_efficiency in efficient_combinations:\n",
        "        eff=(brake_power/predicted_efficiency)*100\n",
        "        if eff<33 and eff>31.999999999999:\n",
        "          print(f\"For Fuel 1 amount = {fuel_amount_1}, Fuel 2 amount = {fuel_amount_2}, \"\n",
        "                f\"Brake power = {brake_power}, \"\n",
        "                f\"Heat Input = {predicted_efficiency}, \",f\"Efficiency={eff}\")\n",
        "\n",
        "else:\n",
        "    print(\"No combinations meet the efficiency criteria.\")"
      ],
      "metadata": {
        "colab": {
          "base_uri": "https://localhost:8080/"
        },
        "id": "A2f-AWx7oR5O",
        "outputId": "578b190f-fd44-437f-c1ec-6413c61a0221"
      },
      "execution_count": null,
      "outputs": [
        {
          "output_type": "stream",
          "name": "stdout",
          "text": [
            "For Fuel 1 amount = 26.28, Fuel 2 amount = 2.628, Brake power = 5.2, Heat Input = 16.239769799999998,  Efficiency=32.02015831529829\n",
            "For Fuel 1 amount = 25.935, Fuel 2 amount = 2.5935, Brake power = 5.2, Heat Input = 16.026576475,  Efficiency=32.44610605459954\n",
            "For Fuel 1 amount = 25.935, Fuel 2 amount = 2.5935, Brake power = 5.2, Heat Input = 16.026576475,  Efficiency=32.44610605459954\n"
          ]
        }
      ]
    },
    {
      "cell_type": "markdown",
      "source": [
        "DEE 20"
      ],
      "metadata": {
        "id": "8X0VutRDoS1P"
      }
    },
    {
      "cell_type": "code",
      "source": [
        "#DEE 20\n",
        "fuel_1_range = [16.46,20.11,28.18,18.05,20.49,27.43,41.24,12.81,19.13,8.91,8.37,26.28,33.83,17.658,22.041,27.756,26.955,15.264,18.224,22.4,16.912,18.648,23.429,9.324,11.994,14.682,17.604,21.522,6.909,17.094,20.86,28.042,35.945,13.992,15.432,19.744,24.288,17.776,10.346,12.936,17.85,25.298,30.807,18.891,20.421,12.504,14.92,19.432,22.616,20.848,10.143,12.621,15.365,20.958,10.528,13.944,11.277,12.978,17.031,25.935,11.416,13.968,16.656,9.555,11.963,14.924,20.972,22.008,19.053,23.886,33.264,4.936,12.936,19.376,10.843,12.117,13.272,12.488,16.48,20.584,29.072,10.409,12.425,16.268,24.983,32.508,12.424,14.88,18.272,27.12,11.375,13.811,16.954,25.935]  # Values from 1 to 60 (inclusive)\n",
        "fuel_2_range=[]\n",
        "for i in fuel_1_range:\n",
        "  fuel_2_range.append(i*0.2)\n",
        " # Values from 1 to 40 (inclusive)\n",
        "calorific_value1 = 35800\n",
        "brake_power = 5.2\n",
        "density1 = 958\n",
        "density2=713\n",
        "calorific_value2=39000\n",
        "# Assuming you have the formulas defined as functions, for example:\n",
        "def predict_efficiency(fuel_amount_1, fuel_amount_2, calorific_value1,calorific_value2, brake_power, density1,density2):\n",
        "    # Your formula to calculate efficiency based on the given inputs\n",
        "    mass_of_fuel1 = ((fuel_amount_1  * 0.000001) / 60) * density1\n",
        "    mass_of_fuel2=((fuel_amount_2  * 0.000001) / 60) * density2\n",
        "    heat_input = mass_of_fuel1 * calorific_value1 + mass_of_fuel2 * calorific_value2\n",
        "    efficiency = brake_power / heat_input\n",
        "    return heat_input\n",
        "    # Limit efficiency to a maximum value of 32\n",
        "    efficiency = min(efficiency, 32)\n",
        "\n",
        "    return efficiency\n",
        "\n",
        "# List to store combinations that meet the efficiency criteria\n",
        "efficient_combinations = []\n",
        "\n",
        "# Loop through all combinations of fuel_1 and fuel_2\n",
        "for fuel_amount_1 in fuel_1_range:\n",
        "      # Use the formula-based prediction function to get efficiency\n",
        "      predicted_efficiency = predict_efficiency(fuel_amount_1, fuel_amount_1*0.2, calorific_value1,calorific_value2 ,brake_power,density1,density2)\n",
        "      \"\"\"if 23 <= predicted_efficiency <= 32:\"\"\"\n",
        "      efficient_combinations.append((fuel_amount_1, fuel_amount_1*0.2, predicted_efficiency))\n",
        "\n",
        "# Print the combinations that meet the efficiency criteria\n",
        "if efficient_combinations:\n",
        "    for fuel_amount_1, fuel_amount_2, predicted_efficiency in efficient_combinations:\n",
        "        eff=(brake_power/predicted_efficiency)*100\n",
        "        if eff<33 and eff>31.999999999999:\n",
        "          print(f\"For Fuel 1 amount = {fuel_amount_1}, Fuel 2 amount = {fuel_amount_2}, \"\n",
        "                f\"Brake power = {brake_power}, \"\n",
        "                f\"Heat Input = {predicted_efficiency}, \",f\"Efficiency={eff}\")\n",
        "\n",
        "else:\n",
        "    print(\"No combinations meet the efficiency criteria.\")"
      ],
      "metadata": {
        "colab": {
          "base_uri": "https://localhost:8080/"
        },
        "id": "XdvanqdQoURG",
        "outputId": "3245b12a-917e-4d31-ad7b-53237fb1a123"
      },
      "execution_count": null,
      "outputs": [
        {
          "output_type": "stream",
          "name": "stdout",
          "text": [
            "For Fuel 1 amount = 24.288, Fuel 2 amount = 4.857600000000001, Brake power = 5.2, Heat Input = 16.13443744,  Efficiency=32.22919930947404\n",
            "For Fuel 1 amount = 23.886, Fuel 2 amount = 4.7772, Brake power = 5.2, Heat Input = 15.867390179999997,  Efficiency=32.771614871828916\n"
          ]
        }
      ]
    },
    {
      "cell_type": "markdown",
      "source": [
        "DEE 30"
      ],
      "metadata": {
        "id": "K7V_jj7goUi6"
      }
    },
    {
      "cell_type": "code",
      "source": [
        "#DEE 30\n",
        "fuel_1_range = [16.46,20.11,28.18,18.05,20.49,27.43,41.24,12.81,19.13,8.91,8.37,26.28,33.83,17.658,22.041,27.756,26.955,15.264,18.224,22.4,16.912,18.648,23.429,9.324,11.994,14.682,17.604,21.522,6.909,17.094,20.86,28.042,35.945,13.992,15.432,19.744,24.288,17.776,10.346,12.936,17.85,25.298,30.807,18.891,20.421,12.504,14.92,19.432,22.616,20.848,10.143,12.621,15.365,20.958,10.528,13.944,11.277,12.978,17.031,25.935,11.416,13.968,16.656,9.555,11.963,14.924,20.972,22.008,19.053,23.886,33.264,4.936,12.936,19.376,10.843,12.117,13.272,12.488,16.48,20.584,29.072,10.409,12.425,16.268,24.983,32.508,12.424,14.88,18.272,27.12,11.375,13.811,16.954,25.935]  # Values from 1 to 60 (inclusive)\n",
        "fuel_2_range=[]\n",
        "for i in fuel_1_range:\n",
        "  fuel_2_range.append(i*0.3)\n",
        " # Values from 1 to 40 (inclusive)\n",
        "calorific_value1 = 35800\n",
        "brake_power = 5.2\n",
        "density1 = 958\n",
        "density2=713\n",
        "calorific_value2=39000\n",
        "# Assuming you have the formulas defined as functions, for example:\n",
        "def predict_efficiency(fuel_amount_1, fuel_amount_2, calorific_value1,calorific_value2, brake_power, density1,density2):\n",
        "    # Your formula to calculate efficiency based on the given inputs\n",
        "    mass_of_fuel1 = ((fuel_amount_1  * 0.000001) / 60) * density1\n",
        "    mass_of_fuel2=((fuel_amount_2  * 0.000001) / 60) * density2\n",
        "    heat_input = mass_of_fuel1 * calorific_value1 + mass_of_fuel2 * calorific_value2\n",
        "    efficiency = brake_power / heat_input\n",
        "    return heat_input\n",
        "    # Limit efficiency to a maximum value of 32\n",
        "    efficiency = min(efficiency, 32)\n",
        "\n",
        "    return efficiency\n",
        "\n",
        "# List to store combinations that meet the efficiency criteria\n",
        "efficient_combinations = []\n",
        "\n",
        "# Loop through all combinations of fuel_1 and fuel_2\n",
        "for fuel_amount_1 in fuel_1_range:\n",
        "      # Use the formula-based prediction function to get efficiency\n",
        "      predicted_efficiency = predict_efficiency(fuel_amount_1, fuel_amount_1*0.3, calorific_value1,calorific_value2 ,brake_power,density1,density2)\n",
        "      \"\"\"if 23 <= predicted_efficiency <= 32:\"\"\"\n",
        "      efficient_combinations.append((fuel_amount_1, fuel_amount_1*0.3, predicted_efficiency))\n",
        "\n",
        "# Print the combinations that meet the efficiency criteria\n",
        "if efficient_combinations:\n",
        "    for fuel_amount_1, fuel_amount_2, predicted_efficiency in efficient_combinations:\n",
        "        eff=(brake_power/predicted_efficiency)*100\n",
        "        if eff<33 and eff>31.999999999999:\n",
        "          print(f\"For Fuel 1 amount = {fuel_amount_1}, Fuel 2 amount = {fuel_amount_2}, \"\n",
        "                f\"Brake power = {brake_power}, \"\n",
        "                f\"Heat Input = {predicted_efficiency}, \",f\"Efficiency={eff}\")\n",
        "\n",
        "else:\n",
        "    print(\"No combinations meet the efficiency criteria.\")"
      ],
      "metadata": {
        "colab": {
          "base_uri": "https://localhost:8080/"
        },
        "id": "BtJFB0KxoVbf",
        "outputId": "4c7b18a9-26f4-4232-ea3e-f046d5a7d8d4"
      },
      "execution_count": null,
      "outputs": [
        {
          "output_type": "stream",
          "name": "stdout",
          "text": [
            "For Fuel 1 amount = 22.4, Fuel 2 amount = 6.72, Brake power = 5.2, Heat Input = 15.918373333333333,  Efficiency=32.666654381771004\n",
            "For Fuel 1 amount = 22.616, Fuel 2 amount = 6.7848, Brake power = 5.2, Heat Input = 16.07187193333333,  Efficiency=32.354662988666014\n"
          ]
        }
      ]
    },
    {
      "cell_type": "markdown",
      "source": [
        "DEE 40"
      ],
      "metadata": {
        "id": "HEg_8ysioVtc"
      }
    },
    {
      "cell_type": "code",
      "source": [
        "#DEE 40\n",
        "fuel_1_range = [16.46,20.11,28.18,18.05,20.49,27.43,41.24,12.81,19.13,8.91,8.37,26.28,33.83,17.658,22.041,27.756,26.955,15.264,18.224,22.4,16.912,18.648,23.429,9.324,11.994,14.682,17.604,21.522,6.909,17.094,20.86,28.042,35.945,13.992,15.432,19.744,24.288,17.776,10.346,12.936,17.85,25.298,30.807,18.891,20.421,12.504,14.92,19.432,22.616,20.848,10.143,12.621,15.365,20.958,10.528,13.944,11.277,12.978,17.031,25.935,11.416,13.968,16.656,9.555,11.963,14.924,20.972,22.008,19.053,23.886,33.264,4.936,12.936,19.376,10.843,12.117,13.272,12.488,16.48,20.584,29.072,10.409,12.425,16.268,24.983,32.508,12.424,14.88,18.272,27.12,11.375,13.811,16.954,25.935]  # Values from 1 to 60 (inclusive)\n",
        "fuel_2_range=[]\n",
        "for i in fuel_1_range:\n",
        "  fuel_2_range.append(i*0.4)\n",
        " # Values from 1 to 40 (inclusive)\n",
        "calorific_value1 = 35800\n",
        "brake_power = 5.2\n",
        "density1 = 958\n",
        "density2=713\n",
        "calorific_value2=39000\n",
        "# Assuming you have the formulas defined as functions, for example:\n",
        "def predict_efficiency(fuel_amount_1, fuel_amount_2, calorific_value1,calorific_value2, brake_power, density1,density2):\n",
        "    # Your formula to calculate efficiency based on the given inputs\n",
        "    mass_of_fuel1 = ((fuel_amount_1  * 0.000001) / 60) * density1\n",
        "    mass_of_fuel2=((fuel_amount_2  * 0.000001) / 60) * density2\n",
        "    heat_input = mass_of_fuel1 * calorific_value1 + mass_of_fuel2 * calorific_value2\n",
        "    efficiency = brake_power / heat_input\n",
        "    return heat_input\n",
        "    # Limit efficiency to a maximum value of 32\n",
        "    efficiency = min(efficiency, 32)\n",
        "\n",
        "    return efficiency\n",
        "\n",
        "# List to store combinations that meet the efficiency criteria\n",
        "efficient_combinations = []\n",
        "\n",
        "# Loop through all combinations of fuel_1 and fuel_2\n",
        "for fuel_amount_1 in fuel_1_range:\n",
        "      # Use the formula-based prediction function to get efficiency\n",
        "      predicted_efficiency = predict_efficiency(fuel_amount_1, fuel_amount_1*0.4, calorific_value1,calorific_value2 ,brake_power,density1,density2)\n",
        "      \"\"\"if 23 <= predicted_efficiency <= 32:\"\"\"\n",
        "      efficient_combinations.append((fuel_amount_1, fuel_amount_1*0.4, predicted_efficiency))\n",
        "\n",
        "# Print the combinations that meet the efficiency criteria\n",
        "if efficient_combinations:\n",
        "    for fuel_amount_1, fuel_amount_2, predicted_efficiency in efficient_combinations:\n",
        "        eff=(brake_power/predicted_efficiency)*100\n",
        "        if eff<33 and eff>31.999999999999:\n",
        "          print(f\"For Fuel 1 amount = {fuel_amount_1}, Fuel 2 amount = {fuel_amount_2}, \"\n",
        "                f\"Brake power = {brake_power}, \"\n",
        "                f\"Heat Input = {predicted_efficiency}, \",f\"Efficiency={eff}\")\n",
        "\n",
        "else:\n",
        "    print(\"No combinations meet the efficiency criteria.\")"
      ],
      "metadata": {
        "colab": {
          "base_uri": "https://localhost:8080/"
        },
        "id": "WOK7Crj-oWnK",
        "outputId": "aa65ed51-cffb-4576-9781-9801d2ed7936"
      },
      "execution_count": null,
      "outputs": [
        {
          "output_type": "stream",
          "name": "stdout",
          "text": [
            "For Fuel 1 amount = 20.86, Fuel 2 amount = 8.344, Brake power = 5.2, Heat Input = 15.790741866666668,  Efficiency=32.93068839898457\n",
            "For Fuel 1 amount = 20.848, Fuel 2 amount = 8.3392, Brake power = 5.2, Heat Input = 15.781658026666664,  Efficiency=32.94964313137079\n",
            "For Fuel 1 amount = 20.958, Fuel 2 amount = 8.3832, Brake power = 5.2, Heat Input = 15.86492656,  Efficiency=32.77670388409286\n",
            "For Fuel 1 amount = 20.972, Fuel 2 amount = 8.388800000000002, Brake power = 5.2, Heat Input = 15.875524373333336,  Efficiency=32.7548235744239\n"
          ]
        }
      ]
    },
    {
      "cell_type": "markdown",
      "source": [
        "DIESEL 10"
      ],
      "metadata": {
        "id": "QgdunhcUo0du"
      }
    },
    {
      "cell_type": "code",
      "source": [
        "#DIESEL 10\n",
        "fuel_1_range = [16.46,20.11,28.18,18.05,20.49,27.43,41.24,12.81,19.13,8.91,8.37,26.28,33.83,17.658,22.041,27.756,26.955,15.264,18.224,22.4,16.912,18.648,23.429,9.324,11.994,14.682,17.604,21.522,6.909,17.094,20.86,28.042,35.945,13.992,15.432,19.744,24.288,17.776,10.346,12.936,17.85,25.298,30.807,18.891,20.421,12.504,14.92,19.432,22.616,20.848,10.143,12.621,15.365,20.958,10.528,13.944,11.277,12.978,17.031,25.935,11.416,13.968,16.656,9.555,11.963,14.924,20.972,22.008,19.053,23.886,33.264,4.936,12.936,19.376,10.843,12.117,13.272,12.488,16.48,20.584,29.072,10.409,12.425,16.268,24.983,32.508,12.424,14.88,18.272,27.12,11.375,13.811,16.954,25.935]  # Values from 1 to 60 (inclusive)\n",
        "fuel_2_range=[]\n",
        "for i in fuel_1_range:\n",
        "  fuel_2_range.append(i*0.1)\n",
        " # Values from 1 to 40 (inclusive)\n",
        "calorific_value1 = 35800\n",
        "brake_power = 5.2\n",
        "density1 = 958\n",
        "density2=840\n",
        "calorific_value2=42500\n",
        "# Assuming you have the formulas defined as functions, for example:\n",
        "def predict_efficiency(fuel_amount_1, fuel_amount_2, calorific_value1,calorific_value2, brake_power, density1,density2):\n",
        "    # Your formula to calculate efficiency based on the given inputs\n",
        "    mass_of_fuel1 = ((fuel_amount_1  * 0.000001) / 60) * density1\n",
        "    mass_of_fuel2=((fuel_amount_2  * 0.000001) / 60) * density2\n",
        "    heat_input = mass_of_fuel1 * calorific_value1 + mass_of_fuel2 * calorific_value2\n",
        "    efficiency = brake_power / heat_input\n",
        "    return heat_input\n",
        "    # Limit efficiency to a maximum value of 32\n",
        "    efficiency = min(efficiency, 32)\n",
        "\n",
        "    return efficiency\n",
        "\n",
        "# List to store combinations that meet the efficiency criteria\n",
        "efficient_combinations = []\n",
        "\n",
        "# Loop through all combinations of fuel_1 and fuel_2\n",
        "for fuel_amount_1 in fuel_1_range:\n",
        "      # Use the formula-based prediction function to get efficiency\n",
        "      predicted_efficiency = predict_efficiency(fuel_amount_1, fuel_amount_1*0.1, calorific_value1,calorific_value2 ,brake_power,density1,density2)\n",
        "      \"\"\"if 23 <= predicted_efficiency <= 32:\"\"\"\n",
        "      efficient_combinations.append((fuel_amount_1, fuel_amount_1*0.1, predicted_efficiency))\n",
        "\n",
        "# Print the combinations that meet the efficiency criteria\n",
        "if efficient_combinations:\n",
        "    for fuel_amount_1, fuel_amount_2, predicted_efficiency in efficient_combinations:\n",
        "        eff=(brake_power/predicted_efficiency)*100\n",
        "        if eff<33 and eff>31.999999999999:\n",
        "          print(f\"For Fuel 1 amount = {fuel_amount_1}, Fuel 2 amount = {fuel_amount_2}, \"\n",
        "                f\"Brake power = {brake_power}, \"\n",
        "                f\"Heat Input = {predicted_efficiency}, \",f\"Efficiency={eff}\")\n",
        "\n",
        "else:\n",
        "    print(\"No combinations meet the efficiency criteria.\")"
      ],
      "metadata": {
        "colab": {
          "base_uri": "https://localhost:8080/"
        },
        "id": "1iUUyuHLo81B",
        "outputId": "8370735b-356c-4354-d19c-a70af294fb25"
      },
      "execution_count": null,
      "outputs": [
        {
          "output_type": "stream",
          "name": "stdout",
          "text": [
            "For Fuel 1 amount = 25.298, Fuel 2 amount = 2.5298, Brake power = 5.2, Heat Input = 15.96573645333333,  Efficiency=32.5697471907996\n",
            "For Fuel 1 amount = 24.983, Fuel 2 amount = 2.4983000000000004, Brake power = 5.2, Heat Input = 15.766937853333333,  Efficiency=32.98040525288589\n"
          ]
        }
      ]
    },
    {
      "cell_type": "markdown",
      "source": [
        "DIESEL 20"
      ],
      "metadata": {
        "id": "GoRr9AHKo0rN"
      }
    },
    {
      "cell_type": "code",
      "source": [
        "#DIESEL 20\n",
        "fuel_1_range = [16.46,20.11,28.18,18.05,20.49,27.43,41.24,12.81,19.13,8.91,8.37,26.28,33.83,17.658,22.041,27.756,26.955,15.264,18.224,22.4,16.912,18.648,23.429,9.324,11.994,14.682,17.604,21.522,6.909,17.094,20.86,28.042,35.945,13.992,15.432,19.744,24.288,17.776,10.346,12.936,17.85,25.298,30.807,18.891,20.421,12.504,14.92,19.432,22.616,20.848,10.143,12.621,15.365,20.958,10.528,13.944,11.277,12.978,17.031,25.935,11.416,13.968,16.656,9.555,11.963,14.924,20.972,22.008,19.053,23.886,33.264,4.936,12.936,19.376,10.843,12.117,13.272,12.488,16.48,20.584,29.072,10.409,12.425,16.268,24.983,32.508,12.424,14.88,18.272,27.12,11.375,13.811,16.954,25.935]  # Values from 1 to 60 (inclusive)\n",
        "fuel_2_range=[]\n",
        "for i in fuel_1_range:\n",
        "  fuel_2_range.append(i*0.2)\n",
        " # Values from 1 to 40 (inclusive)\n",
        "calorific_value1 = 35800\n",
        "brake_power = 5.2\n",
        "density1 = 958\n",
        "density2=840\n",
        "calorific_value2=42500\n",
        "# Assuming you have the formulas defined as functions, for example:\n",
        "def predict_efficiency(fuel_amount_1, fuel_amount_2, calorific_value1,calorific_value2, brake_power, density1,density2):\n",
        "    # Your formula to calculate efficiency based on the given inputs\n",
        "    mass_of_fuel1 = ((fuel_amount_1  * 0.000001) / 60) * density1\n",
        "    mass_of_fuel2=((fuel_amount_2  * 0.000001) / 60) * density2\n",
        "    heat_input = mass_of_fuel1 * calorific_value1 + mass_of_fuel2 * calorific_value2\n",
        "    efficiency = brake_power / heat_input\n",
        "    return heat_input\n",
        "    # Limit efficiency to a maximum value of 32\n",
        "    efficiency = min(efficiency, 32)\n",
        "\n",
        "    return efficiency\n",
        "\n",
        "# List to store combinations that meet the efficiency criteria\n",
        "efficient_combinations = []\n",
        "\n",
        "# Loop through all combinations of fuel_1 and fuel_2\n",
        "for fuel_amount_1 in fuel_1_range:\n",
        "      # Use the formula-based prediction function to get efficiency\n",
        "      predicted_efficiency = predict_efficiency(fuel_amount_1, fuel_amount_1*0.2, calorific_value1,calorific_value2 ,brake_power,density1,density2)\n",
        "      \"\"\"if 23 <= predicted_efficiency <= 32:\"\"\"\n",
        "      efficient_combinations.append((fuel_amount_1, fuel_amount_1*0.2, predicted_efficiency))\n",
        "\n",
        "# Print the combinations that meet the efficiency criteria\n",
        "if efficient_combinations:\n",
        "    for fuel_amount_1, fuel_amount_2, predicted_efficiency in efficient_combinations:\n",
        "        eff=(brake_power/predicted_efficiency)*100\n",
        "        if eff<33 and eff>31.999999999999:\n",
        "          print(f\"For Fuel 1 amount = {fuel_amount_1}, Fuel 2 amount = {fuel_amount_2}, \"\n",
        "                f\"Brake power = {brake_power}, \"\n",
        "                f\"Heat Input = {predicted_efficiency}, \",f\"Efficiency={eff}\")\n",
        "\n",
        "else:\n",
        "    print(\"No combinations meet the efficiency criteria.\")"
      ],
      "metadata": {
        "colab": {
          "base_uri": "https://localhost:8080/"
        },
        "id": "qWB8bzjmpCWp",
        "outputId": "433eddbf-d5cc-4410-d6b3-eda905b6fe6d"
      },
      "execution_count": null,
      "outputs": [
        {
          "output_type": "stream",
          "name": "stdout",
          "text": [
            "For Fuel 1 amount = 23.429, Fuel 2 amount = 4.6857999999999995, Brake power = 5.2, Heat Input = 16.180223593333334,  Efficiency=32.1379984028313\n"
          ]
        }
      ]
    },
    {
      "cell_type": "markdown",
      "source": [
        "DIESEL 30"
      ],
      "metadata": {
        "id": "cta2zbOapCvD"
      }
    },
    {
      "cell_type": "code",
      "source": [
        "#DIESEL 30\n",
        "fuel_1_range = [16.46,20.11,28.18,18.05,20.49,27.43,41.24,12.81,19.13,8.91,8.37,26.28,33.83,17.658,22.041,27.756,26.955,15.264,18.224,22.4,16.912,18.648,23.429,9.324,11.994,14.682,17.604,21.522,6.909,17.094,20.86,28.042,35.945,13.992,15.432,19.744,24.288,17.776,10.346,12.936,17.85,25.298,30.807,18.891,20.421,12.504,14.92,19.432,22.616,20.848,10.143,12.621,15.365,20.958,10.528,13.944,11.277,12.978,17.031,25.935,11.416,13.968,16.656,9.555,11.963,14.924,20.972,22.008,19.053,23.886,33.264,4.936,12.936,19.376,10.843,12.117,13.272,12.488,16.48,20.584,29.072,10.409,12.425,16.268,24.983,32.508,12.424,14.88,18.272,27.12,11.375,13.811,16.954,25.935]  # Values from 1 to 60 (inclusive)\n",
        "fuel_2_range=[]\n",
        "for i in fuel_1_range:\n",
        "  fuel_2_range.append(i*0.3)\n",
        " # Values from 1 to 40 (inclusive)\n",
        "calorific_value1 = 35800\n",
        "brake_power = 5.2\n",
        "density1 = 958\n",
        "density2=840\n",
        "calorific_value2=42500\n",
        "# Assuming you have the formulas defined as functions, for example:\n",
        "def predict_efficiency(fuel_amount_1, fuel_amount_2, calorific_value1,calorific_value2, brake_power, density1,density2):\n",
        "    # Your formula to calculate efficiency based on the given inputs\n",
        "    mass_of_fuel1 = ((fuel_amount_1  * 0.000001) / 60) * density1\n",
        "    mass_of_fuel2=((fuel_amount_2  * 0.000001) / 60) * density2\n",
        "    heat_input = mass_of_fuel1 * calorific_value1 + mass_of_fuel2 * calorific_value2\n",
        "    efficiency = brake_power / heat_input\n",
        "    return heat_input\n",
        "    # Limit efficiency to a maximum value of 32\n",
        "    efficiency = min(efficiency, 32)\n",
        "\n",
        "    return efficiency\n",
        "\n",
        "# List to store combinations that meet the efficiency criteria\n",
        "efficient_combinations = []\n",
        "\n",
        "# Loop through all combinations of fuel_1 and fuel_2\n",
        "for fuel_amount_1 in fuel_1_range:\n",
        "      # Use the formula-based prediction function to get efficiency\n",
        "      predicted_efficiency = predict_efficiency(fuel_amount_1, fuel_amount_1*0.3, calorific_value1,calorific_value2 ,brake_power,density1,density2)\n",
        "      \"\"\"if 23 <= predicted_efficiency <= 32:\"\"\"\n",
        "      efficient_combinations.append((fuel_amount_1, fuel_amount_1*0.3, predicted_efficiency))\n",
        "\n",
        "# Print the combinations that meet the efficiency criteria\n",
        "if efficient_combinations:\n",
        "    for fuel_amount_1, fuel_amount_2, predicted_efficiency in efficient_combinations:\n",
        "        eff=(brake_power/predicted_efficiency)*100\n",
        "        if eff<33 and eff>31.999999999999:\n",
        "          print(f\"For Fuel 1 amount = {fuel_amount_1}, Fuel 2 amount = {fuel_amount_2}, \"\n",
        "                f\"Brake power = {brake_power}, \"\n",
        "                f\"Heat Input = {predicted_efficiency}, \",f\"Efficiency={eff}\")\n",
        "\n",
        "else:\n",
        "    print(\"No combinations meet the efficiency criteria.\")"
      ],
      "metadata": {
        "colab": {
          "base_uri": "https://localhost:8080/"
        },
        "id": "y8oiOL9EpD9W",
        "outputId": "f3e270f8-3998-4db6-bcde-a4a8d3454888"
      },
      "execution_count": null,
      "outputs": [
        {
          "output_type": "stream",
          "name": "stdout",
          "text": [
            "For Fuel 1 amount = 21.522, Fuel 2 amount = 6.456599999999999, Brake power = 5.2, Heat Input = 16.143795679999997,  Efficiency=32.21051667819424\n"
          ]
        }
      ]
    },
    {
      "cell_type": "markdown",
      "source": [
        "DIESEL 40"
      ],
      "metadata": {
        "id": "RWCQfpwGpEeK"
      }
    },
    {
      "cell_type": "code",
      "source": [
        "#DIESEL 40\n",
        "fuel_1_range = [16.46,20.11,28.18,18.05,20.49,27.43,41.24,12.81,19.13,8.91,8.37,26.28,33.83,17.658,22.041,27.756,26.955,15.264,18.224,22.4,16.912,18.648,23.429,9.324,11.994,14.682,17.604,21.522,6.909,17.094,20.86,28.042,35.945,13.992,15.432,19.744,24.288,17.776,10.346,12.936,17.85,25.298,30.807,18.891,20.421,12.504,14.92,19.432,22.616,20.848,10.143,12.621,15.365,20.958,10.528,13.944,11.277,12.978,17.031,25.935,11.416,13.968,16.656,9.555,11.963,14.924,20.972,22.008,19.053,23.886,33.264,4.936,12.936,19.376,10.843,12.117,13.272,12.488,16.48,20.584,29.072,10.409,12.425,16.268,24.983,32.508,12.424,14.88,18.272,27.12,11.375,13.811,16.954,25.935]  # Values from 1 to 60 (inclusive)\n",
        "fuel_2_range=[]\n",
        "for i in fuel_1_range:\n",
        "  fuel_2_range.append(i*0.4)\n",
        " # Values from 1 to 40 (inclusive)\n",
        "calorific_value1 = 35800\n",
        "brake_power = 5.2\n",
        "density1 = 958\n",
        "density2=840\n",
        "calorific_value2=42500\n",
        "# Assuming you have the formulas defined as functions, for example:\n",
        "def predict_efficiency(fuel_amount_1, fuel_amount_2, calorific_value1,calorific_value2, brake_power, density1,density2):\n",
        "    # Your formula to calculate efficiency based on the given inputs\n",
        "    mass_of_fuel1 = ((fuel_amount_1  * 0.000001) / 60) * density1\n",
        "    mass_of_fuel2=((fuel_amount_2  * 0.000001) / 60) * density2\n",
        "    heat_input = mass_of_fuel1 * calorific_value1 + mass_of_fuel2 * calorific_value2\n",
        "    efficiency = brake_power / heat_input\n",
        "    return heat_input\n",
        "    # Limit efficiency to a maximum value of 32\n",
        "    efficiency = min(efficiency, 32)\n",
        "\n",
        "    return efficiency\n",
        "\n",
        "# List to store combinations that meet the efficiency criteria\n",
        "efficient_combinations = []\n",
        "\n",
        "# Loop through all combinations of fuel_1 and fuel_2\n",
        "for fuel_amount_1 in fuel_1_range:\n",
        "      # Use the formula-based prediction function to get efficiency\n",
        "      predicted_efficiency = predict_efficiency(fuel_amount_1, fuel_amount_1*0.4, calorific_value1,calorific_value2 ,brake_power,density1,density2)\n",
        "      \"\"\"if 23 <= predicted_efficiency <= 32:\"\"\"\n",
        "      efficient_combinations.append((fuel_amount_1, fuel_amount_1*0.4, predicted_efficiency))\n",
        "\n",
        "# Print the combinations that meet the efficiency criteria\n",
        "if efficient_combinations:\n",
        "    for fuel_amount_1, fuel_amount_2, predicted_efficiency in efficient_combinations:\n",
        "        eff=(brake_power/predicted_efficiency)*100\n",
        "        if eff<33 and eff>31.999999999999:\n",
        "          print(f\"For Fuel 1 amount = {fuel_amount_1}, Fuel 2 amount = {fuel_amount_2}, \"\n",
        "                f\"Brake power = {brake_power}, \"\n",
        "                f\"Heat Input = {predicted_efficiency}, \",f\"Efficiency={eff}\")\n",
        "\n",
        "else:\n",
        "    print(\"No combinations meet the efficiency criteria.\")"
      ],
      "metadata": {
        "colab": {
          "base_uri": "https://localhost:8080/"
        },
        "id": "iix0bqjwpVC5",
        "outputId": "0e50ae84-bca1-4420-94f3-d1221c92a278"
      },
      "execution_count": null,
      "outputs": [
        {
          "output_type": "stream",
          "name": "stdout",
          "text": [
            "For Fuel 1 amount = 19.744, Fuel 2 amount = 7.897600000000001, Brake power = 5.2, Heat Input = 15.984874026666667,  Efficiency=32.5307537070679\n"
          ]
        }
      ]
    },
    {
      "cell_type": "markdown",
      "source": [],
      "metadata": {
        "id": "pE0RwMheMHRP"
      }
    }
  ]
}