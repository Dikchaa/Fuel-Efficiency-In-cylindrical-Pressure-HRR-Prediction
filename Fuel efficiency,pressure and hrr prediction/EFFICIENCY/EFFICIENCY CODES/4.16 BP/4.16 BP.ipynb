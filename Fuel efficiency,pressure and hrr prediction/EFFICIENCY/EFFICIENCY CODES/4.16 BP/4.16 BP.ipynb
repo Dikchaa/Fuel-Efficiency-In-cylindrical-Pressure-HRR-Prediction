{
  "nbformat": 4,
  "nbformat_minor": 0,
  "metadata": {
    "colab": {
      "provenance": []
    },
    "kernelspec": {
      "name": "python3",
      "display_name": "Python 3"
    },
    "language_info": {
      "name": "python"
    }
  },
  "cells": [
    {
      "cell_type": "markdown",
      "source": [
        "BUTANOL 10"
      ],
      "metadata": {
        "id": "cBxBJfLifnUq"
      }
    },
    {
      "cell_type": "code",
      "execution_count": null,
      "metadata": {
        "colab": {
          "base_uri": "https://localhost:8080/"
        },
        "id": "A-fIO_3gdvBe",
        "outputId": "793b8f88-e267-4e20-a0f3-aa8e71bc4607"
      },
      "outputs": [
        {
          "output_type": "stream",
          "name": "stdout",
          "text": [
            "For Fuel 1 amount = 28.18, Fuel 2 amount = 2.818, Brake power = 4.16, Heat Input = 17.369586521333332,  Efficiency=23.9499080469802\n",
            "For Fuel 1 amount = 41.24, Fuel 2 amount = 4.1240000000000006, Brake power = 4.16, Heat Input = 25.419508450666665,  Efficiency=16.365383335691128\n",
            "For Fuel 1 amount = 33.83, Fuel 2 amount = 3.383, Brake power = 4.16, Heat Input = 20.852133144666666,  Efficiency=19.949997303100858\n",
            "For Fuel 1 amount = 35.945, Fuel 2 amount = 3.5945, Brake power = 4.16, Heat Input = 22.155776703666668,  Efficiency=18.77614157084162\n",
            "For Fuel 1 amount = 30.807, Fuel 2 amount = 3.0807, Brake power = 4.16, Heat Input = 18.988816606199997,  Efficiency=21.90763166695563\n",
            "For Fuel 1 amount = 33.264, Fuel 2 amount = 3.3264000000000005, Brake power = 4.16, Heat Input = 20.503262102399997,  Efficiency=20.289454327919135\n",
            "For Fuel 1 amount = 29.072, Fuel 2 amount = 2.9072, Brake power = 4.16, Heat Input = 17.919397421866663,  Efficiency=23.215066344382986\n",
            "For Fuel 1 amount = 32.508, Fuel 2 amount = 3.2508000000000004, Brake power = 4.16, Heat Input = 20.0372788728,  Efficiency=20.761302102987017\n"
          ]
        }
      ],
      "source": [
        "#Butano1 10\n",
        "fuel_1_range = [16.46,20.11,28.18,18.05,20.49,27.43,41.24,12.81,19.13,8.91,8.37,26.28,33.83,17.658,22.041,27.756,26.955,15.264,18.224,22.4,16.912,18.648,23.429,9.324,11.994,14.682,17.604,21.522,6.909,17.094,20.86,28.042,35.945,13.992,15.432,19.744,24.288,17.776,10.346,12.936,17.85,25.298,30.807,18.891,20.421,12.504,14.92,19.432,22.616,20.848,10.143,12.621,15.365,20.958,10.528,13.944,11.277,12.978,17.031,25.935,11.416,13.968,16.656,9.555,11.963,14.924,20.972,22.008,19.053,23.886,33.264,4.936,12.936,19.376,10.843,12.117,13.272,12.488,16.48,20.584,29.072,10.409,12.425,16.268,24.983,32.508,12.424,14.88,18.272,27.12,11.375,13.811,16.954,25.935]  # Values from 1 to 60 (inclusive)\n",
        "fuel_2_range=[]\n",
        "for i in fuel_1_range:\n",
        "  fuel_2_range.append(i*0.1)\n",
        " # Values from 1 to 40 (inclusive)\n",
        "calorific_value1 = 35800\n",
        "brake_power = 4.16\n",
        "density1 = 958\n",
        "density2=811.6\n",
        "calorific_value2=33100\n",
        "# Assuming you have the formulas defined as functions, for example:\n",
        "def predict_efficiency(fuel_amount_1, fuel_amount_2, calorific_value1,calorific_value2, brake_power, density1,density2):\n",
        "    # Your formula to calculate efficiency based on the given inputs\n",
        "    mass_of_fuel1 = ((fuel_amount_1  * 0.000001) / 60) * density1\n",
        "    mass_of_fuel2=((fuel_amount_2  * 0.000001) / 60) * density2\n",
        "    heat_input = mass_of_fuel1 * calorific_value1 + mass_of_fuel2 * calorific_value2\n",
        "    efficiency = brake_power / heat_input\n",
        "    return heat_input\n",
        "    # Limit efficiency to a maximum value of 32\n",
        "    efficiency = min(efficiency, 32)\n",
        "\n",
        "    return efficiency\n",
        "\n",
        "# List to store combinations that meet the efficiency criteria\n",
        "efficient_combinations = []\n",
        "\n",
        "# Loop through all combinations of fuel_1 and fuel_2\n",
        "for fuel_amount_1 in fuel_1_range:\n",
        "      # Use the formula-based prediction function to get efficiency\n",
        "      predicted_efficiency = predict_efficiency(fuel_amount_1, fuel_amount_1*0.1, calorific_value1,calorific_value2 ,brake_power,density1,density2)\n",
        "      \"\"\"if 0 <= predicted_efficiency <= 24:\"\"\"\n",
        "      efficient_combinations.append((fuel_amount_1, fuel_amount_1*0.1, predicted_efficiency))\n",
        "\n",
        "# Print the combinations that meet the efficiency criteria\n",
        "if efficient_combinations:\n",
        "    for fuel_amount_1, fuel_amount_2, predicted_efficiency in efficient_combinations:\n",
        "        eff=(brake_power/predicted_efficiency)*100\n",
        "        if eff>=0 and eff<=24:\n",
        "          print(f\"For Fuel 1 amount = {fuel_amount_1}, Fuel 2 amount = {fuel_amount_2}, \"\n",
        "                f\"Brake power = {brake_power}, \"\n",
        "                f\"Heat Input = {predicted_efficiency}, \",f\"Efficiency={eff}\")\n",
        "\n",
        "else:\n",
        "    print(\"No combinations meet the efficiency criteria.\")"
      ]
    },
    {
      "cell_type": "markdown",
      "source": [
        "DIESEL"
      ],
      "metadata": {
        "id": "eq-T8Curftow"
      }
    },
    {
      "cell_type": "code",
      "source": [
        "#Diesel\n",
        "fuel_1_range = [16.46,20.11,28.18,18.05,20.49,27.43,41.24,12.81,19.13,8.91,8.37,26.28,33.83,17.658,22.041,27.756,26.955,15.264,18.224,22.4,16.912,18.648,23.429,9.324,11.994,14.682,17.604,21.522,6.909,17.094,20.86,28.042,35.945,13.992,15.432,19.744,24.288,17.776,10.346,12.936,17.85,25.298,30.807,18.891,20.421,12.504,14.92,19.432,22.616,20.848,10.143,12.621,15.365,20.958,10.528,13.944,11.277,12.978,17.031,25.935,11.416,13.968,16.656,9.555,11.963,14.924,20.972,22.008,19.053,23.886,33.264,4.936,12.936,19.376,10.843,12.117,13.272,12.488,16.48,20.584,29.072,10.409,12.425,16.268,24.983,32.508,12.424,14.88,18.272,27.12,11.375,13.811,16.954,25.935]  # Values from 1 to 60 (inclusive)\n",
        "fuel_2_range=[]\n",
        "for i in fuel_1_range:\n",
        "  fuel_2_range.append(i*0)\n",
        " # Values from 1 to 40 (inclusive)\n",
        "calorific_value1 = 42500\n",
        "brake_power = 4.16\n",
        "density1 = 840\n",
        "density2=0\n",
        "calorific_value2=0\n",
        "# Assuming you have the formulas defined as functions, for example:\n",
        "def predict_efficiency(fuel_amount_1, fuel_amount_2, calorific_value1,calorific_value2, brake_power, density1,density2):\n",
        "    # Your formula to calculate efficiency based on the given inputs\n",
        "    mass_of_fuel1 = ((fuel_amount_1  * 0.000001) / 60) * density1\n",
        "    mass_of_fuel2=((fuel_amount_2  * 0.000001) / 60) * density2\n",
        "    heat_input = mass_of_fuel1 * calorific_value1 + mass_of_fuel2 * calorific_value2\n",
        "    efficiency = brake_power / heat_input\n",
        "    return heat_input\n",
        "    # Limit efficiency to a maximum value of 32\n",
        "    efficiency = min(efficiency, 32)\n",
        "\n",
        "    return efficiency\n",
        "\n",
        "# List to store combinations that meet the efficiency criteria\n",
        "efficient_combinations = []\n",
        "\n",
        "# Loop through all combinations of fuel_1 and fuel_2\n",
        "for fuel_amount_1 in fuel_1_range:\n",
        "      # Use the formula-based prediction function to get efficiency\n",
        "      predicted_efficiency = predict_efficiency(fuel_amount_1, fuel_amount_1*0, calorific_value1,calorific_value2 ,brake_power,density1,density2)\n",
        "      \"\"\"if 0 <= predicted_efficiency <= 24:\"\"\"\n",
        "      efficient_combinations.append((fuel_amount_1, fuel_amount_1*0, predicted_efficiency))\n",
        "\n",
        "# Print the combinations that meet the efficiency criteria\n",
        "if efficient_combinations:\n",
        "    for fuel_amount_1, fuel_amount_2, predicted_efficiency in efficient_combinations:\n",
        "        eff=(brake_power/predicted_efficiency)*100\n",
        "        if eff>=0 and eff<=24:\n",
        "          print(f\"For Fuel 1 amount = {fuel_amount_1}, Fuel 2 amount = {fuel_amount_2}, \"\n",
        "                f\"Brake power = {brake_power}, \"\n",
        "                f\"Heat Input = {predicted_efficiency}, \",f\"Efficiency={eff}\")\n",
        "\n",
        "else:\n",
        "    print(\"No combinations meet the efficiency criteria.\")"
      ],
      "metadata": {
        "colab": {
          "base_uri": "https://localhost:8080/"
        },
        "id": "ziEZr5Nie-ak",
        "outputId": "d8db0aa7-17b5-4bcc-b306-c0818a0958b8"
      },
      "execution_count": null,
      "outputs": [
        {
          "output_type": "stream",
          "name": "stdout",
          "text": [
            "For Fuel 1 amount = 41.24, Fuel 2 amount = 0.0, Brake power = 4.16, Heat Input = 24.537799999999997,  Efficiency=16.95343510828192\n",
            "For Fuel 1 amount = 33.83, Fuel 2 amount = 0.0, Brake power = 4.16, Heat Input = 20.128849999999996,  Efficiency=20.666853794429393\n",
            "For Fuel 1 amount = 35.945, Fuel 2 amount = 0.0, Brake power = 4.16, Heat Input = 21.387275000000002,  Efficiency=19.450818302004343\n",
            "For Fuel 1 amount = 30.807, Fuel 2 amount = 0.0, Brake power = 4.16, Heat Input = 18.330164999999997,  Efficiency=22.69483117036863\n",
            "For Fuel 1 amount = 33.264, Fuel 2 amount = 0.0, Brake power = 4.16, Heat Input = 19.79208,  Efficiency=21.0185084134664\n",
            "For Fuel 1 amount = 32.508, Fuel 2 amount = 0.0, Brake power = 4.16, Heat Input = 19.34226,  Efficiency=21.507310934709803\n"
          ]
        }
      ]
    },
    {
      "cell_type": "markdown",
      "source": [
        "CNSL"
      ],
      "metadata": {
        "id": "1c5nDuOlg3SV"
      }
    },
    {
      "cell_type": "code",
      "source": [
        "#CNSL\n",
        "fuel_1_range = [16.46,20.11,28.18,18.05,20.49,27.43,41.24,12.81,19.13,8.91,8.37,26.28,33.83,17.658,22.041,27.756,26.955,15.264,18.224,22.4,16.912,18.648,23.429,9.324,11.994,14.682,17.604,21.522,6.909,17.094,20.86,28.042,35.945,13.992,15.432,19.744,24.288,17.776,10.346,12.936,17.85,25.298,30.807,18.891,20.421,12.504,14.92,19.432,22.616,20.848,10.143,12.621,15.365,20.958,10.528,13.944,11.277,12.978,17.031,25.935,11.416,13.968,16.656,9.555,11.963,14.924,20.972,22.008,19.053,23.886,33.264,4.936,12.936,19.376,10.843,12.117,13.272,12.488,16.48,20.584,29.072,10.409,12.425,16.268,24.983,32.508,12.424,14.88,18.272,27.12,11.375,13.811,16.954,25.935]  # Values from 1 to 60 (inclusive)\n",
        "fuel_2_range=[]\n",
        "for i in fuel_1_range:\n",
        "  fuel_2_range.append(i*0)\n",
        " # Values from 1 to 40 (inclusive)\n",
        "calorific_value1 = 35800\n",
        "brake_power = 4.16\n",
        "density1 = 958\n",
        "density2=0\n",
        "calorific_value2=0\n",
        "# Assuming you have the formulas defined as functions, for example:\n",
        "def predict_efficiency(fuel_amount_1, fuel_amount_2, calorific_value1,calorific_value2, brake_power, density1,density2):\n",
        "    # Your formula to calculate efficiency based on the given inputs\n",
        "    mass_of_fuel1 = ((fuel_amount_1  * 0.000001) / 60) * density1\n",
        "    mass_of_fuel2=((fuel_amount_2  * 0.000001) / 60) * density2\n",
        "    heat_input = mass_of_fuel1 * calorific_value1 + mass_of_fuel2 * calorific_value2\n",
        "    efficiency = brake_power / heat_input\n",
        "    return heat_input\n",
        "    # Limit efficiency to a maximum value of 32\n",
        "    efficiency = min(efficiency, 32)\n",
        "\n",
        "    return efficiency\n",
        "\n",
        "# List to store combinations that meet the efficiency criteria\n",
        "efficient_combinations = []\n",
        "\n",
        "# Loop through all combinations of fuel_1 and fuel_2\n",
        "for fuel_amount_1 in fuel_1_range:\n",
        "      # Use the formula-based prediction function to get efficiency\n",
        "      predicted_efficiency = predict_efficiency(fuel_amount_1, fuel_amount_1*0, calorific_value1,calorific_value2 ,brake_power,density1,density2)\n",
        "      \"\"\"if 0 <= predicted_efficiency <= 24:\"\"\"\n",
        "      efficient_combinations.append((fuel_amount_1, fuel_amount_1*0, predicted_efficiency))\n",
        "\n",
        "# Print the combinations that meet the efficiency criteria\n",
        "if efficient_combinations:\n",
        "    for fuel_amount_1, fuel_amount_2, predicted_efficiency in efficient_combinations:\n",
        "        eff=(brake_power/predicted_efficiency)*100\n",
        "        if eff>=0 and eff<=24:\n",
        "          print(f\"For Fuel 1 amount = {fuel_amount_1}, Fuel 2 amount = {fuel_amount_2}, \"\n",
        "                f\"Brake power = {brake_power}, \"\n",
        "                f\"Heat Input = {predicted_efficiency}, \",f\"Efficiency={eff}\")\n",
        "\n",
        "else:\n",
        "    print(\"No combinations meet the efficiency criteria.\")"
      ],
      "metadata": {
        "colab": {
          "base_uri": "https://localhost:8080/"
        },
        "id": "hVzGNfbXfVoW",
        "outputId": "438d6f0f-902f-4964-8250-defa665ebc66"
      },
      "execution_count": null,
      "outputs": [
        {
          "output_type": "stream",
          "name": "stdout",
          "text": [
            "For Fuel 1 amount = 41.24, Fuel 2 amount = 0.0, Brake power = 4.16, Heat Input = 23.573058933333332,  Efficiency=17.647264242476307\n",
            "For Fuel 1 amount = 33.83, Fuel 2 amount = 0.0, Brake power = 4.16, Heat Input = 19.33745353333333,  Efficiency=21.512656735433726\n",
            "For Fuel 1 amount = 35.945, Fuel 2 amount = 0.0, Brake power = 4.16, Heat Input = 20.546401633333335,  Efficiency=20.246854287375793\n",
            "For Fuel 1 amount = 30.807, Fuel 2 amount = 0.0, Brake power = 4.16, Heat Input = 17.609486579999995,  Efficiency=23.623630258049246\n",
            "For Fuel 1 amount = 33.264, Fuel 2 amount = 0.0, Brake power = 4.16, Heat Input = 19.01392416,  Efficiency=21.878703023079694\n",
            "For Fuel 1 amount = 32.508, Fuel 2 amount = 0.0, Brake power = 4.16, Heat Input = 18.58178952,  Efficiency=22.38751007012806\n"
          ]
        }
      ]
    },
    {
      "cell_type": "markdown",
      "source": [
        "CNSOME"
      ],
      "metadata": {
        "id": "ZQXEoOrRhyyA"
      }
    },
    {
      "cell_type": "code",
      "source": [
        "#CNSOME\n",
        "fuel_1_range = [16.46,20.11,28.18,18.05,20.49,27.43,41.24,12.81,19.13,8.91,8.37,26.28,33.83,17.658,22.041,27.756,26.955,15.264,18.224,22.4,16.912,18.648,23.429,9.324,11.994,14.682,17.604,21.522,6.909,17.094,20.86,28.042,35.945,13.992,15.432,19.744,24.288,17.776,10.346,12.936,17.85,25.298,30.807,18.891,20.421,12.504,14.92,19.432,22.616,20.848,10.143,12.621,15.365,20.958,10.528,13.944,11.277,12.978,17.031,25.935,11.416,13.968,16.656,9.555,11.963,14.924,20.972,22.008,19.053,23.886,33.264,4.936,12.936,19.376,10.843,12.117,13.272,12.488,16.48,20.584,29.072,10.409,12.425,16.268,24.983,32.508,12.424,14.88,18.272,27.12,11.375,13.811,16.954,25.935]  # Values from 1 to 60 (inclusive)\n",
        "fuel_2_range=[]\n",
        "for i in fuel_1_range:\n",
        "  fuel_2_range.append(i*0)\n",
        " # Values from 1 to 40 (inclusive)\n",
        "calorific_value1 = 38400\n",
        "brake_power = 4.16\n",
        "density1 = 906.4\n",
        "density2=0\n",
        "calorific_value2=0\n",
        "# Assuming you have the formulas defined as functions, for example:\n",
        "def predict_efficiency(fuel_amount_1, fuel_amount_2, calorific_value1,calorific_value2, brake_power, density1,density2):\n",
        "    # Your formula to calculate efficiency based on the given inputs\n",
        "    mass_of_fuel1 = ((fuel_amount_1  * 0.000001) / 60) * density1\n",
        "    mass_of_fuel2=((fuel_amount_2  * 0.000001) / 60) * density2\n",
        "    heat_input = mass_of_fuel1 * calorific_value1 + mass_of_fuel2 * calorific_value2\n",
        "    efficiency = brake_power / heat_input\n",
        "    return heat_input\n",
        "    # Limit efficiency to a maximum value of 32\n",
        "    efficiency = min(efficiency, 32)\n",
        "\n",
        "    return efficiency\n",
        "\n",
        "# List to store combinations that meet the efficiency criteria\n",
        "efficient_combinations = []\n",
        "\n",
        "# Loop through all combinations of fuel_1 and fuel_2\n",
        "for fuel_amount_1 in fuel_1_range:\n",
        "      # Use the formula-based prediction function to get efficiency\n",
        "      predicted_efficiency = predict_efficiency(fuel_amount_1, fuel_amount_1*0, calorific_value1,calorific_value2 ,brake_power,density1,density2)\n",
        "      \"\"\"if 0 <= predicted_efficiency <= 24:\"\"\"\n",
        "      efficient_combinations.append((fuel_amount_1, fuel_amount_1*0, predicted_efficiency))\n",
        "\n",
        "# Print the combinations that meet the efficiency criteria\n",
        "if efficient_combinations:\n",
        "    for fuel_amount_1, fuel_amount_2, predicted_efficiency in efficient_combinations:\n",
        "        eff=(brake_power/predicted_efficiency)*100\n",
        "        if eff>=0 and eff<=24:\n",
        "          print(f\"For Fuel 1 amount = {fuel_amount_1}, Fuel 2 amount = {fuel_amount_2}, \"\n",
        "                f\"Brake power = {brake_power}, \"\n",
        "                f\"Heat Input = {predicted_efficiency}, \",f\"Efficiency={eff}\")\n",
        "\n",
        "else:\n",
        "    print(\"No combinations meet the efficiency criteria.\")"
      ],
      "metadata": {
        "colab": {
          "base_uri": "https://localhost:8080/"
        },
        "id": "yDOqzI8Hh2yn",
        "outputId": "6d9e1518-f846-4093-8db8-64edf95388f0"
      },
      "execution_count": null,
      "outputs": [
        {
          "output_type": "stream",
          "name": "stdout",
          "text": [
            "For Fuel 1 amount = 41.24, Fuel 2 amount = 0.0, Brake power = 4.16, Heat Input = 23.923159039999998,  Efficiency=17.389007835647448\n",
            "For Fuel 1 amount = 33.83, Fuel 2 amount = 0.0, Brake power = 4.16, Heat Input = 19.62464768,  Efficiency=21.197832785755267\n",
            "For Fuel 1 amount = 35.945, Fuel 2 amount = 0.0, Brake power = 4.16, Heat Input = 20.85155072,  Efficiency=19.950554545614153\n",
            "For Fuel 1 amount = 30.807, Fuel 2 amount = 0.0, Brake power = 4.16, Heat Input = 17.871017471999995,  Efficiency=23.27791356321943\n",
            "For Fuel 1 amount = 33.264, Fuel 2 amount = 0.0, Brake power = 4.16, Heat Input = 19.296313343999998,  Efficiency=21.558522220481624\n",
            "For Fuel 1 amount = 32.508, Fuel 2 amount = 0.0, Brake power = 4.16, Heat Input = 18.857760768000002,  Efficiency=22.059883202353284\n"
          ]
        }
      ]
    },
    {
      "cell_type": "markdown",
      "source": [
        "Butanol 20"
      ],
      "metadata": {
        "id": "Wf6zSczSiP33"
      }
    },
    {
      "cell_type": "code",
      "source": [
        "#Butano1 20\n",
        "fuel_1_range = [16.46,20.11,28.18,18.05,20.49,27.43,41.24,12.81,19.13,8.91,8.37,26.28,33.83,17.658,22.041,27.756,26.955,15.264,18.224,22.4,16.912,18.648,23.429,9.324,11.994,14.682,17.604,21.522,6.909,17.094,20.86,28.042,35.945,13.992,15.432,19.744,24.288,17.776,10.346,12.936,17.85,25.298,30.807,18.891,20.421,12.504,14.92,19.432,22.616,20.848,10.143,12.621,15.365,20.958,10.528,13.944,11.277,12.978,17.031,25.935,11.416,13.968,16.656,9.555,11.963,14.924,20.972,22.008,19.053,23.886,33.264,4.936,12.936,19.376,10.843,12.117,13.272,12.488,16.48,20.584,29.072,10.409,12.425,16.268,24.983,32.508,12.424,14.88,18.272,27.12,11.375,13.811,16.954,25.935]  # Values from 1 to 60 (inclusive)\n",
        "fuel_2_range=[]\n",
        "for i in fuel_1_range:\n",
        "  fuel_2_range.append(i*0.2)\n",
        " # Values from 1 to 40 (inclusive)\n",
        "calorific_value1 = 35800\n",
        "brake_power = 4.16\n",
        "density1 = 958\n",
        "density2=811.6\n",
        "calorific_value2=33100\n",
        "# Assuming you have the formulas defined as functions, for example:\n",
        "def predict_efficiency(fuel_amount_1, fuel_amount_2, calorific_value1,calorific_value2, brake_power, density1,density2):\n",
        "    # Your formula to calculate efficiency based on the given inputs\n",
        "    mass_of_fuel1 = ((fuel_amount_1  * 0.000001) / 60) * density1\n",
        "    mass_of_fuel2=((fuel_amount_2  * 0.000001) / 60) * density2\n",
        "    heat_input = mass_of_fuel1 * calorific_value1 + mass_of_fuel2 * calorific_value2\n",
        "    efficiency = brake_power / heat_input\n",
        "    return heat_input\n",
        "    # Limit efficiency to a maximum value of 32\n",
        "    efficiency = min(efficiency, 32)\n",
        "\n",
        "    return efficiency\n",
        "\n",
        "# List to store combinations that meet the efficiency criteria\n",
        "efficient_combinations = []\n",
        "\n",
        "# Loop through all combinations of fuel_1 and fuel_2\n",
        "for fuel_amount_1 in fuel_1_range:\n",
        "      # Use the formula-based prediction function to get efficiency\n",
        "      predicted_efficiency = predict_efficiency(fuel_amount_1, fuel_amount_1*0.2, calorific_value1,calorific_value2 ,brake_power,density1,density2)\n",
        "      \"\"\"if 0 <= predicted_efficiency <= 24:\"\"\"\n",
        "      efficient_combinations.append((fuel_amount_1, fuel_amount_1*0.2, predicted_efficiency))\n",
        "\n",
        "# Print the combinations that meet the efficiency criteria\n",
        "if efficient_combinations:\n",
        "    for fuel_amount_1, fuel_amount_2, predicted_efficiency in efficient_combinations:\n",
        "        eff=(brake_power/predicted_efficiency)*100\n",
        "        if eff>=0 and eff<=24:\n",
        "          print(f\"For Fuel 1 amount = {fuel_amount_1}, Fuel 2 amount = {fuel_amount_2}, \"\n",
        "                f\"Brake power = {brake_power}, \"\n",
        "                f\"Heat Input = {predicted_efficiency}, \",f\"Efficiency={eff}\")\n",
        "\n",
        "else:\n",
        "    print(\"No combinations meet the efficiency criteria.\")"
      ],
      "metadata": {
        "colab": {
          "base_uri": "https://localhost:8080/"
        },
        "id": "I0Ay90lWiRvS",
        "outputId": "7373a7c9-879a-48df-c5b7-397f29443ee3"
      },
      "execution_count": null,
      "outputs": [
        {
          "output_type": "stream",
          "name": "stdout",
          "text": [
            "For Fuel 1 amount = 28.18, Fuel 2 amount = 5.636, Brake power = 4.16, Heat Input = 18.631297175999997,  Efficiency=22.328021289675558\n",
            "For Fuel 1 amount = 27.43, Fuel 2 amount = 5.486000000000001, Brake power = 4.16, Heat Input = 18.135432276000003,  Efficiency=22.93852132493828\n",
            "For Fuel 1 amount = 41.24, Fuel 2 amount = 8.248000000000001, Brake power = 4.16, Heat Input = 27.265957968,  Efficiency=15.257120270200222\n",
            "For Fuel 1 amount = 26.28, Fuel 2 amount = 5.256, Brake power = 4.16, Heat Input = 17.375106096,  Efficiency=23.942299845626223\n",
            "For Fuel 1 amount = 33.83, Fuel 2 amount = 6.766, Brake power = 4.16, Heat Input = 22.366812755999998,  Efficiency=18.598984331748657\n",
            "For Fuel 1 amount = 27.756, Fuel 2 amount = 5.551200000000001, Brake power = 4.16, Heat Input = 18.3509682192,  Efficiency=22.669103615184362\n",
            "For Fuel 1 amount = 26.955, Fuel 2 amount = 5.391, Brake power = 4.16, Heat Input = 17.821384506,  Efficiency=23.342743088223227\n",
            "For Fuel 1 amount = 28.042, Fuel 2 amount = 5.6084000000000005, Brake power = 4.16, Heat Input = 18.540058034399998,  Efficiency=22.43790171681967\n",
            "For Fuel 1 amount = 35.945, Fuel 2 amount = 7.189, Brake power = 4.16, Heat Input = 23.765151774000003,  Efficiency=17.50462205989865\n",
            "For Fuel 1 amount = 30.807, Fuel 2 amount = 6.1614, Brake power = 4.16, Heat Input = 20.368146632399995,  Efficiency=20.424047779500025\n",
            "For Fuel 1 amount = 33.264, Fuel 2 amount = 6.652800000000001, Brake power = 4.16, Heat Input = 21.9926000448,  Efficiency=18.915453341241495\n",
            "For Fuel 1 amount = 29.072, Fuel 2 amount = 5.8144, Brake power = 4.16, Heat Input = 19.221045830399998,  Efficiency=21.642943036016\n",
            "For Fuel 1 amount = 32.508, Fuel 2 amount = 6.501600000000001, Brake power = 4.16, Heat Input = 21.492768225600003,  Efficiency=19.355347604991294\n",
            "For Fuel 1 amount = 27.12, Fuel 2 amount = 5.424, Brake power = 4.16, Heat Input = 17.930474784,  Efficiency=23.200724186690895\n"
          ]
        }
      ]
    },
    {
      "cell_type": "markdown",
      "source": [
        "Butanol 30"
      ],
      "metadata": {
        "id": "9_g4cYAPibaj"
      }
    },
    {
      "cell_type": "code",
      "source": [
        "#Butano1 30\n",
        "fuel_1_range = [16.46,20.11,28.18,18.05,20.49,27.43,41.24,12.81,19.13,8.91,8.37,26.28,33.83,17.658,22.041,27.756,26.955,15.264,18.224,22.4,16.912,18.648,23.429,9.324,11.994,14.682,17.604,21.522,6.909,17.094,20.86,28.042,35.945,13.992,15.432,19.744,24.288,17.776,10.346,12.936,17.85,25.298,30.807,18.891,20.421,12.504,14.92,19.432,22.616,20.848,10.143,12.621,15.365,20.958,10.528,13.944,11.277,12.978,17.031,25.935,11.416,13.968,16.656,9.555,11.963,14.924,20.972,22.008,19.053,23.886,33.264,4.936,12.936,19.376,10.843,12.117,13.272,12.488,16.48,20.584,29.072,10.409,12.425,16.268,24.983,32.508,12.424,14.88,18.272,27.12,11.375,13.811,16.954,25.935]  # Values from 1 to 60 (inclusive)\n",
        "fuel_2_range=[]\n",
        "for i in fuel_1_range:\n",
        "  fuel_2_range.append(i*0.3)\n",
        " # Values from 1 to 40 (inclusive)\n",
        "calorific_value1 = 35800\n",
        "brake_power = 4.16\n",
        "density1 = 958\n",
        "density2=811.6\n",
        "calorific_value2=33100\n",
        "# Assuming you have the formulas defined as functions, for example:\n",
        "def predict_efficiency(fuel_amount_1, fuel_amount_2, calorific_value1,calorific_value2, brake_power, density1,density2):\n",
        "    # Your formula to calculate efficiency based on the given inputs\n",
        "    mass_of_fuel1 = ((fuel_amount_1  * 0.000001) / 60) * density1\n",
        "    mass_of_fuel2=((fuel_amount_2  * 0.000001) / 60) * density2\n",
        "    heat_input = mass_of_fuel1 * calorific_value1 + mass_of_fuel2 * calorific_value2\n",
        "    efficiency = brake_power / heat_input\n",
        "    return heat_input\n",
        "    # Limit efficiency to a maximum value of 32\n",
        "    efficiency = min(efficiency, 32)\n",
        "\n",
        "    return efficiency\n",
        "\n",
        "# List to store combinations that meet the efficiency criteria\n",
        "efficient_combinations = []\n",
        "\n",
        "# Loop through all combinations of fuel_1 and fuel_2\n",
        "for fuel_amount_1 in fuel_1_range:\n",
        "      # Use the formula-based prediction function to get efficiency\n",
        "      predicted_efficiency = predict_efficiency(fuel_amount_1, fuel_amount_1*0.3, calorific_value1,calorific_value2 ,brake_power,density1,density2)\n",
        "      \"\"\"if 0 <= predicted_efficiency <= 24:\"\"\"\n",
        "      efficient_combinations.append((fuel_amount_1, fuel_amount_1*0.3, predicted_efficiency))\n",
        "\n",
        "# Print the combinations that meet the efficiency criteria\n",
        "if efficient_combinations:\n",
        "    for fuel_amount_1, fuel_amount_2, predicted_efficiency in efficient_combinations:\n",
        "        eff=(brake_power/predicted_efficiency)*100\n",
        "        if eff>=0 and eff<=24:\n",
        "          print(f\"For Fuel 1 amount = {fuel_amount_1}, Fuel 2 amount = {fuel_amount_2}, \"\n",
        "                f\"Brake power = {brake_power}, \"\n",
        "                f\"Heat Input = {predicted_efficiency}, \",f\"Efficiency={eff}\")\n",
        "\n",
        "else:\n",
        "    print(\"No combinations meet the efficiency criteria.\")"
      ],
      "metadata": {
        "colab": {
          "base_uri": "https://localhost:8080/"
        },
        "id": "T57t8r1pidBS",
        "outputId": "de9fc06b-d39b-4bb5-a5c9-84c55bb6cf15"
      },
      "execution_count": null,
      "outputs": [
        {
          "output_type": "stream",
          "name": "stdout",
          "text": [
            "For Fuel 1 amount = 28.18, Fuel 2 amount = 8.453999999999999, Brake power = 4.16, Heat Input = 19.89300783066666,  Efficiency=20.91187031850974\n",
            "For Fuel 1 amount = 27.43, Fuel 2 amount = 8.229, Brake power = 4.16, Heat Input = 19.363562980666668,  Efficiency=21.48364949236618\n",
            "For Fuel 1 amount = 41.24, Fuel 2 amount = 12.372, Brake power = 4.16, Heat Input = 29.112407485333332,  Efficiency=14.289439999408449\n",
            "For Fuel 1 amount = 26.28, Fuel 2 amount = 7.884, Brake power = 4.16, Heat Input = 18.551747543999998,  Efficiency=22.42376353027414\n",
            "For Fuel 1 amount = 33.83, Fuel 2 amount = 10.149, Brake power = 4.16, Heat Input = 23.88149236733333,  Efficiency=17.419346898480768\n",
            "For Fuel 1 amount = 27.756, Fuel 2 amount = 8.3268, Brake power = 4.16, Heat Input = 19.593695008799997,  Efficiency=21.231319555253076\n",
            "For Fuel 1 amount = 26.955, Fuel 2 amount = 8.0865, Brake power = 4.16, Heat Input = 19.028247909,  Efficiency=21.86223355873138\n",
            "For Fuel 1 amount = 28.042, Fuel 2 amount = 8.4126, Brake power = 4.16, Heat Input = 19.795589978266666,  Efficiency=21.01478159816006\n",
            "For Fuel 1 amount = 35.945, Fuel 2 amount = 10.7835, Brake power = 4.16, Heat Input = 25.374526844333335,  Efficiency=16.394394368496435\n",
            "For Fuel 1 amount = 25.298, Fuel 2 amount = 7.5893999999999995, Brake power = 4.16, Heat Input = 17.85852775373333,  Efficiency=23.294193437252133\n",
            "For Fuel 1 amount = 30.807, Fuel 2 amount = 9.242099999999999, Brake power = 4.16, Heat Input = 21.747476658599993,  Efficiency=19.128656005959833\n",
            "For Fuel 1 amount = 25.935, Fuel 2 amount = 7.780499999999999, Brake power = 4.16, Heat Input = 18.308202913,  Efficiency=22.722055352828395\n",
            "For Fuel 1 amount = 33.264, Fuel 2 amount = 9.9792, Brake power = 4.16, Heat Input = 23.4819379872,  Efficiency=17.71574391461052\n",
            "For Fuel 1 amount = 29.072, Fuel 2 amount = 8.721599999999999, Brake power = 4.16, Heat Input = 20.52269423893333,  Efficiency=20.27024303713554\n",
            "For Fuel 1 amount = 24.983, Fuel 2 amount = 7.4948999999999995, Brake power = 4.16, Heat Input = 17.63616091673333,  Efficiency=23.58789999502079\n",
            "For Fuel 1 amount = 32.508, Fuel 2 amount = 9.7524, Brake power = 4.16, Heat Input = 22.9482575784,  Efficiency=18.127737959136347\n",
            "For Fuel 1 amount = 27.12, Fuel 2 amount = 8.136, Brake power = 4.16, Heat Input = 19.144725776,  Efficiency=21.729222181991307\n",
            "For Fuel 1 amount = 25.935, Fuel 2 amount = 7.780499999999999, Brake power = 4.16, Heat Input = 18.308202913,  Efficiency=22.722055352828395\n"
          ]
        }
      ]
    },
    {
      "cell_type": "markdown",
      "source": [
        "Butanol 40"
      ],
      "metadata": {
        "id": "wMaOZrQOii9-"
      }
    },
    {
      "cell_type": "code",
      "source": [
        "#Butano1 40\n",
        "fuel_1_range = [16.46,20.11,28.18,18.05,20.49,27.43,41.24,12.81,19.13,8.91,8.37,26.28,33.83,17.658,22.041,27.756,26.955,15.264,18.224,22.4,16.912,18.648,23.429,9.324,11.994,14.682,17.604,21.522,6.909,17.094,20.86,28.042,35.945,13.992,15.432,19.744,24.288,17.776,10.346,12.936,17.85,25.298,30.807,18.891,20.421,12.504,14.92,19.432,22.616,20.848,10.143,12.621,15.365,20.958,10.528,13.944,11.277,12.978,17.031,25.935,11.416,13.968,16.656,9.555,11.963,14.924,20.972,22.008,19.053,23.886,33.264,4.936,12.936,19.376,10.843,12.117,13.272,12.488,16.48,20.584,29.072,10.409,12.425,16.268,24.983,32.508,12.424,14.88,18.272,27.12,11.375,13.811,16.954,25.935]  # Values from 1 to 60 (inclusive)\n",
        "fuel_2_range=[]\n",
        "for i in fuel_1_range:\n",
        "  fuel_2_range.append(i*0.4)\n",
        " # Values from 1 to 40 (inclusive)\n",
        "calorific_value1 = 35800\n",
        "brake_power = 4.16\n",
        "density1 = 958\n",
        "density2=811.6\n",
        "calorific_value2=33100\n",
        "# Assuming you have the formulas defined as functions, for example:\n",
        "def predict_efficiency(fuel_amount_1, fuel_amount_2, calorific_value1,calorific_value2, brake_power, density1,density2):\n",
        "    # Your formula to calculate efficiency based on the given inputs\n",
        "    mass_of_fuel1 = ((fuel_amount_1  * 0.000001) / 60) * density1\n",
        "    mass_of_fuel2=((fuel_amount_2  * 0.000001) / 60) * density2\n",
        "    heat_input = mass_of_fuel1 * calorific_value1 + mass_of_fuel2 * calorific_value2\n",
        "    efficiency = brake_power / heat_input\n",
        "    return heat_input\n",
        "    # Limit efficiency to a maximum value of 32\n",
        "    efficiency = min(efficiency, 32)\n",
        "\n",
        "    return efficiency\n",
        "\n",
        "# List to store combinations that meet the efficiency criteria\n",
        "efficient_combinations = []\n",
        "\n",
        "# Loop through all combinations of fuel_1 and fuel_2\n",
        "for fuel_amount_1 in fuel_1_range:\n",
        "      # Use the formula-based prediction function to get efficiency\n",
        "      predicted_efficiency = predict_efficiency(fuel_amount_1, fuel_amount_1*0.4, calorific_value1,calorific_value2 ,brake_power,density1,density2)\n",
        "      \"\"\"if 0 <= predicted_efficiency <= 24:\"\"\"\n",
        "      efficient_combinations.append((fuel_amount_1, fuel_amount_1*0.4, predicted_efficiency))\n",
        "\n",
        "# Print the combinations that meet the efficiency criteria\n",
        "if efficient_combinations:\n",
        "    for fuel_amount_1, fuel_amount_2, predicted_efficiency in efficient_combinations:\n",
        "        eff=(brake_power/predicted_efficiency)*100\n",
        "        if eff>=0 and eff<=24:\n",
        "          print(f\"For Fuel 1 amount = {fuel_amount_1}, Fuel 2 amount = {fuel_amount_2}, \"\n",
        "                f\"Brake power = {brake_power}, \"\n",
        "                f\"Heat Input = {predicted_efficiency}, \",f\"Efficiency={eff}\")\n",
        "\n",
        "else:\n",
        "    print(\"No combinations meet the efficiency criteria.\")"
      ],
      "metadata": {
        "colab": {
          "base_uri": "https://localhost:8080/"
        },
        "id": "tqPN0vPviiiD",
        "outputId": "b338abf0-1f4c-4497-e36b-666031791558"
      },
      "execution_count": null,
      "outputs": [
        {
          "output_type": "stream",
          "name": "stdout",
          "text": [
            "For Fuel 1 amount = 28.18, Fuel 2 amount = 11.272, Brake power = 4.16, Heat Input = 21.15471848533333,  Efficiency=19.664643624939508\n",
            "For Fuel 1 amount = 27.43, Fuel 2 amount = 10.972000000000001, Brake power = 4.16, Heat Input = 20.591693685333336,  Efficiency=20.20232072004357\n",
            "For Fuel 1 amount = 41.24, Fuel 2 amount = 16.496000000000002, Brake power = 4.16, Heat Input = 30.95885700266667,  Efficiency=13.437188587555655\n",
            "For Fuel 1 amount = 26.28, Fuel 2 amount = 10.512, Brake power = 4.16, Heat Input = 19.728388992,  Efficiency=21.08636443496177\n",
            "For Fuel 1 amount = 33.83, Fuel 2 amount = 13.532, Brake power = 4.16, Heat Input = 25.396171978666665,  Efficiency=16.38042144105218\n",
            "For Fuel 1 amount = 27.756, Fuel 2 amount = 11.102400000000001, Brake power = 4.16, Heat Input = 20.8364217984,  Efficiency=19.965040256189482\n",
            "For Fuel 1 amount = 26.955, Fuel 2 amount = 10.782, Brake power = 4.16, Heat Input = 20.235111312,  Efficiency=20.558325258794106\n",
            "For Fuel 1 amount = 23.429, Fuel 2 amount = 9.371599999999999, Brake power = 4.16, Heat Input = 17.588144052266667,  Efficiency=23.65229661320565\n",
            "For Fuel 1 amount = 28.042, Fuel 2 amount = 11.216800000000001, Brake power = 4.16, Heat Input = 21.051121922133333,  Efficiency=19.761417065501576\n",
            "For Fuel 1 amount = 35.945, Fuel 2 amount = 14.378, Brake power = 4.16, Heat Input = 26.98390191466667,  Efficiency=15.416599175150788\n",
            "For Fuel 1 amount = 24.288, Fuel 2 amount = 9.715200000000001, Brake power = 4.16, Heat Input = 18.2329951232,  Efficiency=22.815779699884523\n",
            "For Fuel 1 amount = 25.298, Fuel 2 amount = 10.1192, Brake power = 4.16, Heat Input = 18.991201853866663,  Efficiency=21.90488012296606\n",
            "For Fuel 1 amount = 30.807, Fuel 2 amount = 12.3228, Brake power = 4.16, Heat Input = 23.126806684799995,  Efficiency=17.987783859213664\n",
            "For Fuel 1 amount = 25.935, Fuel 2 amount = 10.374, Brake power = 4.16, Heat Input = 19.469397584,  Efficiency=21.366865523454607\n",
            "For Fuel 1 amount = 23.886, Fuel 2 amount = 9.5544, Brake power = 4.16, Heat Input = 17.931213830399997,  Efficiency=23.199767954064946\n",
            "For Fuel 1 amount = 33.264, Fuel 2 amount = 13.305600000000002, Brake power = 4.16, Heat Input = 24.971275929599997,  Efficiency=16.659140733249018\n",
            "For Fuel 1 amount = 29.072, Fuel 2 amount = 11.6288, Brake power = 4.16, Heat Input = 21.824342647466665,  Efficiency=19.06128430623264\n",
            "For Fuel 1 amount = 24.983, Fuel 2 amount = 9.993200000000002, Brake power = 4.16, Heat Input = 18.754731437866667,  Efficiency=22.18106942123825\n",
            "For Fuel 1 amount = 32.508, Fuel 2 amount = 13.003200000000001, Brake power = 4.16, Heat Input = 24.4037469312,  Efficiency=17.046562610766433\n",
            "For Fuel 1 amount = 27.12, Fuel 2 amount = 10.848, Brake power = 4.16, Heat Input = 20.358976768,  Efficiency=20.433246952462948\n",
            "For Fuel 1 amount = 25.935, Fuel 2 amount = 10.374, Brake power = 4.16, Heat Input = 19.469397584,  Efficiency=21.366865523454607\n"
          ]
        }
      ]
    },
    {
      "cell_type": "markdown",
      "source": [
        "Methanol 10"
      ],
      "metadata": {
        "id": "ibMrKAZuiuS6"
      }
    },
    {
      "cell_type": "code",
      "source": [
        "#Methano1 10\n",
        "fuel_1_range = [16.46,20.11,28.18,18.05,20.49,27.43,41.24,12.81,19.13,8.91,8.37,26.28,33.83,17.658,22.041,27.756,26.955,15.264,18.224,22.4,16.912,18.648,23.429,9.324,11.994,14.682,17.604,21.522,6.909,17.094,20.86,28.042,35.945,13.992,15.432,19.744,24.288,17.776,10.346,12.936,17.85,25.298,30.807,18.891,20.421,12.504,14.92,19.432,22.616,20.848,10.143,12.621,15.365,20.958,10.528,13.944,11.277,12.978,17.031,25.935,11.416,13.968,16.656,9.555,11.963,14.924,20.972,22.008,19.053,23.886,33.264,4.936,12.936,19.376,10.843,12.117,13.272,12.488,16.48,20.584,29.072,10.409,12.425,16.268,24.983,32.508,12.424,14.88,18.272,27.12,11.375,13.811,16.954,25.935]  # Values from 1 to 60 (inclusive)\n",
        "fuel_2_range=[]\n",
        "for i in fuel_1_range:\n",
        "  fuel_2_range.append(i*0.1)\n",
        " # Values from 1 to 40 (inclusive)\n",
        "calorific_value1 = 35800\n",
        "brake_power = 4.16\n",
        "density1 = 958\n",
        "density2=776\n",
        "calorific_value2=20000\n",
        "# Assuming you have the formulas defined as functions, for example:\n",
        "def predict_efficiency(fuel_amount_1, fuel_amount_2, calorific_value1,calorific_value2, brake_power, density1,density2):\n",
        "    # Your formula to calculate efficiency based on the given inputs\n",
        "    mass_of_fuel1 = ((fuel_amount_1  * 0.000001) / 60) * density1\n",
        "    mass_of_fuel2=((fuel_amount_2  * 0.000001) / 60) * density2\n",
        "    heat_input = mass_of_fuel1 * calorific_value1 + mass_of_fuel2 * calorific_value2\n",
        "    efficiency = brake_power / heat_input\n",
        "    return heat_input\n",
        "    # Limit efficiency to a maximum value of 32\n",
        "    efficiency = min(efficiency, 32)\n",
        "\n",
        "    return efficiency\n",
        "\n",
        "# List to store combinations that meet the efficiency criteria\n",
        "efficient_combinations = []\n",
        "\n",
        "# Loop through all combinations of fuel_1 and fuel_2\n",
        "for fuel_amount_1 in fuel_1_range:\n",
        "      # Use the formula-based prediction function to get efficiency\n",
        "      predicted_efficiency = predict_efficiency(fuel_amount_1, fuel_amount_1*0.1, calorific_value1,calorific_value2 ,brake_power,density1,density2)\n",
        "      \"\"\"if 0 <= predicted_efficiency <= 24:\"\"\"\n",
        "      efficient_combinations.append((fuel_amount_1, fuel_amount_1*0.1, predicted_efficiency))\n",
        "\n",
        "# Print the combinations that meet the efficiency criteria\n",
        "if efficient_combinations:\n",
        "    for fuel_amount_1, fuel_amount_2, predicted_efficiency in efficient_combinations:\n",
        "        eff=(brake_power/predicted_efficiency)*100\n",
        "        if eff>=0 and eff<=24:\n",
        "          print(f\"For Fuel 1 amount = {fuel_amount_1}, Fuel 2 amount = {fuel_amount_2}, \"\n",
        "                f\"Brake power = {brake_power}, \"\n",
        "                f\"Heat Input = {predicted_efficiency}, \",f\"Efficiency={eff}\")\n",
        "\n",
        "else:\n",
        "    print(\"No combinations meet the efficiency criteria.\")"
      ],
      "metadata": {
        "colab": {
          "base_uri": "https://localhost:8080/"
        },
        "id": "-KGWN_Lyi0t7",
        "outputId": "c7ac0657-9bd2-4fe2-8228-9cf78346013d"
      },
      "execution_count": null,
      "outputs": [
        {
          "output_type": "stream",
          "name": "stdout",
          "text": [
            "For Fuel 1 amount = 41.24, Fuel 2 amount = 4.1240000000000006, Brake power = 4.16, Heat Input = 24.639800266666665,  Efficiency=16.883253739794927\n",
            "For Fuel 1 amount = 33.83, Fuel 2 amount = 3.383, Brake power = 4.16, Heat Input = 20.212522866666664,  Efficiency=20.581300154571174\n",
            "For Fuel 1 amount = 35.945, Fuel 2 amount = 3.5945, Brake power = 4.16, Heat Input = 21.47617896666667,  Efficiency=19.370298629270906\n",
            "For Fuel 1 amount = 30.807, Fuel 2 amount = 3.0807, Brake power = 4.16, Heat Input = 18.406360979999995,  Efficiency=22.60088240429587\n",
            "For Fuel 1 amount = 33.264, Fuel 2 amount = 3.3264000000000005, Brake power = 4.16, Heat Input = 19.87435296,  Efficiency=20.93149904488765\n",
            "For Fuel 1 amount = 29.072, Fuel 2 amount = 2.9072, Brake power = 4.16, Heat Input = 17.369744746666665,  Efficiency=23.94968988129963\n",
            "For Fuel 1 amount = 32.508, Fuel 2 amount = 3.2508000000000004, Brake power = 4.16, Heat Input = 19.422663120000003,  Efficiency=21.41827809244317\n"
          ]
        }
      ]
    },
    {
      "cell_type": "markdown",
      "source": [
        "Methanol 20"
      ],
      "metadata": {
        "id": "04ltKI49jL3e"
      }
    },
    {
      "cell_type": "code",
      "source": [
        "#Methano1 20\n",
        "fuel_1_range = [16.46,20.11,28.18,18.05,20.49,27.43,41.24,12.81,19.13,8.91,8.37,26.28,33.83,17.658,22.041,27.756,26.955,15.264,18.224,22.4,16.912,18.648,23.429,9.324,11.994,14.682,17.604,21.522,6.909,17.094,20.86,28.042,35.945,13.992,15.432,19.744,24.288,17.776,10.346,12.936,17.85,25.298,30.807,18.891,20.421,12.504,14.92,19.432,22.616,20.848,10.143,12.621,15.365,20.958,10.528,13.944,11.277,12.978,17.031,25.935,11.416,13.968,16.656,9.555,11.963,14.924,20.972,22.008,19.053,23.886,33.264,4.936,12.936,19.376,10.843,12.117,13.272,12.488,16.48,20.584,29.072,10.409,12.425,16.268,24.983,32.508,12.424,14.88,18.272,27.12,11.375,13.811,16.954,25.935]  # Values from 1 to 60 (inclusive)\n",
        "fuel_2_range=[]\n",
        "for i in fuel_1_range:\n",
        "  fuel_2_range.append(i*0.2)\n",
        " # Values from 1 to 40 (inclusive)\n",
        "calorific_value1 = 35800\n",
        "brake_power = 4.16\n",
        "density1 = 958\n",
        "density2=776\n",
        "calorific_value2=20000\n",
        "# Assuming you have the formulas defined as functions, for example:\n",
        "def predict_efficiency(fuel_amount_1, fuel_amount_2, calorific_value1,calorific_value2, brake_power, density1,density2):\n",
        "    # Your formula to calculate efficiency based on the given inputs\n",
        "    mass_of_fuel1 = ((fuel_amount_1  * 0.000001) / 60) * density1\n",
        "    mass_of_fuel2=((fuel_amount_2  * 0.000001) / 60) * density2\n",
        "    heat_input = mass_of_fuel1 * calorific_value1 + mass_of_fuel2 * calorific_value2\n",
        "    efficiency = brake_power / heat_input\n",
        "    return heat_input\n",
        "    # Limit efficiency to a maximum value of 32\n",
        "    efficiency = min(efficiency, 32)\n",
        "\n",
        "    return efficiency\n",
        "\n",
        "# List to store combinations that meet the efficiency criteria\n",
        "efficient_combinations = []\n",
        "\n",
        "# Loop through all combinations of fuel_1 and fuel_2\n",
        "for fuel_amount_1 in fuel_1_range:\n",
        "      # Use the formula-based prediction function to get efficiency\n",
        "      predicted_efficiency = predict_efficiency(fuel_amount_1, fuel_amount_1*0.2, calorific_value1,calorific_value2 ,brake_power,density1,density2)\n",
        "      \"\"\"if 0 <= predicted_efficiency <= 24:\"\"\"\n",
        "      efficient_combinations.append((fuel_amount_1, fuel_amount_1*0.2, predicted_efficiency))\n",
        "\n",
        "# Print the combinations that meet the efficiency criteria\n",
        "if efficient_combinations:\n",
        "    for fuel_amount_1, fuel_amount_2, predicted_efficiency in efficient_combinations:\n",
        "        eff=(brake_power/predicted_efficiency)*100\n",
        "        if eff>=0 and eff<=24:\n",
        "          print(f\"For Fuel 1 amount = {fuel_amount_1}, Fuel 2 amount = {fuel_amount_2}, \"\n",
        "                f\"Brake power = {brake_power}, \"\n",
        "                f\"Heat Input = {predicted_efficiency}, \",f\"Efficiency={eff}\")\n",
        "\n",
        "else:\n",
        "    print(\"No combinations meet the efficiency criteria.\")"
      ],
      "metadata": {
        "colab": {
          "base_uri": "https://localhost:8080/"
        },
        "id": "fAYCf69VjOhs",
        "outputId": "7b713f50-6f47-4eb3-f15c-10084978d0a6"
      },
      "execution_count": null,
      "outputs": [
        {
          "output_type": "stream",
          "name": "stdout",
          "text": [
            "For Fuel 1 amount = 28.18, Fuel 2 amount = 5.636, Brake power = 4.16, Heat Input = 17.5657212,  Efficiency=23.68248905146007\n",
            "For Fuel 1 amount = 41.24, Fuel 2 amount = 8.248000000000001, Brake power = 4.16, Heat Input = 25.706541599999998,  Efficiency=16.182651345056858\n",
            "For Fuel 1 amount = 33.83, Fuel 2 amount = 6.766, Brake power = 4.16, Heat Input = 21.0875922,  Efficiency=19.727240362700112\n",
            "For Fuel 1 amount = 28.042, Fuel 2 amount = 5.6084000000000005, Brake power = 4.16, Heat Input = 17.47970028,  Efficiency=23.799035071326752\n",
            "For Fuel 1 amount = 35.945, Fuel 2 amount = 7.189, Brake power = 4.16, Heat Input = 22.405956300000003,  Efficiency=18.566491625264838\n",
            "For Fuel 1 amount = 30.807, Fuel 2 amount = 6.1614, Brake power = 4.16, Heat Input = 19.203235379999995,  Efficiency=21.663016245338557\n",
            "For Fuel 1 amount = 33.264, Fuel 2 amount = 6.652800000000001, Brake power = 4.16, Heat Input = 20.734781759999997,  Efficiency=20.06290709085332\n",
            "For Fuel 1 amount = 29.072, Fuel 2 amount = 5.8144, Brake power = 4.16, Heat Input = 18.121740479999996,  Efficiency=22.95585241710735\n",
            "For Fuel 1 amount = 32.508, Fuel 2 amount = 6.501600000000001, Brake power = 4.16, Heat Input = 20.26353672,  Efficiency=20.529486325524324\n"
          ]
        }
      ]
    },
    {
      "cell_type": "markdown",
      "source": [
        "Methanol 30"
      ],
      "metadata": {
        "id": "4wuocD36jj5N"
      }
    },
    {
      "cell_type": "code",
      "source": [
        "#Methano1 30\n",
        "fuel_1_range = [16.46,20.11,28.18,18.05,20.49,27.43,41.24,12.81,19.13,8.91,8.37,26.28,33.83,17.658,22.041,27.756,26.955,15.264,18.224,22.4,16.912,18.648,23.429,9.324,11.994,14.682,17.604,21.522,6.909,17.094,20.86,28.042,35.945,13.992,15.432,19.744,24.288,17.776,10.346,12.936,17.85,25.298,30.807,18.891,20.421,12.504,14.92,19.432,22.616,20.848,10.143,12.621,15.365,20.958,10.528,13.944,11.277,12.978,17.031,25.935,11.416,13.968,16.656,9.555,11.963,14.924,20.972,22.008,19.053,23.886,33.264,4.936,12.936,19.376,10.843,12.117,13.272,12.488,16.48,20.584,29.072,10.409,12.425,16.268,24.983,32.508,12.424,14.88,18.272,27.12,11.375,13.811,16.954,25.935]  # Values from 1 to 60 (inclusive)\n",
        "fuel_2_range=[]\n",
        "for i in fuel_1_range:\n",
        "  fuel_2_range.append(i*0.3)\n",
        " # Values from 1 to 40 (inclusive)\n",
        "calorific_value1 = 35800\n",
        "brake_power = 4.16\n",
        "density1 = 958\n",
        "density2=776\n",
        "calorific_value2=20000\n",
        "# Assuming you have the formulas defined as functions, for example:\n",
        "def predict_efficiency(fuel_amount_1, fuel_amount_2, calorific_value1,calorific_value2, brake_power, density1,density2):\n",
        "    # Your formula to calculate efficiency based on the given inputs\n",
        "    mass_of_fuel1 = ((fuel_amount_1  * 0.000001) / 60) * density1\n",
        "    mass_of_fuel2=((fuel_amount_2  * 0.000001) / 60) * density2\n",
        "    heat_input = mass_of_fuel1 * calorific_value1 + mass_of_fuel2 * calorific_value2\n",
        "    efficiency = brake_power / heat_input\n",
        "    return heat_input\n",
        "    # Limit efficiency to a maximum value of 32\n",
        "    efficiency = min(efficiency, 32)\n",
        "\n",
        "    return efficiency\n",
        "\n",
        "# List to store combinations that meet the efficiency criteria\n",
        "efficient_combinations = []\n",
        "\n",
        "# Loop through all combinations of fuel_1 and fuel_2\n",
        "for fuel_amount_1 in fuel_1_range:\n",
        "      # Use the formula-based prediction function to get efficiency\n",
        "      predicted_efficiency = predict_efficiency(fuel_amount_1, fuel_amount_1*0.3, calorific_value1,calorific_value2 ,brake_power,density1,density2)\n",
        "      \"\"\"if 0<= predicted_efficiency <= 24:\"\"\"\n",
        "      efficient_combinations.append((fuel_amount_1, fuel_amount_1*0.3, predicted_efficiency))\n",
        "\n",
        "# Print the combinations that meet the efficiency criteria\n",
        "if efficient_combinations:\n",
        "    for fuel_amount_1, fuel_amount_2, predicted_efficiency in efficient_combinations:\n",
        "        eff=(brake_power/predicted_efficiency)*100\n",
        "        if eff>=0 and eff<=24:\n",
        "          print(f\"For Fuel 1 amount = {fuel_amount_1}, Fuel 2 amount = {fuel_amount_2}, \"\n",
        "                f\"Brake power = {brake_power}, \"\n",
        "                f\"Heat Input = {predicted_efficiency}, \",f\"Efficiency={eff}\")\n",
        "\n",
        "else:\n",
        "    print(\"No combinations meet the efficiency criteria.\")"
      ],
      "metadata": {
        "colab": {
          "base_uri": "https://localhost:8080/"
        },
        "id": "cURUBia5jmRj",
        "outputId": "902c4318-2338-4a3b-9cc3-32a9f4abcc2c"
      },
      "execution_count": null,
      "outputs": [
        {
          "output_type": "stream",
          "name": "stdout",
          "text": [
            "For Fuel 1 amount = 28.18, Fuel 2 amount = 8.453999999999999, Brake power = 4.16, Heat Input = 18.294643866666664,  Efficiency=22.738895768174164\n",
            "For Fuel 1 amount = 27.43, Fuel 2 amount = 8.229, Brake power = 4.16, Heat Input = 17.807738866666668,  Efficiency=23.36063006734042\n",
            "For Fuel 1 amount = 41.24, Fuel 2 amount = 12.372, Brake power = 4.16, Heat Input = 26.77328293333333,  Efficiency=15.537877855168475\n",
            "For Fuel 1 amount = 33.83, Fuel 2 amount = 10.149, Brake power = 4.16, Heat Input = 21.962661533333332,  Efficiency=18.941238035682762\n",
            "For Fuel 1 amount = 27.756, Fuel 2 amount = 8.3268, Brake power = 4.16, Heat Input = 18.01938024,  Efficiency=23.086254602505683\n",
            "For Fuel 1 amount = 26.955, Fuel 2 amount = 8.0865, Brake power = 4.16, Heat Input = 17.4993657,  Efficiency=23.772290215067628\n",
            "For Fuel 1 amount = 28.042, Fuel 2 amount = 8.4126, Brake power = 4.16, Heat Input = 18.205053346666666,  Efficiency=22.85079818654689\n",
            "For Fuel 1 amount = 35.945, Fuel 2 amount = 10.7835, Brake power = 4.16, Heat Input = 23.335733633333334,  Efficiency=17.826737592075332\n",
            "For Fuel 1 amount = 30.807, Fuel 2 amount = 9.242099999999999, Brake power = 4.16, Heat Input = 20.000109779999995,  Efficiency=20.799885829426685\n",
            "For Fuel 1 amount = 33.264, Fuel 2 amount = 9.9792, Brake power = 4.16, Heat Input = 21.595210559999998,  Efficiency=19.263530626116758\n",
            "For Fuel 1 amount = 29.072, Fuel 2 amount = 8.721599999999999, Brake power = 4.16, Heat Input = 18.87373621333333,  Efficiency=22.04121088150619\n",
            "For Fuel 1 amount = 32.508, Fuel 2 amount = 9.7524, Brake power = 4.16, Heat Input = 21.10441032,  Efficiency=19.711519710445057\n",
            "For Fuel 1 amount = 27.12, Fuel 2 amount = 8.136, Brake power = 4.16, Heat Input = 17.6064848,  Efficiency=23.627657918405156\n"
          ]
        }
      ]
    },
    {
      "cell_type": "markdown",
      "source": [
        "Methanol 40"
      ],
      "metadata": {
        "id": "_nYJAbHzjtmt"
      }
    },
    {
      "cell_type": "code",
      "source": [
        "#Methano1 40\n",
        "fuel_1_range = [16.46,20.11,28.18,18.05,20.49,27.43,41.24,12.81,19.13,8.91,8.37,26.28,33.83,17.658,22.041,27.756,26.955,15.264,18.224,22.4,16.912,18.648,23.429,9.324,11.994,14.682,17.604,21.522,6.909,17.094,20.86,28.042,35.945,13.992,15.432,19.744,24.288,17.776,10.346,12.936,17.85,25.298,30.807,18.891,20.421,12.504,14.92,19.432,22.616,20.848,10.143,12.621,15.365,20.958,10.528,13.944,11.277,12.978,17.031,25.935,11.416,13.968,16.656,9.555,11.963,14.924,20.972,22.008,19.053,23.886,33.264,4.936,12.936,19.376,10.843,12.117,13.272,12.488,16.48,20.584,29.072,10.409,12.425,16.268,24.983,32.508,12.424,14.88,18.272,27.12,11.375,13.811,16.954,25.935]  # Values from 1 to 60 (inclusive)\n",
        "fuel_2_range=[]\n",
        "for i in fuel_1_range:\n",
        "  fuel_2_range.append(i*0.4)\n",
        " # Values from 1 to 40 (inclusive)\n",
        "calorific_value1 = 35800\n",
        "brake_power = 4.16\n",
        "density1 = 958\n",
        "density2=776\n",
        "calorific_value2=20000\n",
        "# Assuming you have the formulas defined as functions, for example:\n",
        "def predict_efficiency(fuel_amount_1, fuel_amount_2, calorific_value1,calorific_value2, brake_power, density1,density2):\n",
        "    # Your formula to calculate efficiency based on the given inputs\n",
        "    mass_of_fuel1 = ((fuel_amount_1  * 0.000001) / 60) * density1\n",
        "    mass_of_fuel2=((fuel_amount_2  * 0.000001) / 60) * density2\n",
        "    heat_input = mass_of_fuel1 * calorific_value1 + mass_of_fuel2 * calorific_value2\n",
        "    efficiency = brake_power / heat_input\n",
        "    return heat_input\n",
        "    # Limit efficiency to a maximum value of 32\n",
        "    efficiency = min(efficiency, 32)\n",
        "\n",
        "    return efficiency\n",
        "\n",
        "# List to store combinations that meet the efficiency criteria\n",
        "efficient_combinations = []\n",
        "\n",
        "# Loop through all combinations of fuel_1 and fuel_2\n",
        "for fuel_amount_1 in fuel_1_range:\n",
        "      # Use the formula-based prediction function to get efficiency\n",
        "      predicted_efficiency = predict_efficiency(fuel_amount_1, fuel_amount_1*0.4, calorific_value1,calorific_value2 ,brake_power,density1,density2)\n",
        "      \"\"\"if 0 <= predicted_efficiency <= 24:\"\"\"\n",
        "      efficient_combinations.append((fuel_amount_1, fuel_amount_1*0.4, predicted_efficiency))\n",
        "\n",
        "# Print the combinations that meet the efficiency criteria\n",
        "if efficient_combinations:\n",
        "    for fuel_amount_1, fuel_amount_2, predicted_efficiency in efficient_combinations:\n",
        "        eff=(brake_power/predicted_efficiency)*100\n",
        "        if eff>=0 and eff<=24:\n",
        "          print(f\"For Fuel 1 amount = {fuel_amount_1}, Fuel 2 amount = {fuel_amount_2}, \"\n",
        "                f\"Brake power = {brake_power}, \"\n",
        "                f\"Heat Input = {predicted_efficiency}, \",f\"Efficiency={eff}\")\n",
        "\n",
        "else:\n",
        "    print(\"No combinations meet the efficiency criteria.\")"
      ],
      "metadata": {
        "colab": {
          "base_uri": "https://localhost:8080/"
        },
        "id": "2mz3VkcHjwhY",
        "outputId": "b626fe08-79fa-4806-98cf-17058d990604"
      },
      "execution_count": null,
      "outputs": [
        {
          "output_type": "stream",
          "name": "stdout",
          "text": [
            "For Fuel 1 amount = 28.18, Fuel 2 amount = 11.272, Brake power = 4.16, Heat Input = 19.02356653333333,  Efficiency=21.86761348199769\n",
            "For Fuel 1 amount = 27.43, Fuel 2 amount = 10.972000000000001, Brake power = 4.16, Heat Input = 18.517261533333336,  Efficiency=22.46552489692653\n",
            "For Fuel 1 amount = 41.24, Fuel 2 amount = 16.496000000000002, Brake power = 4.16, Heat Input = 27.840024266666667,  Efficiency=14.942515711025578\n",
            "For Fuel 1 amount = 26.28, Fuel 2 amount = 10.512, Brake power = 4.16, Heat Input = 17.740927199999998,  Efficiency=23.448605324303458\n",
            "For Fuel 1 amount = 33.83, Fuel 2 amount = 13.532, Brake power = 4.16, Heat Input = 22.837730866666664,  Efficiency=18.215469935639813\n",
            "For Fuel 1 amount = 27.756, Fuel 2 amount = 11.102400000000001, Brake power = 4.16, Heat Input = 18.73733544,  Efficiency=22.20166262871793\n",
            "For Fuel 1 amount = 26.955, Fuel 2 amount = 10.782, Brake power = 4.16, Heat Input = 18.1966017,  Efficiency=22.861411534880165\n",
            "For Fuel 1 amount = 28.042, Fuel 2 amount = 11.216800000000001, Brake power = 4.16, Heat Input = 18.930406413333333,  Efficiency=21.97522815500659\n",
            "For Fuel 1 amount = 35.945, Fuel 2 amount = 14.378, Brake power = 4.16, Heat Input = 24.265510966666668,  Efficiency=17.143673610312835\n",
            "For Fuel 1 amount = 30.807, Fuel 2 amount = 12.3228, Brake power = 4.16, Heat Input = 20.796984179999995,  Efficiency=20.00290024743386\n",
            "For Fuel 1 amount = 25.935, Fuel 2 amount = 10.374, Brake power = 4.16, Heat Input = 17.508026899999997,  Efficiency=23.760530091486213\n",
            "For Fuel 1 amount = 33.264, Fuel 2 amount = 13.305600000000002, Brake power = 4.16, Heat Input = 22.45563936,  Efficiency=18.52541329733931\n",
            "For Fuel 1 amount = 29.072, Fuel 2 amount = 11.6288, Brake power = 4.16, Heat Input = 19.625731946666665,  Efficiency=21.196661664924836\n",
            "For Fuel 1 amount = 32.508, Fuel 2 amount = 13.003200000000001, Brake power = 4.16, Heat Input = 21.94528392,  Efficiency=18.956236862393713\n",
            "For Fuel 1 amount = 27.12, Fuel 2 amount = 10.848, Brake power = 4.16, Heat Input = 18.3079888,  Efficiency=22.722321088594942\n",
            "For Fuel 1 amount = 25.935, Fuel 2 amount = 10.374, Brake power = 4.16, Heat Input = 17.508026899999997,  Efficiency=23.760530091486213\n"
          ]
        }
      ]
    },
    {
      "cell_type": "markdown",
      "source": [
        "COCO 10"
      ],
      "metadata": {
        "id": "4beYRhOTj26W"
      }
    },
    {
      "cell_type": "code",
      "source": [
        "#COCO 10\n",
        "fuel_1_range = [16.46,20.11,28.18,18.05,20.49,27.43,41.24,12.81,19.13,8.91,8.37,26.28,33.83,17.658,22.041,27.756,26.955,15.264,18.224,22.4,16.912,18.648,23.429,9.324,11.994,14.682,17.604,21.522,6.909,17.094,20.86,28.042,35.945,13.992,15.432,19.744,24.288,17.776,10.346,12.936,17.85,25.298,30.807,18.891,20.421,12.504,14.92,19.432,22.616,20.848,10.143,12.621,15.365,20.958,10.528,13.944,11.277,12.978,17.031,25.935,11.416,13.968,16.656,9.555,11.963,14.924,20.972,22.008,19.053,23.886,33.264,4.936,12.936,19.376,10.843,12.117,13.272,12.488,16.48,20.584,29.072,10.409,12.425,16.268,24.983,32.508,12.424,14.88,18.272,27.12,11.375,13.811,16.954,25.935]  # Values from 1 to 60 (inclusive)\n",
        "fuel_2_range=[]\n",
        "for i in fuel_1_range:\n",
        "  fuel_2_range.append(i*0.1)\n",
        " # Values from 1 to 40 (inclusive)\n",
        "calorific_value1 = 35800\n",
        "brake_power = 4.16\n",
        "density1 = 958\n",
        "density2=915.1\n",
        "calorific_value2=37100\n",
        "# Assuming you have the formulas defined as functions, for example:\n",
        "def predict_efficiency(fuel_amount_1, fuel_amount_2, calorific_value1,calorific_value2, brake_power, density1,density2):\n",
        "    # Your formula to calculate efficiency based on the given inputs\n",
        "    mass_of_fuel1 = ((fuel_amount_1  * 0.000001) / 60) * density1\n",
        "    mass_of_fuel2=((fuel_amount_2  * 0.000001) / 60) * density2\n",
        "    heat_input = mass_of_fuel1 * calorific_value1 + mass_of_fuel2 * calorific_value2\n",
        "    efficiency = brake_power / heat_input\n",
        "    return heat_input\n",
        "    # Limit efficiency to a maximum value of 32\n",
        "    efficiency = min(efficiency, 32)\n",
        "\n",
        "    return efficiency\n",
        "\n",
        "# List to store combinations that meet the efficiency criteria\n",
        "efficient_combinations = []\n",
        "\n",
        "# Loop through all combinations of fuel_1 and fuel_2\n",
        "for fuel_amount_1 in fuel_1_range:\n",
        "      # Use the formula-based prediction function to get efficiency\n",
        "      predicted_efficiency = predict_efficiency(fuel_amount_1, fuel_amount_1*0.1, calorific_value1,calorific_value2 ,brake_power,density1,density2)\n",
        "      \"\"\"if 0 <= predicted_efficiency <= 24:\"\"\"\n",
        "      efficient_combinations.append((fuel_amount_1, fuel_amount_1*0.1, predicted_efficiency))\n",
        "\n",
        "# Print the combinations that meet the efficiency criteria\n",
        "if efficient_combinations:\n",
        "    for fuel_amount_1, fuel_amount_2, predicted_efficiency in efficient_combinations:\n",
        "        eff=(brake_power/predicted_efficiency)*100\n",
        "        if eff>=0 and eff<=24:\n",
        "          print(f\"For Fuel 1 amount = {fuel_amount_1}, Fuel 2 amount = {fuel_amount_2}, \"\n",
        "                f\"Brake power = {brake_power}, \"\n",
        "                f\"Heat Input = {predicted_efficiency}, \",f\"Efficiency={eff}\")\n",
        "\n",
        "else:\n",
        "    print(\"No combinations meet the efficiency criteria.\")"
      ],
      "metadata": {
        "colab": {
          "base_uri": "https://localhost:8080/"
        },
        "id": "wvg9H-vdj__E",
        "outputId": "c1476ea4-6fe8-4c08-a721-e64d1c678040"
      },
      "execution_count": null,
      "outputs": [
        {
          "output_type": "stream",
          "name": "stdout",
          "text": [
            "For Fuel 1 amount = 28.18, Fuel 2 amount = 2.818, Brake power = 4.16, Heat Input = 17.702404062999996,  Efficiency=23.49963307353754\n",
            "For Fuel 1 amount = 41.24, Fuel 2 amount = 4.1240000000000006, Brake power = 4.16, Heat Input = 25.906570033999998,  Efficiency=16.05770271610785\n",
            "For Fuel 1 amount = 33.83, Fuel 2 amount = 3.383, Brake power = 4.16, Heat Input = 21.2516795405,  Efficiency=19.574923441096296\n",
            "For Fuel 1 amount = 27.756, Fuel 2 amount = 2.7756000000000003, Brake power = 4.16, Heat Input = 17.4360513546,  Efficiency=23.858612912966123\n",
            "For Fuel 1 amount = 28.042, Fuel 2 amount = 2.8042000000000002, Brake power = 4.16, Heat Input = 17.6157137947,  Efficiency=23.6152792244593\n",
            "For Fuel 1 amount = 35.945, Fuel 2 amount = 3.5945, Brake power = 4.16, Heat Input = 22.580302130750002,  Efficiency=18.423137015225695\n",
            "For Fuel 1 amount = 30.807, Fuel 2 amount = 3.0807, Brake power = 4.16, Heat Input = 19.352660112449996,  Efficiency=21.495752913697793\n",
            "For Fuel 1 amount = 33.264, Fuel 2 amount = 3.3264000000000005, Brake power = 4.16, Heat Input = 20.8961238024,  Efficiency=19.90799843711784\n",
            "For Fuel 1 amount = 29.072, Fuel 2 amount = 2.9072, Brake power = 4.16, Heat Input = 18.2627498552,  Efficiency=22.778606907412208\n",
            "For Fuel 1 amount = 32.508, Fuel 2 amount = 3.2508000000000004, Brake power = 4.16, Heat Input = 20.421211897800003,  Efficiency=20.370975144957786\n"
          ]
        }
      ]
    },
    {
      "cell_type": "markdown",
      "source": [
        "COCO 20"
      ],
      "metadata": {
        "id": "5hlRSS50j3jX"
      }
    },
    {
      "cell_type": "code",
      "source": [
        "#COCO 20\n",
        "fuel_1_range = [16.46,20.11,28.18,18.05,20.49,27.43,41.24,12.81,19.13,8.91,8.37,26.28,33.83,17.658,22.041,27.756,26.955,15.264,18.224,22.4,16.912,18.648,23.429,9.324,11.994,14.682,17.604,21.522,6.909,17.094,20.86,28.042,35.945,13.992,15.432,19.744,24.288,17.776,10.346,12.936,17.85,25.298,30.807,18.891,20.421,12.504,14.92,19.432,22.616,20.848,10.143,12.621,15.365,20.958,10.528,13.944,11.277,12.978,17.031,25.935,11.416,13.968,16.656,9.555,11.963,14.924,20.972,22.008,19.053,23.886,33.264,4.936,12.936,19.376,10.843,12.117,13.272,12.488,16.48,20.584,29.072,10.409,12.425,16.268,24.983,32.508,12.424,14.88,18.272,27.12,11.375,13.811,16.954,25.935]  # Values from 1 to 60 (inclusive)\n",
        "fuel_2_range=[]\n",
        "for i in fuel_1_range:\n",
        "  fuel_2_range.append(i*0.2)\n",
        " # Values from 1 to 40 (inclusive)\n",
        "calorific_value1 = 35800\n",
        "brake_power = 4.16\n",
        "density1 = 958\n",
        "density2=915.1\n",
        "calorific_value2=37100\n",
        "# Assuming you have the formulas defined as functions, for example:\n",
        "def predict_efficiency(fuel_amount_1, fuel_amount_2, calorific_value1,calorific_value2, brake_power, density1,density2):\n",
        "    # Your formula to calculate efficiency based on the given inputs\n",
        "    mass_of_fuel1 = ((fuel_amount_1  * 0.000001) / 60) * density1\n",
        "    mass_of_fuel2=((fuel_amount_2  * 0.000001) / 60) * density2\n",
        "    heat_input = mass_of_fuel1 * calorific_value1 + mass_of_fuel2 * calorific_value2\n",
        "    efficiency = brake_power / heat_input\n",
        "    return heat_input\n",
        "    # Limit efficiency to a maximum value of 32\n",
        "    efficiency = min(efficiency, 32)\n",
        "\n",
        "    return efficiency\n",
        "\n",
        "# List to store combinations that meet the efficiency criteria\n",
        "efficient_combinations = []\n",
        "\n",
        "# Loop through all combinations of fuel_1 and fuel_2\n",
        "for fuel_amount_1 in fuel_1_range:\n",
        "      # Use the formula-based prediction function to get efficiency\n",
        "      predicted_efficiency = predict_efficiency(fuel_amount_1, fuel_amount_1*0.2, calorific_value1,calorific_value2 ,brake_power,density1,density2)\n",
        "      \"\"\"if 0 <= predicted_efficiency <= 24:\"\"\"\n",
        "      efficient_combinations.append((fuel_amount_1, fuel_amount_1*0.2, predicted_efficiency))\n",
        "\n",
        "# Print the combinations that meet the efficiency criteria\n",
        "if efficient_combinations:\n",
        "    for fuel_amount_1, fuel_amount_2, predicted_efficiency in efficient_combinations:\n",
        "        eff=(brake_power/predicted_efficiency)*100\n",
        "        if eff>=0 and eff<=24:\n",
        "          print(f\"For Fuel 1 amount = {fuel_amount_1}, Fuel 2 amount = {fuel_amount_2}, \"\n",
        "                f\"Brake power = {brake_power}, \"\n",
        "                f\"Heat Input = {predicted_efficiency}, \",f\"Efficiency={eff}\")\n",
        "\n",
        "else:\n",
        "    print(\"No combinations meet the efficiency criteria.\")"
      ],
      "metadata": {
        "colab": {
          "base_uri": "https://localhost:8080/"
        },
        "id": "vd0ejtASkNUM",
        "outputId": "a1879f2b-dc33-4d11-f028-6daff959e493"
      },
      "execution_count": null,
      "outputs": [
        {
          "output_type": "stream",
          "name": "stdout",
          "text": [
            "For Fuel 1 amount = 28.18, Fuel 2 amount = 5.636, Brake power = 4.16, Heat Input = 19.29693225933333,  Efficiency=21.55783076860798\n",
            "For Fuel 1 amount = 27.43, Fuel 2 amount = 5.486000000000001, Brake power = 4.16, Heat Input = 18.783351734333337,  Efficiency=22.147272003622774\n",
            "For Fuel 1 amount = 41.24, Fuel 2 amount = 8.248000000000001, Brake power = 4.16, Heat Input = 28.240081134666667,  Efficiency=14.730835864679264\n",
            "For Fuel 1 amount = 26.28, Fuel 2 amount = 5.256, Brake power = 4.16, Heat Input = 17.995861595999997,  Efficiency=23.116425839397753\n",
            "For Fuel 1 amount = 33.83, Fuel 2 amount = 6.766, Brake power = 4.16, Heat Input = 23.165905547666664,  Efficiency=17.957424506632364\n",
            "For Fuel 1 amount = 27.756, Fuel 2 amount = 5.551200000000001, Brake power = 4.16, Heat Input = 19.0065880692,  Efficiency=21.887147681920048\n",
            "For Fuel 1 amount = 26.955, Fuel 2 amount = 5.391, Brake power = 4.16, Heat Input = 18.4580840685,  Efficiency=22.5375504010155\n",
            "For Fuel 1 amount = 28.042, Fuel 2 amount = 5.6084000000000005, Brake power = 4.16, Heat Input = 19.202433442733334,  Efficiency=21.663920942135825\n",
            "For Fuel 1 amount = 35.945, Fuel 2 amount = 7.189, Brake power = 4.16, Heat Input = 24.61420262816667,  Efficiency=16.900811547068376\n",
            "For Fuel 1 amount = 30.807, Fuel 2 amount = 6.1614, Brake power = 4.16, Heat Input = 21.095833644899997,  Efficiency=19.719533581957766\n",
            "For Fuel 1 amount = 25.935, Fuel 2 amount = 5.187, Brake power = 4.16, Heat Input = 17.7596145545,  Efficiency=23.423931793305293\n",
            "For Fuel 1 amount = 33.264, Fuel 2 amount = 6.652800000000001, Brake power = 4.16, Heat Input = 22.778323444799998,  Efficiency=18.262977124199523\n",
            "For Fuel 1 amount = 29.072, Fuel 2 amount = 5.8144, Brake power = 4.16, Heat Input = 19.907750697066664,  Efficiency=20.89638384216335\n",
            "For Fuel 1 amount = 32.508, Fuel 2 amount = 6.501600000000001, Brake power = 4.16, Heat Input = 22.2606342756,  Efficiency=18.687697522436718\n",
            "For Fuel 1 amount = 27.12, Fuel 2 amount = 5.424, Brake power = 4.16, Heat Input = 18.571071784,  Efficiency=22.40043034879693\n",
            "For Fuel 1 amount = 25.935, Fuel 2 amount = 5.187, Brake power = 4.16, Heat Input = 17.7596145545,  Efficiency=23.423931793305293\n"
          ]
        }
      ]
    },
    {
      "cell_type": "markdown",
      "source": [
        "COCO30"
      ],
      "metadata": {
        "id": "_Y0oWfM6kS_V"
      }
    },
    {
      "cell_type": "code",
      "source": [
        "#COCO 30\n",
        "fuel_1_range = [16.46,20.11,28.18,18.05,20.49,27.43,41.24,12.81,19.13,8.91,8.37,26.28,33.83,17.658,22.041,27.756,26.955,15.264,18.224,22.4,16.912,18.648,23.429,9.324,11.994,14.682,17.604,21.522,6.909,17.094,20.86,28.042,35.945,13.992,15.432,19.744,24.288,17.776,10.346,12.936,17.85,25.298,30.807,18.891,20.421,12.504,14.92,19.432,22.616,20.848,10.143,12.621,15.365,20.958,10.528,13.944,11.277,12.978,17.031,25.935,11.416,13.968,16.656,9.555,11.963,14.924,20.972,22.008,19.053,23.886,33.264,4.936,12.936,19.376,10.843,12.117,13.272,12.488,16.48,20.584,29.072,10.409,12.425,16.268,24.983,32.508,12.424,14.88,18.272,27.12,11.375,13.811,16.954,25.935]  # Values from 1 to 60 (inclusive)\n",
        "fuel_2_range=[]\n",
        "for i in fuel_1_range:\n",
        "  fuel_2_range.append(i*0.3)\n",
        " # Values from 1 to 40 (inclusive)\n",
        "calorific_value1 = 35800\n",
        "brake_power = 4.16\n",
        "density1 = 958\n",
        "density2=915.1\n",
        "calorific_value2=37100\n",
        "# Assuming you have the formulas defined as functions, for example:\n",
        "def predict_efficiency(fuel_amount_1, fuel_amount_2, calorific_value1,calorific_value2, brake_power, density1,density2):\n",
        "    # Your formula to calculate efficiency based on the given inputs\n",
        "    mass_of_fuel1 = ((fuel_amount_1  * 0.000001) / 60) * density1\n",
        "    mass_of_fuel2=((fuel_amount_2  * 0.000001) / 60) * density2\n",
        "    heat_input = mass_of_fuel1 * calorific_value1 + mass_of_fuel2 * calorific_value2\n",
        "    efficiency = brake_power / heat_input\n",
        "    return heat_input\n",
        "    # Limit efficiency to a maximum value of 32\n",
        "    efficiency = min(efficiency, 32)\n",
        "\n",
        "    return efficiency\n",
        "\n",
        "# List to store combinations that meet the efficiency criteria\n",
        "efficient_combinations = []\n",
        "\n",
        "# Loop through all combinations of fuel_1 and fuel_2\n",
        "for fuel_amount_1 in fuel_1_range:\n",
        "      # Use the formula-based prediction function to get efficiency\n",
        "      predicted_efficiency = predict_efficiency(fuel_amount_1, fuel_amount_1*0.3, calorific_value1,calorific_value2 ,brake_power,density1,density2)\n",
        "      \"\"\"if 0 <= predicted_efficiency <= 24:\"\"\"\n",
        "      efficient_combinations.append((fuel_amount_1, fuel_amount_1*0.3, predicted_efficiency))\n",
        "\n",
        "# Print the combinations that meet the efficiency criteria\n",
        "if efficient_combinations:\n",
        "    for fuel_amount_1, fuel_amount_2, predicted_efficiency in efficient_combinations:\n",
        "        eff=(brake_power/predicted_efficiency)*100\n",
        "        if eff>=0 and eff<=24:\n",
        "          print(f\"For Fuel 1 amount = {fuel_amount_1}, Fuel 2 amount = {fuel_amount_2}, \"\n",
        "                f\"Brake power = {brake_power}, \"\n",
        "                f\"Heat Input = {predicted_efficiency}, \",f\"Efficiency={eff}\")\n",
        "\n",
        "else:\n",
        "    print(\"No combinations meet the efficiency criteria.\")"
      ],
      "metadata": {
        "colab": {
          "base_uri": "https://localhost:8080/"
        },
        "id": "VA6JM2-RkShT",
        "outputId": "02ee0610-7f4a-4c74-8b5f-08b1390b19c9"
      },
      "execution_count": null,
      "outputs": [
        {
          "output_type": "stream",
          "name": "stdout",
          "text": [
            "For Fuel 1 amount = 28.18, Fuel 2 amount = 8.453999999999999, Brake power = 4.16, Heat Input = 20.891460455666664,  Efficiency=19.912442257581034\n",
            "For Fuel 1 amount = 27.43, Fuel 2 amount = 8.229, Brake power = 4.16, Heat Input = 20.33544216816667,  Efficiency=20.456894743661444\n",
            "For Fuel 1 amount = 41.24, Fuel 2 amount = 12.372, Brake power = 4.16, Heat Input = 30.573592235333333,  Efficiency=13.606513647396545\n",
            "For Fuel 1 amount = 26.28, Fuel 2 amount = 7.884, Brake power = 4.16, Heat Input = 19.482880794,  Efficiency=21.35207849385972\n",
            "For Fuel 1 amount = 33.83, Fuel 2 amount = 10.149, Brake power = 4.16, Heat Input = 25.08013155483333,  Efficiency=16.586834845363096\n",
            "For Fuel 1 amount = 27.756, Fuel 2 amount = 8.3268, Brake power = 4.16, Heat Input = 20.5771247838,  Efficiency=20.216624254886636\n",
            "For Fuel 1 amount = 26.955, Fuel 2 amount = 8.0865, Brake power = 4.16, Heat Input = 19.98329725275,  Efficiency=20.817385376317326\n",
            "For Fuel 1 amount = 23.429, Fuel 2 amount = 7.0287, Brake power = 4.16, Heat Input = 17.369269943783333,  Efficiency=23.950344565224015\n",
            "For Fuel 1 amount = 28.042, Fuel 2 amount = 8.4126, Brake power = 4.16, Heat Input = 20.789153090766664,  Efficiency=20.010435162207887\n",
            "For Fuel 1 amount = 35.945, Fuel 2 amount = 10.7835, Brake power = 4.16, Heat Input = 26.648103125583333,  Efficiency=15.610867236573473\n",
            "For Fuel 1 amount = 24.288, Fuel 2 amount = 7.2863999999999995, Brake power = 4.16, Heat Input = 18.006096222399997,  Efficiency=23.1032865126249\n",
            "For Fuel 1 amount = 25.298, Fuel 2 amount = 7.5893999999999995, Brake power = 4.16, Heat Input = 18.75486751623333,  Efficiency=22.180908483620588\n",
            "For Fuel 1 amount = 30.807, Fuel 2 amount = 9.242099999999999, Brake power = 4.16, Heat Input = 22.839007177349995,  Efficiency=18.214452001773417\n",
            "For Fuel 1 amount = 25.935, Fuel 2 amount = 7.780499999999999, Brake power = 4.16, Heat Input = 19.22711238175,  Efficiency=21.636114240163234\n",
            "For Fuel 1 amount = 23.886, Fuel 2 amount = 7.1658, Brake power = 4.16, Heat Input = 17.708070420299997,  Efficiency=23.492113489853203\n",
            "For Fuel 1 amount = 33.264, Fuel 2 amount = 9.9792, Brake power = 4.16, Heat Input = 24.660523087199998,  Efficiency=16.869066342551513\n",
            "For Fuel 1 amount = 29.072, Fuel 2 amount = 8.721599999999999, Brake power = 4.16, Heat Input = 21.55275153893333,  Efficiency=19.301479871306878\n",
            "For Fuel 1 amount = 24.983, Fuel 2 amount = 7.4948999999999995, Brake power = 4.16, Heat Input = 18.52133983548333,  Efficiency=22.460578105857323\n",
            "For Fuel 1 amount = 32.508, Fuel 2 amount = 9.7524, Brake power = 4.16, Heat Input = 24.100056653400003,  Efficiency=17.26137021098294\n",
            "For Fuel 1 amount = 27.12, Fuel 2 amount = 8.136, Brake power = 4.16, Heat Input = 20.105621276,  Efficiency=20.690730929890613\n",
            "For Fuel 1 amount = 25.935, Fuel 2 amount = 7.780499999999999, Brake power = 4.16, Heat Input = 19.22711238175,  Efficiency=21.636114240163234\n"
          ]
        }
      ]
    },
    {
      "cell_type": "markdown",
      "source": [
        "COCO 40"
      ],
      "metadata": {
        "id": "L-6jkUWQkcgW"
      }
    },
    {
      "cell_type": "code",
      "source": [
        "#COCO 40\n",
        "fuel_1_range = [16.46,20.11,28.18,18.05,20.49,27.43,41.24,12.81,19.13,8.91,8.37,26.28,33.83,17.658,22.041,27.756,26.955,15.264,18.224,22.4,16.912,18.648,23.429,9.324,11.994,14.682,17.604,21.522,6.909,17.094,20.86,28.042,35.945,13.992,15.432,19.744,24.288,17.776,10.346,12.936,17.85,25.298,30.807,18.891,20.421,12.504,14.92,19.432,22.616,20.848,10.143,12.621,15.365,20.958,10.528,13.944,11.277,12.978,17.031,25.935,11.416,13.968,16.656,9.555,11.963,14.924,20.972,22.008,19.053,23.886,33.264,4.936,12.936,19.376,10.843,12.117,13.272,12.488,16.48,20.584,29.072,10.409,12.425,16.268,24.983,32.508,12.424,14.88,18.272,27.12,11.375,13.811,16.954,25.935]  # Values from 1 to 60 (inclusive)\n",
        "fuel_2_range=[]\n",
        "for i in fuel_1_range:\n",
        "  fuel_2_range.append(i*0.4)\n",
        " # Values from 1 to 40 (inclusive)\n",
        "calorific_value1 = 35800\n",
        "brake_power = 4.16\n",
        "density1 = 958\n",
        "density2=915.1\n",
        "calorific_value2=37100\n",
        "# Assuming you have the formulas defined as functions, for example:\n",
        "def predict_efficiency(fuel_amount_1, fuel_amount_2, calorific_value1,calorific_value2, brake_power, density1,density2):\n",
        "    # Your formula to calculate efficiency based on the given inputs\n",
        "    mass_of_fuel1 = ((fuel_amount_1  * 0.000001) / 60) * density1\n",
        "    mass_of_fuel2=((fuel_amount_2  * 0.000001) / 60) * density2\n",
        "    heat_input = mass_of_fuel1 * calorific_value1 + mass_of_fuel2 * calorific_value2\n",
        "    efficiency = brake_power / heat_input\n",
        "    return heat_input\n",
        "    # Limit efficiency to a maximum value of 32\n",
        "    efficiency = min(efficiency, 32)\n",
        "\n",
        "    return efficiency\n",
        "\n",
        "# List to store combinations that meet the efficiency criteria\n",
        "efficient_combinations = []\n",
        "\n",
        "# Loop through all combinations of fuel_1 and fuel_2\n",
        "for fuel_amount_1 in fuel_1_range:\n",
        "      # Use the formula-based prediction function to get efficiency\n",
        "      predicted_efficiency = predict_efficiency(fuel_amount_1, fuel_amount_1*0.4, calorific_value1,calorific_value2 ,brake_power,density1,density2)\n",
        "      \"\"\"if 0<= predicted_efficiency <= 24:\"\"\"\n",
        "      efficient_combinations.append((fuel_amount_1, fuel_amount_1*0.4, predicted_efficiency))\n",
        "\n",
        "# Print the combinations that meet the efficiency criteria\n",
        "if efficient_combinations:\n",
        "    for fuel_amount_1, fuel_amount_2, predicted_efficiency in efficient_combinations:\n",
        "        eff=(brake_power/predicted_efficiency)*100\n",
        "        if eff>=0 and eff<=24:\n",
        "          print(f\"For Fuel 1 amount = {fuel_amount_1}, Fuel 2 amount = {fuel_amount_2}, \"\n",
        "                f\"Brake power = {brake_power}, \"\n",
        "                f\"Heat Input = {predicted_efficiency}, \",f\"Efficiency={eff}\")\n",
        "\n",
        "else:\n",
        "    print(\"No combinations meet the efficiency criteria.\")"
      ],
      "metadata": {
        "colab": {
          "base_uri": "https://localhost:8080/"
        },
        "id": "-8crSUtukdi3",
        "outputId": "671c342a-0105-472a-a635-edaf79773603"
      },
      "execution_count": null,
      "outputs": [
        {
          "output_type": "stream",
          "name": "stdout",
          "text": [
            "For Fuel 1 amount = 28.18, Fuel 2 amount = 11.272, Brake power = 4.16, Heat Input = 22.485988651999996,  Efficiency=18.500409585637644\n",
            "For Fuel 1 amount = 27.43, Fuel 2 amount = 10.972000000000001, Brake power = 4.16, Heat Input = 21.887532602000004,  Efficiency=19.006253814191346\n",
            "For Fuel 1 amount = 41.24, Fuel 2 amount = 16.496000000000002, Brake power = 4.16, Heat Input = 32.907103336,  Efficiency=12.641647481165585\n",
            "For Fuel 1 amount = 26.28, Fuel 2 amount = 10.512, Brake power = 4.16, Heat Input = 20.969899992,  Efficiency=19.837958223868675\n",
            "For Fuel 1 amount = 33.83, Fuel 2 amount = 13.532, Brake power = 4.16, Heat Input = 26.994357561999998,  Efficiency=15.410627907870788\n",
            "For Fuel 1 amount = 22.041, Fuel 2 amount = 8.8164, Brake power = 4.16, Heat Input = 17.5874263974,  Efficiency=23.653261745078204\n",
            "For Fuel 1 amount = 27.756, Fuel 2 amount = 11.102400000000001, Brake power = 4.16, Heat Input = 22.147661498399998,  Efficiency=18.78302140521937\n",
            "For Fuel 1 amount = 26.955, Fuel 2 amount = 10.782, Brake power = 4.16, Heat Input = 21.508510436999998,  Efficiency=19.341181306743415\n",
            "For Fuel 1 amount = 22.4, Fuel 2 amount = 8.959999999999999, Brake power = 4.16, Heat Input = 17.87388736,  Efficiency=23.274175987645922\n",
            "For Fuel 1 amount = 23.429, Fuel 2 amount = 9.371599999999999, Brake power = 4.16, Heat Input = 18.6949690606,  Efficiency=22.251975847166708\n",
            "For Fuel 1 amount = 28.042, Fuel 2 amount = 11.216800000000001, Brake power = 4.16, Heat Input = 22.3758727388,  Efficiency=18.59145360970219\n",
            "For Fuel 1 amount = 35.945, Fuel 2 amount = 14.378, Brake power = 4.16, Heat Input = 28.682003623000004,  Efficiency=14.503868190938062\n",
            "For Fuel 1 amount = 24.288, Fuel 2 amount = 9.715200000000001, Brake power = 4.16, Heat Input = 19.3804007232,  Efficiency=21.464984441834183\n",
            "For Fuel 1 amount = 25.298, Fuel 2 amount = 10.1192, Brake power = 4.16, Heat Input = 20.186321537199998,  Efficiency=20.60801415618898\n",
            "For Fuel 1 amount = 30.807, Fuel 2 amount = 12.3228, Brake power = 4.16, Heat Input = 24.582180709799996,  Efficiency=16.92282734843603\n",
            "For Fuel 1 amount = 22.616, Fuel 2 amount = 9.0464, Brake power = 4.16, Heat Input = 18.0462427024,  Efficiency=23.051889906405584\n",
            "For Fuel 1 amount = 25.935, Fuel 2 amount = 10.374, Brake power = 4.16, Heat Input = 20.694610209,  Efficiency=20.101852404984335\n",
            "For Fuel 1 amount = 22.008, Fuel 2 amount = 8.8032, Brake power = 4.16, Heat Input = 17.561094331199996,  Efficiency=23.688728740606543\n",
            "For Fuel 1 amount = 23.886, Fuel 2 amount = 9.5544, Brake power = 4.16, Heat Input = 19.0596282804,  Efficiency=21.82623888986305\n",
            "For Fuel 1 amount = 33.264, Fuel 2 amount = 13.305600000000002, Brake power = 4.16, Heat Input = 26.5427227296,  Efficiency=15.672845782926547\n",
            "For Fuel 1 amount = 29.072, Fuel 2 amount = 11.6288, Brake power = 4.16, Heat Input = 23.197752380799997,  Efficiency=17.93277181216527\n",
            "For Fuel 1 amount = 24.983, Fuel 2 amount = 9.993200000000002, Brake power = 4.16, Heat Input = 19.934969996200003,  Efficiency=20.867851824171183\n",
            "For Fuel 1 amount = 32.508, Fuel 2 amount = 13.003200000000001, Brake power = 4.16, Heat Input = 25.9394790312,  Efficiency=16.037330568576003\n",
            "For Fuel 1 amount = 27.12, Fuel 2 amount = 10.848, Brake power = 4.16, Heat Input = 21.640170768,  Efficiency=19.223508190386013\n",
            "For Fuel 1 amount = 25.935, Fuel 2 amount = 10.374, Brake power = 4.16, Heat Input = 20.694610209,  Efficiency=20.101852404984335\n"
          ]
        }
      ]
    },
    {
      "cell_type": "markdown",
      "source": [
        "COT 10"
      ],
      "metadata": {
        "id": "mkNGmQjUkidz"
      }
    },
    {
      "cell_type": "code",
      "source": [
        "#COT 10\n",
        "fuel_1_range = [16.46,20.11,28.18,18.05,20.49,27.43,41.24,12.81,19.13,8.91,8.37,26.28,33.83,17.658,22.041,27.756,26.955,15.264,18.224,22.4,16.912,18.648,23.429,9.324,11.994,14.682,17.604,21.522,6.909,17.094,20.86,28.042,35.945,13.992,15.432,19.744,24.288,17.776,10.346,12.936,17.85,25.298,30.807,18.891,20.421,12.504,14.92,19.432,22.616,20.848,10.143,12.621,15.365,20.958,10.528,13.944,11.277,12.978,17.031,25.935,11.416,13.968,16.656,9.555,11.963,14.924,20.972,22.008,19.053,23.886,33.264,4.936,12.936,19.376,10.843,12.117,13.272,12.488,16.48,20.584,29.072,10.409,12.425,16.268,24.983,32.508,12.424,14.88,18.272,27.12,11.375,13.811,16.954,25.935]  # Values from 1 to 60 (inclusive)\n",
        "fuel_2_range=[]\n",
        "for i in fuel_1_range:\n",
        "  fuel_2_range.append(i*0.1)\n",
        " # Values from 1 to 40 (inclusive)\n",
        "calorific_value1 = 35800\n",
        "brake_power = 4.16\n",
        "density1 = 958\n",
        "density2=909.8\n",
        "calorific_value2=40400\n",
        "# Assuming you have the formulas defined as functions, for example:\n",
        "def predict_efficiency(fuel_amount_1, fuel_amount_2, calorific_value1,calorific_value2, brake_power, density1,density2):\n",
        "    # Your formula to calculate efficiency based on the given inputs\n",
        "    mass_of_fuel1 = ((fuel_amount_1  * 0.000001) / 60) * density1\n",
        "    mass_of_fuel2=((fuel_amount_2  * 0.000001) / 60) * density2\n",
        "    heat_input = mass_of_fuel1 * calorific_value1 + mass_of_fuel2 * calorific_value2\n",
        "    efficiency = brake_power / heat_input\n",
        "    return heat_input\n",
        "    # Limit efficiency to a maximum value of 32\n",
        "    efficiency = min(efficiency, 32)\n",
        "\n",
        "    return efficiency\n",
        "\n",
        "# List to store combinations that meet the efficiency criteria\n",
        "efficient_combinations = []\n",
        "\n",
        "# Loop through all combinations of fuel_1 and fuel_2\n",
        "for fuel_amount_1 in fuel_1_range:\n",
        "      # Use the formula-based prediction function to get efficiency\n",
        "      predicted_efficiency = predict_efficiency(fuel_amount_1, fuel_amount_1*0.1, calorific_value1,calorific_value2 ,brake_power,density1,density2)\n",
        "      \"\"\"if 0 <= predicted_efficiency <= 24:\"\"\"\n",
        "      efficient_combinations.append((fuel_amount_1, fuel_amount_1*0.1, predicted_efficiency))\n",
        "\n",
        "# Print the combinations that meet the efficiency criteria\n",
        "if efficient_combinations:\n",
        "    for fuel_amount_1, fuel_amount_2, predicted_efficiency in efficient_combinations:\n",
        "        eff=(brake_power/predicted_efficiency)*100\n",
        "        if eff>=0 and eff<=24:\n",
        "          print(f\"For Fuel 1 amount = {fuel_amount_1}, Fuel 2 amount = {fuel_amount_2}, \"\n",
        "                f\"Brake power = {brake_power}, \"\n",
        "                f\"Heat Input = {predicted_efficiency}, \",f\"Efficiency={eff}\")\n",
        "\n",
        "else:\n",
        "    print(\"No combinations meet the efficiency criteria.\")"
      ],
      "metadata": {
        "colab": {
          "base_uri": "https://localhost:8080/"
        },
        "id": "A9DCUAuXkuYA",
        "outputId": "7ebc8b1b-0f91-4243-b2de-3054a6dfe72b"
      },
      "execution_count": null,
      "outputs": [
        {
          "output_type": "stream",
          "name": "stdout",
          "text": [
            "For Fuel 1 amount = 28.18, Fuel 2 amount = 2.818, Brake power = 4.16, Heat Input = 17.834178909333332,  Efficiency=23.3259967904825\n",
            "For Fuel 1 amount = 27.43, Fuel 2 amount = 2.7430000000000003, Brake power = 4.16, Heat Input = 17.359529009333336,  Efficiency=23.963783797148988\n",
            "For Fuel 1 amount = 41.24, Fuel 2 amount = 4.1240000000000006, Brake power = 4.16, Heat Input = 26.099415834666665,  Efficiency=15.939054062943667\n",
            "For Fuel 1 amount = 33.83, Fuel 2 amount = 3.383, Brake power = 4.16, Heat Input = 21.409874822666666,  Efficiency=19.430286419030356\n",
            "For Fuel 1 amount = 27.756, Fuel 2 amount = 2.7756000000000003, Brake power = 4.16, Heat Input = 17.5658434992,  Efficiency=23.682324166154952\n",
            "For Fuel 1 amount = 28.042, Fuel 2 amount = 2.8042000000000002, Brake power = 4.16, Heat Input = 17.74684332773333,  Efficiency=23.44078844432626\n",
            "For Fuel 1 amount = 35.945, Fuel 2 amount = 3.5945, Brake power = 4.16, Heat Input = 22.74838754066667,  Efficiency=18.28701042024751\n",
            "For Fuel 1 amount = 30.807, Fuel 2 amount = 3.0807, Brake power = 4.16, Heat Input = 19.496719292399995,  Efficiency=21.33692308747353\n",
            "For Fuel 1 amount = 33.264, Fuel 2 amount = 3.3264000000000005, Brake power = 4.16, Heat Input = 21.051672364799998,  Efficiency=19.760900359421505\n",
            "For Fuel 1 amount = 29.072, Fuel 2 amount = 2.9072, Brake power = 4.16, Heat Input = 18.398695857066663,  Efficiency=22.6102982098169\n",
            "For Fuel 1 amount = 32.508, Fuel 2 amount = 3.2508000000000004, Brake power = 4.16, Heat Input = 20.5732252656,  Efficiency=20.220456181733628\n"
          ]
        }
      ]
    },
    {
      "cell_type": "markdown",
      "source": [
        "COT 20"
      ],
      "metadata": {
        "id": "sh5Tww3jk7gC"
      }
    },
    {
      "cell_type": "code",
      "source": [
        "#COT 20\n",
        "fuel_1_range = [16.46,20.11,28.18,18.05,20.49,27.43,41.24,12.81,19.13,8.91,8.37,26.28,33.83,17.658,22.041,27.756,26.955,15.264,18.224,22.4,16.912,18.648,23.429,9.324,11.994,14.682,17.604,21.522,6.909,17.094,20.86,28.042,35.945,13.992,15.432,19.744,24.288,17.776,10.346,12.936,17.85,25.298,30.807,18.891,20.421,12.504,14.92,19.432,22.616,20.848,10.143,12.621,15.365,20.958,10.528,13.944,11.277,12.978,17.031,25.935,11.416,13.968,16.656,9.555,11.963,14.924,20.972,22.008,19.053,23.886,33.264,4.936,12.936,19.376,10.843,12.117,13.272,12.488,16.48,20.584,29.072,10.409,12.425,16.268,24.983,32.508,12.424,14.88,18.272,27.12,11.375,13.811,16.954,25.935]  # Values from 1 to 60 (inclusive)\n",
        "fuel_2_range=[]\n",
        "for i in fuel_1_range:\n",
        "  fuel_2_range.append(i*0.2)\n",
        " # Values from 1 to 40 (inclusive)\n",
        "calorific_value1 = 35800\n",
        "brake_power = 4.16\n",
        "density1 = 958\n",
        "density2=909.8\n",
        "calorific_value2=40400\n",
        "# Assuming you have the formulas defined as functions, for example:\n",
        "def predict_efficiency(fuel_amount_1, fuel_amount_2, calorific_value1,calorific_value2, brake_power, density1,density2):\n",
        "    # Your formula to calculate efficiency based on the given inputs\n",
        "    mass_of_fuel1 = ((fuel_amount_1  * 0.000001) / 60) * density1\n",
        "    mass_of_fuel2=((fuel_amount_2  * 0.000001) / 60) * density2\n",
        "    heat_input = mass_of_fuel1 * calorific_value1 + mass_of_fuel2 * calorific_value2\n",
        "    efficiency = brake_power / heat_input\n",
        "    return heat_input\n",
        "    # Limit efficiency to a maximum value of 32\n",
        "    efficiency = min(efficiency, 32)\n",
        "\n",
        "    return efficiency\n",
        "\n",
        "# List to store combinations that meet the efficiency criteria\n",
        "efficient_combinations = []\n",
        "\n",
        "# Loop through all combinations of fuel_1 and fuel_2\n",
        "for fuel_amount_1 in fuel_1_range:\n",
        "      # Use the formula-based prediction function to get efficiency\n",
        "      predicted_efficiency = predict_efficiency(fuel_amount_1, fuel_amount_1*0.2, calorific_value1,calorific_value2 ,brake_power,density1,density2)\n",
        "      \"\"\"if 0<= predicted_efficiency <= 24:\"\"\"\n",
        "      efficient_combinations.append((fuel_amount_1, fuel_amount_1*0.2, predicted_efficiency))\n",
        "\n",
        "# Print the combinations that meet the efficiency criteria\n",
        "if efficient_combinations:\n",
        "    for fuel_amount_1, fuel_amount_2, predicted_efficiency in efficient_combinations:\n",
        "        eff=(brake_power/predicted_efficiency)*100\n",
        "        if eff>=0 and eff<=24:\n",
        "          print(f\"For Fuel 1 amount = {fuel_amount_1}, Fuel 2 amount = {fuel_amount_2}, \"\n",
        "                f\"Brake power = {brake_power}, \"\n",
        "                f\"Heat Input = {predicted_efficiency}, \",f\"Efficiency={eff}\")\n",
        "\n",
        "else:\n",
        "    print(\"No combinations meet the efficiency criteria.\")"
      ],
      "metadata": {
        "id": "RBrrOQwCk83w",
        "colab": {
          "base_uri": "https://localhost:8080/"
        },
        "outputId": "84e1c3f1-db17-4711-eef6-e37d0bcb7f3c"
      },
      "execution_count": null,
      "outputs": [
        {
          "output_type": "stream",
          "name": "stdout",
          "text": [
            "For Fuel 1 amount = 28.18, Fuel 2 amount = 5.636, Brake power = 4.16, Heat Input = 19.560481951999996,  Efficiency=21.267369639502434\n",
            "For Fuel 1 amount = 27.43, Fuel 2 amount = 5.486000000000001, Brake power = 4.16, Heat Input = 19.039887152000002,  Efficiency=21.84886899165798\n",
            "For Fuel 1 amount = 41.24, Fuel 2 amount = 8.248000000000001, Brake power = 4.16, Heat Input = 28.625772736,  Efficiency=14.532358788583377\n",
            "For Fuel 1 amount = 26.28, Fuel 2 amount = 5.256, Brake power = 4.16, Heat Input = 18.241641792,  Efficiency=22.804964856970262\n",
            "For Fuel 1 amount = 33.83, Fuel 2 amount = 6.766, Brake power = 4.16, Heat Input = 23.482296111999997,  Efficiency=17.715473734589963\n",
            "For Fuel 1 amount = 27.756, Fuel 2 amount = 5.551200000000001, Brake power = 4.16, Heat Input = 19.2661723584,  Efficiency=21.592249475471196\n",
            "For Fuel 1 amount = 26.955, Fuel 2 amount = 5.391, Brake power = 4.16, Heat Input = 18.710177112,  Efficiency=22.23388894235498\n",
            "For Fuel 1 amount = 28.042, Fuel 2 amount = 5.6084000000000005, Brake power = 4.16, Heat Input = 19.4646925088,  Efficiency=21.37203039872971\n",
            "For Fuel 1 amount = 35.945, Fuel 2 amount = 7.189, Brake power = 4.16, Heat Input = 24.950373448,  Efficiency=16.673097132874627\n",
            "For Fuel 1 amount = 25.298, Fuel 2 amount = 5.0596, Brake power = 4.16, Heat Input = 17.560009667199996,  Efficiency=23.690191969372226\n",
            "For Fuel 1 amount = 30.807, Fuel 2 amount = 6.1614, Brake power = 4.16, Heat Input = 21.383952004799994,  Efficiency=19.453840894640134\n",
            "For Fuel 1 amount = 25.935, Fuel 2 amount = 5.187, Brake power = 4.16, Heat Input = 18.002168184,  Efficiency=23.108327605212203\n",
            "For Fuel 1 amount = 33.264, Fuel 2 amount = 6.652800000000001, Brake power = 4.16, Heat Input = 23.089420569599998,  Efficiency=18.016909464922392\n",
            "For Fuel 1 amount = 29.072, Fuel 2 amount = 5.8144, Brake power = 4.16, Heat Input = 20.1796427008,  Efficiency=20.61483477026618\n",
            "For Fuel 1 amount = 24.983, Fuel 2 amount = 4.996600000000001, Brake power = 4.16, Heat Input = 17.3413598512,  Efficiency=23.98889150386977\n",
            "For Fuel 1 amount = 32.508, Fuel 2 amount = 6.501600000000001, Brake power = 4.16, Heat Input = 22.564661011200002,  Efficiency=18.43590735945547\n",
            "For Fuel 1 amount = 27.12, Fuel 2 amount = 5.424, Brake power = 4.16, Heat Input = 18.824707968000002,  Efficiency=22.098616387949054\n",
            "For Fuel 1 amount = 25.935, Fuel 2 amount = 5.187, Brake power = 4.16, Heat Input = 18.002168184,  Efficiency=23.108327605212203\n"
          ]
        }
      ]
    },
    {
      "cell_type": "markdown",
      "source": [
        "COT 30"
      ],
      "metadata": {
        "id": "IyL8H9TklFCO"
      }
    },
    {
      "cell_type": "code",
      "source": [
        "#COT 30\n",
        "fuel_1_range = [16.46,20.11,28.18,18.05,20.49,27.43,41.24,12.81,19.13,8.91,8.37,26.28,33.83,17.658,22.041,27.756,26.955,15.264,18.224,22.4,16.912,18.648,23.429,9.324,11.994,14.682,17.604,21.522,6.909,17.094,20.86,28.042,35.945,13.992,15.432,19.744,24.288,17.776,10.346,12.936,17.85,25.298,30.807,18.891,20.421,12.504,14.92,19.432,22.616,20.848,10.143,12.621,15.365,20.958,10.528,13.944,11.277,12.978,17.031,25.935,11.416,13.968,16.656,9.555,11.963,14.924,20.972,22.008,19.053,23.886,33.264,4.936,12.936,19.376,10.843,12.117,13.272,12.488,16.48,20.584,29.072,10.409,12.425,16.268,24.983,32.508,12.424,14.88,18.272,27.12,11.375,13.811,16.954,25.935]  # Values from 1 to 60 (inclusive)\n",
        "fuel_2_range=[]\n",
        "for i in fuel_1_range:\n",
        "  fuel_2_range.append(i*0.3)\n",
        " # Values from 1 to 40 (inclusive)\n",
        "calorific_value1 = 35800\n",
        "brake_power = 4.16\n",
        "density1 = 958\n",
        "density2=909.8\n",
        "calorific_value2=40400\n",
        "# Assuming you have the formulas defined as functions, for example:\n",
        "def predict_efficiency(fuel_amount_1, fuel_amount_2, calorific_value1,calorific_value2, brake_power, density1,density2):\n",
        "    # Your formula to calculate efficiency based on the given inputs\n",
        "    mass_of_fuel1 = ((fuel_amount_1  * 0.000001) / 60) * density1\n",
        "    mass_of_fuel2=((fuel_amount_2  * 0.000001) / 60) * density2\n",
        "    heat_input = mass_of_fuel1 * calorific_value1 + mass_of_fuel2 * calorific_value2\n",
        "    efficiency = brake_power / heat_input\n",
        "    return heat_input\n",
        "    # Limit efficiency to a maximum value of 32\n",
        "    efficiency = min(efficiency, 32)\n",
        "\n",
        "    return efficiency\n",
        "\n",
        "# List to store combinations that meet the efficiency criteria\n",
        "efficient_combinations = []\n",
        "\n",
        "# Loop through all combinations of fuel_1 and fuel_2\n",
        "for fuel_amount_1 in fuel_1_range:\n",
        "      # Use the formula-based prediction function to get efficiency\n",
        "      predicted_efficiency = predict_efficiency(fuel_amount_1, fuel_amount_1*0.3, calorific_value1,calorific_value2 ,brake_power,density1,density2)\n",
        "      \"\"\"if 0 <= predicted_efficiency <= 24:\"\"\"\n",
        "      efficient_combinations.append((fuel_amount_1, fuel_amount_1*0.3, predicted_efficiency))\n",
        "\n",
        "# Print the combinations that meet the efficiency criteria\n",
        "if efficient_combinations:\n",
        "    for fuel_amount_1, fuel_amount_2, predicted_efficiency in efficient_combinations:\n",
        "        eff=(brake_power/predicted_efficiency)*100\n",
        "        if eff>=0 and eff<=24:\n",
        "          print(f\"For Fuel 1 amount = {fuel_amount_1}, Fuel 2 amount = {fuel_amount_2}, \"\n",
        "                f\"Brake power = {brake_power}, \"\n",
        "                f\"Heat Input = {predicted_efficiency}, \",f\"Efficiency={eff}\")\n",
        "\n",
        "else:\n",
        "    print(\"No combinations meet the efficiency criteria.\")"
      ],
      "metadata": {
        "colab": {
          "base_uri": "https://localhost:8080/"
        },
        "id": "TOpW9DkolExJ",
        "outputId": "93bfcde3-3294-4e33-9940-d41071c09177"
      },
      "execution_count": null,
      "outputs": [
        {
          "output_type": "stream",
          "name": "stdout",
          "text": [
            "For Fuel 1 amount = 28.18, Fuel 2 amount = 8.453999999999999, Brake power = 4.16, Heat Input = 21.28678499466666,  Efficiency=19.542641131773895\n",
            "For Fuel 1 amount = 27.43, Fuel 2 amount = 8.229, Brake power = 4.16, Heat Input = 20.720245294666668,  Efficiency=20.076982394946704\n",
            "For Fuel 1 amount = 41.24, Fuel 2 amount = 12.372, Brake power = 4.16, Heat Input = 31.15212963733333,  Efficiency=13.3538221894614\n",
            "For Fuel 1 amount = 26.28, Fuel 2 amount = 7.884, Brake power = 4.16, Heat Input = 19.851551087999997,  Efficiency=20.955541365806248\n",
            "For Fuel 1 amount = 33.83, Fuel 2 amount = 10.149, Brake power = 4.16, Heat Input = 25.554717401333328,  Efficiency=16.27879477071795\n",
            "For Fuel 1 amount = 27.756, Fuel 2 amount = 8.3268, Brake power = 4.16, Heat Input = 20.966501217599998,  Efficiency=19.841174055821742\n",
            "For Fuel 1 amount = 26.955, Fuel 2 amount = 8.0865, Brake power = 4.16, Heat Input = 20.361436817999998,  Efficiency=20.430778226428796\n",
            "For Fuel 1 amount = 23.429, Fuel 2 amount = 7.0287, Brake power = 4.16, Heat Input = 17.69794484173333,  Efficiency=23.505554103606137\n",
            "For Fuel 1 amount = 28.042, Fuel 2 amount = 8.4126, Brake power = 4.16, Heat Input = 21.182541689866664,  Efficiency=19.63881417493004\n",
            "For Fuel 1 amount = 35.945, Fuel 2 amount = 10.7835, Brake power = 4.16, Heat Input = 27.152359355333335,  Efficiency=15.320952207355354\n",
            "For Fuel 1 amount = 24.288, Fuel 2 amount = 7.2863999999999995, Brake power = 4.16, Heat Input = 18.3468216448,  Efficiency=22.67422707070933\n",
            "For Fuel 1 amount = 25.298, Fuel 2 amount = 7.5893999999999995, Brake power = 4.16, Heat Input = 19.10976177413333,  Efficiency=21.768978855774698\n",
            "For Fuel 1 amount = 30.807, Fuel 2 amount = 9.242099999999999, Brake power = 4.16, Heat Input = 23.271184717199993,  Efficiency=17.876184863615034\n",
            "For Fuel 1 amount = 25.935, Fuel 2 amount = 7.780499999999999, Brake power = 4.16, Heat Input = 19.590942826,  Efficiency=21.234302182124086\n",
            "For Fuel 1 amount = 23.886, Fuel 2 amount = 7.1658, Brake power = 4.16, Heat Input = 18.043156365599998,  Efficiency=23.055833002318856\n",
            "For Fuel 1 amount = 33.264, Fuel 2 amount = 9.9792, Brake power = 4.16, Heat Input = 25.127168774399998,  Efficiency=16.555784845279828\n",
            "For Fuel 1 amount = 29.072, Fuel 2 amount = 8.721599999999999, Brake power = 4.16, Heat Input = 21.960589544533327,  Efficiency=18.943025147681215\n",
            "For Fuel 1 amount = 24.983, Fuel 2 amount = 7.4948999999999995, Brake power = 4.16, Heat Input = 18.871815100133333,  Efficiency=22.04345463288589\n",
            "For Fuel 1 amount = 32.508, Fuel 2 amount = 9.7524, Brake power = 4.16, Heat Input = 24.556096756800002,  Efficiency=16.940803097495635\n",
            "For Fuel 1 amount = 27.12, Fuel 2 amount = 8.136, Brake power = 4.16, Heat Input = 20.486075552,  Efficiency=20.306475925272427\n",
            "For Fuel 1 amount = 25.935, Fuel 2 amount = 7.780499999999999, Brake power = 4.16, Heat Input = 19.590942826,  Efficiency=21.234302182124086\n"
          ]
        }
      ]
    },
    {
      "cell_type": "markdown",
      "source": [
        "COT 40"
      ],
      "metadata": {
        "id": "8HprWH2clOFe"
      }
    },
    {
      "cell_type": "code",
      "source": [
        "#COT 40\n",
        "fuel_1_range = [16.46,20.11,28.18,18.05,20.49,27.43,41.24,12.81,19.13,8.91,8.37,26.28,33.83,17.658,22.041,27.756,26.955,15.264,18.224,22.4,16.912,18.648,23.429,9.324,11.994,14.682,17.604,21.522,6.909,17.094,20.86,28.042,35.945,13.992,15.432,19.744,24.288,17.776,10.346,12.936,17.85,25.298,30.807,18.891,20.421,12.504,14.92,19.432,22.616,20.848,10.143,12.621,15.365,20.958,10.528,13.944,11.277,12.978,17.031,25.935,11.416,13.968,16.656,9.555,11.963,14.924,20.972,22.008,19.053,23.886,33.264,4.936,12.936,19.376,10.843,12.117,13.272,12.488,16.48,20.584,29.072,10.409,12.425,16.268,24.983,32.508,12.424,14.88,18.272,27.12,11.375,13.811,16.954,25.935]  # Values from 1 to 60 (inclusive)\n",
        "fuel_2_range=[]\n",
        "for i in fuel_1_range:\n",
        "  fuel_2_range.append(i*0.4)\n",
        " # Values from 1 to 40 (inclusive)\n",
        "calorific_value1 = 35800\n",
        "brake_power = 4.16\n",
        "density1 = 958\n",
        "density2=909.8\n",
        "calorific_value2=40400\n",
        "# Assuming you have the formulas defined as functions, for example:\n",
        "def predict_efficiency(fuel_amount_1, fuel_amount_2, calorific_value1,calorific_value2, brake_power, density1,density2):\n",
        "    # Your formula to calculate efficiency based on the given inputs\n",
        "    mass_of_fuel1 = ((fuel_amount_1  * 0.000001) / 60) * density1\n",
        "    mass_of_fuel2=((fuel_amount_2  * 0.000001) / 60) * density2\n",
        "    heat_input = mass_of_fuel1 * calorific_value1 + mass_of_fuel2 * calorific_value2\n",
        "    efficiency = brake_power / heat_input\n",
        "    return heat_input\n",
        "    # Limit efficiency to a maximum value of 32\n",
        "    efficiency = min(efficiency, 32)\n",
        "\n",
        "    return efficiency\n",
        "\n",
        "# List to store combinations that meet the efficiency criteria\n",
        "efficient_combinations = []\n",
        "\n",
        "# Loop through all combinations of fuel_1 and fuel_2\n",
        "for fuel_amount_1 in fuel_1_range:\n",
        "      # Use the formula-based prediction function to get efficiency\n",
        "      predicted_efficiency = predict_efficiency(fuel_amount_1, fuel_amount_1*0.4, calorific_value1,calorific_value2 ,brake_power,density1,density2)\n",
        "      \"\"\"if 0 <= predicted_efficiency <= 24:\"\"\"\n",
        "      efficient_combinations.append((fuel_amount_1, fuel_amount_1*0.4, predicted_efficiency))\n",
        "\n",
        "# Print the combinations that meet the efficiency criteria\n",
        "if efficient_combinations:\n",
        "    for fuel_amount_1, fuel_amount_2, predicted_efficiency in efficient_combinations:\n",
        "        eff=(brake_power/predicted_efficiency)*100\n",
        "        if eff>=0 and eff<=24:\n",
        "          print(f\"For Fuel 1 amount = {fuel_amount_1}, Fuel 2 amount = {fuel_amount_2}, \"\n",
        "                f\"Brake power = {brake_power}, \"\n",
        "                f\"Heat Input = {predicted_efficiency}, \",f\"Efficiency={eff}\")\n",
        "\n",
        "else:\n",
        "    print(\"No combinations meet the efficiency criteria.\")"
      ],
      "metadata": {
        "colab": {
          "base_uri": "https://localhost:8080/"
        },
        "id": "2QBQ4_-xlLEN",
        "outputId": "1bde0268-b3e1-4437-b9ee-ffbb2fa4ea48"
      },
      "execution_count": null,
      "outputs": [
        {
          "output_type": "stream",
          "name": "stdout",
          "text": [
            "For Fuel 1 amount = 28.18, Fuel 2 amount = 11.272, Brake power = 4.16, Heat Input = 23.01308803733333,  Efficiency=18.076670081178925\n",
            "For Fuel 1 amount = 27.43, Fuel 2 amount = 10.972000000000001, Brake power = 4.16, Heat Input = 22.400603437333334,  Efficiency=18.570928286096315\n",
            "For Fuel 1 amount = 41.24, Fuel 2 amount = 16.496000000000002, Brake power = 4.16, Heat Input = 33.67848653866667,  Efficiency=12.352099003094615\n",
            "For Fuel 1 amount = 26.28, Fuel 2 amount = 10.512, Brake power = 4.16, Heat Input = 21.461460384,  Efficiency=19.383583062694903\n",
            "For Fuel 1 amount = 33.83, Fuel 2 amount = 13.532, Brake power = 4.16, Heat Input = 27.627138690666662,  Efficiency=15.057657785622883\n",
            "For Fuel 1 amount = 22.041, Fuel 2 amount = 8.8164, Brake power = 4.16, Heat Input = 17.999697424799997,  Efficiency=23.11149960925648\n",
            "For Fuel 1 amount = 27.756, Fuel 2 amount = 11.102400000000001, Brake power = 4.16, Heat Input = 22.6668300768,  Efficiency=18.35280886610542\n",
            "For Fuel 1 amount = 26.955, Fuel 2 amount = 10.782, Brake power = 4.16, Heat Input = 22.012696524,  Efficiency=18.898184488503876\n",
            "For Fuel 1 amount = 22.4, Fuel 2 amount = 8.959999999999999, Brake power = 4.16, Heat Input = 18.292873386666667,  Efficiency=22.741096557483125\n",
            "For Fuel 1 amount = 23.429, Fuel 2 amount = 9.371599999999999, Brake power = 4.16, Heat Input = 19.133202257866667,  Efficiency=21.742309227351658\n",
            "For Fuel 1 amount = 21.522, Fuel 2 amount = 8.6088, Brake power = 4.16, Heat Input = 17.575858081599996,  Efficiency=23.668830168554138\n",
            "For Fuel 1 amount = 28.042, Fuel 2 amount = 11.216800000000001, Brake power = 4.16, Heat Input = 22.900390870933332,  Efficiency=18.165628802782326\n",
            "For Fuel 1 amount = 35.945, Fuel 2 amount = 14.378, Brake power = 4.16, Heat Input = 29.35434526266667,  Efficiency=14.171666793368257\n",
            "For Fuel 1 amount = 24.288, Fuel 2 amount = 9.715200000000001, Brake power = 4.16, Heat Input = 19.834701286399998,  Efficiency=20.973343333647154\n",
            "For Fuel 1 amount = 25.298, Fuel 2 amount = 10.1192, Brake power = 4.16, Heat Input = 20.659513881066662,  Efficiency=20.13600137906641\n",
            "For Fuel 1 amount = 30.807, Fuel 2 amount = 12.3228, Brake power = 4.16, Heat Input = 25.158417429599996,  Efficiency=16.535221309690073\n",
            "For Fuel 1 amount = 22.616, Fuel 2 amount = 9.0464, Brake power = 4.16, Heat Input = 18.469268951466667,  Efficiency=22.523901790220286\n",
            "For Fuel 1 amount = 25.935, Fuel 2 amount = 10.374, Brake power = 4.16, Heat Input = 21.179717468,  Efficiency=19.64143292414197\n",
            "For Fuel 1 amount = 22.008, Fuel 2 amount = 8.8032, Brake power = 4.16, Heat Input = 17.972748102399997,  Efficiency=23.146154256980285\n",
            "For Fuel 1 amount = 23.886, Fuel 2 amount = 9.5544, Brake power = 4.16, Heat Input = 19.506409540799996,  Efficiency=21.326323490229512\n",
            "For Fuel 1 amount = 33.264, Fuel 2 amount = 13.305600000000002, Brake power = 4.16, Heat Input = 27.1649169792,  Efficiency=15.313869735678873\n",
            "For Fuel 1 amount = 29.072, Fuel 2 amount = 11.6288, Brake power = 4.16, Heat Input = 23.741536388266663,  Efficiency=17.522033671148254\n",
            "For Fuel 1 amount = 24.983, Fuel 2 amount = 9.993200000000002, Brake power = 4.16, Heat Input = 20.40227034906667,  Efficiency=20.389887639099467\n",
            "For Fuel 1 amount = 32.508, Fuel 2 amount = 13.003200000000001, Brake power = 4.16, Heat Input = 26.547532502400003,  Efficiency=15.670006241159776\n",
            "For Fuel 1 amount = 27.12, Fuel 2 amount = 10.848, Brake power = 4.16, Heat Input = 22.147443136,  Efficiency=18.783206596151253\n",
            "For Fuel 1 amount = 25.935, Fuel 2 amount = 10.374, Brake power = 4.16, Heat Input = 21.179717468,  Efficiency=19.64143292414197\n"
          ]
        }
      ]
    },
    {
      "cell_type": "markdown",
      "source": [
        "OP 10"
      ],
      "metadata": {
        "id": "S6je4jiUlgy0"
      }
    },
    {
      "cell_type": "code",
      "source": [
        "#OP10\n",
        "fuel_1_range = [16.46,20.11,28.18,18.05,20.49,27.43,41.24,12.81,19.13,8.91,8.37,26.28,33.83,17.658,22.041,27.756,26.955,15.264,18.224,22.4,16.912,18.648,23.429,9.324,11.994,14.682,17.604,21.522,6.909,17.094,20.86,28.042,35.945,13.992,15.432,19.744,24.288,17.776,10.346,12.936,17.85,25.298,30.807,18.891,20.421,12.504,14.92,19.432,22.616,20.848,10.143,12.621,15.365,20.958,10.528,13.944,11.277,12.978,17.031,25.935,11.416,13.968,16.656,9.555,11.963,14.924,20.972,22.008,19.053,23.886,33.264,4.936,12.936,19.376,10.843,12.117,13.272,12.488,16.48,20.584,29.072,10.409,12.425,16.268,24.983,32.508,12.424,14.88,18.272,27.12,11.375,13.811,16.954,25.935]  # Values from 1 to 60 (inclusive)\n",
        "fuel_2_range=[]\n",
        "for i in fuel_1_range:\n",
        "  fuel_2_range.append(i*0.1)\n",
        " # Values from 1 to 40 (inclusive)\n",
        "calorific_value1 = 35800\n",
        "brake_power = 4.16\n",
        "density1 = 958\n",
        "density2=816.9\n",
        "calorific_value2=39000\n",
        "# Assuming you have the formulas defined as functions, for example:\n",
        "def predict_efficiency(fuel_amount_1, fuel_amount_2, calorific_value1,calorific_value2, brake_power, density1,density2):\n",
        "    # Your formula to calculate efficiency based on the given inputs\n",
        "    mass_of_fuel1 = ((fuel_amount_1  * 0.000001) / 60) * density1\n",
        "    mass_of_fuel2=((fuel_amount_2  * 0.000001) / 60) * density2\n",
        "    heat_input = mass_of_fuel1 * calorific_value1 + mass_of_fuel2 * calorific_value2\n",
        "    efficiency = brake_power / heat_input\n",
        "    return heat_input\n",
        "    # Limit efficiency to a maximum value of 32\n",
        "    efficiency = min(efficiency, 32)\n",
        "\n",
        "    return efficiency\n",
        "\n",
        "# List to store combinations that meet the efficiency criteria\n",
        "efficient_combinations = []\n",
        "\n",
        "# Loop through all combinations of fuel_1 and fuel_2\n",
        "for fuel_amount_1 in fuel_1_range:\n",
        "      # Use the formula-based prediction function to get efficiency\n",
        "      predicted_efficiency = predict_efficiency(fuel_amount_1, fuel_amount_1*0.1, calorific_value1,calorific_value2 ,brake_power,density1,density2)\n",
        "      \"\"\"if 0 <= predicted_efficiency <= 24:\"\"\"\n",
        "      efficient_combinations.append((fuel_amount_1, fuel_amount_1*0.1, predicted_efficiency))\n",
        "\n",
        "# Print the combinations that meet the efficiency criteria\n",
        "if efficient_combinations:\n",
        "    for fuel_amount_1, fuel_amount_2, predicted_efficiency in efficient_combinations:\n",
        "        eff=(brake_power/predicted_efficiency)*100\n",
        "        if eff>=0 and eff<=24:\n",
        "          print(f\"For Fuel 1 amount = {fuel_amount_1}, Fuel 2 amount = {fuel_amount_2}, \"\n",
        "                f\"Brake power = {brake_power}, \"\n",
        "                f\"Heat Input = {predicted_efficiency}, \",f\"Efficiency={eff}\")\n",
        "\n",
        "else:\n",
        "    print(\"No combinations meet the efficiency criteria.\")"
      ],
      "metadata": {
        "colab": {
          "base_uri": "https://localhost:8080/"
        },
        "id": "qfusk0nmlWsI",
        "outputId": "7c9b9e0a-5ed8-4034-c88b-457895ffe0e1"
      },
      "execution_count": null,
      "outputs": [
        {
          "output_type": "stream",
          "name": "stdout",
          "text": [
            "For Fuel 1 amount = 28.18, Fuel 2 amount = 2.818, Brake power = 4.16, Heat Input = 17.604191596666663,  Efficiency=23.630735766291547\n",
            "For Fuel 1 amount = 41.24, Fuel 2 amount = 4.1240000000000006, Brake power = 4.16, Heat Input = 25.762841073333334,  Efficiency=16.14728743681124\n",
            "For Fuel 1 amount = 33.83, Fuel 2 amount = 3.383, Brake power = 4.16, Heat Input = 21.13377578833333,  Efficiency=19.68413047277847\n",
            "For Fuel 1 amount = 27.756, Fuel 2 amount = 2.7756000000000003, Brake power = 4.16, Heat Input = 17.339316606,  Efficiency=23.99171832735609\n",
            "For Fuel 1 amount = 28.042, Fuel 2 amount = 2.8042000000000002, Brake power = 4.16, Heat Input = 17.517982283666665,  Efficiency=23.747027098427207\n",
            "For Fuel 1 amount = 35.945, Fuel 2 amount = 3.5945, Brake power = 4.16, Heat Input = 22.455027215833336,  Efficiency=18.525918316708736\n",
            "For Fuel 1 amount = 30.807, Fuel 2 amount = 3.0807, Brake power = 4.16, Heat Input = 19.245292069499996,  Efficiency=21.615676109134153\n",
            "For Fuel 1 amount = 33.264, Fuel 2 amount = 3.3264000000000005, Brake power = 4.16, Heat Input = 20.780192663999998,  Efficiency=20.019063669254923\n",
            "For Fuel 1 amount = 29.072, Fuel 2 amount = 2.9072, Brake power = 4.16, Heat Input = 18.16142860533333,  Efficiency=22.905687049191517\n",
            "For Fuel 1 amount = 32.508, Fuel 2 amount = 3.2508000000000004, Brake power = 4.16, Heat Input = 20.307915558,  Efficiency=20.48462328947015\n"
          ]
        }
      ]
    },
    {
      "cell_type": "markdown",
      "source": [
        "OP 20"
      ],
      "metadata": {
        "id": "a5FOLF46lriv"
      }
    },
    {
      "cell_type": "code",
      "source": [
        "#OP20\n",
        "fuel_1_range = [16.46,20.11,28.18,18.05,20.49,27.43,41.24,12.81,19.13,8.91,8.37,26.28,33.83,17.658,22.041,27.756,26.955,15.264,18.224,22.4,16.912,18.648,23.429,9.324,11.994,14.682,17.604,21.522,6.909,17.094,20.86,28.042,35.945,13.992,15.432,19.744,24.288,17.776,10.346,12.936,17.85,25.298,30.807,18.891,20.421,12.504,14.92,19.432,22.616,20.848,10.143,12.621,15.365,20.958,10.528,13.944,11.277,12.978,17.031,25.935,11.416,13.968,16.656,9.555,11.963,14.924,20.972,22.008,19.053,23.886,33.264,4.936,12.936,19.376,10.843,12.117,13.272,12.488,16.48,20.584,29.072,10.409,12.425,16.268,24.983,32.508,12.424,14.88,18.272,27.12,11.375,13.811,16.954,25.935]  # Values from 1 to 60 (inclusive)\n",
        "fuel_2_range=[]\n",
        "for i in fuel_1_range:\n",
        "  fuel_2_range.append(i*0.2)\n",
        " # Values from 1 to 40 (inclusive)\n",
        "calorific_value1 = 35800\n",
        "brake_power = 4.16\n",
        "density1 = 958\n",
        "density2=816.9\n",
        "calorific_value2=39000\n",
        "# Assuming you have the formulas defined as functions, for example:\n",
        "def predict_efficiency(fuel_amount_1, fuel_amount_2, calorific_value1,calorific_value2, brake_power, density1,density2):\n",
        "    # Your formula to calculate efficiency based on the given inputs\n",
        "    mass_of_fuel1 = ((fuel_amount_1  * 0.000001) / 60) * density1\n",
        "    mass_of_fuel2=((fuel_amount_2  * 0.000001) / 60) * density2\n",
        "    heat_input = mass_of_fuel1 * calorific_value1 + mass_of_fuel2 * calorific_value2\n",
        "    efficiency = brake_power / heat_input\n",
        "    return heat_input\n",
        "    # Limit efficiency to a maximum value of 32\n",
        "    efficiency = min(efficiency, 32)\n",
        "\n",
        "    return efficiency\n",
        "\n",
        "# List to store combinations that meet the efficiency criteria\n",
        "efficient_combinations = []\n",
        "\n",
        "# Loop through all combinations of fuel_1 and fuel_2\n",
        "for fuel_amount_1 in fuel_1_range:\n",
        "      # Use the formula-based prediction function to get efficiency\n",
        "      predicted_efficiency = predict_efficiency(fuel_amount_1, fuel_amount_1*0.2, calorific_value1,calorific_value2 ,brake_power,density1,density2)\n",
        "      \"\"\"if 0 <= predicted_efficiency <= 24:\"\"\"\n",
        "      efficient_combinations.append((fuel_amount_1, fuel_amount_1*0.2, predicted_efficiency))\n",
        "\n",
        "# Print the combinations that meet the efficiency criteria\n",
        "if efficient_combinations:\n",
        "    for fuel_amount_1, fuel_amount_2, predicted_efficiency in efficient_combinations:\n",
        "        eff=(brake_power/predicted_efficiency)*100\n",
        "        if eff>=0 and eff<=24:\n",
        "          print(f\"For Fuel 1 amount = {fuel_amount_1}, Fuel 2 amount = {fuel_amount_2}, \"\n",
        "                f\"Brake power = {brake_power}, \"\n",
        "                f\"Heat Input = {predicted_efficiency}, \",f\"Efficiency={eff}\")\n",
        "\n",
        "else:\n",
        "    print(\"No combinations meet the efficiency criteria.\")"
      ],
      "metadata": {
        "colab": {
          "base_uri": "https://localhost:8080/"
        },
        "id": "9JaGdeDDl3Dl",
        "outputId": "21d9bbde-2e6e-46f1-c573-f17c91d70ff6"
      },
      "execution_count": null,
      "outputs": [
        {
          "output_type": "stream",
          "name": "stdout",
          "text": [
            "For Fuel 1 amount = 28.18, Fuel 2 amount = 5.636, Brake power = 4.16, Heat Input = 19.100507326666662,  Efficiency=21.779526212856805\n",
            "For Fuel 1 amount = 27.43, Fuel 2 amount = 5.486000000000001, Brake power = 4.16, Heat Input = 18.59215457666667,  Efficiency=22.375029116963344\n",
            "For Fuel 1 amount = 41.24, Fuel 2 amount = 8.248000000000001, Brake power = 4.16, Heat Input = 27.952623213333332,  Efficiency=14.882324167757144\n",
            "For Fuel 1 amount = 26.28, Fuel 2 amount = 5.256, Brake power = 4.16, Heat Input = 17.812680359999998,  Efficiency=23.354149493086172\n",
            "For Fuel 1 amount = 33.83, Fuel 2 amount = 6.766, Brake power = 4.16, Heat Input = 22.93009804333333,  Efficiency=18.1420942559357\n",
            "For Fuel 1 amount = 27.756, Fuel 2 amount = 5.551200000000001, Brake power = 4.16, Heat Input = 18.813118572,  Efficiency=22.112229740535543\n",
            "For Fuel 1 amount = 26.955, Fuel 2 amount = 5.391, Brake power = 4.16, Heat Input = 18.270197835,  Efficiency=22.76932104167333\n",
            "For Fuel 1 amount = 28.042, Fuel 2 amount = 5.6084000000000005, Brake power = 4.16, Heat Input = 19.006970420666665,  Efficiency=21.88670739170903\n",
            "For Fuel 1 amount = 35.945, Fuel 2 amount = 7.189, Brake power = 4.16, Heat Input = 24.363652798333337,  Efficiency=17.074615347845445\n",
            "For Fuel 1 amount = 30.807, Fuel 2 amount = 6.1614, Brake power = 4.16, Heat Input = 20.881097558999993,  Efficiency=19.922324428808544\n",
            "For Fuel 1 amount = 25.935, Fuel 2 amount = 5.187, Brake power = 4.16, Heat Input = 17.578838095,  Efficiency=23.66481776280334\n",
            "For Fuel 1 amount = 33.264, Fuel 2 amount = 6.652800000000001, Brake power = 4.16, Heat Input = 22.546461168,  Efficiency=18.450789101680634\n",
            "For Fuel 1 amount = 29.072, Fuel 2 amount = 5.8144, Brake power = 4.16, Heat Input = 19.70510819733333,  Efficiency=21.111277128450215\n",
            "For Fuel 1 amount = 32.508, Fuel 2 amount = 6.501600000000001, Brake power = 4.16, Heat Input = 22.034041596,  Efficiency=18.879877220324367\n",
            "For Fuel 1 amount = 27.12, Fuel 2 amount = 5.424, Brake power = 4.16, Heat Input = 18.38203544,  Efficiency=22.63079088046846\n",
            "For Fuel 1 amount = 25.935, Fuel 2 amount = 5.187, Brake power = 4.16, Heat Input = 17.578838095,  Efficiency=23.66481776280334\n"
          ]
        }
      ]
    },
    {
      "cell_type": "markdown",
      "source": [
        "OP 30"
      ],
      "metadata": {
        "id": "4abGLq9Yl8tc"
      }
    },
    {
      "cell_type": "code",
      "source": [
        "#OP30\n",
        "fuel_1_range = [16.46,20.11,28.18,18.05,20.49,27.43,41.24,12.81,19.13,8.91,8.37,26.28,33.83,17.658,22.041,27.756,26.955,15.264,18.224,22.4,16.912,18.648,23.429,9.324,11.994,14.682,17.604,21.522,6.909,17.094,20.86,28.042,35.945,13.992,15.432,19.744,24.288,17.776,10.346,12.936,17.85,25.298,30.807,18.891,20.421,12.504,14.92,19.432,22.616,20.848,10.143,12.621,15.365,20.958,10.528,13.944,11.277,12.978,17.031,25.935,11.416,13.968,16.656,9.555,11.963,14.924,20.972,22.008,19.053,23.886,33.264,4.936,12.936,19.376,10.843,12.117,13.272,12.488,16.48,20.584,29.072,10.409,12.425,16.268,24.983,32.508,12.424,14.88,18.272,27.12,11.375,13.811,16.954,25.935]  # Values from 1 to 60 (inclusive)\n",
        "fuel_2_range=[]\n",
        "for i in fuel_1_range:\n",
        "  fuel_2_range.append(i*0.3)\n",
        " # Values from 1 to 40 (inclusive)\n",
        "calorific_value1 = 35800\n",
        "brake_power = 4.16\n",
        "density1 = 958\n",
        "density2=816.9\n",
        "calorific_value2=39000\n",
        "# Assuming you have the formulas defined as functions, for example:\n",
        "def predict_efficiency(fuel_amount_1, fuel_amount_2, calorific_value1,calorific_value2, brake_power, density1,density2):\n",
        "    # Your formula to calculate efficiency based on the given inputs\n",
        "    mass_of_fuel1 = ((fuel_amount_1  * 0.000001) / 60) * density1\n",
        "    mass_of_fuel2=((fuel_amount_2  * 0.000001) / 60) * density2\n",
        "    heat_input = mass_of_fuel1 * calorific_value1 + mass_of_fuel2 * calorific_value2\n",
        "    efficiency = brake_power / heat_input\n",
        "    return heat_input\n",
        "    # Limit efficiency to a maximum value of 32\n",
        "    efficiency = min(efficiency, 32)\n",
        "\n",
        "    return efficiency\n",
        "\n",
        "# List to store combinations that meet the efficiency criteria\n",
        "efficient_combinations = []\n",
        "\n",
        "# Loop through all combinations of fuel_1 and fuel_2\n",
        "for fuel_amount_1 in fuel_1_range:\n",
        "      # Use the formula-based prediction function to get efficiency\n",
        "      predicted_efficiency = predict_efficiency(fuel_amount_1, fuel_amount_1*0.3, calorific_value1,calorific_value2 ,brake_power,density1,density2)\n",
        "      \"\"\"if 0 <= predicted_efficiency <= 24:\"\"\"\n",
        "      efficient_combinations.append((fuel_amount_1, fuel_amount_1*0.3, predicted_efficiency))\n",
        "\n",
        "# Print the combinations that meet the efficiency criteria\n",
        "if efficient_combinations:\n",
        "    for fuel_amount_1, fuel_amount_2, predicted_efficiency in efficient_combinations:\n",
        "        eff=(brake_power/predicted_efficiency)*100\n",
        "        if eff>=0 and eff<=24:\n",
        "          print(f\"For Fuel 1 amount = {fuel_amount_1}, Fuel 2 amount = {fuel_amount_2}, \"\n",
        "                f\"Brake power = {brake_power}, \"\n",
        "                f\"Heat Input = {predicted_efficiency}, \",f\"Efficiency={eff}\")\n",
        "\n",
        "else:\n",
        "    print(\"No combinations meet the efficiency criteria.\")"
      ],
      "metadata": {
        "colab": {
          "base_uri": "https://localhost:8080/"
        },
        "id": "GoXcKNcvl-sP",
        "outputId": "309561fd-0b5c-4cbf-c866-9fcfd1a82515"
      },
      "execution_count": null,
      "outputs": [
        {
          "output_type": "stream",
          "name": "stdout",
          "text": [
            "For Fuel 1 amount = 28.18, Fuel 2 amount = 8.453999999999999, Brake power = 4.16, Heat Input = 20.59682305666666,  Efficiency=20.197289594394586\n",
            "For Fuel 1 amount = 27.43, Fuel 2 amount = 8.229, Brake power = 4.16, Heat Input = 20.04864643166667,  Efficiency=20.749530469195744\n",
            "For Fuel 1 amount = 41.24, Fuel 2 amount = 12.372, Brake power = 4.16, Heat Input = 30.14240535333333,  Efficiency=13.801154722842854\n",
            "For Fuel 1 amount = 26.28, Fuel 2 amount = 7.884, Brake power = 4.16, Heat Input = 19.20810894,  Efficiency=21.65751981621154\n",
            "For Fuel 1 amount = 33.83, Fuel 2 amount = 10.149, Brake power = 4.16, Heat Input = 24.72642029833333,  Efficiency=16.824109393143345\n",
            "For Fuel 1 amount = 27.756, Fuel 2 amount = 8.3268, Brake power = 4.16, Heat Input = 20.286920537999997,  Efficiency=20.50582291288512\n",
            "For Fuel 1 amount = 26.955, Fuel 2 amount = 8.0865, Brake power = 4.16, Heat Input = 19.7014679025,  Efficiency=21.11517791764197\n",
            "For Fuel 1 amount = 28.042, Fuel 2 amount = 8.4126, Brake power = 4.16, Heat Input = 20.495958557666665,  Efficiency=20.29668428678551\n",
            "For Fuel 1 amount = 35.945, Fuel 2 amount = 10.7835, Brake power = 4.16, Heat Input = 26.272278380833335,  Efficiency=15.8341805750463\n",
            "For Fuel 1 amount = 24.288, Fuel 2 amount = 7.2863999999999995, Brake power = 4.16, Heat Input = 17.752151824,  Efficiency=23.43377885252138\n",
            "For Fuel 1 amount = 25.298, Fuel 2 amount = 7.5893999999999995, Brake power = 4.16, Heat Input = 18.49036301233333,  Efficiency=22.498206212745647\n",
            "For Fuel 1 amount = 30.807, Fuel 2 amount = 9.242099999999999, Brake power = 4.16, Heat Input = 22.516903048499994,  Efficiency=18.47500960074137\n",
            "For Fuel 1 amount = 25.935, Fuel 2 amount = 7.780499999999999, Brake power = 4.16, Heat Input = 18.955947692499997,  Efficiency=21.94561869173084\n",
            "For Fuel 1 amount = 23.886, Fuel 2 amount = 7.1658, Brake power = 4.16, Heat Input = 17.458329152999998,  Efficiency=23.828167996736134\n",
            "For Fuel 1 amount = 33.264, Fuel 2 amount = 9.9792, Brake power = 4.16, Heat Input = 24.312729672,  Efficiency=17.110378209777515\n",
            "For Fuel 1 amount = 29.072, Fuel 2 amount = 8.721599999999999, Brake power = 4.16, Heat Input = 21.248787789333328,  Efficiency=19.57758739577736\n",
            "For Fuel 1 amount = 24.983, Fuel 2 amount = 7.4948999999999995, Brake power = 4.16, Heat Input = 18.26012882983333,  Efficiency=22.781876506826215\n",
            "For Fuel 1 amount = 32.508, Fuel 2 amount = 9.7524, Brake power = 4.16, Heat Input = 23.760167634000002,  Efficiency=17.508293982097918\n",
            "For Fuel 1 amount = 27.12, Fuel 2 amount = 8.136, Brake power = 4.16, Heat Input = 19.82206676,  Efficiency=20.98671168031118\n",
            "For Fuel 1 amount = 25.935, Fuel 2 amount = 7.780499999999999, Brake power = 4.16, Heat Input = 18.955947692499997,  Efficiency=21.94561869173084\n"
          ]
        }
      ]
    },
    {
      "cell_type": "markdown",
      "source": [
        "OP 40"
      ],
      "metadata": {
        "id": "p3YyOC9dl_Yr"
      }
    },
    {
      "cell_type": "code",
      "source": [
        "#OP40\n",
        "fuel_1_range = [16.46,20.11,28.18,18.05,20.49,27.43,41.24,12.81,19.13,8.91,8.37,26.28,33.83,17.658,22.041,27.756,26.955,15.264,18.224,22.4,16.912,18.648,23.429,9.324,11.994,14.682,17.604,21.522,6.909,17.094,20.86,28.042,35.945,13.992,15.432,19.744,24.288,17.776,10.346,12.936,17.85,25.298,30.807,18.891,20.421,12.504,14.92,19.432,22.616,20.848,10.143,12.621,15.365,20.958,10.528,13.944,11.277,12.978,17.031,25.935,11.416,13.968,16.656,9.555,11.963,14.924,20.972,22.008,19.053,23.886,33.264,4.936,12.936,19.376,10.843,12.117,13.272,12.488,16.48,20.584,29.072,10.409,12.425,16.268,24.983,32.508,12.424,14.88,18.272,27.12,11.375,13.811,16.954,25.935]  # Values from 1 to 60 (inclusive)\n",
        "fuel_2_range=[]\n",
        "for i in fuel_1_range:\n",
        "  fuel_2_range.append(i*0.4)\n",
        " # Values from 1 to 40 (inclusive)\n",
        "calorific_value1 = 35800\n",
        "brake_power = 4.16\n",
        "density1 = 958\n",
        "density2=816.9\n",
        "calorific_value2=39000\n",
        "# Assuming you have the formulas defined as functions, for example:\n",
        "def predict_efficiency(fuel_amount_1, fuel_amount_2, calorific_value1,calorific_value2, brake_power, density1,density2):\n",
        "    # Your formula to calculate efficiency based on the given inputs\n",
        "    mass_of_fuel1 = ((fuel_amount_1  * 0.000001) / 60) * density1\n",
        "    mass_of_fuel2=((fuel_amount_2  * 0.000001) / 60) * density2\n",
        "    heat_input = mass_of_fuel1 * calorific_value1 + mass_of_fuel2 * calorific_value2\n",
        "    efficiency = brake_power / heat_input\n",
        "    return heat_input\n",
        "    # Limit efficiency to a maximum value of 32\n",
        "    efficiency = min(efficiency, 32)\n",
        "\n",
        "    return efficiency\n",
        "\n",
        "# List to store combinations that meet the efficiency criteria\n",
        "efficient_combinations = []\n",
        "\n",
        "# Loop through all combinations of fuel_1 and fuel_2\n",
        "for fuel_amount_1 in fuel_1_range:\n",
        "      # Use the formula-based prediction function to get efficiency\n",
        "      predicted_efficiency = predict_efficiency(fuel_amount_1, fuel_amount_1*0.4, calorific_value1,calorific_value2 ,brake_power,density1,density2)\n",
        "      \"\"\"if 0 <= predicted_efficiency <= 24:\"\"\"\n",
        "      efficient_combinations.append((fuel_amount_1, fuel_amount_1*0.4, predicted_efficiency))\n",
        "\n",
        "# Print the combinations that meet the efficiency criteria\n",
        "if efficient_combinations:\n",
        "    for fuel_amount_1, fuel_amount_2, predicted_efficiency in efficient_combinations:\n",
        "        eff=(brake_power/predicted_efficiency)*100\n",
        "        if eff>=0 and eff<=24:\n",
        "          print(f\"For Fuel 1 amount = {fuel_amount_1}, Fuel 2 amount = {fuel_amount_2}, \"\n",
        "                f\"Brake power = {brake_power}, \"\n",
        "                f\"Heat Input = {predicted_efficiency}, \",f\"Efficiency={eff}\")\n",
        "\n",
        "else:\n",
        "    print(\"No combinations meet the efficiency criteria.\")"
      ],
      "metadata": {
        "colab": {
          "base_uri": "https://localhost:8080/"
        },
        "id": "xUWh06xRmATp",
        "outputId": "ff20ecf4-50b1-4a14-adf6-d79781b6194d"
      },
      "execution_count": null,
      "outputs": [
        {
          "output_type": "stream",
          "name": "stdout",
          "text": [
            "For Fuel 1 amount = 28.18, Fuel 2 amount = 11.272, Brake power = 4.16, Heat Input = 22.093138786666664,  Efficiency=18.82937521992386\n",
            "For Fuel 1 amount = 27.43, Fuel 2 amount = 10.972000000000001, Brake power = 4.16, Heat Input = 21.505138286666668,  Efficiency=19.344214134066874\n",
            "For Fuel 1 amount = 41.24, Fuel 2 amount = 16.496000000000002, Brake power = 4.16, Heat Input = 32.332187493333336,  Efficiency=12.866435346688998\n",
            "For Fuel 1 amount = 26.28, Fuel 2 amount = 10.512, Brake power = 4.16, Heat Input = 20.60353752,  Efficiency=20.190707522734183\n",
            "For Fuel 1 amount = 33.83, Fuel 2 amount = 13.532, Brake power = 4.16, Heat Input = 26.52274255333333,  Efficiency=15.684652488839918\n",
            "For Fuel 1 amount = 27.756, Fuel 2 amount = 11.102400000000001, Brake power = 4.16, Heat Input = 21.760722504,  Efficiency=19.117012310759993\n",
            "For Fuel 1 amount = 26.955, Fuel 2 amount = 10.782, Brake power = 4.16, Heat Input = 21.13273797,  Efficiency=19.68509715071246\n",
            "For Fuel 1 amount = 22.4, Fuel 2 amount = 8.959999999999999, Brake power = 4.16, Heat Input = 17.561614933333335,  Efficiency=23.68802650435064\n",
            "For Fuel 1 amount = 23.429, Fuel 2 amount = 9.371599999999999, Brake power = 4.16, Heat Input = 18.368351619333332,  Efficiency=22.647650078853317\n",
            "For Fuel 1 amount = 28.042, Fuel 2 amount = 11.216800000000001, Brake power = 4.16, Heat Input = 21.984946694666665,  Efficiency=18.922038146261123\n",
            "For Fuel 1 amount = 35.945, Fuel 2 amount = 14.378, Brake power = 4.16, Heat Input = 28.180903963333336,  Efficiency=14.761769194532043\n",
            "For Fuel 1 amount = 24.288, Fuel 2 amount = 9.715200000000001, Brake power = 4.16, Heat Input = 19.041808192,  Efficiency=21.84666476027068\n",
            "For Fuel 1 amount = 25.298, Fuel 2 amount = 10.1192, Brake power = 4.16, Heat Input = 19.83364886533333,  Efficiency=20.974456229640857\n",
            "For Fuel 1 amount = 30.807, Fuel 2 amount = 12.3228, Brake power = 4.16, Heat Input = 24.152708537999995,  Efficiency=17.223741152902083\n",
            "For Fuel 1 amount = 22.616, Fuel 2 amount = 9.0464, Brake power = 4.16, Heat Input = 17.73095907733333,  Efficiency=23.46178783593272\n",
            "For Fuel 1 amount = 25.935, Fuel 2 amount = 10.374, Brake power = 4.16, Heat Input = 20.33305729,  Efficiency=20.459294146807572\n",
            "For Fuel 1 amount = 23.886, Fuel 2 amount = 9.5544, Brake power = 4.16, Heat Input = 18.726639923999997,  Efficiency=22.21434286600747\n",
            "For Fuel 1 amount = 33.264, Fuel 2 amount = 13.305600000000002, Brake power = 4.16, Heat Input = 26.078998176,  Efficiency=15.951532999562723\n",
            "For Fuel 1 amount = 29.072, Fuel 2 amount = 11.6288, Brake power = 4.16, Heat Input = 22.79246738133333,  Efficiency=18.251643976935004\n",
            "For Fuel 1 amount = 24.983, Fuel 2 amount = 9.993200000000002, Brake power = 4.16, Heat Input = 19.586688655333333,  Efficiency=21.238914209560676\n",
            "For Fuel 1 amount = 32.508, Fuel 2 amount = 13.003200000000001, Brake power = 4.16, Heat Input = 25.486293672000002,  Efficiency=16.322498883273482\n",
            "For Fuel 1 amount = 27.12, Fuel 2 amount = 10.848, Brake power = 4.16, Heat Input = 21.26209808,  Efficiency=19.565331626012327\n",
            "For Fuel 1 amount = 25.935, Fuel 2 amount = 10.374, Brake power = 4.16, Heat Input = 20.33305729,  Efficiency=20.459294146807572\n"
          ]
        }
      ]
    },
    {
      "cell_type": "markdown",
      "source": [
        "DMC 10"
      ],
      "metadata": {
        "id": "5VhWkGu4mQwO"
      }
    },
    {
      "cell_type": "code",
      "source": [
        "#DMC 10\n",
        "fuel_1_range = [16.46,20.11,28.18,18.05,20.49,27.43,41.24,12.81,19.13,8.91,8.37,26.28,33.83,17.658,22.041,27.756,26.955,15.264,18.224,22.4,16.912,18.648,23.429,9.324,11.994,14.682,17.604,21.522,6.909,17.094,20.86,28.042,35.945,13.992,15.432,19.744,24.288,17.776,10.346,12.936,17.85,25.298,30.807,18.891,20.421,12.504,14.92,19.432,22.616,20.848,10.143,12.621,15.365,20.958,10.528,13.944,11.277,12.978,17.031,25.935,11.416,13.968,16.656,9.555,11.963,14.924,20.972,22.008,19.053,23.886,33.264,4.936,12.936,19.376,10.843,12.117,13.272,12.488,16.48,20.584,29.072,10.409,12.425,16.268,24.983,32.508,12.424,14.88,18.272,27.12,11.375,13.811,16.954,25.935]  # Values from 1 to 60 (inclusive)\n",
        "fuel_2_range=[]\n",
        "for i in fuel_1_range:\n",
        "  fuel_2_range.append(i*0.1)\n",
        " # Values from 1 to 40 (inclusive)\n",
        "calorific_value1 = 35800\n",
        "brake_power = 4.16\n",
        "density1 = 958\n",
        "density2=1073\n",
        "calorific_value2=35000\n",
        "# Assuming you have the formulas defined as functions, for example:\n",
        "def predict_efficiency(fuel_amount_1, fuel_amount_2, calorific_value1,calorific_value2, brake_power, density1,density2):\n",
        "    # Your formula to calculate efficiency based on the given inputs\n",
        "    mass_of_fuel1 = ((fuel_amount_1  * 0.000001) / 60) * density1\n",
        "    mass_of_fuel2=((fuel_amount_2  * 0.000001) / 60) * density2\n",
        "    heat_input = mass_of_fuel1 * calorific_value1 + mass_of_fuel2 * calorific_value2\n",
        "    efficiency = brake_power / heat_input\n",
        "    return heat_input\n",
        "    # Limit efficiency to a maximum value of 32\n",
        "    efficiency = min(efficiency, 32)\n",
        "\n",
        "    return efficiency\n",
        "\n",
        "# List to store combinations that meet the efficiency criteria\n",
        "efficient_combinations = []\n",
        "\n",
        "# Loop through all combinations of fuel_1 and fuel_2\n",
        "for fuel_amount_1 in fuel_1_range:\n",
        "      # Use the formula-based prediction function to get efficiency\n",
        "      predicted_efficiency = predict_efficiency(fuel_amount_1, fuel_amount_1*0.1, calorific_value1,calorific_value2 ,brake_power,density1,density2)\n",
        "      \"\"\"if 0 <= predicted_efficiency <= 24:\"\"\"\n",
        "      efficient_combinations.append((fuel_amount_1, fuel_amount_1*0.1, predicted_efficiency))\n",
        "\n",
        "# Print the combinations that meet the efficiency criteria\n",
        "if efficient_combinations:\n",
        "    for fuel_amount_1, fuel_amount_2, predicted_efficiency in efficient_combinations:\n",
        "        eff=(brake_power/predicted_efficiency)*100\n",
        "        if eff>=0 and eff<=24:\n",
        "          print(f\"For Fuel 1 amount = {fuel_amount_1}, Fuel 2 amount = {fuel_amount_2}, \"\n",
        "                f\"Brake power = {brake_power}, \"\n",
        "                f\"Heat Input = {predicted_efficiency}, \",f\"Efficiency={eff}\")\n",
        "\n",
        "else:\n",
        "    print(\"No combinations meet the efficiency criteria.\")"
      ],
      "metadata": {
        "colab": {
          "base_uri": "https://localhost:8080/"
        },
        "id": "9dFQFN-zmURU",
        "outputId": "8357b946-8d9a-4887-d54f-a50e5502aef7"
      },
      "execution_count": null,
      "outputs": [
        {
          "output_type": "stream",
          "name": "stdout",
          "text": [
            "For Fuel 1 amount = 28.18, Fuel 2 amount = 2.818, Brake power = 4.16, Heat Input = 17.87170903333333,  Efficiency=23.277012804097225\n",
            "For Fuel 1 amount = 27.43, Fuel 2 amount = 2.7430000000000003, Brake power = 4.16, Heat Input = 17.396060283333334,  Efficiency=23.91346047464308\n",
            "For Fuel 1 amount = 41.24, Fuel 2 amount = 4.1240000000000006, Brake power = 4.16, Heat Input = 26.154339266666664,  Efficiency=15.905582464099414\n",
            "For Fuel 1 amount = 33.83, Fuel 2 amount = 3.383, Brake power = 4.16, Heat Input = 21.454929616666664,  Efficiency=19.38948332307005\n",
            "For Fuel 1 amount = 27.756, Fuel 2 amount = 2.7756000000000003, Brake power = 4.16, Heat Input = 17.60280894,  Efficiency=23.63259190155137\n",
            "For Fuel 1 amount = 28.042, Fuel 2 amount = 2.8042000000000002, Brake power = 4.16, Heat Input = 17.784189663333333,  Efficiency=23.391563398454455\n",
            "For Fuel 1 amount = 35.945, Fuel 2 amount = 3.5945, Brake power = 4.16, Heat Input = 22.79625909166667,  Efficiency=18.248608174139928\n",
            "For Fuel 1 amount = 30.807, Fuel 2 amount = 3.0807, Brake power = 4.16, Heat Input = 19.537748054999994,  Efficiency=21.292116104114648\n",
            "For Fuel 1 amount = 33.264, Fuel 2 amount = 3.3264000000000005, Brake power = 4.16, Heat Input = 21.09597336,  Efficiency=19.719402982787994\n",
            "For Fuel 1 amount = 29.072, Fuel 2 amount = 2.9072, Brake power = 4.16, Heat Input = 18.437413946666663,  Efficiency=22.562817171830623\n",
            "For Fuel 1 amount = 32.508, Fuel 2 amount = 3.2508000000000004, Brake power = 4.16, Heat Input = 20.616519420000003,  Efficiency=20.17799374982957\n"
          ]
        }
      ]
    },
    {
      "cell_type": "markdown",
      "source": [
        "DMC 20"
      ],
      "metadata": {
        "id": "396jJs0umWKi"
      }
    },
    {
      "cell_type": "code",
      "source": [
        "#DMC 20\n",
        "fuel_1_range = [16.46,20.11,28.18,18.05,20.49,27.43,41.24,12.81,19.13,8.91,8.37,26.28,33.83,17.658,22.041,27.756,26.955,15.264,18.224,22.4,16.912,18.648,23.429,9.324,11.994,14.682,17.604,21.522,6.909,17.094,20.86,28.042,35.945,13.992,15.432,19.744,24.288,17.776,10.346,12.936,17.85,25.298,30.807,18.891,20.421,12.504,14.92,19.432,22.616,20.848,10.143,12.621,15.365,20.958,10.528,13.944,11.277,12.978,17.031,25.935,11.416,13.968,16.656,9.555,11.963,14.924,20.972,22.008,19.053,23.886,33.264,4.936,12.936,19.376,10.843,12.117,13.272,12.488,16.48,20.584,29.072,10.409,12.425,16.268,24.983,32.508,12.424,14.88,18.272,27.12,11.375,13.811,16.954,25.935]  # Values from 1 to 60 (inclusive)\n",
        "fuel_2_range=[]\n",
        "for i in fuel_1_range:\n",
        "  fuel_2_range.append(i*0.2)\n",
        " # Values from 1 to 40 (inclusive)\n",
        "calorific_value1 = 35800\n",
        "brake_power = 4.16\n",
        "density1 = 958\n",
        "density2=1073\n",
        "calorific_value2=35000\n",
        "# Assuming you have the formulas defined as functions, for example:\n",
        "def predict_efficiency(fuel_amount_1, fuel_amount_2, calorific_value1,calorific_value2, brake_power, density1,density2):\n",
        "    # Your formula to calculate efficiency based on the given inputs\n",
        "    mass_of_fuel1 = ((fuel_amount_1  * 0.000001) / 60) * density1\n",
        "    mass_of_fuel2=((fuel_amount_2  * 0.000001) / 60) * density2\n",
        "    heat_input = mass_of_fuel1 * calorific_value1 + mass_of_fuel2 * calorific_value2\n",
        "    efficiency = brake_power / heat_input\n",
        "    return heat_input\n",
        "    # Limit efficiency to a maximum value of 32\n",
        "    efficiency = min(efficiency, 32)\n",
        "\n",
        "    return efficiency\n",
        "\n",
        "# List to store combinations that meet the efficiency criteria\n",
        "efficient_combinations = []\n",
        "\n",
        "# Loop through all combinations of fuel_1 and fuel_2\n",
        "for fuel_amount_1 in fuel_1_range:\n",
        "      # Use the formula-based prediction function to get efficiency\n",
        "      predicted_efficiency = predict_efficiency(fuel_amount_1, fuel_amount_1*0.2, calorific_value1,calorific_value2 ,brake_power,density1,density2)\n",
        "      \"\"\"if 0 <= predicted_efficiency <= 24:\"\"\"\n",
        "      efficient_combinations.append((fuel_amount_1, fuel_amount_1*0.2, predicted_efficiency))\n",
        "\n",
        "# Print the combinations that meet the efficiency criteria\n",
        "if efficient_combinations:\n",
        "    for fuel_amount_1, fuel_amount_2, predicted_efficiency in efficient_combinations:\n",
        "        eff=(brake_power/predicted_efficiency)*100\n",
        "        if eff>=0 and eff<=24:\n",
        "          print(f\"For Fuel 1 amount = {fuel_amount_1}, Fuel 2 amount = {fuel_amount_2}, \"\n",
        "                f\"Brake power = {brake_power}, \"\n",
        "                f\"Heat Input = {predicted_efficiency}, \",f\"Efficiency={eff}\")\n",
        "\n",
        "else:\n",
        "    print(\"No combinations meet the efficiency criteria.\")"
      ],
      "metadata": {
        "colab": {
          "base_uri": "https://localhost:8080/"
        },
        "id": "srTFDbMumYHM",
        "outputId": "687b6162-408e-42b2-be55-d04af4c8440e"
      },
      "execution_count": null,
      "outputs": [
        {
          "output_type": "stream",
          "name": "stdout",
          "text": [
            "For Fuel 1 amount = 28.18, Fuel 2 amount = 5.636, Brake power = 4.16, Heat Input = 19.635542199999996,  Efficiency=21.18607144955743\n",
            "For Fuel 1 amount = 27.43, Fuel 2 amount = 5.486000000000001, Brake power = 4.16, Heat Input = 19.1129497,  Efficiency=21.765347920106752\n",
            "For Fuel 1 amount = 41.24, Fuel 2 amount = 8.248000000000001, Brake power = 4.16, Heat Input = 28.7356196,  Efficiency=14.476806339683032\n",
            "For Fuel 1 amount = 26.28, Fuel 2 amount = 5.256, Brake power = 4.16, Heat Input = 18.311641199999997,  Efficiency=22.71778894400793\n",
            "For Fuel 1 amount = 33.83, Fuel 2 amount = 6.766, Brake power = 4.16, Heat Input = 23.572405699999997,  Efficiency=17.64775327958996\n",
            "For Fuel 1 amount = 27.756, Fuel 2 amount = 5.551200000000001, Brake power = 4.16, Heat Input = 19.340103239999998,  Efficiency=21.50970937629804\n",
            "For Fuel 1 amount = 26.955, Fuel 2 amount = 5.391, Brake power = 4.16, Heat Input = 18.78197445,  Efficiency=22.148896065610398\n",
            "For Fuel 1 amount = 28.042, Fuel 2 amount = 5.6084000000000005, Brake power = 4.16, Heat Input = 19.53938518,  Efficiency=21.290332124974263\n",
            "For Fuel 1 amount = 35.945, Fuel 2 amount = 7.189, Brake power = 4.16, Heat Input = 25.04611655,  Efficiency=16.609361342287613\n",
            "For Fuel 1 amount = 25.298, Fuel 2 amount = 5.0596, Brake power = 4.16, Heat Input = 17.627393419999997,  Efficiency=23.599632123034564\n",
            "For Fuel 1 amount = 30.807, Fuel 2 amount = 6.1614, Brake power = 4.16, Heat Input = 21.466009529999994,  Efficiency=19.37947523123084\n",
            "For Fuel 1 amount = 25.935, Fuel 2 amount = 5.187, Brake power = 4.16, Heat Input = 18.071248649999998,  Efficiency=23.019992035802133\n",
            "For Fuel 1 amount = 33.264, Fuel 2 amount = 6.652800000000001, Brake power = 4.16, Heat Input = 23.17802256,  Efficiency=17.9480367198331\n",
            "For Fuel 1 amount = 29.072, Fuel 2 amount = 5.8144, Brake power = 4.16, Heat Input = 20.257078879999998,  Efficiency=20.536031007448003\n",
            "For Fuel 1 amount = 24.983, Fuel 2 amount = 4.996600000000001, Brake power = 4.16, Heat Input = 17.40790457,  Efficiency=23.897189827023507\n",
            "For Fuel 1 amount = 32.508, Fuel 2 amount = 6.501600000000001, Brake power = 4.16, Heat Input = 22.65124932,  Efficiency=18.365432922619913\n",
            "For Fuel 1 amount = 27.12, Fuel 2 amount = 5.424, Brake power = 4.16, Heat Input = 18.8969448,  Efficiency=22.014140613883786\n",
            "For Fuel 1 amount = 25.935, Fuel 2 amount = 5.187, Brake power = 4.16, Heat Input = 18.071248649999998,  Efficiency=23.019992035802133\n"
          ]
        }
      ]
    },
    {
      "cell_type": "markdown",
      "source": [
        "DMC 30"
      ],
      "metadata": {
        "id": "MxeHye24mYkC"
      }
    },
    {
      "cell_type": "code",
      "source": [
        "#DMC 30\n",
        "fuel_1_range = [16.46,20.11,28.18,18.05,20.49,27.43,41.24,12.81,19.13,8.91,8.37,26.28,33.83,17.658,22.041,27.756,26.955,15.264,18.224,22.4,16.912,18.648,23.429,9.324,11.994,14.682,17.604,21.522,6.909,17.094,20.86,28.042,35.945,13.992,15.432,19.744,24.288,17.776,10.346,12.936,17.85,25.298,30.807,18.891,20.421,12.504,14.92,19.432,22.616,20.848,10.143,12.621,15.365,20.958,10.528,13.944,11.277,12.978,17.031,25.935,11.416,13.968,16.656,9.555,11.963,14.924,20.972,22.008,19.053,23.886,33.264,4.936,12.936,19.376,10.843,12.117,13.272,12.488,16.48,20.584,29.072,10.409,12.425,16.268,24.983,32.508,12.424,14.88,18.272,27.12,11.375,13.811,16.954,25.935]  # Values from 1 to 60 (inclusive)\n",
        "fuel_2_range=[]\n",
        "for i in fuel_1_range:\n",
        "  fuel_2_range.append(i*0.3)\n",
        " # Values from 1 to 40 (inclusive)\n",
        "calorific_value1 = 35800\n",
        "brake_power = 4.16\n",
        "density1 = 958\n",
        "density2=1073\n",
        "calorific_value2=35000\n",
        "# Assuming you have the formulas defined as functions, for example:\n",
        "def predict_efficiency(fuel_amount_1, fuel_amount_2, calorific_value1,calorific_value2, brake_power, density1,density2):\n",
        "    # Your formula to calculate efficiency based on the given inputs\n",
        "    mass_of_fuel1 = ((fuel_amount_1  * 0.000001) / 60) * density1\n",
        "    mass_of_fuel2=((fuel_amount_2  * 0.000001) / 60) * density2\n",
        "    heat_input = mass_of_fuel1 * calorific_value1 + mass_of_fuel2 * calorific_value2\n",
        "    efficiency = brake_power / heat_input\n",
        "    return heat_input\n",
        "    # Limit efficiency to a maximum value of 32\n",
        "    efficiency = min(efficiency, 32)\n",
        "\n",
        "    return efficiency\n",
        "\n",
        "# List to store combinations that meet the efficiency criteria\n",
        "efficient_combinations = []\n",
        "\n",
        "# Loop through all combinations of fuel_1 and fuel_2\n",
        "for fuel_amount_1 in fuel_1_range:\n",
        "      # Use the formula-based prediction function to get efficiency\n",
        "      predicted_efficiency = predict_efficiency(fuel_amount_1, fuel_amount_1*0.3, calorific_value1,calorific_value2 ,brake_power,density1,density2)\n",
        "      \"\"\"if 0 <= predicted_efficiency <= 24:\"\"\"\n",
        "      efficient_combinations.append((fuel_amount_1, fuel_amount_1*0.3, predicted_efficiency))\n",
        "\n",
        "# Print the combinations that meet the efficiency criteria\n",
        "if efficient_combinations:\n",
        "    for fuel_amount_1, fuel_amount_2, predicted_efficiency in efficient_combinations:\n",
        "        eff=(brake_power/predicted_efficiency)*100\n",
        "        if eff>=0 and eff<=24:\n",
        "          print(f\"For Fuel 1 amount = {fuel_amount_1}, Fuel 2 amount = {fuel_amount_2}, \"\n",
        "                f\"Brake power = {brake_power}, \"\n",
        "                f\"Heat Input = {predicted_efficiency}, \",f\"Efficiency={eff}\")\n",
        "\n",
        "else:\n",
        "    print(\"No combinations meet the efficiency criteria.\")"
      ],
      "metadata": {
        "colab": {
          "base_uri": "https://localhost:8080/"
        },
        "id": "SD4uswLBmasH",
        "outputId": "25d07e73-9dba-401d-c443-b386f63bbadd"
      },
      "execution_count": null,
      "outputs": [
        {
          "output_type": "stream",
          "name": "stdout",
          "text": [
            "For Fuel 1 amount = 28.18, Fuel 2 amount = 8.453999999999999, Brake power = 4.16, Heat Input = 21.39937536666666,  Efficiency=19.439819755112765\n",
            "For Fuel 1 amount = 27.43, Fuel 2 amount = 8.229, Brake power = 4.16, Heat Input = 20.82983911666667,  Efficiency=19.97134964269331\n",
            "For Fuel 1 amount = 41.24, Fuel 2 amount = 12.372, Brake power = 4.16, Heat Input = 31.31689993333333,  Efficiency=13.283562577572203\n",
            "For Fuel 1 amount = 26.28, Fuel 2 amount = 7.884, Brake power = 4.16, Heat Input = 19.9565502,  Efficiency=20.845286175763988\n",
            "For Fuel 1 amount = 33.83, Fuel 2 amount = 10.149, Brake power = 4.16, Heat Input = 25.68988178333333,  Efficiency=16.193145749307643\n",
            "For Fuel 1 amount = 27.756, Fuel 2 amount = 8.3268, Brake power = 4.16, Heat Input = 21.07739754,  Efficiency=19.73678198224087\n",
            "For Fuel 1 amount = 26.955, Fuel 2 amount = 8.0865, Brake power = 4.16, Heat Input = 20.469132825,  Efficiency=20.323284017773236\n",
            "For Fuel 1 amount = 23.429, Fuel 2 amount = 7.0287, Brake power = 4.16, Heat Input = 17.791553068333332,  Efficiency=23.381882312479302\n",
            "For Fuel 1 amount = 28.042, Fuel 2 amount = 8.4126, Brake power = 4.16, Heat Input = 21.294580696666664,  Efficiency=19.535486794774894\n",
            "For Fuel 1 amount = 35.945, Fuel 2 amount = 10.7835, Brake power = 4.16, Heat Input = 27.295974008333335,  Efficiency=15.240342765310267\n",
            "For Fuel 1 amount = 24.288, Fuel 2 amount = 7.2863999999999995, Brake power = 4.16, Heat Input = 18.443861919999996,  Efficiency=22.554929211918548\n",
            "For Fuel 1 amount = 25.298, Fuel 2 amount = 7.5893999999999995, Brake power = 4.16, Heat Input = 19.21083740333333,  Efficiency=21.654443857185456\n",
            "For Fuel 1 amount = 30.807, Fuel 2 amount = 9.242099999999999, Brake power = 4.16, Heat Input = 23.394271004999993,  Efficiency=17.782131356479947\n",
            "For Fuel 1 amount = 25.935, Fuel 2 amount = 7.780499999999999, Brake power = 4.16, Heat Input = 19.694563525,  Efficiency=21.12258032385107\n",
            "For Fuel 1 amount = 23.886, Fuel 2 amount = 7.1658, Brake power = 4.16, Heat Input = 18.13859049,  Efficiency=22.934527367456987\n",
            "For Fuel 1 amount = 33.264, Fuel 2 amount = 9.9792, Brake power = 4.16, Heat Input = 25.26007176,  Efficiency=16.468678472194494\n",
            "For Fuel 1 amount = 29.072, Fuel 2 amount = 8.721599999999999, Brake power = 4.16, Heat Input = 22.07674381333333,  Efficiency=18.843358582109165\n",
            "For Fuel 1 amount = 24.983, Fuel 2 amount = 7.4948999999999995, Brake power = 4.16, Heat Input = 18.971632178333333,  Efficiency=21.927475511310792\n",
            "For Fuel 1 amount = 32.508, Fuel 2 amount = 9.7524, Brake power = 4.16, Heat Input = 24.68597922,  Efficiency=16.851670994803666\n",
            "For Fuel 1 amount = 27.12, Fuel 2 amount = 8.136, Brake power = 4.16, Heat Input = 20.5944308,  Efficiency=20.199635718992536\n",
            "For Fuel 1 amount = 25.935, Fuel 2 amount = 7.780499999999999, Brake power = 4.16, Heat Input = 19.694563525,  Efficiency=21.12258032385107\n"
          ]
        }
      ]
    },
    {
      "cell_type": "markdown",
      "source": [
        "DMC 40"
      ],
      "metadata": {
        "id": "CndCDV_TmgHz"
      }
    },
    {
      "cell_type": "code",
      "source": [
        "#DMC 40\n",
        "fuel_1_range = [16.46,20.11,28.18,18.05,20.49,27.43,41.24,12.81,19.13,8.91,8.37,26.28,33.83,17.658,22.041,27.756,26.955,15.264,18.224,22.4,16.912,18.648,23.429,9.324,11.994,14.682,17.604,21.522,6.909,17.094,20.86,28.042,35.945,13.992,15.432,19.744,24.288,17.776,10.346,12.936,17.85,25.298,30.807,18.891,20.421,12.504,14.92,19.432,22.616,20.848,10.143,12.621,15.365,20.958,10.528,13.944,11.277,12.978,17.031,25.935,11.416,13.968,16.656,9.555,11.963,14.924,20.972,22.008,19.053,23.886,33.264,4.936,12.936,19.376,10.843,12.117,13.272,12.488,16.48,20.584,29.072,10.409,12.425,16.268,24.983,32.508,12.424,14.88,18.272,27.12,11.375,13.811,16.954,25.935]  # Values from 1 to 60 (inclusive)\n",
        "fuel_2_range=[]\n",
        "for i in fuel_1_range:\n",
        "  fuel_2_range.append(i*0.4)\n",
        " # Values from 1 to 40 (inclusive)\n",
        "calorific_value1 = 35800\n",
        "brake_power = 4.16\n",
        "density1 = 958\n",
        "density2=1073\n",
        "calorific_value2=35000\n",
        "# Assuming you have the formulas defined as functions, for example:\n",
        "def predict_efficiency(fuel_amount_1, fuel_amount_2, calorific_value1,calorific_value2, brake_power, density1,density2):\n",
        "    # Your formula to calculate efficiency based on the given inputs\n",
        "    mass_of_fuel1 = ((fuel_amount_1  * 0.000001) / 60) * density1\n",
        "    mass_of_fuel2=((fuel_amount_2  * 0.000001) / 60) * density2\n",
        "    heat_input = mass_of_fuel1 * calorific_value1 + mass_of_fuel2 * calorific_value2\n",
        "    efficiency = brake_power / heat_input\n",
        "    return heat_input\n",
        "    # Limit efficiency to a maximum value of 32\n",
        "    efficiency = min(efficiency, 32)\n",
        "\n",
        "    return efficiency\n",
        "\n",
        "# List to store combinations that meet the efficiency criteria\n",
        "efficient_combinations = []\n",
        "\n",
        "# Loop through all combinations of fuel_1 and fuel_2\n",
        "for fuel_amount_1 in fuel_1_range:\n",
        "      # Use the formula-based prediction function to get efficiency\n",
        "      predicted_efficiency = predict_efficiency(fuel_amount_1, fuel_amount_1*0.4, calorific_value1,calorific_value2 ,brake_power,density1,density2)\n",
        "      \"\"\"if 0 <= predicted_efficiency <= 24:\"\"\"\n",
        "      efficient_combinations.append((fuel_amount_1, fuel_amount_1*0.4, predicted_efficiency))\n",
        "\n",
        "# Print the combinations that meet the efficiency criteria\n",
        "if efficient_combinations:\n",
        "    for fuel_amount_1, fuel_amount_2, predicted_efficiency in efficient_combinations:\n",
        "        eff=(brake_power/predicted_efficiency)*100\n",
        "        if eff>=0 and eff<=24:\n",
        "          print(f\"For Fuel 1 amount = {fuel_amount_1}, Fuel 2 amount = {fuel_amount_2}, \"\n",
        "                f\"Brake power = {brake_power}, \"\n",
        "                f\"Heat Input = {predicted_efficiency}, \",f\"Efficiency={eff}\")\n",
        "\n",
        "else:\n",
        "    print(\"No combinations meet the efficiency criteria.\")"
      ],
      "metadata": {
        "colab": {
          "base_uri": "https://localhost:8080/"
        },
        "id": "EWq1h6EImhqt",
        "outputId": "7d8b5909-64b7-49ce-fe28-eeb63e5f8741"
      },
      "execution_count": null,
      "outputs": [
        {
          "output_type": "stream",
          "name": "stdout",
          "text": [
            "For Fuel 1 amount = 28.18, Fuel 2 amount = 11.272, Brake power = 4.16, Heat Input = 23.16320853333333,  Efficiency=17.959515384120884\n",
            "For Fuel 1 amount = 27.43, Fuel 2 amount = 10.972000000000001, Brake power = 4.16, Heat Input = 22.546728533333336,  Efficiency=18.450570307128192\n",
            "For Fuel 1 amount = 41.24, Fuel 2 amount = 16.496000000000002, Brake power = 4.16, Heat Input = 33.898180266666664,  Efficiency=12.272045187306654\n",
            "For Fuel 1 amount = 26.28, Fuel 2 amount = 10.512, Brake power = 4.16, Heat Input = 21.6014592,  Efficiency=19.257958277188976\n",
            "For Fuel 1 amount = 33.83, Fuel 2 amount = 13.532, Brake power = 4.16, Heat Input = 27.807357866666663,  Efficiency=14.960069273559753\n",
            "For Fuel 1 amount = 22.041, Fuel 2 amount = 8.8164, Brake power = 4.16, Heat Input = 18.11711424,  Efficiency=22.96171423821634\n",
            "For Fuel 1 amount = 27.756, Fuel 2 amount = 11.102400000000001, Brake power = 4.16, Heat Input = 22.81469184,  Efficiency=18.233864516664013\n",
            "For Fuel 1 amount = 26.955, Fuel 2 amount = 10.782, Brake power = 4.16, Heat Input = 22.1562912,  Efficiency=18.775705565740175\n",
            "For Fuel 1 amount = 22.4, Fuel 2 amount = 8.959999999999999, Brake power = 4.16, Heat Input = 18.412202666666666,  Efficiency=22.593711764487786\n",
            "For Fuel 1 amount = 23.429, Fuel 2 amount = 9.371599999999999, Brake power = 4.16, Heat Input = 19.258013226666666,  Efficiency=21.6013975638963\n",
            "For Fuel 1 amount = 21.522, Fuel 2 amount = 8.6088, Brake power = 4.16, Heat Input = 17.690510079999996,  Efficiency=23.515432744379076\n",
            "For Fuel 1 amount = 28.042, Fuel 2 amount = 11.216800000000001, Brake power = 4.16, Heat Input = 23.04977621333333,  Efficiency=18.047897565242366\n",
            "For Fuel 1 amount = 35.945, Fuel 2 amount = 14.378, Brake power = 4.16, Heat Input = 29.54583146666667,  Efficiency=14.07982037903815\n",
            "For Fuel 1 amount = 24.288, Fuel 2 amount = 9.715200000000001, Brake power = 4.16, Heat Input = 19.964088320000002,  Efficiency=20.837415329567126\n",
            "For Fuel 1 amount = 25.298, Fuel 2 amount = 10.1192, Brake power = 4.16, Heat Input = 20.79428138666666,  Efficiency=20.00550017884918\n",
            "For Fuel 1 amount = 30.807, Fuel 2 amount = 12.3228, Brake power = 4.16, Heat Input = 25.322532479999996,  Efficiency=16.428056724917273\n",
            "For Fuel 1 amount = 22.616, Fuel 2 amount = 9.0464, Brake power = 4.16, Heat Input = 18.589748906666664,  Efficiency=22.377924634087655\n",
            "For Fuel 1 amount = 25.935, Fuel 2 amount = 10.374, Brake power = 4.16, Heat Input = 21.317878399999998,  Efficiency=19.51413701656165\n",
            "For Fuel 1 amount = 22.008, Fuel 2 amount = 8.8032, Brake power = 4.16, Heat Input = 18.08998912,  Efficiency=22.996144289554998\n",
            "For Fuel 1 amount = 23.886, Fuel 2 amount = 9.5544, Brake power = 4.16, Heat Input = 19.633655039999997,  Efficiency=21.18810782569398\n",
            "For Fuel 1 amount = 33.264, Fuel 2 amount = 13.305600000000002, Brake power = 4.16, Heat Input = 27.34212096,  Efficiency=15.21462071682679\n",
            "For Fuel 1 amount = 29.072, Fuel 2 amount = 11.6288, Brake power = 4.16, Heat Input = 23.896408746666665,  Efficiency=17.408473566473802\n",
            "For Fuel 1 amount = 24.983, Fuel 2 amount = 9.993200000000002, Brake power = 4.16, Heat Input = 20.535359786666668,  Efficiency=20.25774100486436\n",
            "For Fuel 1 amount = 32.508, Fuel 2 amount = 13.003200000000001, Brake power = 4.16, Heat Input = 26.720709120000002,  Efficiency=15.568449105590204\n",
            "For Fuel 1 amount = 27.12, Fuel 2 amount = 10.848, Brake power = 4.16, Heat Input = 22.291916800000003,  Efficiency=18.66147284382472\n",
            "For Fuel 1 amount = 25.935, Fuel 2 amount = 10.374, Brake power = 4.16, Heat Input = 21.317878399999998,  Efficiency=19.51413701656165\n"
          ]
        }
      ]
    },
    {
      "cell_type": "markdown",
      "source": [
        "CM 10"
      ],
      "metadata": {
        "id": "ztUlOWD0nTel"
      }
    },
    {
      "cell_type": "code",
      "source": [
        "#CM 10\n",
        "fuel_1_range = [16.46,20.11,28.18,18.05,20.49,27.43,41.24,12.81,19.13,8.91,8.37,26.28,33.83,17.658,22.041,27.756,26.955,15.264,18.224,22.4,16.912,18.648,23.429,9.324,11.994,14.682,17.604,21.522,6.909,17.094,20.86,28.042,35.945,13.992,15.432,19.744,24.288,17.776,10.346,12.936,17.85,25.298,30.807,18.891,20.421,12.504,14.92,19.432,22.616,20.848,10.143,12.621,15.365,20.958,10.528,13.944,11.277,12.978,17.031,25.935,11.416,13.968,16.656,9.555,11.963,14.924,20.972,22.008,19.053,23.886,33.264,4.936,12.936,19.376,10.843,12.117,13.272,12.488,16.48,20.584,29.072,10.409,12.425,16.268,24.983,32.508,12.424,14.88,18.272,27.12,11.375,13.811,16.954,25.935]  # Values from 1 to 60 (inclusive)\n",
        "fuel_2_range=[]\n",
        "for i in fuel_1_range:\n",
        "  fuel_2_range.append(i*0.1)\n",
        " # Values from 1 to 40 (inclusive)\n",
        "calorific_value1 = 35800\n",
        "brake_power = 4.16\n",
        "density1 = 958\n",
        "density2=894.2\n",
        "calorific_value2=38200\n",
        "# Assuming you have the formulas defined as functions, for example:\n",
        "def predict_efficiency(fuel_amount_1, fuel_amount_2, calorific_value1,calorific_value2, brake_power, density1,density2):\n",
        "    # Your formula to calculate efficiency based on the given inputs\n",
        "    mass_of_fuel1 = ((fuel_amount_1  * 0.000001) / 60) * density1\n",
        "    mass_of_fuel2=((fuel_amount_2  * 0.000001) / 60) * density2\n",
        "    heat_input = mass_of_fuel1 * calorific_value1 + mass_of_fuel2 * calorific_value2\n",
        "    efficiency = brake_power / heat_input\n",
        "    return heat_input\n",
        "    # Limit efficiency to a maximum value of 32\n",
        "    efficiency = min(efficiency, 32)\n",
        "\n",
        "    return efficiency\n",
        "\n",
        "# List to store combinations that meet the efficiency criteria\n",
        "efficient_combinations = []\n",
        "\n",
        "# Loop through all combinations of fuel_1 and fuel_2\n",
        "for fuel_amount_1 in fuel_1_range:\n",
        "      # Use the formula-based prediction function to get efficiency\n",
        "      predicted_efficiency = predict_efficiency(fuel_amount_1, fuel_amount_1*0.1, calorific_value1,calorific_value2 ,brake_power,density1,density2)\n",
        "      \"\"\"if 0 <= predicted_efficiency <= 24:\"\"\"\n",
        "      efficient_combinations.append((fuel_amount_1, fuel_amount_1*0.1, predicted_efficiency))\n",
        "\n",
        "# Print the combinations that meet the efficiency criteria\n",
        "if efficient_combinations:\n",
        "    for fuel_amount_1, fuel_amount_2, predicted_efficiency in efficient_combinations:\n",
        "        eff=(brake_power/predicted_efficiency)*100\n",
        "        if eff>=0 and eff<=24:\n",
        "          print(f\"For Fuel 1 amount = {fuel_amount_1}, Fuel 2 amount = {fuel_amount_2}, \"\n",
        "                f\"Brake power = {brake_power}, \"\n",
        "                f\"Heat Input = {predicted_efficiency}, \",f\"Efficiency={eff}\")\n",
        "\n",
        "else:\n",
        "    print(\"No combinations meet the efficiency criteria.\")"
      ],
      "metadata": {
        "colab": {
          "base_uri": "https://localhost:8080/"
        },
        "id": "4bnx4oEnnfvr",
        "outputId": "8fba1e86-77ff-40d8-9e20-eebdc56ddfaa"
      },
      "execution_count": null,
      "outputs": [
        {
          "output_type": "stream",
          "name": "stdout",
          "text": [
            "For Fuel 1 amount = 28.18, Fuel 2 amount = 2.818, Brake power = 4.16, Heat Input = 17.712183932,  Efficiency=23.486657636183814\n",
            "For Fuel 1 amount = 41.24, Fuel 2 amount = 4.1240000000000006, Brake power = 4.16, Heat Input = 25.920882375999998,  Efficiency=16.04883637700436\n",
            "For Fuel 1 amount = 33.83, Fuel 2 amount = 3.383, Brake power = 4.16, Heat Input = 21.263420242,  Efficiency=19.564115051364464\n",
            "For Fuel 1 amount = 27.756, Fuel 2 amount = 2.7756000000000003, Brake power = 4.16, Heat Input = 17.4456840744,  Efficiency=23.845439263138054\n",
            "For Fuel 1 amount = 28.042, Fuel 2 amount = 2.8042000000000002, Brake power = 4.16, Heat Input = 17.6254457708,  Efficiency=23.602239932517648\n",
            "For Fuel 1 amount = 35.945, Fuel 2 amount = 3.5945, Brake power = 4.16, Heat Input = 22.592776843000003,  Efficiency=18.412964590003053\n",
            "For Fuel 1 amount = 30.807, Fuel 2 amount = 3.0807, Brake power = 4.16, Heat Input = 19.363351681799994,  Efficiency=21.48388392857662\n",
            "For Fuel 1 amount = 33.264, Fuel 2 amount = 3.3264000000000005, Brake power = 4.16, Heat Input = 20.9076680736,  Efficiency=19.89700613839766\n",
            "For Fuel 1 amount = 29.072, Fuel 2 amount = 2.9072, Brake power = 4.16, Heat Input = 18.272839292799997,  Efficiency=22.76602958818313\n",
            "For Fuel 1 amount = 32.508, Fuel 2 amount = 3.2508000000000004, Brake power = 4.16, Heat Input = 20.432493799200003,  Efficiency=20.359727211383653\n"
          ]
        }
      ]
    },
    {
      "cell_type": "markdown",
      "source": [
        "CM 20"
      ],
      "metadata": {
        "id": "CDpZFlgKngVE"
      }
    },
    {
      "cell_type": "code",
      "source": [
        "#CM 20\n",
        "fuel_1_range = [16.46,20.11,28.18,18.05,20.49,27.43,41.24,12.81,19.13,8.91,8.37,26.28,33.83,17.658,22.041,27.756,26.955,15.264,18.224,22.4,16.912,18.648,23.429,9.324,11.994,14.682,17.604,21.522,6.909,17.094,20.86,28.042,35.945,13.992,15.432,19.744,24.288,17.776,10.346,12.936,17.85,25.298,30.807,18.891,20.421,12.504,14.92,19.432,22.616,20.848,10.143,12.621,15.365,20.958,10.528,13.944,11.277,12.978,17.031,25.935,11.416,13.968,16.656,9.555,11.963,14.924,20.972,22.008,19.053,23.886,33.264,4.936,12.936,19.376,10.843,12.117,13.272,12.488,16.48,20.584,29.072,10.409,12.425,16.268,24.983,32.508,12.424,14.88,18.272,27.12,11.375,13.811,16.954,25.935]  # Values from 1 to 60 (inclusive)\n",
        "fuel_2_range=[]\n",
        "for i in fuel_1_range:\n",
        "  fuel_2_range.append(i*0.2)\n",
        " # Values from 1 to 40 (inclusive)\n",
        "calorific_value1 = 35800\n",
        "brake_power = 4.16\n",
        "density1 = 958\n",
        "density2=894.2\n",
        "calorific_value2=38200\n",
        "# Assuming you have the formulas defined as functions, for example:\n",
        "def predict_efficiency(fuel_amount_1, fuel_amount_2, calorific_value1,calorific_value2, brake_power, density1,density2):\n",
        "    # Your formula to calculate efficiency based on the given inputs\n",
        "    mass_of_fuel1 = ((fuel_amount_1  * 0.000001) / 60) * density1\n",
        "    mass_of_fuel2=((fuel_amount_2  * 0.000001) / 60) * density2\n",
        "    heat_input = mass_of_fuel1 * calorific_value1 + mass_of_fuel2 * calorific_value2\n",
        "    efficiency = brake_power / heat_input\n",
        "    return heat_input\n",
        "    # Limit efficiency to a maximum value of 32\n",
        "    efficiency = min(efficiency, 32)\n",
        "\n",
        "    return efficiency\n",
        "\n",
        "# List to store combinations that meet the efficiency criteria\n",
        "efficient_combinations = []\n",
        "\n",
        "# Loop through all combinations of fuel_1 and fuel_2\n",
        "for fuel_amount_1 in fuel_1_range:\n",
        "      # Use the formula-based prediction function to get efficiency\n",
        "      predicted_efficiency = predict_efficiency(fuel_amount_1, fuel_amount_1*0.2, calorific_value1,calorific_value2 ,brake_power,density1,density2)\n",
        "      \"\"\"if 0 <= predicted_efficiency <= 24:\"\"\"\n",
        "      efficient_combinations.append((fuel_amount_1, fuel_amount_1*0.2, predicted_efficiency))\n",
        "\n",
        "# Print the combinations that meet the efficiency criteria\n",
        "if efficient_combinations:\n",
        "    for fuel_amount_1, fuel_amount_2, predicted_efficiency in efficient_combinations:\n",
        "        eff=(brake_power/predicted_efficiency)*100\n",
        "        if eff>=0 and eff<=24:\n",
        "          print(f\"For Fuel 1 amount = {fuel_amount_1}, Fuel 2 amount = {fuel_amount_2}, \"\n",
        "                f\"Brake power = {brake_power}, \"\n",
        "                f\"Heat Input = {predicted_efficiency}, \",f\"Efficiency={eff}\")\n",
        "\n",
        "else:\n",
        "    print(\"No combinations meet the efficiency criteria.\")"
      ],
      "metadata": {
        "colab": {
          "base_uri": "https://localhost:8080/"
        },
        "id": "dvYuWMf0nhr0",
        "outputId": "81c90286-9cbf-4ac5-ac54-2f77225f8622"
      },
      "execution_count": null,
      "outputs": [
        {
          "output_type": "stream",
          "name": "stdout",
          "text": [
            "For Fuel 1 amount = 28.18, Fuel 2 amount = 5.636, Brake power = 4.16, Heat Input = 19.31649199733333,  Efficiency=21.536001467421176\n",
            "For Fuel 1 amount = 27.43, Fuel 2 amount = 5.486000000000001, Brake power = 4.16, Heat Input = 18.802390897333336,  Efficiency=22.124845838568305\n",
            "For Fuel 1 amount = 41.24, Fuel 2 amount = 8.248000000000001, Brake power = 4.16, Heat Input = 28.268705818666668,  Efficiency=14.715919528417281\n",
            "For Fuel 1 amount = 26.28, Fuel 2 amount = 5.256, Brake power = 4.16, Heat Input = 18.014102543999996,  Efficiency=23.09301831628344\n",
            "For Fuel 1 amount = 33.83, Fuel 2 amount = 6.766, Brake power = 4.16, Heat Input = 23.189386950666666,  Efficiency=17.939240950396947\n",
            "For Fuel 1 amount = 27.756, Fuel 2 amount = 5.551200000000001, Brake power = 4.16, Heat Input = 19.0258535088,  Efficiency=21.86498491684424\n",
            "For Fuel 1 amount = 26.955, Fuel 2 amount = 5.391, Brake power = 4.16, Heat Input = 18.476793534,  Efficiency=22.514729042920745\n",
            "For Fuel 1 amount = 28.042, Fuel 2 amount = 5.6084000000000005, Brake power = 4.16, Heat Input = 19.221897394933332,  Efficiency=21.641984214818084\n",
            "For Fuel 1 amount = 35.945, Fuel 2 amount = 7.189, Brake power = 4.16, Heat Input = 24.63915205266667,  Efficiency=16.883697909359537\n",
            "For Fuel 1 amount = 25.298, Fuel 2 amount = 5.0596, Brake power = 4.16, Heat Input = 17.340972837066662,  Efficiency=23.989426885600793\n",
            "For Fuel 1 amount = 30.807, Fuel 2 amount = 6.1614, Brake power = 4.16, Heat Input = 21.117216783599996,  Efficiency=19.699565727007784\n",
            "For Fuel 1 amount = 25.935, Fuel 2 amount = 5.187, Brake power = 4.16, Heat Input = 17.777616037999998,  Efficiency=23.400212891919363\n",
            "For Fuel 1 amount = 33.264, Fuel 2 amount = 6.652800000000001, Brake power = 4.16, Heat Input = 22.801411987199998,  Efficiency=18.244484167626524\n",
            "For Fuel 1 amount = 29.072, Fuel 2 amount = 5.8144, Brake power = 4.16, Heat Input = 19.927929572266663,  Efficiency=20.875224317278782\n",
            "For Fuel 1 amount = 32.508, Fuel 2 amount = 6.501600000000001, Brake power = 4.16, Heat Input = 22.2831980784,  Efficiency=18.66877449710621\n",
            "For Fuel 1 amount = 27.12, Fuel 2 amount = 5.424, Brake power = 4.16, Heat Input = 18.589895776000002,  Efficiency=22.377747837460493\n",
            "For Fuel 1 amount = 25.935, Fuel 2 amount = 5.187, Brake power = 4.16, Heat Input = 17.777616037999998,  Efficiency=23.400212891919363\n"
          ]
        }
      ]
    },
    {
      "cell_type": "markdown",
      "source": [
        "CM 30"
      ],
      "metadata": {
        "id": "5DWpGRjenigT"
      }
    },
    {
      "cell_type": "code",
      "source": [
        "#CM 30\n",
        "fuel_1_range = [16.46,20.11,28.18,18.05,20.49,27.43,41.24,12.81,19.13,8.91,8.37,26.28,33.83,17.658,22.041,27.756,26.955,15.264,18.224,22.4,16.912,18.648,23.429,9.324,11.994,14.682,17.604,21.522,6.909,17.094,20.86,28.042,35.945,13.992,15.432,19.744,24.288,17.776,10.346,12.936,17.85,25.298,30.807,18.891,20.421,12.504,14.92,19.432,22.616,20.848,10.143,12.621,15.365,20.958,10.528,13.944,11.277,12.978,17.031,25.935,11.416,13.968,16.656,9.555,11.963,14.924,20.972,22.008,19.053,23.886,33.264,4.936,12.936,19.376,10.843,12.117,13.272,12.488,16.48,20.584,29.072,10.409,12.425,16.268,24.983,32.508,12.424,14.88,18.272,27.12,11.375,13.811,16.954,25.935]  # Values from 1 to 60 (inclusive)\n",
        "fuel_2_range=[]\n",
        "for i in fuel_1_range:\n",
        "  fuel_2_range.append(i*0.3)\n",
        " # Values from 1 to 40 (inclusive)\n",
        "calorific_value1 = 35800\n",
        "brake_power = 4.16\n",
        "density1 = 958\n",
        "density2=894.2\n",
        "calorific_value2=38200\n",
        "# Assuming you have the formulas defined as functions, for example:\n",
        "def predict_efficiency(fuel_amount_1, fuel_amount_2, calorific_value1,calorific_value2, brake_power, density1,density2):\n",
        "    # Your formula to calculate efficiency based on the given inputs\n",
        "    mass_of_fuel1 = ((fuel_amount_1  * 0.000001) / 60) * density1\n",
        "    mass_of_fuel2=((fuel_amount_2  * 0.000001) / 60) * density2\n",
        "    heat_input = mass_of_fuel1 * calorific_value1 + mass_of_fuel2 * calorific_value2\n",
        "    efficiency = brake_power / heat_input\n",
        "    return heat_input\n",
        "    # Limit efficiency to a maximum value of 32\n",
        "    efficiency = min(efficiency, 32)\n",
        "\n",
        "    return efficiency\n",
        "\n",
        "# List to store combinations that meet the efficiency criteria\n",
        "efficient_combinations = []\n",
        "\n",
        "# Loop through all combinations of fuel_1 and fuel_2\n",
        "for fuel_amount_1 in fuel_1_range:\n",
        "      # Use the formula-based prediction function to get efficiency\n",
        "      predicted_efficiency = predict_efficiency(fuel_amount_1, fuel_amount_1*0.3, calorific_value1,calorific_value2 ,brake_power,density1,density2)\n",
        "      \"\"\"if 0<= predicted_efficiency <= 24:\"\"\"\n",
        "      efficient_combinations.append((fuel_amount_1, fuel_amount_1*0.3, predicted_efficiency))\n",
        "\n",
        "# Print the combinations that meet the efficiency criteria\n",
        "if efficient_combinations:\n",
        "    for fuel_amount_1, fuel_amount_2, predicted_efficiency in efficient_combinations:\n",
        "        eff=(brake_power/predicted_efficiency)*100\n",
        "        if eff>=0 and eff<=24:\n",
        "          print(f\"For Fuel 1 amount = {fuel_amount_1}, Fuel 2 amount = {fuel_amount_2}, \"\n",
        "                f\"Brake power = {brake_power}, \"\n",
        "                f\"Heat Input = {predicted_efficiency}, \",f\"Efficiency={eff}\")\n",
        "\n",
        "else:\n",
        "    print(\"No combinations meet the efficiency criteria.\")"
      ],
      "metadata": {
        "colab": {
          "base_uri": "https://localhost:8080/"
        },
        "id": "jhx2treGnjbv",
        "outputId": "9b3a209b-5f26-41d4-b9ff-a4f068bdf0ed"
      },
      "execution_count": null,
      "outputs": [
        {
          "output_type": "stream",
          "name": "stdout",
          "text": [
            "For Fuel 1 amount = 28.18, Fuel 2 amount = 8.453999999999999, Brake power = 4.16, Heat Input = 20.920800062666665,  Efficiency=19.884516784917576\n",
            "For Fuel 1 amount = 27.43, Fuel 2 amount = 8.229, Brake power = 4.16, Heat Input = 20.36400091266667,  Efficiency=20.42820572362294\n",
            "For Fuel 1 amount = 41.24, Fuel 2 amount = 12.372, Brake power = 4.16, Heat Input = 30.616529261333334,  Efficiency=13.587431692506724\n",
            "For Fuel 1 amount = 26.28, Fuel 2 amount = 7.884, Brake power = 4.16, Heat Input = 19.510242215999998,  Efficiency=21.32213405627768\n",
            "For Fuel 1 amount = 33.83, Fuel 2 amount = 10.149, Brake power = 4.16, Heat Input = 25.11535365933333,  Efficiency=16.563573248565692\n",
            "For Fuel 1 amount = 27.756, Fuel 2 amount = 8.3268, Brake power = 4.16, Heat Input = 20.6060229432,  Efficiency=20.18827219336278\n",
            "For Fuel 1 amount = 26.955, Fuel 2 amount = 8.0865, Brake power = 4.16, Heat Input = 20.011361451,  Efficiency=20.788190799442678\n",
            "For Fuel 1 amount = 23.429, Fuel 2 amount = 7.0287, Brake power = 4.16, Heat Input = 17.393663047133334,  Efficiency=23.916756284902355\n",
            "For Fuel 1 amount = 28.042, Fuel 2 amount = 8.4126, Brake power = 4.16, Heat Input = 20.818349019066666,  Efficiency=19.98237226299755\n",
            "For Fuel 1 amount = 35.945, Fuel 2 amount = 10.7835, Brake power = 4.16, Heat Input = 26.685527262333334,  Efficiency=15.58897434967248\n",
            "For Fuel 1 amount = 24.288, Fuel 2 amount = 7.2863999999999995, Brake power = 4.16, Heat Input = 18.031383673599997,  Efficiency=23.070886157731284\n",
            "For Fuel 1 amount = 25.298, Fuel 2 amount = 7.5893999999999995, Brake power = 4.16, Heat Input = 18.78120652893333,  Efficiency=22.149801683887162\n",
            "For Fuel 1 amount = 30.807, Fuel 2 amount = 9.242099999999999, Brake power = 4.16, Heat Input = 22.871081885399995,  Efficiency=18.188907813126153\n",
            "For Fuel 1 amount = 25.935, Fuel 2 amount = 7.780499999999999, Brake power = 4.16, Heat Input = 19.254114606999998,  Efficiency=21.60577146708993\n",
            "For Fuel 1 amount = 23.886, Fuel 2 amount = 7.1658, Brake power = 4.16, Heat Input = 17.732939329199997,  Efficiency=23.459167838858637\n",
            "For Fuel 1 amount = 33.264, Fuel 2 amount = 9.9792, Brake power = 4.16, Heat Input = 24.6951559008,  Efficiency=16.845408940565694\n",
            "For Fuel 1 amount = 29.072, Fuel 2 amount = 8.721599999999999, Brake power = 4.16, Heat Input = 21.58301985173333,  Efficiency=19.274411220383097\n",
            "For Fuel 1 amount = 24.983, Fuel 2 amount = 7.4948999999999995, Brake power = 4.16, Heat Input = 18.547350885933334,  Efficiency=22.42907909374284\n",
            "For Fuel 1 amount = 32.508, Fuel 2 amount = 9.7524, Brake power = 4.16, Heat Input = 24.1339023576,  Efficiency=17.23716263685792\n",
            "For Fuel 1 amount = 27.12, Fuel 2 amount = 8.136, Brake power = 4.16, Heat Input = 20.133857264,  Efficiency=20.661713974888542\n",
            "For Fuel 1 amount = 25.935, Fuel 2 amount = 7.780499999999999, Brake power = 4.16, Heat Input = 19.254114606999998,  Efficiency=21.60577146708993\n"
          ]
        }
      ]
    },
    {
      "cell_type": "markdown",
      "source": [
        "CM 40"
      ],
      "metadata": {
        "id": "zGfL3U9LnkBc"
      }
    },
    {
      "cell_type": "code",
      "source": [
        "#CM 40\n",
        "fuel_1_range = [16.46,20.11,28.18,18.05,20.49,27.43,41.24,12.81,19.13,8.91,8.37,26.28,33.83,17.658,22.041,27.756,26.955,15.264,18.224,22.4,16.912,18.648,23.429,9.324,11.994,14.682,17.604,21.522,6.909,17.094,20.86,28.042,35.945,13.992,15.432,19.744,24.288,17.776,10.346,12.936,17.85,25.298,30.807,18.891,20.421,12.504,14.92,19.432,22.616,20.848,10.143,12.621,15.365,20.958,10.528,13.944,11.277,12.978,17.031,25.935,11.416,13.968,16.656,9.555,11.963,14.924,20.972,22.008,19.053,23.886,33.264,4.936,12.936,19.376,10.843,12.117,13.272,12.488,16.48,20.584,29.072,10.409,12.425,16.268,24.983,32.508,12.424,14.88,18.272,27.12,11.375,13.811,16.954,25.935]  # Values from 1 to 60 (inclusive)\n",
        "fuel_2_range=[]\n",
        "for i in fuel_1_range:\n",
        "  fuel_2_range.append(i*0.4)\n",
        " # Values from 1 to 40 (inclusive)\n",
        "calorific_value1 = 35800\n",
        "brake_power = 4.16\n",
        "density1 = 958\n",
        "density2=894.2\n",
        "calorific_value2=38200\n",
        "# Assuming you have the formulas defined as functions, for example:\n",
        "def predict_efficiency(fuel_amount_1, fuel_amount_2, calorific_value1,calorific_value2, brake_power, density1,density2):\n",
        "    # Your formula to calculate efficiency based on the given inputs\n",
        "    mass_of_fuel1 = ((fuel_amount_1  * 0.000001) / 60) * density1\n",
        "    mass_of_fuel2=((fuel_amount_2  * 0.000001) / 60) * density2\n",
        "    heat_input = mass_of_fuel1 * calorific_value1 + mass_of_fuel2 * calorific_value2\n",
        "    efficiency = brake_power / heat_input\n",
        "    return heat_input\n",
        "    # Limit efficiency to a maximum value of 32\n",
        "    efficiency = min(efficiency, 32)\n",
        "\n",
        "    return efficiency\n",
        "\n",
        "# List to store combinations that meet the efficiency criteria\n",
        "efficient_combinations = []\n",
        "\n",
        "# Loop through all combinations of fuel_1 and fuel_2\n",
        "for fuel_amount_1 in fuel_1_range:\n",
        "      # Use the formula-based prediction function to get efficiency\n",
        "      predicted_efficiency = predict_efficiency(fuel_amount_1, fuel_amount_1*0.4, calorific_value1,calorific_value2 ,brake_power,density1,density2)\n",
        "      \"\"\"if 0 <= predicted_efficiency <= 24:\"\"\"\n",
        "      efficient_combinations.append((fuel_amount_1, fuel_amount_1*0.4, predicted_efficiency))\n",
        "\n",
        "# Print the combinations that meet the efficiency criteria\n",
        "if efficient_combinations:\n",
        "    for fuel_amount_1, fuel_amount_2, predicted_efficiency in efficient_combinations:\n",
        "        eff=(brake_power/predicted_efficiency)*100\n",
        "        if eff>=0 and eff<=24:\n",
        "          print(f\"For Fuel 1 amount = {fuel_amount_1}, Fuel 2 amount = {fuel_amount_2}, \"\n",
        "                f\"Brake power = {brake_power}, \"\n",
        "                f\"Heat Input = {predicted_efficiency}, \",f\"Efficiency={eff}\")\n",
        "\n",
        "else:\n",
        "    print(\"No combinations meet the efficiency criteria.\")"
      ],
      "metadata": {
        "colab": {
          "base_uri": "https://localhost:8080/"
        },
        "id": "45cs5Y3Gnlto",
        "outputId": "01f9ab70-80bc-4a5d-d3bc-e4d55408879a"
      },
      "execution_count": null,
      "outputs": [
        {
          "output_type": "stream",
          "name": "stdout",
          "text": [
            "For Fuel 1 amount = 28.18, Fuel 2 amount = 11.272, Brake power = 4.16, Heat Input = 22.525108127999996,  Efficiency=18.468279825164892\n",
            "For Fuel 1 amount = 27.43, Fuel 2 amount = 10.972000000000001, Brake power = 4.16, Heat Input = 21.925610928,  Efficiency=18.973245551336003\n",
            "For Fuel 1 amount = 41.24, Fuel 2 amount = 16.496000000000002, Brake power = 4.16, Heat Input = 32.964352704,  Efficiency=12.619692664237306\n",
            "For Fuel 1 amount = 26.28, Fuel 2 amount = 10.512, Brake power = 4.16, Heat Input = 21.006381888,  Efficiency=19.80350553550786\n",
            "For Fuel 1 amount = 33.83, Fuel 2 amount = 13.532, Brake power = 4.16, Heat Input = 27.041320367999997,  Efficiency=15.383864187796235\n",
            "For Fuel 1 amount = 22.041, Fuel 2 amount = 8.8164, Brake power = 4.16, Heat Input = 17.6180237136,  Efficiency=23.612182998645547\n",
            "For Fuel 1 amount = 27.756, Fuel 2 amount = 11.102400000000001, Brake power = 4.16, Heat Input = 22.1861923776,  Efficiency=18.750400831285003\n",
            "For Fuel 1 amount = 26.955, Fuel 2 amount = 10.782, Brake power = 4.16, Heat Input = 21.545929368,  Efficiency=19.307591373516843\n",
            "For Fuel 1 amount = 22.4, Fuel 2 amount = 8.959999999999999, Brake power = 4.16, Heat Input = 17.90498304,  Efficiency=23.233755601479753\n",
            "For Fuel 1 amount = 23.429, Fuel 2 amount = 9.371599999999999, Brake power = 4.16, Heat Input = 18.727493198399998,  Efficiency=22.213330721462572\n",
            "For Fuel 1 amount = 28.042, Fuel 2 amount = 11.216800000000001, Brake power = 4.16, Heat Input = 22.4148006432,  Efficiency=18.559165732584926\n",
            "For Fuel 1 amount = 35.945, Fuel 2 amount = 14.378, Brake power = 4.16, Heat Input = 28.731902472,  Efficiency=14.478679245323315\n",
            "For Fuel 1 amount = 24.288, Fuel 2 amount = 9.715200000000001, Brake power = 4.16, Heat Input = 19.4141173248,  Efficiency=21.427706088321248\n",
            "For Fuel 1 amount = 25.298, Fuel 2 amount = 10.1192, Brake power = 4.16, Heat Input = 20.221440220799998,  Efficiency=20.572224107563702\n",
            "For Fuel 1 amount = 30.807, Fuel 2 amount = 12.3228, Brake power = 4.16, Heat Input = 24.624946987199994,  Efficiency=16.893437383489033\n",
            "For Fuel 1 amount = 22.616, Fuel 2 amount = 9.0464, Brake power = 4.16, Heat Input = 18.0776382336,  Efficiency=23.01185556566796\n",
            "For Fuel 1 amount = 25.935, Fuel 2 amount = 10.374, Brake power = 4.16, Heat Input = 20.730613176,  Efficiency=20.066941410184945\n",
            "For Fuel 1 amount = 22.008, Fuel 2 amount = 8.8032, Brake power = 4.16, Heat Input = 17.591645836799998,  Efficiency=23.64758839845268\n",
            "For Fuel 1 amount = 23.886, Fuel 2 amount = 9.5544, Brake power = 4.16, Heat Input = 19.092786825599998,  Efficiency=21.788333143814224\n",
            "For Fuel 1 amount = 33.264, Fuel 2 amount = 13.305600000000002, Brake power = 4.16, Heat Input = 26.5888998144,  Efficiency=15.645626667663134\n",
            "For Fuel 1 amount = 29.072, Fuel 2 amount = 11.6288, Brake power = 4.16, Heat Input = 23.2381101312,  Efficiency=17.90162787125573\n",
            "For Fuel 1 amount = 24.983, Fuel 2 amount = 9.993200000000002, Brake power = 4.16, Heat Input = 19.9696513968,  Efficiency=20.831610514075432\n",
            "For Fuel 1 amount = 32.508, Fuel 2 amount = 13.003200000000001, Brake power = 4.16, Heat Input = 25.984606636800002,  Efficiency=16.009478450632045\n",
            "For Fuel 1 amount = 27.12, Fuel 2 amount = 10.848, Brake power = 4.16, Heat Input = 21.677818752,  Efficiency=19.190122620691245\n",
            "For Fuel 1 amount = 25.935, Fuel 2 amount = 10.374, Brake power = 4.16, Heat Input = 20.730613176,  Efficiency=20.066941410184945\n"
          ]
        }
      ]
    },
    {
      "cell_type": "markdown",
      "source": [
        "DEE 10"
      ],
      "metadata": {
        "id": "0RHgED08oMlJ"
      }
    },
    {
      "cell_type": "code",
      "source": [
        "#DEE 10\n",
        "fuel_1_range = [16.46,20.11,28.18,18.05,20.49,27.43,41.24,12.81,19.13,8.91,8.37,26.28,33.83,17.658,22.041,27.756,26.955,15.264,18.224,22.4,16.912,18.648,23.429,9.324,11.994,14.682,17.604,21.522,6.909,17.094,20.86,28.042,35.945,13.992,15.432,19.744,24.288,17.776,10.346,12.936,17.85,25.298,30.807,18.891,20.421,12.504,14.92,19.432,22.616,20.848,10.143,12.621,15.365,20.958,10.528,13.944,11.277,12.978,17.031,25.935,11.416,13.968,16.656,9.555,11.963,14.924,20.972,22.008,19.053,23.886,33.264,4.936,12.936,19.376,10.843,12.117,13.272,12.488,16.48,20.584,29.072,10.409,12.425,16.268,24.983,32.508,12.424,14.88,18.272,27.12,11.375,13.811,16.954,25.935]  # Values from 1 to 60 (inclusive)\n",
        "fuel_2_range=[]\n",
        "for i in fuel_1_range:\n",
        "  fuel_2_range.append(i*0.1)\n",
        " # Values from 1 to 40 (inclusive)\n",
        "calorific_value1 = 35800\n",
        "brake_power = 4.16\n",
        "density1 = 958\n",
        "density2=713\n",
        "calorific_value2=39000\n",
        "# Assuming you have the formulas defined as functions, for example:\n",
        "def predict_efficiency(fuel_amount_1, fuel_amount_2, calorific_value1,calorific_value2, brake_power, density1,density2):\n",
        "    # Your formula to calculate efficiency based on the given inputs\n",
        "    mass_of_fuel1 = ((fuel_amount_1  * 0.000001) / 60) * density1\n",
        "    mass_of_fuel2=((fuel_amount_2  * 0.000001) / 60) * density2\n",
        "    heat_input = mass_of_fuel1 * calorific_value1 + mass_of_fuel2 * calorific_value2\n",
        "    efficiency = brake_power / heat_input\n",
        "    return heat_input\n",
        "    # Limit efficiency to a maximum value of 32\n",
        "    efficiency = min(efficiency, 32)\n",
        "\n",
        "    return efficiency\n",
        "\n",
        "# List to store combinations that meet the efficiency criteria\n",
        "efficient_combinations = []\n",
        "\n",
        "# Loop through all combinations of fuel_1 and fuel_2\n",
        "for fuel_amount_1 in fuel_1_range:\n",
        "      # Use the formula-based prediction function to get efficiency\n",
        "      predicted_efficiency = predict_efficiency(fuel_amount_1, fuel_amount_1*0.1, calorific_value1,calorific_value2 ,brake_power,density1,density2)\n",
        "      \"\"\"if 0 <= predicted_efficiency <= 24:\"\"\"\n",
        "      efficient_combinations.append((fuel_amount_1, fuel_amount_1*0.1, predicted_efficiency))\n",
        "\n",
        "# Print the combinations that meet the efficiency criteria\n",
        "if efficient_combinations:\n",
        "    for fuel_amount_1, fuel_amount_2, predicted_efficiency in efficient_combinations:\n",
        "        eff=(brake_power/predicted_efficiency)*100\n",
        "        if eff>=0 and eff<=24:\n",
        "          print(f\"For Fuel 1 amount = {fuel_amount_1}, Fuel 2 amount = {fuel_amount_2}, \"\n",
        "                f\"Brake power = {brake_power}, \"\n",
        "                f\"Heat Input = {predicted_efficiency}, \",f\"Efficiency={eff}\")\n",
        "\n",
        "else:\n",
        "    print(\"No combinations meet the efficiency criteria.\")"
      ],
      "metadata": {
        "colab": {
          "base_uri": "https://localhost:8080/"
        },
        "id": "A2f-AWx7oR5O",
        "outputId": "33962ec2-5ad8-4fa7-8cc2-adf92177c593"
      },
      "execution_count": null,
      "outputs": [
        {
          "output_type": "stream",
          "name": "stdout",
          "text": [
            "For Fuel 1 amount = 28.18, Fuel 2 amount = 2.818, Brake power = 4.16, Heat Input = 17.413877966666664,  Efficiency=23.888992491867683\n",
            "For Fuel 1 amount = 41.24, Fuel 2 amount = 4.1240000000000006, Brake power = 4.16, Heat Input = 25.484326733333333,  Efficiency=16.323758691096778\n",
            "For Fuel 1 amount = 33.83, Fuel 2 amount = 3.383, Brake power = 4.16, Heat Input = 20.905304883333333,  Efficiency=19.899255347940624\n",
            "For Fuel 1 amount = 35.945, Fuel 2 amount = 3.5945, Brake power = 4.16, Heat Input = 22.212272658333337,  Efficiency=18.728385266958718\n",
            "For Fuel 1 amount = 30.807, Fuel 2 amount = 3.0807, Brake power = 4.16, Heat Input = 19.037236994999994,  Efficiency=21.851910553472635\n",
            "For Fuel 1 amount = 33.264, Fuel 2 amount = 3.3264000000000005, Brake power = 4.16, Heat Input = 20.55554424,  Efficiency=20.237848978500217\n",
            "For Fuel 1 amount = 29.072, Fuel 2 amount = 2.9072, Brake power = 4.16, Heat Input = 17.96509085333333,  Efficiency=23.15601982735386\n",
            "For Fuel 1 amount = 32.508, Fuel 2 amount = 3.2508000000000004, Brake power = 4.16, Heat Input = 20.08837278,  Efficiency=20.70849662916301\n"
          ]
        }
      ]
    },
    {
      "cell_type": "markdown",
      "source": [
        "DEE 20"
      ],
      "metadata": {
        "id": "8X0VutRDoS1P"
      }
    },
    {
      "cell_type": "code",
      "source": [
        "#DEE 20\n",
        "fuel_1_range = [16.46,20.11,28.18,18.05,20.49,27.43,41.24,12.81,19.13,8.91,8.37,26.28,33.83,17.658,22.041,27.756,26.955,15.264,18.224,22.4,16.912,18.648,23.429,9.324,11.994,14.682,17.604,21.522,6.909,17.094,20.86,28.042,35.945,13.992,15.432,19.744,24.288,17.776,10.346,12.936,17.85,25.298,30.807,18.891,20.421,12.504,14.92,19.432,22.616,20.848,10.143,12.621,15.365,20.958,10.528,13.944,11.277,12.978,17.031,25.935,11.416,13.968,16.656,9.555,11.963,14.924,20.972,22.008,19.053,23.886,33.264,4.936,12.936,19.376,10.843,12.117,13.272,12.488,16.48,20.584,29.072,10.409,12.425,16.268,24.983,32.508,12.424,14.88,18.272,27.12,11.375,13.811,16.954,25.935]  # Values from 1 to 60 (inclusive)\n",
        "fuel_2_range=[]\n",
        "for i in fuel_1_range:\n",
        "  fuel_2_range.append(i*0.2)\n",
        " # Values from 1 to 40 (inclusive)\n",
        "calorific_value1 = 35800\n",
        "brake_power = 4.16\n",
        "density1 = 958\n",
        "density2=713\n",
        "calorific_value2=39000\n",
        "# Assuming you have the formulas defined as functions, for example:\n",
        "def predict_efficiency(fuel_amount_1, fuel_amount_2, calorific_value1,calorific_value2, brake_power, density1,density2):\n",
        "    # Your formula to calculate efficiency based on the given inputs\n",
        "    mass_of_fuel1 = ((fuel_amount_1  * 0.000001) / 60) * density1\n",
        "    mass_of_fuel2=((fuel_amount_2  * 0.000001) / 60) * density2\n",
        "    heat_input = mass_of_fuel1 * calorific_value1 + mass_of_fuel2 * calorific_value2\n",
        "    efficiency = brake_power / heat_input\n",
        "    return heat_input\n",
        "    # Limit efficiency to a maximum value of 32\n",
        "    efficiency = min(efficiency, 32)\n",
        "\n",
        "    return efficiency\n",
        "\n",
        "# List to store combinations that meet the efficiency criteria\n",
        "efficient_combinations = []\n",
        "\n",
        "# Loop through all combinations of fuel_1 and fuel_2\n",
        "for fuel_amount_1 in fuel_1_range:\n",
        "      # Use the formula-based prediction function to get efficiency\n",
        "      predicted_efficiency = predict_efficiency(fuel_amount_1, fuel_amount_1*0.2, calorific_value1,calorific_value2 ,brake_power,density1,density2)\n",
        "      \"\"\"if 0 <= predicted_efficiency <= 24:\"\"\"\n",
        "      efficient_combinations.append((fuel_amount_1, fuel_amount_1*0.2, predicted_efficiency))\n",
        "\n",
        "# Print the combinations that meet the efficiency criteria\n",
        "if efficient_combinations:\n",
        "    for fuel_amount_1, fuel_amount_2, predicted_efficiency in efficient_combinations:\n",
        "        eff=(brake_power/predicted_efficiency)*100\n",
        "        if eff>=0 and eff<=24:\n",
        "          print(f\"For Fuel 1 amount = {fuel_amount_1}, Fuel 2 amount = {fuel_amount_2}, \"\n",
        "                f\"Brake power = {brake_power}, \"\n",
        "                f\"Heat Input = {predicted_efficiency}, \",f\"Efficiency={eff}\")\n",
        "\n",
        "else:\n",
        "    print(\"No combinations meet the efficiency criteria.\")"
      ],
      "metadata": {
        "colab": {
          "base_uri": "https://localhost:8080/"
        },
        "id": "XdvanqdQoURG",
        "outputId": "d72f522b-b0fb-4fce-97b1-12726295ff97"
      },
      "execution_count": null,
      "outputs": [
        {
          "output_type": "stream",
          "name": "stdout",
          "text": [
            "For Fuel 1 amount = 28.18, Fuel 2 amount = 5.636, Brake power = 4.16, Heat Input = 18.719880066666665,  Efficiency=22.22236459413784\n",
            "For Fuel 1 amount = 27.43, Fuel 2 amount = 5.486000000000001, Brake power = 4.16, Heat Input = 18.221657566666668,  Efficiency=22.82997572959549\n",
            "For Fuel 1 amount = 41.24, Fuel 2 amount = 8.248000000000001, Brake power = 4.16, Heat Input = 27.395594533333334,  Efficiency=15.184923236246467\n",
            "For Fuel 1 amount = 26.28, Fuel 2 amount = 5.256, Brake power = 4.16, Heat Input = 17.4577164,  Efficiency=23.82900434789971\n",
            "For Fuel 1 amount = 33.83, Fuel 2 amount = 6.766, Brake power = 4.16, Heat Input = 22.47315623333333,  Efficiency=18.510973522400363\n",
            "For Fuel 1 amount = 27.756, Fuel 2 amount = 5.551200000000001, Brake power = 4.16, Heat Input = 18.43821828,  Efficiency=22.561832910462755\n",
            "For Fuel 1 amount = 26.955, Fuel 2 amount = 5.391, Brake power = 4.16, Heat Input = 17.90611665,  Efficiency=23.23228470646649\n",
            "For Fuel 1 amount = 28.042, Fuel 2 amount = 5.6084000000000005, Brake power = 4.16, Heat Input = 18.628207126666666,  Efficiency=22.33172506464604\n",
            "For Fuel 1 amount = 35.945, Fuel 2 amount = 7.189, Brake power = 4.16, Heat Input = 23.878143683333334,  Efficiency=17.42178979726817\n",
            "For Fuel 1 amount = 30.807, Fuel 2 amount = 6.1614, Brake power = 4.16, Heat Input = 20.464987409999996,  Efficiency=20.327400729146117\n",
            "For Fuel 1 amount = 33.264, Fuel 2 amount = 6.652800000000001, Brake power = 4.16, Heat Input = 22.097164319999997,  Efficiency=18.82594499347055\n",
            "For Fuel 1 amount = 29.072, Fuel 2 amount = 5.8144, Brake power = 4.16, Heat Input = 19.31243269333333,  Efficiency=21.54052814607885\n",
            "For Fuel 1 amount = 32.508, Fuel 2 amount = 6.501600000000001, Brake power = 4.16, Heat Input = 21.59495604,  Efficiency=19.263757667737305\n",
            "For Fuel 1 amount = 27.12, Fuel 2 amount = 5.424, Brake power = 4.16, Heat Input = 18.0157256,  Efficiency=23.09093784154883\n"
          ]
        }
      ]
    },
    {
      "cell_type": "markdown",
      "source": [
        "DEE 30"
      ],
      "metadata": {
        "id": "K7V_jj7goUi6"
      }
    },
    {
      "cell_type": "code",
      "source": [
        "#DEE 30\n",
        "fuel_1_range = [16.46,20.11,28.18,18.05,20.49,27.43,41.24,12.81,19.13,8.91,8.37,26.28,33.83,17.658,22.041,27.756,26.955,15.264,18.224,22.4,16.912,18.648,23.429,9.324,11.994,14.682,17.604,21.522,6.909,17.094,20.86,28.042,35.945,13.992,15.432,19.744,24.288,17.776,10.346,12.936,17.85,25.298,30.807,18.891,20.421,12.504,14.92,19.432,22.616,20.848,10.143,12.621,15.365,20.958,10.528,13.944,11.277,12.978,17.031,25.935,11.416,13.968,16.656,9.555,11.963,14.924,20.972,22.008,19.053,23.886,33.264,4.936,12.936,19.376,10.843,12.117,13.272,12.488,16.48,20.584,29.072,10.409,12.425,16.268,24.983,32.508,12.424,14.88,18.272,27.12,11.375,13.811,16.954,25.935]  # Values from 1 to 60 (inclusive)\n",
        "fuel_2_range=[]\n",
        "for i in fuel_1_range:\n",
        "  fuel_2_range.append(i*0.3)\n",
        " # Values from 1 to 40 (inclusive)\n",
        "calorific_value1 = 35800\n",
        "brake_power = 4.16\n",
        "density1 = 958\n",
        "density2=713\n",
        "calorific_value2=39000\n",
        "# Assuming you have the formulas defined as functions, for example:\n",
        "def predict_efficiency(fuel_amount_1, fuel_amount_2, calorific_value1,calorific_value2, brake_power, density1,density2):\n",
        "    # Your formula to calculate efficiency based on the given inputs\n",
        "    mass_of_fuel1 = ((fuel_amount_1  * 0.000001) / 60) * density1\n",
        "    mass_of_fuel2=((fuel_amount_2  * 0.000001) / 60) * density2\n",
        "    heat_input = mass_of_fuel1 * calorific_value1 + mass_of_fuel2 * calorific_value2\n",
        "    efficiency = brake_power / heat_input\n",
        "    return heat_input\n",
        "    # Limit efficiency to a maximum value of 32\n",
        "    efficiency = min(efficiency, 32)\n",
        "\n",
        "    return efficiency\n",
        "\n",
        "# List to store combinations that meet the efficiency criteria\n",
        "efficient_combinations = []\n",
        "\n",
        "# Loop through all combinations of fuel_1 and fuel_2\n",
        "for fuel_amount_1 in fuel_1_range:\n",
        "      # Use the formula-based prediction function to get efficiency\n",
        "      predicted_efficiency = predict_efficiency(fuel_amount_1, fuel_amount_1*0.3, calorific_value1,calorific_value2 ,brake_power,density1,density2)\n",
        "      \"\"\"if 0 <= predicted_efficiency <= 24:\"\"\"\n",
        "      efficient_combinations.append((fuel_amount_1, fuel_amount_1*0.3, predicted_efficiency))\n",
        "\n",
        "# Print the combinations that meet the efficiency criteria\n",
        "if efficient_combinations:\n",
        "    for fuel_amount_1, fuel_amount_2, predicted_efficiency in efficient_combinations:\n",
        "        eff=(brake_power/predicted_efficiency)*100\n",
        "        if eff>=0 and eff<=24:\n",
        "          print(f\"For Fuel 1 amount = {fuel_amount_1}, Fuel 2 amount = {fuel_amount_2}, \"\n",
        "                f\"Brake power = {brake_power}, \"\n",
        "                f\"Heat Input = {predicted_efficiency}, \",f\"Efficiency={eff}\")\n",
        "\n",
        "else:\n",
        "    print(\"No combinations meet the efficiency criteria.\")"
      ],
      "metadata": {
        "colab": {
          "base_uri": "https://localhost:8080/"
        },
        "id": "BtJFB0KxoVbf",
        "outputId": "2d6b895d-6c63-40d6-9179-66f89418642f"
      },
      "execution_count": null,
      "outputs": [
        {
          "output_type": "stream",
          "name": "stdout",
          "text": [
            "For Fuel 1 amount = 28.18, Fuel 2 amount = 8.453999999999999, Brake power = 4.16, Heat Input = 20.025882166666662,  Efficiency=20.773117335746505\n",
            "For Fuel 1 amount = 27.43, Fuel 2 amount = 8.229, Brake power = 4.16, Heat Input = 19.492900916666667,  Efficiency=21.34110268032579\n",
            "For Fuel 1 amount = 41.24, Fuel 2 amount = 12.372, Brake power = 4.16, Heat Input = 29.30686233333333,  Efficiency=14.194627704203114\n",
            "For Fuel 1 amount = 26.28, Fuel 2 amount = 7.884, Brake power = 4.16, Heat Input = 18.675663,  Efficiency=22.27497893916805\n",
            "For Fuel 1 amount = 33.83, Fuel 2 amount = 10.149, Brake power = 4.16, Heat Input = 24.041007583333332,  Efficiency=17.303767263415203\n",
            "For Fuel 1 amount = 27.756, Fuel 2 amount = 8.3268, Brake power = 4.16, Heat Input = 19.724570099999998,  Efficiency=21.09044698520451\n",
            "For Fuel 1 amount = 26.955, Fuel 2 amount = 8.0865, Brake power = 4.16, Heat Input = 19.155346124999998,  Efficiency=21.717174792110423\n",
            "For Fuel 1 amount = 28.042, Fuel 2 amount = 8.4126, Brake power = 4.16, Heat Input = 19.927813616666665,  Efficiency=20.87534578565496\n",
            "For Fuel 1 amount = 35.945, Fuel 2 amount = 10.7835, Brake power = 4.16, Heat Input = 25.544014708333336,  Efficiency=16.285615426939387\n",
            "For Fuel 1 amount = 25.298, Fuel 2 amount = 7.5893999999999995, Brake power = 4.16, Heat Input = 17.97781288333333,  Efficiency=23.139633430363528\n",
            "For Fuel 1 amount = 30.807, Fuel 2 amount = 9.242099999999999, Brake power = 4.16, Heat Input = 21.892737824999994,  Efficiency=19.00173488237532\n",
            "For Fuel 1 amount = 25.935, Fuel 2 amount = 7.780499999999999, Brake power = 4.16, Heat Input = 18.430491625,  Efficiency=22.5712915566353\n",
            "For Fuel 1 amount = 33.264, Fuel 2 amount = 9.9792, Brake power = 4.16, Heat Input = 23.6387844,  Efficiency=17.598197646745323\n",
            "For Fuel 1 amount = 29.072, Fuel 2 amount = 8.721599999999999, Brake power = 4.16, Heat Input = 20.65977453333333,  Efficiency=20.13574733493865\n",
            "For Fuel 1 amount = 24.983, Fuel 2 amount = 7.4948999999999995, Brake power = 4.16, Heat Input = 17.75396075833333,  Efficiency=23.43139120687413\n",
            "For Fuel 1 amount = 32.508, Fuel 2 amount = 9.7524, Brake power = 4.16, Heat Input = 23.1015393,  Efficiency=18.00745805713475\n",
            "For Fuel 1 amount = 27.12, Fuel 2 amount = 8.136, Brake power = 4.16, Heat Input = 19.272602,  Efficiency=21.58504596317612\n",
            "For Fuel 1 amount = 25.935, Fuel 2 amount = 7.780499999999999, Brake power = 4.16, Heat Input = 18.430491625,  Efficiency=22.5712915566353\n"
          ]
        }
      ]
    },
    {
      "cell_type": "markdown",
      "source": [
        "DEE 40"
      ],
      "metadata": {
        "id": "HEg_8ysioVtc"
      }
    },
    {
      "cell_type": "code",
      "source": [
        "#DEE 40\n",
        "fuel_1_range = [16.46,20.11,28.18,18.05,20.49,27.43,41.24,12.81,19.13,8.91,8.37,26.28,33.83,17.658,22.041,27.756,26.955,15.264,18.224,22.4,16.912,18.648,23.429,9.324,11.994,14.682,17.604,21.522,6.909,17.094,20.86,28.042,35.945,13.992,15.432,19.744,24.288,17.776,10.346,12.936,17.85,25.298,30.807,18.891,20.421,12.504,14.92,19.432,22.616,20.848,10.143,12.621,15.365,20.958,10.528,13.944,11.277,12.978,17.031,25.935,11.416,13.968,16.656,9.555,11.963,14.924,20.972,22.008,19.053,23.886,33.264,4.936,12.936,19.376,10.843,12.117,13.272,12.488,16.48,20.584,29.072,10.409,12.425,16.268,24.983,32.508,12.424,14.88,18.272,27.12,11.375,13.811,16.954,25.935]  # Values from 1 to 60 (inclusive)\n",
        "fuel_2_range=[]\n",
        "for i in fuel_1_range:\n",
        "  fuel_2_range.append(i*0.4)\n",
        " # Values from 1 to 40 (inclusive)\n",
        "calorific_value1 = 35800\n",
        "brake_power = 4.16\n",
        "density1 = 958\n",
        "density2=713\n",
        "calorific_value2=39000\n",
        "# Assuming you have the formulas defined as functions, for example:\n",
        "def predict_efficiency(fuel_amount_1, fuel_amount_2, calorific_value1,calorific_value2, brake_power, density1,density2):\n",
        "    # Your formula to calculate efficiency based on the given inputs\n",
        "    mass_of_fuel1 = ((fuel_amount_1  * 0.000001) / 60) * density1\n",
        "    mass_of_fuel2=((fuel_amount_2  * 0.000001) / 60) * density2\n",
        "    heat_input = mass_of_fuel1 * calorific_value1 + mass_of_fuel2 * calorific_value2\n",
        "    efficiency = brake_power / heat_input\n",
        "    return heat_input\n",
        "    # Limit efficiency to a maximum value of 32\n",
        "    efficiency = min(efficiency, 32)\n",
        "\n",
        "    return efficiency\n",
        "\n",
        "# List to store combinations that meet the efficiency criteria\n",
        "efficient_combinations = []\n",
        "\n",
        "# Loop through all combinations of fuel_1 and fuel_2\n",
        "for fuel_amount_1 in fuel_1_range:\n",
        "      # Use the formula-based prediction function to get efficiency\n",
        "      predicted_efficiency = predict_efficiency(fuel_amount_1, fuel_amount_1*0.4, calorific_value1,calorific_value2 ,brake_power,density1,density2)\n",
        "      \"\"\"if 0 <= predicted_efficiency <= 24:\"\"\"\n",
        "      efficient_combinations.append((fuel_amount_1, fuel_amount_1*0.4, predicted_efficiency))\n",
        "\n",
        "# Print the combinations that meet the efficiency criteria\n",
        "if efficient_combinations:\n",
        "    for fuel_amount_1, fuel_amount_2, predicted_efficiency in efficient_combinations:\n",
        "        eff=(brake_power/predicted_efficiency)*100\n",
        "        if eff>=0 and eff<=24:\n",
        "          print(f\"For Fuel 1 amount = {fuel_amount_1}, Fuel 2 amount = {fuel_amount_2}, \"\n",
        "                f\"Brake power = {brake_power}, \"\n",
        "                f\"Heat Input = {predicted_efficiency}, \",f\"Efficiency={eff}\")\n",
        "\n",
        "else:\n",
        "    print(\"No combinations meet the efficiency criteria.\")"
      ],
      "metadata": {
        "colab": {
          "base_uri": "https://localhost:8080/"
        },
        "id": "WOK7Crj-oWnK",
        "outputId": "0b4599de-c1aa-4a92-a89a-1356b8cfa67d"
      },
      "execution_count": null,
      "outputs": [
        {
          "output_type": "stream",
          "name": "stdout",
          "text": [
            "For Fuel 1 amount = 28.18, Fuel 2 amount = 11.272, Brake power = 4.16, Heat Input = 21.331884266666663,  Efficiency=19.501324627475324\n",
            "For Fuel 1 amount = 27.43, Fuel 2 amount = 10.972000000000001, Brake power = 4.16, Heat Input = 20.76414426666667,  Efficiency=20.03453620132171\n",
            "For Fuel 1 amount = 41.24, Fuel 2 amount = 16.496000000000002, Brake power = 4.16, Heat Input = 31.218130133333332,  Efficiency=13.32558991276078\n",
            "For Fuel 1 amount = 26.28, Fuel 2 amount = 10.512, Brake power = 4.16, Heat Input = 19.893609599999998,  Efficiency=20.91123774742217\n",
            "For Fuel 1 amount = 33.83, Fuel 2 amount = 13.532, Brake power = 4.16, Heat Input = 25.60885893333333,  Efficiency=16.24437859894338\n",
            "For Fuel 1 amount = 27.756, Fuel 2 amount = 11.102400000000001, Brake power = 4.16, Heat Input = 21.01092192,  Efficiency=19.799226401580004\n",
            "For Fuel 1 amount = 26.955, Fuel 2 amount = 10.782, Brake power = 4.16, Heat Input = 20.4045756,  Efficiency=20.387584047570193\n",
            "For Fuel 1 amount = 23.429, Fuel 2 amount = 9.371599999999999, Brake power = 4.16, Heat Input = 17.73544061333333,  Efficiency=23.455859319742824\n",
            "For Fuel 1 amount = 28.042, Fuel 2 amount = 11.216800000000001, Brake power = 4.16, Heat Input = 21.227420106666663,  Efficiency=19.59729434427839\n",
            "For Fuel 1 amount = 35.945, Fuel 2 amount = 14.378, Brake power = 4.16, Heat Input = 27.209885733333337,  Efficiency=15.288561079489623\n",
            "For Fuel 1 amount = 24.288, Fuel 2 amount = 9.715200000000001, Brake power = 4.16, Heat Input = 18.385692159999998,  Efficiency=22.626289855165293\n",
            "For Fuel 1 amount = 25.298, Fuel 2 amount = 10.1192, Brake power = 4.16, Heat Input = 19.15024869333333,  Efficiency=21.722955490641734\n",
            "For Fuel 1 amount = 30.807, Fuel 2 amount = 12.3228, Brake power = 4.16, Heat Input = 23.320488239999996,  Efficiency=17.83839153446472\n",
            "For Fuel 1 amount = 25.935, Fuel 2 amount = 10.374, Brake power = 4.16, Heat Input = 19.6324492,  Efficiency=21.18940921543299\n",
            "For Fuel 1 amount = 23.886, Fuel 2 amount = 9.5544, Brake power = 4.16, Heat Input = 18.081383519999996,  Efficiency=23.007089006206762\n",
            "For Fuel 1 amount = 33.264, Fuel 2 amount = 13.305600000000002, Brake power = 4.16, Heat Input = 25.18040448,  Efficiency=16.520783068850847\n",
            "For Fuel 1 amount = 29.072, Fuel 2 amount = 11.6288, Brake power = 4.16, Heat Input = 22.007116373333332,  Efficiency=18.902976334695055\n",
            "For Fuel 1 amount = 24.983, Fuel 2 amount = 9.993200000000002, Brake power = 4.16, Heat Input = 18.911797893333336,  Efficiency=21.996850978755734\n",
            "For Fuel 1 amount = 32.508, Fuel 2 amount = 13.003200000000001, Brake power = 4.16, Heat Input = 24.60812256,  Efficiency=16.90498732626598\n",
            "For Fuel 1 amount = 27.12, Fuel 2 amount = 10.848, Brake power = 4.16, Heat Input = 20.529478400000002,  Efficiency=20.263544542855993\n",
            "For Fuel 1 amount = 25.935, Fuel 2 amount = 10.374, Brake power = 4.16, Heat Input = 19.6324492,  Efficiency=21.18940921543299\n"
          ]
        }
      ]
    },
    {
      "cell_type": "markdown",
      "source": [
        "DIESEL 10"
      ],
      "metadata": {
        "id": "QgdunhcUo0du"
      }
    },
    {
      "cell_type": "code",
      "source": [
        "#DIESEL 10\n",
        "fuel_1_range = [16.46,20.11,28.18,18.05,20.49,27.43,41.24,12.81,19.13,8.91,8.37,26.28,33.83,17.658,22.041,27.756,26.955,15.264,18.224,22.4,16.912,18.648,23.429,9.324,11.994,14.682,17.604,21.522,6.909,17.094,20.86,28.042,35.945,13.992,15.432,19.744,24.288,17.776,10.346,12.936,17.85,25.298,30.807,18.891,20.421,12.504,14.92,19.432,22.616,20.848,10.143,12.621,15.365,20.958,10.528,13.944,11.277,12.978,17.031,25.935,11.416,13.968,16.656,9.555,11.963,14.924,20.972,22.008,19.053,23.886,33.264,4.936,12.936,19.376,10.843,12.117,13.272,12.488,16.48,20.584,29.072,10.409,12.425,16.268,24.983,32.508,12.424,14.88,18.272,27.12,11.375,13.811,16.954,25.935]  # Values from 1 to 60 (inclusive)\n",
        "fuel_2_range=[]\n",
        "for i in fuel_1_range:\n",
        "  fuel_2_range.append(i*0.1)\n",
        " # Values from 1 to 40 (inclusive)\n",
        "calorific_value1 = 35800\n",
        "brake_power = 4.16\n",
        "density1 = 958\n",
        "density2=840\n",
        "calorific_value2=42500\n",
        "# Assuming you have the formulas defined as functions, for example:\n",
        "def predict_efficiency(fuel_amount_1, fuel_amount_2, calorific_value1,calorific_value2, brake_power, density1,density2):\n",
        "    # Your formula to calculate efficiency based on the given inputs\n",
        "    mass_of_fuel1 = ((fuel_amount_1  * 0.000001) / 60) * density1\n",
        "    mass_of_fuel2=((fuel_amount_2  * 0.000001) / 60) * density2\n",
        "    heat_input = mass_of_fuel1 * calorific_value1 + mass_of_fuel2 * calorific_value2\n",
        "    efficiency = brake_power / heat_input\n",
        "    return heat_input\n",
        "    # Limit efficiency to a maximum value of 32\n",
        "    efficiency = min(efficiency, 32)\n",
        "\n",
        "    return efficiency\n",
        "\n",
        "# List to store combinations that meet the efficiency criteria\n",
        "efficient_combinations = []\n",
        "\n",
        "# Loop through all combinations of fuel_1 and fuel_2\n",
        "for fuel_amount_1 in fuel_1_range:\n",
        "      # Use the formula-based prediction function to get efficiency\n",
        "      predicted_efficiency = predict_efficiency(fuel_amount_1, fuel_amount_1*0.1, calorific_value1,calorific_value2 ,brake_power,density1,density2)\n",
        "      \"\"\"if 0 <= predicted_efficiency <= 24:\"\"\"\n",
        "      efficient_combinations.append((fuel_amount_1, fuel_amount_1*0.1, predicted_efficiency))\n",
        "\n",
        "# Print the combinations that meet the efficiency criteria\n",
        "if efficient_combinations:\n",
        "    for fuel_amount_1, fuel_amount_2, predicted_efficiency in efficient_combinations:\n",
        "        eff=(brake_power/predicted_efficiency)*100\n",
        "        if eff>=0 and eff<=24:\n",
        "          print(f\"For Fuel 1 amount = {fuel_amount_1}, Fuel 2 amount = {fuel_amount_2}, \"\n",
        "                f\"Brake power = {brake_power}, \"\n",
        "                f\"Heat Input = {predicted_efficiency}, \",f\"Efficiency={eff}\")\n",
        "\n",
        "else:\n",
        "    print(\"No combinations meet the efficiency criteria.\")"
      ],
      "metadata": {
        "colab": {
          "base_uri": "https://localhost:8080/"
        },
        "id": "1iUUyuHLo81B",
        "outputId": "e8a464bb-e8e4-4380-9fe1-71ca1e5e9bf3"
      },
      "execution_count": null,
      "outputs": [
        {
          "output_type": "stream",
          "name": "stdout",
          "text": [
            "For Fuel 1 amount = 28.18, Fuel 2 amount = 2.818, Brake power = 4.16, Heat Input = 17.784585866666664,  Efficiency=23.391042283402363\n",
            "For Fuel 1 amount = 41.24, Fuel 2 amount = 4.1240000000000006, Brake power = 4.16, Heat Input = 26.02683893333333,  Efficiency=15.98350076494371\n",
            "For Fuel 1 amount = 33.83, Fuel 2 amount = 3.383, Brake power = 4.16, Heat Input = 21.350338533333332,  Efficiency=19.484468564773234\n",
            "For Fuel 1 amount = 27.756, Fuel 2 amount = 2.7756000000000003, Brake power = 4.16, Heat Input = 17.51699664,  Efficiency=23.74836329248734\n",
            "For Fuel 1 amount = 28.042, Fuel 2 amount = 2.8042000000000002, Brake power = 4.16, Heat Input = 17.697493146666666,  Efficiency=23.50615403845227\n",
            "For Fuel 1 amount = 35.945, Fuel 2 amount = 3.5945, Brake power = 4.16, Heat Input = 22.685129133333337,  Efficiency=18.338004494262858\n",
            "For Fuel 1 amount = 30.807, Fuel 2 amount = 3.0807, Brake power = 4.16, Heat Input = 19.442503079999994,  Efficiency=21.39642196728921\n",
            "For Fuel 1 amount = 33.264, Fuel 2 amount = 3.3264000000000005, Brake power = 4.16, Heat Input = 20.99313216,  Efficiency=19.816004435614435\n",
            "For Fuel 1 amount = 29.072, Fuel 2 amount = 2.9072, Brake power = 4.16, Heat Input = 18.34753301333333,  Efficiency=22.673347948069576\n",
            "For Fuel 1 amount = 32.508, Fuel 2 amount = 3.2508000000000004, Brake power = 4.16, Heat Input = 20.51601552,  Efficiency=20.276841748070584\n"
          ]
        }
      ]
    },
    {
      "cell_type": "markdown",
      "source": [
        "DIESEL 20"
      ],
      "metadata": {
        "id": "GoRr9AHKo0rN"
      }
    },
    {
      "cell_type": "code",
      "source": [
        "#DIESEL 20\n",
        "fuel_1_range = [16.46,20.11,28.18,18.05,20.49,27.43,41.24,12.81,19.13,8.91,8.37,26.28,33.83,17.658,22.041,27.756,26.955,15.264,18.224,22.4,16.912,18.648,23.429,9.324,11.994,14.682,17.604,21.522,6.909,17.094,20.86,28.042,35.945,13.992,15.432,19.744,24.288,17.776,10.346,12.936,17.85,25.298,30.807,18.891,20.421,12.504,14.92,19.432,22.616,20.848,10.143,12.621,15.365,20.958,10.528,13.944,11.277,12.978,17.031,25.935,11.416,13.968,16.656,9.555,11.963,14.924,20.972,22.008,19.053,23.886,33.264,4.936,12.936,19.376,10.843,12.117,13.272,12.488,16.48,20.584,29.072,10.409,12.425,16.268,24.983,32.508,12.424,14.88,18.272,27.12,11.375,13.811,16.954,25.935]  # Values from 1 to 60 (inclusive)\n",
        "fuel_2_range=[]\n",
        "for i in fuel_1_range:\n",
        "  fuel_2_range.append(i*0.2)\n",
        " # Values from 1 to 40 (inclusive)\n",
        "calorific_value1 = 35800\n",
        "brake_power = 4.16\n",
        "density1 = 958\n",
        "density2=840\n",
        "calorific_value2=42500\n",
        "# Assuming you have the formulas defined as functions, for example:\n",
        "def predict_efficiency(fuel_amount_1, fuel_amount_2, calorific_value1,calorific_value2, brake_power, density1,density2):\n",
        "    # Your formula to calculate efficiency based on the given inputs\n",
        "    mass_of_fuel1 = ((fuel_amount_1  * 0.000001) / 60) * density1\n",
        "    mass_of_fuel2=((fuel_amount_2  * 0.000001) / 60) * density2\n",
        "    heat_input = mass_of_fuel1 * calorific_value1 + mass_of_fuel2 * calorific_value2\n",
        "    efficiency = brake_power / heat_input\n",
        "    return heat_input\n",
        "    # Limit efficiency to a maximum value of 32\n",
        "    efficiency = min(efficiency, 32)\n",
        "\n",
        "    return efficiency\n",
        "\n",
        "# List to store combinations that meet the efficiency criteria\n",
        "efficient_combinations = []\n",
        "\n",
        "# Loop through all combinations of fuel_1 and fuel_2\n",
        "for fuel_amount_1 in fuel_1_range:\n",
        "      # Use the formula-based prediction function to get efficiency\n",
        "      predicted_efficiency = predict_efficiency(fuel_amount_1, fuel_amount_1*0.2, calorific_value1,calorific_value2 ,brake_power,density1,density2)\n",
        "      \"\"\"if 0 <= predicted_efficiency <= 24:\"\"\"\n",
        "      efficient_combinations.append((fuel_amount_1, fuel_amount_1*0.2, predicted_efficiency))\n",
        "\n",
        "# Print the combinations that meet the efficiency criteria\n",
        "if efficient_combinations:\n",
        "    for fuel_amount_1, fuel_amount_2, predicted_efficiency in efficient_combinations:\n",
        "        eff=(brake_power/predicted_efficiency)*100\n",
        "        if eff>=0 and eff<=24:\n",
        "          print(f\"For Fuel 1 amount = {fuel_amount_1}, Fuel 2 amount = {fuel_amount_2}, \"\n",
        "                f\"Brake power = {brake_power}, \"\n",
        "                f\"Heat Input = {predicted_efficiency}, \",f\"Efficiency={eff}\")\n",
        "\n",
        "else:\n",
        "    print(\"No combinations meet the efficiency criteria.\")"
      ],
      "metadata": {
        "colab": {
          "base_uri": "https://localhost:8080/"
        },
        "id": "qWB8bzjmpCWp",
        "outputId": "235b5dda-1543-4bc1-edfa-bba132663b67"
      },
      "execution_count": null,
      "outputs": [
        {
          "output_type": "stream",
          "name": "stdout",
          "text": [
            "For Fuel 1 amount = 28.18, Fuel 2 amount = 5.636, Brake power = 4.16, Heat Input = 19.461295866666664,  Efficiency=21.375760527464436\n",
            "For Fuel 1 amount = 27.43, Fuel 2 amount = 5.486000000000001, Brake power = 4.16, Heat Input = 18.943340866666666,  Efficiency=21.960223538605455\n",
            "For Fuel 1 amount = 41.24, Fuel 2 amount = 8.248000000000001, Brake power = 4.16, Heat Input = 28.480618933333332,  Efficiency=14.606424143160709\n",
            "For Fuel 1 amount = 26.28, Fuel 2 amount = 5.256, Brake power = 4.16, Heat Input = 18.149143199999997,  Efficiency=22.921192224655545\n",
            "For Fuel 1 amount = 33.83, Fuel 2 amount = 6.766, Brake power = 4.16, Heat Input = 23.363223533333333,  Efficiency=17.80576209470729\n",
            "For Fuel 1 amount = 27.756, Fuel 2 amount = 5.551200000000001, Brake power = 4.16, Heat Input = 19.16847864,  Efficiency=21.702296140075937\n",
            "For Fuel 1 amount = 26.955, Fuel 2 amount = 5.391, Brake power = 4.16, Heat Input = 18.6153027,  Efficiency=22.347205774956322\n",
            "For Fuel 1 amount = 28.042, Fuel 2 amount = 5.6084000000000005, Brake power = 4.16, Heat Input = 19.365992146666667,  Efficiency=21.480954698807064\n",
            "For Fuel 1 amount = 35.945, Fuel 2 amount = 7.189, Brake power = 4.16, Heat Input = 24.823856633333335,  Efficiency=16.75807293542767\n",
            "For Fuel 1 amount = 25.298, Fuel 2 amount = 5.0596, Brake power = 4.16, Heat Input = 17.47096745333333,  Efficiency=23.810930969402634\n",
            "For Fuel 1 amount = 30.807, Fuel 2 amount = 6.1614, Brake power = 4.16, Heat Input = 21.275519579999994,  Efficiency=19.552988985099095\n",
            "For Fuel 1 amount = 25.935, Fuel 2 amount = 5.187, Brake power = 4.16, Heat Input = 17.910883899999998,  Efficiency=23.22610108594362\n",
            "For Fuel 1 amount = 33.264, Fuel 2 amount = 6.652800000000001, Brake power = 4.16, Heat Input = 22.972340159999998,  Efficiency=18.108734116881546\n",
            "For Fuel 1 amount = 29.072, Fuel 2 amount = 5.8144, Brake power = 4.16, Heat Input = 20.07731701333333,  Efficiency=20.719899960922803\n",
            "For Fuel 1 amount = 32.508, Fuel 2 amount = 6.501600000000001, Brake power = 4.16, Heat Input = 22.450241520000002,  Efficiency=18.529867468436926\n",
            "For Fuel 1 amount = 27.12, Fuel 2 amount = 5.424, Brake power = 4.16, Heat Input = 18.7292528,  Efficiency=22.211243792918424\n",
            "For Fuel 1 amount = 25.935, Fuel 2 amount = 5.187, Brake power = 4.16, Heat Input = 17.910883899999998,  Efficiency=23.22610108594362\n"
          ]
        }
      ]
    },
    {
      "cell_type": "markdown",
      "source": [
        "DIESEL 30"
      ],
      "metadata": {
        "id": "cta2zbOapCvD"
      }
    },
    {
      "cell_type": "code",
      "source": [
        "#DIESEL 30\n",
        "fuel_1_range = [16.46,20.11,28.18,18.05,20.49,27.43,41.24,12.81,19.13,8.91,8.37,26.28,33.83,17.658,22.041,27.756,26.955,15.264,18.224,22.4,16.912,18.648,23.429,9.324,11.994,14.682,17.604,21.522,6.909,17.094,20.86,28.042,35.945,13.992,15.432,19.744,24.288,17.776,10.346,12.936,17.85,25.298,30.807,18.891,20.421,12.504,14.92,19.432,22.616,20.848,10.143,12.621,15.365,20.958,10.528,13.944,11.277,12.978,17.031,25.935,11.416,13.968,16.656,9.555,11.963,14.924,20.972,22.008,19.053,23.886,33.264,4.936,12.936,19.376,10.843,12.117,13.272,12.488,16.48,20.584,29.072,10.409,12.425,16.268,24.983,32.508,12.424,14.88,18.272,27.12,11.375,13.811,16.954,25.935]  # Values from 1 to 60 (inclusive)\n",
        "fuel_2_range=[]\n",
        "for i in fuel_1_range:\n",
        "  fuel_2_range.append(i*0.3)\n",
        " # Values from 1 to 40 (inclusive)\n",
        "calorific_value1 = 35800\n",
        "brake_power = 4.16\n",
        "density1 = 958\n",
        "density2=840\n",
        "calorific_value2=42500\n",
        "# Assuming you have the formulas defined as functions, for example:\n",
        "def predict_efficiency(fuel_amount_1, fuel_amount_2, calorific_value1,calorific_value2, brake_power, density1,density2):\n",
        "    # Your formula to calculate efficiency based on the given inputs\n",
        "    mass_of_fuel1 = ((fuel_amount_1  * 0.000001) / 60) * density1\n",
        "    mass_of_fuel2=((fuel_amount_2  * 0.000001) / 60) * density2\n",
        "    heat_input = mass_of_fuel1 * calorific_value1 + mass_of_fuel2 * calorific_value2\n",
        "    efficiency = brake_power / heat_input\n",
        "    return heat_input\n",
        "    # Limit efficiency to a maximum value of 32\n",
        "    efficiency = min(efficiency, 32)\n",
        "\n",
        "    return efficiency\n",
        "\n",
        "# List to store combinations that meet the efficiency criteria\n",
        "efficient_combinations = []\n",
        "\n",
        "# Loop through all combinations of fuel_1 and fuel_2\n",
        "for fuel_amount_1 in fuel_1_range:\n",
        "      # Use the formula-based prediction function to get efficiency\n",
        "      predicted_efficiency = predict_efficiency(fuel_amount_1, fuel_amount_1*0.3, calorific_value1,calorific_value2 ,brake_power,density1,density2)\n",
        "      \"\"\"if 0 <= predicted_efficiency <= 24:\"\"\"\n",
        "      efficient_combinations.append((fuel_amount_1, fuel_amount_1*0.3, predicted_efficiency))\n",
        "\n",
        "# Print the combinations that meet the efficiency criteria\n",
        "if efficient_combinations:\n",
        "    for fuel_amount_1, fuel_amount_2, predicted_efficiency in efficient_combinations:\n",
        "        eff=(brake_power/predicted_efficiency)*100\n",
        "        if eff>=0 and eff<=24:\n",
        "          print(f\"For Fuel 1 amount = {fuel_amount_1}, Fuel 2 amount = {fuel_amount_2}, \"\n",
        "                f\"Brake power = {brake_power}, \"\n",
        "                f\"Heat Input = {predicted_efficiency}, \",f\"Efficiency={eff}\")\n",
        "\n",
        "else:\n",
        "    print(\"No combinations meet the efficiency criteria.\")"
      ],
      "metadata": {
        "colab": {
          "base_uri": "https://localhost:8080/"
        },
        "id": "y8oiOL9EpD9W",
        "outputId": "58da1879-9e6e-4e86-b5f4-e740d733ceb3"
      },
      "execution_count": null,
      "outputs": [
        {
          "output_type": "stream",
          "name": "stdout",
          "text": [
            "For Fuel 1 amount = 28.18, Fuel 2 amount = 8.453999999999999, Brake power = 4.16, Heat Input = 21.138005866666663,  Efficiency=19.680191339903374\n",
            "For Fuel 1 amount = 27.43, Fuel 2 amount = 8.229, Brake power = 4.16, Heat Input = 20.575425866666667,  Efficiency=20.218293545697303\n",
            "For Fuel 1 amount = 41.24, Fuel 2 amount = 12.372, Brake power = 4.16, Heat Input = 30.93439893333333,  Efficiency=13.447812608110501\n",
            "For Fuel 1 amount = 26.28, Fuel 2 amount = 7.884, Brake power = 4.16, Heat Input = 19.712803199999996,  Efficiency=21.103036223686345\n",
            "For Fuel 1 amount = 33.83, Fuel 2 amount = 10.149, Brake power = 4.16, Heat Input = 25.37610853333333,  Efficiency=16.393372508379457\n",
            "For Fuel 1 amount = 27.756, Fuel 2 amount = 8.3268, Brake power = 4.16, Heat Input = 20.819960639999998,  Efficiency=19.980825477679677\n",
            "For Fuel 1 amount = 26.955, Fuel 2 amount = 8.0865, Brake power = 4.16, Heat Input = 20.2191252,  Efficiency=20.574579556983007\n",
            "For Fuel 1 amount = 23.429, Fuel 2 amount = 7.0287, Brake power = 4.16, Heat Input = 17.574249093333332,  Efficiency=23.670997138523926\n",
            "For Fuel 1 amount = 28.042, Fuel 2 amount = 8.4126, Brake power = 4.16, Heat Input = 21.034491146666664,  Efficiency=19.777041293719318\n",
            "For Fuel 1 amount = 35.945, Fuel 2 amount = 10.7835, Brake power = 4.16, Heat Input = 26.962584133333337,  Efficiency=15.428788203045679\n",
            "For Fuel 1 amount = 24.288, Fuel 2 amount = 7.2863999999999995, Brake power = 4.16, Heat Input = 18.218590719999998,  Efficiency=22.833818838870105\n",
            "For Fuel 1 amount = 25.298, Fuel 2 amount = 7.5893999999999995, Brake power = 4.16, Heat Input = 18.97619845333333,  Efficiency=21.92219906547858\n",
            "For Fuel 1 amount = 30.807, Fuel 2 amount = 9.242099999999999, Brake power = 4.16, Heat Input = 23.108536079999993,  Efficiency=18.00200577655978\n",
            "For Fuel 1 amount = 25.935, Fuel 2 amount = 7.780499999999999, Brake power = 4.16, Heat Input = 19.4540164,  Efficiency=21.383759088431734\n",
            "For Fuel 1 amount = 23.886, Fuel 2 amount = 7.1658, Brake power = 4.16, Heat Input = 17.917047839999995,  Efficiency=23.21811069071746\n",
            "For Fuel 1 amount = 33.264, Fuel 2 amount = 9.9792, Brake power = 4.16, Heat Input = 24.951548159999998,  Efficiency=16.672312168063886\n",
            "For Fuel 1 amount = 29.072, Fuel 2 amount = 8.721599999999999, Brake power = 4.16, Heat Input = 21.80710101333333,  Efficiency=19.0763549793092\n",
            "For Fuel 1 amount = 24.983, Fuel 2 amount = 7.4948999999999995, Brake power = 4.16, Heat Input = 18.73991485333333,  Efficiency=22.198606730916108\n",
            "For Fuel 1 amount = 32.508, Fuel 2 amount = 9.7524, Brake power = 4.16, Heat Input = 24.38446752,  Efficiency=17.060040358018856\n",
            "For Fuel 1 amount = 27.12, Fuel 2 amount = 8.136, Brake power = 4.16, Heat Input = 20.3428928,  Efficiency=20.44940235835092\n",
            "For Fuel 1 amount = 25.935, Fuel 2 amount = 7.780499999999999, Brake power = 4.16, Heat Input = 19.4540164,  Efficiency=21.383759088431734\n"
          ]
        }
      ]
    },
    {
      "cell_type": "markdown",
      "source": [
        "DIESEL 40"
      ],
      "metadata": {
        "id": "RWCQfpwGpEeK"
      }
    },
    {
      "cell_type": "code",
      "source": [
        "#DIESEL 40\n",
        "fuel_1_range = [16.46,20.11,28.18,18.05,20.49,27.43,41.24,12.81,19.13,8.91,8.37,26.28,33.83,17.658,22.041,27.756,26.955,15.264,18.224,22.4,16.912,18.648,23.429,9.324,11.994,14.682,17.604,21.522,6.909,17.094,20.86,28.042,35.945,13.992,15.432,19.744,24.288,17.776,10.346,12.936,17.85,25.298,30.807,18.891,20.421,12.504,14.92,19.432,22.616,20.848,10.143,12.621,15.365,20.958,10.528,13.944,11.277,12.978,17.031,25.935,11.416,13.968,16.656,9.555,11.963,14.924,20.972,22.008,19.053,23.886,33.264,4.936,12.936,19.376,10.843,12.117,13.272,12.488,16.48,20.584,29.072,10.409,12.425,16.268,24.983,32.508,12.424,14.88,18.272,27.12,11.375,13.811,16.954,25.935]  # Values from 1 to 60 (inclusive)\n",
        "fuel_2_range=[]\n",
        "for i in fuel_1_range:\n",
        "  fuel_2_range.append(i*0.4)\n",
        " # Values from 1 to 40 (inclusive)\n",
        "calorific_value1 = 35800\n",
        "brake_power = 4.16\n",
        "density1 = 958\n",
        "density2=840\n",
        "calorific_value2=42500\n",
        "# Assuming you have the formulas defined as functions, for example:\n",
        "def predict_efficiency(fuel_amount_1, fuel_amount_2, calorific_value1,calorific_value2, brake_power, density1,density2):\n",
        "    # Your formula to calculate efficiency based on the given inputs\n",
        "    mass_of_fuel1 = ((fuel_amount_1  * 0.000001) / 60) * density1\n",
        "    mass_of_fuel2=((fuel_amount_2  * 0.000001) / 60) * density2\n",
        "    heat_input = mass_of_fuel1 * calorific_value1 + mass_of_fuel2 * calorific_value2\n",
        "    efficiency = brake_power / heat_input\n",
        "    return heat_input\n",
        "    # Limit efficiency to a maximum value of 32\n",
        "    efficiency = min(efficiency, 32)\n",
        "\n",
        "    return efficiency\n",
        "\n",
        "# List to store combinations that meet the efficiency criteria\n",
        "efficient_combinations = []\n",
        "\n",
        "# Loop through all combinations of fuel_1 and fuel_2\n",
        "for fuel_amount_1 in fuel_1_range:\n",
        "      # Use the formula-based prediction function to get efficiency\n",
        "      predicted_efficiency = predict_efficiency(fuel_amount_1, fuel_amount_1*0.4, calorific_value1,calorific_value2 ,brake_power,density1,density2)\n",
        "      \"\"\"if 0 <= predicted_efficiency <= 24:\"\"\"\n",
        "      efficient_combinations.append((fuel_amount_1, fuel_amount_1*0.4, predicted_efficiency))\n",
        "\n",
        "# Print the combinations that meet the efficiency criteria\n",
        "if efficient_combinations:\n",
        "    for fuel_amount_1, fuel_amount_2, predicted_efficiency in efficient_combinations:\n",
        "        eff=(brake_power/predicted_efficiency)*100\n",
        "        if eff>=0 and eff<=24:\n",
        "          print(f\"For Fuel 1 amount = {fuel_amount_1}, Fuel 2 amount = {fuel_amount_2}, \"\n",
        "                f\"Brake power = {brake_power}, \"\n",
        "                f\"Heat Input = {predicted_efficiency}, \",f\"Efficiency={eff}\")\n",
        "\n",
        "else:\n",
        "    print(\"No combinations meet the efficiency criteria.\")"
      ],
      "metadata": {
        "colab": {
          "base_uri": "https://localhost:8080/"
        },
        "id": "iix0bqjwpVC5",
        "outputId": "3e169a93-ff1b-406a-9461-8642057fb0cf"
      },
      "execution_count": null,
      "outputs": [
        {
          "output_type": "stream",
          "name": "stdout",
          "text": [
            "For Fuel 1 amount = 28.18, Fuel 2 amount = 11.272, Brake power = 4.16, Heat Input = 22.814715866666663,  Efficiency=18.233845314190166\n",
            "For Fuel 1 amount = 27.43, Fuel 2 amount = 10.972000000000001, Brake power = 4.16, Heat Input = 22.207510866666667,  Efficiency=18.73240105555519\n",
            "For Fuel 1 amount = 41.24, Fuel 2 amount = 16.496000000000002, Brake power = 4.16, Heat Input = 33.388178933333336,  Efficiency=12.45949953816389\n",
            "For Fuel 1 amount = 26.28, Fuel 2 amount = 10.512, Brake power = 4.16, Heat Input = 21.2764632,  Efficiency=19.55212180189798\n",
            "For Fuel 1 amount = 33.83, Fuel 2 amount = 13.532, Brake power = 4.16, Heat Input = 27.38899353333333,  Efficiency=15.188582942769107\n",
            "For Fuel 1 amount = 22.041, Fuel 2 amount = 8.8164, Brake power = 4.16, Heat Input = 17.84454054,  Efficiency=23.312452291360593\n",
            "For Fuel 1 amount = 27.756, Fuel 2 amount = 11.102400000000001, Brake power = 4.16, Heat Input = 22.47144264,  Efficiency=18.51238510426138\n",
            "For Fuel 1 amount = 26.955, Fuel 2 amount = 10.782, Brake power = 4.16, Heat Input = 21.8229477,  Efficiency=19.06250272505579\n",
            "For Fuel 1 amount = 22.4, Fuel 2 amount = 8.959999999999999, Brake power = 4.16, Heat Input = 18.135189333333333,  Efficiency=22.93882861401245\n",
            "For Fuel 1 amount = 23.429, Fuel 2 amount = 9.371599999999999, Brake power = 4.16, Heat Input = 18.968274593333334,  Efficiency=21.93135690613679\n",
            "For Fuel 1 amount = 21.522, Fuel 2 amount = 8.6088, Brake power = 4.16, Heat Input = 17.424354679999997,  Efficiency=23.874628796295834\n",
            "For Fuel 1 amount = 28.042, Fuel 2 amount = 11.216800000000001, Brake power = 4.16, Heat Input = 22.702990146666664,  Efficiency=18.323577524922577\n",
            "For Fuel 1 amount = 35.945, Fuel 2 amount = 14.378, Brake power = 4.16, Heat Input = 29.10131163333334,  Efficiency=14.294888328109021\n",
            "For Fuel 1 amount = 24.288, Fuel 2 amount = 9.715200000000001, Brake power = 4.16, Heat Input = 19.66372672,  Efficiency=21.155704914108977\n",
            "For Fuel 1 amount = 25.298, Fuel 2 amount = 10.1192, Brake power = 4.16, Heat Input = 20.48142945333333,  Efficiency=20.311082336701674\n",
            "For Fuel 1 amount = 30.807, Fuel 2 amount = 12.3228, Brake power = 4.16, Heat Input = 24.941552579999996,  Efficiency=16.678993766153113\n",
            "For Fuel 1 amount = 22.616, Fuel 2 amount = 9.0464, Brake power = 4.16, Heat Input = 18.310064373333333,  Efficiency=22.719745355229875\n",
            "For Fuel 1 amount = 25.935, Fuel 2 amount = 10.374, Brake power = 4.16, Heat Input = 20.9971489,  Efficiency=19.81221364773005\n",
            "For Fuel 1 amount = 22.008, Fuel 2 amount = 8.8032, Brake power = 4.16, Heat Input = 17.817823519999997,  Efficiency=23.34740825853685\n",
            "For Fuel 1 amount = 23.886, Fuel 2 amount = 9.5544, Brake power = 4.16, Heat Input = 19.338264839999997,  Efficiency=21.511754205554674\n",
            "For Fuel 1 amount = 33.264, Fuel 2 amount = 13.305600000000002, Brake power = 4.16, Heat Input = 26.930756159999998,  Efficiency=15.447022635698621\n",
            "For Fuel 1 amount = 29.072, Fuel 2 amount = 11.6288, Brake power = 4.16, Heat Input = 23.536885013333332,  Efficiency=17.674386383939147\n",
            "For Fuel 1 amount = 24.983, Fuel 2 amount = 9.993200000000002, Brake power = 4.16, Heat Input = 20.226403353333335,  Efficiency=20.567176117915334\n",
            "For Fuel 1 amount = 32.508, Fuel 2 amount = 13.003200000000001, Brake power = 4.16, Heat Input = 26.318693520000004,  Efficiency=15.806255720249748\n",
            "For Fuel 1 amount = 27.12, Fuel 2 amount = 10.848, Brake power = 4.16, Heat Input = 21.9565328,  Efficiency=18.946525108918834\n",
            "For Fuel 1 amount = 25.935, Fuel 2 amount = 10.374, Brake power = 4.16, Heat Input = 20.9971489,  Efficiency=19.81221364773005\n"
          ]
        }
      ]
    },
    {
      "cell_type": "markdown",
      "source": [
        "ETHANOL 10"
      ],
      "metadata": {
        "id": "pE0RwMheMHRP"
      }
    },
    {
      "cell_type": "code",
      "source": [
        "#ETHANOL 10\n",
        "fuel_1_range = [16.46,20.11,28.18,18.05,20.49,27.43,41.24,12.81,19.13,8.91,8.37,26.28,33.83,17.658,22.041,27.756,26.955,15.264,18.224,22.4,16.912,18.648,23.429,9.324,11.994,14.682,17.604,21.522,6.909,17.094,20.86,28.042,35.945,13.992,15.432,19.744,24.288,17.776,10.346,12.936,17.85,25.298,30.807,18.891,20.421,12.504,14.92,19.432,22.616,20.848,10.143,12.621,15.365,20.958,10.528,13.944,11.277,12.978,17.031,25.935,11.416,13.968,16.656,9.555,11.963,14.924,20.972,22.008,19.053,23.886,33.264,4.936,12.936,19.376,10.843,12.117,13.272,12.488,16.48,20.584,29.072,10.409,12.425,16.268,24.983,32.508,12.424,14.88,18.272,27.12,11.375,13.811,16.954,25.935]  # Values from 1 to 60 (inclusive)\n",
        "fuel_2_range=[]\n",
        "for i in fuel_1_range:\n",
        "  fuel_2_range.append(i*0.1)\n",
        " # Values from 1 to 40 (inclusive)\n",
        "calorific_value1 = 35800\n",
        "brake_power = 4.16\n",
        "density1 = 958\n",
        "density2=790\n",
        "calorific_value2=26700\n",
        "# Assuming you have the formulas defined as functions, for example:\n",
        "def predict_efficiency(fuel_amount_1, fuel_amount_2, calorific_value1,calorific_value2, brake_power, density1,density2):\n",
        "    # Your formula to calculate efficiency based on the given inputs\n",
        "    mass_of_fuel1 = ((fuel_amount_1  * 0.000001) / 60) * density1\n",
        "    mass_of_fuel2=((fuel_amount_2  * 0.000001) / 60) * density2\n",
        "    heat_input = mass_of_fuel1 * calorific_value1 + mass_of_fuel2 * calorific_value2\n",
        "    efficiency = brake_power / heat_input\n",
        "    return heat_input\n",
        "    # Limit efficiency to a maximum value of 32\n",
        "    efficiency = min(efficiency, 32)\n",
        "\n",
        "    return efficiency\n",
        "\n",
        "# List to store combinations that meet the efficiency criteria\n",
        "efficient_combinations = []\n",
        "\n",
        "# Loop through all combinations of fuel_1 and fuel_2\n",
        "for fuel_amount_1 in fuel_1_range:\n",
        "      # Use the formula-based prediction function to get efficiency\n",
        "      predicted_efficiency = predict_efficiency(fuel_amount_1, fuel_amount_1*0.1, calorific_value1,calorific_value2 ,brake_power,density1,density2)\n",
        "      \"\"\"if 0 <= predicted_efficiency <= 24:\"\"\"\n",
        "      efficient_combinations.append((fuel_amount_1, fuel_amount_1*0.1, predicted_efficiency))\n",
        "\n",
        "# Print the combinations that meet the efficiency criteria\n",
        "if efficient_combinations:\n",
        "    for fuel_amount_1, fuel_amount_2, predicted_efficiency in efficient_combinations:\n",
        "        eff=(brake_power/predicted_efficiency)*100\n",
        "        if eff>=0 and eff<=24:\n",
        "          print(f\"For Fuel 1 amount = {fuel_amount_1}, Fuel 2 amount = {fuel_amount_2}, \"\n",
        "                f\"Brake power = {brake_power}, \"\n",
        "                f\"Heat Input = {predicted_efficiency}, \",f\"Efficiency={eff}\")\n",
        "\n",
        "else:\n",
        "    print(\"No combinations meet the efficiency criteria.\")"
      ],
      "metadata": {
        "colab": {
          "base_uri": "https://localhost:8080/"
        },
        "id": "cOpHTpFJM1u-",
        "outputId": "f69fa684-1582-4e7c-9338-4a103d369019"
      },
      "execution_count": null,
      "outputs": [
        {
          "output_type": "stream",
          "name": "stdout",
          "text": [
            "For Fuel 1 amount = 41.24, Fuel 2 amount = 4.1240000000000006, Brake power = 4.16, Heat Input = 25.022851133333333,  Efficiency=16.624804175325963\n",
            "For Fuel 1 amount = 33.83, Fuel 2 amount = 3.383, Brake power = 4.16, Heat Input = 20.52674718333333,  Efficiency=20.266240738706557\n",
            "For Fuel 1 amount = 35.945, Fuel 2 amount = 3.5945, Brake power = 4.16, Heat Input = 21.810048108333337,  Efficiency=19.073777276128602\n",
            "For Fuel 1 amount = 30.807, Fuel 2 amount = 3.0807, Brake power = 4.16, Heat Input = 18.692506664999996,  Efficiency=22.254907137677893\n",
            "For Fuel 1 amount = 33.264, Fuel 2 amount = 3.3264000000000005, Brake power = 4.16, Heat Input = 20.183320079999998,  Efficiency=20.611078769553956\n",
            "For Fuel 1 amount = 29.072, Fuel 2 amount = 2.9072, Brake power = 4.16, Heat Input = 17.63977517333333,  Efficiency=23.583067012604666\n",
            "For Fuel 1 amount = 32.508, Fuel 2 amount = 3.2508000000000004, Brake power = 4.16, Heat Input = 19.72460826,  Efficiency=21.090406182799395\n"
          ]
        }
      ]
    },
    {
      "cell_type": "markdown",
      "source": [
        "ethanol 20"
      ],
      "metadata": {
        "id": "CcEMsW_IM_bA"
      }
    },
    {
      "cell_type": "code",
      "source": [
        "#ETHANOL 20\n",
        "fuel_1_range = [16.46,20.11,28.18,18.05,20.49,27.43,41.24,12.81,19.13,8.91,8.37,26.28,33.83,17.658,22.041,27.756,26.955,15.264,18.224,22.4,16.912,18.648,23.429,9.324,11.994,14.682,17.604,21.522,6.909,17.094,20.86,28.042,35.945,13.992,15.432,19.744,24.288,17.776,10.346,12.936,17.85,25.298,30.807,18.891,20.421,12.504,14.92,19.432,22.616,20.848,10.143,12.621,15.365,20.958,10.528,13.944,11.277,12.978,17.031,25.935,11.416,13.968,16.656,9.555,11.963,14.924,20.972,22.008,19.053,23.886,33.264,4.936,12.936,19.376,10.843,12.117,13.272,12.488,16.48,20.584,29.072,10.409,12.425,16.268,24.983,32.508,12.424,14.88,18.272,27.12,11.375,13.811,16.954,25.935]  # Values from 1 to 60 (inclusive)\n",
        "fuel_2_range=[]\n",
        "for i in fuel_1_range:\n",
        "  fuel_2_range.append(i*0.2)\n",
        " # Values from 1 to 40 (inclusive)\n",
        "calorific_value1 = 35800\n",
        "brake_power = 4.16\n",
        "density1 = 958\n",
        "density2=790\n",
        "calorific_value2=26700\n",
        "# Assuming you have the formulas defined as functions, for example:\n",
        "def predict_efficiency(fuel_amount_1, fuel_amount_2, calorific_value1,calorific_value2, brake_power, density1,density2):\n",
        "    # Your formula to calculate efficiency based on the given inputs\n",
        "    mass_of_fuel1 = ((fuel_amount_1  * 0.000001) / 60) * density1\n",
        "    mass_of_fuel2=((fuel_amount_2  * 0.000001) / 60) * density2\n",
        "    heat_input = mass_of_fuel1 * calorific_value1 + mass_of_fuel2 * calorific_value2\n",
        "    efficiency = brake_power / heat_input\n",
        "    return heat_input\n",
        "    # Limit efficiency to a maximum value of 32\n",
        "    efficiency = min(efficiency, 32)\n",
        "\n",
        "    return efficiency\n",
        "\n",
        "# List to store combinations that meet the efficiency criteria\n",
        "efficient_combinations = []\n",
        "\n",
        "# Loop through all combinations of fuel_1 and fuel_2\n",
        "for fuel_amount_1 in fuel_1_range:\n",
        "      # Use the formula-based prediction function to get efficiency\n",
        "      predicted_efficiency = predict_efficiency(fuel_amount_1, fuel_amount_1*0.2, calorific_value1,calorific_value2 ,brake_power,density1,density2)\n",
        "      \"\"\"if 0 <= predicted_efficiency <= 24:\"\"\"\n",
        "      efficient_combinations.append((fuel_amount_1, fuel_amount_1*0.2, predicted_efficiency))\n",
        "\n",
        "# Print the combinations that meet the efficiency criteria\n",
        "if efficient_combinations:\n",
        "    for fuel_amount_1, fuel_amount_2, predicted_efficiency in efficient_combinations:\n",
        "        eff=(brake_power/predicted_efficiency)*100\n",
        "        if eff>=0 and eff<=24:\n",
        "          print(f\"For Fuel 1 amount = {fuel_amount_1}, Fuel 2 amount = {fuel_amount_2}, \"\n",
        "                f\"Brake power = {brake_power}, \"\n",
        "                f\"Heat Input = {predicted_efficiency}, \",f\"Efficiency={eff}\")\n",
        "\n",
        "else:\n",
        "    print(\"No combinations meet the efficiency criteria.\")"
      ],
      "metadata": {
        "colab": {
          "base_uri": "https://localhost:8080/"
        },
        "id": "H0ho0saxNAog",
        "outputId": "c65eb5bd-29ea-4ff7-b2ac-28fcc0e4bde0"
      },
      "execution_count": null,
      "outputs": [
        {
          "output_type": "stream",
          "name": "stdout",
          "text": [
            "For Fuel 1 amount = 28.18, Fuel 2 amount = 5.636, Brake power = 4.16, Heat Input = 18.089211666666664,  Efficiency=22.997132637160256\n",
            "For Fuel 1 amount = 27.43, Fuel 2 amount = 5.486000000000001, Brake power = 4.16, Heat Input = 17.60777416666667,  Efficiency=23.625927732963028\n",
            "For Fuel 1 amount = 41.24, Fuel 2 amount = 8.248000000000001, Brake power = 4.16, Heat Input = 26.47264333333333,  Efficiency=15.71433554110514\n",
            "For Fuel 1 amount = 33.83, Fuel 2 amount = 6.766, Brake power = 4.16, Heat Input = 21.71604083333333,  Efficiency=19.15634637053432\n",
            "For Fuel 1 amount = 27.756, Fuel 2 amount = 5.551200000000001, Brake power = 4.16, Heat Input = 17.817038999999998,  Efficiency=23.348436291799107\n",
            "For Fuel 1 amount = 28.042, Fuel 2 amount = 5.6084000000000005, Brake power = 4.16, Heat Input = 18.000627166666664,  Efficiency=23.110305888138363\n",
            "For Fuel 1 amount = 35.945, Fuel 2 amount = 7.189, Brake power = 4.16, Heat Input = 23.073694583333335,  Efficiency=18.029188975244843\n",
            "For Fuel 1 amount = 30.807, Fuel 2 amount = 6.1614, Brake power = 4.16, Heat Input = 19.775526749999994,  Efficiency=21.036102110402705\n",
            "For Fuel 1 amount = 33.264, Fuel 2 amount = 6.652800000000001, Brake power = 4.16, Heat Input = 21.352715999999997,  Efficiency=19.482299113611592\n",
            "For Fuel 1 amount = 29.072, Fuel 2 amount = 5.8144, Brake power = 4.16, Heat Input = 18.66180133333333,  Efficiency=22.291524412327192\n",
            "For Fuel 1 amount = 32.508, Fuel 2 amount = 6.501600000000001, Brake power = 4.16, Heat Input = 20.867427,  Efficiency=19.93537583718395\n",
            "For Fuel 1 amount = 27.12, Fuel 2 amount = 5.424, Brake power = 4.16, Heat Input = 17.40878,  Efficiency=23.895988116341297\n"
          ]
        }
      ]
    },
    {
      "cell_type": "markdown",
      "source": [
        "ETHANOL 30"
      ],
      "metadata": {
        "id": "HCmYhFj7NA-O"
      }
    },
    {
      "cell_type": "code",
      "source": [
        "#ETHANOL 30\n",
        "fuel_1_range = [16.46,20.11,28.18,18.05,20.49,27.43,41.24,12.81,19.13,8.91,8.37,26.28,33.83,17.658,22.041,27.756,26.955,15.264,18.224,22.4,16.912,18.648,23.429,9.324,11.994,14.682,17.604,21.522,6.909,17.094,20.86,28.042,35.945,13.992,15.432,19.744,24.288,17.776,10.346,12.936,17.85,25.298,30.807,18.891,20.421,12.504,14.92,19.432,22.616,20.848,10.143,12.621,15.365,20.958,10.528,13.944,11.277,12.978,17.031,25.935,11.416,13.968,16.656,9.555,11.963,14.924,20.972,22.008,19.053,23.886,33.264,4.936,12.936,19.376,10.843,12.117,13.272,12.488,16.48,20.584,29.072,10.409,12.425,16.268,24.983,32.508,12.424,14.88,18.272,27.12,11.375,13.811,16.954,25.935]  # Values from 1 to 60 (inclusive)\n",
        "fuel_2_range=[]\n",
        "for i in fuel_1_range:\n",
        "  fuel_2_range.append(i*0.3)\n",
        " # Values from 1 to 40 (inclusive)\n",
        "calorific_value1 = 35800\n",
        "brake_power = 4.16\n",
        "density1 = 958\n",
        "density2=790\n",
        "calorific_value2=26700\n",
        "# Assuming you have the formulas defined as functions, for example:\n",
        "def predict_efficiency(fuel_amount_1, fuel_amount_2, calorific_value1,calorific_value2, brake_power, density1,density2):\n",
        "    # Your formula to calculate efficiency based on the given inputs\n",
        "    mass_of_fuel1 = ((fuel_amount_1  * 0.000001) / 60) * density1\n",
        "    mass_of_fuel2=((fuel_amount_2  * 0.000001) / 60) * density2\n",
        "    heat_input = mass_of_fuel1 * calorific_value1 + mass_of_fuel2 * calorific_value2\n",
        "    efficiency = brake_power / heat_input\n",
        "    return heat_input\n",
        "    # Limit efficiency to a maximum value of 32\n",
        "    efficiency = min(efficiency, 32)\n",
        "\n",
        "    return efficiency\n",
        "\n",
        "# List to store combinations that meet the efficiency criteria\n",
        "efficient_combinations = []\n",
        "\n",
        "# Loop through all combinations of fuel_1 and fuel_2\n",
        "for fuel_amount_1 in fuel_1_range:\n",
        "      # Use the formula-based prediction function to get efficiency\n",
        "      predicted_efficiency = predict_efficiency(fuel_amount_1, fuel_amount_1*0.3, calorific_value1,calorific_value2 ,brake_power,density1,density2)\n",
        "      \"\"\"if 0 <= predicted_efficiency <= 24:\"\"\"\n",
        "      efficient_combinations.append((fuel_amount_1, fuel_amount_1*0.3, predicted_efficiency))\n",
        "\n",
        "# Print the combinations that meet the efficiency criteria\n",
        "if efficient_combinations:\n",
        "    for fuel_amount_1, fuel_amount_2, predicted_efficiency in efficient_combinations:\n",
        "        eff=(brake_power/predicted_efficiency)*100\n",
        "        if eff>=0 and eff<=24:\n",
        "          print(f\"For Fuel 1 amount = {fuel_amount_1}, Fuel 2 amount = {fuel_amount_2}, \"\n",
        "                f\"Brake power = {brake_power}, \"\n",
        "                f\"Heat Input = {predicted_efficiency}, \",f\"Efficiency={eff}\")\n",
        "\n",
        "else:\n",
        "    print(\"No combinations meet the efficiency criteria.\")"
      ],
      "metadata": {
        "colab": {
          "base_uri": "https://localhost:8080/"
        },
        "id": "c9rqsHB1NDUS",
        "outputId": "baae5807-3d13-464d-a144-d03a03b047eb"
      },
      "execution_count": null,
      "outputs": [
        {
          "output_type": "stream",
          "name": "stdout",
          "text": [
            "For Fuel 1 amount = 28.18, Fuel 2 amount = 8.453999999999999, Brake power = 4.16, Heat Input = 19.079879566666662,  Efficiency=21.80307263190325\n",
            "For Fuel 1 amount = 27.43, Fuel 2 amount = 8.229, Brake power = 4.16, Heat Input = 18.57207581666667,  Efficiency=22.399219349873622\n",
            "For Fuel 1 amount = 41.24, Fuel 2 amount = 12.372, Brake power = 4.16, Heat Input = 27.92243553333333,  Efficiency=14.898413840131756\n",
            "For Fuel 1 amount = 26.28, Fuel 2 amount = 7.884, Brake power = 4.16, Heat Input = 17.793443399999997,  Efficiency=23.379398278806455\n",
            "For Fuel 1 amount = 33.83, Fuel 2 amount = 10.149, Brake power = 4.16, Heat Input = 22.90533448333333,  Efficiency=18.161708151552872\n",
            "For Fuel 1 amount = 27.756, Fuel 2 amount = 8.3268, Brake power = 4.16, Heat Input = 18.792801179999998,  Efficiency=22.136135854122845\n",
            "For Fuel 1 amount = 26.955, Fuel 2 amount = 8.0865, Brake power = 4.16, Heat Input = 18.250466775,  Efficiency=22.79393755396155\n",
            "For Fuel 1 amount = 28.042, Fuel 2 amount = 8.4126, Brake power = 4.16, Heat Input = 18.986443676666664,  Efficiency=21.91036968714905\n",
            "For Fuel 1 amount = 35.945, Fuel 2 amount = 10.7835, Brake power = 4.16, Heat Input = 24.337341058333337,  Efficiency=17.093075163918027\n",
            "For Fuel 1 amount = 30.807, Fuel 2 amount = 9.242099999999999, Brake power = 4.16, Heat Input = 20.858546834999995,  Efficiency=19.94386297812295\n",
            "For Fuel 1 amount = 25.935, Fuel 2 amount = 7.780499999999999, Brake power = 4.16, Heat Input = 17.559853675,  Efficiency=23.690402420167093\n",
            "For Fuel 1 amount = 33.264, Fuel 2 amount = 9.9792, Brake power = 4.16, Heat Input = 22.52211192,  Efficiency=18.470736735420683\n",
            "For Fuel 1 amount = 29.072, Fuel 2 amount = 8.721599999999999, Brake power = 4.16, Heat Input = 19.68382749333333,  Efficiency=21.134101085822568\n",
            "For Fuel 1 amount = 32.508, Fuel 2 amount = 9.7524, Brake power = 4.16, Heat Input = 22.010245740000002,  Efficiency=18.900288752523487\n",
            "For Fuel 1 amount = 27.12, Fuel 2 amount = 8.136, Brake power = 4.16, Heat Input = 18.3621836,  Efficiency=22.65525762415315\n",
            "For Fuel 1 amount = 25.935, Fuel 2 amount = 7.780499999999999, Brake power = 4.16, Heat Input = 17.559853675,  Efficiency=23.690402420167093\n"
          ]
        }
      ]
    },
    {
      "cell_type": "markdown",
      "source": [
        "ETHANOL 40"
      ],
      "metadata": {
        "id": "hW6vx28BNDnk"
      }
    },
    {
      "cell_type": "code",
      "source": [
        "#ETHANOL 40\n",
        "fuel_1_range = [16.46,20.11,28.18,18.05,20.49,27.43,41.24,12.81,19.13,8.91,8.37,26.28,33.83,17.658,22.041,27.756,26.955,15.264,18.224,22.4,16.912,18.648,23.429,9.324,11.994,14.682,17.604,21.522,6.909,17.094,20.86,28.042,35.945,13.992,15.432,19.744,24.288,17.776,10.346,12.936,17.85,25.298,30.807,18.891,20.421,12.504,14.92,19.432,22.616,20.848,10.143,12.621,15.365,20.958,10.528,13.944,11.277,12.978,17.031,25.935,11.416,13.968,16.656,9.555,11.963,14.924,20.972,22.008,19.053,23.886,33.264,4.936,12.936,19.376,10.843,12.117,13.272,12.488,16.48,20.584,29.072,10.409,12.425,16.268,24.983,32.508,12.424,14.88,18.272,27.12,11.375,13.811,16.954,25.935]  # Values from 1 to 60 (inclusive)\n",
        "fuel_2_range=[]\n",
        "for i in fuel_1_range:\n",
        "  fuel_2_range.append(i*0.4)\n",
        " # Values from 1 to 40 (inclusive)\n",
        "calorific_value1 = 35800\n",
        "brake_power = 4.16\n",
        "density1 = 958\n",
        "density2=790\n",
        "calorific_value2=26700\n",
        "# Assuming you have the formulas defined as functions, for example:\n",
        "def predict_efficiency(fuel_amount_1, fuel_amount_2, calorific_value1,calorific_value2, brake_power, density1,density2):\n",
        "    # Your formula to calculate efficiency based on the given inputs\n",
        "    mass_of_fuel1 = ((fuel_amount_1  * 0.000001) / 60) * density1\n",
        "    mass_of_fuel2=((fuel_amount_2  * 0.000001) / 60) * density2\n",
        "    heat_input = mass_of_fuel1 * calorific_value1 + mass_of_fuel2 * calorific_value2\n",
        "    efficiency = brake_power / heat_input\n",
        "    return heat_input\n",
        "    # Limit efficiency to a maximum value of 32\n",
        "    efficiency = min(efficiency, 32)\n",
        "\n",
        "    return efficiency\n",
        "\n",
        "# List to store combinations that meet the efficiency criteria\n",
        "efficient_combinations = []\n",
        "\n",
        "# Loop through all combinations of fuel_1 and fuel_2\n",
        "for fuel_amount_1 in fuel_1_range:\n",
        "      # Use the formula-based prediction function to get efficiency\n",
        "      predicted_efficiency = predict_efficiency(fuel_amount_1, fuel_amount_1*0.4, calorific_value1,calorific_value2 ,brake_power,density1,density2)\n",
        "      \"\"\"if 0 <= predicted_efficiency <= 24:\"\"\"\n",
        "      efficient_combinations.append((fuel_amount_1, fuel_amount_1*0.4, predicted_efficiency))\n",
        "\n",
        "# Print the combinations that meet the efficiency criteria\n",
        "if efficient_combinations:\n",
        "    for fuel_amount_1, fuel_amount_2, predicted_efficiency in efficient_combinations:\n",
        "        eff=(brake_power/predicted_efficiency)*100\n",
        "        if eff>=0 and eff<=24:\n",
        "          print(f\"For Fuel 1 amount = {fuel_amount_1}, Fuel 2 amount = {fuel_amount_2}, \"\n",
        "                f\"Brake power = {brake_power}, \"\n",
        "                f\"Heat Input = {predicted_efficiency}, \",f\"Efficiency={eff}\")\n",
        "\n",
        "else:\n",
        "    print(\"No combinations meet the efficiency criteria.\")"
      ],
      "metadata": {
        "colab": {
          "base_uri": "https://localhost:8080/"
        },
        "id": "I8h5aTIdNuiC",
        "outputId": "eecdeed1-d946-4992-fcf8-7212b8426c54"
      },
      "execution_count": null,
      "outputs": [
        {
          "output_type": "stream",
          "name": "stdout",
          "text": [
            "For Fuel 1 amount = 28.18, Fuel 2 amount = 11.272, Brake power = 4.16, Heat Input = 20.070547466666664,  Efficiency=20.72688852612996\n",
            "For Fuel 1 amount = 27.43, Fuel 2 amount = 10.972000000000001, Brake power = 4.16, Heat Input = 19.536377466666668,  Efficiency=21.293609867529792\n",
            "For Fuel 1 amount = 41.24, Fuel 2 amount = 16.496000000000002, Brake power = 4.16, Heat Input = 29.372227733333332,  Efficiency=14.163038764945252\n",
            "For Fuel 1 amount = 26.28, Fuel 2 amount = 10.512, Brake power = 4.16, Heat Input = 18.7173168,  Efficiency=22.225407864016066\n",
            "For Fuel 1 amount = 33.83, Fuel 2 amount = 13.532, Brake power = 4.16, Heat Input = 24.09462813333333,  Efficiency=17.26525919794095\n",
            "For Fuel 1 amount = 27.756, Fuel 2 amount = 11.102400000000001, Brake power = 4.16, Heat Input = 19.768563359999998,  Efficiency=21.043511985384864\n",
            "For Fuel 1 amount = 26.955, Fuel 2 amount = 10.782, Brake power = 4.16, Heat Input = 19.1980698,  Efficiency=21.668845062746882\n",
            "For Fuel 1 amount = 28.042, Fuel 2 amount = 11.216800000000001, Brake power = 4.16, Heat Input = 19.972260186666666,  Efficiency=20.828889475299274\n",
            "For Fuel 1 amount = 35.945, Fuel 2 amount = 14.378, Brake power = 4.16, Heat Input = 25.60098753333334,  Efficiency=16.249373171966674\n",
            "For Fuel 1 amount = 25.298, Fuel 2 amount = 10.1192, Brake power = 4.16, Heat Input = 18.01791021333333,  Efficiency=23.0881381400246\n",
            "For Fuel 1 amount = 30.807, Fuel 2 amount = 12.3228, Brake power = 4.16, Heat Input = 21.941566919999996,  Efficiency=18.95944813407155\n",
            "For Fuel 1 amount = 25.935, Fuel 2 amount = 10.374, Brake power = 4.16, Heat Input = 18.4715986,  Efficiency=22.521061062901186\n",
            "For Fuel 1 amount = 33.264, Fuel 2 amount = 13.305600000000002, Brake power = 4.16, Heat Input = 23.69150784,  Efficiency=17.559034351441262\n",
            "For Fuel 1 amount = 29.072, Fuel 2 amount = 11.6288, Brake power = 4.16, Heat Input = 20.70585365333333,  Efficiency=20.09093693816532\n",
            "For Fuel 1 amount = 24.983, Fuel 2 amount = 9.993200000000002, Brake power = 4.16, Heat Input = 17.793558813333334,  Efficiency=23.379246634365057\n",
            "For Fuel 1 amount = 32.508, Fuel 2 amount = 13.003200000000001, Brake power = 4.16, Heat Input = 23.15306448,  Efficiency=17.967383987521295\n",
            "For Fuel 1 amount = 27.12, Fuel 2 amount = 10.848, Brake power = 4.16, Heat Input = 19.3155872,  Efficiency=21.5370102753076\n",
            "For Fuel 1 amount = 25.935, Fuel 2 amount = 10.374, Brake power = 4.16, Heat Input = 18.4715986,  Efficiency=22.521061062901186\n"
          ]
        }
      ]
    }
  ]
}