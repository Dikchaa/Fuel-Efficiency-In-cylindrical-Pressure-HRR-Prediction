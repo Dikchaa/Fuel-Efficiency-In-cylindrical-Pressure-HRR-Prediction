{
  "nbformat": 4,
  "nbformat_minor": 0,
  "metadata": {
    "colab": {
      "provenance": []
    },
    "kernelspec": {
      "name": "python3",
      "display_name": "Python 3"
    },
    "language_info": {
      "name": "python"
    }
  },
  "cells": [
    {
      "cell_type": "markdown",
      "source": [
        "BUTANOL 10"
      ],
      "metadata": {
        "id": "cBxBJfLifnUq"
      }
    },
    {
      "cell_type": "code",
      "execution_count": null,
      "metadata": {
        "colab": {
          "base_uri": "https://localhost:8080/"
        },
        "id": "A-fIO_3gdvBe",
        "outputId": "f974d28c-dd8c-4e1d-aedc-be01981aa74e"
      },
      "outputs": [
        {
          "output_type": "stream",
          "name": "stdout",
          "text": [
            "For Fuel 1 amount = 26.28, Fuel 2 amount = 2.628, Brake power = 5.2, Heat Input = 16.198464647999998,  Efficiency=32.101807874995345\n",
            "For Fuel 1 amount = 26.955, Fuel 2 amount = 2.6955, Brake power = 5.2, Heat Input = 16.614521103,  Efficiency=31.29792286977843\n",
            "For Fuel 1 amount = 24.288, Fuel 2 amount = 2.4288000000000003, Brake power = 5.2, Heat Input = 14.970635820799998,  Efficiency=34.73466365920939\n",
            "For Fuel 1 amount = 25.298, Fuel 2 amount = 2.5298, Brake power = 5.2, Heat Input = 15.593179553466662,  Efficiency=33.34791331152177\n",
            "For Fuel 1 amount = 25.935, Fuel 2 amount = 2.5935, Brake power = 5.2, Heat Input = 15.985813571,  Efficiency=32.52884175650193\n",
            "For Fuel 1 amount = 24.983, Fuel 2 amount = 2.4983000000000004, Brake power = 5.2, Heat Input = 15.399019874466667,  Efficiency=33.76838293859335\n",
            "For Fuel 1 amount = 27.12, Fuel 2 amount = 2.712, Brake power = 5.2, Heat Input = 16.716223792,  Efficiency=31.107504091256544\n",
            "For Fuel 1 amount = 25.935, Fuel 2 amount = 2.5935, Brake power = 5.2, Heat Input = 15.985813571,  Efficiency=32.52884175650193\n"
          ]
        }
      ],
      "source": [
        "#Butano1 10\n",
        "fuel_1_range = [16.46,20.11,28.18,18.05,20.49,27.43,41.24,12.81,19.13,8.91,8.37,26.28,33.83,17.658,22.041,27.756,26.955,15.264,18.224,22.4,16.912,18.648,23.429,9.324,11.994,14.682,17.604,21.522,6.909,17.094,20.86,28.042,35.945,13.992,15.432,19.744,24.288,17.776,10.346,12.936,17.85,25.298,30.807,18.891,20.421,12.504,14.92,19.432,22.616,20.848,10.143,12.621,15.365,20.958,10.528,13.944,11.277,12.978,17.031,25.935,11.416,13.968,16.656,9.555,11.963,14.924,20.972,22.008,19.053,23.886,33.264,4.936,12.936,19.376,10.843,12.117,13.272,12.488,16.48,20.584,29.072,10.409,12.425,16.268,24.983,32.508,12.424,14.88,18.272,27.12,11.375,13.811,16.954,25.935]  # Values from 1 to 60 (inclusive)\n",
        "fuel_2_range=[]\n",
        "for i in fuel_1_range:\n",
        "  fuel_2_range.append(i*0.1)\n",
        " # Values from 1 to 40 (inclusive)\n",
        "calorific_value1 = 35800\n",
        "brake_power = 5.2\n",
        "density1 = 958\n",
        "density2=811.6\n",
        "calorific_value2=33100\n",
        "# Assuming you have the formulas defined as functions, for example:\n",
        "def predict_efficiency(fuel_amount_1, fuel_amount_2, calorific_value1,calorific_value2, brake_power, density1,density2):\n",
        "    # Your formula to calculate efficiency based on the given inputs\n",
        "    mass_of_fuel1 = ((fuel_amount_1  * 0.000001) / 60) * density1\n",
        "    mass_of_fuel2=((fuel_amount_2  * 0.000001) / 60) * density2\n",
        "    heat_input = mass_of_fuel1 * calorific_value1 + mass_of_fuel2 * calorific_value2\n",
        "    efficiency = brake_power / heat_input\n",
        "    return heat_input\n",
        "    # Limit efficiency to a maximum value of 32\n",
        "    efficiency = min(efficiency, 32)\n",
        "\n",
        "    return efficiency\n",
        "\n",
        "# List to store combinations that meet the efficiency criteria\n",
        "efficient_combinations = []\n",
        "\n",
        "# Loop through all combinations of fuel_1 and fuel_2\n",
        "for fuel_amount_1 in fuel_1_range:\n",
        "      # Use the formula-based prediction function to get efficiency\n",
        "      predicted_efficiency = predict_efficiency(fuel_amount_1, fuel_amount_1*0.1, calorific_value1,calorific_value2 ,brake_power,density1,density2)\n",
        "      \"\"\"if 31 <= predicted_efficiency <= 35:\"\"\"\n",
        "      efficient_combinations.append((fuel_amount_1, fuel_amount_1*0.1, predicted_efficiency))\n",
        "\n",
        "# Print the combinations that meet the efficiency criteria\n",
        "if efficient_combinations:\n",
        "    for fuel_amount_1, fuel_amount_2, predicted_efficiency in efficient_combinations:\n",
        "        eff=(brake_power/predicted_efficiency)*100\n",
        "        if eff>=31 and eff<=35:\n",
        "          print(f\"For Fuel 1 amount = {fuel_amount_1}, Fuel 2 amount = {fuel_amount_2}, \"\n",
        "                f\"Brake power = {brake_power}, \"\n",
        "                f\"Heat Input = {predicted_efficiency}, \",f\"Efficiency={eff}\")\n",
        "\n",
        "else:\n",
        "    print(\"No combinations meet the efficiency criteria.\")"
      ]
    },
    {
      "cell_type": "code",
      "source": [],
      "metadata": {
        "id": "frmuVBsuC6S1"
      },
      "execution_count": null,
      "outputs": []
    },
    {
      "cell_type": "markdown",
      "source": [
        "DIESEL"
      ],
      "metadata": {
        "id": "eq-T8Curftow"
      }
    },
    {
      "cell_type": "code",
      "source": [
        "#Diesel\n",
        "fuel_1_range = [16.46,20.11,28.18,18.05,20.49,27.43,41.24,12.81,19.13,8.91,8.37,26.28,33.83,17.658,22.041,27.756,26.955,15.264,18.224,22.4,16.912,18.648,23.429,9.324,11.994,14.682,17.604,21.522,6.909,17.094,20.86,28.042,35.945,13.992,15.432,19.744,24.288,17.776,10.346,12.936,17.85,25.298,30.807,18.891,20.421,12.504,14.92,19.432,22.616,20.848,10.143,12.621,15.365,20.958,10.528,13.944,11.277,12.978,17.031,25.935,11.416,13.968,16.656,9.555,11.963,14.924,20.972,22.008,19.053,23.886,33.264,4.936,12.936,19.376,10.843,12.117,13.272,12.488,16.48,20.584,29.072,10.409,12.425,16.268,24.983,32.508,12.424,14.88,18.272,27.12,11.375,13.811,16.954,25.935]  # Values from 1 to 60 (inclusive)\n",
        "fuel_2_range=[]\n",
        "for i in fuel_1_range:\n",
        "  fuel_2_range.append(i*0)\n",
        " # Values from 1 to 40 (inclusive)\n",
        "calorific_value1 = 42500\n",
        "brake_power = 5.2\n",
        "density1 = 840\n",
        "density2=0\n",
        "calorific_value2=0\n",
        "# Assuming you have the formulas defined as functions, for example:\n",
        "def predict_efficiency(fuel_amount_1, fuel_amount_2, calorific_value1,calorific_value2, brake_power, density1,density2):\n",
        "    # Your formula to calculate efficiency based on the given inputs\n",
        "    mass_of_fuel1 = ((fuel_amount_1  * 0.000001) / 60) * density1\n",
        "    mass_of_fuel2=((fuel_amount_2  * 0.000001) / 60) * density2\n",
        "    heat_input = mass_of_fuel1 * calorific_value1 + mass_of_fuel2 * calorific_value2\n",
        "    efficiency = brake_power / heat_input\n",
        "    return heat_input\n",
        "    # Limit efficiency to a maximum value of 32\n",
        "    efficiency = min(efficiency, 32)\n",
        "\n",
        "    return efficiency\n",
        "\n",
        "# List to store combinations that meet the efficiency criteria\n",
        "efficient_combinations = []\n",
        "\n",
        "# Loop through all combinations of fuel_1 and fuel_2\n",
        "for fuel_amount_1 in fuel_1_range:\n",
        "      # Use the formula-based prediction function to get efficiency\n",
        "      predicted_efficiency = predict_efficiency(fuel_amount_1, fuel_amount_1*0, calorific_value1,calorific_value2 ,brake_power,density1,density2)\n",
        "      \"\"\"if 31 <= predicted_efficiency <= 35:\"\"\"\n",
        "      efficient_combinations.append((fuel_amount_1, fuel_amount_1*0, predicted_efficiency))\n",
        "\n",
        "# Print the combinations that meet the efficiency criteria\n",
        "if efficient_combinations:\n",
        "    for fuel_amount_1, fuel_amount_2, predicted_efficiency in efficient_combinations:\n",
        "        eff=(brake_power/predicted_efficiency)*100\n",
        "        if eff>=31 and eff<=35:\n",
        "          print(f\"For Fuel 1 amount = {fuel_amount_1}, Fuel 2 amount = {fuel_amount_2}, \"\n",
        "                f\"Brake power = {brake_power}, \"\n",
        "                f\"Heat Input = {predicted_efficiency}, \",f\"Efficiency={eff}\")\n",
        "\n",
        "else:\n",
        "    print(\"No combinations meet the efficiency criteria.\")"
      ],
      "metadata": {
        "colab": {
          "base_uri": "https://localhost:8080/"
        },
        "id": "ziEZr5Nie-ak",
        "outputId": "29f08549-b28e-4357-867f-2761db0b5cc2"
      },
      "execution_count": null,
      "outputs": [
        {
          "output_type": "stream",
          "name": "stdout",
          "text": [
            "For Fuel 1 amount = 28.18, Fuel 2 amount = 0.0, Brake power = 5.2, Heat Input = 16.7671,  Efficiency=31.013114969195634\n",
            "For Fuel 1 amount = 27.43, Fuel 2 amount = 0.0, Brake power = 5.2, Heat Input = 16.32085,  Efficiency=31.861085666494088\n",
            "For Fuel 1 amount = 26.28, Fuel 2 amount = 0.0, Brake power = 5.2, Heat Input = 15.6366,  Efficiency=33.255311256922866\n",
            "For Fuel 1 amount = 27.756, Fuel 2 amount = 0.0, Brake power = 5.2, Heat Input = 16.51482,  Efficiency=31.486870580484684\n",
            "For Fuel 1 amount = 26.955, Fuel 2 amount = 0.0, Brake power = 5.2, Heat Input = 16.038225,  Efficiency=32.422540524278716\n",
            "For Fuel 1 amount = 28.042, Fuel 2 amount = 0.0, Brake power = 5.2, Heat Input = 16.68499,  Efficiency=31.165736389413485\n",
            "For Fuel 1 amount = 25.298, Fuel 2 amount = 0.0, Brake power = 5.2, Heat Input = 15.052309999999997,  Efficiency=34.54619257775053\n",
            "For Fuel 1 amount = 25.935, Fuel 2 amount = 0.0, Brake power = 5.2, Heat Input = 15.431325,  Efficiency=33.69768960215666\n",
            "For Fuel 1 amount = 24.983, Fuel 2 amount = 0.0, Brake power = 5.2, Heat Input = 14.864885,  Efficiency=34.98177079741956\n",
            "For Fuel 1 amount = 27.12, Fuel 2 amount = 0.0, Brake power = 5.2, Heat Input = 16.136400000000002,  Efficiency=32.2252794923279\n",
            "For Fuel 1 amount = 25.935, Fuel 2 amount = 0.0, Brake power = 5.2, Heat Input = 15.431325,  Efficiency=33.69768960215666\n"
          ]
        }
      ]
    },
    {
      "cell_type": "markdown",
      "source": [
        "CNSL"
      ],
      "metadata": {
        "id": "1c5nDuOlg3SV"
      }
    },
    {
      "cell_type": "code",
      "source": [
        "#CNSL\n",
        "fuel_1_range = [16.46,20.11,28.18,18.05,20.49,27.43,41.24,12.81,19.13,8.91,8.37,26.28,33.83,17.658,22.041,27.756,26.955,15.264,18.224,22.4,16.912,18.648,23.429,9.324,11.994,14.682,17.604,21.522,6.909,17.094,20.86,28.042,35.945,13.992,15.432,19.744,24.288,17.776,10.346,12.936,17.85,25.298,30.807,18.891,20.421,12.504,14.92,19.432,22.616,20.848,10.143,12.621,15.365,20.958,10.528,13.944,11.277,12.978,17.031,25.935,11.416,13.968,16.656,9.555,11.963,14.924,20.972,22.008,19.053,23.886,33.264,4.936,12.936,19.376,10.843,12.117,13.272,12.488,16.48,20.584,29.072,10.409,12.425,16.268,24.983,32.508,12.424,14.88,18.272,27.12,11.375,13.811,16.954,25.935]  # Values from 1 to 60 (inclusive)\n",
        "fuel_2_range=[]\n",
        "for i in fuel_1_range:\n",
        "  fuel_2_range.append(i*0)\n",
        " # Values from 1 to 40 (inclusive)\n",
        "calorific_value1 = 35800\n",
        "brake_power = 5.2\n",
        "density1 = 958\n",
        "density2=0\n",
        "calorific_value2=0\n",
        "# Assuming you have the formulas defined as functions, for example:\n",
        "def predict_efficiency(fuel_amount_1, fuel_amount_2, calorific_value1,calorific_value2, brake_power, density1,density2):\n",
        "    # Your formula to calculate efficiency based on the given inputs\n",
        "    mass_of_fuel1 = ((fuel_amount_1  * 0.000001) / 60) * density1\n",
        "    mass_of_fuel2=((fuel_amount_2  * 0.000001) / 60) * density2\n",
        "    heat_input = mass_of_fuel1 * calorific_value1 + mass_of_fuel2 * calorific_value2\n",
        "    efficiency = brake_power / heat_input\n",
        "    return heat_input\n",
        "    # Limit efficiency to a maximum value of 32\n",
        "    efficiency = min(efficiency, 32)\n",
        "\n",
        "    return efficiency\n",
        "\n",
        "# List to store combinations that meet the efficiency criteria\n",
        "efficient_combinations = []\n",
        "\n",
        "# Loop through all combinations of fuel_1 and fuel_2\n",
        "for fuel_amount_1 in fuel_1_range:\n",
        "      # Use the formula-based prediction function to get efficiency\n",
        "      predicted_efficiency = predict_efficiency(fuel_amount_1, fuel_amount_1*0, calorific_value1,calorific_value2 ,brake_power,density1,density2)\n",
        "      \"\"\"if 31 <= predicted_efficiency <= 35:\"\"\"\n",
        "      efficient_combinations.append((fuel_amount_1, fuel_amount_1*0, predicted_efficiency))\n",
        "\n",
        "# Print the combinations that meet the efficiency criteria\n",
        "if efficient_combinations:\n",
        "    for fuel_amount_1, fuel_amount_2, predicted_efficiency in efficient_combinations:\n",
        "        eff=(brake_power/predicted_efficiency)*100\n",
        "        if eff>=31 and eff<=35:\n",
        "          print(f\"For Fuel 1 amount = {fuel_amount_1}, Fuel 2 amount = {fuel_amount_2}, \"\n",
        "                f\"Brake power = {brake_power}, \"\n",
        "                f\"Heat Input = {predicted_efficiency}, \",f\"Efficiency={eff}\")\n",
        "\n",
        "else:\n",
        "    print(\"No combinations meet the efficiency criteria.\")"
      ],
      "metadata": {
        "colab": {
          "base_uri": "https://localhost:8080/"
        },
        "id": "hVzGNfbXfVoW",
        "outputId": "1fcc8b9a-987e-4e85-da3f-24b3083e9fc1"
      },
      "execution_count": null,
      "outputs": [
        {
          "output_type": "stream",
          "name": "stdout",
          "text": [
            "For Fuel 1 amount = 28.18, Fuel 2 amount = 0.0, Brake power = 5.2, Heat Input = 16.107875866666664,  Efficiency=32.28234463093165\n",
            "For Fuel 1 amount = 27.43, Fuel 2 amount = 0.0, Brake power = 5.2, Heat Input = 15.679170866666668,  Efficiency=33.16501901930928\n",
            "For Fuel 1 amount = 26.28, Fuel 2 amount = 0.0, Brake power = 5.2, Heat Input = 15.021823199999998,  Efficiency=34.61630409816034\n",
            "For Fuel 1 amount = 27.756, Fuel 2 amount = 0.0, Brake power = 5.2, Heat Input = 15.865514639999999,  Efficiency=32.77548896453573\n",
            "For Fuel 1 amount = 26.955, Fuel 2 amount = 0.0, Brake power = 5.2, Heat Input = 15.4076577,  Efficiency=33.749451741779026\n",
            "For Fuel 1 amount = 28.042, Fuel 2 amount = 0.0, Brake power = 5.2, Heat Input = 16.028994146666665,  Efficiency=32.44121217101682\n",
            "For Fuel 1 amount = 29.072, Fuel 2 amount = 0.0, Brake power = 5.2, Heat Input = 16.61774901333333,  Efficiency=31.29184341289398\n",
            "For Fuel 1 amount = 27.12, Fuel 2 amount = 0.0, Brake power = 5.2, Heat Input = 15.5019728,  Efficiency=33.54411768804032\n"
          ]
        }
      ]
    },
    {
      "cell_type": "markdown",
      "source": [
        "CNSOME"
      ],
      "metadata": {
        "id": "ZQXEoOrRhyyA"
      }
    },
    {
      "cell_type": "code",
      "source": [
        "#CNSOME\n",
        "fuel_1_range = [16.46,20.11,28.18,18.05,20.49,27.43,41.24,12.81,19.13,8.91,8.37,26.28,33.83,17.658,22.041,27.756,26.955,15.264,18.224,22.4,16.912,18.648,23.429,9.324,11.994,14.682,17.604,21.522,6.909,17.094,20.86,28.042,35.945,13.992,15.432,19.744,24.288,17.776,10.346,12.936,17.85,25.298,30.807,18.891,20.421,12.504,14.92,19.432,22.616,20.848,10.143,12.621,15.365,20.958,10.528,13.944,11.277,12.978,17.031,25.935,11.416,13.968,16.656,9.555,11.963,14.924,20.972,22.008,19.053,23.886,33.264,4.936,12.936,19.376,10.843,12.117,13.272,12.488,16.48,20.584,29.072,10.409,12.425,16.268,24.983,32.508,12.424,14.88,18.272,27.12,11.375,13.811,16.954,25.935]  # Values from 1 to 60 (inclusive)\n",
        "fuel_2_range=[]\n",
        "for i in fuel_1_range:\n",
        "  fuel_2_range.append(i*0)\n",
        " # Values from 1 to 40 (inclusive)\n",
        "calorific_value1 = 38400\n",
        "brake_power = 5.2\n",
        "density1 = 906.4\n",
        "density2=0\n",
        "calorific_value2=0\n",
        "# Assuming you have the formulas defined as functions, for example:\n",
        "def predict_efficiency(fuel_amount_1, fuel_amount_2, calorific_value1,calorific_value2, brake_power, density1,density2):\n",
        "    # Your formula to calculate efficiency based on the given inputs\n",
        "    mass_of_fuel1 = ((fuel_amount_1  * 0.000001) / 60) * density1\n",
        "    mass_of_fuel2=((fuel_amount_2  * 0.000001) / 60) * density2\n",
        "    heat_input = mass_of_fuel1 * calorific_value1 + mass_of_fuel2 * calorific_value2\n",
        "    efficiency = brake_power / heat_input\n",
        "    return heat_input\n",
        "    # Limit efficiency to a maximum value of 32\n",
        "    efficiency = min(efficiency, 32)\n",
        "\n",
        "    return efficiency\n",
        "\n",
        "# List to store combinations that meet the efficiency criteria\n",
        "efficient_combinations = []\n",
        "\n",
        "# Loop through all combinations of fuel_1 and fuel_2\n",
        "for fuel_amount_1 in fuel_1_range:\n",
        "      # Use the formula-based prediction function to get efficiency\n",
        "      predicted_efficiency = predict_efficiency(fuel_amount_1, fuel_amount_1*0, calorific_value1,calorific_value2 ,brake_power,density1,density2)\n",
        "      \"\"\"if 31 <= predicted_efficiency <= 35:\"\"\"\n",
        "      efficient_combinations.append((fuel_amount_1, fuel_amount_1*0, predicted_efficiency))\n",
        "\n",
        "# Print the combinations that meet the efficiency criteria\n",
        "if efficient_combinations:\n",
        "    for fuel_amount_1, fuel_amount_2, predicted_efficiency in efficient_combinations:\n",
        "        eff=(brake_power/predicted_efficiency)*100\n",
        "        if eff>=31 and eff<=35:\n",
        "          print(f\"For Fuel 1 amount = {fuel_amount_1}, Fuel 2 amount = {fuel_amount_2}, \"\n",
        "                f\"Brake power = {brake_power}, \"\n",
        "                f\"Heat Input = {predicted_efficiency}, \",f\"Efficiency={eff}\")\n",
        "\n",
        "else:\n",
        "    print(\"No combinations meet the efficiency criteria.\")"
      ],
      "metadata": {
        "colab": {
          "base_uri": "https://localhost:8080/"
        },
        "id": "yDOqzI8Hh2yn",
        "outputId": "88024665-a71c-405f-a003-26419fe4c48c"
      },
      "execution_count": null,
      "outputs": [
        {
          "output_type": "stream",
          "name": "stdout",
          "text": [
            "For Fuel 1 amount = 28.18, Fuel 2 amount = 0.0, Brake power = 5.2, Heat Input = 16.347105279999997,  Efficiency=31.80991319828339\n",
            "For Fuel 1 amount = 27.43, Fuel 2 amount = 0.0, Brake power = 5.2, Heat Input = 15.912033280000001,  Efficiency=32.67967021245446\n",
            "For Fuel 1 amount = 26.28, Fuel 2 amount = 0.0, Brake power = 5.2, Heat Input = 15.244922879999999,  Efficiency=34.10971666391271\n",
            "For Fuel 1 amount = 27.756, Fuel 2 amount = 0.0, Brake power = 5.2, Heat Input = 16.101144576,  Efficiency=32.29584068048803\n",
            "For Fuel 1 amount = 26.955, Fuel 2 amount = 0.0, Brake power = 5.2, Heat Input = 15.63648768,  Efficiency=33.25555013643576\n",
            "For Fuel 1 amount = 28.042, Fuel 2 amount = 0.0, Brake power = 5.2, Heat Input = 16.267052032,  Efficiency=31.966455813694665\n",
            "For Fuel 1 amount = 25.935, Fuel 2 amount = 0.0, Brake power = 5.2, Heat Input = 15.044789759999999,  Efficiency=34.56346072595434\n",
            "For Fuel 1 amount = 27.12, Fuel 2 amount = 0.0, Brake power = 5.2, Heat Input = 15.73220352,  Efficiency=33.053221015030445\n",
            "For Fuel 1 amount = 25.935, Fuel 2 amount = 0.0, Brake power = 5.2, Heat Input = 15.044789759999999,  Efficiency=34.56346072595434\n"
          ]
        }
      ]
    },
    {
      "cell_type": "markdown",
      "source": [
        "Butanol 20"
      ],
      "metadata": {
        "id": "Wf6zSczSiP33"
      }
    },
    {
      "cell_type": "code",
      "source": [
        "#Butano1 20\n",
        "fuel_1_range = [16.46,20.11,28.18,18.05,20.49,27.43,41.24,12.81,19.13,8.91,8.37,26.28,33.83,17.658,22.041,27.756,26.955,15.264,18.224,22.4,16.912,18.648,23.429,9.324,11.994,14.682,17.604,21.522,6.909,17.094,20.86,28.042,35.945,13.992,15.432,19.744,24.288,17.776,10.346,12.936,17.85,25.298,30.807,18.891,20.421,12.504,14.92,19.432,22.616,20.848,10.143,12.621,15.365,20.958,10.528,13.944,11.277,12.978,17.031,25.935,11.416,13.968,16.656,9.555,11.963,14.924,20.972,22.008,19.053,23.886,33.264,4.936,12.936,19.376,10.843,12.117,13.272,12.488,16.48,20.584,29.072,10.409,12.425,16.268,24.983,32.508,12.424,14.88,18.272,27.12,11.375,13.811,16.954,25.935]  # Values from 1 to 60 (inclusive)\n",
        "fuel_2_range=[]\n",
        "for i in fuel_1_range:\n",
        "  fuel_2_range.append(i*0.2)\n",
        " # Values from 1 to 40 (inclusive)\n",
        "calorific_value1 = 35800\n",
        "brake_power = 5.2\n",
        "density1 = 958\n",
        "density2=811.6\n",
        "calorific_value2=33100\n",
        "# Assuming you have the formulas defined as functions, for example:\n",
        "def predict_efficiency(fuel_amount_1, fuel_amount_2, calorific_value1,calorific_value2, brake_power, density1,density2):\n",
        "    # Your formula to calculate efficiency based on the given inputs\n",
        "    mass_of_fuel1 = ((fuel_amount_1  * 0.000001) / 60) * density1\n",
        "    mass_of_fuel2=((fuel_amount_2  * 0.000001) / 60) * density2\n",
        "    heat_input = mass_of_fuel1 * calorific_value1 + mass_of_fuel2 * calorific_value2\n",
        "    efficiency = brake_power / heat_input\n",
        "    return heat_input\n",
        "    # Limit efficiency to a maximum value of 32\n",
        "    efficiency = min(efficiency, 32)\n",
        "\n",
        "    return efficiency\n",
        "\n",
        "# List to store combinations that meet the efficiency criteria\n",
        "efficient_combinations = []\n",
        "\n",
        "# Loop through all combinations of fuel_1 and fuel_2\n",
        "for fuel_amount_1 in fuel_1_range:\n",
        "      # Use the formula-based prediction function to get efficiency\n",
        "      predicted_efficiency = predict_efficiency(fuel_amount_1, fuel_amount_1*0.2, calorific_value1,calorific_value2 ,brake_power,density1,density2)\n",
        "      \"\"\"if 31 <= predicted_efficiency <= 35:\"\"\"\n",
        "      efficient_combinations.append((fuel_amount_1, fuel_amount_1*0.2, predicted_efficiency))\n",
        "\n",
        "# Print the combinations that meet the efficiency criteria\n",
        "if efficient_combinations:\n",
        "    for fuel_amount_1, fuel_amount_2, predicted_efficiency in efficient_combinations:\n",
        "        eff=(brake_power/predicted_efficiency)*100\n",
        "        if eff>=31 and eff<=35:\n",
        "          print(f\"For Fuel 1 amount = {fuel_amount_1}, Fuel 2 amount = {fuel_amount_2}, \"\n",
        "                f\"Brake power = {brake_power}, \"\n",
        "                f\"Heat Input = {predicted_efficiency}, \",f\"Efficiency={eff}\")\n",
        "\n",
        "else:\n",
        "    print(\"No combinations meet the efficiency criteria.\")"
      ],
      "metadata": {
        "colab": {
          "base_uri": "https://localhost:8080/"
        },
        "id": "I0Ay90lWiRvS",
        "outputId": "8d3d6e76-b046-4d25-fe88-ce4feed1c0d2"
      },
      "execution_count": null,
      "outputs": [
        {
          "output_type": "stream",
          "name": "stdout",
          "text": [
            "For Fuel 1 amount = 23.429, Fuel 2 amount = 4.6857999999999995, Brake power = 5.2, Heat Input = 15.4901583228,  Efficiency=33.569702075582455\n",
            "For Fuel 1 amount = 24.288, Fuel 2 amount = 4.857600000000001, Brake power = 5.2, Heat Input = 16.0580889216,  Efficiency=32.38243370919061\n",
            "For Fuel 1 amount = 25.298, Fuel 2 amount = 5.0596, Brake power = 5.2, Heat Input = 16.725853653599998,  Efficiency=31.089594036240868\n",
            "For Fuel 1 amount = 22.616, Fuel 2 amount = 4.5232, Brake power = 5.2, Heat Input = 14.952640771199999,  Efficiency=34.77646577329419\n",
            "For Fuel 1 amount = 23.886, Fuel 2 amount = 4.7772, Brake power = 5.2, Heat Input = 15.792305335199998,  Efficiency=32.92742819763968\n",
            "For Fuel 1 amount = 24.983, Fuel 2 amount = 4.996600000000001, Brake power = 5.2, Heat Input = 16.5175903956,  Efficiency=31.481589477997897\n"
          ]
        }
      ]
    },
    {
      "cell_type": "markdown",
      "source": [
        "Butanol 30"
      ],
      "metadata": {
        "id": "9_g4cYAPibaj"
      }
    },
    {
      "cell_type": "code",
      "source": [
        "#Butano1 30\n",
        "fuel_1_range = [16.46,20.11,28.18,18.05,20.49,27.43,41.24,12.81,19.13,8.91,8.37,26.28,33.83,17.658,22.041,27.756,26.955,15.264,18.224,22.4,16.912,18.648,23.429,9.324,11.994,14.682,17.604,21.522,6.909,17.094,20.86,28.042,35.945,13.992,15.432,19.744,24.288,17.776,10.346,12.936,17.85,25.298,30.807,18.891,20.421,12.504,14.92,19.432,22.616,20.848,10.143,12.621,15.365,20.958,10.528,13.944,11.277,12.978,17.031,25.935,11.416,13.968,16.656,9.555,11.963,14.924,20.972,22.008,19.053,23.886,33.264,4.936,12.936,19.376,10.843,12.117,13.272,12.488,16.48,20.584,29.072,10.409,12.425,16.268,24.983,32.508,12.424,14.88,18.272,27.12,11.375,13.811,16.954,25.935]  # Values from 1 to 60 (inclusive)\n",
        "fuel_2_range=[]\n",
        "for i in fuel_1_range:\n",
        "  fuel_2_range.append(i*0.3)\n",
        " # Values from 1 to 40 (inclusive)\n",
        "calorific_value1 = 35800\n",
        "brake_power = 5.2\n",
        "density1 = 958\n",
        "density2=811.6\n",
        "calorific_value2=33100\n",
        "# Assuming you have the formulas defined as functions, for example:\n",
        "def predict_efficiency(fuel_amount_1, fuel_amount_2, calorific_value1,calorific_value2, brake_power, density1,density2):\n",
        "    # Your formula to calculate efficiency based on the given inputs\n",
        "    mass_of_fuel1 = ((fuel_amount_1  * 0.000001) / 60) * density1\n",
        "    mass_of_fuel2=((fuel_amount_2  * 0.000001) / 60) * density2\n",
        "    heat_input = mass_of_fuel1 * calorific_value1 + mass_of_fuel2 * calorific_value2\n",
        "    efficiency = brake_power / heat_input\n",
        "    return heat_input\n",
        "    # Limit efficiency to a maximum value of 32\n",
        "    efficiency = min(efficiency, 32)\n",
        "\n",
        "    return efficiency\n",
        "\n",
        "# List to store combinations that meet the efficiency criteria\n",
        "efficient_combinations = []\n",
        "\n",
        "# Loop through all combinations of fuel_1 and fuel_2\n",
        "for fuel_amount_1 in fuel_1_range:\n",
        "      # Use the formula-based prediction function to get efficiency\n",
        "      predicted_efficiency = predict_efficiency(fuel_amount_1, fuel_amount_1*0.3, calorific_value1,calorific_value2 ,brake_power,density1,density2)\n",
        "      \"\"\"if 31 <= predicted_efficiency <= 35:\"\"\"\n",
        "      efficient_combinations.append((fuel_amount_1, fuel_amount_1*0.3, predicted_efficiency))\n",
        "\n",
        "# Print the combinations that meet the efficiency criteria\n",
        "if efficient_combinations:\n",
        "    for fuel_amount_1, fuel_amount_2, predicted_efficiency in efficient_combinations:\n",
        "        eff=(brake_power/predicted_efficiency)*100\n",
        "        if eff>=31 and eff<=35:\n",
        "          print(f\"For Fuel 1 amount = {fuel_amount_1}, Fuel 2 amount = {fuel_amount_2}, \"\n",
        "                f\"Brake power = {brake_power}, \"\n",
        "                f\"Heat Input = {predicted_efficiency}, \",f\"Efficiency={eff}\")\n",
        "\n",
        "else:\n",
        "    print(\"No combinations meet the efficiency criteria.\")"
      ],
      "metadata": {
        "colab": {
          "base_uri": "https://localhost:8080/"
        },
        "id": "T57t8r1pidBS",
        "outputId": "b806fa2b-20d7-40b2-d741-a99a72ac00e1"
      },
      "execution_count": null,
      "outputs": [
        {
          "output_type": "stream",
          "name": "stdout",
          "text": [
            "For Fuel 1 amount = 22.041, Fuel 2 amount = 6.6123, Brake power = 5.2, Heat Input = 15.5593252518,  Efficiency=33.42047239097615\n",
            "For Fuel 1 amount = 22.4, Fuel 2 amount = 6.72, Brake power = 5.2, Heat Input = 15.812752853333333,  Efficiency=32.88484964149578\n",
            "For Fuel 1 amount = 23.429, Fuel 2 amount = 7.0287, Brake power = 5.2, Heat Input = 16.539151187533335,  Efficiency=31.440549403282485\n",
            "For Fuel 1 amount = 21.522, Fuel 2 amount = 6.456599999999999, Brake power = 5.2, Heat Input = 15.192949415599998,  Efficiency=34.22640237754417\n",
            "For Fuel 1 amount = 22.616, Fuel 2 amount = 6.7848, Brake power = 5.2, Heat Input = 15.965232970133332,  Efficiency=32.570774317717785\n",
            "For Fuel 1 amount = 22.008, Fuel 2 amount = 6.602399999999999, Brake power = 5.2, Heat Input = 15.536029678399997,  Efficiency=33.47058487684049\n"
          ]
        }
      ]
    },
    {
      "cell_type": "markdown",
      "source": [
        "Butanol 40"
      ],
      "metadata": {
        "id": "wMaOZrQOii9-"
      }
    },
    {
      "cell_type": "code",
      "source": [
        "#Butano1 40\n",
        "fuel_1_range = [16.46,20.11,28.18,18.05,20.49,27.43,41.24,12.81,19.13,8.91,8.37,26.28,33.83,17.658,22.041,27.756,26.955,15.264,18.224,22.4,16.912,18.648,23.429,9.324,11.994,14.682,17.604,21.522,6.909,17.094,20.86,28.042,35.945,13.992,15.432,19.744,24.288,17.776,10.346,12.936,17.85,25.298,30.807,18.891,20.421,12.504,14.92,19.432,22.616,20.848,10.143,12.621,15.365,20.958,10.528,13.944,11.277,12.978,17.031,25.935,11.416,13.968,16.656,9.555,11.963,14.924,20.972,22.008,19.053,23.886,33.264,4.936,12.936,19.376,10.843,12.117,13.272,12.488,16.48,20.584,29.072,10.409,12.425,16.268,24.983,32.508,12.424,14.88,18.272,27.12,11.375,13.811,16.954,25.935]  # Values from 1 to 60 (inclusive)\n",
        "fuel_2_range=[]\n",
        "for i in fuel_1_range:\n",
        "  fuel_2_range.append(i*0.4)\n",
        " # Values from 1 to 40 (inclusive)\n",
        "calorific_value1 = 35800\n",
        "brake_power = 5.2\n",
        "density1 = 958\n",
        "density2=811.6\n",
        "calorific_value2=33100\n",
        "# Assuming you have the formulas defined as functions, for example:\n",
        "def predict_efficiency(fuel_amount_1, fuel_amount_2, calorific_value1,calorific_value2, brake_power, density1,density2):\n",
        "    # Your formula to calculate efficiency based on the given inputs\n",
        "    mass_of_fuel1 = ((fuel_amount_1  * 0.000001) / 60) * density1\n",
        "    mass_of_fuel2=((fuel_amount_2  * 0.000001) / 60) * density2\n",
        "    heat_input = mass_of_fuel1 * calorific_value1 + mass_of_fuel2 * calorific_value2\n",
        "    efficiency = brake_power / heat_input\n",
        "    return heat_input\n",
        "    # Limit efficiency to a maximum value of 32\n",
        "    efficiency = min(efficiency, 32)\n",
        "\n",
        "    return efficiency\n",
        "\n",
        "# List to store combinations that meet the efficiency criteria\n",
        "efficient_combinations = []\n",
        "\n",
        "# Loop through all combinations of fuel_1 and fuel_2\n",
        "for fuel_amount_1 in fuel_1_range:\n",
        "      # Use the formula-based prediction function to get efficiency\n",
        "      predicted_efficiency = predict_efficiency(fuel_amount_1, fuel_amount_1*0.4, calorific_value1,calorific_value2 ,brake_power,density1,density2)\n",
        "      \"\"\"if 31 <= predicted_efficiency <= 35:\"\"\"\n",
        "      efficient_combinations.append((fuel_amount_1, fuel_amount_1*0.4, predicted_efficiency))\n",
        "\n",
        "# Print the combinations that meet the efficiency criteria\n",
        "if efficient_combinations:\n",
        "    for fuel_amount_1, fuel_amount_2, predicted_efficiency in efficient_combinations:\n",
        "        eff=(brake_power/predicted_efficiency)*100\n",
        "        if eff>=31 and eff<=35:\n",
        "          print(f\"For Fuel 1 amount = {fuel_amount_1}, Fuel 2 amount = {fuel_amount_2}, \"\n",
        "                f\"Brake power = {brake_power}, \"\n",
        "                f\"Heat Input = {predicted_efficiency}, \",f\"Efficiency={eff}\")\n",
        "\n",
        "else:\n",
        "    print(\"No combinations meet the efficiency criteria.\")"
      ],
      "metadata": {
        "colab": {
          "base_uri": "https://localhost:8080/"
        },
        "id": "tqPN0vPviiiD",
        "outputId": "c301d532-24f8-431e-c2d8-262ad1337c1f"
      },
      "execution_count": null,
      "outputs": [
        {
          "output_type": "stream",
          "name": "stdout",
          "text": [
            "For Fuel 1 amount = 20.11, Fuel 2 amount = 8.044, Brake power = 5.2, Heat Input = 15.096571637333332,  Efficiency=34.44490659813496\n",
            "For Fuel 1 amount = 20.49, Fuel 2 amount = 8.196, Brake power = 5.2, Heat Input = 15.381837535999999,  Efficiency=33.806104035553645\n",
            "For Fuel 1 amount = 22.041, Fuel 2 amount = 8.8164, Brake power = 5.2, Heat Input = 16.5461728224,  Efficiency=31.42720709988177\n",
            "For Fuel 1 amount = 21.522, Fuel 2 amount = 8.6088, Brake power = 5.2, Heat Input = 16.1565596608,  Efficiency=32.18506977457922\n",
            "For Fuel 1 amount = 20.86, Fuel 2 amount = 8.344, Brake power = 5.2, Heat Input = 15.659596437333335,  Efficiency=33.20647515285206\n",
            "For Fuel 1 amount = 20.421, Fuel 2 amount = 8.1684, Brake power = 5.2, Heat Input = 15.330039254399999,  Efficiency=33.92033062477323\n",
            "For Fuel 1 amount = 20.848, Fuel 2 amount = 8.3392, Brake power = 5.2, Heat Input = 15.65058804053333,  Efficiency=33.225588626654556\n",
            "For Fuel 1 amount = 20.958, Fuel 2 amount = 8.3832, Brake power = 5.2, Heat Input = 15.7331650112,  Efficiency=33.05120105394093\n",
            "For Fuel 1 amount = 20.972, Fuel 2 amount = 8.388800000000002, Brake power = 5.2, Heat Input = 15.743674807466668,  Efficiency=33.02913750183549\n",
            "For Fuel 1 amount = 22.008, Fuel 2 amount = 8.8032, Brake power = 5.2, Heat Input = 16.5213997312,  Efficiency=31.474330774649857\n",
            "For Fuel 1 amount = 20.584, Fuel 2 amount = 8.233600000000001, Brake power = 5.2, Heat Input = 15.452403310933333,  Efficiency=33.65172326508424\n"
          ]
        }
      ]
    },
    {
      "cell_type": "markdown",
      "source": [
        "Methanol 10"
      ],
      "metadata": {
        "id": "ibMrKAZuiuS6"
      }
    },
    {
      "cell_type": "code",
      "source": [
        "#Methano1 10\n",
        "fuel_1_range = [16.46,20.11,28.18,18.05,20.49,27.43,41.24,12.81,19.13,8.91,8.37,26.28,33.83,17.658,22.041,27.756,26.955,15.264,18.224,22.4,16.912,18.648,23.429,9.324,11.994,14.682,17.604,21.522,6.909,17.094,20.86,28.042,35.945,13.992,15.432,19.744,24.288,17.776,10.346,12.936,17.85,25.298,30.807,18.891,20.421,12.504,14.92,19.432,22.616,20.848,10.143,12.621,15.365,20.958,10.528,13.944,11.277,12.978,17.031,25.935,11.416,13.968,16.656,9.555,11.963,14.924,20.972,22.008,19.053,23.886,33.264,4.936,12.936,19.376,10.843,12.117,13.272,12.488,16.48,20.584,29.072,10.409,12.425,16.268,24.983,32.508,12.424,14.88,18.272,27.12,11.375,13.811,16.954,25.935]  # Values from 1 to 60 (inclusive)\n",
        "fuel_2_range=[]\n",
        "for i in fuel_1_range:\n",
        "  fuel_2_range.append(i*0.1)\n",
        " # Values from 1 to 40 (inclusive)\n",
        "calorific_value1 = 35800\n",
        "brake_power = 5.2\n",
        "density1 = 958\n",
        "density2=776\n",
        "calorific_value2=20000\n",
        "# Assuming you have the formulas defined as functions, for example:\n",
        "def predict_efficiency(fuel_amount_1, fuel_amount_2, calorific_value1,calorific_value2, brake_power, density1,density2):\n",
        "    # Your formula to calculate efficiency based on the given inputs\n",
        "    mass_of_fuel1 = ((fuel_amount_1  * 0.000001) / 60) * density1\n",
        "    mass_of_fuel2=((fuel_amount_2  * 0.000001) / 60) * density2\n",
        "    heat_input = mass_of_fuel1 * calorific_value1 + mass_of_fuel2 * calorific_value2\n",
        "    efficiency = brake_power / heat_input\n",
        "    return heat_input\n",
        "    # Limit efficiency to a maximum value of 32\n",
        "    efficiency = min(efficiency, 32)\n",
        "\n",
        "    return efficiency\n",
        "\n",
        "# List to store combinations that meet the efficiency criteria\n",
        "efficient_combinations = []\n",
        "\n",
        "# Loop through all combinations of fuel_1 and fuel_2\n",
        "for fuel_amount_1 in fuel_1_range:\n",
        "      # Use the formula-based prediction function to get efficiency\n",
        "      predicted_efficiency = predict_efficiency(fuel_amount_1, fuel_amount_1*0.1, calorific_value1,calorific_value2 ,brake_power,density1,density2)\n",
        "      \"\"\"if 31 <= predicted_efficiency <= 35:\"\"\"\n",
        "      efficient_combinations.append((fuel_amount_1, fuel_amount_1*0.1, predicted_efficiency))\n",
        "\n",
        "# Print the combinations that meet the efficiency criteria\n",
        "if efficient_combinations:\n",
        "    for fuel_amount_1, fuel_amount_2, predicted_efficiency in efficient_combinations:\n",
        "        eff=(brake_power/predicted_efficiency)*100\n",
        "        if eff>=31 and eff<=35:\n",
        "          print(f\"For Fuel 1 amount = {fuel_amount_1}, Fuel 2 amount = {fuel_amount_2}, \"\n",
        "                f\"Brake power = {brake_power}, \"\n",
        "                f\"Heat Input = {predicted_efficiency}, \",f\"Efficiency={eff}\")\n",
        "\n",
        "else:\n",
        "    print(\"No combinations meet the efficiency criteria.\")"
      ],
      "metadata": {
        "colab": {
          "base_uri": "https://localhost:8080/"
        },
        "id": "-KGWN_Lyi0t7",
        "outputId": "4b8d8539-c27c-450c-c643-6653f2f698ed"
      },
      "execution_count": null,
      "outputs": [
        {
          "output_type": "stream",
          "name": "stdout",
          "text": [
            "For Fuel 1 amount = 27.43, Fuel 2 amount = 2.7430000000000003, Brake power = 5.2, Heat Input = 16.388693533333335,  Efficiency=31.729191771287944\n",
            "For Fuel 1 amount = 26.28, Fuel 2 amount = 2.628, Brake power = 5.2, Heat Input = 15.701599199999999,  Efficiency=33.11764574910306\n",
            "For Fuel 1 amount = 27.756, Fuel 2 amount = 2.7756000000000003, Brake power = 5.2, Heat Input = 16.58346984,  Efficiency=31.356525806543758\n",
            "For Fuel 1 amount = 26.955, Fuel 2 amount = 2.6955, Brake power = 5.2, Heat Input = 16.104893699999998,  Efficiency=32.28832239979331\n",
            "For Fuel 1 amount = 28.042, Fuel 2 amount = 2.8042000000000002, Brake power = 5.2, Heat Input = 16.754347213333332,  Efficiency=31.036721000157925\n",
            "For Fuel 1 amount = 25.298, Fuel 2 amount = 2.5298, Brake power = 5.2, Heat Input = 15.114880386666663,  Efficiency=34.40318326691552\n",
            "For Fuel 1 amount = 25.935, Fuel 2 amount = 2.5935, Brake power = 5.2, Heat Input = 15.495470899999999,  Efficiency=33.558192800710565\n",
            "For Fuel 1 amount = 24.983, Fuel 2 amount = 2.4983000000000004, Brake power = 5.2, Heat Input = 14.926676286666666,  Efficiency=34.83695834313047\n",
            "For Fuel 1 amount = 27.12, Fuel 2 amount = 2.712, Brake power = 5.2, Heat Input = 16.2034768,  Efficiency=32.09187796041403\n",
            "For Fuel 1 amount = 25.935, Fuel 2 amount = 2.5935, Brake power = 5.2, Heat Input = 15.495470899999999,  Efficiency=33.558192800710565\n"
          ]
        }
      ]
    },
    {
      "cell_type": "markdown",
      "source": [
        "Methanol 20"
      ],
      "metadata": {
        "id": "04ltKI49jL3e"
      }
    },
    {
      "cell_type": "code",
      "source": [
        "#Methano1 20\n",
        "fuel_1_range = [16.46,20.11,28.18,18.05,20.49,27.43,41.24,12.81,19.13,8.91,8.37,26.28,33.83,17.658,22.041,27.756,26.955,15.264,18.224,22.4,16.912,18.648,23.429,9.324,11.994,14.682,17.604,21.522,6.909,17.094,20.86,28.042,35.945,13.992,15.432,19.744,24.288,17.776,10.346,12.936,17.85,25.298,30.807,18.891,20.421,12.504,14.92,19.432,22.616,20.848,10.143,12.621,15.365,20.958,10.528,13.944,11.277,12.978,17.031,25.935,11.416,13.968,16.656,9.555,11.963,14.924,20.972,22.008,19.053,23.886,33.264,4.936,12.936,19.376,10.843,12.117,13.272,12.488,16.48,20.584,29.072,10.409,12.425,16.268,24.983,32.508,12.424,14.88,18.272,27.12,11.375,13.811,16.954,25.935]  # Values from 1 to 60 (inclusive)\n",
        "fuel_2_range=[]\n",
        "for i in fuel_1_range:\n",
        "  fuel_2_range.append(i*0.2)\n",
        " # Values from 1 to 40 (inclusive)\n",
        "calorific_value1 = 35800\n",
        "brake_power = 5.2\n",
        "density1 = 958\n",
        "density2=776\n",
        "calorific_value2=20000\n",
        "# Assuming you have the formulas defined as functions, for example:\n",
        "def predict_efficiency(fuel_amount_1, fuel_amount_2, calorific_value1,calorific_value2, brake_power, density1,density2):\n",
        "    # Your formula to calculate efficiency based on the given inputs\n",
        "    mass_of_fuel1 = ((fuel_amount_1  * 0.000001) / 60) * density1\n",
        "    mass_of_fuel2=((fuel_amount_2  * 0.000001) / 60) * density2\n",
        "    heat_input = mass_of_fuel1 * calorific_value1 + mass_of_fuel2 * calorific_value2\n",
        "    efficiency = brake_power / heat_input\n",
        "    return heat_input\n",
        "    # Limit efficiency to a maximum value of 32\n",
        "    efficiency = min(efficiency, 32)\n",
        "\n",
        "    return efficiency\n",
        "\n",
        "# List to store combinations that meet the efficiency criteria\n",
        "efficient_combinations = []\n",
        "\n",
        "# Loop through all combinations of fuel_1 and fuel_2\n",
        "for fuel_amount_1 in fuel_1_range:\n",
        "      # Use the formula-based prediction function to get efficiency\n",
        "      predicted_efficiency = predict_efficiency(fuel_amount_1, fuel_amount_1*0.2, calorific_value1,calorific_value2 ,brake_power,density1,density2)\n",
        "      \"\"\"if 31 <= predicted_efficiency <= 35:\"\"\"\n",
        "      efficient_combinations.append((fuel_amount_1, fuel_amount_1*0.2, predicted_efficiency))\n",
        "\n",
        "# Print the combinations that meet the efficiency criteria\n",
        "if efficient_combinations:\n",
        "    for fuel_amount_1, fuel_amount_2, predicted_efficiency in efficient_combinations:\n",
        "        eff=(brake_power/predicted_efficiency)*100\n",
        "        if eff>=31 and eff<=35:\n",
        "          print(f\"For Fuel 1 amount = {fuel_amount_1}, Fuel 2 amount = {fuel_amount_2}, \"\n",
        "                f\"Brake power = {brake_power}, \"\n",
        "                f\"Heat Input = {predicted_efficiency}, \",f\"Efficiency={eff}\")\n",
        "\n",
        "else:\n",
        "    print(\"No combinations meet the efficiency criteria.\")"
      ],
      "metadata": {
        "colab": {
          "base_uri": "https://localhost:8080/"
        },
        "id": "fAYCf69VjOhs",
        "outputId": "b73f2679-2c74-4aad-e8b8-dda73aa1869b"
      },
      "execution_count": null,
      "outputs": [
        {
          "output_type": "stream",
          "name": "stdout",
          "text": [
            "For Fuel 1 amount = 26.28, Fuel 2 amount = 5.256, Brake power = 5.2, Heat Input = 16.381375199999997,  Efficiency=31.743366698541898\n",
            "For Fuel 1 amount = 24.288, Fuel 2 amount = 4.857600000000001, Brake power = 5.2, Heat Input = 15.13968192,  Efficiency=34.34682463923258\n",
            "For Fuel 1 amount = 25.298, Fuel 2 amount = 5.0596, Brake power = 5.2, Heat Input = 15.769255319999996,  Efficiency=32.975558417174526\n",
            "For Fuel 1 amount = 25.935, Fuel 2 amount = 5.187, Brake power = 5.2, Heat Input = 16.166322899999997,  Efficiency=32.16563242096322\n",
            "For Fuel 1 amount = 23.886, Fuel 2 amount = 4.7772, Brake power = 5.2, Heat Input = 14.889099239999997,  Efficiency=34.92487971354271\n",
            "For Fuel 1 amount = 24.983, Fuel 2 amount = 4.996600000000001, Brake power = 5.2, Heat Input = 15.57290322,  Efficiency=33.39133318006968\n",
            "For Fuel 1 amount = 25.935, Fuel 2 amount = 5.187, Brake power = 5.2, Heat Input = 16.166322899999997,  Efficiency=32.16563242096322\n"
          ]
        }
      ]
    },
    {
      "cell_type": "markdown",
      "source": [
        "Methanol 30"
      ],
      "metadata": {
        "id": "4wuocD36jj5N"
      }
    },
    {
      "cell_type": "code",
      "source": [
        "#Methano1 30\n",
        "fuel_1_range = [16.46,20.11,28.18,18.05,20.49,27.43,41.24,12.81,19.13,8.91,8.37,26.28,33.83,17.658,22.041,27.756,26.955,15.264,18.224,22.4,16.912,18.648,23.429,9.324,11.994,14.682,17.604,21.522,6.909,17.094,20.86,28.042,35.945,13.992,15.432,19.744,24.288,17.776,10.346,12.936,17.85,25.298,30.807,18.891,20.421,12.504,14.92,19.432,22.616,20.848,10.143,12.621,15.365,20.958,10.528,13.944,11.277,12.978,17.031,25.935,11.416,13.968,16.656,9.555,11.963,14.924,20.972,22.008,19.053,23.886,33.264,4.936,12.936,19.376,10.843,12.117,13.272,12.488,16.48,20.584,29.072,10.409,12.425,16.268,24.983,32.508,12.424,14.88,18.272,27.12,11.375,13.811,16.954,25.935]  # Values from 1 to 60 (inclusive)\n",
        "fuel_2_range=[]\n",
        "for i in fuel_1_range:\n",
        "  fuel_2_range.append(i*0.3)\n",
        " # Values from 1 to 40 (inclusive)\n",
        "calorific_value1 = 35800\n",
        "brake_power = 5.2\n",
        "density1 = 958\n",
        "density2=776\n",
        "calorific_value2=20000\n",
        "# Assuming you have the formulas defined as functions, for example:\n",
        "def predict_efficiency(fuel_amount_1, fuel_amount_2, calorific_value1,calorific_value2, brake_power, density1,density2):\n",
        "    # Your formula to calculate efficiency based on the given inputs\n",
        "    mass_of_fuel1 = ((fuel_amount_1  * 0.000001) / 60) * density1\n",
        "    mass_of_fuel2=((fuel_amount_2  * 0.000001) / 60) * density2\n",
        "    heat_input = mass_of_fuel1 * calorific_value1 + mass_of_fuel2 * calorific_value2\n",
        "    efficiency = brake_power / heat_input\n",
        "    return heat_input\n",
        "    # Limit efficiency to a maximum value of 32\n",
        "    efficiency = min(efficiency, 32)\n",
        "\n",
        "    return efficiency\n",
        "\n",
        "# List to store combinations that meet the efficiency criteria\n",
        "efficient_combinations = []\n",
        "\n",
        "# Loop through all combinations of fuel_1 and fuel_2\n",
        "for fuel_amount_1 in fuel_1_range:\n",
        "      # Use the formula-based prediction function to get efficiency\n",
        "      predicted_efficiency = predict_efficiency(fuel_amount_1, fuel_amount_1*0.3, calorific_value1,calorific_value2 ,brake_power,density1,density2)\n",
        "      \"\"\"if 31 <= predicted_efficiency <= 35:\"\"\"\n",
        "      efficient_combinations.append((fuel_amount_1, fuel_amount_1*0.3, predicted_efficiency))\n",
        "\n",
        "# Print the combinations that meet the efficiency criteria\n",
        "if efficient_combinations:\n",
        "    for fuel_amount_1, fuel_amount_2, predicted_efficiency in efficient_combinations:\n",
        "        eff=(brake_power/predicted_efficiency)*100\n",
        "        if eff>=31 and eff<=35:\n",
        "          print(f\"For Fuel 1 amount = {fuel_amount_1}, Fuel 2 amount = {fuel_amount_2}, \"\n",
        "                f\"Brake power = {brake_power}, \"\n",
        "                f\"Heat Input = {predicted_efficiency}, \",f\"Efficiency={eff}\")\n",
        "\n",
        "else:\n",
        "    print(\"No combinations meet the efficiency criteria.\")"
      ],
      "metadata": {
        "colab": {
          "base_uri": "https://localhost:8080/"
        },
        "id": "cURUBia5jmRj",
        "outputId": "29312a93-1c6e-4a87-b2c8-1cd48df3ad51"
      },
      "execution_count": null,
      "outputs": [
        {
          "output_type": "stream",
          "name": "stdout",
          "text": [
            "For Fuel 1 amount = 23.429, Fuel 2 amount = 7.0287, Brake power = 5.2, Heat Input = 15.210262993333332,  Efficiency=34.187443059197356\n",
            "For Fuel 1 amount = 24.288, Fuel 2 amount = 7.2863999999999995, Brake power = 5.2, Heat Input = 15.76793152,  Efficiency=32.978326887102064\n",
            "For Fuel 1 amount = 25.298, Fuel 2 amount = 7.5893999999999995, Brake power = 5.2, Heat Input = 16.42363025333333,  Efficiency=31.66169671254388\n",
            "For Fuel 1 amount = 23.886, Fuel 2 amount = 7.1658, Brake power = 5.2, Heat Input = 15.506950439999997,  Efficiency=33.533350223308\n",
            "For Fuel 1 amount = 24.983, Fuel 2 amount = 7.4948999999999995, Brake power = 5.2, Heat Input = 16.21913015333333,  Efficiency=32.06090555313352\n"
          ]
        }
      ]
    },
    {
      "cell_type": "markdown",
      "source": [
        "Methanol 40"
      ],
      "metadata": {
        "id": "_nYJAbHzjtmt"
      }
    },
    {
      "cell_type": "code",
      "source": [
        "#Methano1 40\n",
        "fuel_1_range = [16.46,20.11,28.18,18.05,20.49,27.43,41.24,12.81,19.13,8.91,8.37,26.28,33.83,17.658,22.041,27.756,26.955,15.264,18.224,22.4,16.912,18.648,23.429,9.324,11.994,14.682,17.604,21.522,6.909,17.094,20.86,28.042,35.945,13.992,15.432,19.744,24.288,17.776,10.346,12.936,17.85,25.298,30.807,18.891,20.421,12.504,14.92,19.432,22.616,20.848,10.143,12.621,15.365,20.958,10.528,13.944,11.277,12.978,17.031,25.935,11.416,13.968,16.656,9.555,11.963,14.924,20.972,22.008,19.053,23.886,33.264,4.936,12.936,19.376,10.843,12.117,13.272,12.488,16.48,20.584,29.072,10.409,12.425,16.268,24.983,32.508,12.424,14.88,18.272,27.12,11.375,13.811,16.954,25.935]  # Values from 1 to 60 (inclusive)\n",
        "fuel_2_range=[]\n",
        "for i in fuel_1_range:\n",
        "  fuel_2_range.append(i*0.4)\n",
        " # Values from 1 to 40 (inclusive)\n",
        "calorific_value1 = 35800\n",
        "brake_power = 5.2\n",
        "density1 = 958\n",
        "density2=776\n",
        "calorific_value2=20000\n",
        "# Assuming you have the formulas defined as functions, for example:\n",
        "def predict_efficiency(fuel_amount_1, fuel_amount_2, calorific_value1,calorific_value2, brake_power, density1,density2):\n",
        "    # Your formula to calculate efficiency based on the given inputs\n",
        "    mass_of_fuel1 = ((fuel_amount_1  * 0.000001) / 60) * density1\n",
        "    mass_of_fuel2=((fuel_amount_2  * 0.000001) / 60) * density2\n",
        "    heat_input = mass_of_fuel1 * calorific_value1 + mass_of_fuel2 * calorific_value2\n",
        "    efficiency = brake_power / heat_input\n",
        "    return heat_input\n",
        "    # Limit efficiency to a maximum value of 32\n",
        "    efficiency = min(efficiency, 32)\n",
        "\n",
        "    return efficiency\n",
        "\n",
        "# List to store combinations that meet the efficiency criteria\n",
        "efficient_combinations = []\n",
        "\n",
        "# Loop through all combinations of fuel_1 and fuel_2\n",
        "for fuel_amount_1 in fuel_1_range:\n",
        "      # Use the formula-based prediction function to get efficiency\n",
        "      predicted_efficiency = predict_efficiency(fuel_amount_1, fuel_amount_1*0.4, calorific_value1,calorific_value2 ,brake_power,density1,density2)\n",
        "      \"\"\"if 31 <= predicted_efficiency <= 35:\"\"\"\n",
        "      efficient_combinations.append((fuel_amount_1, fuel_amount_1*0.4, predicted_efficiency))\n",
        "\n",
        "# Print the combinations that meet the efficiency criteria\n",
        "if efficient_combinations:\n",
        "    for fuel_amount_1, fuel_amount_2, predicted_efficiency in efficient_combinations:\n",
        "        eff=(brake_power/predicted_efficiency)*100\n",
        "        if eff>=31 and eff<=35:\n",
        "          print(f\"For Fuel 1 amount = {fuel_amount_1}, Fuel 2 amount = {fuel_amount_2}, \"\n",
        "                f\"Brake power = {brake_power}, \"\n",
        "                f\"Heat Input = {predicted_efficiency}, \",f\"Efficiency={eff}\")\n",
        "\n",
        "else:\n",
        "    print(\"No combinations meet the efficiency criteria.\")"
      ],
      "metadata": {
        "colab": {
          "base_uri": "https://localhost:8080/"
        },
        "id": "2mz3VkcHjwhY",
        "outputId": "4eff7ec1-a659-4864-a085-f8d6c808f589"
      },
      "execution_count": null,
      "outputs": [
        {
          "output_type": "stream",
          "name": "stdout",
          "text": [
            "For Fuel 1 amount = 22.041, Fuel 2 amount = 8.8164, Brake power = 5.2, Heat Input = 14.87929134,  Efficiency=34.947900952922666\n",
            "For Fuel 1 amount = 22.4, Fuel 2 amount = 8.959999999999999, Brake power = 5.2, Heat Input = 15.121642666666666,  Efficiency=34.3877984331861\n",
            "For Fuel 1 amount = 23.429, Fuel 2 amount = 9.371599999999999, Brake power = 5.2, Heat Input = 15.816293126666666,  Efficiency=32.87748879181222\n",
            "For Fuel 1 amount = 24.288, Fuel 2 amount = 9.715200000000001, Brake power = 5.2, Heat Input = 16.39618112,  Efficiency=31.71470211229284\n",
            "For Fuel 1 amount = 22.616, Fuel 2 amount = 9.0464, Brake power = 5.2, Heat Input = 15.267458506666665,  Efficiency=34.05936880541955\n",
            "For Fuel 1 amount = 23.886, Fuel 2 amount = 9.5544, Brake power = 5.2, Heat Input = 16.124801639999998,  Efficiency=32.248458716543944\n"
          ]
        }
      ]
    },
    {
      "cell_type": "markdown",
      "source": [
        "COCO 10"
      ],
      "metadata": {
        "id": "4beYRhOTj26W"
      }
    },
    {
      "cell_type": "code",
      "source": [
        "#COCO 10\n",
        "fuel_1_range = [16.46,20.11,28.18,18.05,20.49,27.43,41.24,12.81,19.13,8.91,8.37,26.28,33.83,17.658,22.041,27.756,26.955,15.264,18.224,22.4,16.912,18.648,23.429,9.324,11.994,14.682,17.604,21.522,6.909,17.094,20.86,28.042,35.945,13.992,15.432,19.744,24.288,17.776,10.346,12.936,17.85,25.298,30.807,18.891,20.421,12.504,14.92,19.432,22.616,20.848,10.143,12.621,15.365,20.958,10.528,13.944,11.277,12.978,17.031,25.935,11.416,13.968,16.656,9.555,11.963,14.924,20.972,22.008,19.053,23.886,33.264,4.936,12.936,19.376,10.843,12.117,13.272,12.488,16.48,20.584,29.072,10.409,12.425,16.268,24.983,32.508,12.424,14.88,18.272,27.12,11.375,13.811,16.954,25.935]  # Values from 1 to 60 (inclusive)\n",
        "fuel_2_range=[]\n",
        "for i in fuel_1_range:\n",
        "  fuel_2_range.append(i*0.1)\n",
        " # Values from 1 to 40 (inclusive)\n",
        "calorific_value1 = 35800\n",
        "brake_power = 5.2\n",
        "density1 = 958\n",
        "density2=915.1\n",
        "calorific_value2=37100\n",
        "# Assuming you have the formulas defined as functions, for example:\n",
        "def predict_efficiency(fuel_amount_1, fuel_amount_2, calorific_value1,calorific_value2, brake_power, density1,density2):\n",
        "    # Your formula to calculate efficiency based on the given inputs\n",
        "    mass_of_fuel1 = ((fuel_amount_1  * 0.000001) / 60) * density1\n",
        "    mass_of_fuel2=((fuel_amount_2  * 0.000001) / 60) * density2\n",
        "    heat_input = mass_of_fuel1 * calorific_value1 + mass_of_fuel2 * calorific_value2\n",
        "    efficiency = brake_power / heat_input\n",
        "    return heat_input\n",
        "    # Limit efficiency to a maximum value of 32\n",
        "    efficiency = min(efficiency, 32)\n",
        "\n",
        "    return efficiency\n",
        "\n",
        "# List to store combinations that meet the efficiency criteria\n",
        "efficient_combinations = []\n",
        "\n",
        "# Loop through all combinations of fuel_1 and fuel_2\n",
        "for fuel_amount_1 in fuel_1_range:\n",
        "      # Use the formula-based prediction function to get efficiency\n",
        "      predicted_efficiency = predict_efficiency(fuel_amount_1, fuel_amount_1*0.1, calorific_value1,calorific_value2 ,brake_power,density1,density2)\n",
        "      \"\"\"if 31 <= predicted_efficiency <= 35:\"\"\"\n",
        "      efficient_combinations.append((fuel_amount_1, fuel_amount_1*0.1, predicted_efficiency))\n",
        "\n",
        "# Print the combinations that meet the efficiency criteria\n",
        "if efficient_combinations:\n",
        "    for fuel_amount_1, fuel_amount_2, predicted_efficiency in efficient_combinations:\n",
        "        eff=(brake_power/predicted_efficiency)*100\n",
        "        if eff>=31 and eff<=35:\n",
        "          print(f\"For Fuel 1 amount = {fuel_amount_1}, Fuel 2 amount = {fuel_amount_2}, \"\n",
        "                f\"Brake power = {brake_power}, \"\n",
        "                f\"Heat Input = {predicted_efficiency}, \",f\"Efficiency={eff}\")\n",
        "\n",
        "else:\n",
        "    print(\"No combinations meet the efficiency criteria.\")"
      ],
      "metadata": {
        "colab": {
          "base_uri": "https://localhost:8080/"
        },
        "id": "wvg9H-vdj__E",
        "outputId": "3d8d9a4f-2ef2-4880-d025-a0e8e850deb4"
      },
      "execution_count": null,
      "outputs": [
        {
          "output_type": "stream",
          "name": "stdout",
          "text": [
            "For Fuel 1 amount = 26.28, Fuel 2 amount = 2.628, Brake power = 5.2, Heat Input = 16.508842398,  Efficiency=31.498271499823428\n",
            "For Fuel 1 amount = 24.288, Fuel 2 amount = 2.4288000000000003, Brake power = 5.2, Heat Input = 15.2574872208,  Efficiency=34.081627759196294\n",
            "For Fuel 1 amount = 25.298, Fuel 2 amount = 2.5298, Brake power = 5.2, Heat Input = 15.891959474299997,  Efficiency=32.720949285135575\n",
            "For Fuel 1 amount = 25.935, Fuel 2 amount = 2.5935, Brake power = 5.2, Heat Input = 16.29211672725,  Efficiency=31.91727684655329\n",
            "For Fuel 1 amount = 23.886, Fuel 2 amount = 2.3886, Brake power = 5.2, Heat Input = 15.004954700099997,  Efficiency=34.65521958533701\n",
            "For Fuel 1 amount = 24.983, Fuel 2 amount = 2.4983000000000004, Brake power = 5.2, Heat Input = 15.69407951405,  Efficiency=33.13351378999158\n",
            "For Fuel 1 amount = 25.935, Fuel 2 amount = 2.5935, Brake power = 5.2, Heat Input = 16.29211672725,  Efficiency=31.91727684655329\n"
          ]
        }
      ]
    },
    {
      "cell_type": "markdown",
      "source": [
        "COCO 20"
      ],
      "metadata": {
        "id": "5hlRSS50j3jX"
      }
    },
    {
      "cell_type": "code",
      "source": [
        "#COCO 20\n",
        "fuel_1_range = [16.46,20.11,28.18,18.05,20.49,27.43,41.24,12.81,19.13,8.91,8.37,26.28,33.83,17.658,22.041,27.756,26.955,15.264,18.224,22.4,16.912,18.648,23.429,9.324,11.994,14.682,17.604,21.522,6.909,17.094,20.86,28.042,35.945,13.992,15.432,19.744,24.288,17.776,10.346,12.936,17.85,25.298,30.807,18.891,20.421,12.504,14.92,19.432,22.616,20.848,10.143,12.621,15.365,20.958,10.528,13.944,11.277,12.978,17.031,25.935,11.416,13.968,16.656,9.555,11.963,14.924,20.972,22.008,19.053,23.886,33.264,4.936,12.936,19.376,10.843,12.117,13.272,12.488,16.48,20.584,29.072,10.409,12.425,16.268,24.983,32.508,12.424,14.88,18.272,27.12,11.375,13.811,16.954,25.935]  # Values from 1 to 60 (inclusive)\n",
        "fuel_2_range=[]\n",
        "for i in fuel_1_range:\n",
        "  fuel_2_range.append(i*0.2)\n",
        " # Values from 1 to 40 (inclusive)\n",
        "calorific_value1 = 35800\n",
        "brake_power = 5.2\n",
        "density1 = 958\n",
        "density2=915.1\n",
        "calorific_value2=37100\n",
        "# Assuming you have the formulas defined as functions, for example:\n",
        "def predict_efficiency(fuel_amount_1, fuel_amount_2, calorific_value1,calorific_value2, brake_power, density1,density2):\n",
        "    # Your formula to calculate efficiency based on the given inputs\n",
        "    mass_of_fuel1 = ((fuel_amount_1  * 0.000001) / 60) * density1\n",
        "    mass_of_fuel2=((fuel_amount_2  * 0.000001) / 60) * density2\n",
        "    heat_input = mass_of_fuel1 * calorific_value1 + mass_of_fuel2 * calorific_value2\n",
        "    efficiency = brake_power / heat_input\n",
        "    return heat_input\n",
        "    # Limit efficiency to a maximum value of 32\n",
        "    efficiency = min(efficiency, 32)\n",
        "\n",
        "    return efficiency\n",
        "\n",
        "# List to store combinations that meet the efficiency criteria\n",
        "efficient_combinations = []\n",
        "\n",
        "# Loop through all combinations of fuel_1 and fuel_2\n",
        "for fuel_amount_1 in fuel_1_range:\n",
        "      # Use the formula-based prediction function to get efficiency\n",
        "      predicted_efficiency = predict_efficiency(fuel_amount_1, fuel_amount_1*0.2, calorific_value1,calorific_value2 ,brake_power,density1,density2)\n",
        "      \"\"\"if 31 <= predicted_efficiency <= 35:\"\"\"\n",
        "      efficient_combinations.append((fuel_amount_1, fuel_amount_1*0.2, predicted_efficiency))\n",
        "\n",
        "# Print the combinations that meet the efficiency criteria\n",
        "if efficient_combinations:\n",
        "    for fuel_amount_1, fuel_amount_2, predicted_efficiency in efficient_combinations:\n",
        "        eff=(brake_power/predicted_efficiency)*100\n",
        "        if eff>=31 and eff<=35:\n",
        "          print(f\"For Fuel 1 amount = {fuel_amount_1}, Fuel 2 amount = {fuel_amount_2}, \"\n",
        "                f\"Brake power = {brake_power}, \"\n",
        "                f\"Heat Input = {predicted_efficiency}, \",f\"Efficiency={eff}\")\n",
        "\n",
        "else:\n",
        "    print(\"No combinations meet the efficiency criteria.\")"
      ],
      "metadata": {
        "colab": {
          "base_uri": "https://localhost:8080/"
        },
        "id": "vd0ejtASkNUM",
        "outputId": "a7ad0019-df87-4b88-eb5d-4411f9baf5af"
      },
      "execution_count": null,
      "outputs": [
        {
          "output_type": "stream",
          "name": "stdout",
          "text": [
            "For Fuel 1 amount = 22.041, Fuel 2 amount = 4.4082, Brake power = 5.2, Heat Input = 15.0931044687,  Efficiency=34.45281923797541\n",
            "For Fuel 1 amount = 22.4, Fuel 2 amount = 4.4799999999999995, Brake power = 5.2, Heat Input = 15.338938346666668,  Efficiency=33.90065128679536\n",
            "For Fuel 1 amount = 23.429, Fuel 2 amount = 4.6857999999999995, Brake power = 5.2, Heat Input = 16.043570826966665,  Efficiency=32.411737113159596\n",
            "For Fuel 1 amount = 24.288, Fuel 2 amount = 4.857600000000001, Brake power = 5.2, Heat Input = 16.6317917216,  Efficiency=31.26542279414592\n",
            "For Fuel 1 amount = 22.616, Fuel 2 amount = 4.5232, Brake power = 5.2, Heat Input = 15.486849537866664,  Efficiency=33.57687428476371\n",
            "For Fuel 1 amount = 22.008, Fuel 2 amount = 4.4016, Brake power = 5.2, Heat Input = 15.070506925599997,  Efficiency=34.50447968121666\n",
            "For Fuel 1 amount = 23.886, Fuel 2 amount = 4.7772, Brake power = 5.2, Heat Input = 16.3565125602,  Efficiency=31.79161805342946\n"
          ]
        }
      ]
    },
    {
      "cell_type": "markdown",
      "source": [
        "COCO30"
      ],
      "metadata": {
        "id": "_Y0oWfM6kS_V"
      }
    },
    {
      "cell_type": "code",
      "source": [
        "#COCO 30\n",
        "fuel_1_range = [16.46,20.11,28.18,18.05,20.49,27.43,41.24,12.81,19.13,8.91,8.37,26.28,33.83,17.658,22.041,27.756,26.955,15.264,18.224,22.4,16.912,18.648,23.429,9.324,11.994,14.682,17.604,21.522,6.909,17.094,20.86,28.042,35.945,13.992,15.432,19.744,24.288,17.776,10.346,12.936,17.85,25.298,30.807,18.891,20.421,12.504,14.92,19.432,22.616,20.848,10.143,12.621,15.365,20.958,10.528,13.944,11.277,12.978,17.031,25.935,11.416,13.968,16.656,9.555,11.963,14.924,20.972,22.008,19.053,23.886,33.264,4.936,12.936,19.376,10.843,12.117,13.272,12.488,16.48,20.584,29.072,10.409,12.425,16.268,24.983,32.508,12.424,14.88,18.272,27.12,11.375,13.811,16.954,25.935]  # Values from 1 to 60 (inclusive)\n",
        "fuel_2_range=[]\n",
        "for i in fuel_1_range:\n",
        "  fuel_2_range.append(i*0.3)\n",
        " # Values from 1 to 40 (inclusive)\n",
        "calorific_value1 = 35800\n",
        "brake_power = 5.2\n",
        "density1 = 958\n",
        "density2=915.1\n",
        "calorific_value2=37100\n",
        "# Assuming you have the formulas defined as functions, for example:\n",
        "def predict_efficiency(fuel_amount_1, fuel_amount_2, calorific_value1,calorific_value2, brake_power, density1,density2):\n",
        "    # Your formula to calculate efficiency based on the given inputs\n",
        "    mass_of_fuel1 = ((fuel_amount_1  * 0.000001) / 60) * density1\n",
        "    mass_of_fuel2=((fuel_amount_2  * 0.000001) / 60) * density2\n",
        "    heat_input = mass_of_fuel1 * calorific_value1 + mass_of_fuel2 * calorific_value2\n",
        "    efficiency = brake_power / heat_input\n",
        "    return heat_input\n",
        "    # Limit efficiency to a maximum value of 32\n",
        "    efficiency = min(efficiency, 32)\n",
        "\n",
        "    return efficiency\n",
        "\n",
        "# List to store combinations that meet the efficiency criteria\n",
        "efficient_combinations = []\n",
        "\n",
        "# Loop through all combinations of fuel_1 and fuel_2\n",
        "for fuel_amount_1 in fuel_1_range:\n",
        "      # Use the formula-based prediction function to get efficiency\n",
        "      predicted_efficiency = predict_efficiency(fuel_amount_1, fuel_amount_1*0.3, calorific_value1,calorific_value2 ,brake_power,density1,density2)\n",
        "      \"\"\"if 31 <= predicted_efficiency <= 35:\"\"\"\n",
        "      efficient_combinations.append((fuel_amount_1, fuel_amount_1*0.3, predicted_efficiency))\n",
        "\n",
        "# Print the combinations that meet the efficiency criteria\n",
        "if efficient_combinations:\n",
        "    for fuel_amount_1, fuel_amount_2, predicted_efficiency in efficient_combinations:\n",
        "        eff=(brake_power/predicted_efficiency)*100\n",
        "        if eff>=31 and eff<=35:\n",
        "          print(f\"For Fuel 1 amount = {fuel_amount_1}, Fuel 2 amount = {fuel_amount_2}, \"\n",
        "                f\"Brake power = {brake_power}, \"\n",
        "                f\"Heat Input = {predicted_efficiency}, \",f\"Efficiency={eff}\")\n",
        "\n",
        "else:\n",
        "    print(\"No combinations meet the efficiency criteria.\")"
      ],
      "metadata": {
        "colab": {
          "base_uri": "https://localhost:8080/"
        },
        "id": "VA6JM2-RkShT",
        "outputId": "9c48beb5-a4e4-4d76-982d-652cdaf99176"
      },
      "execution_count": null,
      "outputs": [
        {
          "output_type": "stream",
          "name": "stdout",
          "text": [
            "For Fuel 1 amount = 20.11, Fuel 2 amount = 6.0329999999999995, Brake power = 5.2, Heat Input = 14.908703682166665,  Efficiency=34.87895467544963\n",
            "For Fuel 1 amount = 20.49, Fuel 2 amount = 6.146999999999999, Brake power = 5.2, Heat Input = 15.190419614499998,  Efficiency=34.23210241694934\n",
            "For Fuel 1 amount = 22.041, Fuel 2 amount = 6.6123, Brake power = 5.2, Heat Input = 16.34026543305,  Efficiency=31.823228461652914\n",
            "For Fuel 1 amount = 22.4, Fuel 2 amount = 6.72, Brake power = 5.2, Heat Input = 16.60641285333333,  Efficiency=31.313204398361243\n",
            "For Fuel 1 amount = 21.522, Fuel 2 amount = 6.456599999999999, Brake power = 5.2, Heat Input = 15.955500778099996,  Efficiency=32.590641135735154\n",
            "For Fuel 1 amount = 20.86, Fuel 2 amount = 6.258, Brake power = 5.2, Heat Input = 15.464721969666668,  Efficiency=33.624917474750326\n",
            "For Fuel 1 amount = 20.421, Fuel 2 amount = 6.1263, Brake power = 5.2, Heat Input = 15.139265932049998,  Efficiency=34.34776840131688\n",
            "For Fuel 1 amount = 22.616, Fuel 2 amount = 6.7848, Brake power = 5.2, Heat Input = 16.76654612013333,  Efficiency=31.014139481928364\n",
            "For Fuel 1 amount = 20.848, Fuel 2 amount = 6.2543999999999995, Brake power = 5.2, Heat Input = 15.455825677066663,  Efficiency=33.64427180176957\n",
            "For Fuel 1 amount = 20.958, Fuel 2 amount = 6.287399999999999, Brake power = 5.2, Heat Input = 15.537375025900001,  Efficiency=33.467686731715425\n",
            "For Fuel 1 amount = 20.972, Fuel 2 amount = 6.2916, Brake power = 5.2, Heat Input = 15.547754033933334,  Efficiency=33.445345151787706\n",
            "For Fuel 1 amount = 22.008, Fuel 2 amount = 6.602399999999999, Brake power = 5.2, Heat Input = 16.315800628399998,  Efficiency=31.870945952530533\n",
            "For Fuel 1 amount = 20.584, Fuel 2 amount = 6.175199999999999, Brake power = 5.2, Heat Input = 15.260107239866667,  Efficiency=34.075776259390395\n"
          ]
        }
      ]
    },
    {
      "cell_type": "markdown",
      "source": [
        "COCO 40"
      ],
      "metadata": {
        "id": "L-6jkUWQkcgW"
      }
    },
    {
      "cell_type": "code",
      "source": [
        "#COCO 40\n",
        "fuel_1_range = [16.46,20.11,28.18,18.05,20.49,27.43,41.24,12.81,19.13,8.91,8.37,26.28,33.83,17.658,22.041,27.756,26.955,15.264,18.224,22.4,16.912,18.648,23.429,9.324,11.994,14.682,17.604,21.522,6.909,17.094,20.86,28.042,35.945,13.992,15.432,19.744,24.288,17.776,10.346,12.936,17.85,25.298,30.807,18.891,20.421,12.504,14.92,19.432,22.616,20.848,10.143,12.621,15.365,20.958,10.528,13.944,11.277,12.978,17.031,25.935,11.416,13.968,16.656,9.555,11.963,14.924,20.972,22.008,19.053,23.886,33.264,4.936,12.936,19.376,10.843,12.117,13.272,12.488,16.48,20.584,29.072,10.409,12.425,16.268,24.983,32.508,12.424,14.88,18.272,27.12,11.375,13.811,16.954,25.935]  # Values from 1 to 60 (inclusive)\n",
        "fuel_2_range=[]\n",
        "for i in fuel_1_range:\n",
        "  fuel_2_range.append(i*0.4)\n",
        " # Values from 1 to 40 (inclusive)\n",
        "calorific_value1 = 35800\n",
        "brake_power = 5.2\n",
        "density1 = 958\n",
        "density2=915.1\n",
        "calorific_value2=37100\n",
        "# Assuming you have the formulas defined as functions, for example:\n",
        "def predict_efficiency(fuel_amount_1, fuel_amount_2, calorific_value1,calorific_value2, brake_power, density1,density2):\n",
        "    # Your formula to calculate efficiency based on the given inputs\n",
        "    mass_of_fuel1 = ((fuel_amount_1  * 0.000001) / 60) * density1\n",
        "    mass_of_fuel2=((fuel_amount_2  * 0.000001) / 60) * density2\n",
        "    heat_input = mass_of_fuel1 * calorific_value1 + mass_of_fuel2 * calorific_value2\n",
        "    efficiency = brake_power / heat_input\n",
        "    return heat_input\n",
        "    # Limit efficiency to a maximum value of 32\n",
        "    efficiency = min(efficiency, 32)\n",
        "\n",
        "    return efficiency\n",
        "\n",
        "# List to store combinations that meet the efficiency criteria\n",
        "efficient_combinations = []\n",
        "\n",
        "# Loop through all combinations of fuel_1 and fuel_2\n",
        "for fuel_amount_1 in fuel_1_range:\n",
        "      # Use the formula-based prediction function to get efficiency\n",
        "      predicted_efficiency = predict_efficiency(fuel_amount_1, fuel_amount_1*0.4, calorific_value1,calorific_value2 ,brake_power,density1,density2)\n",
        "      \"\"\"if 31 <= predicted_efficiency <= 35:\"\"\"\n",
        "      efficient_combinations.append((fuel_amount_1, fuel_amount_1*0.4, predicted_efficiency))\n",
        "\n",
        "# Print the combinations that meet the efficiency criteria\n",
        "if efficient_combinations:\n",
        "    for fuel_amount_1, fuel_amount_2, predicted_efficiency in efficient_combinations:\n",
        "        eff=(brake_power/predicted_efficiency)*100\n",
        "        if eff>=31 and eff<=35:\n",
        "          print(f\"For Fuel 1 amount = {fuel_amount_1}, Fuel 2 amount = {fuel_amount_2}, \"\n",
        "                f\"Brake power = {brake_power}, \"\n",
        "                f\"Heat Input = {predicted_efficiency}, \",f\"Efficiency={eff}\")\n",
        "\n",
        "else:\n",
        "    print(\"No combinations meet the efficiency criteria.\")"
      ],
      "metadata": {
        "colab": {
          "base_uri": "https://localhost:8080/"
        },
        "id": "-8crSUtukdi3",
        "outputId": "ef2d9a42-5be4-4da3-9829-79f073c9cc7d"
      },
      "execution_count": null,
      "outputs": [
        {
          "output_type": "stream",
          "name": "stdout",
          "text": [
            "For Fuel 1 amount = 20.11, Fuel 2 amount = 8.044, Brake power = 5.2, Heat Input = 16.046601554,  Efficiency=32.40561549746822\n",
            "For Fuel 1 amount = 20.49, Fuel 2 amount = 8.196, Brake power = 5.2, Heat Input = 16.349819286,  Efficiency=31.80463287721259\n",
            "For Fuel 1 amount = 19.13, Fuel 2 amount = 7.652, Brake power = 5.2, Heat Input = 15.264618982,  Efficiency=34.065704529748345\n",
            "For Fuel 1 amount = 18.648, Fuel 2 amount = 7.4592, Brake power = 5.2, Heat Input = 14.8800112272,  Efficiency=34.94621019166055\n",
            "For Fuel 1 amount = 20.86, Fuel 2 amount = 8.344, Brake power = 5.2, Heat Input = 16.645057604,  Efficiency=31.240504681403923\n",
            "For Fuel 1 amount = 19.744, Fuel 2 amount = 7.897600000000001, Brake power = 5.2, Heat Input = 15.7545550016,  Efficiency=33.00632737307971\n",
            "For Fuel 1 amount = 18.891, Fuel 2 amount = 7.5564, Brake power = 5.2, Heat Input = 15.073910987399998,  Efficiency=34.49668771658917\n",
            "For Fuel 1 amount = 20.421, Fuel 2 amount = 8.1684, Brake power = 5.2, Heat Input = 16.2947613294,  Efficiency=31.91209674619685\n",
            "For Fuel 1 amount = 19.432, Fuel 2 amount = 7.7728, Brake power = 5.2, Heat Input = 15.505597284799999,  Efficiency=33.53627663925926\n",
            "For Fuel 1 amount = 20.848, Fuel 2 amount = 8.3392, Brake power = 5.2, Heat Input = 16.635482307199997,  Efficiency=31.258486552862912\n",
            "For Fuel 1 amount = 20.958, Fuel 2 amount = 8.3832, Brake power = 5.2, Heat Input = 16.723255861200002,  Efficiency=31.094423497188938\n",
            "For Fuel 1 amount = 20.972, Fuel 2 amount = 8.388800000000002, Brake power = 5.2, Heat Input = 16.734427040800004,  Efficiency=31.073666205134742\n",
            "For Fuel 1 amount = 19.053, Fuel 2 amount = 7.621200000000001, Brake power = 5.2, Heat Input = 15.203177494199998,  Efficiency=34.20337624804944\n",
            "For Fuel 1 amount = 19.376, Fuel 2 amount = 7.750400000000001, Brake power = 5.2, Heat Input = 15.4609125664,  Efficiency=33.63320229428602\n",
            "For Fuel 1 amount = 20.584, Fuel 2 amount = 8.233600000000001, Brake power = 5.2, Heat Input = 16.4248257776,  Efficiency=31.65939213243713\n"
          ]
        }
      ]
    },
    {
      "cell_type": "markdown",
      "source": [
        "COT 10"
      ],
      "metadata": {
        "id": "mkNGmQjUkidz"
      }
    },
    {
      "cell_type": "code",
      "source": [
        "#COT 10\n",
        "fuel_1_range = [16.46,20.11,28.18,18.05,20.49,27.43,41.24,12.81,19.13,8.91,8.37,26.28,33.83,17.658,22.041,27.756,26.955,15.264,18.224,22.4,16.912,18.648,23.429,9.324,11.994,14.682,17.604,21.522,6.909,17.094,20.86,28.042,35.945,13.992,15.432,19.744,24.288,17.776,10.346,12.936,17.85,25.298,30.807,18.891,20.421,12.504,14.92,19.432,22.616,20.848,10.143,12.621,15.365,20.958,10.528,13.944,11.277,12.978,17.031,25.935,11.416,13.968,16.656,9.555,11.963,14.924,20.972,22.008,19.053,23.886,33.264,4.936,12.936,19.376,10.843,12.117,13.272,12.488,16.48,20.584,29.072,10.409,12.425,16.268,24.983,32.508,12.424,14.88,18.272,27.12,11.375,13.811,16.954,25.935]  # Values from 1 to 60 (inclusive)\n",
        "fuel_2_range=[]\n",
        "for i in fuel_1_range:\n",
        "  fuel_2_range.append(i*0.1)\n",
        " # Values from 1 to 40 (inclusive)\n",
        "calorific_value1 = 35800\n",
        "brake_power = 5.2\n",
        "density1 = 958\n",
        "density2=909.8\n",
        "calorific_value2=40400\n",
        "# Assuming you have the formulas defined as functions, for example:\n",
        "def predict_efficiency(fuel_amount_1, fuel_amount_2, calorific_value1,calorific_value2, brake_power, density1,density2):\n",
        "    # Your formula to calculate efficiency based on the given inputs\n",
        "    mass_of_fuel1 = ((fuel_amount_1  * 0.000001) / 60) * density1\n",
        "    mass_of_fuel2=((fuel_amount_2  * 0.000001) / 60) * density2\n",
        "    heat_input = mass_of_fuel1 * calorific_value1 + mass_of_fuel2 * calorific_value2\n",
        "    efficiency = brake_power / heat_input\n",
        "    return heat_input\n",
        "    # Limit efficiency to a maximum value of 32\n",
        "    efficiency = min(efficiency, 32)\n",
        "\n",
        "    return efficiency\n",
        "\n",
        "# List to store combinations that meet the efficiency criteria\n",
        "efficient_combinations = []\n",
        "\n",
        "# Loop through all combinations of fuel_1 and fuel_2\n",
        "for fuel_amount_1 in fuel_1_range:\n",
        "      # Use the formula-based prediction function to get efficiency\n",
        "      predicted_efficiency = predict_efficiency(fuel_amount_1, fuel_amount_1*0.1, calorific_value1,calorific_value2 ,brake_power,density1,density2)\n",
        "      \"\"\"if 31 <= predicted_efficiency <= 35:\"\"\"\n",
        "      efficient_combinations.append((fuel_amount_1, fuel_amount_1*0.1, predicted_efficiency))\n",
        "\n",
        "# Print the combinations that meet the efficiency criteria\n",
        "if efficient_combinations:\n",
        "    for fuel_amount_1, fuel_amount_2, predicted_efficiency in efficient_combinations:\n",
        "        eff=(brake_power/predicted_efficiency)*100\n",
        "        if eff>=31 and eff<=35:\n",
        "          print(f\"For Fuel 1 amount = {fuel_amount_1}, Fuel 2 amount = {fuel_amount_2}, \"\n",
        "                f\"Brake power = {brake_power}, \"\n",
        "                f\"Heat Input = {predicted_efficiency}, \",f\"Efficiency={eff}\")\n",
        "\n",
        "else:\n",
        "    print(\"No combinations meet the efficiency criteria.\")"
      ],
      "metadata": {
        "colab": {
          "base_uri": "https://localhost:8080/"
        },
        "id": "A9DCUAuXkuYA",
        "outputId": "e0895602-5a45-4194-8a64-c47a006aca40"
      },
      "execution_count": null,
      "outputs": [
        {
          "output_type": "stream",
          "name": "stdout",
          "text": [
            "For Fuel 1 amount = 26.28, Fuel 2 amount = 2.628, Brake power = 5.2, Heat Input = 16.631732495999998,  Efficiency=31.265534130317583\n",
            "For Fuel 1 amount = 24.288, Fuel 2 amount = 2.4288000000000003, Brake power = 5.2, Heat Input = 15.3710623616,  Efficiency=33.829802245748766\n",
            "For Fuel 1 amount = 25.298, Fuel 2 amount = 2.5298, Brake power = 5.2, Heat Input = 16.010257560266663,  Efficiency=32.47917767984608\n",
            "For Fuel 1 amount = 25.935, Fuel 2 amount = 2.5935, Brake power = 5.2, Heat Input = 16.413393541999998,  Efficiency=31.681443491218282\n",
            "For Fuel 1 amount = 23.886, Fuel 2 amount = 2.3886, Brake power = 5.2, Heat Input = 15.116650015199998,  Efficiency=34.399155863047234\n",
            "For Fuel 1 amount = 24.983, Fuel 2 amount = 2.4983000000000004, Brake power = 5.2, Heat Input = 15.810904602266667,  Efficiency=32.888693789566744\n",
            "For Fuel 1 amount = 25.935, Fuel 2 amount = 2.5935, Brake power = 5.2, Heat Input = 16.413393541999998,  Efficiency=31.681443491218282\n"
          ]
        }
      ]
    },
    {
      "cell_type": "markdown",
      "source": [
        "COT 20"
      ],
      "metadata": {
        "id": "sh5Tww3jk7gC"
      }
    },
    {
      "cell_type": "code",
      "source": [
        "#COT 20\n",
        "fuel_1_range = [16.46,20.11,28.18,18.05,20.49,27.43,41.24,12.81,19.13,8.91,8.37,26.28,33.83,17.658,22.041,27.756,26.955,15.264,18.224,22.4,16.912,18.648,23.429,9.324,11.994,14.682,17.604,21.522,6.909,17.094,20.86,28.042,35.945,13.992,15.432,19.744,24.288,17.776,10.346,12.936,17.85,25.298,30.807,18.891,20.421,12.504,14.92,19.432,22.616,20.848,10.143,12.621,15.365,20.958,10.528,13.944,11.277,12.978,17.031,25.935,11.416,13.968,16.656,9.555,11.963,14.924,20.972,22.008,19.053,23.886,33.264,4.936,12.936,19.376,10.843,12.117,13.272,12.488,16.48,20.584,29.072,10.409,12.425,16.268,24.983,32.508,12.424,14.88,18.272,27.12,11.375,13.811,16.954,25.935]  # Values from 1 to 60 (inclusive)\n",
        "fuel_2_range=[]\n",
        "for i in fuel_1_range:\n",
        "  fuel_2_range.append(i*0.2)\n",
        " # Values from 1 to 40 (inclusive)\n",
        "calorific_value1 = 35800\n",
        "brake_power = 5.2\n",
        "density1 = 958\n",
        "density2=909.8\n",
        "calorific_value2=40400\n",
        "# Assuming you have the formulas defined as functions, for example:\n",
        "def predict_efficiency(fuel_amount_1, fuel_amount_2, calorific_value1,calorific_value2, brake_power, density1,density2):\n",
        "    # Your formula to calculate efficiency based on the given inputs\n",
        "    mass_of_fuel1 = ((fuel_amount_1  * 0.000001) / 60) * density1\n",
        "    mass_of_fuel2=((fuel_amount_2  * 0.000001) / 60) * density2\n",
        "    heat_input = mass_of_fuel1 * calorific_value1 + mass_of_fuel2 * calorific_value2\n",
        "    efficiency = brake_power / heat_input\n",
        "    return heat_input\n",
        "    # Limit efficiency to a maximum value of 32\n",
        "    efficiency = min(efficiency, 32)\n",
        "\n",
        "    return efficiency\n",
        "\n",
        "# List to store combinations that meet the efficiency criteria\n",
        "efficient_combinations = []\n",
        "\n",
        "# Loop through all combinations of fuel_1 and fuel_2\n",
        "for fuel_amount_1 in fuel_1_range:\n",
        "      # Use the formula-based prediction function to get efficiency\n",
        "      predicted_efficiency = predict_efficiency(fuel_amount_1, fuel_amount_1*0.2, calorific_value1,calorific_value2 ,brake_power,density1,density2)\n",
        "      \"\"\"if 31 <= predicted_efficiency <= 35:\"\"\"\n",
        "      efficient_combinations.append((fuel_amount_1, fuel_amount_1*0.2, predicted_efficiency))\n",
        "\n",
        "# Print the combinations that meet the efficiency criteria\n",
        "if efficient_combinations:\n",
        "    for fuel_amount_1, fuel_amount_2, predicted_efficiency in efficient_combinations:\n",
        "        eff=(brake_power/predicted_efficiency)*100\n",
        "        if eff>=31 and eff<=35:\n",
        "          print(f\"For Fuel 1 amount = {fuel_amount_1}, Fuel 2 amount = {fuel_amount_2}, \"\n",
        "                f\"Brake power = {brake_power}, \"\n",
        "                f\"Heat Input = {predicted_efficiency}, \",f\"Efficiency={eff}\")\n",
        "\n",
        "else:\n",
        "    print(\"No combinations meet the efficiency criteria.\")"
      ],
      "metadata": {
        "id": "RBrrOQwCk83w",
        "colab": {
          "base_uri": "https://localhost:8080/"
        },
        "outputId": "b730924e-7bf8-40b8-a4f9-d2e483e3bad4"
      },
      "execution_count": null,
      "outputs": [
        {
          "output_type": "stream",
          "name": "stdout",
          "text": [
            "For Fuel 1 amount = 22.041, Fuel 2 amount = 4.4082, Brake power = 5.2, Heat Input = 15.2992399824,  Efficiency=33.98861646710554\n",
            "For Fuel 1 amount = 22.4, Fuel 2 amount = 4.4799999999999995, Brake power = 5.2, Heat Input = 15.54843136,  Efficiency=33.443888194262186\n",
            "For Fuel 1 amount = 23.429, Fuel 2 amount = 4.6857999999999995, Brake power = 5.2, Heat Input = 16.2626874256,  Efficiency=31.975035022897824\n",
            "For Fuel 1 amount = 21.522, Fuel 2 amount = 4.3044, Brake power = 5.2, Heat Input = 14.938988380799998,  Efficiency=34.80824716808257\n",
            "For Fuel 1 amount = 22.616, Fuel 2 amount = 4.5232, Brake power = 5.2, Heat Input = 15.698362662399997,  Efficiency=33.12447362714332\n",
            "For Fuel 1 amount = 22.008, Fuel 2 amount = 4.4016, Brake power = 5.2, Heat Input = 15.276333811199997,  Efficiency=34.039580859299946\n",
            "For Fuel 1 amount = 23.886, Fuel 2 amount = 4.7772, Brake power = 5.2, Heat Input = 16.579903190399996,  Efficiency=31.363271186112087\n"
          ]
        }
      ]
    },
    {
      "cell_type": "markdown",
      "source": [
        "COT 30"
      ],
      "metadata": {
        "id": "IyL8H9TklFCO"
      }
    },
    {
      "cell_type": "code",
      "source": [
        "#COT 30\n",
        "fuel_1_range = [16.46,20.11,28.18,18.05,20.49,27.43,41.24,12.81,19.13,8.91,8.37,26.28,33.83,17.658,22.041,27.756,26.955,15.264,18.224,22.4,16.912,18.648,23.429,9.324,11.994,14.682,17.604,21.522,6.909,17.094,20.86,28.042,35.945,13.992,15.432,19.744,24.288,17.776,10.346,12.936,17.85,25.298,30.807,18.891,20.421,12.504,14.92,19.432,22.616,20.848,10.143,12.621,15.365,20.958,10.528,13.944,11.277,12.978,17.031,25.935,11.416,13.968,16.656,9.555,11.963,14.924,20.972,22.008,19.053,23.886,33.264,4.936,12.936,19.376,10.843,12.117,13.272,12.488,16.48,20.584,29.072,10.409,12.425,16.268,24.983,32.508,12.424,14.88,18.272,27.12,11.375,13.811,16.954,25.935]  # Values from 1 to 60 (inclusive)\n",
        "fuel_2_range=[]\n",
        "for i in fuel_1_range:\n",
        "  fuel_2_range.append(i*0.3)\n",
        " # Values from 1 to 40 (inclusive)\n",
        "calorific_value1 = 35800\n",
        "brake_power = 5.2\n",
        "density1 = 958\n",
        "density2=909.8\n",
        "calorific_value2=40400\n",
        "# Assuming you have the formulas defined as functions, for example:\n",
        "def predict_efficiency(fuel_amount_1, fuel_amount_2, calorific_value1,calorific_value2, brake_power, density1,density2):\n",
        "    # Your formula to calculate efficiency based on the given inputs\n",
        "    mass_of_fuel1 = ((fuel_amount_1  * 0.000001) / 60) * density1\n",
        "    mass_of_fuel2=((fuel_amount_2  * 0.000001) / 60) * density2\n",
        "    heat_input = mass_of_fuel1 * calorific_value1 + mass_of_fuel2 * calorific_value2\n",
        "    efficiency = brake_power / heat_input\n",
        "    return heat_input\n",
        "    # Limit efficiency to a maximum value of 32\n",
        "    efficiency = min(efficiency, 32)\n",
        "\n",
        "    return efficiency\n",
        "\n",
        "# List to store combinations that meet the efficiency criteria\n",
        "efficient_combinations = []\n",
        "\n",
        "# Loop through all combinations of fuel_1 and fuel_2\n",
        "for fuel_amount_1 in fuel_1_range:\n",
        "      # Use the formula-based prediction function to get efficiency\n",
        "      predicted_efficiency = predict_efficiency(fuel_amount_1, fuel_amount_1*0.3, calorific_value1,calorific_value2 ,brake_power,density1,density2)\n",
        "      \"\"\"if 31 <= predicted_efficiency <= 35:\"\"\"\n",
        "      efficient_combinations.append((fuel_amount_1, fuel_amount_1*0.3, predicted_efficiency))\n",
        "\n",
        "# Print the combinations that meet the efficiency criteria\n",
        "if efficient_combinations:\n",
        "    for fuel_amount_1, fuel_amount_2, predicted_efficiency in efficient_combinations:\n",
        "        eff=(brake_power/predicted_efficiency)*100\n",
        "        if eff>=31 and eff<=35:\n",
        "          print(f\"For Fuel 1 amount = {fuel_amount_1}, Fuel 2 amount = {fuel_amount_2}, \"\n",
        "                f\"Brake power = {brake_power}, \"\n",
        "                f\"Heat Input = {predicted_efficiency}, \",f\"Efficiency={eff}\")\n",
        "\n",
        "else:\n",
        "    print(\"No combinations meet the efficiency criteria.\")"
      ],
      "metadata": {
        "colab": {
          "base_uri": "https://localhost:8080/"
        },
        "id": "TOpW9DkolExJ",
        "outputId": "5b679819-4387-4eab-e13a-edbbab40ab33"
      },
      "execution_count": null,
      "outputs": [
        {
          "output_type": "stream",
          "name": "stdout",
          "text": [
            "For Fuel 1 amount = 20.11, Fuel 2 amount = 6.0329999999999995, Brake power = 5.2, Heat Input = 15.190817822666665,  Efficiency=34.231205065476644\n",
            "For Fuel 1 amount = 20.49, Fuel 2 amount = 6.146999999999999, Brake power = 5.2, Heat Input = 15.477864603999997,  Efficiency=33.596365732881175\n",
            "For Fuel 1 amount = 22.041, Fuel 2 amount = 6.6123, Brake power = 5.2, Heat Input = 16.6494687036,  Efficiency=31.232227842055043\n",
            "For Fuel 1 amount = 21.522, Fuel 2 amount = 6.456599999999999, Brake power = 5.2, Heat Input = 16.257423231199997,  Efficiency=31.985388619400396\n",
            "For Fuel 1 amount = 20.86, Fuel 2 amount = 6.258, Brake power = 5.2, Heat Input = 15.757357522666668,  Efficiency=33.00045704059133\n",
            "For Fuel 1 amount = 19.744, Fuel 2 amount = 5.9232, Brake power = 5.2, Heat Input = 14.914346449066665,  Efficiency=34.865758400867875\n",
            "For Fuel 1 amount = 20.421, Fuel 2 amount = 6.1263, Brake power = 5.2, Heat Input = 15.425742951599998,  Efficiency=33.709883642658795\n",
            "For Fuel 1 amount = 20.848, Fuel 2 amount = 6.2543999999999995, Brake power = 5.2, Heat Input = 15.748292887466663,  Efficiency=33.01945193144356\n",
            "For Fuel 1 amount = 20.958, Fuel 2 amount = 6.287399999999999, Brake power = 5.2, Heat Input = 15.8313853768,  Efficiency=32.846146286226514\n",
            "For Fuel 1 amount = 20.972, Fuel 2 amount = 6.2916, Brake power = 5.2, Heat Input = 15.841960784533335,  Efficiency=32.8242196198138\n",
            "For Fuel 1 amount = 22.008, Fuel 2 amount = 6.602399999999999, Brake power = 5.2, Heat Input = 16.624540956799997,  Efficiency=31.27905915425006\n",
            "For Fuel 1 amount = 20.584, Fuel 2 amount = 6.175199999999999, Brake power = 5.2, Heat Input = 15.548870913066665,  Efficiency=33.44294276461015\n"
          ]
        }
      ]
    },
    {
      "cell_type": "markdown",
      "source": [
        "COT 40"
      ],
      "metadata": {
        "id": "8HprWH2clOFe"
      }
    },
    {
      "cell_type": "code",
      "source": [
        "#COT 40\n",
        "fuel_1_range = [16.46,20.11,28.18,18.05,20.49,27.43,41.24,12.81,19.13,8.91,8.37,26.28,33.83,17.658,22.041,27.756,26.955,15.264,18.224,22.4,16.912,18.648,23.429,9.324,11.994,14.682,17.604,21.522,6.909,17.094,20.86,28.042,35.945,13.992,15.432,19.744,24.288,17.776,10.346,12.936,17.85,25.298,30.807,18.891,20.421,12.504,14.92,19.432,22.616,20.848,10.143,12.621,15.365,20.958,10.528,13.944,11.277,12.978,17.031,25.935,11.416,13.968,16.656,9.555,11.963,14.924,20.972,22.008,19.053,23.886,33.264,4.936,12.936,19.376,10.843,12.117,13.272,12.488,16.48,20.584,29.072,10.409,12.425,16.268,24.983,32.508,12.424,14.88,18.272,27.12,11.375,13.811,16.954,25.935]  # Values from 1 to 60 (inclusive)\n",
        "fuel_2_range=[]\n",
        "for i in fuel_1_range:\n",
        "  fuel_2_range.append(i*0.4)\n",
        " # Values from 1 to 40 (inclusive)\n",
        "calorific_value1 = 35800\n",
        "brake_power = 5.2\n",
        "density1 = 958\n",
        "density2=909.8\n",
        "calorific_value2=40400\n",
        "# Assuming you have the formulas defined as functions, for example:\n",
        "def predict_efficiency(fuel_amount_1, fuel_amount_2, calorific_value1,calorific_value2, brake_power, density1,density2):\n",
        "    # Your formula to calculate efficiency based on the given inputs\n",
        "    mass_of_fuel1 = ((fuel_amount_1  * 0.000001) / 60) * density1\n",
        "    mass_of_fuel2=((fuel_amount_2  * 0.000001) / 60) * density2\n",
        "    heat_input = mass_of_fuel1 * calorific_value1 + mass_of_fuel2 * calorific_value2\n",
        "    efficiency = brake_power / heat_input\n",
        "    return heat_input\n",
        "    # Limit efficiency to a maximum value of 32\n",
        "    efficiency = min(efficiency, 32)\n",
        "\n",
        "    return efficiency\n",
        "\n",
        "# List to store combinations that meet the efficiency criteria\n",
        "efficient_combinations = []\n",
        "\n",
        "# Loop through all combinations of fuel_1 and fuel_2\n",
        "for fuel_amount_1 in fuel_1_range:\n",
        "      # Use the formula-based prediction function to get efficiency\n",
        "      predicted_efficiency = predict_efficiency(fuel_amount_1, fuel_amount_1*0.4, calorific_value1,calorific_value2 ,brake_power,density1,density2)\n",
        "      \"\"\"if 31 <= predicted_efficiency <= 35:\"\"\"\n",
        "      efficient_combinations.append((fuel_amount_1, fuel_amount_1*0.4, predicted_efficiency))\n",
        "\n",
        "# Print the combinations that meet the efficiency criteria\n",
        "if efficient_combinations:\n",
        "    for fuel_amount_1, fuel_amount_2, predicted_efficiency in efficient_combinations:\n",
        "        eff=(brake_power/predicted_efficiency)*100\n",
        "        if eff>=31 and eff<=35:\n",
        "          print(f\"For Fuel 1 amount = {fuel_amount_1}, Fuel 2 amount = {fuel_amount_2}, \"\n",
        "                f\"Brake power = {brake_power}, \"\n",
        "                f\"Heat Input = {predicted_efficiency}, \",f\"Efficiency={eff}\")\n",
        "\n",
        "else:\n",
        "    print(\"No combinations meet the efficiency criteria.\")"
      ],
      "metadata": {
        "colab": {
          "base_uri": "https://localhost:8080/"
        },
        "id": "2QBQ4_-xlLEN",
        "outputId": "0a0b2d25-e04a-4aaf-891e-6d745ef98335"
      },
      "execution_count": null,
      "outputs": [
        {
          "output_type": "stream",
          "name": "stdout",
          "text": [
            "For Fuel 1 amount = 20.11, Fuel 2 amount = 8.044, Brake power = 5.2, Heat Input = 16.42275374133333,  Efficiency=31.66338655442703\n",
            "For Fuel 1 amount = 20.49, Fuel 2 amount = 8.196, Brake power = 5.2, Heat Input = 16.733079271999998,  Efficiency=31.076169039020378\n",
            "For Fuel 1 amount = 19.13, Fuel 2 amount = 7.652, Brake power = 5.2, Heat Input = 15.622440530666665,  Efficiency=33.28545235805163\n",
            "For Fuel 1 amount = 18.224, Fuel 2 amount = 7.2896, Brake power = 5.2, Heat Input = 14.882559133866668,  Efficiency=34.940227371023234\n",
            "For Fuel 1 amount = 18.648, Fuel 2 amount = 7.4592, Brake power = 5.2, Heat Input = 15.2288170944,  Efficiency=34.14579062685154\n",
            "For Fuel 1 amount = 19.744, Fuel 2 amount = 7.897600000000001, Brake power = 5.2, Heat Input = 16.12386125653333,  Efficiency=32.250339526414486\n",
            "For Fuel 1 amount = 18.891, Fuel 2 amount = 7.5564, Brake power = 5.2, Heat Input = 15.427262104799997,  Efficiency=33.706564163333205\n",
            "For Fuel 1 amount = 20.421, Fuel 2 amount = 8.1684, Brake power = 5.2, Heat Input = 16.6767306888,  Efficiency=31.181171519980783\n",
            "For Fuel 1 amount = 19.432, Fuel 2 amount = 7.7728, Brake power = 5.2, Heat Input = 15.869067662933332,  Efficiency=32.76815065919759\n",
            "For Fuel 1 amount = 19.053, Fuel 2 amount = 7.621200000000001, Brake power = 5.2, Heat Input = 15.5595587784,  Efficiency=33.41997079774983\n",
            "For Fuel 1 amount = 19.376, Fuel 2 amount = 7.750400000000001, Brake power = 5.2, Heat Input = 15.823335479466666,  Efficiency=32.86285629694093\n",
            "For Fuel 1 amount = 18.272, Fuel 2 amount = 7.3088, Brake power = 5.2, Heat Input = 14.921758148266665,  Efficiency=34.84844043397152\n"
          ]
        }
      ]
    },
    {
      "cell_type": "markdown",
      "source": [
        "OP 10"
      ],
      "metadata": {
        "id": "S6je4jiUlgy0"
      }
    },
    {
      "cell_type": "code",
      "source": [
        "#OP10\n",
        "fuel_1_range = [16.46,20.11,28.18,18.05,20.49,27.43,41.24,12.81,19.13,8.91,8.37,26.28,33.83,17.658,22.041,27.756,26.955,15.264,18.224,22.4,16.912,18.648,23.429,9.324,11.994,14.682,17.604,21.522,6.909,17.094,20.86,28.042,35.945,13.992,15.432,19.744,24.288,17.776,10.346,12.936,17.85,25.298,30.807,18.891,20.421,12.504,14.92,19.432,22.616,20.848,10.143,12.621,15.365,20.958,10.528,13.944,11.277,12.978,17.031,25.935,11.416,13.968,16.656,9.555,11.963,14.924,20.972,22.008,19.053,23.886,33.264,4.936,12.936,19.376,10.843,12.117,13.272,12.488,16.48,20.584,29.072,10.409,12.425,16.268,24.983,32.508,12.424,14.88,18.272,27.12,11.375,13.811,16.954,25.935]  # Values from 1 to 60 (inclusive)\n",
        "fuel_2_range=[]\n",
        "for i in fuel_1_range:\n",
        "  fuel_2_range.append(i*0.1)\n",
        " # Values from 1 to 40 (inclusive)\n",
        "calorific_value1 = 35800\n",
        "brake_power = 5.2\n",
        "density1 = 958\n",
        "density2=816.9\n",
        "calorific_value2=39000\n",
        "# Assuming you have the formulas defined as functions, for example:\n",
        "def predict_efficiency(fuel_amount_1, fuel_amount_2, calorific_value1,calorific_value2, brake_power, density1,density2):\n",
        "    # Your formula to calculate efficiency based on the given inputs\n",
        "    mass_of_fuel1 = ((fuel_amount_1  * 0.000001) / 60) * density1\n",
        "    mass_of_fuel2=((fuel_amount_2  * 0.000001) / 60) * density2\n",
        "    heat_input = mass_of_fuel1 * calorific_value1 + mass_of_fuel2 * calorific_value2\n",
        "    efficiency = brake_power / heat_input\n",
        "    return heat_input\n",
        "    # Limit efficiency to a maximum value of 32\n",
        "    efficiency = min(efficiency, 32)\n",
        "\n",
        "    return efficiency\n",
        "\n",
        "# List to store combinations that meet the efficiency criteria\n",
        "efficient_combinations = []\n",
        "\n",
        "# Loop through all combinations of fuel_1 and fuel_2\n",
        "for fuel_amount_1 in fuel_1_range:\n",
        "      # Use the formula-based prediction function to get efficiency\n",
        "      predicted_efficiency = predict_efficiency(fuel_amount_1, fuel_amount_1*0.1, calorific_value1,calorific_value2 ,brake_power,density1,density2)\n",
        "      \"\"\"if 31 <= predicted_efficiency <= 35:\"\"\"\n",
        "      efficient_combinations.append((fuel_amount_1, fuel_amount_1*0.1, predicted_efficiency))\n",
        "\n",
        "# Print the combinations that meet the efficiency criteria\n",
        "if efficient_combinations:\n",
        "    for fuel_amount_1, fuel_amount_2, predicted_efficiency in efficient_combinations:\n",
        "        eff=(brake_power/predicted_efficiency)*100\n",
        "        if eff>=31 and eff<=35:\n",
        "          print(f\"For Fuel 1 amount = {fuel_amount_1}, Fuel 2 amount = {fuel_amount_2}, \"\n",
        "                f\"Brake power = {brake_power}, \"\n",
        "                f\"Heat Input = {predicted_efficiency}, \",f\"Efficiency={eff}\")\n",
        "\n",
        "else:\n",
        "    print(\"No combinations meet the efficiency criteria.\")"
      ],
      "metadata": {
        "colab": {
          "base_uri": "https://localhost:8080/"
        },
        "id": "qfusk0nmlWsI",
        "outputId": "ee43079f-110a-413f-ae9c-207e89ddf80d"
      },
      "execution_count": null,
      "outputs": [
        {
          "output_type": "stream",
          "name": "stdout",
          "text": [
            "For Fuel 1 amount = 26.28, Fuel 2 amount = 2.628, Brake power = 5.2, Heat Input = 16.417251779999997,  Efficiency=31.673997997245802\n",
            "For Fuel 1 amount = 24.288, Fuel 2 amount = 2.4288000000000003, Brake power = 5.2, Heat Input = 15.172839088,  Efficiency=34.271766607691845\n",
            "For Fuel 1 amount = 25.298, Fuel 2 amount = 2.5298, Brake power = 5.2, Heat Input = 15.803791306333329,  Efficiency=32.90349701034152\n",
            "For Fuel 1 amount = 25.935, Fuel 2 amount = 2.5935, Brake power = 5.2, Heat Input = 16.2017284975,  Efficiency=32.095340943420844\n",
            "For Fuel 1 amount = 23.886, Fuel 2 amount = 2.3886, Brake power = 5.2, Heat Input = 14.921707610999997,  Efficiency=34.84855845966758\n",
            "For Fuel 1 amount = 24.983, Fuel 2 amount = 2.4983000000000004, Brake power = 5.2, Heat Input = 15.607009178833334,  Efficiency=33.31836318166832\n",
            "For Fuel 1 amount = 25.935, Fuel 2 amount = 2.5935, Brake power = 5.2, Heat Input = 16.2017284975,  Efficiency=32.095340943420844\n"
          ]
        }
      ]
    },
    {
      "cell_type": "markdown",
      "source": [
        "OP 20"
      ],
      "metadata": {
        "id": "a5FOLF46lriv"
      }
    },
    {
      "cell_type": "code",
      "source": [
        "#OP20\n",
        "fuel_1_range = [16.46,20.11,28.18,18.05,20.49,27.43,41.24,12.81,19.13,8.91,8.37,26.28,33.83,17.658,22.041,27.756,26.955,15.264,18.224,22.4,16.912,18.648,23.429,9.324,11.994,14.682,17.604,21.522,6.909,17.094,20.86,28.042,35.945,13.992,15.432,19.744,24.288,17.776,10.346,12.936,17.85,25.298,30.807,18.891,20.421,12.504,14.92,19.432,22.616,20.848,10.143,12.621,15.365,20.958,10.528,13.944,11.277,12.978,17.031,25.935,11.416,13.968,16.656,9.555,11.963,14.924,20.972,22.008,19.053,23.886,33.264,4.936,12.936,19.376,10.843,12.117,13.272,12.488,16.48,20.584,29.072,10.409,12.425,16.268,24.983,32.508,12.424,14.88,18.272,27.12,11.375,13.811,16.954,25.935]  # Values from 1 to 60 (inclusive)\n",
        "fuel_2_range=[]\n",
        "for i in fuel_1_range:\n",
        "  fuel_2_range.append(i*0.2)\n",
        " # Values from 1 to 40 (inclusive)\n",
        "calorific_value1 = 35800\n",
        "brake_power = 5.2\n",
        "density1 = 958\n",
        "density2=816.9\n",
        "calorific_value2=39000\n",
        "# Assuming you have the formulas defined as functions, for example:\n",
        "def predict_efficiency(fuel_amount_1, fuel_amount_2, calorific_value1,calorific_value2, brake_power, density1,density2):\n",
        "    # Your formula to calculate efficiency based on the given inputs\n",
        "    mass_of_fuel1 = ((fuel_amount_1  * 0.000001) / 60) * density1\n",
        "    mass_of_fuel2=((fuel_amount_2  * 0.000001) / 60) * density2\n",
        "    heat_input = mass_of_fuel1 * calorific_value1 + mass_of_fuel2 * calorific_value2\n",
        "    efficiency = brake_power / heat_input\n",
        "    return heat_input\n",
        "    # Limit efficiency to a maximum value of 32\n",
        "    efficiency = min(efficiency, 32)\n",
        "\n",
        "    return efficiency\n",
        "\n",
        "# List to store combinations that meet the efficiency criteria\n",
        "efficient_combinations = []\n",
        "\n",
        "# Loop through all combinations of fuel_1 and fuel_2\n",
        "for fuel_amount_1 in fuel_1_range:\n",
        "      # Use the formula-based prediction function to get efficiency\n",
        "      predicted_efficiency = predict_efficiency(fuel_amount_1, fuel_amount_1*0.2, calorific_value1,calorific_value2 ,brake_power,density1,density2)\n",
        "      \"\"\"if 31 <= predicted_efficiency <= 35:\"\"\"\n",
        "      efficient_combinations.append((fuel_amount_1, fuel_amount_1*0.2, predicted_efficiency))\n",
        "\n",
        "# Print the combinations that meet the efficiency criteria\n",
        "if efficient_combinations:\n",
        "    for fuel_amount_1, fuel_amount_2, predicted_efficiency in efficient_combinations:\n",
        "        eff=(brake_power/predicted_efficiency)*100\n",
        "        if eff>=31 and eff<=35:\n",
        "          print(f\"For Fuel 1 amount = {fuel_amount_1}, Fuel 2 amount = {fuel_amount_2}, \"\n",
        "                f\"Brake power = {brake_power}, \"\n",
        "                f\"Heat Input = {predicted_efficiency}, \",f\"Efficiency={eff}\")\n",
        "\n",
        "else:\n",
        "    print(\"No combinations meet the efficiency criteria.\")"
      ],
      "metadata": {
        "colab": {
          "base_uri": "https://localhost:8080/"
        },
        "id": "9JaGdeDDl3Dl",
        "outputId": "07cad6cb-89e1-4edf-c45a-0c356ada9440"
      },
      "execution_count": null,
      "outputs": [
        {
          "output_type": "stream",
          "name": "stdout",
          "text": [
            "For Fuel 1 amount = 22.041, Fuel 2 amount = 4.4082, Brake power = 5.2, Heat Input = 14.939470617,  Efficiency=34.807123580957345\n",
            "For Fuel 1 amount = 22.4, Fuel 2 amount = 4.4799999999999995, Brake power = 5.2, Heat Input = 15.182802133333334,  Efficiency=34.24927726999468\n",
            "For Fuel 1 amount = 23.429, Fuel 2 amount = 4.6857999999999995, Brake power = 5.2, Heat Input = 15.880262106333333,  Efficiency=32.74505146817537\n",
            "For Fuel 1 amount = 24.288, Fuel 2 amount = 4.857600000000001, Brake power = 5.2, Heat Input = 16.462495456,  Efficiency=31.586948733855436\n",
            "For Fuel 1 amount = 22.616, Fuel 2 amount = 4.5232, Brake power = 5.2, Heat Input = 15.329207725333331,  Efficiency=33.922170624685215\n",
            "For Fuel 1 amount = 22.008, Fuel 2 amount = 4.4016, Brake power = 5.2, Heat Input = 14.917103095999998,  Efficiency=34.85931528752639\n",
            "For Fuel 1 amount = 23.886, Fuel 2 amount = 4.7772, Brake power = 5.2, Heat Input = 16.190018381999998,  Efficiency=32.11855525612831\n"
          ]
        }
      ]
    },
    {
      "cell_type": "markdown",
      "source": [
        "OP 30"
      ],
      "metadata": {
        "id": "4abGLq9Yl8tc"
      }
    },
    {
      "cell_type": "code",
      "source": [
        "#OP30\n",
        "fuel_1_range = [16.46,20.11,28.18,18.05,20.49,27.43,41.24,12.81,19.13,8.91,8.37,26.28,33.83,17.658,22.041,27.756,26.955,15.264,18.224,22.4,16.912,18.648,23.429,9.324,11.994,14.682,17.604,21.522,6.909,17.094,20.86,28.042,35.945,13.992,15.432,19.744,24.288,17.776,10.346,12.936,17.85,25.298,30.807,18.891,20.421,12.504,14.92,19.432,22.616,20.848,10.143,12.621,15.365,20.958,10.528,13.944,11.277,12.978,17.031,25.935,11.416,13.968,16.656,9.555,11.963,14.924,20.972,22.008,19.053,23.886,33.264,4.936,12.936,19.376,10.843,12.117,13.272,12.488,16.48,20.584,29.072,10.409,12.425,16.268,24.983,32.508,12.424,14.88,18.272,27.12,11.375,13.811,16.954,25.935]  # Values from 1 to 60 (inclusive)\n",
        "fuel_2_range=[]\n",
        "for i in fuel_1_range:\n",
        "  fuel_2_range.append(i*0.3)\n",
        " # Values from 1 to 40 (inclusive)\n",
        "calorific_value1 = 35800\n",
        "brake_power = 5.2\n",
        "density1 = 958\n",
        "density2=816.9\n",
        "calorific_value2=39000\n",
        "# Assuming you have the formulas defined as functions, for example:\n",
        "def predict_efficiency(fuel_amount_1, fuel_amount_2, calorific_value1,calorific_value2, brake_power, density1,density2):\n",
        "    # Your formula to calculate efficiency based on the given inputs\n",
        "    mass_of_fuel1 = ((fuel_amount_1  * 0.000001) / 60) * density1\n",
        "    mass_of_fuel2=((fuel_amount_2  * 0.000001) / 60) * density2\n",
        "    heat_input = mass_of_fuel1 * calorific_value1 + mass_of_fuel2 * calorific_value2\n",
        "    efficiency = brake_power / heat_input\n",
        "    return heat_input\n",
        "    # Limit efficiency to a maximum value of 32\n",
        "    efficiency = min(efficiency, 32)\n",
        "\n",
        "    return efficiency\n",
        "\n",
        "# List to store combinations that meet the efficiency criteria\n",
        "efficient_combinations = []\n",
        "\n",
        "# Loop through all combinations of fuel_1 and fuel_2\n",
        "for fuel_amount_1 in fuel_1_range:\n",
        "      # Use the formula-based prediction function to get efficiency\n",
        "      predicted_efficiency = predict_efficiency(fuel_amount_1, fuel_amount_1*0.3, calorific_value1,calorific_value2 ,brake_power,density1,density2)\n",
        "      \"\"\"if 31 <= predicted_efficiency <= 35:\"\"\"\n",
        "      efficient_combinations.append((fuel_amount_1, fuel_amount_1*0.3, predicted_efficiency))\n",
        "\n",
        "# Print the combinations that meet the efficiency criteria\n",
        "if efficient_combinations:\n",
        "    for fuel_amount_1, fuel_amount_2, predicted_efficiency in efficient_combinations:\n",
        "        eff=(brake_power/predicted_efficiency)*100\n",
        "        if eff>=31 and eff<=35:\n",
        "          print(f\"For Fuel 1 amount = {fuel_amount_1}, Fuel 2 amount = {fuel_amount_2}, \"\n",
        "                f\"Brake power = {brake_power}, \"\n",
        "                f\"Heat Input = {predicted_efficiency}, \",f\"Efficiency={eff}\")\n",
        "\n",
        "else:\n",
        "    print(\"No combinations meet the efficiency criteria.\")"
      ],
      "metadata": {
        "colab": {
          "base_uri": "https://localhost:8080/"
        },
        "id": "GoXcKNcvl-sP",
        "outputId": "0efc17a9-e6f5-4b68-f14a-8f1668bc55a1"
      },
      "execution_count": null,
      "outputs": [
        {
          "output_type": "stream",
          "name": "stdout",
          "text": [
            "For Fuel 1 amount = 20.49, Fuel 2 amount = 6.146999999999999, Brake power = 5.2, Heat Input = 14.976185394999998,  Efficiency=34.72179238470225\n",
            "For Fuel 1 amount = 22.041, Fuel 2 amount = 6.6123, Brake power = 5.2, Heat Input = 16.1098146555,  Efficiency=32.27845950558274\n",
            "For Fuel 1 amount = 22.4, Fuel 2 amount = 6.72, Brake power = 5.2, Heat Input = 16.372208533333332,  Efficiency=31.761139551899515\n",
            "For Fuel 1 amount = 21.522, Fuel 2 amount = 6.456599999999999, Brake power = 5.2, Heat Input = 15.730476430999996,  Efficiency=33.05685001219911\n",
            "For Fuel 1 amount = 20.86, Fuel 2 amount = 6.258, Brake power = 5.2, Heat Input = 15.246619196666668,  Efficiency=34.10592166646927\n",
            "For Fuel 1 amount = 20.421, Fuel 2 amount = 6.1263, Brake power = 5.2, Heat Input = 14.925753145499998,  Efficiency=34.83911297010671\n",
            "For Fuel 1 amount = 22.616, Fuel 2 amount = 6.7848, Brake power = 5.2, Heat Input = 16.530083401333332,  Efficiency=31.457796514085125\n",
            "For Fuel 1 amount = 20.848, Fuel 2 amount = 6.2543999999999995, Brake power = 5.2, Heat Input = 15.237848370666663,  Efficiency=34.12555285699104\n",
            "For Fuel 1 amount = 20.958, Fuel 2 amount = 6.287399999999999, Brake power = 5.2, Heat Input = 15.318247609,  Efficiency=33.94644173883715\n",
            "For Fuel 1 amount = 20.972, Fuel 2 amount = 6.2916, Brake power = 5.2, Heat Input = 15.328480239333334,  Efficiency=33.923780562776514\n",
            "For Fuel 1 amount = 22.008, Fuel 2 amount = 6.602399999999999, Brake power = 5.2, Heat Input = 16.085694883999995,  Efficiency=32.326859594808674\n",
            "For Fuel 1 amount = 20.584, Fuel 2 amount = 6.175199999999999, Brake power = 5.2, Heat Input = 15.044890198666666,  Efficiency=34.563229982634525\n"
          ]
        }
      ]
    },
    {
      "cell_type": "markdown",
      "source": [
        "OP 40"
      ],
      "metadata": {
        "id": "p3YyOC9dl_Yr"
      }
    },
    {
      "cell_type": "code",
      "source": [
        "#OP40\n",
        "fuel_1_range = [16.46,20.11,28.18,18.05,20.49,27.43,41.24,12.81,19.13,8.91,8.37,26.28,33.83,17.658,22.041,27.756,26.955,15.264,18.224,22.4,16.912,18.648,23.429,9.324,11.994,14.682,17.604,21.522,6.909,17.094,20.86,28.042,35.945,13.992,15.432,19.744,24.288,17.776,10.346,12.936,17.85,25.298,30.807,18.891,20.421,12.504,14.92,19.432,22.616,20.848,10.143,12.621,15.365,20.958,10.528,13.944,11.277,12.978,17.031,25.935,11.416,13.968,16.656,9.555,11.963,14.924,20.972,22.008,19.053,23.886,33.264,4.936,12.936,19.376,10.843,12.117,13.272,12.488,16.48,20.584,29.072,10.409,12.425,16.268,24.983,32.508,12.424,14.88,18.272,27.12,11.375,13.811,16.954,25.935]  # Values from 1 to 60 (inclusive)\n",
        "fuel_2_range=[]\n",
        "for i in fuel_1_range:\n",
        "  fuel_2_range.append(i*0.4)\n",
        " # Values from 1 to 40 (inclusive)\n",
        "calorific_value1 = 35800\n",
        "brake_power = 5.2\n",
        "density1 = 958\n",
        "density2=816.9\n",
        "calorific_value2=39000\n",
        "# Assuming you have the formulas defined as functions, for example:\n",
        "def predict_efficiency(fuel_amount_1, fuel_amount_2, calorific_value1,calorific_value2, brake_power, density1,density2):\n",
        "    # Your formula to calculate efficiency based on the given inputs\n",
        "    mass_of_fuel1 = ((fuel_amount_1  * 0.000001) / 60) * density1\n",
        "    mass_of_fuel2=((fuel_amount_2  * 0.000001) / 60) * density2\n",
        "    heat_input = mass_of_fuel1 * calorific_value1 + mass_of_fuel2 * calorific_value2\n",
        "    efficiency = brake_power / heat_input\n",
        "    return heat_input\n",
        "    # Limit efficiency to a maximum value of 32\n",
        "    efficiency = min(efficiency, 32)\n",
        "\n",
        "    return efficiency\n",
        "\n",
        "# List to store combinations that meet the efficiency criteria\n",
        "efficient_combinations = []\n",
        "\n",
        "# Loop through all combinations of fuel_1 and fuel_2\n",
        "for fuel_amount_1 in fuel_1_range:\n",
        "      # Use the formula-based prediction function to get efficiency\n",
        "      predicted_efficiency = predict_efficiency(fuel_amount_1, fuel_amount_1*0.4, calorific_value1,calorific_value2 ,brake_power,density1,density2)\n",
        "      \"\"\"if 31 <= predicted_efficiency <= 35:\"\"\"\n",
        "      efficient_combinations.append((fuel_amount_1, fuel_amount_1*0.4, predicted_efficiency))\n",
        "\n",
        "# Print the combinations that meet the efficiency criteria\n",
        "if efficient_combinations:\n",
        "    for fuel_amount_1, fuel_amount_2, predicted_efficiency in efficient_combinations:\n",
        "        eff=(brake_power/predicted_efficiency)*100\n",
        "        if eff>=31 and eff<=35:\n",
        "          print(f\"For Fuel 1 amount = {fuel_amount_1}, Fuel 2 amount = {fuel_amount_2}, \"\n",
        "                f\"Brake power = {brake_power}, \"\n",
        "                f\"Heat Input = {predicted_efficiency}, \",f\"Efficiency={eff}\")\n",
        "\n",
        "else:\n",
        "    print(\"No combinations meet the efficiency criteria.\")"
      ],
      "metadata": {
        "colab": {
          "base_uri": "https://localhost:8080/"
        },
        "id": "xUWh06xRmATp",
        "outputId": "6a57ff2c-99c6-48e9-8c24-845cbb545d57"
      },
      "execution_count": null,
      "outputs": [
        {
          "output_type": "stream",
          "name": "stdout",
          "text": [
            "For Fuel 1 amount = 20.11, Fuel 2 amount = 8.044, Brake power = 5.2, Heat Input = 15.766253406666666,  Efficiency=32.98183700257673\n",
            "For Fuel 1 amount = 20.49, Fuel 2 amount = 8.196, Brake power = 5.2, Heat Input = 16.064173659999998,  Efficiency=32.37016799032787\n",
            "For Fuel 1 amount = 19.13, Fuel 2 amount = 7.652, Brake power = 5.2, Heat Input = 14.997932753333334,  Efficiency=34.67144496193507\n",
            "For Fuel 1 amount = 20.86, Fuel 2 amount = 8.344, Brake power = 5.2, Heat Input = 16.354253906666667,  Efficiency=31.796008730672\n",
            "For Fuel 1 amount = 19.744, Fuel 2 amount = 7.897600000000001, Brake power = 5.2, Heat Input = 15.479309162666667,  Efficiency=33.59323045592676\n",
            "For Fuel 1 amount = 20.421, Fuel 2 amount = 8.1684, Brake power = 5.2, Heat Input = 16.010077614,  Efficiency=32.47954273159091\n",
            "For Fuel 1 amount = 19.432, Fuel 2 amount = 7.7728, Brake power = 5.2, Heat Input = 15.234700954666664,  Efficiency=34.13260303220554\n",
            "For Fuel 1 amount = 20.848, Fuel 2 amount = 8.3392, Brake power = 5.2, Heat Input = 16.344845898666662,  Efficiency=31.814310347362728\n",
            "For Fuel 1 amount = 20.958, Fuel 2 amount = 8.3832, Brake power = 5.2, Heat Input = 16.431085971999998,  Efficiency=31.647329999132456\n",
            "For Fuel 1 amount = 20.972, Fuel 2 amount = 8.388800000000002, Brake power = 5.2, Heat Input = 16.442061981333335,  Efficiency=31.626203610615004\n",
            "For Fuel 1 amount = 19.053, Fuel 2 amount = 7.621200000000001, Brake power = 5.2, Heat Input = 14.937564702,  Efficiency=34.81156469436929\n",
            "For Fuel 1 amount = 19.376, Fuel 2 amount = 7.750400000000001, Brake power = 5.2, Heat Input = 15.190796917333333,  Efficiency=34.231252173917106\n",
            "For Fuel 1 amount = 20.584, Fuel 2 amount = 8.233600000000001, Brake power = 5.2, Heat Input = 16.137869722666665,  Efficiency=32.22234464252905\n"
          ]
        }
      ]
    },
    {
      "cell_type": "markdown",
      "source": [
        "DMC 10"
      ],
      "metadata": {
        "id": "5VhWkGu4mQwO"
      }
    },
    {
      "cell_type": "code",
      "source": [
        "#DMC 10\n",
        "fuel_1_range = [16.46,20.11,28.18,18.05,20.49,27.43,41.24,12.81,19.13,8.91,8.37,26.28,33.83,17.658,22.041,27.756,26.955,15.264,18.224,22.4,16.912,18.648,23.429,9.324,11.994,14.682,17.604,21.522,6.909,17.094,20.86,28.042,35.945,13.992,15.432,19.744,24.288,17.776,10.346,12.936,17.85,25.298,30.807,18.891,20.421,12.504,14.92,19.432,22.616,20.848,10.143,12.621,15.365,20.958,10.528,13.944,11.277,12.978,17.031,25.935,11.416,13.968,16.656,9.555,11.963,14.924,20.972,22.008,19.053,23.886,33.264,4.936,12.936,19.376,10.843,12.117,13.272,12.488,16.48,20.584,29.072,10.409,12.425,16.268,24.983,32.508,12.424,14.88,18.272,27.12,11.375,13.811,16.954,25.935]  # Values from 1 to 60 (inclusive)\n",
        "fuel_2_range=[]\n",
        "for i in fuel_1_range:\n",
        "  fuel_2_range.append(i*0.1)\n",
        " # Values from 1 to 40 (inclusive)\n",
        "calorific_value1 = 35800\n",
        "brake_power = 5.2\n",
        "density1 = 958\n",
        "density2=1073\n",
        "calorific_value2=35000\n",
        "# Assuming you have the formulas defined as functions, for example:\n",
        "def predict_efficiency(fuel_amount_1, fuel_amount_2, calorific_value1,calorific_value2, brake_power, density1,density2):\n",
        "    # Your formula to calculate efficiency based on the given inputs\n",
        "    mass_of_fuel1 = ((fuel_amount_1  * 0.000001) / 60) * density1\n",
        "    mass_of_fuel2=((fuel_amount_2  * 0.000001) / 60) * density2\n",
        "    heat_input = mass_of_fuel1 * calorific_value1 + mass_of_fuel2 * calorific_value2\n",
        "    efficiency = brake_power / heat_input\n",
        "    return heat_input\n",
        "    # Limit efficiency to a maximum value of 32\n",
        "    efficiency = min(efficiency, 32)\n",
        "\n",
        "    return efficiency\n",
        "\n",
        "# List to store combinations that meet the efficiency criteria\n",
        "efficient_combinations = []\n",
        "\n",
        "# Loop through all combinations of fuel_1 and fuel_2\n",
        "for fuel_amount_1 in fuel_1_range:\n",
        "      # Use the formula-based prediction function to get efficiency\n",
        "      predicted_efficiency = predict_efficiency(fuel_amount_1, fuel_amount_1*0.1, calorific_value1,calorific_value2 ,brake_power,density1,density2)\n",
        "      \"\"\"if 31 <= predicted_efficiency <= 35:\"\"\"\n",
        "      efficient_combinations.append((fuel_amount_1, fuel_amount_1*0.1, predicted_efficiency))\n",
        "\n",
        "# Print the combinations that meet the efficiency criteria\n",
        "if efficient_combinations:\n",
        "    for fuel_amount_1, fuel_amount_2, predicted_efficiency in efficient_combinations:\n",
        "        eff=(brake_power/predicted_efficiency)*100\n",
        "        if eff>=31 and eff<=35:\n",
        "          print(f\"For Fuel 1 amount = {fuel_amount_1}, Fuel 2 amount = {fuel_amount_2}, \"\n",
        "                f\"Brake power = {brake_power}, \"\n",
        "                f\"Heat Input = {predicted_efficiency}, \",f\"Efficiency={eff}\")\n",
        "\n",
        "else:\n",
        "    print(\"No combinations meet the efficiency criteria.\")"
      ],
      "metadata": {
        "colab": {
          "base_uri": "https://localhost:8080/"
        },
        "id": "9dFQFN-zmURU",
        "outputId": "f1fe0468-e7a1-4aa9-e16c-d718442a0da7"
      },
      "execution_count": null,
      "outputs": [
        {
          "output_type": "stream",
          "name": "stdout",
          "text": [
            "For Fuel 1 amount = 26.28, Fuel 2 amount = 2.628, Brake power = 5.2, Heat Input = 16.6667322,  Efficiency=31.199877322082376\n",
            "For Fuel 1 amount = 23.429, Fuel 2 amount = 2.3428999999999998, Brake power = 5.2, Heat Input = 14.858632751666667,  Efficiency=34.99649050426073\n",
            "For Fuel 1 amount = 24.288, Fuel 2 amount = 2.4288000000000003, Brake power = 5.2, Heat Input = 15.40340912,  Efficiency=33.758760541185964\n",
            "For Fuel 1 amount = 25.298, Fuel 2 amount = 2.5298, Brake power = 5.2, Heat Input = 16.04394943666666,  Efficiency=32.41097225173235\n",
            "For Fuel 1 amount = 25.935, Fuel 2 amount = 2.5935, Brake power = 5.2, Heat Input = 16.447933775,  Efficiency=31.614913284145928\n",
            "For Fuel 1 amount = 23.886, Fuel 2 amount = 2.3886, Brake power = 5.2, Heat Input = 15.148461389999998,  Efficiency=34.32691853070103\n",
            "For Fuel 1 amount = 24.983, Fuel 2 amount = 2.4983000000000004, Brake power = 5.2, Heat Input = 15.844176961666667,  Efficiency=32.81962838827702\n",
            "For Fuel 1 amount = 25.935, Fuel 2 amount = 2.5935, Brake power = 5.2, Heat Input = 16.447933775,  Efficiency=31.614913284145928\n"
          ]
        }
      ]
    },
    {
      "cell_type": "markdown",
      "source": [
        "DMC 20"
      ],
      "metadata": {
        "id": "396jJs0umWKi"
      }
    },
    {
      "cell_type": "code",
      "source": [
        "#DMC 20\n",
        "fuel_1_range = [16.46,20.11,28.18,18.05,20.49,27.43,41.24,12.81,19.13,8.91,8.37,26.28,33.83,17.658,22.041,27.756,26.955,15.264,18.224,22.4,16.912,18.648,23.429,9.324,11.994,14.682,17.604,21.522,6.909,17.094,20.86,28.042,35.945,13.992,15.432,19.744,24.288,17.776,10.346,12.936,17.85,25.298,30.807,18.891,20.421,12.504,14.92,19.432,22.616,20.848,10.143,12.621,15.365,20.958,10.528,13.944,11.277,12.978,17.031,25.935,11.416,13.968,16.656,9.555,11.963,14.924,20.972,22.008,19.053,23.886,33.264,4.936,12.936,19.376,10.843,12.117,13.272,12.488,16.48,20.584,29.072,10.409,12.425,16.268,24.983,32.508,12.424,14.88,18.272,27.12,11.375,13.811,16.954,25.935]  # Values from 1 to 60 (inclusive)\n",
        "fuel_2_range=[]\n",
        "for i in fuel_1_range:\n",
        "  fuel_2_range.append(i*0.2)\n",
        " # Values from 1 to 40 (inclusive)\n",
        "calorific_value1 = 35800\n",
        "brake_power = 5.2\n",
        "density1 = 958\n",
        "density2=1073\n",
        "calorific_value2=35000\n",
        "# Assuming you have the formulas defined as functions, for example:\n",
        "def predict_efficiency(fuel_amount_1, fuel_amount_2, calorific_value1,calorific_value2, brake_power, density1,density2):\n",
        "    # Your formula to calculate efficiency based on the given inputs\n",
        "    mass_of_fuel1 = ((fuel_amount_1  * 0.000001) / 60) * density1\n",
        "    mass_of_fuel2=((fuel_amount_2  * 0.000001) / 60) * density2\n",
        "    heat_input = mass_of_fuel1 * calorific_value1 + mass_of_fuel2 * calorific_value2\n",
        "    efficiency = brake_power / heat_input\n",
        "    return heat_input\n",
        "    # Limit efficiency to a maximum value of 32\n",
        "    efficiency = min(efficiency, 32)\n",
        "\n",
        "    return efficiency\n",
        "\n",
        "# List to store combinations that meet the efficiency criteria\n",
        "efficient_combinations = []\n",
        "\n",
        "# Loop through all combinations of fuel_1 and fuel_2\n",
        "for fuel_amount_1 in fuel_1_range:\n",
        "      # Use the formula-based prediction function to get efficiency\n",
        "      predicted_efficiency = predict_efficiency(fuel_amount_1, fuel_amount_1*0.2, calorific_value1,calorific_value2 ,brake_power,density1,density2)\n",
        "      \"\"\"if 31 <= predicted_efficiency <= 35:\"\"\"\n",
        "      efficient_combinations.append((fuel_amount_1, fuel_amount_1*0.2, predicted_efficiency))\n",
        "\n",
        "# Print the combinations that meet the efficiency criteria\n",
        "if efficient_combinations:\n",
        "    for fuel_amount_1, fuel_amount_2, predicted_efficiency in efficient_combinations:\n",
        "        eff=(brake_power/predicted_efficiency)*100\n",
        "        if eff>=31 and eff<=35:\n",
        "          print(f\"For Fuel 1 amount = {fuel_amount_1}, Fuel 2 amount = {fuel_amount_2}, \"\n",
        "                f\"Brake power = {brake_power}, \"\n",
        "                f\"Heat Input = {predicted_efficiency}, \",f\"Efficiency={eff}\")\n",
        "\n",
        "else:\n",
        "    print(\"No combinations meet the efficiency criteria.\")"
      ],
      "metadata": {
        "colab": {
          "base_uri": "https://localhost:8080/"
        },
        "id": "srTFDbMumYHM",
        "outputId": "cda505e6-3239-4a63-ded4-e9fc557eea33"
      },
      "execution_count": null,
      "outputs": [
        {
          "output_type": "stream",
          "name": "stdout",
          "text": [
            "For Fuel 1 amount = 22.041, Fuel 2 amount = 4.4082, Brake power = 5.2, Heat Input = 15.35794839,  Efficiency=33.85868911622251\n",
            "For Fuel 1 amount = 22.4, Fuel 2 amount = 4.4799999999999995, Brake power = 5.2, Heat Input = 15.608096,  Efficiency=33.316043161190194\n",
            "For Fuel 1 amount = 23.429, Fuel 2 amount = 4.6857999999999995, Brake power = 5.2, Heat Input = 16.32509291,  Efficiency=31.85280493451109\n",
            "For Fuel 1 amount = 21.522, Fuel 2 amount = 4.3044, Brake power = 5.2, Heat Input = 14.996314379999998,  Efficiency=34.67518663742498\n",
            "For Fuel 1 amount = 22.616, Fuel 2 amount = 4.5232, Brake power = 5.2, Heat Input = 15.75860264,  Efficiency=32.997849611366306\n",
            "For Fuel 1 amount = 22.008, Fuel 2 amount = 4.4016, Brake power = 5.2, Heat Input = 15.334954319999998,  Efficiency=33.9094586882343\n",
            "For Fuel 1 amount = 23.886, Fuel 2 amount = 4.7772, Brake power = 5.2, Heat Input = 16.643525939999996,  Efficiency=31.243379670545945\n"
          ]
        }
      ]
    },
    {
      "cell_type": "markdown",
      "source": [
        "DMC 30"
      ],
      "metadata": {
        "id": "MxeHye24mYkC"
      }
    },
    {
      "cell_type": "code",
      "source": [
        "#DMC 30\n",
        "fuel_1_range = [16.46,20.11,28.18,18.05,20.49,27.43,41.24,12.81,19.13,8.91,8.37,26.28,33.83,17.658,22.041,27.756,26.955,15.264,18.224,22.4,16.912,18.648,23.429,9.324,11.994,14.682,17.604,21.522,6.909,17.094,20.86,28.042,35.945,13.992,15.432,19.744,24.288,17.776,10.346,12.936,17.85,25.298,30.807,18.891,20.421,12.504,14.92,19.432,22.616,20.848,10.143,12.621,15.365,20.958,10.528,13.944,11.277,12.978,17.031,25.935,11.416,13.968,16.656,9.555,11.963,14.924,20.972,22.008,19.053,23.886,33.264,4.936,12.936,19.376,10.843,12.117,13.272,12.488,16.48,20.584,29.072,10.409,12.425,16.268,24.983,32.508,12.424,14.88,18.272,27.12,11.375,13.811,16.954,25.935]  # Values from 1 to 60 (inclusive)\n",
        "fuel_2_range=[]\n",
        "for i in fuel_1_range:\n",
        "  fuel_2_range.append(i*0.3)\n",
        " # Values from 1 to 40 (inclusive)\n",
        "calorific_value1 = 35800\n",
        "brake_power = 5.2\n",
        "density1 = 958\n",
        "density2=1073\n",
        "calorific_value2=35000\n",
        "# Assuming you have the formulas defined as functions, for example:\n",
        "def predict_efficiency(fuel_amount_1, fuel_amount_2, calorific_value1,calorific_value2, brake_power, density1,density2):\n",
        "    # Your formula to calculate efficiency based on the given inputs\n",
        "    mass_of_fuel1 = ((fuel_amount_1  * 0.000001) / 60) * density1\n",
        "    mass_of_fuel2=((fuel_amount_2  * 0.000001) / 60) * density2\n",
        "    heat_input = mass_of_fuel1 * calorific_value1 + mass_of_fuel2 * calorific_value2\n",
        "    efficiency = brake_power / heat_input\n",
        "    return heat_input\n",
        "    # Limit efficiency to a maximum value of 32\n",
        "    efficiency = min(efficiency, 32)\n",
        "\n",
        "    return efficiency\n",
        "\n",
        "# List to store combinations that meet the efficiency criteria\n",
        "efficient_combinations = []\n",
        "\n",
        "# Loop through all combinations of fuel_1 and fuel_2\n",
        "for fuel_amount_1 in fuel_1_range:\n",
        "      # Use the formula-based prediction function to get efficiency\n",
        "      predicted_efficiency = predict_efficiency(fuel_amount_1, fuel_amount_1*0.3, calorific_value1,calorific_value2 ,brake_power,density1,density2)\n",
        "      \"\"\"if 31 <= predicted_efficiency <= 35:\"\"\"\n",
        "      efficient_combinations.append((fuel_amount_1, fuel_amount_1*0.3, predicted_efficiency))\n",
        "\n",
        "# Print the combinations that meet the efficiency criteria\n",
        "if efficient_combinations:\n",
        "    for fuel_amount_1, fuel_amount_2, predicted_efficiency in efficient_combinations:\n",
        "        eff=(brake_power/predicted_efficiency)*100\n",
        "        if eff>=31 and eff<=35:\n",
        "          print(f\"For Fuel 1 amount = {fuel_amount_1}, Fuel 2 amount = {fuel_amount_2}, \"\n",
        "                f\"Brake power = {brake_power}, \"\n",
        "                f\"Heat Input = {predicted_efficiency}, \",f\"Efficiency={eff}\")\n",
        "\n",
        "else:\n",
        "    print(\"No combinations meet the efficiency criteria.\")"
      ],
      "metadata": {
        "colab": {
          "base_uri": "https://localhost:8080/"
        },
        "id": "SD4uswLBmasH",
        "outputId": "411f03c2-925d-4c4f-9d67-23105d81115d"
      },
      "execution_count": null,
      "outputs": [
        {
          "output_type": "stream",
          "name": "stdout",
          "text": [
            "For Fuel 1 amount = 20.11, Fuel 2 amount = 6.0329999999999995, Brake power = 5.2, Heat Input = 15.271165316666664,  Efficiency=34.05110148552198\n",
            "For Fuel 1 amount = 20.49, Fuel 2 amount = 6.146999999999999, Brake power = 5.2, Heat Input = 15.559730349999997,  Efficiency=33.41960228764505\n",
            "For Fuel 1 amount = 22.041, Fuel 2 amount = 6.6123, Brake power = 5.2, Heat Input = 16.737531315,  Efficiency=31.067903038602925\n",
            "For Fuel 1 amount = 21.522, Fuel 2 amount = 6.456599999999999, Brake power = 5.2, Heat Input = 16.34341223,  Efficiency=31.81710114644768\n",
            "For Fuel 1 amount = 20.86, Fuel 2 amount = 6.258, Brake power = 5.2, Heat Input = 15.840701566666668,  Efficiency=32.82682890095143\n",
            "For Fuel 1 amount = 19.744, Fuel 2 amount = 5.9232, Brake power = 5.2, Heat Input = 14.993231626666665,  Efficiency=34.682316190936334\n",
            "For Fuel 1 amount = 20.421, Fuel 2 amount = 6.1263, Brake power = 5.2, Heat Input = 15.507333014999999,  Efficiency=33.532522935891826\n",
            "For Fuel 1 amount = 20.848, Fuel 2 amount = 6.2543999999999995, Brake power = 5.2, Heat Input = 15.831588986666663,  Efficiency=32.845723852352606\n",
            "For Fuel 1 amount = 20.958, Fuel 2 amount = 6.287399999999999, Brake power = 5.2, Heat Input = 15.91512097,  Efficiency=32.67333003501513\n",
            "For Fuel 1 amount = 20.972, Fuel 2 amount = 6.2916, Brake power = 5.2, Heat Input = 15.925752313333334,  Efficiency=32.651518733256104\n",
            "For Fuel 1 amount = 22.008, Fuel 2 amount = 6.602399999999999, Brake power = 5.2, Heat Input = 16.712471719999996,  Efficiency=31.114487953191887\n",
            "For Fuel 1 amount = 20.584, Fuel 2 amount = 6.175199999999999, Brake power = 5.2, Heat Input = 15.631112226666666,  Efficiency=33.266986536817285\n"
          ]
        }
      ]
    },
    {
      "cell_type": "markdown",
      "source": [
        "DMC 40"
      ],
      "metadata": {
        "id": "CndCDV_TmgHz"
      }
    },
    {
      "cell_type": "code",
      "source": [
        "#DMC 40\n",
        "fuel_1_range = [16.46,20.11,28.18,18.05,20.49,27.43,41.24,12.81,19.13,8.91,8.37,26.28,33.83,17.658,22.041,27.756,26.955,15.264,18.224,22.4,16.912,18.648,23.429,9.324,11.994,14.682,17.604,21.522,6.909,17.094,20.86,28.042,35.945,13.992,15.432,19.744,24.288,17.776,10.346,12.936,17.85,25.298,30.807,18.891,20.421,12.504,14.92,19.432,22.616,20.848,10.143,12.621,15.365,20.958,10.528,13.944,11.277,12.978,17.031,25.935,11.416,13.968,16.656,9.555,11.963,14.924,20.972,22.008,19.053,23.886,33.264,4.936,12.936,19.376,10.843,12.117,13.272,12.488,16.48,20.584,29.072,10.409,12.425,16.268,24.983,32.508,12.424,14.88,18.272,27.12,11.375,13.811,16.954,25.935]  # Values from 1 to 60 (inclusive)\n",
        "fuel_2_range=[]\n",
        "for i in fuel_1_range:\n",
        "  fuel_2_range.append(i*0.4)\n",
        " # Values from 1 to 40 (inclusive)\n",
        "calorific_value1 = 35800\n",
        "brake_power = 5.2\n",
        "density1 = 958\n",
        "density2=1073\n",
        "calorific_value2=35000\n",
        "# Assuming you have the formulas defined as functions, for example:\n",
        "def predict_efficiency(fuel_amount_1, fuel_amount_2, calorific_value1,calorific_value2, brake_power, density1,density2):\n",
        "    # Your formula to calculate efficiency based on the given inputs\n",
        "    mass_of_fuel1 = ((fuel_amount_1  * 0.000001) / 60) * density1\n",
        "    mass_of_fuel2=((fuel_amount_2  * 0.000001) / 60) * density2\n",
        "    heat_input = mass_of_fuel1 * calorific_value1 + mass_of_fuel2 * calorific_value2\n",
        "    efficiency = brake_power / heat_input\n",
        "    return heat_input\n",
        "    # Limit efficiency to a maximum value of 32\n",
        "    efficiency = min(efficiency, 32)\n",
        "\n",
        "    return efficiency\n",
        "\n",
        "# List to store combinations that meet the efficiency criteria\n",
        "efficient_combinations = []\n",
        "\n",
        "# Loop through all combinations of fuel_1 and fuel_2\n",
        "for fuel_amount_1 in fuel_1_range:\n",
        "      # Use the formula-based prediction function to get efficiency\n",
        "      predicted_efficiency = predict_efficiency(fuel_amount_1, fuel_amount_1*0.4, calorific_value1,calorific_value2 ,brake_power,density1,density2)\n",
        "      \"\"\"if 31 <= predicted_efficiency <= 35:\"\"\"\n",
        "      efficient_combinations.append((fuel_amount_1, fuel_amount_1*0.4, predicted_efficiency))\n",
        "\n",
        "# Print the combinations that meet the efficiency criteria\n",
        "if efficient_combinations:\n",
        "    for fuel_amount_1, fuel_amount_2, predicted_efficiency in efficient_combinations:\n",
        "        eff=(brake_power/predicted_efficiency)*100\n",
        "        if eff>=31 and eff<=35:\n",
        "          print(f\"For Fuel 1 amount = {fuel_amount_1}, Fuel 2 amount = {fuel_amount_2}, \"\n",
        "                f\"Brake power = {brake_power}, \"\n",
        "                f\"Heat Input = {predicted_efficiency}, \",f\"Efficiency={eff}\")\n",
        "\n",
        "else:\n",
        "    print(\"No combinations meet the efficiency criteria.\")"
      ],
      "metadata": {
        "colab": {
          "base_uri": "https://localhost:8080/"
        },
        "id": "EWq1h6EImhqt",
        "outputId": "afaca804-4c10-47d0-89ff-41996d8b865e"
      },
      "execution_count": null,
      "outputs": [
        {
          "output_type": "stream",
          "name": "stdout",
          "text": [
            "For Fuel 1 amount = 20.11, Fuel 2 amount = 8.044, Brake power = 5.2, Heat Input = 16.52988373333333,  Efficiency=31.458176499535455\n",
            "For Fuel 1 amount = 19.13, Fuel 2 amount = 7.652, Brake power = 5.2, Heat Input = 15.724349866666667,  Efficiency=33.069729712789226\n",
            "For Fuel 1 amount = 18.224, Fuel 2 amount = 7.2896, Brake power = 5.2, Heat Input = 14.979642026666667,  Efficiency=34.71378014736929\n",
            "For Fuel 1 amount = 18.648, Fuel 2 amount = 7.4592, Brake power = 5.2, Heat Input = 15.32815872,  Efficiency=33.92449213887055\n",
            "For Fuel 1 amount = 19.744, Fuel 2 amount = 7.897600000000001, Brake power = 5.2, Heat Input = 16.229041493333334,  Efficiency=32.04132543586193\n",
            "For Fuel 1 amount = 18.891, Fuel 2 amount = 7.5564, Brake power = 5.2, Heat Input = 15.527898239999995,  Efficiency=33.488112297160455\n",
            "For Fuel 1 amount = 19.432, Fuel 2 amount = 7.7728, Brake power = 5.2, Heat Input = 15.972585813333332,  Efficiency=32.555780640472314\n",
            "For Fuel 1 amount = 19.053, Fuel 2 amount = 7.621200000000001, Brake power = 5.2, Heat Input = 15.661057920000001,  Efficiency=33.20337633998099\n",
            "For Fuel 1 amount = 19.376, Fuel 2 amount = 7.750400000000001, Brake power = 5.2, Heat Input = 15.926555306666666,  Efficiency=32.64987249203437\n",
            "For Fuel 1 amount = 18.272, Fuel 2 amount = 7.3088, Brake power = 5.2, Heat Input = 15.019096746666666,  Efficiency=34.62258808043225\n"
          ]
        }
      ]
    },
    {
      "cell_type": "markdown",
      "source": [
        "CM 10"
      ],
      "metadata": {
        "id": "ztUlOWD0nTel"
      }
    },
    {
      "cell_type": "code",
      "source": [
        "#CM 10\n",
        "fuel_1_range = [16.46,20.11,28.18,18.05,20.49,27.43,41.24,12.81,19.13,8.91,8.37,26.28,33.83,17.658,22.041,27.756,26.955,15.264,18.224,22.4,16.912,18.648,23.429,9.324,11.994,14.682,17.604,21.522,6.909,17.094,20.86,28.042,35.945,13.992,15.432,19.744,24.288,17.776,10.346,12.936,17.85,25.298,30.807,18.891,20.421,12.504,14.92,19.432,22.616,20.848,10.143,12.621,15.365,20.958,10.528,13.944,11.277,12.978,17.031,25.935,11.416,13.968,16.656,9.555,11.963,14.924,20.972,22.008,19.053,23.886,33.264,4.936,12.936,19.376,10.843,12.117,13.272,12.488,16.48,20.584,29.072,10.409,12.425,16.268,24.983,32.508,12.424,14.88,18.272,27.12,11.375,13.811,16.954,25.935]  # Values from 1 to 60 (inclusive)\n",
        "fuel_2_range=[]\n",
        "for i in fuel_1_range:\n",
        "  fuel_2_range.append(i*0.1)\n",
        " # Values from 1 to 40 (inclusive)\n",
        "calorific_value1 = 35800\n",
        "brake_power = 5.2\n",
        "density1 = 958\n",
        "density2=894.2\n",
        "calorific_value2=38200\n",
        "# Assuming you have the formulas defined as functions, for example:\n",
        "def predict_efficiency(fuel_amount_1, fuel_amount_2, calorific_value1,calorific_value2, brake_power, density1,density2):\n",
        "    # Your formula to calculate efficiency based on the given inputs\n",
        "    mass_of_fuel1 = ((fuel_amount_1  * 0.000001) / 60) * density1\n",
        "    mass_of_fuel2=((fuel_amount_2  * 0.000001) / 60) * density2\n",
        "    heat_input = mass_of_fuel1 * calorific_value1 + mass_of_fuel2 * calorific_value2\n",
        "    efficiency = brake_power / heat_input\n",
        "    return heat_input\n",
        "    # Limit efficiency to a maximum value of 32\n",
        "    efficiency = min(efficiency, 32)\n",
        "\n",
        "    return efficiency\n",
        "\n",
        "# List to store combinations that meet the efficiency criteria\n",
        "efficient_combinations = []\n",
        "\n",
        "# Loop through all combinations of fuel_1 and fuel_2\n",
        "for fuel_amount_1 in fuel_1_range:\n",
        "      # Use the formula-based prediction function to get efficiency\n",
        "      predicted_efficiency = predict_efficiency(fuel_amount_1, fuel_amount_1*0.1, calorific_value1,calorific_value2 ,brake_power,density1,density2)\n",
        "      \"\"\"if 31 <= predicted_efficiency <= 35:\"\"\"\n",
        "      efficient_combinations.append((fuel_amount_1, fuel_amount_1*0.1, predicted_efficiency))\n",
        "\n",
        "# Print the combinations that meet the efficiency criteria\n",
        "if efficient_combinations:\n",
        "    for fuel_amount_1, fuel_amount_2, predicted_efficiency in efficient_combinations:\n",
        "        eff=(brake_power/predicted_efficiency)*100\n",
        "        if eff>=31 and eff<=35:\n",
        "          print(f\"For Fuel 1 amount = {fuel_amount_1}, Fuel 2 amount = {fuel_amount_2}, \"\n",
        "                f\"Brake power = {brake_power}, \"\n",
        "                f\"Heat Input = {predicted_efficiency}, \",f\"Efficiency={eff}\")\n",
        "\n",
        "else:\n",
        "    print(\"No combinations meet the efficiency criteria.\")"
      ],
      "metadata": {
        "colab": {
          "base_uri": "https://localhost:8080/"
        },
        "id": "4bnx4oEnnfvr",
        "outputId": "16233b78-9d10-4149-f335-2c0f6c0b188f"
      },
      "execution_count": null,
      "outputs": [
        {
          "output_type": "stream",
          "name": "stdout",
          "text": [
            "For Fuel 1 amount = 26.28, Fuel 2 amount = 2.628, Brake power = 5.2, Heat Input = 16.517962872,  Efficiency=31.48087957513603\n",
            "For Fuel 1 amount = 24.288, Fuel 2 amount = 2.4288000000000003, Brake power = 5.2, Heat Input = 15.2659163712,  Efficiency=34.06280942171339\n",
            "For Fuel 1 amount = 25.298, Fuel 2 amount = 2.5298, Brake power = 5.2, Heat Input = 15.900739145199996,  Efficiency=32.70288225292809\n",
            "For Fuel 1 amount = 25.935, Fuel 2 amount = 2.5935, Brake power = 5.2, Heat Input = 16.301117468999998,  Efficiency=31.89965356601407\n",
            "For Fuel 1 amount = 23.886, Fuel 2 amount = 2.3886, Brake power = 5.2, Heat Input = 15.013244336399998,  Efficiency=34.63608453632148\n",
            "For Fuel 1 amount = 24.983, Fuel 2 amount = 2.4983000000000004, Brake power = 5.2, Heat Input = 15.7027498642,  Efficiency=33.11521895827462\n",
            "For Fuel 1 amount = 25.935, Fuel 2 amount = 2.5935, Brake power = 5.2, Heat Input = 16.301117468999998,  Efficiency=31.89965356601407\n"
          ]
        }
      ]
    },
    {
      "cell_type": "markdown",
      "source": [
        "CM 20"
      ],
      "metadata": {
        "id": "CDpZFlgKngVE"
      }
    },
    {
      "cell_type": "code",
      "source": [
        "#CM 20\n",
        "fuel_1_range = [16.46,20.11,28.18,18.05,20.49,27.43,41.24,12.81,19.13,8.91,8.37,26.28,33.83,17.658,22.041,27.756,26.955,15.264,18.224,22.4,16.912,18.648,23.429,9.324,11.994,14.682,17.604,21.522,6.909,17.094,20.86,28.042,35.945,13.992,15.432,19.744,24.288,17.776,10.346,12.936,17.85,25.298,30.807,18.891,20.421,12.504,14.92,19.432,22.616,20.848,10.143,12.621,15.365,20.958,10.528,13.944,11.277,12.978,17.031,25.935,11.416,13.968,16.656,9.555,11.963,14.924,20.972,22.008,19.053,23.886,33.264,4.936,12.936,19.376,10.843,12.117,13.272,12.488,16.48,20.584,29.072,10.409,12.425,16.268,24.983,32.508,12.424,14.88,18.272,27.12,11.375,13.811,16.954,25.935]  # Values from 1 to 60 (inclusive)\n",
        "fuel_2_range=[]\n",
        "for i in fuel_1_range:\n",
        "  fuel_2_range.append(i*0.2)\n",
        " # Values from 1 to 40 (inclusive)\n",
        "calorific_value1 = 35800\n",
        "brake_power = 5.2\n",
        "density1 = 958\n",
        "density2=894.2\n",
        "calorific_value2=38200\n",
        "# Assuming you have the formulas defined as functions, for example:\n",
        "def predict_efficiency(fuel_amount_1, fuel_amount_2, calorific_value1,calorific_value2, brake_power, density1,density2):\n",
        "    # Your formula to calculate efficiency based on the given inputs\n",
        "    mass_of_fuel1 = ((fuel_amount_1  * 0.000001) / 60) * density1\n",
        "    mass_of_fuel2=((fuel_amount_2  * 0.000001) / 60) * density2\n",
        "    heat_input = mass_of_fuel1 * calorific_value1 + mass_of_fuel2 * calorific_value2\n",
        "    efficiency = brake_power / heat_input\n",
        "    return heat_input\n",
        "    # Limit efficiency to a maximum value of 32\n",
        "    efficiency = min(efficiency, 32)\n",
        "\n",
        "    return efficiency\n",
        "\n",
        "# List to store combinations that meet the efficiency criteria\n",
        "efficient_combinations = []\n",
        "\n",
        "# Loop through all combinations of fuel_1 and fuel_2\n",
        "for fuel_amount_1 in fuel_1_range:\n",
        "      # Use the formula-based prediction function to get efficiency\n",
        "      predicted_efficiency = predict_efficiency(fuel_amount_1, fuel_amount_1*0.2, calorific_value1,calorific_value2 ,brake_power,density1,density2)\n",
        "      \"\"\"if 31 <= predicted_efficiency <= 35:\"\"\"\n",
        "      efficient_combinations.append((fuel_amount_1, fuel_amount_1*0.2, predicted_efficiency))\n",
        "\n",
        "# Print the combinations that meet the efficiency criteria\n",
        "if efficient_combinations:\n",
        "    for fuel_amount_1, fuel_amount_2, predicted_efficiency in efficient_combinations:\n",
        "        eff=(brake_power/predicted_efficiency)*100\n",
        "        if eff>=31 and eff<=35:\n",
        "          print(f\"For Fuel 1 amount = {fuel_amount_1}, Fuel 2 amount = {fuel_amount_2}, \"\n",
        "                f\"Brake power = {brake_power}, \"\n",
        "                f\"Heat Input = {predicted_efficiency}, \",f\"Efficiency={eff}\")\n",
        "\n",
        "else:\n",
        "    print(\"No combinations meet the efficiency criteria.\")"
      ],
      "metadata": {
        "colab": {
          "base_uri": "https://localhost:8080/"
        },
        "id": "dvYuWMf0nhr0",
        "outputId": "1d977b68-77f6-4ab6-ffc3-11f4d0243404"
      },
      "execution_count": null,
      "outputs": [
        {
          "output_type": "stream",
          "name": "stdout",
          "text": [
            "For Fuel 1 amount = 22.041, Fuel 2 amount = 4.4082, Brake power = 5.2, Heat Input = 15.108403126799999,  Efficiency=34.41793256612272\n",
            "For Fuel 1 amount = 22.4, Fuel 2 amount = 4.4799999999999995, Brake power = 5.2, Heat Input = 15.354486186666668,  Efficiency=33.86632373615674\n",
            "For Fuel 1 amount = 23.429, Fuel 2 amount = 4.6857999999999995, Brake power = 5.2, Heat Input = 16.059832895866666,  Efficiency=32.37891722608352\n",
            "For Fuel 1 amount = 24.288, Fuel 2 amount = 4.857600000000001, Brake power = 5.2, Heat Input = 16.6486500224,  Efficiency=31.233763656534542\n",
            "For Fuel 1 amount = 22.616, Fuel 2 amount = 4.5232, Brake power = 5.2, Heat Input = 15.502547303466665,  Efficiency=33.542874588340595\n",
            "For Fuel 1 amount = 22.008, Fuel 2 amount = 4.4016, Brake power = 5.2, Heat Input = 15.085782678399998,  Efficiency=34.46954069837836\n",
            "For Fuel 1 amount = 23.886, Fuel 2 amount = 4.7772, Brake power = 5.2, Heat Input = 16.373091832799997,  Efficiency=31.75942609436117\n"
          ]
        }
      ]
    },
    {
      "cell_type": "markdown",
      "source": [
        "CM 30"
      ],
      "metadata": {
        "id": "5DWpGRjenigT"
      }
    },
    {
      "cell_type": "code",
      "source": [
        "#CM 30\n",
        "fuel_1_range = [16.46,20.11,28.18,18.05,20.49,27.43,41.24,12.81,19.13,8.91,8.37,26.28,33.83,17.658,22.041,27.756,26.955,15.264,18.224,22.4,16.912,18.648,23.429,9.324,11.994,14.682,17.604,21.522,6.909,17.094,20.86,28.042,35.945,13.992,15.432,19.744,24.288,17.776,10.346,12.936,17.85,25.298,30.807,18.891,20.421,12.504,14.92,19.432,22.616,20.848,10.143,12.621,15.365,20.958,10.528,13.944,11.277,12.978,17.031,25.935,11.416,13.968,16.656,9.555,11.963,14.924,20.972,22.008,19.053,23.886,33.264,4.936,12.936,19.376,10.843,12.117,13.272,12.488,16.48,20.584,29.072,10.409,12.425,16.268,24.983,32.508,12.424,14.88,18.272,27.12,11.375,13.811,16.954,25.935]  # Values from 1 to 60 (inclusive)\n",
        "fuel_2_range=[]\n",
        "for i in fuel_1_range:\n",
        "  fuel_2_range.append(i*0.3)\n",
        " # Values from 1 to 40 (inclusive)\n",
        "calorific_value1 = 35800\n",
        "brake_power = 5.2\n",
        "density1 = 958\n",
        "density2=894.2\n",
        "calorific_value2=38200\n",
        "# Assuming you have the formulas defined as functions, for example:\n",
        "def predict_efficiency(fuel_amount_1, fuel_amount_2, calorific_value1,calorific_value2, brake_power, density1,density2):\n",
        "    # Your formula to calculate efficiency based on the given inputs\n",
        "    mass_of_fuel1 = ((fuel_amount_1  * 0.000001) / 60) * density1\n",
        "    mass_of_fuel2=((fuel_amount_2  * 0.000001) / 60) * density2\n",
        "    heat_input = mass_of_fuel1 * calorific_value1 + mass_of_fuel2 * calorific_value2\n",
        "    efficiency = brake_power / heat_input\n",
        "    return heat_input\n",
        "    # Limit efficiency to a maximum value of 32\n",
        "    efficiency = min(efficiency, 32)\n",
        "\n",
        "    return efficiency\n",
        "\n",
        "# List to store combinations that meet the efficiency criteria\n",
        "efficient_combinations = []\n",
        "\n",
        "# Loop through all combinations of fuel_1 and fuel_2\n",
        "for fuel_amount_1 in fuel_1_range:\n",
        "      # Use the formula-based prediction function to get efficiency\n",
        "      predicted_efficiency = predict_efficiency(fuel_amount_1, fuel_amount_1*0.3, calorific_value1,calorific_value2 ,brake_power,density1,density2)\n",
        "      \"\"\"if 31<= predicted_efficiency <= 35:\"\"\"\n",
        "      efficient_combinations.append((fuel_amount_1, fuel_amount_1*0.3, predicted_efficiency))\n",
        "\n",
        "# Print the combinations that meet the efficiency criteria\n",
        "if efficient_combinations:\n",
        "    for fuel_amount_1, fuel_amount_2, predicted_efficiency in efficient_combinations:\n",
        "        eff=(brake_power/predicted_efficiency)*100\n",
        "        if eff>=31 and eff<=35:\n",
        "          print(f\"For Fuel 1 amount = {fuel_amount_1}, Fuel 2 amount = {fuel_amount_2}, \"\n",
        "                f\"Brake power = {brake_power}, \"\n",
        "                f\"Heat Input = {predicted_efficiency}, \",f\"Efficiency={eff}\")\n",
        "\n",
        "else:\n",
        "    print(\"No combinations meet the efficiency criteria.\")"
      ],
      "metadata": {
        "colab": {
          "base_uri": "https://localhost:8080/"
        },
        "id": "jhx2treGnjbv",
        "outputId": "9fc75fda-cf83-4d5f-fcb0-815c2b62c6e6"
      },
      "execution_count": null,
      "outputs": [
        {
          "output_type": "stream",
          "name": "stdout",
          "text": [
            "For Fuel 1 amount = 20.11, Fuel 2 amount = 6.0329999999999995, Brake power = 5.2, Heat Input = 14.929641208666666,  Efficiency=34.8300399676142\n",
            "For Fuel 1 amount = 20.49, Fuel 2 amount = 6.146999999999999, Brake power = 5.2, Heat Input = 15.211752777999997,  Efficiency=34.184094863285594\n",
            "For Fuel 1 amount = 22.041, Fuel 2 amount = 6.6123, Brake power = 5.2, Heat Input = 16.3632134202,  Efficiency=31.778599144717646\n",
            "For Fuel 1 amount = 22.4, Fuel 2 amount = 6.72, Brake power = 5.2, Heat Input = 16.629734613333333,  Efficiency=31.26929034592507\n",
            "For Fuel 1 amount = 21.522, Fuel 2 amount = 6.456599999999999, Brake power = 5.2, Heat Input = 15.977908408399998,  Efficiency=32.54493558910519\n",
            "For Fuel 1 amount = 20.86, Fuel 2 amount = 6.258, Brake power = 5.2, Heat Input = 15.486440358666668,  Efficiency=33.577761445288665\n",
            "For Fuel 1 amount = 20.421, Fuel 2 amount = 6.1263, Brake power = 5.2, Heat Input = 15.160527256199998,  Efficiency=34.29959863614523\n",
            "For Fuel 1 amount = 20.848, Fuel 2 amount = 6.2543999999999995, Brake power = 5.2, Heat Input = 15.477531572266663,  Efficiency=33.59708862954345\n",
            "For Fuel 1 amount = 20.958, Fuel 2 amount = 6.287399999999999, Brake power = 5.2, Heat Input = 15.5591954476,  Efficiency=33.42075120472954\n",
            "For Fuel 1 amount = 20.972, Fuel 2 amount = 6.2916, Brake power = 5.2, Heat Input = 15.569589031733335,  Efficiency=33.39844095692931\n",
            "For Fuel 1 amount = 22.008, Fuel 2 amount = 6.602399999999999, Brake power = 5.2, Heat Input = 16.338714257599996,  Efficiency=31.82624971595428\n",
            "For Fuel 1 amount = 20.584, Fuel 2 amount = 6.175199999999999, Brake power = 5.2, Heat Input = 15.281538271466665,  Efficiency=34.02798793959977\n"
          ]
        }
      ]
    },
    {
      "cell_type": "markdown",
      "source": [
        "CM 40"
      ],
      "metadata": {
        "id": "zGfL3U9LnkBc"
      }
    },
    {
      "cell_type": "code",
      "source": [
        "#CM 40\n",
        "fuel_1_range = [16.46,20.11,28.18,18.05,20.49,27.43,41.24,12.81,19.13,8.91,8.37,26.28,33.83,17.658,22.041,27.756,26.955,15.264,18.224,22.4,16.912,18.648,23.429,9.324,11.994,14.682,17.604,21.522,6.909,17.094,20.86,28.042,35.945,13.992,15.432,19.744,24.288,17.776,10.346,12.936,17.85,25.298,30.807,18.891,20.421,12.504,14.92,19.432,22.616,20.848,10.143,12.621,15.365,20.958,10.528,13.944,11.277,12.978,17.031,25.935,11.416,13.968,16.656,9.555,11.963,14.924,20.972,22.008,19.053,23.886,33.264,4.936,12.936,19.376,10.843,12.117,13.272,12.488,16.48,20.584,29.072,10.409,12.425,16.268,24.983,32.508,12.424,14.88,18.272,27.12,11.375,13.811,16.954,25.935]  # Values from 1 to 60 (inclusive)\n",
        "fuel_2_range=[]\n",
        "for i in fuel_1_range:\n",
        "  fuel_2_range.append(i*0.4)\n",
        " # Values from 1 to 40 (inclusive)\n",
        "calorific_value1 = 35800\n",
        "brake_power = 5.2\n",
        "density1 = 958\n",
        "density2=894.2\n",
        "calorific_value2=38200\n",
        "# Assuming you have the formulas defined as functions, for example:\n",
        "def predict_efficiency(fuel_amount_1, fuel_amount_2, calorific_value1,calorific_value2, brake_power, density1,density2):\n",
        "    # Your formula to calculate efficiency based on the given inputs\n",
        "    mass_of_fuel1 = ((fuel_amount_1  * 0.000001) / 60) * density1\n",
        "    mass_of_fuel2=((fuel_amount_2  * 0.000001) / 60) * density2\n",
        "    heat_input = mass_of_fuel1 * calorific_value1 + mass_of_fuel2 * calorific_value2\n",
        "    efficiency = brake_power / heat_input\n",
        "    return heat_input\n",
        "    # Limit efficiency to a maximum value of 32\n",
        "    efficiency = min(efficiency, 32)\n",
        "\n",
        "    return efficiency\n",
        "\n",
        "# List to store combinations that meet the efficiency criteria\n",
        "efficient_combinations = []\n",
        "\n",
        "# Loop through all combinations of fuel_1 and fuel_2\n",
        "for fuel_amount_1 in fuel_1_range:\n",
        "      # Use the formula-based prediction function to get efficiency\n",
        "      predicted_efficiency = predict_efficiency(fuel_amount_1, fuel_amount_1*0.4, calorific_value1,calorific_value2 ,brake_power,density1,density2)\n",
        "      \"\"\"if 31 <= predicted_efficiency <= 35:\"\"\"\n",
        "      efficient_combinations.append((fuel_amount_1, fuel_amount_1*0.4, predicted_efficiency))\n",
        "\n",
        "# Print the combinations that meet the efficiency criteria\n",
        "if efficient_combinations:\n",
        "    for fuel_amount_1, fuel_amount_2, predicted_efficiency in efficient_combinations:\n",
        "        eff=(brake_power/predicted_efficiency)*100\n",
        "        if eff>=31 and eff<=35:\n",
        "          print(f\"For Fuel 1 amount = {fuel_amount_1}, Fuel 2 amount = {fuel_amount_2}, \"\n",
        "                f\"Brake power = {brake_power}, \"\n",
        "                f\"Heat Input = {predicted_efficiency}, \",f\"Efficiency={eff}\")\n",
        "\n",
        "else:\n",
        "    print(\"No combinations meet the efficiency criteria.\")"
      ],
      "metadata": {
        "colab": {
          "base_uri": "https://localhost:8080/"
        },
        "id": "45cs5Y3Gnlto",
        "outputId": "fc5acd1e-d4f2-45e2-a37f-aed76673a4f6"
      },
      "execution_count": null,
      "outputs": [
        {
          "output_type": "stream",
          "name": "stdout",
          "text": [
            "For Fuel 1 amount = 20.11, Fuel 2 amount = 8.044, Brake power = 5.2, Heat Input = 16.074518255999998,  Efficiency=32.34933649136913\n",
            "For Fuel 1 amount = 20.49, Fuel 2 amount = 8.196, Brake power = 5.2, Heat Input = 16.378263503999996,  Efficiency=31.74939760085082\n",
            "For Fuel 1 amount = 19.13, Fuel 2 amount = 7.652, Brake power = 5.2, Heat Input = 15.291175248,  Efficiency=34.006542438130325\n",
            "For Fuel 1 amount = 18.648, Fuel 2 amount = 7.4592, Brake power = 5.2, Heat Input = 14.9058983808,  Efficiency=34.88551892114077\n",
            "For Fuel 1 amount = 20.86, Fuel 2 amount = 8.344, Brake power = 5.2, Heat Input = 16.674015456,  Efficiency=31.18624912950303\n",
            "For Fuel 1 amount = 19.744, Fuel 2 amount = 7.897600000000001, Brake power = 5.2, Heat Input = 15.7819636224,  Efficiency=32.94900510744698\n",
            "For Fuel 1 amount = 18.891, Fuel 2 amount = 7.5564, Brake power = 5.2, Heat Input = 15.100135473599998,  Efficiency=34.436777134160884\n",
            "For Fuel 1 amount = 20.421, Fuel 2 amount = 8.1684, Brake power = 5.2, Heat Input = 16.3231097616,  Efficiency=31.856674836757904\n",
            "For Fuel 1 amount = 19.432, Fuel 2 amount = 7.7728, Brake power = 5.2, Heat Input = 15.5325727872,  Efficiency=33.4780340078959\n",
            "For Fuel 1 amount = 20.848, Fuel 2 amount = 8.3392, Brake power = 5.2, Heat Input = 16.664423500799998,  Efficiency=31.20419977174948\n",
            "For Fuel 1 amount = 20.958, Fuel 2 amount = 8.3832, Brake power = 5.2, Heat Input = 16.7523497568,  Efficiency=31.04042164526353\n",
            "For Fuel 1 amount = 20.972, Fuel 2 amount = 8.388800000000002, Brake power = 5.2, Heat Input = 16.7635403712,  Efficiency=31.019700402509688\n",
            "For Fuel 1 amount = 19.053, Fuel 2 amount = 7.621200000000001, Brake power = 5.2, Heat Input = 15.2296268688,  Efficiency=34.143975061220445\n",
            "For Fuel 1 amount = 19.376, Fuel 2 amount = 7.750400000000001, Brake power = 5.2, Heat Input = 15.487810329599998,  Efficiency=33.57479133161815\n",
            "For Fuel 1 amount = 20.584, Fuel 2 amount = 8.233600000000001, Brake power = 5.2, Heat Input = 16.4534004864,  Efficiency=31.604409096455164\n"
          ]
        }
      ]
    },
    {
      "cell_type": "markdown",
      "source": [
        "DEE 10"
      ],
      "metadata": {
        "id": "0RHgED08oMlJ"
      }
    },
    {
      "cell_type": "code",
      "source": [
        "#DEE 10\n",
        "fuel_1_range = [16.46,20.11,28.18,18.05,20.49,27.43,41.24,12.81,19.13,8.91,8.37,26.28,33.83,17.658,22.041,27.756,26.955,15.264,18.224,22.4,16.912,18.648,23.429,9.324,11.994,14.682,17.604,21.522,6.909,17.094,20.86,28.042,35.945,13.992,15.432,19.744,24.288,17.776,10.346,12.936,17.85,25.298,30.807,18.891,20.421,12.504,14.92,19.432,22.616,20.848,10.143,12.621,15.365,20.958,10.528,13.944,11.277,12.978,17.031,25.935,11.416,13.968,16.656,9.555,11.963,14.924,20.972,22.008,19.053,23.886,33.264,4.936,12.936,19.376,10.843,12.117,13.272,12.488,16.48,20.584,29.072,10.409,12.425,16.268,24.983,32.508,12.424,14.88,18.272,27.12,11.375,13.811,16.954,25.935]  # Values from 1 to 60 (inclusive)\n",
        "fuel_2_range=[]\n",
        "for i in fuel_1_range:\n",
        "  fuel_2_range.append(i*0.1)\n",
        " # Values from 1 to 40 (inclusive)\n",
        "calorific_value1 = 35800\n",
        "brake_power = 5.2\n",
        "density1 = 958\n",
        "density2=713\n",
        "calorific_value2=39000\n",
        "# Assuming you have the formulas defined as functions, for example:\n",
        "def predict_efficiency(fuel_amount_1, fuel_amount_2, calorific_value1,calorific_value2, brake_power, density1,density2):\n",
        "    # Your formula to calculate efficiency based on the given inputs\n",
        "    mass_of_fuel1 = ((fuel_amount_1  * 0.000001) / 60) * density1\n",
        "    mass_of_fuel2=((fuel_amount_2  * 0.000001) / 60) * density2\n",
        "    heat_input = mass_of_fuel1 * calorific_value1 + mass_of_fuel2 * calorific_value2\n",
        "    efficiency = brake_power / heat_input\n",
        "    return heat_input\n",
        "    # Limit efficiency to a maximum value of 32\n",
        "    efficiency = min(efficiency, 32)\n",
        "\n",
        "    return efficiency\n",
        "\n",
        "# List to store combinations that meet the efficiency criteria\n",
        "efficient_combinations = []\n",
        "\n",
        "# Loop through all combinations of fuel_1 and fuel_2\n",
        "for fuel_amount_1 in fuel_1_range:\n",
        "      # Use the formula-based prediction function to get efficiency\n",
        "      predicted_efficiency = predict_efficiency(fuel_amount_1, fuel_amount_1*0.1, calorific_value1,calorific_value2 ,brake_power,density1,density2)\n",
        "      \"\"\"if 31 <= predicted_efficiency <= 35:\"\"\"\n",
        "      efficient_combinations.append((fuel_amount_1, fuel_amount_1*0.1, predicted_efficiency))\n",
        "\n",
        "# Print the combinations that meet the efficiency criteria\n",
        "if efficient_combinations:\n",
        "    for fuel_amount_1, fuel_amount_2, predicted_efficiency in efficient_combinations:\n",
        "        eff=(brake_power/predicted_efficiency)*100\n",
        "        if eff>=31 and eff<=35:\n",
        "          print(f\"For Fuel 1 amount = {fuel_amount_1}, Fuel 2 amount = {fuel_amount_2}, \"\n",
        "                f\"Brake power = {brake_power}, \"\n",
        "                f\"Heat Input = {predicted_efficiency}, \",f\"Efficiency={eff}\")\n",
        "\n",
        "else:\n",
        "    print(\"No combinations meet the efficiency criteria.\")"
      ],
      "metadata": {
        "colab": {
          "base_uri": "https://localhost:8080/"
        },
        "id": "A2f-AWx7oR5O",
        "outputId": "f1b14851-c8c9-448c-9b4b-288581f0a79b"
      },
      "execution_count": null,
      "outputs": [
        {
          "output_type": "stream",
          "name": "stdout",
          "text": [
            "For Fuel 1 amount = 26.28, Fuel 2 amount = 2.628, Brake power = 5.2, Heat Input = 16.239769799999998,  Efficiency=32.02015831529829\n",
            "For Fuel 1 amount = 26.955, Fuel 2 amount = 2.6955, Brake power = 5.2, Heat Input = 16.656887175,  Efficiency=31.218317956818364\n",
            "For Fuel 1 amount = 24.288, Fuel 2 amount = 2.4288000000000003, Brake power = 5.2, Heat Input = 15.00881008,  Efficiency=34.646317544715046\n",
            "For Fuel 1 amount = 25.298, Fuel 2 amount = 2.5298, Brake power = 5.2, Heat Input = 15.63294126333333,  Efficiency=33.26309433654989\n",
            "For Fuel 1 amount = 25.935, Fuel 2 amount = 2.5935, Brake power = 5.2, Heat Input = 16.026576475,  Efficiency=32.44610605459954\n",
            "For Fuel 1 amount = 24.983, Fuel 2 amount = 2.4983000000000004, Brake power = 5.2, Heat Input = 15.438286488333333,  Efficiency=33.68249451731333\n",
            "For Fuel 1 amount = 27.12, Fuel 2 amount = 2.712, Brake power = 5.2, Heat Input = 16.7588492,  Efficiency=31.028383500222677\n",
            "For Fuel 1 amount = 25.935, Fuel 2 amount = 2.5935, Brake power = 5.2, Heat Input = 16.026576475,  Efficiency=32.44610605459954\n"
          ]
        }
      ]
    },
    {
      "cell_type": "markdown",
      "source": [
        "DEE 20"
      ],
      "metadata": {
        "id": "8X0VutRDoS1P"
      }
    },
    {
      "cell_type": "code",
      "source": [
        "#DEE 20\n",
        "fuel_1_range = [16.46,20.11,28.18,18.05,20.49,27.43,41.24,12.81,19.13,8.91,8.37,26.28,33.83,17.658,22.041,27.756,26.955,15.264,18.224,22.4,16.912,18.648,23.429,9.324,11.994,14.682,17.604,21.522,6.909,17.094,20.86,28.042,35.945,13.992,15.432,19.744,24.288,17.776,10.346,12.936,17.85,25.298,30.807,18.891,20.421,12.504,14.92,19.432,22.616,20.848,10.143,12.621,15.365,20.958,10.528,13.944,11.277,12.978,17.031,25.935,11.416,13.968,16.656,9.555,11.963,14.924,20.972,22.008,19.053,23.886,33.264,4.936,12.936,19.376,10.843,12.117,13.272,12.488,16.48,20.584,29.072,10.409,12.425,16.268,24.983,32.508,12.424,14.88,18.272,27.12,11.375,13.811,16.954,25.935]  # Values from 1 to 60 (inclusive)\n",
        "fuel_2_range=[]\n",
        "for i in fuel_1_range:\n",
        "  fuel_2_range.append(i*0.2)\n",
        " # Values from 1 to 40 (inclusive)\n",
        "calorific_value1 = 35800\n",
        "brake_power = 5.2\n",
        "density1 = 958\n",
        "density2=713\n",
        "calorific_value2=39000\n",
        "# Assuming you have the formulas defined as functions, for example:\n",
        "def predict_efficiency(fuel_amount_1, fuel_amount_2, calorific_value1,calorific_value2, brake_power, density1,density2):\n",
        "    # Your formula to calculate efficiency based on the given inputs\n",
        "    mass_of_fuel1 = ((fuel_amount_1  * 0.000001) / 60) * density1\n",
        "    mass_of_fuel2=((fuel_amount_2  * 0.000001) / 60) * density2\n",
        "    heat_input = mass_of_fuel1 * calorific_value1 + mass_of_fuel2 * calorific_value2\n",
        "    efficiency = brake_power / heat_input\n",
        "    return heat_input\n",
        "    # Limit efficiency to a maximum value of 32\n",
        "    efficiency = min(efficiency, 32)\n",
        "\n",
        "    return efficiency\n",
        "\n",
        "# List to store combinations that meet the efficiency criteria\n",
        "efficient_combinations = []\n",
        "\n",
        "# Loop through all combinations of fuel_1 and fuel_2\n",
        "for fuel_amount_1 in fuel_1_range:\n",
        "      # Use the formula-based prediction function to get efficiency\n",
        "      predicted_efficiency = predict_efficiency(fuel_amount_1, fuel_amount_1*0.2, calorific_value1,calorific_value2 ,brake_power,density1,density2)\n",
        "      \"\"\"if 31 <= predicted_efficiency <= 35:\"\"\"\n",
        "      efficient_combinations.append((fuel_amount_1, fuel_amount_1*0.2, predicted_efficiency))\n",
        "\n",
        "# Print the combinations that meet the efficiency criteria\n",
        "if efficient_combinations:\n",
        "    for fuel_amount_1, fuel_amount_2, predicted_efficiency in efficient_combinations:\n",
        "        eff=(brake_power/predicted_efficiency)*100\n",
        "        if eff>=31 and eff<=35:\n",
        "          print(f\"For Fuel 1 amount = {fuel_amount_1}, Fuel 2 amount = {fuel_amount_2}, \"\n",
        "                f\"Brake power = {brake_power}, \"\n",
        "                f\"Heat Input = {predicted_efficiency}, \",f\"Efficiency={eff}\")\n",
        "\n",
        "else:\n",
        "    print(\"No combinations meet the efficiency criteria.\")"
      ],
      "metadata": {
        "colab": {
          "base_uri": "https://localhost:8080/"
        },
        "id": "XdvanqdQoURG",
        "outputId": "ea849d39-2475-4de8-c6b9-e5842e8dee99"
      },
      "execution_count": null,
      "outputs": [
        {
          "output_type": "stream",
          "name": "stdout",
          "text": [
            "For Fuel 1 amount = 22.4, Fuel 2 amount = 4.4799999999999995, Brake power = 5.2, Heat Input = 14.880245333333335,  Efficiency=34.9456603941297\n",
            "For Fuel 1 amount = 23.429, Fuel 2 amount = 4.6857999999999995, Brake power = 5.2, Heat Input = 15.563806603333333,  Efficiency=33.41084949543324\n",
            "For Fuel 1 amount = 24.288, Fuel 2 amount = 4.857600000000001, Brake power = 5.2, Heat Input = 16.13443744,  Efficiency=32.22919930947404\n",
            "For Fuel 1 amount = 22.616, Fuel 2 amount = 4.5232, Brake power = 5.2, Heat Input = 15.023733413333332,  Efficiency=34.611902760369006\n",
            "For Fuel 1 amount = 23.886, Fuel 2 amount = 4.7772, Brake power = 5.2, Heat Input = 15.867390179999997,  Efficiency=32.771614871828916\n",
            "For Fuel 1 amount = 24.983, Fuel 2 amount = 4.996600000000001, Brake power = 5.2, Heat Input = 16.596123623333334,  Efficiency=31.332617893307663\n"
          ]
        }
      ]
    },
    {
      "cell_type": "markdown",
      "source": [
        "DEE 30"
      ],
      "metadata": {
        "id": "K7V_jj7goUi6"
      }
    },
    {
      "cell_type": "code",
      "source": [
        "#DEE 30\n",
        "fuel_1_range = [16.46,20.11,28.18,18.05,20.49,27.43,41.24,12.81,19.13,8.91,8.37,26.28,33.83,17.658,22.041,27.756,26.955,15.264,18.224,22.4,16.912,18.648,23.429,9.324,11.994,14.682,17.604,21.522,6.909,17.094,20.86,28.042,35.945,13.992,15.432,19.744,24.288,17.776,10.346,12.936,17.85,25.298,30.807,18.891,20.421,12.504,14.92,19.432,22.616,20.848,10.143,12.621,15.365,20.958,10.528,13.944,11.277,12.978,17.031,25.935,11.416,13.968,16.656,9.555,11.963,14.924,20.972,22.008,19.053,23.886,33.264,4.936,12.936,19.376,10.843,12.117,13.272,12.488,16.48,20.584,29.072,10.409,12.425,16.268,24.983,32.508,12.424,14.88,18.272,27.12,11.375,13.811,16.954,25.935]  # Values from 1 to 60 (inclusive)\n",
        "fuel_2_range=[]\n",
        "for i in fuel_1_range:\n",
        "  fuel_2_range.append(i*0.3)\n",
        " # Values from 1 to 40 (inclusive)\n",
        "calorific_value1 = 35800\n",
        "brake_power = 5.2\n",
        "density1 = 958\n",
        "density2=713\n",
        "calorific_value2=39000\n",
        "# Assuming you have the formulas defined as functions, for example:\n",
        "def predict_efficiency(fuel_amount_1, fuel_amount_2, calorific_value1,calorific_value2, brake_power, density1,density2):\n",
        "    # Your formula to calculate efficiency based on the given inputs\n",
        "    mass_of_fuel1 = ((fuel_amount_1  * 0.000001) / 60) * density1\n",
        "    mass_of_fuel2=((fuel_amount_2  * 0.000001) / 60) * density2\n",
        "    heat_input = mass_of_fuel1 * calorific_value1 + mass_of_fuel2 * calorific_value2\n",
        "    efficiency = brake_power / heat_input\n",
        "    return heat_input\n",
        "    # Limit efficiency to a maximum value of 32\n",
        "    efficiency = min(efficiency, 32)\n",
        "\n",
        "    return efficiency\n",
        "\n",
        "# List to store combinations that meet the efficiency criteria\n",
        "efficient_combinations = []\n",
        "\n",
        "# Loop through all combinations of fuel_1 and fuel_2\n",
        "for fuel_amount_1 in fuel_1_range:\n",
        "      # Use the formula-based prediction function to get efficiency\n",
        "      predicted_efficiency = predict_efficiency(fuel_amount_1, fuel_amount_1*0.3, calorific_value1,calorific_value2 ,brake_power,density1,density2)\n",
        "      \"\"\"if 31 <= predicted_efficiency <= 35:\"\"\"\n",
        "      efficient_combinations.append((fuel_amount_1, fuel_amount_1*0.3, predicted_efficiency))\n",
        "\n",
        "# Print the combinations that meet the efficiency criteria\n",
        "if efficient_combinations:\n",
        "    for fuel_amount_1, fuel_amount_2, predicted_efficiency in efficient_combinations:\n",
        "        eff=(brake_power/predicted_efficiency)*100\n",
        "        if eff>=31 and eff<=35:\n",
        "          print(f\"For Fuel 1 amount = {fuel_amount_1}, Fuel 2 amount = {fuel_amount_2}, \"\n",
        "                f\"Brake power = {brake_power}, \"\n",
        "                f\"Heat Input = {predicted_efficiency}, \",f\"Efficiency={eff}\")\n",
        "\n",
        "else:\n",
        "    print(\"No combinations meet the efficiency criteria.\")"
      ],
      "metadata": {
        "colab": {
          "base_uri": "https://localhost:8080/"
        },
        "id": "BtJFB0KxoVbf",
        "outputId": "5f6d30f6-58b8-4c6b-81c4-56c6fd17d191"
      },
      "execution_count": null,
      "outputs": [
        {
          "output_type": "stream",
          "name": "stdout",
          "text": [
            "For Fuel 1 amount = 22.041, Fuel 2 amount = 6.6123, Brake power = 5.2, Heat Input = 15.663252975,  Efficiency=33.19872320455835\n",
            "For Fuel 1 amount = 22.4, Fuel 2 amount = 6.72, Brake power = 5.2, Heat Input = 15.918373333333333,  Efficiency=32.666654381771004\n",
            "For Fuel 1 amount = 23.429, Fuel 2 amount = 7.0287, Brake power = 5.2, Heat Input = 16.649623608333332,  Efficiency=31.23193726371892\n",
            "For Fuel 1 amount = 21.522, Fuel 2 amount = 6.456599999999999, Brake power = 5.2, Heat Input = 15.294429949999998,  Efficiency=33.99930574071511\n",
            "For Fuel 1 amount = 22.616, Fuel 2 amount = 6.7848, Brake power = 5.2, Heat Input = 16.07187193333333,  Efficiency=32.354662988666014\n",
            "For Fuel 1 amount = 20.958, Fuel 2 amount = 6.287399999999999, Brake power = 5.2, Heat Input = 14.89362805,  Efficiency=34.91425986027629\n",
            "For Fuel 1 amount = 20.972, Fuel 2 amount = 6.2916, Brake power = 5.2, Heat Input = 14.903577033333335,  Efficiency=34.89095261070334\n",
            "For Fuel 1 amount = 22.008, Fuel 2 amount = 6.602399999999999, Brake power = 5.2, Heat Input = 15.639801799999997,  Efficiency=33.24850318755319\n"
          ]
        }
      ]
    },
    {
      "cell_type": "markdown",
      "source": [
        "DEE 40"
      ],
      "metadata": {
        "id": "HEg_8ysioVtc"
      }
    },
    {
      "cell_type": "code",
      "source": [
        "#DEE 40\n",
        "fuel_1_range = [16.46,20.11,28.18,18.05,20.49,27.43,41.24,12.81,19.13,8.91,8.37,26.28,33.83,17.658,22.041,27.756,26.955,15.264,18.224,22.4,16.912,18.648,23.429,9.324,11.994,14.682,17.604,21.522,6.909,17.094,20.86,28.042,35.945,13.992,15.432,19.744,24.288,17.776,10.346,12.936,17.85,25.298,30.807,18.891,20.421,12.504,14.92,19.432,22.616,20.848,10.143,12.621,15.365,20.958,10.528,13.944,11.277,12.978,17.031,25.935,11.416,13.968,16.656,9.555,11.963,14.924,20.972,22.008,19.053,23.886,33.264,4.936,12.936,19.376,10.843,12.117,13.272,12.488,16.48,20.584,29.072,10.409,12.425,16.268,24.983,32.508,12.424,14.88,18.272,27.12,11.375,13.811,16.954,25.935]  # Values from 1 to 60 (inclusive)\n",
        "fuel_2_range=[]\n",
        "for i in fuel_1_range:\n",
        "  fuel_2_range.append(i*0.4)\n",
        " # Values from 1 to 40 (inclusive)\n",
        "calorific_value1 = 35800\n",
        "brake_power = 5.2\n",
        "density1 = 958\n",
        "density2=713\n",
        "calorific_value2=39000\n",
        "# Assuming you have the formulas defined as functions, for example:\n",
        "def predict_efficiency(fuel_amount_1, fuel_amount_2, calorific_value1,calorific_value2, brake_power, density1,density2):\n",
        "    # Your formula to calculate efficiency based on the given inputs\n",
        "    mass_of_fuel1 = ((fuel_amount_1  * 0.000001) / 60) * density1\n",
        "    mass_of_fuel2=((fuel_amount_2  * 0.000001) / 60) * density2\n",
        "    heat_input = mass_of_fuel1 * calorific_value1 + mass_of_fuel2 * calorific_value2\n",
        "    efficiency = brake_power / heat_input\n",
        "    return heat_input\n",
        "    # Limit efficiency to a maximum value of 32\n",
        "    efficiency = min(efficiency, 32)\n",
        "\n",
        "    return efficiency\n",
        "\n",
        "# List to store combinations that meet the efficiency criteria\n",
        "efficient_combinations = []\n",
        "\n",
        "# Loop through all combinations of fuel_1 and fuel_2\n",
        "for fuel_amount_1 in fuel_1_range:\n",
        "      # Use the formula-based prediction function to get efficiency\n",
        "      predicted_efficiency = predict_efficiency(fuel_amount_1, fuel_amount_1*0.4, calorific_value1,calorific_value2 ,brake_power,density1,density2)\n",
        "      \"\"\"if 31 <= predicted_efficiency <= 35:\"\"\"\n",
        "      efficient_combinations.append((fuel_amount_1, fuel_amount_1*0.4, predicted_efficiency))\n",
        "\n",
        "# Print the combinations that meet the efficiency criteria\n",
        "if efficient_combinations:\n",
        "    for fuel_amount_1, fuel_amount_2, predicted_efficiency in efficient_combinations:\n",
        "        eff=(brake_power/predicted_efficiency)*100\n",
        "        if eff>=31 and eff<=35:\n",
        "          print(f\"For Fuel 1 amount = {fuel_amount_1}, Fuel 2 amount = {fuel_amount_2}, \"\n",
        "                f\"Brake power = {brake_power}, \"\n",
        "                f\"Heat Input = {predicted_efficiency}, \",f\"Efficiency={eff}\")\n",
        "\n",
        "else:\n",
        "    print(\"No combinations meet the efficiency criteria.\")"
      ],
      "metadata": {
        "colab": {
          "base_uri": "https://localhost:8080/"
        },
        "id": "WOK7Crj-oWnK",
        "outputId": "1a22df39-fc47-4dfa-d016-347bc4424c7b"
      },
      "execution_count": null,
      "outputs": [
        {
          "output_type": "stream",
          "name": "stdout",
          "text": [
            "For Fuel 1 amount = 20.11, Fuel 2 amount = 8.044, Brake power = 5.2, Heat Input = 15.223001866666666,  Efficiency=34.15883441088107\n",
            "For Fuel 1 amount = 20.49, Fuel 2 amount = 8.196, Brake power = 5.2, Heat Input = 15.510656799999998,  Efficiency=33.52533723781446\n",
            "For Fuel 1 amount = 22.041, Fuel 2 amount = 8.8164, Brake power = 5.2, Heat Input = 16.68474312,  Efficiency=31.166197541074283\n",
            "For Fuel 1 amount = 21.522, Fuel 2 amount = 8.6088, Brake power = 5.2, Heat Input = 16.291867039999996,  Efficiency=31.917766007007636\n",
            "For Fuel 1 amount = 20.86, Fuel 2 amount = 8.344, Brake power = 5.2, Heat Input = 15.790741866666668,  Efficiency=32.93068839898457\n",
            "For Fuel 1 amount = 19.744, Fuel 2 amount = 7.897600000000001, Brake power = 5.2, Heat Input = 14.945944746666665,  Efficiency=34.79204619139071\n",
            "For Fuel 1 amount = 20.421, Fuel 2 amount = 8.1684, Brake power = 5.2, Heat Input = 15.45842472,  Efficiency=33.638615151207986\n",
            "For Fuel 1 amount = 20.848, Fuel 2 amount = 8.3392, Brake power = 5.2, Heat Input = 15.781658026666664,  Efficiency=32.94964313137079\n",
            "For Fuel 1 amount = 20.958, Fuel 2 amount = 8.3832, Brake power = 5.2, Heat Input = 15.86492656,  Efficiency=32.77670388409286\n",
            "For Fuel 1 amount = 20.972, Fuel 2 amount = 8.388800000000002, Brake power = 5.2, Heat Input = 15.875524373333336,  Efficiency=32.7548235744239\n",
            "For Fuel 1 amount = 22.008, Fuel 2 amount = 8.8032, Brake power = 5.2, Heat Input = 16.659762559999997,  Efficiency=31.212929843821264\n",
            "For Fuel 1 amount = 20.584, Fuel 2 amount = 8.233600000000001, Brake power = 5.2, Heat Input = 15.581813546666666,  Efficiency=33.372238632084056\n"
          ]
        }
      ]
    },
    {
      "cell_type": "markdown",
      "source": [
        "DIESEL 10"
      ],
      "metadata": {
        "id": "QgdunhcUo0du"
      }
    },
    {
      "cell_type": "code",
      "source": [
        "#DIESEL 10\n",
        "fuel_1_range = [16.46,20.11,28.18,18.05,20.49,27.43,41.24,12.81,19.13,8.91,8.37,26.28,33.83,17.658,22.041,27.756,26.955,15.264,18.224,22.4,16.912,18.648,23.429,9.324,11.994,14.682,17.604,21.522,6.909,17.094,20.86,28.042,35.945,13.992,15.432,19.744,24.288,17.776,10.346,12.936,17.85,25.298,30.807,18.891,20.421,12.504,14.92,19.432,22.616,20.848,10.143,12.621,15.365,20.958,10.528,13.944,11.277,12.978,17.031,25.935,11.416,13.968,16.656,9.555,11.963,14.924,20.972,22.008,19.053,23.886,33.264,4.936,12.936,19.376,10.843,12.117,13.272,12.488,16.48,20.584,29.072,10.409,12.425,16.268,24.983,32.508,12.424,14.88,18.272,27.12,11.375,13.811,16.954,25.935]  # Values from 1 to 60 (inclusive)\n",
        "fuel_2_range=[]\n",
        "for i in fuel_1_range:\n",
        "  fuel_2_range.append(i*0.1)\n",
        " # Values from 1 to 40 (inclusive)\n",
        "calorific_value1 = 35800\n",
        "brake_power = 5.2\n",
        "density1 = 958\n",
        "density2=840\n",
        "calorific_value2=42500\n",
        "# Assuming you have the formulas defined as functions, for example:\n",
        "def predict_efficiency(fuel_amount_1, fuel_amount_2, calorific_value1,calorific_value2, brake_power, density1,density2):\n",
        "    # Your formula to calculate efficiency based on the given inputs\n",
        "    mass_of_fuel1 = ((fuel_amount_1  * 0.000001) / 60) * density1\n",
        "    mass_of_fuel2=((fuel_amount_2  * 0.000001) / 60) * density2\n",
        "    heat_input = mass_of_fuel1 * calorific_value1 + mass_of_fuel2 * calorific_value2\n",
        "    efficiency = brake_power / heat_input\n",
        "    return heat_input\n",
        "    # Limit efficiency to a maximum value of 32\n",
        "    efficiency = min(efficiency, 32)\n",
        "\n",
        "    return efficiency\n",
        "\n",
        "# List to store combinations that meet the efficiency criteria\n",
        "efficient_combinations = []\n",
        "\n",
        "# Loop through all combinations of fuel_1 and fuel_2\n",
        "for fuel_amount_1 in fuel_1_range:\n",
        "      # Use the formula-based prediction function to get efficiency\n",
        "      predicted_efficiency = predict_efficiency(fuel_amount_1, fuel_amount_1*0.1, calorific_value1,calorific_value2 ,brake_power,density1,density2)\n",
        "      \"\"\"if 31 <= predicted_efficiency <= 35:\"\"\"\n",
        "      efficient_combinations.append((fuel_amount_1, fuel_amount_1*0.1, predicted_efficiency))\n",
        "\n",
        "# Print the combinations that meet the efficiency criteria\n",
        "if efficient_combinations:\n",
        "    for fuel_amount_1, fuel_amount_2, predicted_efficiency in efficient_combinations:\n",
        "        eff=(brake_power/predicted_efficiency)*100\n",
        "        if eff>=31 and eff<=35:\n",
        "          print(f\"For Fuel 1 amount = {fuel_amount_1}, Fuel 2 amount = {fuel_amount_2}, \"\n",
        "                f\"Brake power = {brake_power}, \"\n",
        "                f\"Heat Input = {predicted_efficiency}, \",f\"Efficiency={eff}\")\n",
        "\n",
        "else:\n",
        "    print(\"No combinations meet the efficiency criteria.\")"
      ],
      "metadata": {
        "colab": {
          "base_uri": "https://localhost:8080/"
        },
        "id": "1iUUyuHLo81B",
        "outputId": "a1ae7904-3933-4cd1-8ec0-b86a725ffb16"
      },
      "execution_count": null,
      "outputs": [
        {
          "output_type": "stream",
          "name": "stdout",
          "text": [
            "For Fuel 1 amount = 26.28, Fuel 2 amount = 2.628, Brake power = 5.2, Heat Input = 16.5854832,  Efficiency=31.352719346759827\n",
            "For Fuel 1 amount = 24.288, Fuel 2 amount = 2.4288000000000003, Brake power = 5.2, Heat Input = 15.328318719999999,  Efficiency=33.92413802836167\n",
            "For Fuel 1 amount = 25.298, Fuel 2 amount = 2.5298, Brake power = 5.2, Heat Input = 15.96573645333333,  Efficiency=32.5697471907996\n",
            "For Fuel 1 amount = 25.935, Fuel 2 amount = 2.5935, Brake power = 5.2, Heat Input = 16.3677514,  Efficiency=31.76978848786768\n",
            "For Fuel 1 amount = 23.886, Fuel 2 amount = 2.3886, Brake power = 5.2, Heat Input = 15.074613839999998,  Efficiency=34.49507931143131\n",
            "For Fuel 1 amount = 24.983, Fuel 2 amount = 2.4983000000000004, Brake power = 5.2, Heat Input = 15.766937853333333,  Efficiency=32.98040525288589\n",
            "For Fuel 1 amount = 25.935, Fuel 2 amount = 2.5935, Brake power = 5.2, Heat Input = 16.3677514,  Efficiency=31.76978848786768\n"
          ]
        }
      ]
    },
    {
      "cell_type": "markdown",
      "source": [
        "DIESEL 20"
      ],
      "metadata": {
        "id": "GoRr9AHKo0rN"
      }
    },
    {
      "cell_type": "code",
      "source": [
        "#DIESEL 20\n",
        "fuel_1_range = [16.46,20.11,28.18,18.05,20.49,27.43,41.24,12.81,19.13,8.91,8.37,26.28,33.83,17.658,22.041,27.756,26.955,15.264,18.224,22.4,16.912,18.648,23.429,9.324,11.994,14.682,17.604,21.522,6.909,17.094,20.86,28.042,35.945,13.992,15.432,19.744,24.288,17.776,10.346,12.936,17.85,25.298,30.807,18.891,20.421,12.504,14.92,19.432,22.616,20.848,10.143,12.621,15.365,20.958,10.528,13.944,11.277,12.978,17.031,25.935,11.416,13.968,16.656,9.555,11.963,14.924,20.972,22.008,19.053,23.886,33.264,4.936,12.936,19.376,10.843,12.117,13.272,12.488,16.48,20.584,29.072,10.409,12.425,16.268,24.983,32.508,12.424,14.88,18.272,27.12,11.375,13.811,16.954,25.935]  # Values from 1 to 60 (inclusive)\n",
        "fuel_2_range=[]\n",
        "for i in fuel_1_range:\n",
        "  fuel_2_range.append(i*0.2)\n",
        " # Values from 1 to 40 (inclusive)\n",
        "calorific_value1 = 35800\n",
        "brake_power = 5.2\n",
        "density1 = 958\n",
        "density2=840\n",
        "calorific_value2=42500\n",
        "# Assuming you have the formulas defined as functions, for example:\n",
        "def predict_efficiency(fuel_amount_1, fuel_amount_2, calorific_value1,calorific_value2, brake_power, density1,density2):\n",
        "    # Your formula to calculate efficiency based on the given inputs\n",
        "    mass_of_fuel1 = ((fuel_amount_1  * 0.000001) / 60) * density1\n",
        "    mass_of_fuel2=((fuel_amount_2  * 0.000001) / 60) * density2\n",
        "    heat_input = mass_of_fuel1 * calorific_value1 + mass_of_fuel2 * calorific_value2\n",
        "    efficiency = brake_power / heat_input\n",
        "    return heat_input\n",
        "    # Limit efficiency to a maximum value of 32\n",
        "    efficiency = min(efficiency, 32)\n",
        "\n",
        "    return efficiency\n",
        "\n",
        "# List to store combinations that meet the efficiency criteria\n",
        "efficient_combinations = []\n",
        "\n",
        "# Loop through all combinations of fuel_1 and fuel_2\n",
        "for fuel_amount_1 in fuel_1_range:\n",
        "      # Use the formula-based prediction function to get efficiency\n",
        "      predicted_efficiency = predict_efficiency(fuel_amount_1, fuel_amount_1*0.2, calorific_value1,calorific_value2 ,brake_power,density1,density2)\n",
        "      \"\"\"if 31 <= predicted_efficiency <= 35:\"\"\"\n",
        "      efficient_combinations.append((fuel_amount_1, fuel_amount_1*0.2, predicted_efficiency))\n",
        "\n",
        "# Print the combinations that meet the efficiency criteria\n",
        "if efficient_combinations:\n",
        "    for fuel_amount_1, fuel_amount_2, predicted_efficiency in efficient_combinations:\n",
        "        eff=(brake_power/predicted_efficiency)*100\n",
        "        if eff>=31 and eff<=35:\n",
        "          print(f\"For Fuel 1 amount = {fuel_amount_1}, Fuel 2 amount = {fuel_amount_2}, \"\n",
        "                f\"Brake power = {brake_power}, \"\n",
        "                f\"Heat Input = {predicted_efficiency}, \",f\"Efficiency={eff}\")\n",
        "\n",
        "else:\n",
        "    print(\"No combinations meet the efficiency criteria.\")"
      ],
      "metadata": {
        "colab": {
          "base_uri": "https://localhost:8080/"
        },
        "id": "qWB8bzjmpCWp",
        "outputId": "e028a0e0-11aa-4bf9-bdad-74f3d6546ffa"
      },
      "execution_count": null,
      "outputs": [
        {
          "output_type": "stream",
          "name": "stdout",
          "text": [
            "For Fuel 1 amount = 22.041, Fuel 2 amount = 4.4082, Brake power = 5.2, Heat Input = 15.22166154,  Efficiency=34.16184222947846\n",
            "For Fuel 1 amount = 22.4, Fuel 2 amount = 4.4799999999999995, Brake power = 5.2, Heat Input = 15.469589333333333,  Efficiency=33.61433770446137\n",
            "For Fuel 1 amount = 23.429, Fuel 2 amount = 4.6857999999999995, Brake power = 5.2, Heat Input = 16.180223593333334,  Efficiency=32.1379984028313\n",
            "For Fuel 1 amount = 21.522, Fuel 2 amount = 4.3044, Brake power = 5.2, Heat Input = 14.863236679999996,  Efficiency=34.98565024532733\n",
            "For Fuel 1 amount = 24.288, Fuel 2 amount = 4.857600000000001, Brake power = 5.2, Heat Input = 16.77345472,  Efficiency=31.00136547183525\n",
            "For Fuel 1 amount = 22.616, Fuel 2 amount = 4.5232, Brake power = 5.2, Heat Input = 15.618760373333332,  Efficiency=33.29329521488923\n",
            "For Fuel 1 amount = 22.008, Fuel 2 amount = 4.4016, Brake power = 5.2, Heat Input = 15.198871519999997,  Efficiency=34.213066365863995\n",
            "For Fuel 1 amount = 23.886, Fuel 2 amount = 4.7772, Brake power = 5.2, Heat Input = 16.495830839999996,  Efficiency=31.52311666164007\n"
          ]
        }
      ]
    },
    {
      "cell_type": "markdown",
      "source": [
        "DIESEL 30"
      ],
      "metadata": {
        "id": "cta2zbOapCvD"
      }
    },
    {
      "cell_type": "code",
      "source": [
        "#DIESEL 30\n",
        "fuel_1_range = [16.46,20.11,28.18,18.05,20.49,27.43,41.24,12.81,19.13,8.91,8.37,26.28,33.83,17.658,22.041,27.756,26.955,15.264,18.224,22.4,16.912,18.648,23.429,9.324,11.994,14.682,17.604,21.522,6.909,17.094,20.86,28.042,35.945,13.992,15.432,19.744,24.288,17.776,10.346,12.936,17.85,25.298,30.807,18.891,20.421,12.504,14.92,19.432,22.616,20.848,10.143,12.621,15.365,20.958,10.528,13.944,11.277,12.978,17.031,25.935,11.416,13.968,16.656,9.555,11.963,14.924,20.972,22.008,19.053,23.886,33.264,4.936,12.936,19.376,10.843,12.117,13.272,12.488,16.48,20.584,29.072,10.409,12.425,16.268,24.983,32.508,12.424,14.88,18.272,27.12,11.375,13.811,16.954,25.935]  # Values from 1 to 60 (inclusive)\n",
        "fuel_2_range=[]\n",
        "for i in fuel_1_range:\n",
        "  fuel_2_range.append(i*0.3)\n",
        " # Values from 1 to 40 (inclusive)\n",
        "calorific_value1 = 35800\n",
        "brake_power = 5.2\n",
        "density1 = 958\n",
        "density2=840\n",
        "calorific_value2=42500\n",
        "# Assuming you have the formulas defined as functions, for example:\n",
        "def predict_efficiency(fuel_amount_1, fuel_amount_2, calorific_value1,calorific_value2, brake_power, density1,density2):\n",
        "    # Your formula to calculate efficiency based on the given inputs\n",
        "    mass_of_fuel1 = ((fuel_amount_1  * 0.000001) / 60) * density1\n",
        "    mass_of_fuel2=((fuel_amount_2  * 0.000001) / 60) * density2\n",
        "    heat_input = mass_of_fuel1 * calorific_value1 + mass_of_fuel2 * calorific_value2\n",
        "    efficiency = brake_power / heat_input\n",
        "    return heat_input\n",
        "    # Limit efficiency to a maximum value of 32\n",
        "    efficiency = min(efficiency, 32)\n",
        "\n",
        "    return efficiency\n",
        "\n",
        "# List to store combinations that meet the efficiency criteria\n",
        "efficient_combinations = []\n",
        "\n",
        "# Loop through all combinations of fuel_1 and fuel_2\n",
        "for fuel_amount_1 in fuel_1_range:\n",
        "      # Use the formula-based prediction function to get efficiency\n",
        "      predicted_efficiency = predict_efficiency(fuel_amount_1, fuel_amount_1*0.3, calorific_value1,calorific_value2 ,brake_power,density1,density2)\n",
        "      \"\"\"if 31 <= predicted_efficiency <= 35:\"\"\"\n",
        "      efficient_combinations.append((fuel_amount_1, fuel_amount_1*0.3, predicted_efficiency))\n",
        "\n",
        "# Print the combinations that meet the efficiency criteria\n",
        "if efficient_combinations:\n",
        "    for fuel_amount_1, fuel_amount_2, predicted_efficiency in efficient_combinations:\n",
        "        eff=(brake_power/predicted_efficiency)*100\n",
        "        if eff>=31 and eff<=35:\n",
        "          print(f\"For Fuel 1 amount = {fuel_amount_1}, Fuel 2 amount = {fuel_amount_2}, \"\n",
        "                f\"Brake power = {brake_power}, \"\n",
        "                f\"Heat Input = {predicted_efficiency}, \",f\"Efficiency={eff}\")\n",
        "\n",
        "else:\n",
        "    print(\"No combinations meet the efficiency criteria.\")"
      ],
      "metadata": {
        "colab": {
          "base_uri": "https://localhost:8080/"
        },
        "id": "y8oiOL9EpD9W",
        "outputId": "3da8f1ef-1312-4097-d51d-9e3e726eec8b"
      },
      "execution_count": null,
      "outputs": [
        {
          "output_type": "stream",
          "name": "stdout",
          "text": [
            "For Fuel 1 amount = 20.11, Fuel 2 amount = 6.0329999999999995, Brake power = 5.2, Heat Input = 15.084645066666665,  Efficiency=34.47214022616094\n",
            "For Fuel 1 amount = 20.49, Fuel 2 amount = 6.146999999999999, Brake power = 5.2, Heat Input = 15.369685599999997,  Efficiency=33.8328325987358\n",
            "For Fuel 1 amount = 22.041, Fuel 2 amount = 6.6123, Brake power = 5.2, Heat Input = 16.53310104,  Efficiency=31.452054804595814\n",
            "For Fuel 1 amount = 21.522, Fuel 2 amount = 6.456599999999999, Brake power = 5.2, Heat Input = 16.143795679999997,  Efficiency=32.21051667819424\n",
            "For Fuel 1 amount = 20.86, Fuel 2 amount = 6.258, Brake power = 5.2, Heat Input = 15.647225066666667,  Efficiency=33.23272962359042\n",
            "For Fuel 1 amount = 20.421, Fuel 2 amount = 6.1263, Brake power = 5.2, Heat Input = 15.317928239999999,  Efficiency=33.947149500420956\n",
            "For Fuel 1 amount = 20.848, Fuel 2 amount = 6.2543999999999995, Brake power = 5.2, Heat Input = 15.638223786666664,  Efficiency=33.251858209329264\n",
            "For Fuel 1 amount = 20.958, Fuel 2 amount = 6.287399999999999, Brake power = 5.2, Heat Input = 15.72073552,  Efficiency=33.077332758283056\n",
            "For Fuel 1 amount = 20.972, Fuel 2 amount = 6.2916, Brake power = 5.2, Heat Input = 15.731237013333335,  Efficiency=33.055251761782195\n",
            "For Fuel 1 amount = 22.008, Fuel 2 amount = 6.602399999999999, Brake power = 5.2, Heat Input = 16.508347519999997,  Efficiency=31.49921573737261\n",
            "For Fuel 1 amount = 20.584, Fuel 2 amount = 6.175199999999999, Brake power = 5.2, Heat Input = 15.440195626666666,  Efficiency=33.67832976817413\n"
          ]
        }
      ]
    },
    {
      "cell_type": "markdown",
      "source": [
        "DIESEL 40"
      ],
      "metadata": {
        "id": "RWCQfpwGpEeK"
      }
    },
    {
      "cell_type": "code",
      "source": [
        "#DIESEL 40\n",
        "fuel_1_range = [16.46,20.11,28.18,18.05,20.49,27.43,41.24,12.81,19.13,8.91,8.37,26.28,33.83,17.658,22.041,27.756,26.955,15.264,18.224,22.4,16.912,18.648,23.429,9.324,11.994,14.682,17.604,21.522,6.909,17.094,20.86,28.042,35.945,13.992,15.432,19.744,24.288,17.776,10.346,12.936,17.85,25.298,30.807,18.891,20.421,12.504,14.92,19.432,22.616,20.848,10.143,12.621,15.365,20.958,10.528,13.944,11.277,12.978,17.031,25.935,11.416,13.968,16.656,9.555,11.963,14.924,20.972,22.008,19.053,23.886,33.264,4.936,12.936,19.376,10.843,12.117,13.272,12.488,16.48,20.584,29.072,10.409,12.425,16.268,24.983,32.508,12.424,14.88,18.272,27.12,11.375,13.811,16.954,25.935]  # Values from 1 to 60 (inclusive)\n",
        "fuel_2_range=[]\n",
        "for i in fuel_1_range:\n",
        "  fuel_2_range.append(i*0.4)\n",
        " # Values from 1 to 40 (inclusive)\n",
        "calorific_value1 = 35800\n",
        "brake_power = 5.2\n",
        "density1 = 958\n",
        "density2=840\n",
        "calorific_value2=42500\n",
        "# Assuming you have the formulas defined as functions, for example:\n",
        "def predict_efficiency(fuel_amount_1, fuel_amount_2, calorific_value1,calorific_value2, brake_power, density1,density2):\n",
        "    # Your formula to calculate efficiency based on the given inputs\n",
        "    mass_of_fuel1 = ((fuel_amount_1  * 0.000001) / 60) * density1\n",
        "    mass_of_fuel2=((fuel_amount_2  * 0.000001) / 60) * density2\n",
        "    heat_input = mass_of_fuel1 * calorific_value1 + mass_of_fuel2 * calorific_value2\n",
        "    efficiency = brake_power / heat_input\n",
        "    return heat_input\n",
        "    # Limit efficiency to a maximum value of 32\n",
        "    efficiency = min(efficiency, 32)\n",
        "\n",
        "    return efficiency\n",
        "\n",
        "# List to store combinations that meet the efficiency criteria\n",
        "efficient_combinations = []\n",
        "\n",
        "# Loop through all combinations of fuel_1 and fuel_2\n",
        "for fuel_amount_1 in fuel_1_range:\n",
        "      # Use the formula-based prediction function to get efficiency\n",
        "      predicted_efficiency = predict_efficiency(fuel_amount_1, fuel_amount_1*0.4, calorific_value1,calorific_value2 ,brake_power,density1,density2)\n",
        "      \"\"\"if 31 <= predicted_efficiency <= 35:\"\"\"\n",
        "      efficient_combinations.append((fuel_amount_1, fuel_amount_1*0.4, predicted_efficiency))\n",
        "\n",
        "# Print the combinations that meet the efficiency criteria\n",
        "if efficient_combinations:\n",
        "    for fuel_amount_1, fuel_amount_2, predicted_efficiency in efficient_combinations:\n",
        "        eff=(brake_power/predicted_efficiency)*100\n",
        "        if eff>=31 and eff<=35:\n",
        "          print(f\"For Fuel 1 amount = {fuel_amount_1}, Fuel 2 amount = {fuel_amount_2}, \"\n",
        "                f\"Brake power = {brake_power}, \"\n",
        "                f\"Heat Input = {predicted_efficiency}, \",f\"Efficiency={eff}\")\n",
        "\n",
        "else:\n",
        "    print(\"No combinations meet the efficiency criteria.\")"
      ],
      "metadata": {
        "colab": {
          "base_uri": "https://localhost:8080/"
        },
        "id": "iix0bqjwpVC5",
        "outputId": "f9fdc14c-be31-4e56-c2fe-338e7bb386cb"
      },
      "execution_count": null,
      "outputs": [
        {
          "output_type": "stream",
          "name": "stdout",
          "text": [
            "For Fuel 1 amount = 20.11, Fuel 2 amount = 8.044, Brake power = 5.2, Heat Input = 16.281190066666667,  Efficiency=31.938697224880585\n",
            "For Fuel 1 amount = 20.49, Fuel 2 amount = 8.196, Brake power = 5.2, Heat Input = 16.588840599999997,  Efficiency=31.346373899089734\n",
            "For Fuel 1 amount = 19.13, Fuel 2 amount = 7.652, Brake power = 5.2, Heat Input = 15.487775533333334,  Efficiency=33.57486676384467\n",
            "For Fuel 1 amount = 18.648, Fuel 2 amount = 7.4592, Brake power = 5.2, Heat Input = 15.09754512,  Efficiency=34.442685606625304\n",
            "For Fuel 1 amount = 19.744, Fuel 2 amount = 7.897600000000001, Brake power = 5.2, Heat Input = 15.984874026666667,  Efficiency=32.5307537070679\n",
            "For Fuel 1 amount = 18.891, Fuel 2 amount = 7.5564, Brake power = 5.2, Heat Input = 15.294279539999996,  Efficiency=33.99964010334809\n",
            "For Fuel 1 amount = 20.421, Fuel 2 amount = 8.1684, Brake power = 5.2, Heat Input = 16.53297774,  Efficiency=31.45228936841235\n",
            "For Fuel 1 amount = 19.432, Fuel 2 amount = 7.7728, Brake power = 5.2, Heat Input = 15.732276746666665,  Efficiency=33.05306716716492\n",
            "For Fuel 1 amount = 19.053, Fuel 2 amount = 7.621200000000001, Brake power = 5.2, Heat Input = 15.42543582,  Efficiency=33.71055483085858\n",
            "For Fuel 1 amount = 19.376, Fuel 2 amount = 7.750400000000001, Brake power = 5.2, Heat Input = 15.686938773333331,  Efficiency=33.14859626302378\n",
            "For Fuel 1 amount = 20.584, Fuel 2 amount = 8.233600000000001, Brake power = 5.2, Heat Input = 16.664943626666666,  Efficiency=31.203225864377604\n"
          ]
        }
      ]
    },
    {
      "cell_type": "markdown",
      "source": [
        "ETHANOL 10"
      ],
      "metadata": {
        "id": "pE0RwMheMHRP"
      }
    },
    {
      "cell_type": "code",
      "source": [
        "#ETHANOL 10\n",
        "fuel_1_range = [16.46,20.11,28.18,18.05,20.49,27.43,41.24,12.81,19.13,8.91,8.37,26.28,33.83,17.658,22.041,27.756,26.955,15.264,18.224,22.4,16.912,18.648,23.429,9.324,11.994,14.682,17.604,21.522,6.909,17.094,20.86,28.042,35.945,13.992,15.432,19.744,24.288,17.776,10.346,12.936,17.85,25.298,30.807,18.891,20.421,12.504,14.92,19.432,22.616,20.848,10.143,12.621,15.365,20.958,10.528,13.944,11.277,12.978,17.031,25.935,11.416,13.968,16.656,9.555,11.963,14.924,20.972,22.008,19.053,23.886,33.264,4.936,12.936,19.376,10.843,12.117,13.272,12.488,16.48,20.584,29.072,10.409,12.425,16.268,24.983,32.508,12.424,14.88,18.272,27.12,11.375,13.811,16.954,25.935]  # Values from 1 to 60 (inclusive)\n",
        "fuel_2_range=[]\n",
        "for i in fuel_1_range:\n",
        "  fuel_2_range.append(i*0.1)\n",
        " # Values from 1 to 40 (inclusive)\n",
        "calorific_value1 = 35800\n",
        "brake_power = 5.2\n",
        "density1 = 958\n",
        "density2=790\n",
        "calorific_value2=26700\n",
        "# Assuming you have the formulas defined as functions, for example:\n",
        "def predict_efficiency(fuel_amount_1, fuel_amount_2, calorific_value1,calorific_value2, brake_power, density1,density2):\n",
        "    # Your formula to calculate efficiency based on the given inputs\n",
        "    mass_of_fuel1 = ((fuel_amount_1  * 0.000001) / 60) * density1\n",
        "    mass_of_fuel2=((fuel_amount_2  * 0.000001) / 60) * density2\n",
        "    heat_input = mass_of_fuel1 * calorific_value1 + mass_of_fuel2 * calorific_value2\n",
        "    efficiency = brake_power / heat_input\n",
        "    return heat_input\n",
        "    # Limit efficiency to a maximum value of 32\n",
        "    efficiency = min(efficiency, 32)\n",
        "\n",
        "    return efficiency\n",
        "\n",
        "# List to store combinations that meet the efficiency criteria\n",
        "efficient_combinations = []\n",
        "\n",
        "# Loop through all combinations of fuel_1 and fuel_2\n",
        "for fuel_amount_1 in fuel_1_range:\n",
        "      # Use the formula-based prediction function to get efficiency\n",
        "      predicted_efficiency = predict_efficiency(fuel_amount_1, fuel_amount_1*0.1, calorific_value1,calorific_value2 ,brake_power,density1,density2)\n",
        "      \"\"\"if 31 <= predicted_efficiency <= 35:\"\"\"\n",
        "      efficient_combinations.append((fuel_amount_1, fuel_amount_1*0.1, predicted_efficiency))\n",
        "\n",
        "# Print the combinations that meet the efficiency criteria\n",
        "if efficient_combinations:\n",
        "    for fuel_amount_1, fuel_amount_2, predicted_efficiency in efficient_combinations:\n",
        "        eff=(brake_power/predicted_efficiency)*100\n",
        "        if eff>=31 and eff<=35:\n",
        "          print(f\"For Fuel 1 amount = {fuel_amount_1}, Fuel 2 amount = {fuel_amount_2}, \"\n",
        "                f\"Brake power = {brake_power}, \"\n",
        "                f\"Heat Input = {predicted_efficiency}, \",f\"Efficiency={eff}\")\n",
        "\n",
        "else:\n",
        "    print(\"No combinations meet the efficiency criteria.\")"
      ],
      "metadata": {
        "colab": {
          "base_uri": "https://localhost:8080/"
        },
        "id": "OjaSmqzUSZZ3",
        "outputId": "e5324770-8cd7-4412-ff7b-9f86434fb1e3"
      },
      "execution_count": null,
      "outputs": [
        {
          "output_type": "stream",
          "name": "stdout",
          "text": [
            "For Fuel 1 amount = 27.43, Fuel 2 amount = 2.7430000000000003, Brake power = 5.2, Heat Input = 16.64347251666667,  Efficiency=31.243479957639565\n",
            "For Fuel 1 amount = 26.28, Fuel 2 amount = 2.628, Brake power = 5.2, Heat Input = 15.945696599999998,  Efficiency=32.6106794230614\n",
            "For Fuel 1 amount = 26.955, Fuel 2 amount = 2.6955, Brake power = 5.2, Heat Input = 16.355260725,  Efficiency=31.79405139076436\n",
            "For Fuel 1 amount = 25.298, Fuel 2 amount = 2.5298, Brake power = 5.2, Heat Input = 15.349856643333329,  Efficiency=33.876537878016194\n",
            "For Fuel 1 amount = 25.935, Fuel 2 amount = 2.5935, Brake power = 5.2, Heat Input = 15.736363825,  Efficiency=33.044482561714034\n",
            "For Fuel 1 amount = 24.983, Fuel 2 amount = 2.4983000000000004, Brake power = 5.2, Heat Input = 15.158726718333334,  Efficiency=34.30367270696287\n",
            "For Fuel 1 amount = 27.12, Fuel 2 amount = 2.712, Brake power = 5.2, Heat Input = 16.455376400000002,  Efficiency=31.600614131196654\n",
            "For Fuel 1 amount = 25.935, Fuel 2 amount = 2.5935, Brake power = 5.2, Heat Input = 15.736363825,  Efficiency=33.044482561714034\n"
          ]
        }
      ]
    },
    {
      "cell_type": "markdown",
      "source": [
        "ETHANOL 20"
      ],
      "metadata": {
        "id": "pmL9w-I6SZ7u"
      }
    },
    {
      "cell_type": "code",
      "source": [
        "#ETHANOL 20\n",
        "fuel_1_range = [16.46,20.11,28.18,18.05,20.49,27.43,41.24,12.81,19.13,8.91,8.37,26.28,33.83,17.658,22.041,27.756,26.955,15.264,18.224,22.4,16.912,18.648,23.429,9.324,11.994,14.682,17.604,21.522,6.909,17.094,20.86,28.042,35.945,13.992,15.432,19.744,24.288,17.776,10.346,12.936,17.85,25.298,30.807,18.891,20.421,12.504,14.92,19.432,22.616,20.848,10.143,12.621,15.365,20.958,10.528,13.944,11.277,12.978,17.031,25.935,11.416,13.968,16.656,9.555,11.963,14.924,20.972,22.008,19.053,23.886,33.264,4.936,12.936,19.376,10.843,12.117,13.272,12.488,16.48,20.584,29.072,10.409,12.425,16.268,24.983,32.508,12.424,14.88,18.272,27.12,11.375,13.811,16.954,25.935]  # Values from 1 to 60 (inclusive)\n",
        "fuel_2_range=[]\n",
        "for i in fuel_1_range:\n",
        "  fuel_2_range.append(i*0.2)\n",
        " # Values from 1 to 40 (inclusive)\n",
        "calorific_value1 = 35800\n",
        "brake_power = 5.2\n",
        "density1 = 958\n",
        "density2=790\n",
        "calorific_value2=26700\n",
        "# Assuming you have the formulas defined as functions, for example:\n",
        "def predict_efficiency(fuel_amount_1, fuel_amount_2, calorific_value1,calorific_value2, brake_power, density1,density2):\n",
        "    # Your formula to calculate efficiency based on the given inputs\n",
        "    mass_of_fuel1 = ((fuel_amount_1  * 0.000001) / 60) * density1\n",
        "    mass_of_fuel2=((fuel_amount_2  * 0.000001) / 60) * density2\n",
        "    heat_input = mass_of_fuel1 * calorific_value1 + mass_of_fuel2 * calorific_value2\n",
        "    efficiency = brake_power / heat_input\n",
        "    return heat_input\n",
        "    # Limit efficiency to a maximum value of 32\n",
        "    efficiency = min(efficiency, 32)\n",
        "\n",
        "    return efficiency\n",
        "\n",
        "# List to store combinations that meet the efficiency criteria\n",
        "efficient_combinations = []\n",
        "\n",
        "# Loop through all combinations of fuel_1 and fuel_2\n",
        "for fuel_amount_1 in fuel_1_range:\n",
        "      # Use the formula-based prediction function to get efficiency\n",
        "      predicted_efficiency = predict_efficiency(fuel_amount_1, fuel_amount_1*0.2, calorific_value1,calorific_value2 ,brake_power,density1,density2)\n",
        "      \"\"\"if 31 <= predicted_efficiency <= 35:\"\"\"\n",
        "      efficient_combinations.append((fuel_amount_1, fuel_amount_1*0.2, predicted_efficiency))\n",
        "\n",
        "# Print the combinations that meet the efficiency criteria\n",
        "if efficient_combinations:\n",
        "    for fuel_amount_1, fuel_amount_2, predicted_efficiency in efficient_combinations:\n",
        "        eff=(brake_power/predicted_efficiency)*100\n",
        "        if eff>=31 and eff<=35:\n",
        "          print(f\"For Fuel 1 amount = {fuel_amount_1}, Fuel 2 amount = {fuel_amount_2}, \"\n",
        "                f\"Brake power = {brake_power}, \"\n",
        "                f\"Heat Input = {predicted_efficiency}, \",f\"Efficiency={eff}\")\n",
        "\n",
        "else:\n",
        "    print(\"No combinations meet the efficiency criteria.\")"
      ],
      "metadata": {
        "colab": {
          "base_uri": "https://localhost:8080/"
        },
        "id": "lW4VUjkKSbHA",
        "outputId": "7d3fcdb9-15b9-4378-8c31-cf776789280c"
      },
      "execution_count": null,
      "outputs": [
        {
          "output_type": "stream",
          "name": "stdout",
          "text": [
            "For Fuel 1 amount = 23.429, Fuel 2 amount = 4.6857999999999995, Brake power = 5.2, Heat Input = 15.039465583333333,  Efficiency=34.57569666413291\n",
            "For Fuel 1 amount = 24.288, Fuel 2 amount = 4.857600000000001, Brake power = 5.2, Heat Input = 15.590872,  Efficiency=33.35284902601984\n",
            "For Fuel 1 amount = 25.298, Fuel 2 amount = 5.0596, Brake power = 5.2, Heat Input = 16.239207833333328,  Efficiency=32.021266390385414\n",
            "For Fuel 1 amount = 25.935, Fuel 2 amount = 5.187, Brake power = 5.2, Heat Input = 16.64810875,  Efficiency=31.234779145709275\n",
            "For Fuel 1 amount = 23.886, Fuel 2 amount = 4.7772, Brake power = 5.2, Heat Input = 15.332821499999998,  Efficiency=33.914175548185966\n",
            "For Fuel 1 amount = 24.983, Fuel 2 amount = 4.996600000000001, Brake power = 5.2, Heat Input = 16.037004083333333,  Efficiency=32.42500889180523\n",
            "For Fuel 1 amount = 25.935, Fuel 2 amount = 5.187, Brake power = 5.2, Heat Input = 16.64810875,  Efficiency=31.234779145709275\n"
          ]
        }
      ]
    },
    {
      "cell_type": "markdown",
      "source": [
        "ETHANOL 30"
      ],
      "metadata": {
        "id": "Kg_l1EiqSvUw"
      }
    },
    {
      "cell_type": "code",
      "source": [
        "#ETHANOL 30\n",
        "fuel_1_range = [16.46,20.11,28.18,18.05,20.49,27.43,41.24,12.81,19.13,8.91,8.37,26.28,33.83,17.658,22.041,27.756,26.955,15.264,18.224,22.4,16.912,18.648,23.429,9.324,11.994,14.682,17.604,21.522,6.909,17.094,20.86,28.042,35.945,13.992,15.432,19.744,24.288,17.776,10.346,12.936,17.85,25.298,30.807,18.891,20.421,12.504,14.92,19.432,22.616,20.848,10.143,12.621,15.365,20.958,10.528,13.944,11.277,12.978,17.031,25.935,11.416,13.968,16.656,9.555,11.963,14.924,20.972,22.008,19.053,23.886,33.264,4.936,12.936,19.376,10.843,12.117,13.272,12.488,16.48,20.584,29.072,10.409,12.425,16.268,24.983,32.508,12.424,14.88,18.272,27.12,11.375,13.811,16.954,25.935]  # Values from 1 to 60 (inclusive)\n",
        "fuel_2_range=[]\n",
        "for i in fuel_1_range:\n",
        "  fuel_2_range.append(i*0.3)\n",
        " # Values from 1 to 40 (inclusive)\n",
        "calorific_value1 = 35800\n",
        "brake_power = 5.2\n",
        "density1 = 958\n",
        "density2=790\n",
        "calorific_value2=26700\n",
        "# Assuming you have the formulas defined as functions, for example:\n",
        "def predict_efficiency(fuel_amount_1, fuel_amount_2, calorific_value1,calorific_value2, brake_power, density1,density2):\n",
        "    # Your formula to calculate efficiency based on the given inputs\n",
        "    mass_of_fuel1 = ((fuel_amount_1  * 0.000001) / 60) * density1\n",
        "    mass_of_fuel2=((fuel_amount_2  * 0.000001) / 60) * density2\n",
        "    heat_input = mass_of_fuel1 * calorific_value1 + mass_of_fuel2 * calorific_value2\n",
        "    efficiency = brake_power / heat_input\n",
        "    return heat_input\n",
        "    # Limit efficiency to a maximum value of 32\n",
        "    efficiency = min(efficiency, 32)\n",
        "\n",
        "    return efficiency\n",
        "\n",
        "# List to store combinations that meet the efficiency criteria\n",
        "efficient_combinations = []\n",
        "\n",
        "# Loop through all combinations of fuel_1 and fuel_2\n",
        "for fuel_amount_1 in fuel_1_range:\n",
        "      # Use the formula-based prediction function to get efficiency\n",
        "      predicted_efficiency = predict_efficiency(fuel_amount_1, fuel_amount_1*0.3, calorific_value1,calorific_value2 ,brake_power,density1,density2)\n",
        "      \"\"\"if 31 <= predicted_efficiency <= 35:\"\"\"\n",
        "      efficient_combinations.append((fuel_amount_1, fuel_amount_1*0.3, predicted_efficiency))\n",
        "\n",
        "# Print the combinations that meet the efficiency criteria\n",
        "if efficient_combinations:\n",
        "    for fuel_amount_1, fuel_amount_2, predicted_efficiency in efficient_combinations:\n",
        "        eff=(brake_power/predicted_efficiency)*100\n",
        "        if eff>=31 and eff<=35:\n",
        "          print(f\"For Fuel 1 amount = {fuel_amount_1}, Fuel 2 amount = {fuel_amount_2}, \"\n",
        "                f\"Brake power = {brake_power}, \"\n",
        "                f\"Heat Input = {predicted_efficiency}, \",f\"Efficiency={eff}\")\n",
        "\n",
        "else:\n",
        "    print(\"No combinations meet the efficiency criteria.\")"
      ],
      "metadata": {
        "colab": {
          "base_uri": "https://localhost:8080/"
        },
        "id": "fcZF5xcASsKH",
        "outputId": "418a7d3f-3ba3-4040-b11d-22560e367f0f"
      },
      "execution_count": null,
      "outputs": [
        {
          "output_type": "stream",
          "name": "stdout",
          "text": [
            "For Fuel 1 amount = 22.041, Fuel 2 amount = 6.6123, Brake power = 5.2, Heat Input = 14.923336605,  Efficiency=34.84475447841713\n",
            "For Fuel 1 amount = 22.4, Fuel 2 amount = 6.72, Brake power = 5.2, Heat Input = 15.166405333333334,  Efficiency=34.28630506512464\n",
            "For Fuel 1 amount = 23.429, Fuel 2 amount = 7.0287, Brake power = 5.2, Heat Input = 15.863112078333334,  Efficiency=32.78045300519834\n",
            "For Fuel 1 amount = 24.288, Fuel 2 amount = 7.2863999999999995, Brake power = 5.2, Heat Input = 16.44471664,  Efficiency=31.621098215529976\n",
            "For Fuel 1 amount = 22.616, Fuel 2 amount = 6.7848, Brake power = 5.2, Heat Input = 15.312652813333331,  Efficiency=33.95884477621118\n",
            "For Fuel 1 amount = 22.008, Fuel 2 amount = 6.602399999999999, Brake power = 5.2, Heat Input = 14.900993239999996,  Efficiency=34.89700261081389\n",
            "For Fuel 1 amount = 23.886, Fuel 2 amount = 7.1658, Brake power = 5.2, Heat Input = 16.172533829999995,  Efficiency=32.153279471606474\n"
          ]
        }
      ]
    },
    {
      "cell_type": "markdown",
      "source": [
        "ETHANOL 40"
      ],
      "metadata": {
        "id": "XEsZPErHSb58"
      }
    },
    {
      "cell_type": "code",
      "source": [
        "#ETHANOL 40\n",
        "fuel_1_range = [16.46,20.11,28.18,18.05,20.49,27.43,41.24,12.81,19.13,8.91,8.37,26.28,33.83,17.658,22.041,27.756,26.955,15.264,18.224,22.4,16.912,18.648,23.429,9.324,11.994,14.682,17.604,21.522,6.909,17.094,20.86,28.042,35.945,13.992,15.432,19.744,24.288,17.776,10.346,12.936,17.85,25.298,30.807,18.891,20.421,12.504,14.92,19.432,22.616,20.848,10.143,12.621,15.365,20.958,10.528,13.944,11.277,12.978,17.031,25.935,11.416,13.968,16.656,9.555,11.963,14.924,20.972,22.008,19.053,23.886,33.264,4.936,12.936,19.376,10.843,12.117,13.272,12.488,16.48,20.584,29.072,10.409,12.425,16.268,24.983,32.508,12.424,14.88,18.272,27.12,11.375,13.811,16.954,25.935]  # Values from 1 to 60 (inclusive)\n",
        "fuel_2_range=[]\n",
        "for i in fuel_1_range:\n",
        "  fuel_2_range.append(i*0.4)\n",
        " # Values from 1 to 40 (inclusive)\n",
        "calorific_value1 = 35800\n",
        "brake_power = 5.2\n",
        "density1 = 958\n",
        "density2=790\n",
        "calorific_value2=26700\n",
        "# Assuming you have the formulas defined as functions, for example:\n",
        "def predict_efficiency(fuel_amount_1, fuel_amount_2, calorific_value1,calorific_value2, brake_power, density1,density2):\n",
        "    # Your formula to calculate efficiency based on the given inputs\n",
        "    mass_of_fuel1 = ((fuel_amount_1  * 0.000001) / 60) * density1\n",
        "    mass_of_fuel2=((fuel_amount_2  * 0.000001) / 60) * density2\n",
        "    heat_input = mass_of_fuel1 * calorific_value1 + mass_of_fuel2 * calorific_value2\n",
        "    efficiency = brake_power / heat_input\n",
        "    return heat_input\n",
        "    # Limit efficiency to a maximum value of 32\n",
        "    efficiency = min(efficiency, 32)\n",
        "\n",
        "    return efficiency\n",
        "\n",
        "# List to store combinations that meet the efficiency criteria\n",
        "efficient_combinations = []\n",
        "\n",
        "# Loop through all combinations of fuel_1 and fuel_2\n",
        "for fuel_amount_1 in fuel_1_range:\n",
        "      # Use the formula-based prediction function to get efficiency\n",
        "      predicted_efficiency = predict_efficiency(fuel_amount_1, fuel_amount_1*0.4, calorific_value1,calorific_value2 ,brake_power,density1,density2)\n",
        "      \"\"\"if 31 <= predicted_efficiency <= 35:\"\"\"\n",
        "      efficient_combinations.append((fuel_amount_1, fuel_amount_1*0.4, predicted_efficiency))\n",
        "\n",
        "# Print the combinations that meet the efficiency criteria\n",
        "if efficient_combinations:\n",
        "    for fuel_amount_1, fuel_amount_2, predicted_efficiency in efficient_combinations:\n",
        "        eff=(brake_power/predicted_efficiency)*100\n",
        "        if eff>=31 and eff<=35:\n",
        "          print(f\"For Fuel 1 amount = {fuel_amount_1}, Fuel 2 amount = {fuel_amount_2}, \"\n",
        "                f\"Brake power = {brake_power}, \"\n",
        "                f\"Heat Input = {predicted_efficiency}, \",f\"Efficiency={eff}\")\n",
        "\n",
        "else:\n",
        "    print(\"No combinations meet the efficiency criteria.\")"
      ],
      "metadata": {
        "colab": {
          "base_uri": "https://localhost:8080/"
        },
        "id": "5A1KNeflS4rQ",
        "outputId": "c62ae0b1-bd0a-4a26-cae0-d70ae1e9c45e"
      },
      "execution_count": null,
      "outputs": [
        {
          "output_type": "stream",
          "name": "stdout",
          "text": [
            "For Fuel 1 amount = 22.041, Fuel 2 amount = 8.8164, Brake power = 5.2, Heat Input = 15.69818796,  Efficiency=33.124842263641746\n",
            "For Fuel 1 amount = 22.4, Fuel 2 amount = 8.959999999999999, Brake power = 5.2, Heat Input = 15.953877333333335,  Efficiency=32.59395751486284\n",
            "For Fuel 1 amount = 23.429, Fuel 2 amount = 9.371599999999999, Brake power = 5.2, Heat Input = 16.686758573333332,  Efficiency=31.162433237992566\n",
            "For Fuel 1 amount = 21.522, Fuel 2 amount = 8.6088, Brake power = 5.2, Heat Input = 15.328542319999997,  Efficiency=33.92364317130973\n",
            "For Fuel 1 amount = 22.616, Fuel 2 amount = 9.0464, Brake power = 5.2, Heat Input = 16.10771829333333,  Efficiency=32.2826604321245\n",
            "For Fuel 1 amount = 20.958, Fuel 2 amount = 8.3832, Brake power = 5.2, Heat Input = 14.92684648,  Efficiency=34.836561138129966\n",
            "For Fuel 1 amount = 20.972, Fuel 2 amount = 8.388800000000002, Brake power = 5.2, Heat Input = 14.936817653333335,  Efficiency=34.81330575686285\n",
            "For Fuel 1 amount = 22.008, Fuel 2 amount = 8.8032, Brake power = 5.2, Heat Input = 15.674684479999996,  Efficiency=33.17451146550926\n"
          ]
        }
      ]
    },
    {
      "cell_type": "code",
      "source": [],
      "metadata": {
        "id": "yt6RYLi-S_A1"
      },
      "execution_count": null,
      "outputs": []
    }
  ]
}