{
  "nbformat": 4,
  "nbformat_minor": 0,
  "metadata": {
    "colab": {
      "provenance": []
    },
    "kernelspec": {
      "name": "python3",
      "display_name": "Python 3"
    },
    "language_info": {
      "name": "python"
    }
  },
  "cells": [
    {
      "cell_type": "markdown",
      "source": [
        "BUTANOL 10"
      ],
      "metadata": {
        "id": "cBxBJfLifnUq"
      }
    },
    {
      "cell_type": "code",
      "execution_count": null,
      "metadata": {
        "colab": {
          "base_uri": "https://localhost:8080/"
        },
        "id": "A-fIO_3gdvBe",
        "outputId": "6f02b5b5-a3e4-4271-a1a9-be1a3ea98c7d"
      },
      "outputs": [
        {
          "output_type": "stream",
          "name": "stdout",
          "text": [
            "For Fuel 1 amount = 28.18, Fuel 2 amount = 2.818, Brake power = 5.2, Heat Input = 17.369586521333332,  Efficiency=29.93738505872525\n",
            "For Fuel 1 amount = 27.43, Fuel 2 amount = 2.7430000000000003, Brake power = 5.2, Heat Input = 16.907301571333335,  Efficiency=30.75594279820917\n",
            "For Fuel 1 amount = 26.28, Fuel 2 amount = 2.628, Brake power = 5.2, Heat Input = 16.198464647999998,  Efficiency=32.101807874995345\n",
            "For Fuel 1 amount = 33.83, Fuel 2 amount = 3.383, Brake power = 5.2, Heat Input = 20.852133144666666,  Efficiency=24.937496628876072\n",
            "For Fuel 1 amount = 27.756, Fuel 2 amount = 2.7756000000000003, Brake power = 5.2, Heat Input = 17.1082414296,  Efficiency=30.39470784532633\n",
            "For Fuel 1 amount = 26.955, Fuel 2 amount = 2.6955, Brake power = 5.2, Heat Input = 16.614521103,  Efficiency=31.29792286977843\n",
            "For Fuel 1 amount = 28.042, Fuel 2 amount = 2.8042000000000002, Brake power = 5.2, Heat Input = 17.284526090533333,  Efficiency=30.08471260804784\n",
            "For Fuel 1 amount = 35.945, Fuel 2 amount = 3.5945, Brake power = 5.2, Heat Input = 22.155776703666668,  Efficiency=23.470176963552024\n",
            "For Fuel 1 amount = 24.288, Fuel 2 amount = 2.4288000000000003, Brake power = 5.2, Heat Input = 14.970635820799998,  Efficiency=34.73466365920939\n",
            "For Fuel 1 amount = 25.298, Fuel 2 amount = 2.5298, Brake power = 5.2, Heat Input = 15.593179553466662,  Efficiency=33.34791331152177\n",
            "For Fuel 1 amount = 30.807, Fuel 2 amount = 3.0807, Brake power = 5.2, Heat Input = 18.988816606199997,  Efficiency=27.38453958369454\n",
            "For Fuel 1 amount = 25.935, Fuel 2 amount = 2.5935, Brake power = 5.2, Heat Input = 15.985813571,  Efficiency=32.52884175650193\n",
            "For Fuel 1 amount = 33.264, Fuel 2 amount = 3.3264000000000005, Brake power = 5.2, Heat Input = 20.503262102399997,  Efficiency=25.36181790989892\n",
            "For Fuel 1 amount = 29.072, Fuel 2 amount = 2.9072, Brake power = 5.2, Heat Input = 17.919397421866663,  Efficiency=29.018832930478734\n",
            "For Fuel 1 amount = 24.983, Fuel 2 amount = 2.4983000000000004, Brake power = 5.2, Heat Input = 15.399019874466667,  Efficiency=33.76838293859335\n",
            "For Fuel 1 amount = 32.508, Fuel 2 amount = 3.2508000000000004, Brake power = 5.2, Heat Input = 20.0372788728,  Efficiency=25.95162762873377\n",
            "For Fuel 1 amount = 27.12, Fuel 2 amount = 2.712, Brake power = 5.2, Heat Input = 16.716223792,  Efficiency=31.107504091256544\n",
            "For Fuel 1 amount = 25.935, Fuel 2 amount = 2.5935, Brake power = 5.2, Heat Input = 15.985813571,  Efficiency=32.52884175650193\n"
          ]
        }
      ],
      "source": [
        "#Butano1 10\n",
        "fuel_1_range = [16.46,20.11,28.18,18.05,20.49,27.43,41.24,12.81,19.13,8.91,8.37,26.28,33.83,17.658,22.041,27.756,26.955,15.264,18.224,22.4,16.912,18.648,23.429,9.324,11.994,14.682,17.604,21.522,6.909,17.094,20.86,28.042,35.945,13.992,15.432,19.744,24.288,17.776,10.346,12.936,17.85,25.298,30.807,18.891,20.421,12.504,14.92,19.432,22.616,20.848,10.143,12.621,15.365,20.958,10.528,13.944,11.277,12.978,17.031,25.935,11.416,13.968,16.656,9.555,11.963,14.924,20.972,22.008,19.053,23.886,33.264,4.936,12.936,19.376,10.843,12.117,13.272,12.488,16.48,20.584,29.072,10.409,12.425,16.268,24.983,32.508,12.424,14.88,18.272,27.12,11.375,13.811,16.954,25.935]  # Values from 1 to 60 (inclusive)\n",
        "fuel_2_range=[]\n",
        "for i in fuel_1_range:\n",
        "  fuel_2_range.append(i*0.1)\n",
        " # Values from 1 to 40 (inclusive)\n",
        "calorific_value1 = 35800\n",
        "brake_power = 5.2\n",
        "density1 = 958\n",
        "density2=811.6\n",
        "calorific_value2=33100\n",
        "# Assuming you have the formulas defined as functions, for example:\n",
        "def predict_efficiency(fuel_amount_1, fuel_amount_2, calorific_value1,calorific_value2, brake_power, density1,density2):\n",
        "    # Your formula to calculate efficiency based on the given inputs\n",
        "    mass_of_fuel1 = ((fuel_amount_1  * 0.000001) / 60) * density1\n",
        "    mass_of_fuel2=((fuel_amount_2  * 0.000001) / 60) * density2\n",
        "    heat_input = mass_of_fuel1 * calorific_value1 + mass_of_fuel2 * calorific_value2\n",
        "    efficiency = brake_power / heat_input\n",
        "    return heat_input\n",
        "    # Limit efficiency to a maximum value of 32\n",
        "    efficiency = min(efficiency, 32)\n",
        "\n",
        "    return efficiency\n",
        "\n",
        "# List to store combinations that meet the efficiency criteria\n",
        "efficient_combinations = []\n",
        "\n",
        "# Loop through all combinations of fuel_1 and fuel_2\n",
        "for fuel_amount_1 in fuel_1_range:\n",
        "      # Use the formula-based prediction function to get efficiency\n",
        "      predicted_efficiency = predict_efficiency(fuel_amount_1, fuel_amount_1*0.1, calorific_value1,calorific_value2 ,brake_power,density1,density2)\n",
        "      \"\"\"if 23 <= predicted_efficiency <= 32:\"\"\"\n",
        "      efficient_combinations.append((fuel_amount_1, fuel_amount_1*0.1, predicted_efficiency))\n",
        "\n",
        "# Print the combinations that meet the efficiency criteria\n",
        "if efficient_combinations:\n",
        "    for fuel_amount_1, fuel_amount_2, predicted_efficiency in efficient_combinations:\n",
        "        eff=(brake_power/predicted_efficiency)*100\n",
        "        if eff>=23 and eff<=35:\n",
        "          print(f\"For Fuel 1 amount = {fuel_amount_1}, Fuel 2 amount = {fuel_amount_2}, \"\n",
        "                f\"Brake power = {brake_power}, \"\n",
        "                f\"Heat Input = {predicted_efficiency}, \",f\"Efficiency={eff}\")\n",
        "\n",
        "else:\n",
        "    print(\"No combinations meet the efficiency criteria.\")"
      ]
    },
    {
      "cell_type": "markdown",
      "source": [
        "DIESEL"
      ],
      "metadata": {
        "id": "eq-T8Curftow"
      }
    },
    {
      "cell_type": "code",
      "source": [
        "#Diesel\n",
        "fuel_1_range = [16.46,20.11,28.18,18.05,20.49,27.43,41.24,12.81,19.13,8.91,8.37,26.28,33.83,17.658,22.041,27.756,26.955,15.264,18.224,22.4,16.912,18.648,23.429,9.324,11.994,14.682,17.604,21.522,6.909,17.094,20.86,28.042,35.945,13.992,15.432,19.744,24.288,17.776,10.346,12.936,17.85,25.298,30.807,18.891,20.421,12.504,14.92,19.432,22.616,20.848,10.143,12.621,15.365,20.958,10.528,13.944,11.277,12.978,17.031,25.935,11.416,13.968,16.656,9.555,11.963,14.924,20.972,22.008,19.053,23.886,33.264,4.936,12.936,19.376,10.843,12.117,13.272,12.488,16.48,20.584,29.072,10.409,12.425,16.268,24.983,32.508,12.424,14.88,18.272,27.12,11.375,13.811,16.954,25.935]  # Values from 1 to 60 (inclusive)\n",
        "fuel_2_range=[]\n",
        "for i in fuel_1_range:\n",
        "  fuel_2_range.append(i*0)\n",
        " # Values from 1 to 40 (inclusive)\n",
        "calorific_value1 = 42500\n",
        "brake_power = 5.2\n",
        "density1 = 840\n",
        "density2=0\n",
        "calorific_value2=0\n",
        "# Assuming you have the formulas defined as functions, for example:\n",
        "def predict_efficiency(fuel_amount_1, fuel_amount_2, calorific_value1,calorific_value2, brake_power, density1,density2):\n",
        "    # Your formula to calculate efficiency based on the given inputs\n",
        "    mass_of_fuel1 = ((fuel_amount_1  * 0.000001) / 60) * density1\n",
        "    mass_of_fuel2=((fuel_amount_2  * 0.000001) / 60) * density2\n",
        "    heat_input = mass_of_fuel1 * calorific_value1 + mass_of_fuel2 * calorific_value2\n",
        "    efficiency = brake_power / heat_input\n",
        "    return heat_input\n",
        "    # Limit efficiency to a maximum value of 32\n",
        "    efficiency = min(efficiency, 32)\n",
        "\n",
        "    return efficiency\n",
        "\n",
        "# List to store combinations that meet the efficiency criteria\n",
        "efficient_combinations = []\n",
        "\n",
        "# Loop through all combinations of fuel_1 and fuel_2\n",
        "for fuel_amount_1 in fuel_1_range:\n",
        "      # Use the formula-based prediction function to get efficiency\n",
        "      predicted_efficiency = predict_efficiency(fuel_amount_1, fuel_amount_1*0, calorific_value1,calorific_value2 ,brake_power,density1,density2)\n",
        "      \"\"\"if 23 <= predicted_efficiency <= 32:\"\"\"\n",
        "      efficient_combinations.append((fuel_amount_1, fuel_amount_1*0, predicted_efficiency))\n",
        "\n",
        "# Print the combinations that meet the efficiency criteria\n",
        "if efficient_combinations:\n",
        "    for fuel_amount_1, fuel_amount_2, predicted_efficiency in efficient_combinations:\n",
        "        eff=(brake_power/predicted_efficiency)*100\n",
        "        if eff>=23 and eff<=35:\n",
        "          print(f\"For Fuel 1 amount = {fuel_amount_1}, Fuel 2 amount = {fuel_amount_2}, \"\n",
        "                f\"Brake power = {brake_power}, \"\n",
        "                f\"Heat Input = {predicted_efficiency}, \",f\"Efficiency={eff}\")\n",
        "\n",
        "else:\n",
        "    print(\"No combinations meet the efficiency criteria.\")"
      ],
      "metadata": {
        "colab": {
          "base_uri": "https://localhost:8080/"
        },
        "id": "ziEZr5Nie-ak",
        "outputId": "3501c028-cadb-4251-f49e-f84e9c762b5a"
      },
      "execution_count": null,
      "outputs": [
        {
          "output_type": "stream",
          "name": "stdout",
          "text": [
            "For Fuel 1 amount = 28.18, Fuel 2 amount = 0.0, Brake power = 5.2, Heat Input = 16.7671,  Efficiency=31.013114969195634\n",
            "For Fuel 1 amount = 27.43, Fuel 2 amount = 0.0, Brake power = 5.2, Heat Input = 16.32085,  Efficiency=31.861085666494088\n",
            "For Fuel 1 amount = 26.28, Fuel 2 amount = 0.0, Brake power = 5.2, Heat Input = 15.6366,  Efficiency=33.255311256922866\n",
            "For Fuel 1 amount = 33.83, Fuel 2 amount = 0.0, Brake power = 5.2, Heat Input = 20.128849999999996,  Efficiency=25.833567243036743\n",
            "For Fuel 1 amount = 27.756, Fuel 2 amount = 0.0, Brake power = 5.2, Heat Input = 16.51482,  Efficiency=31.486870580484684\n",
            "For Fuel 1 amount = 26.955, Fuel 2 amount = 0.0, Brake power = 5.2, Heat Input = 16.038225,  Efficiency=32.422540524278716\n",
            "For Fuel 1 amount = 28.042, Fuel 2 amount = 0.0, Brake power = 5.2, Heat Input = 16.68499,  Efficiency=31.165736389413485\n",
            "For Fuel 1 amount = 35.945, Fuel 2 amount = 0.0, Brake power = 5.2, Heat Input = 21.387275000000002,  Efficiency=24.31352287750543\n",
            "For Fuel 1 amount = 25.298, Fuel 2 amount = 0.0, Brake power = 5.2, Heat Input = 15.052309999999997,  Efficiency=34.54619257775053\n",
            "For Fuel 1 amount = 30.807, Fuel 2 amount = 0.0, Brake power = 5.2, Heat Input = 18.330164999999997,  Efficiency=28.368538962960788\n",
            "For Fuel 1 amount = 25.935, Fuel 2 amount = 0.0, Brake power = 5.2, Heat Input = 15.431325,  Efficiency=33.69768960215666\n",
            "For Fuel 1 amount = 33.264, Fuel 2 amount = 0.0, Brake power = 5.2, Heat Input = 19.79208,  Efficiency=26.273135516832998\n",
            "For Fuel 1 amount = 29.072, Fuel 2 amount = 0.0, Brake power = 5.2, Heat Input = 17.297839999999997,  Efficiency=30.06155681865482\n",
            "For Fuel 1 amount = 24.983, Fuel 2 amount = 0.0, Brake power = 5.2, Heat Input = 14.864885,  Efficiency=34.98177079741956\n",
            "For Fuel 1 amount = 32.508, Fuel 2 amount = 0.0, Brake power = 5.2, Heat Input = 19.34226,  Efficiency=26.88413866838725\n",
            "For Fuel 1 amount = 27.12, Fuel 2 amount = 0.0, Brake power = 5.2, Heat Input = 16.136400000000002,  Efficiency=32.2252794923279\n",
            "For Fuel 1 amount = 25.935, Fuel 2 amount = 0.0, Brake power = 5.2, Heat Input = 15.431325,  Efficiency=33.69768960215666\n"
          ]
        }
      ]
    },
    {
      "cell_type": "markdown",
      "source": [
        "CNSL"
      ],
      "metadata": {
        "id": "1c5nDuOlg3SV"
      }
    },
    {
      "cell_type": "code",
      "source": [
        "#CNSL\n",
        "fuel_1_range = [16.46,20.11,28.18,18.05,20.49,27.43,41.24,12.81,19.13,8.91,8.37,26.28,33.83,17.658,22.041,27.756,26.955,15.264,18.224,22.4,16.912,18.648,23.429,9.324,11.994,14.682,17.604,21.522,6.909,17.094,20.86,28.042,35.945,13.992,15.432,19.744,24.288,17.776,10.346,12.936,17.85,25.298,30.807,18.891,20.421,12.504,14.92,19.432,22.616,20.848,10.143,12.621,15.365,20.958,10.528,13.944,11.277,12.978,17.031,25.935,11.416,13.968,16.656,9.555,11.963,14.924,20.972,22.008,19.053,23.886,33.264,4.936,12.936,19.376,10.843,12.117,13.272,12.488,16.48,20.584,29.072,10.409,12.425,16.268,24.983,32.508,12.424,14.88,18.272,27.12,11.375,13.811,16.954,25.935]  # Values from 1 to 60 (inclusive)\n",
        "fuel_2_range=[]\n",
        "for i in fuel_1_range:\n",
        "  fuel_2_range.append(i*0)\n",
        " # Values from 1 to 40 (inclusive)\n",
        "calorific_value1 = 35800\n",
        "brake_power = 5.2\n",
        "density1 = 958\n",
        "density2=0\n",
        "calorific_value2=0\n",
        "# Assuming you have the formulas defined as functions, for example:\n",
        "def predict_efficiency(fuel_amount_1, fuel_amount_2, calorific_value1,calorific_value2, brake_power, density1,density2):\n",
        "    # Your formula to calculate efficiency based on the given inputs\n",
        "    mass_of_fuel1 = ((fuel_amount_1  * 0.000001) / 60) * density1\n",
        "    mass_of_fuel2=((fuel_amount_2  * 0.000001) / 60) * density2\n",
        "    heat_input = mass_of_fuel1 * calorific_value1 + mass_of_fuel2 * calorific_value2\n",
        "    efficiency = brake_power / heat_input\n",
        "    return heat_input\n",
        "    # Limit efficiency to a maximum value of 32\n",
        "    efficiency = min(efficiency, 32)\n",
        "\n",
        "    return efficiency\n",
        "\n",
        "# List to store combinations that meet the efficiency criteria\n",
        "efficient_combinations = []\n",
        "\n",
        "# Loop through all combinations of fuel_1 and fuel_2\n",
        "for fuel_amount_1 in fuel_1_range:\n",
        "      # Use the formula-based prediction function to get efficiency\n",
        "      predicted_efficiency = predict_efficiency(fuel_amount_1, fuel_amount_1*0, calorific_value1,calorific_value2 ,brake_power,density1,density2)\n",
        "      \"\"\"if 23 <= predicted_efficiency <= 32:\"\"\"\n",
        "      efficient_combinations.append((fuel_amount_1, fuel_amount_1*0, predicted_efficiency))\n",
        "\n",
        "# Print the combinations that meet the efficiency criteria\n",
        "if efficient_combinations:\n",
        "    for fuel_amount_1, fuel_amount_2, predicted_efficiency in efficient_combinations:\n",
        "        eff=(brake_power/predicted_efficiency)*100\n",
        "        if eff>=23 and eff<=35:\n",
        "          print(f\"For Fuel 1 amount = {fuel_amount_1}, Fuel 2 amount = {fuel_amount_2}, \"\n",
        "                f\"Brake power = {brake_power}, \"\n",
        "                f\"Heat Input = {predicted_efficiency}, \",f\"Efficiency={eff}\")\n",
        "\n",
        "else:\n",
        "    print(\"No combinations meet the efficiency criteria.\")"
      ],
      "metadata": {
        "colab": {
          "base_uri": "https://localhost:8080/"
        },
        "id": "hVzGNfbXfVoW",
        "outputId": "0c1f7c7a-401e-4cc5-d5e8-d6fa9bc76ad7"
      },
      "execution_count": null,
      "outputs": [
        {
          "output_type": "stream",
          "name": "stdout",
          "text": [
            "For Fuel 1 amount = 28.18, Fuel 2 amount = 0.0, Brake power = 5.2, Heat Input = 16.107875866666664,  Efficiency=32.28234463093165\n",
            "For Fuel 1 amount = 27.43, Fuel 2 amount = 0.0, Brake power = 5.2, Heat Input = 15.679170866666668,  Efficiency=33.16501901930928\n",
            "For Fuel 1 amount = 26.28, Fuel 2 amount = 0.0, Brake power = 5.2, Heat Input = 15.021823199999998,  Efficiency=34.61630409816034\n",
            "For Fuel 1 amount = 33.83, Fuel 2 amount = 0.0, Brake power = 5.2, Heat Input = 19.33745353333333,  Efficiency=26.890820919292157\n",
            "For Fuel 1 amount = 27.756, Fuel 2 amount = 0.0, Brake power = 5.2, Heat Input = 15.865514639999999,  Efficiency=32.77548896453573\n",
            "For Fuel 1 amount = 26.955, Fuel 2 amount = 0.0, Brake power = 5.2, Heat Input = 15.4076577,  Efficiency=33.749451741779026\n",
            "For Fuel 1 amount = 28.042, Fuel 2 amount = 0.0, Brake power = 5.2, Heat Input = 16.028994146666665,  Efficiency=32.44121217101682\n",
            "For Fuel 1 amount = 35.945, Fuel 2 amount = 0.0, Brake power = 5.2, Heat Input = 20.546401633333335,  Efficiency=25.30856785921974\n",
            "For Fuel 1 amount = 30.807, Fuel 2 amount = 0.0, Brake power = 5.2, Heat Input = 17.609486579999995,  Efficiency=29.529537822561558\n",
            "For Fuel 1 amount = 33.264, Fuel 2 amount = 0.0, Brake power = 5.2, Heat Input = 19.01392416,  Efficiency=27.348378778849618\n",
            "For Fuel 1 amount = 29.072, Fuel 2 amount = 0.0, Brake power = 5.2, Heat Input = 16.61774901333333,  Efficiency=31.29184341289398\n",
            "For Fuel 1 amount = 32.508, Fuel 2 amount = 0.0, Brake power = 5.2, Heat Input = 18.58178952,  Efficiency=27.98438758766007\n",
            "For Fuel 1 amount = 27.12, Fuel 2 amount = 0.0, Brake power = 5.2, Heat Input = 15.5019728,  Efficiency=33.54411768804032\n"
          ]
        }
      ]
    },
    {
      "cell_type": "markdown",
      "source": [
        "CNSOME"
      ],
      "metadata": {
        "id": "ZQXEoOrRhyyA"
      }
    },
    {
      "cell_type": "code",
      "source": [
        "#CNSOME\n",
        "fuel_1_range = [16.46,20.11,28.18,18.05,20.49,27.43,41.24,12.81,19.13,8.91,8.37,26.28,33.83,17.658,22.041,27.756,26.955,15.264,18.224,22.4,16.912,18.648,23.429,9.324,11.994,14.682,17.604,21.522,6.909,17.094,20.86,28.042,35.945,13.992,15.432,19.744,24.288,17.776,10.346,12.936,17.85,25.298,30.807,18.891,20.421,12.504,14.92,19.432,22.616,20.848,10.143,12.621,15.365,20.958,10.528,13.944,11.277,12.978,17.031,25.935,11.416,13.968,16.656,9.555,11.963,14.924,20.972,22.008,19.053,23.886,33.264,4.936,12.936,19.376,10.843,12.117,13.272,12.488,16.48,20.584,29.072,10.409,12.425,16.268,24.983,32.508,12.424,14.88,18.272,27.12,11.375,13.811,16.954,25.935]  # Values from 1 to 60 (inclusive)\n",
        "fuel_2_range=[]\n",
        "for i in fuel_1_range:\n",
        "  fuel_2_range.append(i*0)\n",
        " # Values from 1 to 40 (inclusive)\n",
        "calorific_value1 = 38400\n",
        "brake_power = 5.2\n",
        "density1 = 906.4\n",
        "density2=0\n",
        "calorific_value2=0\n",
        "# Assuming you have the formulas defined as functions, for example:\n",
        "def predict_efficiency(fuel_amount_1, fuel_amount_2, calorific_value1,calorific_value2, brake_power, density1,density2):\n",
        "    # Your formula to calculate efficiency based on the given inputs\n",
        "    mass_of_fuel1 = ((fuel_amount_1  * 0.000001) / 60) * density1\n",
        "    mass_of_fuel2=((fuel_amount_2  * 0.000001) / 60) * density2\n",
        "    heat_input = mass_of_fuel1 * calorific_value1 + mass_of_fuel2 * calorific_value2\n",
        "    efficiency = brake_power / heat_input\n",
        "    return heat_input\n",
        "    # Limit efficiency to a maximum value of 32\n",
        "    efficiency = min(efficiency, 32)\n",
        "\n",
        "    return efficiency\n",
        "\n",
        "# List to store combinations that meet the efficiency criteria\n",
        "efficient_combinations = []\n",
        "\n",
        "# Loop through all combinations of fuel_1 and fuel_2\n",
        "for fuel_amount_1 in fuel_1_range:\n",
        "      # Use the formula-based prediction function to get efficiency\n",
        "      predicted_efficiency = predict_efficiency(fuel_amount_1, fuel_amount_1*0, calorific_value1,calorific_value2 ,brake_power,density1,density2)\n",
        "      \"\"\"if 23 <= predicted_efficiency <= 32:\"\"\"\n",
        "      efficient_combinations.append((fuel_amount_1, fuel_amount_1*0, predicted_efficiency))\n",
        "\n",
        "# Print the combinations that meet the efficiency criteria\n",
        "if efficient_combinations:\n",
        "    for fuel_amount_1, fuel_amount_2, predicted_efficiency in efficient_combinations:\n",
        "        eff=(brake_power/predicted_efficiency)*100\n",
        "        if eff>=23 and eff<=35:\n",
        "          print(f\"For Fuel 1 amount = {fuel_amount_1}, Fuel 2 amount = {fuel_amount_2}, \"\n",
        "                f\"Brake power = {brake_power}, \"\n",
        "                f\"Heat Input = {predicted_efficiency}, \",f\"Efficiency={eff}\")\n",
        "\n",
        "else:\n",
        "    print(\"No combinations meet the efficiency criteria.\")"
      ],
      "metadata": {
        "colab": {
          "base_uri": "https://localhost:8080/"
        },
        "id": "yDOqzI8Hh2yn",
        "outputId": "9f9c07e5-b7b4-4276-eb22-a11236a293fd"
      },
      "execution_count": null,
      "outputs": [
        {
          "output_type": "stream",
          "name": "stdout",
          "text": [
            "For Fuel 1 amount = 28.18, Fuel 2 amount = 0.0, Brake power = 5.2, Heat Input = 16.347105279999997,  Efficiency=31.80991319828339\n",
            "For Fuel 1 amount = 27.43, Fuel 2 amount = 0.0, Brake power = 5.2, Heat Input = 15.912033280000001,  Efficiency=32.67967021245446\n",
            "For Fuel 1 amount = 26.28, Fuel 2 amount = 0.0, Brake power = 5.2, Heat Input = 15.244922879999999,  Efficiency=34.10971666391271\n",
            "For Fuel 1 amount = 33.83, Fuel 2 amount = 0.0, Brake power = 5.2, Heat Input = 19.62464768,  Efficiency=26.497290982194084\n",
            "For Fuel 1 amount = 27.756, Fuel 2 amount = 0.0, Brake power = 5.2, Heat Input = 16.101144576,  Efficiency=32.29584068048803\n",
            "For Fuel 1 amount = 26.955, Fuel 2 amount = 0.0, Brake power = 5.2, Heat Input = 15.63648768,  Efficiency=33.25555013643576\n",
            "For Fuel 1 amount = 28.042, Fuel 2 amount = 0.0, Brake power = 5.2, Heat Input = 16.267052032,  Efficiency=31.966455813694665\n",
            "For Fuel 1 amount = 35.945, Fuel 2 amount = 0.0, Brake power = 5.2, Heat Input = 20.85155072,  Efficiency=24.93819318201769\n",
            "For Fuel 1 amount = 30.807, Fuel 2 amount = 0.0, Brake power = 5.2, Heat Input = 17.871017471999995,  Efficiency=29.097391954024282\n",
            "For Fuel 1 amount = 25.935, Fuel 2 amount = 0.0, Brake power = 5.2, Heat Input = 15.044789759999999,  Efficiency=34.56346072595434\n",
            "For Fuel 1 amount = 33.264, Fuel 2 amount = 0.0, Brake power = 5.2, Heat Input = 19.296313343999998,  Efficiency=26.94815277560203\n",
            "For Fuel 1 amount = 29.072, Fuel 2 amount = 0.0, Brake power = 5.2, Heat Input = 16.864550912,  Efficiency=30.833907331027305\n",
            "For Fuel 1 amount = 32.508, Fuel 2 amount = 0.0, Brake power = 5.2, Heat Input = 18.857760768000002,  Efficiency=27.574854002941606\n",
            "For Fuel 1 amount = 27.12, Fuel 2 amount = 0.0, Brake power = 5.2, Heat Input = 15.73220352,  Efficiency=33.053221015030445\n",
            "For Fuel 1 amount = 25.935, Fuel 2 amount = 0.0, Brake power = 5.2, Heat Input = 15.044789759999999,  Efficiency=34.56346072595434\n"
          ]
        }
      ]
    },
    {
      "cell_type": "markdown",
      "source": [
        "Butanol 20"
      ],
      "metadata": {
        "id": "Wf6zSczSiP33"
      }
    },
    {
      "cell_type": "code",
      "source": [
        "#Butano1 20\n",
        "fuel_1_range = [16.46,20.11,28.18,18.05,20.49,27.43,41.24,12.81,19.13,8.91,8.37,26.28,33.83,17.658,22.041,27.756,26.955,15.264,18.224,22.4,16.912,18.648,23.429,9.324,11.994,14.682,17.604,21.522,6.909,17.094,20.86,28.042,35.945,13.992,15.432,19.744,24.288,17.776,10.346,12.936,17.85,25.298,30.807,18.891,20.421,12.504,14.92,19.432,22.616,20.848,10.143,12.621,15.365,20.958,10.528,13.944,11.277,12.978,17.031,25.935,11.416,13.968,16.656,9.555,11.963,14.924,20.972,22.008,19.053,23.886,33.264,4.936,12.936,19.376,10.843,12.117,13.272,12.488,16.48,20.584,29.072,10.409,12.425,16.268,24.983,32.508,12.424,14.88,18.272,27.12,11.375,13.811,16.954,25.935]  # Values from 1 to 60 (inclusive)\n",
        "fuel_2_range=[]\n",
        "for i in fuel_1_range:\n",
        "  fuel_2_range.append(i*0.2)\n",
        " # Values from 1 to 40 (inclusive)\n",
        "calorific_value1 = 35800\n",
        "brake_power = 5.2\n",
        "density1 = 958\n",
        "density2=811.6\n",
        "calorific_value2=33100\n",
        "# Assuming you have the formulas defined as functions, for example:\n",
        "def predict_efficiency(fuel_amount_1, fuel_amount_2, calorific_value1,calorific_value2, brake_power, density1,density2):\n",
        "    # Your formula to calculate efficiency based on the given inputs\n",
        "    mass_of_fuel1 = ((fuel_amount_1  * 0.000001) / 60) * density1\n",
        "    mass_of_fuel2=((fuel_amount_2  * 0.000001) / 60) * density2\n",
        "    heat_input = mass_of_fuel1 * calorific_value1 + mass_of_fuel2 * calorific_value2\n",
        "    efficiency = brake_power / heat_input\n",
        "    return heat_input\n",
        "    # Limit efficiency to a maximum value of 32\n",
        "    efficiency = min(efficiency, 32)\n",
        "\n",
        "    return efficiency\n",
        "\n",
        "# List to store combinations that meet the efficiency criteria\n",
        "efficient_combinations = []\n",
        "\n",
        "# Loop through all combinations of fuel_1 and fuel_2\n",
        "for fuel_amount_1 in fuel_1_range:\n",
        "      # Use the formula-based prediction function to get efficiency\n",
        "      predicted_efficiency = predict_efficiency(fuel_amount_1, fuel_amount_1*0.2, calorific_value1,calorific_value2 ,brake_power,density1,density2)\n",
        "      \"\"\"if 23 <= predicted_efficiency <= 32:\"\"\"\n",
        "      efficient_combinations.append((fuel_amount_1, fuel_amount_1*0.2, predicted_efficiency))\n",
        "\n",
        "# Print the combinations that meet the efficiency criteria\n",
        "if efficient_combinations:\n",
        "    for fuel_amount_1, fuel_amount_2, predicted_efficiency in efficient_combinations:\n",
        "        eff=(brake_power/predicted_efficiency)*100\n",
        "        if eff>=23 and eff<=35:\n",
        "          print(f\"For Fuel 1 amount = {fuel_amount_1}, Fuel 2 amount = {fuel_amount_2}, \"\n",
        "                f\"Brake power = {brake_power}, \"\n",
        "                f\"Heat Input = {predicted_efficiency}, \",f\"Efficiency={eff}\")\n",
        "\n",
        "else:\n",
        "    print(\"No combinations meet the efficiency criteria.\")"
      ],
      "metadata": {
        "colab": {
          "base_uri": "https://localhost:8080/"
        },
        "id": "I0Ay90lWiRvS",
        "outputId": "9e705f97-e21d-4107-e9d9-17c8ca33f653"
      },
      "execution_count": null,
      "outputs": [
        {
          "output_type": "stream",
          "name": "stdout",
          "text": [
            "For Fuel 1 amount = 28.18, Fuel 2 amount = 5.636, Brake power = 5.2, Heat Input = 18.631297175999997,  Efficiency=27.910026612094445\n",
            "For Fuel 1 amount = 27.43, Fuel 2 amount = 5.486000000000001, Brake power = 5.2, Heat Input = 18.135432276000003,  Efficiency=28.673151656172845\n",
            "For Fuel 1 amount = 26.28, Fuel 2 amount = 5.256, Brake power = 5.2, Heat Input = 17.375106096,  Efficiency=29.92787480703278\n",
            "For Fuel 1 amount = 33.83, Fuel 2 amount = 6.766, Brake power = 5.2, Heat Input = 22.366812755999998,  Efficiency=23.248730414685824\n",
            "For Fuel 1 amount = 27.756, Fuel 2 amount = 5.551200000000001, Brake power = 5.2, Heat Input = 18.3509682192,  Efficiency=28.336379518980454\n",
            "For Fuel 1 amount = 26.955, Fuel 2 amount = 5.391, Brake power = 5.2, Heat Input = 17.821384506,  Efficiency=29.17842886027903\n",
            "For Fuel 1 amount = 23.429, Fuel 2 amount = 4.6857999999999995, Brake power = 5.2, Heat Input = 15.4901583228,  Efficiency=33.569702075582455\n",
            "For Fuel 1 amount = 28.042, Fuel 2 amount = 5.6084000000000005, Brake power = 5.2, Heat Input = 18.540058034399998,  Efficiency=28.047377146024587\n",
            "For Fuel 1 amount = 24.288, Fuel 2 amount = 4.857600000000001, Brake power = 5.2, Heat Input = 16.0580889216,  Efficiency=32.38243370919061\n",
            "For Fuel 1 amount = 25.298, Fuel 2 amount = 5.0596, Brake power = 5.2, Heat Input = 16.725853653599998,  Efficiency=31.089594036240868\n",
            "For Fuel 1 amount = 30.807, Fuel 2 amount = 6.1614, Brake power = 5.2, Heat Input = 20.368146632399995,  Efficiency=25.530059724375032\n",
            "For Fuel 1 amount = 22.616, Fuel 2 amount = 4.5232, Brake power = 5.2, Heat Input = 14.952640771199999,  Efficiency=34.77646577329419\n",
            "For Fuel 1 amount = 25.935, Fuel 2 amount = 5.187, Brake power = 5.2, Heat Input = 17.147008242,  Efficiency=30.325989972192847\n",
            "For Fuel 1 amount = 23.886, Fuel 2 amount = 4.7772, Brake power = 5.2, Heat Input = 15.792305335199998,  Efficiency=32.92742819763968\n",
            "For Fuel 1 amount = 33.264, Fuel 2 amount = 6.652800000000001, Brake power = 5.2, Heat Input = 21.9926000448,  Efficiency=23.644316676551867\n",
            "For Fuel 1 amount = 29.072, Fuel 2 amount = 5.8144, Brake power = 5.2, Heat Input = 19.221045830399998,  Efficiency=27.05367879502\n",
            "For Fuel 1 amount = 24.983, Fuel 2 amount = 4.996600000000001, Brake power = 5.2, Heat Input = 16.5175903956,  Efficiency=31.481589477997897\n",
            "For Fuel 1 amount = 32.508, Fuel 2 amount = 6.501600000000001, Brake power = 5.2, Heat Input = 21.492768225600003,  Efficiency=24.194184506239118\n",
            "For Fuel 1 amount = 27.12, Fuel 2 amount = 5.424, Brake power = 5.2, Heat Input = 17.930474784,  Efficiency=29.000905233363618\n",
            "For Fuel 1 amount = 25.935, Fuel 2 amount = 5.187, Brake power = 5.2, Heat Input = 17.147008242,  Efficiency=30.325989972192847\n"
          ]
        }
      ]
    },
    {
      "cell_type": "markdown",
      "source": [
        "Butanol 30"
      ],
      "metadata": {
        "id": "9_g4cYAPibaj"
      }
    },
    {
      "cell_type": "code",
      "source": [
        "#Butano1 30\n",
        "fuel_1_range = [16.46,20.11,28.18,18.05,20.49,27.43,41.24,12.81,19.13,8.91,8.37,26.28,33.83,17.658,22.041,27.756,26.955,15.264,18.224,22.4,16.912,18.648,23.429,9.324,11.994,14.682,17.604,21.522,6.909,17.094,20.86,28.042,35.945,13.992,15.432,19.744,24.288,17.776,10.346,12.936,17.85,25.298,30.807,18.891,20.421,12.504,14.92,19.432,22.616,20.848,10.143,12.621,15.365,20.958,10.528,13.944,11.277,12.978,17.031,25.935,11.416,13.968,16.656,9.555,11.963,14.924,20.972,22.008,19.053,23.886,33.264,4.936,12.936,19.376,10.843,12.117,13.272,12.488,16.48,20.584,29.072,10.409,12.425,16.268,24.983,32.508,12.424,14.88,18.272,27.12,11.375,13.811,16.954,25.935]  # Values from 1 to 60 (inclusive)\n",
        "fuel_2_range=[]\n",
        "for i in fuel_1_range:\n",
        "  fuel_2_range.append(i*0.3)\n",
        " # Values from 1 to 40 (inclusive)\n",
        "calorific_value1 = 35800\n",
        "brake_power = 5.2\n",
        "density1 = 958\n",
        "density2=811.6\n",
        "calorific_value2=33100\n",
        "# Assuming you have the formulas defined as functions, for example:\n",
        "def predict_efficiency(fuel_amount_1, fuel_amount_2, calorific_value1,calorific_value2, brake_power, density1,density2):\n",
        "    # Your formula to calculate efficiency based on the given inputs\n",
        "    mass_of_fuel1 = ((fuel_amount_1  * 0.000001) / 60) * density1\n",
        "    mass_of_fuel2=((fuel_amount_2  * 0.000001) / 60) * density2\n",
        "    heat_input = mass_of_fuel1 * calorific_value1 + mass_of_fuel2 * calorific_value2\n",
        "    efficiency = brake_power / heat_input\n",
        "    return heat_input\n",
        "    # Limit efficiency to a maximum value of 32\n",
        "    efficiency = min(efficiency, 32)\n",
        "\n",
        "    return efficiency\n",
        "\n",
        "# List to store combinations that meet the efficiency criteria\n",
        "efficient_combinations = []\n",
        "\n",
        "# Loop through all combinations of fuel_1 and fuel_2\n",
        "for fuel_amount_1 in fuel_1_range:\n",
        "      # Use the formula-based prediction function to get efficiency\n",
        "      predicted_efficiency = predict_efficiency(fuel_amount_1, fuel_amount_1*0.3, calorific_value1,calorific_value2 ,brake_power,density1,density2)\n",
        "      \"\"\"if 23 <= predicted_efficiency <= 32:\"\"\"\n",
        "      efficient_combinations.append((fuel_amount_1, fuel_amount_1*0.3, predicted_efficiency))\n",
        "\n",
        "# Print the combinations that meet the efficiency criteria\n",
        "if efficient_combinations:\n",
        "    for fuel_amount_1, fuel_amount_2, predicted_efficiency in efficient_combinations:\n",
        "        eff=(brake_power/predicted_efficiency)*100\n",
        "        if eff>=23 and eff<=35:\n",
        "          print(f\"For Fuel 1 amount = {fuel_amount_1}, Fuel 2 amount = {fuel_amount_2}, \"\n",
        "                f\"Brake power = {brake_power}, \"\n",
        "                f\"Heat Input = {predicted_efficiency}, \",f\"Efficiency={eff}\")\n",
        "\n",
        "else:\n",
        "    print(\"No combinations meet the efficiency criteria.\")"
      ],
      "metadata": {
        "colab": {
          "base_uri": "https://localhost:8080/"
        },
        "id": "T57t8r1pidBS",
        "outputId": "eee48e79-4150-4f71-d4e4-274c3dd4b60c"
      },
      "execution_count": null,
      "outputs": [
        {
          "output_type": "stream",
          "name": "stdout",
          "text": [
            "For Fuel 1 amount = 28.18, Fuel 2 amount = 8.453999999999999, Brake power = 5.2, Heat Input = 19.89300783066666,  Efficiency=26.139837898137174\n",
            "For Fuel 1 amount = 27.43, Fuel 2 amount = 8.229, Brake power = 5.2, Heat Input = 19.363562980666668,  Efficiency=26.854561865457725\n",
            "For Fuel 1 amount = 26.28, Fuel 2 amount = 7.884, Brake power = 5.2, Heat Input = 18.551747543999998,  Efficiency=28.029704412842676\n",
            "For Fuel 1 amount = 22.041, Fuel 2 amount = 6.6123, Brake power = 5.2, Heat Input = 15.5593252518,  Efficiency=33.42047239097615\n",
            "For Fuel 1 amount = 27.756, Fuel 2 amount = 8.3268, Brake power = 5.2, Heat Input = 19.593695008799997,  Efficiency=26.539149444066346\n",
            "For Fuel 1 amount = 26.955, Fuel 2 amount = 8.0865, Brake power = 5.2, Heat Input = 19.028247909,  Efficiency=27.327791948414227\n",
            "For Fuel 1 amount = 22.4, Fuel 2 amount = 6.72, Brake power = 5.2, Heat Input = 15.812752853333333,  Efficiency=32.88484964149578\n",
            "For Fuel 1 amount = 23.429, Fuel 2 amount = 7.0287, Brake power = 5.2, Heat Input = 16.539151187533335,  Efficiency=31.440549403282485\n",
            "For Fuel 1 amount = 21.522, Fuel 2 amount = 6.456599999999999, Brake power = 5.2, Heat Input = 15.192949415599998,  Efficiency=34.22640237754417\n",
            "For Fuel 1 amount = 28.042, Fuel 2 amount = 8.4126, Brake power = 5.2, Heat Input = 19.795589978266666,  Efficiency=26.268476997700073\n",
            "For Fuel 1 amount = 24.288, Fuel 2 amount = 7.2863999999999995, Brake power = 5.2, Heat Input = 17.145542022399997,  Efficiency=30.328583332077798\n",
            "For Fuel 1 amount = 25.298, Fuel 2 amount = 7.5893999999999995, Brake power = 5.2, Heat Input = 17.85852775373333,  Efficiency=29.117741796565166\n",
            "For Fuel 1 amount = 30.807, Fuel 2 amount = 9.242099999999999, Brake power = 5.2, Heat Input = 21.747476658599993,  Efficiency=23.91082000744979\n",
            "For Fuel 1 amount = 22.616, Fuel 2 amount = 6.7848, Brake power = 5.2, Heat Input = 15.965232970133332,  Efficiency=32.570774317717785\n",
            "For Fuel 1 amount = 25.935, Fuel 2 amount = 7.780499999999999, Brake power = 5.2, Heat Input = 18.308202913,  Efficiency=28.402569191035493\n",
            "For Fuel 1 amount = 22.008, Fuel 2 amount = 6.602399999999999, Brake power = 5.2, Heat Input = 15.536029678399997,  Efficiency=33.47058487684049\n",
            "For Fuel 1 amount = 23.886, Fuel 2 amount = 7.1658, Brake power = 5.2, Heat Input = 16.861759582799998,  Efficiency=30.839011637340096\n",
            "For Fuel 1 amount = 29.072, Fuel 2 amount = 8.721599999999999, Brake power = 5.2, Heat Input = 20.52269423893333,  Efficiency=25.33780379641943\n",
            "For Fuel 1 amount = 24.983, Fuel 2 amount = 7.4948999999999995, Brake power = 5.2, Heat Input = 17.63616091673333,  Efficiency=29.48487499377599\n",
            "For Fuel 1 amount = 27.12, Fuel 2 amount = 8.136, Brake power = 5.2, Heat Input = 19.144725776,  Efficiency=27.161527727489137\n",
            "For Fuel 1 amount = 25.935, Fuel 2 amount = 7.780499999999999, Brake power = 5.2, Heat Input = 18.308202913,  Efficiency=28.402569191035493\n"
          ]
        }
      ]
    },
    {
      "cell_type": "markdown",
      "source": [
        "Butanol 40"
      ],
      "metadata": {
        "id": "wMaOZrQOii9-"
      }
    },
    {
      "cell_type": "code",
      "source": [
        "#Butano1 40\n",
        "fuel_1_range = [16.46,20.11,28.18,18.05,20.49,27.43,41.24,12.81,19.13,8.91,8.37,26.28,33.83,17.658,22.041,27.756,26.955,15.264,18.224,22.4,16.912,18.648,23.429,9.324,11.994,14.682,17.604,21.522,6.909,17.094,20.86,28.042,35.945,13.992,15.432,19.744,24.288,17.776,10.346,12.936,17.85,25.298,30.807,18.891,20.421,12.504,14.92,19.432,22.616,20.848,10.143,12.621,15.365,20.958,10.528,13.944,11.277,12.978,17.031,25.935,11.416,13.968,16.656,9.555,11.963,14.924,20.972,22.008,19.053,23.886,33.264,4.936,12.936,19.376,10.843,12.117,13.272,12.488,16.48,20.584,29.072,10.409,12.425,16.268,24.983,32.508,12.424,14.88,18.272,27.12,11.375,13.811,16.954,25.935]  # Values from 1 to 60 (inclusive)\n",
        "fuel_2_range=[]\n",
        "for i in fuel_1_range:\n",
        "  fuel_2_range.append(i*0.4)\n",
        " # Values from 1 to 40 (inclusive)\n",
        "calorific_value1 = 35800\n",
        "brake_power = 5.2\n",
        "density1 = 958\n",
        "density2=811.6\n",
        "calorific_value2=33100\n",
        "# Assuming you have the formulas defined as functions, for example:\n",
        "def predict_efficiency(fuel_amount_1, fuel_amount_2, calorific_value1,calorific_value2, brake_power, density1,density2):\n",
        "    # Your formula to calculate efficiency based on the given inputs\n",
        "    mass_of_fuel1 = ((fuel_amount_1  * 0.000001) / 60) * density1\n",
        "    mass_of_fuel2=((fuel_amount_2  * 0.000001) / 60) * density2\n",
        "    heat_input = mass_of_fuel1 * calorific_value1 + mass_of_fuel2 * calorific_value2\n",
        "    efficiency = brake_power / heat_input\n",
        "    return heat_input\n",
        "    # Limit efficiency to a maximum value of 32\n",
        "    efficiency = min(efficiency, 32)\n",
        "\n",
        "    return efficiency\n",
        "\n",
        "# List to store combinations that meet the efficiency criteria\n",
        "efficient_combinations = []\n",
        "\n",
        "# Loop through all combinations of fuel_1 and fuel_2\n",
        "for fuel_amount_1 in fuel_1_range:\n",
        "      # Use the formula-based prediction function to get efficiency\n",
        "      predicted_efficiency = predict_efficiency(fuel_amount_1, fuel_amount_1*0.4, calorific_value1,calorific_value2 ,brake_power,density1,density2)\n",
        "      \"\"\"if 23 <= predicted_efficiency <= 32:\"\"\"\n",
        "      efficient_combinations.append((fuel_amount_1, fuel_amount_1*0.4, predicted_efficiency))\n",
        "\n",
        "# Print the combinations that meet the efficiency criteria\n",
        "if efficient_combinations:\n",
        "    for fuel_amount_1, fuel_amount_2, predicted_efficiency in efficient_combinations:\n",
        "        eff=(brake_power/predicted_efficiency)*100\n",
        "        if eff>=23 and eff<=35:\n",
        "          print(f\"For Fuel 1 amount = {fuel_amount_1}, Fuel 2 amount = {fuel_amount_2}, \"\n",
        "                f\"Brake power = {brake_power}, \"\n",
        "                f\"Heat Input = {predicted_efficiency}, \",f\"Efficiency={eff}\")\n",
        "\n",
        "else:\n",
        "    print(\"No combinations meet the efficiency criteria.\")"
      ],
      "metadata": {
        "colab": {
          "base_uri": "https://localhost:8080/"
        },
        "id": "tqPN0vPviiiD",
        "outputId": "89e3b822-588e-467d-8646-d0a308dc27a3"
      },
      "execution_count": null,
      "outputs": [
        {
          "output_type": "stream",
          "name": "stdout",
          "text": [
            "For Fuel 1 amount = 20.11, Fuel 2 amount = 8.044, Brake power = 5.2, Heat Input = 15.096571637333332,  Efficiency=34.44490659813496\n",
            "For Fuel 1 amount = 28.18, Fuel 2 amount = 11.272, Brake power = 5.2, Heat Input = 21.15471848533333,  Efficiency=24.580804531174383\n",
            "For Fuel 1 amount = 20.49, Fuel 2 amount = 8.196, Brake power = 5.2, Heat Input = 15.381837535999999,  Efficiency=33.806104035553645\n",
            "For Fuel 1 amount = 27.43, Fuel 2 amount = 10.972000000000001, Brake power = 5.2, Heat Input = 20.591693685333336,  Efficiency=25.252900900054463\n",
            "For Fuel 1 amount = 26.28, Fuel 2 amount = 10.512, Brake power = 5.2, Heat Input = 19.728388992,  Efficiency=26.35795554370221\n",
            "For Fuel 1 amount = 22.041, Fuel 2 amount = 8.8164, Brake power = 5.2, Heat Input = 16.5461728224,  Efficiency=31.42720709988177\n",
            "For Fuel 1 amount = 27.756, Fuel 2 amount = 11.102400000000001, Brake power = 5.2, Heat Input = 20.8364217984,  Efficiency=24.956300320236853\n",
            "For Fuel 1 amount = 26.955, Fuel 2 amount = 10.782, Brake power = 5.2, Heat Input = 20.235111312,  Efficiency=25.697906573492634\n",
            "For Fuel 1 amount = 22.4, Fuel 2 amount = 8.959999999999999, Brake power = 5.2, Heat Input = 16.815674026666667,  Efficiency=30.923529986093484\n",
            "For Fuel 1 amount = 23.429, Fuel 2 amount = 9.371599999999999, Brake power = 5.2, Heat Input = 17.588144052266667,  Efficiency=29.565370766507066\n",
            "For Fuel 1 amount = 21.522, Fuel 2 amount = 8.6088, Brake power = 5.2, Heat Input = 16.1565596608,  Efficiency=32.18506977457922\n",
            "For Fuel 1 amount = 20.86, Fuel 2 amount = 8.344, Brake power = 5.2, Heat Input = 15.659596437333335,  Efficiency=33.20647515285206\n",
            "For Fuel 1 amount = 28.042, Fuel 2 amount = 11.216800000000001, Brake power = 5.2, Heat Input = 21.051121922133333,  Efficiency=24.70177133187697\n",
            "For Fuel 1 amount = 24.288, Fuel 2 amount = 9.715200000000001, Brake power = 5.2, Heat Input = 18.2329951232,  Efficiency=28.51972462485565\n",
            "For Fuel 1 amount = 25.298, Fuel 2 amount = 10.1192, Brake power = 5.2, Heat Input = 18.991201853866663,  Efficiency=27.38110015370757\n",
            "For Fuel 1 amount = 20.421, Fuel 2 amount = 8.1684, Brake power = 5.2, Heat Input = 15.330039254399999,  Efficiency=33.92033062477323\n",
            "For Fuel 1 amount = 22.616, Fuel 2 amount = 9.0464, Brake power = 5.2, Heat Input = 16.977825169066666,  Efficiency=30.62818675665432\n",
            "For Fuel 1 amount = 20.848, Fuel 2 amount = 8.3392, Brake power = 5.2, Heat Input = 15.65058804053333,  Efficiency=33.225588626654556\n",
            "For Fuel 1 amount = 20.958, Fuel 2 amount = 8.3832, Brake power = 5.2, Heat Input = 15.7331650112,  Efficiency=33.05120105394093\n",
            "For Fuel 1 amount = 25.935, Fuel 2 amount = 10.374, Brake power = 5.2, Heat Input = 19.469397584,  Efficiency=26.708581904318258\n",
            "For Fuel 1 amount = 20.972, Fuel 2 amount = 8.388800000000002, Brake power = 5.2, Heat Input = 15.743674807466668,  Efficiency=33.02913750183549\n",
            "For Fuel 1 amount = 22.008, Fuel 2 amount = 8.8032, Brake power = 5.2, Heat Input = 16.5213997312,  Efficiency=31.474330774649857\n",
            "For Fuel 1 amount = 23.886, Fuel 2 amount = 9.5544, Brake power = 5.2, Heat Input = 17.931213830399997,  Efficiency=28.99970994258118\n",
            "For Fuel 1 amount = 20.584, Fuel 2 amount = 8.233600000000001, Brake power = 5.2, Heat Input = 15.452403310933333,  Efficiency=33.65172326508424\n",
            "For Fuel 1 amount = 29.072, Fuel 2 amount = 11.6288, Brake power = 5.2, Heat Input = 21.824342647466665,  Efficiency=23.826605382790795\n",
            "For Fuel 1 amount = 24.983, Fuel 2 amount = 9.993200000000002, Brake power = 5.2, Heat Input = 18.754731437866667,  Efficiency=27.72633677654781\n",
            "For Fuel 1 amount = 27.12, Fuel 2 amount = 10.848, Brake power = 5.2, Heat Input = 20.358976768,  Efficiency=25.541558690578686\n",
            "For Fuel 1 amount = 25.935, Fuel 2 amount = 10.374, Brake power = 5.2, Heat Input = 19.469397584,  Efficiency=26.708581904318258\n"
          ]
        }
      ]
    },
    {
      "cell_type": "markdown",
      "source": [
        "Methanol 10"
      ],
      "metadata": {
        "id": "ibMrKAZuiuS6"
      }
    },
    {
      "cell_type": "code",
      "source": [
        "#Methano1 10\n",
        "fuel_1_range = [16.46,20.11,28.18,18.05,20.49,27.43,41.24,12.81,19.13,8.91,8.37,26.28,33.83,17.658,22.041,27.756,26.955,15.264,18.224,22.4,16.912,18.648,23.429,9.324,11.994,14.682,17.604,21.522,6.909,17.094,20.86,28.042,35.945,13.992,15.432,19.744,24.288,17.776,10.346,12.936,17.85,25.298,30.807,18.891,20.421,12.504,14.92,19.432,22.616,20.848,10.143,12.621,15.365,20.958,10.528,13.944,11.277,12.978,17.031,25.935,11.416,13.968,16.656,9.555,11.963,14.924,20.972,22.008,19.053,23.886,33.264,4.936,12.936,19.376,10.843,12.117,13.272,12.488,16.48,20.584,29.072,10.409,12.425,16.268,24.983,32.508,12.424,14.88,18.272,27.12,11.375,13.811,16.954,25.935]  # Values from 1 to 60 (inclusive)\n",
        "fuel_2_range=[]\n",
        "for i in fuel_1_range:\n",
        "  fuel_2_range.append(i*0.1)\n",
        " # Values from 1 to 40 (inclusive)\n",
        "calorific_value1 = 35800\n",
        "brake_power = 5.2\n",
        "density1 = 958\n",
        "density2=776\n",
        "calorific_value2=20000\n",
        "# Assuming you have the formulas defined as functions, for example:\n",
        "def predict_efficiency(fuel_amount_1, fuel_amount_2, calorific_value1,calorific_value2, brake_power, density1,density2):\n",
        "    # Your formula to calculate efficiency based on the given inputs\n",
        "    mass_of_fuel1 = ((fuel_amount_1  * 0.000001) / 60) * density1\n",
        "    mass_of_fuel2=((fuel_amount_2  * 0.000001) / 60) * density2\n",
        "    heat_input = mass_of_fuel1 * calorific_value1 + mass_of_fuel2 * calorific_value2\n",
        "    efficiency = brake_power / heat_input\n",
        "    return heat_input\n",
        "    # Limit efficiency to a maximum value of 32\n",
        "    efficiency = min(efficiency, 32)\n",
        "\n",
        "    return efficiency\n",
        "\n",
        "# List to store combinations that meet the efficiency criteria\n",
        "efficient_combinations = []\n",
        "\n",
        "# Loop through all combinations of fuel_1 and fuel_2\n",
        "for fuel_amount_1 in fuel_1_range:\n",
        "      # Use the formula-based prediction function to get efficiency\n",
        "      predicted_efficiency = predict_efficiency(fuel_amount_1, fuel_amount_1*0.1, calorific_value1,calorific_value2 ,brake_power,density1,density2)\n",
        "      \"\"\"if 23 <= predicted_efficiency <= 32:\"\"\"\n",
        "      efficient_combinations.append((fuel_amount_1, fuel_amount_1*0.1, predicted_efficiency))\n",
        "\n",
        "# Print the combinations that meet the efficiency criteria\n",
        "if efficient_combinations:\n",
        "    for fuel_amount_1, fuel_amount_2, predicted_efficiency in efficient_combinations:\n",
        "        eff=(brake_power/predicted_efficiency)*100\n",
        "        if eff>=23 and eff<=35:\n",
        "          print(f\"For Fuel 1 amount = {fuel_amount_1}, Fuel 2 amount = {fuel_amount_2}, \"\n",
        "                f\"Brake power = {brake_power}, \"\n",
        "                f\"Heat Input = {predicted_efficiency}, \",f\"Efficiency={eff}\")\n",
        "\n",
        "else:\n",
        "    print(\"No combinations meet the efficiency criteria.\")"
      ],
      "metadata": {
        "colab": {
          "base_uri": "https://localhost:8080/"
        },
        "id": "-KGWN_Lyi0t7",
        "outputId": "33e73af2-7f77-40cc-dc54-00619e979e8b"
      },
      "execution_count": null,
      "outputs": [
        {
          "output_type": "stream",
          "name": "stdout",
          "text": [
            "For Fuel 1 amount = 28.18, Fuel 2 amount = 2.818, Brake power = 5.2, Heat Input = 16.83679853333333,  Efficiency=30.88473137993004\n",
            "For Fuel 1 amount = 27.43, Fuel 2 amount = 2.7430000000000003, Brake power = 5.2, Heat Input = 16.388693533333335,  Efficiency=31.729191771287944\n",
            "For Fuel 1 amount = 26.28, Fuel 2 amount = 2.628, Brake power = 5.2, Heat Input = 15.701599199999999,  Efficiency=33.11764574910306\n",
            "For Fuel 1 amount = 33.83, Fuel 2 amount = 3.383, Brake power = 5.2, Heat Input = 20.212522866666664,  Efficiency=25.72662519321397\n",
            "For Fuel 1 amount = 27.756, Fuel 2 amount = 2.7756000000000003, Brake power = 5.2, Heat Input = 16.58346984,  Efficiency=31.356525806543758\n",
            "For Fuel 1 amount = 26.955, Fuel 2 amount = 2.6955, Brake power = 5.2, Heat Input = 16.104893699999998,  Efficiency=32.28832239979331\n",
            "For Fuel 1 amount = 28.042, Fuel 2 amount = 2.8042000000000002, Brake power = 5.2, Heat Input = 16.754347213333332,  Efficiency=31.036721000157925\n",
            "For Fuel 1 amount = 35.945, Fuel 2 amount = 3.5945, Brake power = 5.2, Heat Input = 21.47617896666667,  Efficiency=24.21287328658863\n",
            "For Fuel 1 amount = 25.298, Fuel 2 amount = 2.5298, Brake power = 5.2, Heat Input = 15.114880386666663,  Efficiency=34.40318326691552\n",
            "For Fuel 1 amount = 30.807, Fuel 2 amount = 3.0807, Brake power = 5.2, Heat Input = 18.406360979999995,  Efficiency=28.25110300536984\n",
            "For Fuel 1 amount = 25.935, Fuel 2 amount = 2.5935, Brake power = 5.2, Heat Input = 15.495470899999999,  Efficiency=33.558192800710565\n",
            "For Fuel 1 amount = 33.264, Fuel 2 amount = 3.3264000000000005, Brake power = 5.2, Heat Input = 19.87435296,  Efficiency=26.164373806109566\n",
            "For Fuel 1 amount = 29.072, Fuel 2 amount = 2.9072, Brake power = 5.2, Heat Input = 17.369744746666665,  Efficiency=29.937112351624535\n",
            "For Fuel 1 amount = 24.983, Fuel 2 amount = 2.4983000000000004, Brake power = 5.2, Heat Input = 14.926676286666666,  Efficiency=34.83695834313047\n",
            "For Fuel 1 amount = 32.508, Fuel 2 amount = 3.2508000000000004, Brake power = 5.2, Heat Input = 19.422663120000003,  Efficiency=26.772847615553964\n",
            "For Fuel 1 amount = 27.12, Fuel 2 amount = 2.712, Brake power = 5.2, Heat Input = 16.2034768,  Efficiency=32.09187796041403\n",
            "For Fuel 1 amount = 25.935, Fuel 2 amount = 2.5935, Brake power = 5.2, Heat Input = 15.495470899999999,  Efficiency=33.558192800710565\n"
          ]
        }
      ]
    },
    {
      "cell_type": "markdown",
      "source": [
        "Methanol 20"
      ],
      "metadata": {
        "id": "04ltKI49jL3e"
      }
    },
    {
      "cell_type": "code",
      "source": [
        "#Methano1 20\n",
        "fuel_1_range = [16.46,20.11,28.18,18.05,20.49,27.43,41.24,12.81,19.13,8.91,8.37,26.28,33.83,17.658,22.041,27.756,26.955,15.264,18.224,22.4,16.912,18.648,23.429,9.324,11.994,14.682,17.604,21.522,6.909,17.094,20.86,28.042,35.945,13.992,15.432,19.744,24.288,17.776,10.346,12.936,17.85,25.298,30.807,18.891,20.421,12.504,14.92,19.432,22.616,20.848,10.143,12.621,15.365,20.958,10.528,13.944,11.277,12.978,17.031,25.935,11.416,13.968,16.656,9.555,11.963,14.924,20.972,22.008,19.053,23.886,33.264,4.936,12.936,19.376,10.843,12.117,13.272,12.488,16.48,20.584,29.072,10.409,12.425,16.268,24.983,32.508,12.424,14.88,18.272,27.12,11.375,13.811,16.954,25.935]  # Values from 1 to 60 (inclusive)\n",
        "fuel_2_range=[]\n",
        "for i in fuel_1_range:\n",
        "  fuel_2_range.append(i*0.2)\n",
        " # Values from 1 to 40 (inclusive)\n",
        "calorific_value1 = 35800\n",
        "brake_power = 5.2\n",
        "density1 = 958\n",
        "density2=776\n",
        "calorific_value2=20000\n",
        "# Assuming you have the formulas defined as functions, for example:\n",
        "def predict_efficiency(fuel_amount_1, fuel_amount_2, calorific_value1,calorific_value2, brake_power, density1,density2):\n",
        "    # Your formula to calculate efficiency based on the given inputs\n",
        "    mass_of_fuel1 = ((fuel_amount_1  * 0.000001) / 60) * density1\n",
        "    mass_of_fuel2=((fuel_amount_2  * 0.000001) / 60) * density2\n",
        "    heat_input = mass_of_fuel1 * calorific_value1 + mass_of_fuel2 * calorific_value2\n",
        "    efficiency = brake_power / heat_input\n",
        "    return heat_input\n",
        "    # Limit efficiency to a maximum value of 32\n",
        "    efficiency = min(efficiency, 32)\n",
        "\n",
        "    return efficiency\n",
        "\n",
        "# List to store combinations that meet the efficiency criteria\n",
        "efficient_combinations = []\n",
        "\n",
        "# Loop through all combinations of fuel_1 and fuel_2\n",
        "for fuel_amount_1 in fuel_1_range:\n",
        "      # Use the formula-based prediction function to get efficiency\n",
        "      predicted_efficiency = predict_efficiency(fuel_amount_1, fuel_amount_1*0.2, calorific_value1,calorific_value2 ,brake_power,density1,density2)\n",
        "      \"\"\"if 23 <= predicted_efficiency <= 32:\"\"\"\n",
        "      efficient_combinations.append((fuel_amount_1, fuel_amount_1*0.2, predicted_efficiency))\n",
        "\n",
        "# Print the combinations that meet the efficiency criteria\n",
        "if efficient_combinations:\n",
        "    for fuel_amount_1, fuel_amount_2, predicted_efficiency in efficient_combinations:\n",
        "        eff=(brake_power/predicted_efficiency)*100\n",
        "        if eff>=23 and eff<=35:\n",
        "          print(f\"For Fuel 1 amount = {fuel_amount_1}, Fuel 2 amount = {fuel_amount_2}, \"\n",
        "                f\"Brake power = {brake_power}, \"\n",
        "                f\"Heat Input = {predicted_efficiency}, \",f\"Efficiency={eff}\")\n",
        "\n",
        "else:\n",
        "    print(\"No combinations meet the efficiency criteria.\")"
      ],
      "metadata": {
        "colab": {
          "base_uri": "https://localhost:8080/"
        },
        "id": "fAYCf69VjOhs",
        "outputId": "5278a51e-674a-4c60-96b7-64353c3001af"
      },
      "execution_count": null,
      "outputs": [
        {
          "output_type": "stream",
          "name": "stdout",
          "text": [
            "For Fuel 1 amount = 28.18, Fuel 2 amount = 5.636, Brake power = 5.2, Heat Input = 17.5657212,  Efficiency=29.603111314325087\n",
            "For Fuel 1 amount = 27.43, Fuel 2 amount = 5.486000000000001, Brake power = 5.2, Heat Input = 17.098216200000003,  Efficiency=30.412529232142937\n",
            "For Fuel 1 amount = 26.28, Fuel 2 amount = 5.256, Brake power = 5.2, Heat Input = 16.381375199999997,  Efficiency=31.743366698541898\n",
            "For Fuel 1 amount = 33.83, Fuel 2 amount = 6.766, Brake power = 5.2, Heat Input = 21.0875922,  Efficiency=24.65905045337514\n",
            "For Fuel 1 amount = 27.756, Fuel 2 amount = 5.551200000000001, Brake power = 5.2, Heat Input = 17.301425039999998,  Efficiency=30.055327743107114\n",
            "For Fuel 1 amount = 26.955, Fuel 2 amount = 5.391, Brake power = 5.2, Heat Input = 16.8021297,  Efficiency=30.948457682718644\n",
            "For Fuel 1 amount = 28.042, Fuel 2 amount = 5.6084000000000005, Brake power = 5.2, Heat Input = 17.47970028,  Efficiency=29.748793839158438\n",
            "For Fuel 1 amount = 35.945, Fuel 2 amount = 7.189, Brake power = 5.2, Heat Input = 22.405956300000003,  Efficiency=23.208114531581046\n",
            "For Fuel 1 amount = 24.288, Fuel 2 amount = 4.857600000000001, Brake power = 5.2, Heat Input = 15.13968192,  Efficiency=34.34682463923258\n",
            "For Fuel 1 amount = 25.298, Fuel 2 amount = 5.0596, Brake power = 5.2, Heat Input = 15.769255319999996,  Efficiency=32.975558417174526\n",
            "For Fuel 1 amount = 30.807, Fuel 2 amount = 6.1614, Brake power = 5.2, Heat Input = 19.203235379999995,  Efficiency=27.078770306673196\n",
            "For Fuel 1 amount = 25.935, Fuel 2 amount = 5.187, Brake power = 5.2, Heat Input = 16.166322899999997,  Efficiency=32.16563242096322\n",
            "For Fuel 1 amount = 23.886, Fuel 2 amount = 4.7772, Brake power = 5.2, Heat Input = 14.889099239999997,  Efficiency=34.92487971354271\n",
            "For Fuel 1 amount = 33.264, Fuel 2 amount = 6.652800000000001, Brake power = 5.2, Heat Input = 20.734781759999997,  Efficiency=25.07863386356665\n",
            "For Fuel 1 amount = 29.072, Fuel 2 amount = 5.8144, Brake power = 5.2, Heat Input = 18.121740479999996,  Efficiency=28.694815521384186\n",
            "For Fuel 1 amount = 24.983, Fuel 2 amount = 4.996600000000001, Brake power = 5.2, Heat Input = 15.57290322,  Efficiency=33.39133318006968\n",
            "For Fuel 1 amount = 32.508, Fuel 2 amount = 6.501600000000001, Brake power = 5.2, Heat Input = 20.26353672,  Efficiency=25.661857906905404\n",
            "For Fuel 1 amount = 27.12, Fuel 2 amount = 5.424, Brake power = 5.2, Heat Input = 16.9049808,  Efficiency=30.760165075135724\n",
            "For Fuel 1 amount = 25.935, Fuel 2 amount = 5.187, Brake power = 5.2, Heat Input = 16.166322899999997,  Efficiency=32.16563242096322\n"
          ]
        }
      ]
    },
    {
      "cell_type": "markdown",
      "source": [
        "Methanol 30"
      ],
      "metadata": {
        "id": "4wuocD36jj5N"
      }
    },
    {
      "cell_type": "code",
      "source": [
        "#Methano1 30\n",
        "fuel_1_range = [16.46,20.11,28.18,18.05,20.49,27.43,41.24,12.81,19.13,8.91,8.37,26.28,33.83,17.658,22.041,27.756,26.955,15.264,18.224,22.4,16.912,18.648,23.429,9.324,11.994,14.682,17.604,21.522,6.909,17.094,20.86,28.042,35.945,13.992,15.432,19.744,24.288,17.776,10.346,12.936,17.85,25.298,30.807,18.891,20.421,12.504,14.92,19.432,22.616,20.848,10.143,12.621,15.365,20.958,10.528,13.944,11.277,12.978,17.031,25.935,11.416,13.968,16.656,9.555,11.963,14.924,20.972,22.008,19.053,23.886,33.264,4.936,12.936,19.376,10.843,12.117,13.272,12.488,16.48,20.584,29.072,10.409,12.425,16.268,24.983,32.508,12.424,14.88,18.272,27.12,11.375,13.811,16.954,25.935]  # Values from 1 to 60 (inclusive)\n",
        "fuel_2_range=[]\n",
        "for i in fuel_1_range:\n",
        "  fuel_2_range.append(i*0.3)\n",
        " # Values from 1 to 40 (inclusive)\n",
        "calorific_value1 = 35800\n",
        "brake_power = 5.2\n",
        "density1 = 958\n",
        "density2=776\n",
        "calorific_value2=20000\n",
        "# Assuming you have the formulas defined as functions, for example:\n",
        "def predict_efficiency(fuel_amount_1, fuel_amount_2, calorific_value1,calorific_value2, brake_power, density1,density2):\n",
        "    # Your formula to calculate efficiency based on the given inputs\n",
        "    mass_of_fuel1 = ((fuel_amount_1  * 0.000001) / 60) * density1\n",
        "    mass_of_fuel2=((fuel_amount_2  * 0.000001) / 60) * density2\n",
        "    heat_input = mass_of_fuel1 * calorific_value1 + mass_of_fuel2 * calorific_value2\n",
        "    efficiency = brake_power / heat_input\n",
        "    return heat_input\n",
        "    # Limit efficiency to a maximum value of 32\n",
        "    efficiency = min(efficiency, 32)\n",
        "\n",
        "    return efficiency\n",
        "\n",
        "# List to store combinations that meet the efficiency criteria\n",
        "efficient_combinations = []\n",
        "\n",
        "# Loop through all combinations of fuel_1 and fuel_2\n",
        "for fuel_amount_1 in fuel_1_range:\n",
        "      # Use the formula-based prediction function to get efficiency\n",
        "      predicted_efficiency = predict_efficiency(fuel_amount_1, fuel_amount_1*0.3, calorific_value1,calorific_value2 ,brake_power,density1,density2)\n",
        "      \"\"\"if 23 <= predicted_efficiency <= 32:\"\"\"\n",
        "      efficient_combinations.append((fuel_amount_1, fuel_amount_1*0.3, predicted_efficiency))\n",
        "\n",
        "# Print the combinations that meet the efficiency criteria\n",
        "if efficient_combinations:\n",
        "    for fuel_amount_1, fuel_amount_2, predicted_efficiency in efficient_combinations:\n",
        "        eff=(brake_power/predicted_efficiency)*100\n",
        "        if eff>=23 and eff<=35:\n",
        "          print(f\"For Fuel 1 amount = {fuel_amount_1}, Fuel 2 amount = {fuel_amount_2}, \"\n",
        "                f\"Brake power = {brake_power}, \"\n",
        "                f\"Heat Input = {predicted_efficiency}, \",f\"Efficiency={eff}\")\n",
        "\n",
        "else:\n",
        "    print(\"No combinations meet the efficiency criteria.\")"
      ],
      "metadata": {
        "colab": {
          "base_uri": "https://localhost:8080/"
        },
        "id": "cURUBia5jmRj",
        "outputId": "0ec24947-631f-483f-d019-817bc5cdcad1"
      },
      "execution_count": null,
      "outputs": [
        {
          "output_type": "stream",
          "name": "stdout",
          "text": [
            "For Fuel 1 amount = 28.18, Fuel 2 amount = 8.453999999999999, Brake power = 5.2, Heat Input = 18.294643866666664,  Efficiency=28.4236197102177\n",
            "For Fuel 1 amount = 27.43, Fuel 2 amount = 8.229, Brake power = 5.2, Heat Input = 17.807738866666668,  Efficiency=29.20078758417553\n",
            "For Fuel 1 amount = 26.28, Fuel 2 amount = 7.884, Brake power = 5.2, Heat Input = 17.061151199999998,  Efficiency=30.478599826253227\n",
            "For Fuel 1 amount = 33.83, Fuel 2 amount = 10.149, Brake power = 5.2, Heat Input = 21.962661533333332,  Efficiency=23.676547544603455\n",
            "For Fuel 1 amount = 27.756, Fuel 2 amount = 8.3268, Brake power = 5.2, Heat Input = 18.01938024,  Efficiency=28.857818253132105\n",
            "For Fuel 1 amount = 26.955, Fuel 2 amount = 8.0865, Brake power = 5.2, Heat Input = 17.4993657,  Efficiency=29.715362768834535\n",
            "For Fuel 1 amount = 23.429, Fuel 2 amount = 7.0287, Brake power = 5.2, Heat Input = 15.210262993333332,  Efficiency=34.187443059197356\n",
            "For Fuel 1 amount = 28.042, Fuel 2 amount = 8.4126, Brake power = 5.2, Heat Input = 18.205053346666666,  Efficiency=28.563497733183613\n",
            "For Fuel 1 amount = 24.288, Fuel 2 amount = 7.2863999999999995, Brake power = 5.2, Heat Input = 15.76793152,  Efficiency=32.978326887102064\n",
            "For Fuel 1 amount = 25.298, Fuel 2 amount = 7.5893999999999995, Brake power = 5.2, Heat Input = 16.42363025333333,  Efficiency=31.66169671254388\n",
            "For Fuel 1 amount = 30.807, Fuel 2 amount = 9.242099999999999, Brake power = 5.2, Heat Input = 20.000109779999995,  Efficiency=25.999857286783364\n",
            "For Fuel 1 amount = 25.935, Fuel 2 amount = 7.780499999999999, Brake power = 5.2, Heat Input = 16.8371749,  Efficiency=30.884041003814723\n",
            "For Fuel 1 amount = 23.886, Fuel 2 amount = 7.1658, Brake power = 5.2, Heat Input = 15.506950439999997,  Efficiency=33.533350223308\n",
            "For Fuel 1 amount = 33.264, Fuel 2 amount = 9.9792, Brake power = 5.2, Heat Input = 21.595210559999998,  Efficiency=24.079413282645948\n",
            "For Fuel 1 amount = 29.072, Fuel 2 amount = 8.721599999999999, Brake power = 5.2, Heat Input = 18.87373621333333,  Efficiency=27.55151360188274\n",
            "For Fuel 1 amount = 24.983, Fuel 2 amount = 7.4948999999999995, Brake power = 5.2, Heat Input = 16.21913015333333,  Efficiency=32.06090555313352\n",
            "For Fuel 1 amount = 32.508, Fuel 2 amount = 9.7524, Brake power = 5.2, Heat Input = 21.10441032,  Efficiency=24.639399638056318\n",
            "For Fuel 1 amount = 27.12, Fuel 2 amount = 8.136, Brake power = 5.2, Heat Input = 17.6064848,  Efficiency=29.534572398006443\n",
            "For Fuel 1 amount = 25.935, Fuel 2 amount = 7.780499999999999, Brake power = 5.2, Heat Input = 16.8371749,  Efficiency=30.884041003814723\n"
          ]
        }
      ]
    },
    {
      "cell_type": "markdown",
      "source": [
        "Methanol 40"
      ],
      "metadata": {
        "id": "_nYJAbHzjtmt"
      }
    },
    {
      "cell_type": "code",
      "source": [
        "#Methano1 40\n",
        "fuel_1_range = [16.46,20.11,28.18,18.05,20.49,27.43,41.24,12.81,19.13,8.91,8.37,26.28,33.83,17.658,22.041,27.756,26.955,15.264,18.224,22.4,16.912,18.648,23.429,9.324,11.994,14.682,17.604,21.522,6.909,17.094,20.86,28.042,35.945,13.992,15.432,19.744,24.288,17.776,10.346,12.936,17.85,25.298,30.807,18.891,20.421,12.504,14.92,19.432,22.616,20.848,10.143,12.621,15.365,20.958,10.528,13.944,11.277,12.978,17.031,25.935,11.416,13.968,16.656,9.555,11.963,14.924,20.972,22.008,19.053,23.886,33.264,4.936,12.936,19.376,10.843,12.117,13.272,12.488,16.48,20.584,29.072,10.409,12.425,16.268,24.983,32.508,12.424,14.88,18.272,27.12,11.375,13.811,16.954,25.935]  # Values from 1 to 60 (inclusive)\n",
        "fuel_2_range=[]\n",
        "for i in fuel_1_range:\n",
        "  fuel_2_range.append(i*0.4)\n",
        " # Values from 1 to 40 (inclusive)\n",
        "calorific_value1 = 35800\n",
        "brake_power = 5.2\n",
        "density1 = 958\n",
        "density2=776\n",
        "calorific_value2=20000\n",
        "# Assuming you have the formulas defined as functions, for example:\n",
        "def predict_efficiency(fuel_amount_1, fuel_amount_2, calorific_value1,calorific_value2, brake_power, density1,density2):\n",
        "    # Your formula to calculate efficiency based on the given inputs\n",
        "    mass_of_fuel1 = ((fuel_amount_1  * 0.000001) / 60) * density1\n",
        "    mass_of_fuel2=((fuel_amount_2  * 0.000001) / 60) * density2\n",
        "    heat_input = mass_of_fuel1 * calorific_value1 + mass_of_fuel2 * calorific_value2\n",
        "    efficiency = brake_power / heat_input\n",
        "    return heat_input\n",
        "    # Limit efficiency to a maximum value of 32\n",
        "    efficiency = min(efficiency, 32)\n",
        "\n",
        "    return efficiency\n",
        "\n",
        "# List to store combinations that meet the efficiency criteria\n",
        "efficient_combinations = []\n",
        "\n",
        "# Loop through all combinations of fuel_1 and fuel_2\n",
        "for fuel_amount_1 in fuel_1_range:\n",
        "      # Use the formula-based prediction function to get efficiency\n",
        "      predicted_efficiency = predict_efficiency(fuel_amount_1, fuel_amount_1*0.4, calorific_value1,calorific_value2 ,brake_power,density1,density2)\n",
        "      \"\"\"if 23 <= predicted_efficiency <= 32:\"\"\"\n",
        "      efficient_combinations.append((fuel_amount_1, fuel_amount_1*0.4, predicted_efficiency))\n",
        "\n",
        "# Print the combinations that meet the efficiency criteria\n",
        "if efficient_combinations:\n",
        "    for fuel_amount_1, fuel_amount_2, predicted_efficiency in efficient_combinations:\n",
        "        eff=(brake_power/predicted_efficiency)*100\n",
        "        if eff>=23 and eff<=35:\n",
        "          print(f\"For Fuel 1 amount = {fuel_amount_1}, Fuel 2 amount = {fuel_amount_2}, \"\n",
        "                f\"Brake power = {brake_power}, \"\n",
        "                f\"Heat Input = {predicted_efficiency}, \",f\"Efficiency={eff}\")\n",
        "\n",
        "else:\n",
        "    print(\"No combinations meet the efficiency criteria.\")"
      ],
      "metadata": {
        "colab": {
          "base_uri": "https://localhost:8080/"
        },
        "id": "2mz3VkcHjwhY",
        "outputId": "6f42fce8-6199-4b09-c057-e576caab6861"
      },
      "execution_count": null,
      "outputs": [
        {
          "output_type": "stream",
          "name": "stdout",
          "text": [
            "For Fuel 1 amount = 28.18, Fuel 2 amount = 11.272, Brake power = 5.2, Heat Input = 19.02356653333333,  Efficiency=27.334516852497114\n",
            "For Fuel 1 amount = 27.43, Fuel 2 amount = 10.972000000000001, Brake power = 5.2, Heat Input = 18.517261533333336,  Efficiency=28.081906121158163\n",
            "For Fuel 1 amount = 26.28, Fuel 2 amount = 10.512, Brake power = 5.2, Heat Input = 17.740927199999998,  Efficiency=29.310756655379322\n",
            "For Fuel 1 amount = 22.041, Fuel 2 amount = 8.8164, Brake power = 5.2, Heat Input = 14.87929134,  Efficiency=34.947900952922666\n",
            "For Fuel 1 amount = 27.756, Fuel 2 amount = 11.102400000000001, Brake power = 5.2, Heat Input = 18.73733544,  Efficiency=27.752078285897415\n",
            "For Fuel 1 amount = 26.955, Fuel 2 amount = 10.782, Brake power = 5.2, Heat Input = 18.1966017,  Efficiency=28.57676441860021\n",
            "For Fuel 1 amount = 22.4, Fuel 2 amount = 8.959999999999999, Brake power = 5.2, Heat Input = 15.121642666666666,  Efficiency=34.3877984331861\n",
            "For Fuel 1 amount = 23.429, Fuel 2 amount = 9.371599999999999, Brake power = 5.2, Heat Input = 15.816293126666666,  Efficiency=32.87748879181222\n",
            "For Fuel 1 amount = 28.042, Fuel 2 amount = 11.216800000000001, Brake power = 5.2, Heat Input = 18.930406413333333,  Efficiency=27.46903519375824\n",
            "For Fuel 1 amount = 24.288, Fuel 2 amount = 9.715200000000001, Brake power = 5.2, Heat Input = 16.39618112,  Efficiency=31.71470211229284\n",
            "For Fuel 1 amount = 25.298, Fuel 2 amount = 10.1192, Brake power = 5.2, Heat Input = 17.078005186666662,  Efficiency=30.448521025510665\n",
            "For Fuel 1 amount = 30.807, Fuel 2 amount = 12.3228, Brake power = 5.2, Heat Input = 20.796984179999995,  Efficiency=25.003625309292328\n",
            "For Fuel 1 amount = 22.616, Fuel 2 amount = 9.0464, Brake power = 5.2, Heat Input = 15.267458506666665,  Efficiency=34.05936880541955\n",
            "For Fuel 1 amount = 25.935, Fuel 2 amount = 10.374, Brake power = 5.2, Heat Input = 17.508026899999997,  Efficiency=29.700662614357764\n",
            "For Fuel 1 amount = 23.886, Fuel 2 amount = 9.5544, Brake power = 5.2, Heat Input = 16.124801639999998,  Efficiency=32.248458716543944\n",
            "For Fuel 1 amount = 33.264, Fuel 2 amount = 13.305600000000002, Brake power = 5.2, Heat Input = 22.45563936,  Efficiency=23.15676662167414\n",
            "For Fuel 1 amount = 29.072, Fuel 2 amount = 11.6288, Brake power = 5.2, Heat Input = 19.625731946666665,  Efficiency=26.495827081156047\n",
            "For Fuel 1 amount = 24.983, Fuel 2 amount = 9.993200000000002, Brake power = 5.2, Heat Input = 16.865357086666666,  Efficiency=30.832433450881343\n",
            "For Fuel 1 amount = 32.508, Fuel 2 amount = 13.003200000000001, Brake power = 5.2, Heat Input = 21.94528392,  Efficiency=23.69529607799214\n",
            "For Fuel 1 amount = 27.12, Fuel 2 amount = 10.848, Brake power = 5.2, Heat Input = 18.3079888,  Efficiency=28.402901360743677\n",
            "For Fuel 1 amount = 25.935, Fuel 2 amount = 10.374, Brake power = 5.2, Heat Input = 17.508026899999997,  Efficiency=29.700662614357764\n"
          ]
        }
      ]
    },
    {
      "cell_type": "markdown",
      "source": [
        "COCO 10"
      ],
      "metadata": {
        "id": "4beYRhOTj26W"
      }
    },
    {
      "cell_type": "code",
      "source": [
        "#COCO 10\n",
        "fuel_1_range = [16.46,20.11,28.18,18.05,20.49,27.43,41.24,12.81,19.13,8.91,8.37,26.28,33.83,17.658,22.041,27.756,26.955,15.264,18.224,22.4,16.912,18.648,23.429,9.324,11.994,14.682,17.604,21.522,6.909,17.094,20.86,28.042,35.945,13.992,15.432,19.744,24.288,17.776,10.346,12.936,17.85,25.298,30.807,18.891,20.421,12.504,14.92,19.432,22.616,20.848,10.143,12.621,15.365,20.958,10.528,13.944,11.277,12.978,17.031,25.935,11.416,13.968,16.656,9.555,11.963,14.924,20.972,22.008,19.053,23.886,33.264,4.936,12.936,19.376,10.843,12.117,13.272,12.488,16.48,20.584,29.072,10.409,12.425,16.268,24.983,32.508,12.424,14.88,18.272,27.12,11.375,13.811,16.954,25.935]  # Values from 1 to 60 (inclusive)\n",
        "fuel_2_range=[]\n",
        "for i in fuel_1_range:\n",
        "  fuel_2_range.append(i*0.1)\n",
        " # Values from 1 to 40 (inclusive)\n",
        "calorific_value1 = 35800\n",
        "brake_power = 5.2\n",
        "density1 = 958\n",
        "density2=915.1\n",
        "calorific_value2=37100\n",
        "# Assuming you have the formulas defined as functions, for example:\n",
        "def predict_efficiency(fuel_amount_1, fuel_amount_2, calorific_value1,calorific_value2, brake_power, density1,density2):\n",
        "    # Your formula to calculate efficiency based on the given inputs\n",
        "    mass_of_fuel1 = ((fuel_amount_1  * 0.000001) / 60) * density1\n",
        "    mass_of_fuel2=((fuel_amount_2  * 0.000001) / 60) * density2\n",
        "    heat_input = mass_of_fuel1 * calorific_value1 + mass_of_fuel2 * calorific_value2\n",
        "    efficiency = brake_power / heat_input\n",
        "    return heat_input\n",
        "    # Limit efficiency to a maximum value of 32\n",
        "    efficiency = min(efficiency, 32)\n",
        "\n",
        "    return efficiency\n",
        "\n",
        "# List to store combinations that meet the efficiency criteria\n",
        "efficient_combinations = []\n",
        "\n",
        "# Loop through all combinations of fuel_1 and fuel_2\n",
        "for fuel_amount_1 in fuel_1_range:\n",
        "      # Use the formula-based prediction function to get efficiency\n",
        "      predicted_efficiency = predict_efficiency(fuel_amount_1, fuel_amount_1*0.1, calorific_value1,calorific_value2 ,brake_power,density1,density2)\n",
        "      \"\"\"if 23 <= predicted_efficiency <= 32:\"\"\"\n",
        "      efficient_combinations.append((fuel_amount_1, fuel_amount_1*0.1, predicted_efficiency))\n",
        "\n",
        "# Print the combinations that meet the efficiency criteria\n",
        "if efficient_combinations:\n",
        "    for fuel_amount_1, fuel_amount_2, predicted_efficiency in efficient_combinations:\n",
        "        eff=(brake_power/predicted_efficiency)*100\n",
        "        if eff>=23 and eff<=35:\n",
        "          print(f\"For Fuel 1 amount = {fuel_amount_1}, Fuel 2 amount = {fuel_amount_2}, \"\n",
        "                f\"Brake power = {brake_power}, \"\n",
        "                f\"Heat Input = {predicted_efficiency}, \",f\"Efficiency={eff}\")\n",
        "\n",
        "else:\n",
        "    print(\"No combinations meet the efficiency criteria.\")"
      ],
      "metadata": {
        "colab": {
          "base_uri": "https://localhost:8080/"
        },
        "id": "wvg9H-vdj__E",
        "outputId": "f382c926-ed55-488b-e78e-69ff5fb4aacd"
      },
      "execution_count": null,
      "outputs": [
        {
          "output_type": "stream",
          "name": "stdout",
          "text": [
            "For Fuel 1 amount = 28.18, Fuel 2 amount = 2.818, Brake power = 5.2, Heat Input = 17.702404062999996,  Efficiency=29.374541341921923\n",
            "For Fuel 1 amount = 27.43, Fuel 2 amount = 2.7430000000000003, Brake power = 5.2, Heat Input = 17.2312613005,  Efficiency=30.17770962505868\n",
            "For Fuel 1 amount = 26.28, Fuel 2 amount = 2.628, Brake power = 5.2, Heat Input = 16.508842398,  Efficiency=31.498271499823428\n",
            "For Fuel 1 amount = 33.83, Fuel 2 amount = 3.383, Brake power = 5.2, Heat Input = 21.2516795405,  Efficiency=24.46865430137037\n",
            "For Fuel 1 amount = 27.756, Fuel 2 amount = 2.7756000000000003, Brake power = 5.2, Heat Input = 17.4360513546,  Efficiency=29.823266141207654\n",
            "For Fuel 1 amount = 26.955, Fuel 2 amount = 2.6955, Brake power = 5.2, Heat Input = 16.93287088425,  Efficiency=30.709500093316993\n",
            "For Fuel 1 amount = 28.042, Fuel 2 amount = 2.8042000000000002, Brake power = 5.2, Heat Input = 17.6157137947,  Efficiency=29.519099030574125\n",
            "For Fuel 1 amount = 35.945, Fuel 2 amount = 3.5945, Brake power = 5.2, Heat Input = 22.580302130750002,  Efficiency=23.028921269032118\n",
            "For Fuel 1 amount = 24.288, Fuel 2 amount = 2.4288000000000003, Brake power = 5.2, Heat Input = 15.2574872208,  Efficiency=34.081627759196294\n",
            "For Fuel 1 amount = 25.298, Fuel 2 amount = 2.5298, Brake power = 5.2, Heat Input = 15.891959474299997,  Efficiency=32.720949285135575\n",
            "For Fuel 1 amount = 30.807, Fuel 2 amount = 3.0807, Brake power = 5.2, Heat Input = 19.352660112449996,  Efficiency=26.86969114212224\n",
            "For Fuel 1 amount = 25.935, Fuel 2 amount = 2.5935, Brake power = 5.2, Heat Input = 16.29211672725,  Efficiency=31.91727684655329\n",
            "For Fuel 1 amount = 23.886, Fuel 2 amount = 2.3886, Brake power = 5.2, Heat Input = 15.004954700099997,  Efficiency=34.65521958533701\n",
            "For Fuel 1 amount = 33.264, Fuel 2 amount = 3.3264000000000005, Brake power = 5.2, Heat Input = 20.8961238024,  Efficiency=24.884998046397296\n",
            "For Fuel 1 amount = 29.072, Fuel 2 amount = 2.9072, Brake power = 5.2, Heat Input = 18.2627498552,  Efficiency=28.473258634265257\n",
            "For Fuel 1 amount = 24.983, Fuel 2 amount = 2.4983000000000004, Brake power = 5.2, Heat Input = 15.69407951405,  Efficiency=33.13351378999158\n",
            "For Fuel 1 amount = 32.508, Fuel 2 amount = 3.2508000000000004, Brake power = 5.2, Heat Input = 20.421211897800003,  Efficiency=25.463718931197228\n",
            "For Fuel 1 amount = 27.12, Fuel 2 amount = 2.712, Brake power = 5.2, Heat Input = 17.036522292,  Efficiency=30.522661320625353\n",
            "For Fuel 1 amount = 25.935, Fuel 2 amount = 2.5935, Brake power = 5.2, Heat Input = 16.29211672725,  Efficiency=31.91727684655329\n"
          ]
        }
      ]
    },
    {
      "cell_type": "markdown",
      "source": [
        "COCO 20"
      ],
      "metadata": {
        "id": "5hlRSS50j3jX"
      }
    },
    {
      "cell_type": "code",
      "source": [
        "#COCO 20\n",
        "fuel_1_range = [16.46,20.11,28.18,18.05,20.49,27.43,41.24,12.81,19.13,8.91,8.37,26.28,33.83,17.658,22.041,27.756,26.955,15.264,18.224,22.4,16.912,18.648,23.429,9.324,11.994,14.682,17.604,21.522,6.909,17.094,20.86,28.042,35.945,13.992,15.432,19.744,24.288,17.776,10.346,12.936,17.85,25.298,30.807,18.891,20.421,12.504,14.92,19.432,22.616,20.848,10.143,12.621,15.365,20.958,10.528,13.944,11.277,12.978,17.031,25.935,11.416,13.968,16.656,9.555,11.963,14.924,20.972,22.008,19.053,23.886,33.264,4.936,12.936,19.376,10.843,12.117,13.272,12.488,16.48,20.584,29.072,10.409,12.425,16.268,24.983,32.508,12.424,14.88,18.272,27.12,11.375,13.811,16.954,25.935]  # Values from 1 to 60 (inclusive)\n",
        "fuel_2_range=[]\n",
        "for i in fuel_1_range:\n",
        "  fuel_2_range.append(i*0.2)\n",
        " # Values from 1 to 40 (inclusive)\n",
        "calorific_value1 = 35800\n",
        "brake_power = 5.2\n",
        "density1 = 958\n",
        "density2=915.1\n",
        "calorific_value2=37100\n",
        "# Assuming you have the formulas defined as functions, for example:\n",
        "def predict_efficiency(fuel_amount_1, fuel_amount_2, calorific_value1,calorific_value2, brake_power, density1,density2):\n",
        "    # Your formula to calculate efficiency based on the given inputs\n",
        "    mass_of_fuel1 = ((fuel_amount_1  * 0.000001) / 60) * density1\n",
        "    mass_of_fuel2=((fuel_amount_2  * 0.000001) / 60) * density2\n",
        "    heat_input = mass_of_fuel1 * calorific_value1 + mass_of_fuel2 * calorific_value2\n",
        "    efficiency = brake_power / heat_input\n",
        "    return heat_input\n",
        "    # Limit efficiency to a maximum value of 32\n",
        "    efficiency = min(efficiency, 32)\n",
        "\n",
        "    return efficiency\n",
        "\n",
        "# List to store combinations that meet the efficiency criteria\n",
        "efficient_combinations = []\n",
        "\n",
        "# Loop through all combinations of fuel_1 and fuel_2\n",
        "for fuel_amount_1 in fuel_1_range:\n",
        "      # Use the formula-based prediction function to get efficiency\n",
        "      predicted_efficiency = predict_efficiency(fuel_amount_1, fuel_amount_1*0.2, calorific_value1,calorific_value2 ,brake_power,density1,density2)\n",
        "      \"\"\"if 23 <= predicted_efficiency <= 32:\"\"\"\n",
        "      efficient_combinations.append((fuel_amount_1, fuel_amount_1*0.2, predicted_efficiency))\n",
        "\n",
        "# Print the combinations that meet the efficiency criteria\n",
        "if efficient_combinations:\n",
        "    for fuel_amount_1, fuel_amount_2, predicted_efficiency in efficient_combinations:\n",
        "        eff=(brake_power/predicted_efficiency)*100\n",
        "        if eff>=23 and eff<=35:\n",
        "          print(f\"For Fuel 1 amount = {fuel_amount_1}, Fuel 2 amount = {fuel_amount_2}, \"\n",
        "                f\"Brake power = {brake_power}, \"\n",
        "                f\"Heat Input = {predicted_efficiency}, \",f\"Efficiency={eff}\")\n",
        "\n",
        "else:\n",
        "    print(\"No combinations meet the efficiency criteria.\")"
      ],
      "metadata": {
        "colab": {
          "base_uri": "https://localhost:8080/"
        },
        "id": "vd0ejtASkNUM",
        "outputId": "9b0bd822-2b2b-43fe-d614-1377b8c0aea1"
      },
      "execution_count": null,
      "outputs": [
        {
          "output_type": "stream",
          "name": "stdout",
          "text": [
            "For Fuel 1 amount = 28.18, Fuel 2 amount = 5.636, Brake power = 5.2, Heat Input = 19.29693225933333,  Efficiency=26.947288460759978\n",
            "For Fuel 1 amount = 27.43, Fuel 2 amount = 5.486000000000001, Brake power = 5.2, Heat Input = 18.783351734333337,  Efficiency=27.684090004528468\n",
            "For Fuel 1 amount = 26.28, Fuel 2 amount = 5.256, Brake power = 5.2, Heat Input = 17.995861595999997,  Efficiency=28.89553229924719\n",
            "For Fuel 1 amount = 22.041, Fuel 2 amount = 4.4082, Brake power = 5.2, Heat Input = 15.0931044687,  Efficiency=34.45281923797541\n",
            "For Fuel 1 amount = 27.756, Fuel 2 amount = 5.551200000000001, Brake power = 5.2, Heat Input = 19.0065880692,  Efficiency=27.35893460240006\n",
            "For Fuel 1 amount = 26.955, Fuel 2 amount = 5.391, Brake power = 5.2, Heat Input = 18.4580840685,  Efficiency=28.171938001269375\n",
            "For Fuel 1 amount = 22.4, Fuel 2 amount = 4.4799999999999995, Brake power = 5.2, Heat Input = 15.338938346666668,  Efficiency=33.90065128679536\n",
            "For Fuel 1 amount = 23.429, Fuel 2 amount = 4.6857999999999995, Brake power = 5.2, Heat Input = 16.043570826966665,  Efficiency=32.411737113159596\n",
            "For Fuel 1 amount = 28.042, Fuel 2 amount = 5.6084000000000005, Brake power = 5.2, Heat Input = 19.202433442733334,  Efficiency=27.079901177669786\n",
            "For Fuel 1 amount = 24.288, Fuel 2 amount = 4.857600000000001, Brake power = 5.2, Heat Input = 16.6317917216,  Efficiency=31.26542279414592\n",
            "For Fuel 1 amount = 25.298, Fuel 2 amount = 5.0596, Brake power = 5.2, Heat Input = 17.323413495266664,  Efficiency=30.017178781888536\n",
            "For Fuel 1 amount = 30.807, Fuel 2 amount = 6.1614, Brake power = 5.2, Heat Input = 21.095833644899997,  Efficiency=24.64941697744721\n",
            "For Fuel 1 amount = 22.616, Fuel 2 amount = 4.5232, Brake power = 5.2, Heat Input = 15.486849537866664,  Efficiency=33.57687428476371\n",
            "For Fuel 1 amount = 25.935, Fuel 2 amount = 5.187, Brake power = 5.2, Heat Input = 17.7596145545,  Efficiency=29.279914741631618\n",
            "For Fuel 1 amount = 22.008, Fuel 2 amount = 4.4016, Brake power = 5.2, Heat Input = 15.070506925599997,  Efficiency=34.50447968121666\n",
            "For Fuel 1 amount = 23.886, Fuel 2 amount = 4.7772, Brake power = 5.2, Heat Input = 16.3565125602,  Efficiency=31.79161805342946\n",
            "For Fuel 1 amount = 29.072, Fuel 2 amount = 5.8144, Brake power = 5.2, Heat Input = 19.907750697066664,  Efficiency=26.12047980270419\n",
            "For Fuel 1 amount = 24.983, Fuel 2 amount = 4.996600000000001, Brake power = 5.2, Heat Input = 17.107709674766667,  Efficiency=30.39565259673442\n",
            "For Fuel 1 amount = 32.508, Fuel 2 amount = 6.501600000000001, Brake power = 5.2, Heat Input = 22.2606342756,  Efficiency=23.359621903045895\n",
            "For Fuel 1 amount = 27.12, Fuel 2 amount = 5.424, Brake power = 5.2, Heat Input = 18.571071784,  Efficiency=28.000537935996167\n",
            "For Fuel 1 amount = 25.935, Fuel 2 amount = 5.187, Brake power = 5.2, Heat Input = 17.7596145545,  Efficiency=29.279914741631618\n"
          ]
        }
      ]
    },
    {
      "cell_type": "markdown",
      "source": [
        "COCO30"
      ],
      "metadata": {
        "id": "_Y0oWfM6kS_V"
      }
    },
    {
      "cell_type": "code",
      "source": [
        "#COCO 30\n",
        "fuel_1_range = [16.46,20.11,28.18,18.05,20.49,27.43,41.24,12.81,19.13,8.91,8.37,26.28,33.83,17.658,22.041,27.756,26.955,15.264,18.224,22.4,16.912,18.648,23.429,9.324,11.994,14.682,17.604,21.522,6.909,17.094,20.86,28.042,35.945,13.992,15.432,19.744,24.288,17.776,10.346,12.936,17.85,25.298,30.807,18.891,20.421,12.504,14.92,19.432,22.616,20.848,10.143,12.621,15.365,20.958,10.528,13.944,11.277,12.978,17.031,25.935,11.416,13.968,16.656,9.555,11.963,14.924,20.972,22.008,19.053,23.886,33.264,4.936,12.936,19.376,10.843,12.117,13.272,12.488,16.48,20.584,29.072,10.409,12.425,16.268,24.983,32.508,12.424,14.88,18.272,27.12,11.375,13.811,16.954,25.935]  # Values from 1 to 60 (inclusive)\n",
        "fuel_2_range=[]\n",
        "for i in fuel_1_range:\n",
        "  fuel_2_range.append(i*0.3)\n",
        " # Values from 1 to 40 (inclusive)\n",
        "calorific_value1 = 35800\n",
        "brake_power = 5.2\n",
        "density1 = 958\n",
        "density2=915.1\n",
        "calorific_value2=37100\n",
        "# Assuming you have the formulas defined as functions, for example:\n",
        "def predict_efficiency(fuel_amount_1, fuel_amount_2, calorific_value1,calorific_value2, brake_power, density1,density2):\n",
        "    # Your formula to calculate efficiency based on the given inputs\n",
        "    mass_of_fuel1 = ((fuel_amount_1  * 0.000001) / 60) * density1\n",
        "    mass_of_fuel2=((fuel_amount_2  * 0.000001) / 60) * density2\n",
        "    heat_input = mass_of_fuel1 * calorific_value1 + mass_of_fuel2 * calorific_value2\n",
        "    efficiency = brake_power / heat_input\n",
        "    return heat_input\n",
        "    # Limit efficiency to a maximum value of 32\n",
        "    efficiency = min(efficiency, 32)\n",
        "\n",
        "    return efficiency\n",
        "\n",
        "# List to store combinations that meet the efficiency criteria\n",
        "efficient_combinations = []\n",
        "\n",
        "# Loop through all combinations of fuel_1 and fuel_2\n",
        "for fuel_amount_1 in fuel_1_range:\n",
        "      # Use the formula-based prediction function to get efficiency\n",
        "      predicted_efficiency = predict_efficiency(fuel_amount_1, fuel_amount_1*0.3, calorific_value1,calorific_value2 ,brake_power,density1,density2)\n",
        "      \"\"\"if 23 <= predicted_efficiency <= 32:\"\"\"\n",
        "      efficient_combinations.append((fuel_amount_1, fuel_amount_1*0.3, predicted_efficiency))\n",
        "\n",
        "# Print the combinations that meet the efficiency criteria\n",
        "if efficient_combinations:\n",
        "    for fuel_amount_1, fuel_amount_2, predicted_efficiency in efficient_combinations:\n",
        "        eff=(brake_power/predicted_efficiency)*100\n",
        "        if eff>=23 and eff<=35:\n",
        "          print(f\"For Fuel 1 amount = {fuel_amount_1}, Fuel 2 amount = {fuel_amount_2}, \"\n",
        "                f\"Brake power = {brake_power}, \"\n",
        "                f\"Heat Input = {predicted_efficiency}, \",f\"Efficiency={eff}\")\n",
        "\n",
        "else:\n",
        "    print(\"No combinations meet the efficiency criteria.\")"
      ],
      "metadata": {
        "colab": {
          "base_uri": "https://localhost:8080/"
        },
        "id": "VA6JM2-RkShT",
        "outputId": "9737818a-69aa-44b1-d6b5-579d7a493b27"
      },
      "execution_count": null,
      "outputs": [
        {
          "output_type": "stream",
          "name": "stdout",
          "text": [
            "For Fuel 1 amount = 20.11, Fuel 2 amount = 6.0329999999999995, Brake power = 5.2, Heat Input = 14.908703682166665,  Efficiency=34.87895467544963\n",
            "For Fuel 1 amount = 28.18, Fuel 2 amount = 8.453999999999999, Brake power = 5.2, Heat Input = 20.891460455666664,  Efficiency=24.890552821976293\n",
            "For Fuel 1 amount = 20.49, Fuel 2 amount = 6.146999999999999, Brake power = 5.2, Heat Input = 15.190419614499998,  Efficiency=34.23210241694934\n",
            "For Fuel 1 amount = 27.43, Fuel 2 amount = 8.229, Brake power = 5.2, Heat Input = 20.33544216816667,  Efficiency=25.571118429576806\n",
            "For Fuel 1 amount = 26.28, Fuel 2 amount = 7.884, Brake power = 5.2, Heat Input = 19.482880794,  Efficiency=26.690098117324652\n",
            "For Fuel 1 amount = 22.041, Fuel 2 amount = 6.6123, Brake power = 5.2, Heat Input = 16.34026543305,  Efficiency=31.823228461652914\n",
            "For Fuel 1 amount = 27.756, Fuel 2 amount = 8.3268, Brake power = 5.2, Heat Input = 20.5771247838,  Efficiency=25.2707803186083\n",
            "For Fuel 1 amount = 26.955, Fuel 2 amount = 8.0865, Brake power = 5.2, Heat Input = 19.98329725275,  Efficiency=26.02173172039666\n",
            "For Fuel 1 amount = 22.4, Fuel 2 amount = 6.72, Brake power = 5.2, Heat Input = 16.60641285333333,  Efficiency=31.313204398361243\n",
            "For Fuel 1 amount = 23.429, Fuel 2 amount = 7.0287, Brake power = 5.2, Heat Input = 17.369269943783333,  Efficiency=29.937930706530018\n",
            "For Fuel 1 amount = 21.522, Fuel 2 amount = 6.456599999999999, Brake power = 5.2, Heat Input = 15.955500778099996,  Efficiency=32.590641135735154\n",
            "For Fuel 1 amount = 20.86, Fuel 2 amount = 6.258, Brake power = 5.2, Heat Input = 15.464721969666668,  Efficiency=33.624917474750326\n",
            "For Fuel 1 amount = 28.042, Fuel 2 amount = 8.4126, Brake power = 5.2, Heat Input = 20.789153090766664,  Efficiency=25.013043952759855\n",
            "For Fuel 1 amount = 24.288, Fuel 2 amount = 7.2863999999999995, Brake power = 5.2, Heat Input = 18.006096222399997,  Efficiency=28.879108140781124\n",
            "For Fuel 1 amount = 25.298, Fuel 2 amount = 7.5893999999999995, Brake power = 5.2, Heat Input = 18.75486751623333,  Efficiency=27.72613560452573\n",
            "For Fuel 1 amount = 20.421, Fuel 2 amount = 6.1263, Brake power = 5.2, Heat Input = 15.139265932049998,  Efficiency=34.34776840131688\n",
            "For Fuel 1 amount = 22.616, Fuel 2 amount = 6.7848, Brake power = 5.2, Heat Input = 16.76654612013333,  Efficiency=31.014139481928364\n",
            "For Fuel 1 amount = 20.848, Fuel 2 amount = 6.2543999999999995, Brake power = 5.2, Heat Input = 15.455825677066663,  Efficiency=33.64427180176957\n",
            "For Fuel 1 amount = 20.958, Fuel 2 amount = 6.287399999999999, Brake power = 5.2, Heat Input = 15.537375025900001,  Efficiency=33.467686731715425\n",
            "For Fuel 1 amount = 25.935, Fuel 2 amount = 7.780499999999999, Brake power = 5.2, Heat Input = 19.22711238175,  Efficiency=27.04514280020404\n",
            "For Fuel 1 amount = 20.972, Fuel 2 amount = 6.2916, Brake power = 5.2, Heat Input = 15.547754033933334,  Efficiency=33.445345151787706\n",
            "For Fuel 1 amount = 22.008, Fuel 2 amount = 6.602399999999999, Brake power = 5.2, Heat Input = 16.315800628399998,  Efficiency=31.870945952530533\n",
            "For Fuel 1 amount = 23.886, Fuel 2 amount = 7.1658, Brake power = 5.2, Heat Input = 17.708070420299997,  Efficiency=29.365141862316502\n",
            "For Fuel 1 amount = 20.584, Fuel 2 amount = 6.175199999999999, Brake power = 5.2, Heat Input = 15.260107239866667,  Efficiency=34.075776259390395\n",
            "For Fuel 1 amount = 29.072, Fuel 2 amount = 8.721599999999999, Brake power = 5.2, Heat Input = 21.55275153893333,  Efficiency=24.126849839133598\n",
            "For Fuel 1 amount = 24.983, Fuel 2 amount = 7.4948999999999995, Brake power = 5.2, Heat Input = 18.52133983548333,  Efficiency=28.075722632321654\n",
            "For Fuel 1 amount = 27.12, Fuel 2 amount = 8.136, Brake power = 5.2, Heat Input = 20.105621276,  Efficiency=25.863413662363264\n",
            "For Fuel 1 amount = 25.935, Fuel 2 amount = 7.780499999999999, Brake power = 5.2, Heat Input = 19.22711238175,  Efficiency=27.04514280020404\n"
          ]
        }
      ]
    },
    {
      "cell_type": "markdown",
      "source": [
        "COCO 40"
      ],
      "metadata": {
        "id": "L-6jkUWQkcgW"
      }
    },
    {
      "cell_type": "code",
      "source": [
        "#COCO 40\n",
        "fuel_1_range = [16.46,20.11,28.18,18.05,20.49,27.43,41.24,12.81,19.13,8.91,8.37,26.28,33.83,17.658,22.041,27.756,26.955,15.264,18.224,22.4,16.912,18.648,23.429,9.324,11.994,14.682,17.604,21.522,6.909,17.094,20.86,28.042,35.945,13.992,15.432,19.744,24.288,17.776,10.346,12.936,17.85,25.298,30.807,18.891,20.421,12.504,14.92,19.432,22.616,20.848,10.143,12.621,15.365,20.958,10.528,13.944,11.277,12.978,17.031,25.935,11.416,13.968,16.656,9.555,11.963,14.924,20.972,22.008,19.053,23.886,33.264,4.936,12.936,19.376,10.843,12.117,13.272,12.488,16.48,20.584,29.072,10.409,12.425,16.268,24.983,32.508,12.424,14.88,18.272,27.12,11.375,13.811,16.954,25.935]  # Values from 1 to 60 (inclusive)\n",
        "fuel_2_range=[]\n",
        "for i in fuel_1_range:\n",
        "  fuel_2_range.append(i*0.4)\n",
        " # Values from 1 to 40 (inclusive)\n",
        "calorific_value1 = 35800\n",
        "brake_power = 5.2\n",
        "density1 = 958\n",
        "density2=915.1\n",
        "calorific_value2=37100\n",
        "# Assuming you have the formulas defined as functions, for example:\n",
        "def predict_efficiency(fuel_amount_1, fuel_amount_2, calorific_value1,calorific_value2, brake_power, density1,density2):\n",
        "    # Your formula to calculate efficiency based on the given inputs\n",
        "    mass_of_fuel1 = ((fuel_amount_1  * 0.000001) / 60) * density1\n",
        "    mass_of_fuel2=((fuel_amount_2  * 0.000001) / 60) * density2\n",
        "    heat_input = mass_of_fuel1 * calorific_value1 + mass_of_fuel2 * calorific_value2\n",
        "    efficiency = brake_power / heat_input\n",
        "    return heat_input\n",
        "    # Limit efficiency to a maximum value of 32\n",
        "    efficiency = min(efficiency, 32)\n",
        "\n",
        "    return efficiency\n",
        "\n",
        "# List to store combinations that meet the efficiency criteria\n",
        "efficient_combinations = []\n",
        "\n",
        "# Loop through all combinations of fuel_1 and fuel_2\n",
        "for fuel_amount_1 in fuel_1_range:\n",
        "      # Use the formula-based prediction function to get efficiency\n",
        "      predicted_efficiency = predict_efficiency(fuel_amount_1, fuel_amount_1*0.4, calorific_value1,calorific_value2 ,brake_power,density1,density2)\n",
        "      \"\"\"if 23 <= predicted_efficiency <= 32:\"\"\"\n",
        "      efficient_combinations.append((fuel_amount_1, fuel_amount_1*0.4, predicted_efficiency))\n",
        "\n",
        "# Print the combinations that meet the efficiency criteria\n",
        "if efficient_combinations:\n",
        "    for fuel_amount_1, fuel_amount_2, predicted_efficiency in efficient_combinations:\n",
        "        eff=(brake_power/predicted_efficiency)*100\n",
        "        if eff>=23 and eff<=35:\n",
        "          print(f\"For Fuel 1 amount = {fuel_amount_1}, Fuel 2 amount = {fuel_amount_2}, \"\n",
        "                f\"Brake power = {brake_power}, \"\n",
        "                f\"Heat Input = {predicted_efficiency}, \",f\"Efficiency={eff}\")\n",
        "\n",
        "else:\n",
        "    print(\"No combinations meet the efficiency criteria.\")"
      ],
      "metadata": {
        "colab": {
          "base_uri": "https://localhost:8080/"
        },
        "id": "-8crSUtukdi3",
        "outputId": "e6bf93b1-ebfc-4ca0-994f-af6727145ba1"
      },
      "execution_count": null,
      "outputs": [
        {
          "output_type": "stream",
          "name": "stdout",
          "text": [
            "For Fuel 1 amount = 20.11, Fuel 2 amount = 8.044, Brake power = 5.2, Heat Input = 16.046601554,  Efficiency=32.40561549746822\n",
            "For Fuel 1 amount = 28.18, Fuel 2 amount = 11.272, Brake power = 5.2, Heat Input = 22.485988651999996,  Efficiency=23.125511982047055\n",
            "For Fuel 1 amount = 20.49, Fuel 2 amount = 8.196, Brake power = 5.2, Heat Input = 16.349819286,  Efficiency=31.80463287721259\n",
            "For Fuel 1 amount = 27.43, Fuel 2 amount = 10.972000000000001, Brake power = 5.2, Heat Input = 21.887532602000004,  Efficiency=23.757817267739185\n",
            "For Fuel 1 amount = 19.13, Fuel 2 amount = 7.652, Brake power = 5.2, Heat Input = 15.264618982,  Efficiency=34.065704529748345\n",
            "For Fuel 1 amount = 26.28, Fuel 2 amount = 10.512, Brake power = 5.2, Heat Input = 20.969899992,  Efficiency=24.797447779835842\n",
            "For Fuel 1 amount = 22.041, Fuel 2 amount = 8.8164, Brake power = 5.2, Heat Input = 17.5874263974,  Efficiency=29.566577181347753\n",
            "For Fuel 1 amount = 27.756, Fuel 2 amount = 11.102400000000001, Brake power = 5.2, Heat Input = 22.147661498399998,  Efficiency=23.47877675652421\n",
            "For Fuel 1 amount = 26.955, Fuel 2 amount = 10.782, Brake power = 5.2, Heat Input = 21.508510436999998,  Efficiency=24.17647663342927\n",
            "For Fuel 1 amount = 22.4, Fuel 2 amount = 8.959999999999999, Brake power = 5.2, Heat Input = 17.87388736,  Efficiency=29.0927199845574\n",
            "For Fuel 1 amount = 18.648, Fuel 2 amount = 7.4592, Brake power = 5.2, Heat Input = 14.8800112272,  Efficiency=34.94621019166055\n",
            "For Fuel 1 amount = 23.429, Fuel 2 amount = 9.371599999999999, Brake power = 5.2, Heat Input = 18.6949690606,  Efficiency=27.814969808958384\n",
            "For Fuel 1 amount = 21.522, Fuel 2 amount = 8.6088, Brake power = 5.2, Heat Input = 17.173294810799998,  Efficiency=30.279571027510734\n",
            "For Fuel 1 amount = 20.86, Fuel 2 amount = 8.344, Brake power = 5.2, Heat Input = 16.645057604,  Efficiency=31.240504681403923\n",
            "For Fuel 1 amount = 28.042, Fuel 2 amount = 11.216800000000001, Brake power = 5.2, Heat Input = 22.3758727388,  Efficiency=23.239317012127735\n",
            "For Fuel 1 amount = 19.744, Fuel 2 amount = 7.897600000000001, Brake power = 5.2, Heat Input = 15.7545550016,  Efficiency=33.00632737307971\n",
            "For Fuel 1 amount = 24.288, Fuel 2 amount = 9.715200000000001, Brake power = 5.2, Heat Input = 19.3804007232,  Efficiency=26.831230552292734\n",
            "For Fuel 1 amount = 25.298, Fuel 2 amount = 10.1192, Brake power = 5.2, Heat Input = 20.186321537199998,  Efficiency=25.760017695236222\n",
            "For Fuel 1 amount = 18.891, Fuel 2 amount = 7.5564, Brake power = 5.2, Heat Input = 15.073910987399998,  Efficiency=34.49668771658917\n",
            "For Fuel 1 amount = 20.421, Fuel 2 amount = 8.1684, Brake power = 5.2, Heat Input = 16.2947613294,  Efficiency=31.91209674619685\n",
            "For Fuel 1 amount = 19.432, Fuel 2 amount = 7.7728, Brake power = 5.2, Heat Input = 15.505597284799999,  Efficiency=33.53627663925926\n",
            "For Fuel 1 amount = 22.616, Fuel 2 amount = 9.0464, Brake power = 5.2, Heat Input = 18.0462427024,  Efficiency=28.81486238300698\n",
            "For Fuel 1 amount = 20.848, Fuel 2 amount = 8.3392, Brake power = 5.2, Heat Input = 16.635482307199997,  Efficiency=31.258486552862912\n",
            "For Fuel 1 amount = 20.958, Fuel 2 amount = 8.3832, Brake power = 5.2, Heat Input = 16.723255861200002,  Efficiency=31.094423497188938\n",
            "For Fuel 1 amount = 25.935, Fuel 2 amount = 10.374, Brake power = 5.2, Heat Input = 20.694610209,  Efficiency=25.127315506230417\n",
            "For Fuel 1 amount = 20.972, Fuel 2 amount = 8.388800000000002, Brake power = 5.2, Heat Input = 16.734427040800004,  Efficiency=31.073666205134742\n",
            "For Fuel 1 amount = 22.008, Fuel 2 amount = 8.8032, Brake power = 5.2, Heat Input = 17.561094331199996,  Efficiency=29.610910925758184\n",
            "For Fuel 1 amount = 19.053, Fuel 2 amount = 7.621200000000001, Brake power = 5.2, Heat Input = 15.203177494199998,  Efficiency=34.20337624804944\n",
            "For Fuel 1 amount = 23.886, Fuel 2 amount = 9.5544, Brake power = 5.2, Heat Input = 19.0596282804,  Efficiency=27.28279861232881\n",
            "For Fuel 1 amount = 19.376, Fuel 2 amount = 7.750400000000001, Brake power = 5.2, Heat Input = 15.4609125664,  Efficiency=33.63320229428602\n",
            "For Fuel 1 amount = 20.584, Fuel 2 amount = 8.233600000000001, Brake power = 5.2, Heat Input = 16.4248257776,  Efficiency=31.65939213243713\n",
            "For Fuel 1 amount = 24.983, Fuel 2 amount = 9.993200000000002, Brake power = 5.2, Heat Input = 19.934969996200003,  Efficiency=26.08481478021398\n",
            "For Fuel 1 amount = 27.12, Fuel 2 amount = 10.848, Brake power = 5.2, Heat Input = 21.640170768,  Efficiency=24.029385237982517\n",
            "For Fuel 1 amount = 25.935, Fuel 2 amount = 10.374, Brake power = 5.2, Heat Input = 20.694610209,  Efficiency=25.127315506230417\n"
          ]
        }
      ]
    },
    {
      "cell_type": "markdown",
      "source": [
        "COT 10"
      ],
      "metadata": {
        "id": "mkNGmQjUkidz"
      }
    },
    {
      "cell_type": "code",
      "source": [
        "#COT 10\n",
        "fuel_1_range = [16.46,20.11,28.18,18.05,20.49,27.43,41.24,12.81,19.13,8.91,8.37,26.28,33.83,17.658,22.041,27.756,26.955,15.264,18.224,22.4,16.912,18.648,23.429,9.324,11.994,14.682,17.604,21.522,6.909,17.094,20.86,28.042,35.945,13.992,15.432,19.744,24.288,17.776,10.346,12.936,17.85,25.298,30.807,18.891,20.421,12.504,14.92,19.432,22.616,20.848,10.143,12.621,15.365,20.958,10.528,13.944,11.277,12.978,17.031,25.935,11.416,13.968,16.656,9.555,11.963,14.924,20.972,22.008,19.053,23.886,33.264,4.936,12.936,19.376,10.843,12.117,13.272,12.488,16.48,20.584,29.072,10.409,12.425,16.268,24.983,32.508,12.424,14.88,18.272,27.12,11.375,13.811,16.954,25.935]  # Values from 1 to 60 (inclusive)\n",
        "fuel_2_range=[]\n",
        "for i in fuel_1_range:\n",
        "  fuel_2_range.append(i*0.1)\n",
        " # Values from 1 to 40 (inclusive)\n",
        "calorific_value1 = 35800\n",
        "brake_power = 5.2\n",
        "density1 = 958\n",
        "density2=909.8\n",
        "calorific_value2=40400\n",
        "# Assuming you have the formulas defined as functions, for example:\n",
        "def predict_efficiency(fuel_amount_1, fuel_amount_2, calorific_value1,calorific_value2, brake_power, density1,density2):\n",
        "    # Your formula to calculate efficiency based on the given inputs\n",
        "    mass_of_fuel1 = ((fuel_amount_1  * 0.000001) / 60) * density1\n",
        "    mass_of_fuel2=((fuel_amount_2  * 0.000001) / 60) * density2\n",
        "    heat_input = mass_of_fuel1 * calorific_value1 + mass_of_fuel2 * calorific_value2\n",
        "    efficiency = brake_power / heat_input\n",
        "    return heat_input\n",
        "    # Limit efficiency to a maximum value of 32\n",
        "    efficiency = min(efficiency, 32)\n",
        "\n",
        "    return efficiency\n",
        "\n",
        "# List to store combinations that meet the efficiency criteria\n",
        "efficient_combinations = []\n",
        "\n",
        "# Loop through all combinations of fuel_1 and fuel_2\n",
        "for fuel_amount_1 in fuel_1_range:\n",
        "      # Use the formula-based prediction function to get efficiency\n",
        "      predicted_efficiency = predict_efficiency(fuel_amount_1, fuel_amount_1*0.1, calorific_value1,calorific_value2 ,brake_power,density1,density2)\n",
        "      \"\"\"if 23 <= predicted_efficiency <= 32:\"\"\"\n",
        "      efficient_combinations.append((fuel_amount_1, fuel_amount_1*0.1, predicted_efficiency))\n",
        "\n",
        "# Print the combinations that meet the efficiency criteria\n",
        "if efficient_combinations:\n",
        "    for fuel_amount_1, fuel_amount_2, predicted_efficiency in efficient_combinations:\n",
        "        eff=(brake_power/predicted_efficiency)*100\n",
        "        if eff>=23 and eff<=35:\n",
        "          print(f\"For Fuel 1 amount = {fuel_amount_1}, Fuel 2 amount = {fuel_amount_2}, \"\n",
        "                f\"Brake power = {brake_power}, \"\n",
        "                f\"Heat Input = {predicted_efficiency}, \",f\"Efficiency={eff}\")\n",
        "\n",
        "else:\n",
        "    print(\"No combinations meet the efficiency criteria.\")"
      ],
      "metadata": {
        "colab": {
          "base_uri": "https://localhost:8080/"
        },
        "id": "A9DCUAuXkuYA",
        "outputId": "4f1fe11b-9912-47cb-cdf9-715a0cc655d4"
      },
      "execution_count": null,
      "outputs": [
        {
          "output_type": "stream",
          "name": "stdout",
          "text": [
            "For Fuel 1 amount = 28.18, Fuel 2 amount = 2.818, Brake power = 5.2, Heat Input = 17.834178909333332,  Efficiency=29.157495988103125\n",
            "For Fuel 1 amount = 27.43, Fuel 2 amount = 2.7430000000000003, Brake power = 5.2, Heat Input = 17.359529009333336,  Efficiency=29.954729746436232\n",
            "For Fuel 1 amount = 26.28, Fuel 2 amount = 2.628, Brake power = 5.2, Heat Input = 16.631732495999998,  Efficiency=31.265534130317583\n",
            "For Fuel 1 amount = 33.83, Fuel 2 amount = 3.383, Brake power = 5.2, Heat Input = 21.409874822666666,  Efficiency=24.28785802378794\n",
            "For Fuel 1 amount = 27.756, Fuel 2 amount = 2.7756000000000003, Brake power = 5.2, Heat Input = 17.5658434992,  Efficiency=29.60290520769369\n",
            "For Fuel 1 amount = 26.955, Fuel 2 amount = 2.6955, Brake power = 5.2, Heat Input = 17.058917406,  Efficiency=30.482590871628496\n",
            "For Fuel 1 amount = 28.042, Fuel 2 amount = 2.8042000000000002, Brake power = 5.2, Heat Input = 17.74684332773333,  Efficiency=29.30098555540782\n",
            "For Fuel 1 amount = 24.288, Fuel 2 amount = 2.4288000000000003, Brake power = 5.2, Heat Input = 15.3710623616,  Efficiency=33.829802245748766\n",
            "For Fuel 1 amount = 25.298, Fuel 2 amount = 2.5298, Brake power = 5.2, Heat Input = 16.010257560266663,  Efficiency=32.47917767984608\n",
            "For Fuel 1 amount = 30.807, Fuel 2 amount = 3.0807, Brake power = 5.2, Heat Input = 19.496719292399995,  Efficiency=26.671153859341914\n",
            "For Fuel 1 amount = 25.935, Fuel 2 amount = 2.5935, Brake power = 5.2, Heat Input = 16.413393541999998,  Efficiency=31.681443491218282\n",
            "For Fuel 1 amount = 23.886, Fuel 2 amount = 2.3886, Brake power = 5.2, Heat Input = 15.116650015199998,  Efficiency=34.399155863047234\n",
            "For Fuel 1 amount = 33.264, Fuel 2 amount = 3.3264000000000005, Brake power = 5.2, Heat Input = 21.051672364799998,  Efficiency=24.70112544927688\n",
            "For Fuel 1 amount = 29.072, Fuel 2 amount = 2.9072, Brake power = 5.2, Heat Input = 18.398695857066663,  Efficiency=28.26287276227113\n",
            "For Fuel 1 amount = 24.983, Fuel 2 amount = 2.4983000000000004, Brake power = 5.2, Heat Input = 15.810904602266667,  Efficiency=32.888693789566744\n",
            "For Fuel 1 amount = 32.508, Fuel 2 amount = 3.2508000000000004, Brake power = 5.2, Heat Input = 20.5732252656,  Efficiency=25.275570227167037\n",
            "For Fuel 1 amount = 27.12, Fuel 2 amount = 2.712, Brake power = 5.2, Heat Input = 17.163340384,  Efficiency=30.297132630705974\n",
            "For Fuel 1 amount = 25.935, Fuel 2 amount = 2.5935, Brake power = 5.2, Heat Input = 16.413393541999998,  Efficiency=31.681443491218282\n"
          ]
        }
      ]
    },
    {
      "cell_type": "markdown",
      "source": [
        "COT 20"
      ],
      "metadata": {
        "id": "sh5Tww3jk7gC"
      }
    },
    {
      "cell_type": "code",
      "source": [
        "#COT 20\n",
        "fuel_1_range = [16.46,20.11,28.18,18.05,20.49,27.43,41.24,12.81,19.13,8.91,8.37,26.28,33.83,17.658,22.041,27.756,26.955,15.264,18.224,22.4,16.912,18.648,23.429,9.324,11.994,14.682,17.604,21.522,6.909,17.094,20.86,28.042,35.945,13.992,15.432,19.744,24.288,17.776,10.346,12.936,17.85,25.298,30.807,18.891,20.421,12.504,14.92,19.432,22.616,20.848,10.143,12.621,15.365,20.958,10.528,13.944,11.277,12.978,17.031,25.935,11.416,13.968,16.656,9.555,11.963,14.924,20.972,22.008,19.053,23.886,33.264,4.936,12.936,19.376,10.843,12.117,13.272,12.488,16.48,20.584,29.072,10.409,12.425,16.268,24.983,32.508,12.424,14.88,18.272,27.12,11.375,13.811,16.954,25.935]  # Values from 1 to 60 (inclusive)\n",
        "fuel_2_range=[]\n",
        "for i in fuel_1_range:\n",
        "  fuel_2_range.append(i*0.2)\n",
        " # Values from 1 to 40 (inclusive)\n",
        "calorific_value1 = 35800\n",
        "brake_power = 5.2\n",
        "density1 = 958\n",
        "density2=909.8\n",
        "calorific_value2=40400\n",
        "# Assuming you have the formulas defined as functions, for example:\n",
        "def predict_efficiency(fuel_amount_1, fuel_amount_2, calorific_value1,calorific_value2, brake_power, density1,density2):\n",
        "    # Your formula to calculate efficiency based on the given inputs\n",
        "    mass_of_fuel1 = ((fuel_amount_1  * 0.000001) / 60) * density1\n",
        "    mass_of_fuel2=((fuel_amount_2  * 0.000001) / 60) * density2\n",
        "    heat_input = mass_of_fuel1 * calorific_value1 + mass_of_fuel2 * calorific_value2\n",
        "    efficiency = brake_power / heat_input\n",
        "    return heat_input\n",
        "    # Limit efficiency to a maximum value of 32\n",
        "    efficiency = min(efficiency, 32)\n",
        "\n",
        "    return efficiency\n",
        "\n",
        "# List to store combinations that meet the efficiency criteria\n",
        "efficient_combinations = []\n",
        "\n",
        "# Loop through all combinations of fuel_1 and fuel_2\n",
        "for fuel_amount_1 in fuel_1_range:\n",
        "      # Use the formula-based prediction function to get efficiency\n",
        "      predicted_efficiency = predict_efficiency(fuel_amount_1, fuel_amount_1*0.2, calorific_value1,calorific_value2 ,brake_power,density1,density2)\n",
        "      \"\"\"if 23 <= predicted_efficiency <= 32:\"\"\"\n",
        "      efficient_combinations.append((fuel_amount_1, fuel_amount_1*0.2, predicted_efficiency))\n",
        "\n",
        "# Print the combinations that meet the efficiency criteria\n",
        "if efficient_combinations:\n",
        "    for fuel_amount_1, fuel_amount_2, predicted_efficiency in efficient_combinations:\n",
        "        eff=(brake_power/predicted_efficiency)*100\n",
        "        if eff>=23 and eff<=35:\n",
        "          print(f\"For Fuel 1 amount = {fuel_amount_1}, Fuel 2 amount = {fuel_amount_2}, \"\n",
        "                f\"Brake power = {brake_power}, \"\n",
        "                f\"Heat Input = {predicted_efficiency}, \",f\"Efficiency={eff}\")\n",
        "\n",
        "else:\n",
        "    print(\"No combinations meet the efficiency criteria.\")"
      ],
      "metadata": {
        "id": "RBrrOQwCk83w",
        "colab": {
          "base_uri": "https://localhost:8080/"
        },
        "outputId": "e8ae1fea-df61-4666-d4e1-a2df66ad3296"
      },
      "execution_count": null,
      "outputs": [
        {
          "output_type": "stream",
          "name": "stdout",
          "text": [
            "For Fuel 1 amount = 28.18, Fuel 2 amount = 5.636, Brake power = 5.2, Heat Input = 19.560481951999996,  Efficiency=26.584212049378042\n",
            "For Fuel 1 amount = 27.43, Fuel 2 amount = 5.486000000000001, Brake power = 5.2, Heat Input = 19.039887152000002,  Efficiency=27.311086239572475\n",
            "For Fuel 1 amount = 26.28, Fuel 2 amount = 5.256, Brake power = 5.2, Heat Input = 18.241641792,  Efficiency=28.506206071212826\n",
            "For Fuel 1 amount = 22.041, Fuel 2 amount = 4.4082, Brake power = 5.2, Heat Input = 15.2992399824,  Efficiency=33.98861646710554\n",
            "For Fuel 1 amount = 27.756, Fuel 2 amount = 5.551200000000001, Brake power = 5.2, Heat Input = 19.2661723584,  Efficiency=26.990311844338994\n",
            "For Fuel 1 amount = 26.955, Fuel 2 amount = 5.391, Brake power = 5.2, Heat Input = 18.710177112,  Efficiency=27.792361177943725\n",
            "For Fuel 1 amount = 22.4, Fuel 2 amount = 4.4799999999999995, Brake power = 5.2, Heat Input = 15.54843136,  Efficiency=33.443888194262186\n",
            "For Fuel 1 amount = 23.429, Fuel 2 amount = 4.6857999999999995, Brake power = 5.2, Heat Input = 16.2626874256,  Efficiency=31.975035022897824\n",
            "For Fuel 1 amount = 21.522, Fuel 2 amount = 4.3044, Brake power = 5.2, Heat Input = 14.938988380799998,  Efficiency=34.80824716808257\n",
            "For Fuel 1 amount = 28.042, Fuel 2 amount = 5.6084000000000005, Brake power = 5.2, Heat Input = 19.4646925088,  Efficiency=26.715037998412132\n",
            "For Fuel 1 amount = 24.288, Fuel 2 amount = 4.857600000000001, Brake power = 5.2, Heat Input = 16.8589420032,  Efficiency=30.84416566005736\n",
            "For Fuel 1 amount = 25.298, Fuel 2 amount = 5.0596, Brake power = 5.2, Heat Input = 17.560009667199996,  Efficiency=29.612739961715285\n",
            "For Fuel 1 amount = 30.807, Fuel 2 amount = 6.1614, Brake power = 5.2, Heat Input = 21.383952004799994,  Efficiency=24.31730111830017\n",
            "For Fuel 1 amount = 22.616, Fuel 2 amount = 4.5232, Brake power = 5.2, Heat Input = 15.698362662399997,  Efficiency=33.12447362714332\n",
            "For Fuel 1 amount = 25.935, Fuel 2 amount = 5.187, Brake power = 5.2, Heat Input = 18.002168184,  Efficiency=28.885409506515252\n",
            "For Fuel 1 amount = 22.008, Fuel 2 amount = 4.4016, Brake power = 5.2, Heat Input = 15.276333811199997,  Efficiency=34.039580859299946\n",
            "For Fuel 1 amount = 23.886, Fuel 2 amount = 4.7772, Brake power = 5.2, Heat Input = 16.579903190399996,  Efficiency=31.363271186112087\n",
            "For Fuel 1 amount = 29.072, Fuel 2 amount = 5.8144, Brake power = 5.2, Heat Input = 20.1796427008,  Efficiency=25.768543462832728\n",
            "For Fuel 1 amount = 24.983, Fuel 2 amount = 4.996600000000001, Brake power = 5.2, Heat Input = 17.3413598512,  Efficiency=29.986114379837215\n",
            "For Fuel 1 amount = 32.508, Fuel 2 amount = 6.501600000000001, Brake power = 5.2, Heat Input = 22.564661011200002,  Efficiency=23.044884199319338\n",
            "For Fuel 1 amount = 27.12, Fuel 2 amount = 5.424, Brake power = 5.2, Heat Input = 18.824707968000002,  Efficiency=27.62327048493632\n",
            "For Fuel 1 amount = 25.935, Fuel 2 amount = 5.187, Brake power = 5.2, Heat Input = 18.002168184,  Efficiency=28.885409506515252\n"
          ]
        }
      ]
    },
    {
      "cell_type": "markdown",
      "source": [
        "COT 30"
      ],
      "metadata": {
        "id": "IyL8H9TklFCO"
      }
    },
    {
      "cell_type": "code",
      "source": [
        "#COT 30\n",
        "fuel_1_range = [16.46,20.11,28.18,18.05,20.49,27.43,41.24,12.81,19.13,8.91,8.37,26.28,33.83,17.658,22.041,27.756,26.955,15.264,18.224,22.4,16.912,18.648,23.429,9.324,11.994,14.682,17.604,21.522,6.909,17.094,20.86,28.042,35.945,13.992,15.432,19.744,24.288,17.776,10.346,12.936,17.85,25.298,30.807,18.891,20.421,12.504,14.92,19.432,22.616,20.848,10.143,12.621,15.365,20.958,10.528,13.944,11.277,12.978,17.031,25.935,11.416,13.968,16.656,9.555,11.963,14.924,20.972,22.008,19.053,23.886,33.264,4.936,12.936,19.376,10.843,12.117,13.272,12.488,16.48,20.584,29.072,10.409,12.425,16.268,24.983,32.508,12.424,14.88,18.272,27.12,11.375,13.811,16.954,25.935]  # Values from 1 to 60 (inclusive)\n",
        "fuel_2_range=[]\n",
        "for i in fuel_1_range:\n",
        "  fuel_2_range.append(i*0.3)\n",
        " # Values from 1 to 40 (inclusive)\n",
        "calorific_value1 = 35800\n",
        "brake_power = 5.2\n",
        "density1 = 958\n",
        "density2=909.8\n",
        "calorific_value2=40400\n",
        "# Assuming you have the formulas defined as functions, for example:\n",
        "def predict_efficiency(fuel_amount_1, fuel_amount_2, calorific_value1,calorific_value2, brake_power, density1,density2):\n",
        "    # Your formula to calculate efficiency based on the given inputs\n",
        "    mass_of_fuel1 = ((fuel_amount_1  * 0.000001) / 60) * density1\n",
        "    mass_of_fuel2=((fuel_amount_2  * 0.000001) / 60) * density2\n",
        "    heat_input = mass_of_fuel1 * calorific_value1 + mass_of_fuel2 * calorific_value2\n",
        "    efficiency = brake_power / heat_input\n",
        "    return heat_input\n",
        "    # Limit efficiency to a maximum value of 32\n",
        "    efficiency = min(efficiency, 32)\n",
        "\n",
        "    return efficiency\n",
        "\n",
        "# List to store combinations that meet the efficiency criteria\n",
        "efficient_combinations = []\n",
        "\n",
        "# Loop through all combinations of fuel_1 and fuel_2\n",
        "for fuel_amount_1 in fuel_1_range:\n",
        "      # Use the formula-based prediction function to get efficiency\n",
        "      predicted_efficiency = predict_efficiency(fuel_amount_1, fuel_amount_1*0.3, calorific_value1,calorific_value2 ,brake_power,density1,density2)\n",
        "      \"\"\"if 23 <= predicted_efficiency <= 32:\"\"\"\n",
        "      efficient_combinations.append((fuel_amount_1, fuel_amount_1*0.3, predicted_efficiency))\n",
        "\n",
        "# Print the combinations that meet the efficiency criteria\n",
        "if efficient_combinations:\n",
        "    for fuel_amount_1, fuel_amount_2, predicted_efficiency in efficient_combinations:\n",
        "        eff=(brake_power/predicted_efficiency)*100\n",
        "        if eff>=23 and eff<=35:\n",
        "          print(f\"For Fuel 1 amount = {fuel_amount_1}, Fuel 2 amount = {fuel_amount_2}, \"\n",
        "                f\"Brake power = {brake_power}, \"\n",
        "                f\"Heat Input = {predicted_efficiency}, \",f\"Efficiency={eff}\")\n",
        "\n",
        "else:\n",
        "    print(\"No combinations meet the efficiency criteria.\")"
      ],
      "metadata": {
        "colab": {
          "base_uri": "https://localhost:8080/"
        },
        "id": "TOpW9DkolExJ",
        "outputId": "0a836494-13a1-437d-a0d6-52fa463a483a"
      },
      "execution_count": null,
      "outputs": [
        {
          "output_type": "stream",
          "name": "stdout",
          "text": [
            "For Fuel 1 amount = 20.11, Fuel 2 amount = 6.0329999999999995, Brake power = 5.2, Heat Input = 15.190817822666665,  Efficiency=34.231205065476644\n",
            "For Fuel 1 amount = 28.18, Fuel 2 amount = 8.453999999999999, Brake power = 5.2, Heat Input = 21.28678499466666,  Efficiency=24.428301414717367\n",
            "For Fuel 1 amount = 20.49, Fuel 2 amount = 6.146999999999999, Brake power = 5.2, Heat Input = 15.477864603999997,  Efficiency=33.596365732881175\n",
            "For Fuel 1 amount = 27.43, Fuel 2 amount = 8.229, Brake power = 5.2, Heat Input = 20.720245294666668,  Efficiency=25.096227993683385\n",
            "For Fuel 1 amount = 26.28, Fuel 2 amount = 7.884, Brake power = 5.2, Heat Input = 19.851551087999997,  Efficiency=26.19442670725781\n",
            "For Fuel 1 amount = 22.041, Fuel 2 amount = 6.6123, Brake power = 5.2, Heat Input = 16.6494687036,  Efficiency=31.232227842055043\n",
            "For Fuel 1 amount = 27.756, Fuel 2 amount = 8.3268, Brake power = 5.2, Heat Input = 20.966501217599998,  Efficiency=24.801467569777177\n",
            "For Fuel 1 amount = 26.955, Fuel 2 amount = 8.0865, Brake power = 5.2, Heat Input = 20.361436817999998,  Efficiency=25.538472783036\n",
            "For Fuel 1 amount = 22.4, Fuel 2 amount = 6.72, Brake power = 5.2, Heat Input = 16.920652373333333,  Efficiency=30.73167561905068\n",
            "For Fuel 1 amount = 23.429, Fuel 2 amount = 7.0287, Brake power = 5.2, Heat Input = 17.69794484173333,  Efficiency=29.381942629507673\n",
            "For Fuel 1 amount = 21.522, Fuel 2 amount = 6.456599999999999, Brake power = 5.2, Heat Input = 16.257423231199997,  Efficiency=31.985388619400396\n",
            "For Fuel 1 amount = 20.86, Fuel 2 amount = 6.258, Brake power = 5.2, Heat Input = 15.757357522666668,  Efficiency=33.00045704059133\n",
            "For Fuel 1 amount = 28.042, Fuel 2 amount = 8.4126, Brake power = 5.2, Heat Input = 21.182541689866664,  Efficiency=24.548517718662552\n",
            "For Fuel 1 amount = 19.744, Fuel 2 amount = 5.9232, Brake power = 5.2, Heat Input = 14.914346449066665,  Efficiency=34.865758400867875\n",
            "For Fuel 1 amount = 24.288, Fuel 2 amount = 7.2863999999999995, Brake power = 5.2, Heat Input = 18.3468216448,  Efficiency=28.342783838386666\n",
            "For Fuel 1 amount = 25.298, Fuel 2 amount = 7.5893999999999995, Brake power = 5.2, Heat Input = 19.10976177413333,  Efficiency=27.211223569718374\n",
            "For Fuel 1 amount = 20.421, Fuel 2 amount = 6.1263, Brake power = 5.2, Heat Input = 15.425742951599998,  Efficiency=33.709883642658795\n",
            "For Fuel 1 amount = 22.616, Fuel 2 amount = 6.7848, Brake power = 5.2, Heat Input = 17.08381580693333,  Efficiency=30.438164744726535\n",
            "For Fuel 1 amount = 20.848, Fuel 2 amount = 6.2543999999999995, Brake power = 5.2, Heat Input = 15.748292887466663,  Efficiency=33.01945193144356\n",
            "For Fuel 1 amount = 20.958, Fuel 2 amount = 6.287399999999999, Brake power = 5.2, Heat Input = 15.8313853768,  Efficiency=32.846146286226514\n",
            "For Fuel 1 amount = 25.935, Fuel 2 amount = 7.780499999999999, Brake power = 5.2, Heat Input = 19.590942826,  Efficiency=26.542877727655107\n",
            "For Fuel 1 amount = 20.972, Fuel 2 amount = 6.2916, Brake power = 5.2, Heat Input = 15.841960784533335,  Efficiency=32.8242196198138\n",
            "For Fuel 1 amount = 22.008, Fuel 2 amount = 6.602399999999999, Brake power = 5.2, Heat Input = 16.624540956799997,  Efficiency=31.27905915425006\n",
            "For Fuel 1 amount = 23.886, Fuel 2 amount = 7.1658, Brake power = 5.2, Heat Input = 18.043156365599998,  Efficiency=28.819791252898575\n",
            "For Fuel 1 amount = 20.584, Fuel 2 amount = 6.175199999999999, Brake power = 5.2, Heat Input = 15.548870913066665,  Efficiency=33.44294276461015\n",
            "For Fuel 1 amount = 29.072, Fuel 2 amount = 8.721599999999999, Brake power = 5.2, Heat Input = 21.960589544533327,  Efficiency=23.67878143460152\n",
            "For Fuel 1 amount = 24.983, Fuel 2 amount = 7.4948999999999995, Brake power = 5.2, Heat Input = 18.871815100133333,  Efficiency=27.554318291107364\n",
            "For Fuel 1 amount = 27.12, Fuel 2 amount = 8.136, Brake power = 5.2, Heat Input = 20.486075552,  Efficiency=25.383094906590532\n",
            "For Fuel 1 amount = 25.935, Fuel 2 amount = 7.780499999999999, Brake power = 5.2, Heat Input = 19.590942826,  Efficiency=26.542877727655107\n"
          ]
        }
      ]
    },
    {
      "cell_type": "markdown",
      "source": [
        "COT 40"
      ],
      "metadata": {
        "id": "8HprWH2clOFe"
      }
    },
    {
      "cell_type": "code",
      "source": [
        "#COT 40\n",
        "fuel_1_range = [16.46,20.11,28.18,18.05,20.49,27.43,41.24,12.81,19.13,8.91,8.37,26.28,33.83,17.658,22.041,27.756,26.955,15.264,18.224,22.4,16.912,18.648,23.429,9.324,11.994,14.682,17.604,21.522,6.909,17.094,20.86,28.042,35.945,13.992,15.432,19.744,24.288,17.776,10.346,12.936,17.85,25.298,30.807,18.891,20.421,12.504,14.92,19.432,22.616,20.848,10.143,12.621,15.365,20.958,10.528,13.944,11.277,12.978,17.031,25.935,11.416,13.968,16.656,9.555,11.963,14.924,20.972,22.008,19.053,23.886,33.264,4.936,12.936,19.376,10.843,12.117,13.272,12.488,16.48,20.584,29.072,10.409,12.425,16.268,24.983,32.508,12.424,14.88,18.272,27.12,11.375,13.811,16.954,25.935]  # Values from 1 to 60 (inclusive)\n",
        "fuel_2_range=[]\n",
        "for i in fuel_1_range:\n",
        "  fuel_2_range.append(i*0.4)\n",
        " # Values from 1 to 40 (inclusive)\n",
        "calorific_value1 = 35800\n",
        "brake_power = 5.2\n",
        "density1 = 958\n",
        "density2=909.8\n",
        "calorific_value2=40400\n",
        "# Assuming you have the formulas defined as functions, for example:\n",
        "def predict_efficiency(fuel_amount_1, fuel_amount_2, calorific_value1,calorific_value2, brake_power, density1,density2):\n",
        "    # Your formula to calculate efficiency based on the given inputs\n",
        "    mass_of_fuel1 = ((fuel_amount_1  * 0.000001) / 60) * density1\n",
        "    mass_of_fuel2=((fuel_amount_2  * 0.000001) / 60) * density2\n",
        "    heat_input = mass_of_fuel1 * calorific_value1 + mass_of_fuel2 * calorific_value2\n",
        "    efficiency = brake_power / heat_input\n",
        "    return heat_input\n",
        "    # Limit efficiency to a maximum value of 32\n",
        "    efficiency = min(efficiency, 32)\n",
        "\n",
        "    return efficiency\n",
        "\n",
        "# List to store combinations that meet the efficiency criteria\n",
        "efficient_combinations = []\n",
        "\n",
        "# Loop through all combinations of fuel_1 and fuel_2\n",
        "for fuel_amount_1 in fuel_1_range:\n",
        "      # Use the formula-based prediction function to get efficiency\n",
        "      predicted_efficiency = predict_efficiency(fuel_amount_1, fuel_amount_1*0.4, calorific_value1,calorific_value2 ,brake_power,density1,density2)\n",
        "      \"\"\"if 23 <= predicted_efficiency <= 32:\"\"\"\n",
        "      efficient_combinations.append((fuel_amount_1, fuel_amount_1*0.4, predicted_efficiency))\n",
        "\n",
        "# Print the combinations that meet the efficiency criteria\n",
        "if efficient_combinations:\n",
        "    for fuel_amount_1, fuel_amount_2, predicted_efficiency in efficient_combinations:\n",
        "        eff=(brake_power/predicted_efficiency)*100\n",
        "        if eff>=23 and eff<=35:\n",
        "          print(f\"For Fuel 1 amount = {fuel_amount_1}, Fuel 2 amount = {fuel_amount_2}, \"\n",
        "                f\"Brake power = {brake_power}, \"\n",
        "                f\"Heat Input = {predicted_efficiency}, \",f\"Efficiency={eff}\")\n",
        "\n",
        "else:\n",
        "    print(\"No combinations meet the efficiency criteria.\")"
      ],
      "metadata": {
        "colab": {
          "base_uri": "https://localhost:8080/"
        },
        "id": "2QBQ4_-xlLEN",
        "outputId": "cb2b5919-15ec-41ae-865f-3785a4af1677"
      },
      "execution_count": null,
      "outputs": [
        {
          "output_type": "stream",
          "name": "stdout",
          "text": [
            "For Fuel 1 amount = 20.11, Fuel 2 amount = 8.044, Brake power = 5.2, Heat Input = 16.42275374133333,  Efficiency=31.66338655442703\n",
            "For Fuel 1 amount = 20.49, Fuel 2 amount = 8.196, Brake power = 5.2, Heat Input = 16.733079271999998,  Efficiency=31.076169039020378\n",
            "For Fuel 1 amount = 27.43, Fuel 2 amount = 10.972000000000001, Brake power = 5.2, Heat Input = 22.400603437333334,  Efficiency=23.213660357620398\n",
            "For Fuel 1 amount = 19.13, Fuel 2 amount = 7.652, Brake power = 5.2, Heat Input = 15.622440530666665,  Efficiency=33.28545235805163\n",
            "For Fuel 1 amount = 26.28, Fuel 2 amount = 10.512, Brake power = 5.2, Heat Input = 21.461460384,  Efficiency=24.229478828368627\n",
            "For Fuel 1 amount = 22.041, Fuel 2 amount = 8.8164, Brake power = 5.2, Heat Input = 17.999697424799997,  Efficiency=28.889374511570598\n",
            "For Fuel 1 amount = 26.955, Fuel 2 amount = 10.782, Brake power = 5.2, Heat Input = 22.012696524,  Efficiency=23.622730610629848\n",
            "For Fuel 1 amount = 18.224, Fuel 2 amount = 7.2896, Brake power = 5.2, Heat Input = 14.882559133866668,  Efficiency=34.940227371023234\n",
            "For Fuel 1 amount = 22.4, Fuel 2 amount = 8.959999999999999, Brake power = 5.2, Heat Input = 18.292873386666667,  Efficiency=28.42637069685391\n",
            "For Fuel 1 amount = 18.648, Fuel 2 amount = 7.4592, Brake power = 5.2, Heat Input = 15.2288170944,  Efficiency=34.14579062685154\n",
            "For Fuel 1 amount = 23.429, Fuel 2 amount = 9.371599999999999, Brake power = 5.2, Heat Input = 19.133202257866667,  Efficiency=27.17788653418957\n",
            "For Fuel 1 amount = 21.522, Fuel 2 amount = 8.6088, Brake power = 5.2, Heat Input = 17.575858081599996,  Efficiency=29.58603771069267\n",
            "For Fuel 1 amount = 20.86, Fuel 2 amount = 8.344, Brake power = 5.2, Heat Input = 17.035238341333333,  Efficiency=30.524961822125\n",
            "For Fuel 1 amount = 19.744, Fuel 2 amount = 7.897600000000001, Brake power = 5.2, Heat Input = 16.12386125653333,  Efficiency=32.250339526414486\n",
            "For Fuel 1 amount = 24.288, Fuel 2 amount = 9.715200000000001, Brake power = 5.2, Heat Input = 19.834701286399998,  Efficiency=26.216679167058942\n",
            "For Fuel 1 amount = 25.298, Fuel 2 amount = 10.1192, Brake power = 5.2, Heat Input = 20.659513881066662,  Efficiency=25.170001723833018\n",
            "For Fuel 1 amount = 18.891, Fuel 2 amount = 7.5564, Brake power = 5.2, Heat Input = 15.427262104799997,  Efficiency=33.706564163333205\n",
            "For Fuel 1 amount = 20.421, Fuel 2 amount = 8.1684, Brake power = 5.2, Heat Input = 16.6767306888,  Efficiency=31.181171519980783\n",
            "For Fuel 1 amount = 19.432, Fuel 2 amount = 7.7728, Brake power = 5.2, Heat Input = 15.869067662933332,  Efficiency=32.76815065919759\n",
            "For Fuel 1 amount = 22.616, Fuel 2 amount = 9.0464, Brake power = 5.2, Heat Input = 18.469268951466667,  Efficiency=28.15487723777536\n",
            "For Fuel 1 amount = 20.848, Fuel 2 amount = 8.3392, Brake power = 5.2, Heat Input = 17.02543858773333,  Efficiency=30.542531830848407\n",
            "For Fuel 1 amount = 20.958, Fuel 2 amount = 8.3832, Brake power = 5.2, Heat Input = 17.1152696624,  Efficiency=30.382226529703576\n",
            "For Fuel 1 amount = 25.935, Fuel 2 amount = 10.374, Brake power = 5.2, Heat Input = 21.179717468,  Efficiency=24.55179115517746\n",
            "For Fuel 1 amount = 20.972, Fuel 2 amount = 8.388800000000002, Brake power = 5.2, Heat Input = 17.12670270826667,  Efficiency=30.36194466953688\n",
            "For Fuel 1 amount = 22.008, Fuel 2 amount = 8.8032, Brake power = 5.2, Heat Input = 17.972748102399997,  Efficiency=28.932692821225352\n",
            "For Fuel 1 amount = 19.053, Fuel 2 amount = 7.621200000000001, Brake power = 5.2, Heat Input = 15.5595587784,  Efficiency=33.41997079774983\n",
            "For Fuel 1 amount = 23.886, Fuel 2 amount = 9.5544, Brake power = 5.2, Heat Input = 19.506409540799996,  Efficiency=26.657904362786887\n",
            "For Fuel 1 amount = 19.376, Fuel 2 amount = 7.750400000000001, Brake power = 5.2, Heat Input = 15.823335479466666,  Efficiency=32.86285629694093\n",
            "For Fuel 1 amount = 20.584, Fuel 2 amount = 8.233600000000001, Brake power = 5.2, Heat Input = 16.809844008533332,  Efficiency=30.934254936335385\n",
            "For Fuel 1 amount = 24.983, Fuel 2 amount = 9.993200000000002, Brake power = 5.2, Heat Input = 20.40227034906667,  Efficiency=25.487359548874334\n",
            "For Fuel 1 amount = 18.272, Fuel 2 amount = 7.3088, Brake power = 5.2, Heat Input = 14.921758148266665,  Efficiency=34.84844043397152\n",
            "For Fuel 1 amount = 27.12, Fuel 2 amount = 10.848, Brake power = 5.2, Heat Input = 22.147443136,  Efficiency=23.479008245189068\n",
            "For Fuel 1 amount = 25.935, Fuel 2 amount = 10.374, Brake power = 5.2, Heat Input = 21.179717468,  Efficiency=24.55179115517746\n"
          ]
        }
      ]
    },
    {
      "cell_type": "markdown",
      "source": [
        "OP 10"
      ],
      "metadata": {
        "id": "S6je4jiUlgy0"
      }
    },
    {
      "cell_type": "code",
      "source": [
        "#OP10\n",
        "fuel_1_range = [16.46,20.11,28.18,18.05,20.49,27.43,41.24,12.81,19.13,8.91,8.37,26.28,33.83,17.658,22.041,27.756,26.955,15.264,18.224,22.4,16.912,18.648,23.429,9.324,11.994,14.682,17.604,21.522,6.909,17.094,20.86,28.042,35.945,13.992,15.432,19.744,24.288,17.776,10.346,12.936,17.85,25.298,30.807,18.891,20.421,12.504,14.92,19.432,22.616,20.848,10.143,12.621,15.365,20.958,10.528,13.944,11.277,12.978,17.031,25.935,11.416,13.968,16.656,9.555,11.963,14.924,20.972,22.008,19.053,23.886,33.264,4.936,12.936,19.376,10.843,12.117,13.272,12.488,16.48,20.584,29.072,10.409,12.425,16.268,24.983,32.508,12.424,14.88,18.272,27.12,11.375,13.811,16.954,25.935]  # Values from 1 to 60 (inclusive)\n",
        "fuel_2_range=[]\n",
        "for i in fuel_1_range:\n",
        "  fuel_2_range.append(i*0.1)\n",
        " # Values from 1 to 40 (inclusive)\n",
        "calorific_value1 = 35800\n",
        "brake_power = 5.2\n",
        "density1 = 958\n",
        "density2=816.9\n",
        "calorific_value2=39000\n",
        "# Assuming you have the formulas defined as functions, for example:\n",
        "def predict_efficiency(fuel_amount_1, fuel_amount_2, calorific_value1,calorific_value2, brake_power, density1,density2):\n",
        "    # Your formula to calculate efficiency based on the given inputs\n",
        "    mass_of_fuel1 = ((fuel_amount_1  * 0.000001) / 60) * density1\n",
        "    mass_of_fuel2=((fuel_amount_2  * 0.000001) / 60) * density2\n",
        "    heat_input = mass_of_fuel1 * calorific_value1 + mass_of_fuel2 * calorific_value2\n",
        "    efficiency = brake_power / heat_input\n",
        "    return heat_input\n",
        "    # Limit efficiency to a maximum value of 32\n",
        "    efficiency = min(efficiency, 32)\n",
        "\n",
        "    return efficiency\n",
        "\n",
        "# List to store combinations that meet the efficiency criteria\n",
        "efficient_combinations = []\n",
        "\n",
        "# Loop through all combinations of fuel_1 and fuel_2\n",
        "for fuel_amount_1 in fuel_1_range:\n",
        "      # Use the formula-based prediction function to get efficiency\n",
        "      predicted_efficiency = predict_efficiency(fuel_amount_1, fuel_amount_1*0.1, calorific_value1,calorific_value2 ,brake_power,density1,density2)\n",
        "      \"\"\"if 23 <= predicted_efficiency <= 32:\"\"\"\n",
        "      efficient_combinations.append((fuel_amount_1, fuel_amount_1*0.1, predicted_efficiency))\n",
        "\n",
        "# Print the combinations that meet the efficiency criteria\n",
        "if efficient_combinations:\n",
        "    for fuel_amount_1, fuel_amount_2, predicted_efficiency in efficient_combinations:\n",
        "        eff=(brake_power/predicted_efficiency)*100\n",
        "        if eff>=23 and eff<=35:\n",
        "          print(f\"For Fuel 1 amount = {fuel_amount_1}, Fuel 2 amount = {fuel_amount_2}, \"\n",
        "                f\"Brake power = {brake_power}, \"\n",
        "                f\"Heat Input = {predicted_efficiency}, \",f\"Efficiency={eff}\")\n",
        "\n",
        "else:\n",
        "    print(\"No combinations meet the efficiency criteria.\")"
      ],
      "metadata": {
        "colab": {
          "base_uri": "https://localhost:8080/"
        },
        "id": "qfusk0nmlWsI",
        "outputId": "d5b43ed6-ea97-43b8-8fab-37d393359709"
      },
      "execution_count": null,
      "outputs": [
        {
          "output_type": "stream",
          "name": "stdout",
          "text": [
            "For Fuel 1 amount = 28.18, Fuel 2 amount = 2.818, Brake power = 5.2, Heat Input = 17.604191596666663,  Efficiency=29.53841970786443\n",
            "For Fuel 1 amount = 27.43, Fuel 2 amount = 2.7430000000000003, Brake power = 5.2, Heat Input = 17.13566272166667,  Efficiency=30.34606880669411\n",
            "For Fuel 1 amount = 26.28, Fuel 2 amount = 2.628, Brake power = 5.2, Heat Input = 16.417251779999997,  Efficiency=31.673997997245802\n",
            "For Fuel 1 amount = 33.83, Fuel 2 amount = 3.383, Brake power = 5.2, Heat Input = 21.13377578833333,  Efficiency=24.605163090973093\n",
            "For Fuel 1 amount = 27.756, Fuel 2 amount = 2.7756000000000003, Brake power = 5.2, Heat Input = 17.339316606,  Efficiency=29.98964790919511\n",
            "For Fuel 1 amount = 26.955, Fuel 2 amount = 2.6955, Brake power = 5.2, Heat Input = 16.8389277675,  Efficiency=30.880826094142815\n",
            "For Fuel 1 amount = 28.042, Fuel 2 amount = 2.8042000000000002, Brake power = 5.2, Heat Input = 17.517982283666665,  Efficiency=29.68378387303401\n",
            "For Fuel 1 amount = 35.945, Fuel 2 amount = 3.5945, Brake power = 5.2, Heat Input = 22.455027215833336,  Efficiency=23.15739789588592\n",
            "For Fuel 1 amount = 24.288, Fuel 2 amount = 2.4288000000000003, Brake power = 5.2, Heat Input = 15.172839088,  Efficiency=34.271766607691845\n",
            "For Fuel 1 amount = 25.298, Fuel 2 amount = 2.5298, Brake power = 5.2, Heat Input = 15.803791306333329,  Efficiency=32.90349701034152\n",
            "For Fuel 1 amount = 30.807, Fuel 2 amount = 3.0807, Brake power = 5.2, Heat Input = 19.245292069499996,  Efficiency=27.01959513641769\n",
            "For Fuel 1 amount = 25.935, Fuel 2 amount = 2.5935, Brake power = 5.2, Heat Input = 16.2017284975,  Efficiency=32.095340943420844\n",
            "For Fuel 1 amount = 23.886, Fuel 2 amount = 2.3886, Brake power = 5.2, Heat Input = 14.921707610999997,  Efficiency=34.84855845966758\n",
            "For Fuel 1 amount = 33.264, Fuel 2 amount = 3.3264000000000005, Brake power = 5.2, Heat Input = 20.780192663999998,  Efficiency=25.023829586568652\n",
            "For Fuel 1 amount = 29.072, Fuel 2 amount = 2.9072, Brake power = 5.2, Heat Input = 18.16142860533333,  Efficiency=28.632108811489392\n",
            "For Fuel 1 amount = 24.983, Fuel 2 amount = 2.4983000000000004, Brake power = 5.2, Heat Input = 15.607009178833334,  Efficiency=33.31836318166832\n",
            "For Fuel 1 amount = 32.508, Fuel 2 amount = 3.2508000000000004, Brake power = 5.2, Heat Input = 20.307915558,  Efficiency=25.605779111837684\n",
            "For Fuel 1 amount = 27.12, Fuel 2 amount = 2.712, Brake power = 5.2, Heat Input = 16.94200412,  Efficiency=30.692944961932877\n",
            "For Fuel 1 amount = 25.935, Fuel 2 amount = 2.5935, Brake power = 5.2, Heat Input = 16.2017284975,  Efficiency=32.095340943420844\n"
          ]
        }
      ]
    },
    {
      "cell_type": "markdown",
      "source": [
        "OP 20"
      ],
      "metadata": {
        "id": "a5FOLF46lriv"
      }
    },
    {
      "cell_type": "code",
      "source": [
        "#OP20\n",
        "fuel_1_range = [16.46,20.11,28.18,18.05,20.49,27.43,41.24,12.81,19.13,8.91,8.37,26.28,33.83,17.658,22.041,27.756,26.955,15.264,18.224,22.4,16.912,18.648,23.429,9.324,11.994,14.682,17.604,21.522,6.909,17.094,20.86,28.042,35.945,13.992,15.432,19.744,24.288,17.776,10.346,12.936,17.85,25.298,30.807,18.891,20.421,12.504,14.92,19.432,22.616,20.848,10.143,12.621,15.365,20.958,10.528,13.944,11.277,12.978,17.031,25.935,11.416,13.968,16.656,9.555,11.963,14.924,20.972,22.008,19.053,23.886,33.264,4.936,12.936,19.376,10.843,12.117,13.272,12.488,16.48,20.584,29.072,10.409,12.425,16.268,24.983,32.508,12.424,14.88,18.272,27.12,11.375,13.811,16.954,25.935]  # Values from 1 to 60 (inclusive)\n",
        "fuel_2_range=[]\n",
        "for i in fuel_1_range:\n",
        "  fuel_2_range.append(i*0.2)\n",
        " # Values from 1 to 40 (inclusive)\n",
        "calorific_value1 = 35800\n",
        "brake_power = 5.2\n",
        "density1 = 958\n",
        "density2=816.9\n",
        "calorific_value2=39000\n",
        "# Assuming you have the formulas defined as functions, for example:\n",
        "def predict_efficiency(fuel_amount_1, fuel_amount_2, calorific_value1,calorific_value2, brake_power, density1,density2):\n",
        "    # Your formula to calculate efficiency based on the given inputs\n",
        "    mass_of_fuel1 = ((fuel_amount_1  * 0.000001) / 60) * density1\n",
        "    mass_of_fuel2=((fuel_amount_2  * 0.000001) / 60) * density2\n",
        "    heat_input = mass_of_fuel1 * calorific_value1 + mass_of_fuel2 * calorific_value2\n",
        "    efficiency = brake_power / heat_input\n",
        "    return heat_input\n",
        "    # Limit efficiency to a maximum value of 32\n",
        "    efficiency = min(efficiency, 32)\n",
        "\n",
        "    return efficiency\n",
        "\n",
        "# List to store combinations that meet the efficiency criteria\n",
        "efficient_combinations = []\n",
        "\n",
        "# Loop through all combinations of fuel_1 and fuel_2\n",
        "for fuel_amount_1 in fuel_1_range:\n",
        "      # Use the formula-based prediction function to get efficiency\n",
        "      predicted_efficiency = predict_efficiency(fuel_amount_1, fuel_amount_1*0.2, calorific_value1,calorific_value2 ,brake_power,density1,density2)\n",
        "      \"\"\"if 23 <= predicted_efficiency <= 32:\"\"\"\n",
        "      efficient_combinations.append((fuel_amount_1, fuel_amount_1*0.2, predicted_efficiency))\n",
        "\n",
        "# Print the combinations that meet the efficiency criteria\n",
        "if efficient_combinations:\n",
        "    for fuel_amount_1, fuel_amount_2, predicted_efficiency in efficient_combinations:\n",
        "        eff=(brake_power/predicted_efficiency)*100\n",
        "        if eff>=23 and eff<=35:\n",
        "          print(f\"For Fuel 1 amount = {fuel_amount_1}, Fuel 2 amount = {fuel_amount_2}, \"\n",
        "                f\"Brake power = {brake_power}, \"\n",
        "                f\"Heat Input = {predicted_efficiency}, \",f\"Efficiency={eff}\")\n",
        "\n",
        "else:\n",
        "    print(\"No combinations meet the efficiency criteria.\")"
      ],
      "metadata": {
        "colab": {
          "base_uri": "https://localhost:8080/"
        },
        "id": "9JaGdeDDl3Dl",
        "outputId": "2e0b2292-df02-4a49-df22-03e50052cb03"
      },
      "execution_count": null,
      "outputs": [
        {
          "output_type": "stream",
          "name": "stdout",
          "text": [
            "For Fuel 1 amount = 28.18, Fuel 2 amount = 5.636, Brake power = 5.2, Heat Input = 19.100507326666662,  Efficiency=27.224407766071007\n",
            "For Fuel 1 amount = 27.43, Fuel 2 amount = 5.486000000000001, Brake power = 5.2, Heat Input = 18.59215457666667,  Efficiency=27.96878639620418\n",
            "For Fuel 1 amount = 26.28, Fuel 2 amount = 5.256, Brake power = 5.2, Heat Input = 17.812680359999998,  Efficiency=29.192686866357718\n",
            "For Fuel 1 amount = 22.041, Fuel 2 amount = 4.4082, Brake power = 5.2, Heat Input = 14.939470617,  Efficiency=34.807123580957345\n",
            "For Fuel 1 amount = 27.756, Fuel 2 amount = 5.551200000000001, Brake power = 5.2, Heat Input = 18.813118572,  Efficiency=27.64028717566943\n",
            "For Fuel 1 amount = 26.955, Fuel 2 amount = 5.391, Brake power = 5.2, Heat Input = 18.270197835,  Efficiency=28.46165130209166\n",
            "For Fuel 1 amount = 22.4, Fuel 2 amount = 4.4799999999999995, Brake power = 5.2, Heat Input = 15.182802133333334,  Efficiency=34.24927726999468\n",
            "For Fuel 1 amount = 23.429, Fuel 2 amount = 4.6857999999999995, Brake power = 5.2, Heat Input = 15.880262106333333,  Efficiency=32.74505146817537\n",
            "For Fuel 1 amount = 28.042, Fuel 2 amount = 5.6084000000000005, Brake power = 5.2, Heat Input = 19.006970420666665,  Efficiency=27.35838423963629\n",
            "For Fuel 1 amount = 24.288, Fuel 2 amount = 4.857600000000001, Brake power = 5.2, Heat Input = 16.462495456,  Efficiency=31.586948733855436\n",
            "For Fuel 1 amount = 25.298, Fuel 2 amount = 5.0596, Brake power = 5.2, Heat Input = 17.147077159333328,  Efficiency=30.32586808632623\n",
            "For Fuel 1 amount = 30.807, Fuel 2 amount = 6.1614, Brake power = 5.2, Heat Input = 20.881097558999993,  Efficiency=24.90290553601068\n",
            "For Fuel 1 amount = 22.616, Fuel 2 amount = 4.5232, Brake power = 5.2, Heat Input = 15.329207725333331,  Efficiency=33.922170624685215\n",
            "For Fuel 1 amount = 25.935, Fuel 2 amount = 5.187, Brake power = 5.2, Heat Input = 17.578838095,  Efficiency=29.581022203504176\n",
            "For Fuel 1 amount = 22.008, Fuel 2 amount = 4.4016, Brake power = 5.2, Heat Input = 14.917103095999998,  Efficiency=34.85931528752639\n",
            "For Fuel 1 amount = 23.886, Fuel 2 amount = 4.7772, Brake power = 5.2, Heat Input = 16.190018381999998,  Efficiency=32.11855525612831\n",
            "For Fuel 1 amount = 33.264, Fuel 2 amount = 6.652800000000001, Brake power = 5.2, Heat Input = 22.546461168,  Efficiency=23.06348637710079\n",
            "For Fuel 1 amount = 29.072, Fuel 2 amount = 5.8144, Brake power = 5.2, Heat Input = 19.70510819733333,  Efficiency=26.389096410562768\n",
            "For Fuel 1 amount = 24.983, Fuel 2 amount = 4.996600000000001, Brake power = 5.2, Heat Input = 16.933569004333332,  Efficiency=30.708234033057714\n",
            "For Fuel 1 amount = 32.508, Fuel 2 amount = 6.501600000000001, Brake power = 5.2, Heat Input = 22.034041596,  Efficiency=23.59984652540546\n",
            "For Fuel 1 amount = 27.12, Fuel 2 amount = 5.424, Brake power = 5.2, Heat Input = 18.38203544,  Efficiency=28.288488600585577\n",
            "For Fuel 1 amount = 25.935, Fuel 2 amount = 5.187, Brake power = 5.2, Heat Input = 17.578838095,  Efficiency=29.581022203504176\n"
          ]
        }
      ]
    },
    {
      "cell_type": "markdown",
      "source": [
        "OP 30"
      ],
      "metadata": {
        "id": "4abGLq9Yl8tc"
      }
    },
    {
      "cell_type": "code",
      "source": [
        "#OP30\n",
        "fuel_1_range = [16.46,20.11,28.18,18.05,20.49,27.43,41.24,12.81,19.13,8.91,8.37,26.28,33.83,17.658,22.041,27.756,26.955,15.264,18.224,22.4,16.912,18.648,23.429,9.324,11.994,14.682,17.604,21.522,6.909,17.094,20.86,28.042,35.945,13.992,15.432,19.744,24.288,17.776,10.346,12.936,17.85,25.298,30.807,18.891,20.421,12.504,14.92,19.432,22.616,20.848,10.143,12.621,15.365,20.958,10.528,13.944,11.277,12.978,17.031,25.935,11.416,13.968,16.656,9.555,11.963,14.924,20.972,22.008,19.053,23.886,33.264,4.936,12.936,19.376,10.843,12.117,13.272,12.488,16.48,20.584,29.072,10.409,12.425,16.268,24.983,32.508,12.424,14.88,18.272,27.12,11.375,13.811,16.954,25.935]  # Values from 1 to 60 (inclusive)\n",
        "fuel_2_range=[]\n",
        "for i in fuel_1_range:\n",
        "  fuel_2_range.append(i*0.3)\n",
        " # Values from 1 to 40 (inclusive)\n",
        "calorific_value1 = 35800\n",
        "brake_power = 5.2\n",
        "density1 = 958\n",
        "density2=816.9\n",
        "calorific_value2=39000\n",
        "# Assuming you have the formulas defined as functions, for example:\n",
        "def predict_efficiency(fuel_amount_1, fuel_amount_2, calorific_value1,calorific_value2, brake_power, density1,density2):\n",
        "    # Your formula to calculate efficiency based on the given inputs\n",
        "    mass_of_fuel1 = ((fuel_amount_1  * 0.000001) / 60) * density1\n",
        "    mass_of_fuel2=((fuel_amount_2  * 0.000001) / 60) * density2\n",
        "    heat_input = mass_of_fuel1 * calorific_value1 + mass_of_fuel2 * calorific_value2\n",
        "    efficiency = brake_power / heat_input\n",
        "    return heat_input\n",
        "    # Limit efficiency to a maximum value of 32\n",
        "    efficiency = min(efficiency, 32)\n",
        "\n",
        "    return efficiency\n",
        "\n",
        "# List to store combinations that meet the efficiency criteria\n",
        "efficient_combinations = []\n",
        "\n",
        "# Loop through all combinations of fuel_1 and fuel_2\n",
        "for fuel_amount_1 in fuel_1_range:\n",
        "      # Use the formula-based prediction function to get efficiency\n",
        "      predicted_efficiency = predict_efficiency(fuel_amount_1, fuel_amount_1*0.3, calorific_value1,calorific_value2 ,brake_power,density1,density2)\n",
        "      \"\"\"if 23 <= predicted_efficiency <= 32:\"\"\"\n",
        "      efficient_combinations.append((fuel_amount_1, fuel_amount_1*0.3, predicted_efficiency))\n",
        "\n",
        "# Print the combinations that meet the efficiency criteria\n",
        "if efficient_combinations:\n",
        "    for fuel_amount_1, fuel_amount_2, predicted_efficiency in efficient_combinations:\n",
        "        eff=(brake_power/predicted_efficiency)*100\n",
        "        if eff>=23 and eff<=35:\n",
        "          print(f\"For Fuel 1 amount = {fuel_amount_1}, Fuel 2 amount = {fuel_amount_2}, \"\n",
        "                f\"Brake power = {brake_power}, \"\n",
        "                f\"Heat Input = {predicted_efficiency}, \",f\"Efficiency={eff}\")\n",
        "\n",
        "else:\n",
        "    print(\"No combinations meet the efficiency criteria.\")"
      ],
      "metadata": {
        "colab": {
          "base_uri": "https://localhost:8080/"
        },
        "id": "GoXcKNcvl-sP",
        "outputId": "d2348751-0fb9-4b51-a112-411b09c12f51"
      },
      "execution_count": null,
      "outputs": [
        {
          "output_type": "stream",
          "name": "stdout",
          "text": [
            "For Fuel 1 amount = 28.18, Fuel 2 amount = 8.453999999999999, Brake power = 5.2, Heat Input = 20.59682305666666,  Efficiency=25.24661199299323\n",
            "For Fuel 1 amount = 20.49, Fuel 2 amount = 6.146999999999999, Brake power = 5.2, Heat Input = 14.976185394999998,  Efficiency=34.72179238470225\n",
            "For Fuel 1 amount = 27.43, Fuel 2 amount = 8.229, Brake power = 5.2, Heat Input = 20.04864643166667,  Efficiency=25.936913086494677\n",
            "For Fuel 1 amount = 26.28, Fuel 2 amount = 7.884, Brake power = 5.2, Heat Input = 19.20810894,  Efficiency=27.071899770264423\n",
            "For Fuel 1 amount = 22.041, Fuel 2 amount = 6.6123, Brake power = 5.2, Heat Input = 16.1098146555,  Efficiency=32.27845950558274\n",
            "For Fuel 1 amount = 27.756, Fuel 2 amount = 8.3268, Brake power = 5.2, Heat Input = 20.286920537999997,  Efficiency=25.6322786411064\n",
            "For Fuel 1 amount = 26.955, Fuel 2 amount = 8.0865, Brake power = 5.2, Heat Input = 19.7014679025,  Efficiency=26.393972397052462\n",
            "For Fuel 1 amount = 22.4, Fuel 2 amount = 6.72, Brake power = 5.2, Heat Input = 16.372208533333332,  Efficiency=31.761139551899515\n",
            "For Fuel 1 amount = 23.429, Fuel 2 amount = 7.0287, Brake power = 5.2, Heat Input = 17.124306862833333,  Efficiency=30.366192580244526\n",
            "For Fuel 1 amount = 21.522, Fuel 2 amount = 6.456599999999999, Brake power = 5.2, Heat Input = 15.730476430999996,  Efficiency=33.05685001219911\n",
            "For Fuel 1 amount = 20.86, Fuel 2 amount = 6.258, Brake power = 5.2, Heat Input = 15.246619196666668,  Efficiency=34.10592166646927\n",
            "For Fuel 1 amount = 28.042, Fuel 2 amount = 8.4126, Brake power = 5.2, Heat Input = 20.495958557666665,  Efficiency=25.370855358481887\n",
            "For Fuel 1 amount = 24.288, Fuel 2 amount = 7.2863999999999995, Brake power = 5.2, Heat Input = 17.752151824,  Efficiency=29.292223565651724\n",
            "For Fuel 1 amount = 25.298, Fuel 2 amount = 7.5893999999999995, Brake power = 5.2, Heat Input = 18.49036301233333,  Efficiency=28.12275776593206\n",
            "For Fuel 1 amount = 30.807, Fuel 2 amount = 9.242099999999999, Brake power = 5.2, Heat Input = 22.516903048499994,  Efficiency=23.093762000926713\n",
            "For Fuel 1 amount = 20.421, Fuel 2 amount = 6.1263, Brake power = 5.2, Heat Input = 14.925753145499998,  Efficiency=34.83911297010671\n",
            "For Fuel 1 amount = 22.616, Fuel 2 amount = 6.7848, Brake power = 5.2, Heat Input = 16.530083401333332,  Efficiency=31.457796514085125\n",
            "For Fuel 1 amount = 20.848, Fuel 2 amount = 6.2543999999999995, Brake power = 5.2, Heat Input = 15.237848370666663,  Efficiency=34.12555285699104\n",
            "For Fuel 1 amount = 20.958, Fuel 2 amount = 6.287399999999999, Brake power = 5.2, Heat Input = 15.318247609,  Efficiency=33.94644173883715\n",
            "For Fuel 1 amount = 25.935, Fuel 2 amount = 7.780499999999999, Brake power = 5.2, Heat Input = 18.955947692499997,  Efficiency=27.43202336466355\n",
            "For Fuel 1 amount = 20.972, Fuel 2 amount = 6.2916, Brake power = 5.2, Heat Input = 15.328480239333334,  Efficiency=33.923780562776514\n",
            "For Fuel 1 amount = 22.008, Fuel 2 amount = 6.602399999999999, Brake power = 5.2, Heat Input = 16.085694883999995,  Efficiency=32.326859594808674\n",
            "For Fuel 1 amount = 23.886, Fuel 2 amount = 7.1658, Brake power = 5.2, Heat Input = 17.458329152999998,  Efficiency=29.78520999592017\n",
            "For Fuel 1 amount = 20.584, Fuel 2 amount = 6.175199999999999, Brake power = 5.2, Heat Input = 15.044890198666666,  Efficiency=34.563229982634525\n",
            "For Fuel 1 amount = 29.072, Fuel 2 amount = 8.721599999999999, Brake power = 5.2, Heat Input = 21.248787789333328,  Efficiency=24.471984244721696\n",
            "For Fuel 1 amount = 24.983, Fuel 2 amount = 7.4948999999999995, Brake power = 5.2, Heat Input = 18.26012882983333,  Efficiency=28.47734563353277\n",
            "For Fuel 1 amount = 27.12, Fuel 2 amount = 8.136, Brake power = 5.2, Heat Input = 19.82206676,  Efficiency=26.23338960038898\n",
            "For Fuel 1 amount = 25.935, Fuel 2 amount = 7.780499999999999, Brake power = 5.2, Heat Input = 18.955947692499997,  Efficiency=27.43202336466355\n"
          ]
        }
      ]
    },
    {
      "cell_type": "markdown",
      "source": [
        "OP 40"
      ],
      "metadata": {
        "id": "p3YyOC9dl_Yr"
      }
    },
    {
      "cell_type": "code",
      "source": [
        "#OP40\n",
        "fuel_1_range = [16.46,20.11,28.18,18.05,20.49,27.43,41.24,12.81,19.13,8.91,8.37,26.28,33.83,17.658,22.041,27.756,26.955,15.264,18.224,22.4,16.912,18.648,23.429,9.324,11.994,14.682,17.604,21.522,6.909,17.094,20.86,28.042,35.945,13.992,15.432,19.744,24.288,17.776,10.346,12.936,17.85,25.298,30.807,18.891,20.421,12.504,14.92,19.432,22.616,20.848,10.143,12.621,15.365,20.958,10.528,13.944,11.277,12.978,17.031,25.935,11.416,13.968,16.656,9.555,11.963,14.924,20.972,22.008,19.053,23.886,33.264,4.936,12.936,19.376,10.843,12.117,13.272,12.488,16.48,20.584,29.072,10.409,12.425,16.268,24.983,32.508,12.424,14.88,18.272,27.12,11.375,13.811,16.954,25.935]  # Values from 1 to 60 (inclusive)\n",
        "fuel_2_range=[]\n",
        "for i in fuel_1_range:\n",
        "  fuel_2_range.append(i*0.4)\n",
        " # Values from 1 to 40 (inclusive)\n",
        "calorific_value1 = 35800\n",
        "brake_power = 5.2\n",
        "density1 = 958\n",
        "density2=816.9\n",
        "calorific_value2=39000\n",
        "# Assuming you have the formulas defined as functions, for example:\n",
        "def predict_efficiency(fuel_amount_1, fuel_amount_2, calorific_value1,calorific_value2, brake_power, density1,density2):\n",
        "    # Your formula to calculate efficiency based on the given inputs\n",
        "    mass_of_fuel1 = ((fuel_amount_1  * 0.000001) / 60) * density1\n",
        "    mass_of_fuel2=((fuel_amount_2  * 0.000001) / 60) * density2\n",
        "    heat_input = mass_of_fuel1 * calorific_value1 + mass_of_fuel2 * calorific_value2\n",
        "    efficiency = brake_power / heat_input\n",
        "    return heat_input\n",
        "    # Limit efficiency to a maximum value of 32\n",
        "    efficiency = min(efficiency, 32)\n",
        "\n",
        "    return efficiency\n",
        "\n",
        "# List to store combinations that meet the efficiency criteria\n",
        "efficient_combinations = []\n",
        "\n",
        "# Loop through all combinations of fuel_1 and fuel_2\n",
        "for fuel_amount_1 in fuel_1_range:\n",
        "      # Use the formula-based prediction function to get efficiency\n",
        "      predicted_efficiency = predict_efficiency(fuel_amount_1, fuel_amount_1*0.4, calorific_value1,calorific_value2 ,brake_power,density1,density2)\n",
        "      \"\"\"if 23 <= predicted_efficiency <= 32:\"\"\"\n",
        "      efficient_combinations.append((fuel_amount_1, fuel_amount_1*0.4, predicted_efficiency))\n",
        "\n",
        "# Print the combinations that meet the efficiency criteria\n",
        "if efficient_combinations:\n",
        "    for fuel_amount_1, fuel_amount_2, predicted_efficiency in efficient_combinations:\n",
        "        eff=(brake_power/predicted_efficiency)*100\n",
        "        if eff>=23 and eff<=35:\n",
        "          print(f\"For Fuel 1 amount = {fuel_amount_1}, Fuel 2 amount = {fuel_amount_2}, \"\n",
        "                f\"Brake power = {brake_power}, \"\n",
        "                f\"Heat Input = {predicted_efficiency}, \",f\"Efficiency={eff}\")\n",
        "\n",
        "else:\n",
        "    print(\"No combinations meet the efficiency criteria.\")"
      ],
      "metadata": {
        "colab": {
          "base_uri": "https://localhost:8080/"
        },
        "id": "xUWh06xRmATp",
        "outputId": "32416383-470f-4b4c-9854-8acd27b8f0a3"
      },
      "execution_count": null,
      "outputs": [
        {
          "output_type": "stream",
          "name": "stdout",
          "text": [
            "For Fuel 1 amount = 20.11, Fuel 2 amount = 8.044, Brake power = 5.2, Heat Input = 15.766253406666666,  Efficiency=32.98183700257673\n",
            "For Fuel 1 amount = 28.18, Fuel 2 amount = 11.272, Brake power = 5.2, Heat Input = 22.093138786666664,  Efficiency=23.536719024904826\n",
            "For Fuel 1 amount = 20.49, Fuel 2 amount = 8.196, Brake power = 5.2, Heat Input = 16.064173659999998,  Efficiency=32.37016799032787\n",
            "For Fuel 1 amount = 27.43, Fuel 2 amount = 10.972000000000001, Brake power = 5.2, Heat Input = 21.505138286666668,  Efficiency=24.180267667583593\n",
            "For Fuel 1 amount = 19.13, Fuel 2 amount = 7.652, Brake power = 5.2, Heat Input = 14.997932753333334,  Efficiency=34.67144496193507\n",
            "For Fuel 1 amount = 26.28, Fuel 2 amount = 10.512, Brake power = 5.2, Heat Input = 20.60353752,  Efficiency=25.23838440341773\n",
            "For Fuel 1 amount = 22.041, Fuel 2 amount = 8.8164, Brake power = 5.2, Heat Input = 17.280158694,  Efficiency=30.09231623437312\n",
            "For Fuel 1 amount = 27.756, Fuel 2 amount = 11.102400000000001, Brake power = 5.2, Heat Input = 21.760722504,  Efficiency=23.89626538844999\n",
            "For Fuel 1 amount = 26.955, Fuel 2 amount = 10.782, Brake power = 5.2, Heat Input = 21.13273797,  Efficiency=24.606371438390575\n",
            "For Fuel 1 amount = 22.4, Fuel 2 amount = 8.959999999999999, Brake power = 5.2, Heat Input = 17.561614933333335,  Efficiency=29.6100331304383\n",
            "For Fuel 1 amount = 23.429, Fuel 2 amount = 9.371599999999999, Brake power = 5.2, Heat Input = 18.368351619333332,  Efficiency=28.309562598566647\n",
            "For Fuel 1 amount = 21.522, Fuel 2 amount = 8.6088, Brake power = 5.2, Heat Input = 16.873262347999997,  Efficiency=30.817988203783013\n",
            "For Fuel 1 amount = 20.86, Fuel 2 amount = 8.344, Brake power = 5.2, Heat Input = 16.354253906666667,  Efficiency=31.796008730672\n",
            "For Fuel 1 amount = 28.042, Fuel 2 amount = 11.216800000000001, Brake power = 5.2, Heat Input = 21.984946694666665,  Efficiency=23.652547682826402\n",
            "For Fuel 1 amount = 19.744, Fuel 2 amount = 7.897600000000001, Brake power = 5.2, Heat Input = 15.479309162666667,  Efficiency=33.59323045592676\n",
            "For Fuel 1 amount = 24.288, Fuel 2 amount = 9.715200000000001, Brake power = 5.2, Heat Input = 19.041808192,  Efficiency=27.30833095033835\n",
            "For Fuel 1 amount = 25.298, Fuel 2 amount = 10.1192, Brake power = 5.2, Heat Input = 19.83364886533333,  Efficiency=26.21807028705107\n",
            "For Fuel 1 amount = 20.421, Fuel 2 amount = 8.1684, Brake power = 5.2, Heat Input = 16.010077614,  Efficiency=32.47954273159091\n",
            "For Fuel 1 amount = 19.432, Fuel 2 amount = 7.7728, Brake power = 5.2, Heat Input = 15.234700954666664,  Efficiency=34.13260303220554\n",
            "For Fuel 1 amount = 22.616, Fuel 2 amount = 9.0464, Brake power = 5.2, Heat Input = 17.73095907733333,  Efficiency=29.327234794915903\n",
            "For Fuel 1 amount = 20.848, Fuel 2 amount = 8.3392, Brake power = 5.2, Heat Input = 16.344845898666662,  Efficiency=31.814310347362728\n",
            "For Fuel 1 amount = 20.958, Fuel 2 amount = 8.3832, Brake power = 5.2, Heat Input = 16.431085971999998,  Efficiency=31.647329999132456\n",
            "For Fuel 1 amount = 25.935, Fuel 2 amount = 10.374, Brake power = 5.2, Heat Input = 20.33305729,  Efficiency=25.574117683509467\n",
            "For Fuel 1 amount = 20.972, Fuel 2 amount = 8.388800000000002, Brake power = 5.2, Heat Input = 16.442061981333335,  Efficiency=31.626203610615004\n",
            "For Fuel 1 amount = 22.008, Fuel 2 amount = 8.8032, Brake power = 5.2, Heat Input = 17.254286672,  Efficiency=30.137438300700563\n",
            "For Fuel 1 amount = 19.053, Fuel 2 amount = 7.621200000000001, Brake power = 5.2, Heat Input = 14.937564702,  Efficiency=34.81156469436929\n",
            "For Fuel 1 amount = 23.886, Fuel 2 amount = 9.5544, Brake power = 5.2, Heat Input = 18.726639923999997,  Efficiency=27.767928582509338\n",
            "For Fuel 1 amount = 19.376, Fuel 2 amount = 7.750400000000001, Brake power = 5.2, Heat Input = 15.190796917333333,  Efficiency=34.231252173917106\n",
            "For Fuel 1 amount = 20.584, Fuel 2 amount = 8.233600000000001, Brake power = 5.2, Heat Input = 16.137869722666665,  Efficiency=32.22234464252905\n",
            "For Fuel 1 amount = 24.983, Fuel 2 amount = 9.993200000000002, Brake power = 5.2, Heat Input = 19.586688655333333,  Efficiency=26.54864276195085\n",
            "For Fuel 1 amount = 27.12, Fuel 2 amount = 10.848, Brake power = 5.2, Heat Input = 21.26209808,  Efficiency=24.45666453251541\n",
            "For Fuel 1 amount = 25.935, Fuel 2 amount = 10.374, Brake power = 5.2, Heat Input = 20.33305729,  Efficiency=25.574117683509467\n"
          ]
        }
      ]
    },
    {
      "cell_type": "markdown",
      "source": [
        "DMC 10"
      ],
      "metadata": {
        "id": "5VhWkGu4mQwO"
      }
    },
    {
      "cell_type": "code",
      "source": [
        "#DMC 10\n",
        "fuel_1_range = [16.46,20.11,28.18,18.05,20.49,27.43,41.24,12.81,19.13,8.91,8.37,26.28,33.83,17.658,22.041,27.756,26.955,15.264,18.224,22.4,16.912,18.648,23.429,9.324,11.994,14.682,17.604,21.522,6.909,17.094,20.86,28.042,35.945,13.992,15.432,19.744,24.288,17.776,10.346,12.936,17.85,25.298,30.807,18.891,20.421,12.504,14.92,19.432,22.616,20.848,10.143,12.621,15.365,20.958,10.528,13.944,11.277,12.978,17.031,25.935,11.416,13.968,16.656,9.555,11.963,14.924,20.972,22.008,19.053,23.886,33.264,4.936,12.936,19.376,10.843,12.117,13.272,12.488,16.48,20.584,29.072,10.409,12.425,16.268,24.983,32.508,12.424,14.88,18.272,27.12,11.375,13.811,16.954,25.935]  # Values from 1 to 60 (inclusive)\n",
        "fuel_2_range=[]\n",
        "for i in fuel_1_range:\n",
        "  fuel_2_range.append(i*0.1)\n",
        " # Values from 1 to 40 (inclusive)\n",
        "calorific_value1 = 35800\n",
        "brake_power = 5.2\n",
        "density1 = 958\n",
        "density2=1073\n",
        "calorific_value2=35000\n",
        "# Assuming you have the formulas defined as functions, for example:\n",
        "def predict_efficiency(fuel_amount_1, fuel_amount_2, calorific_value1,calorific_value2, brake_power, density1,density2):\n",
        "    # Your formula to calculate efficiency based on the given inputs\n",
        "    mass_of_fuel1 = ((fuel_amount_1  * 0.000001) / 60) * density1\n",
        "    mass_of_fuel2=((fuel_amount_2  * 0.000001) / 60) * density2\n",
        "    heat_input = mass_of_fuel1 * calorific_value1 + mass_of_fuel2 * calorific_value2\n",
        "    efficiency = brake_power / heat_input\n",
        "    return heat_input\n",
        "    # Limit efficiency to a maximum value of 32\n",
        "    efficiency = min(efficiency, 32)\n",
        "\n",
        "    return efficiency\n",
        "\n",
        "# List to store combinations that meet the efficiency criteria\n",
        "efficient_combinations = []\n",
        "\n",
        "# Loop through all combinations of fuel_1 and fuel_2\n",
        "for fuel_amount_1 in fuel_1_range:\n",
        "      # Use the formula-based prediction function to get efficiency\n",
        "      predicted_efficiency = predict_efficiency(fuel_amount_1, fuel_amount_1*0.1, calorific_value1,calorific_value2 ,brake_power,density1,density2)\n",
        "      \"\"\"if 23 <= predicted_efficiency <= 32:\"\"\"\n",
        "      efficient_combinations.append((fuel_amount_1, fuel_amount_1*0.1, predicted_efficiency))\n",
        "\n",
        "# Print the combinations that meet the efficiency criteria\n",
        "if efficient_combinations:\n",
        "    for fuel_amount_1, fuel_amount_2, predicted_efficiency in efficient_combinations:\n",
        "        eff=(brake_power/predicted_efficiency)*100\n",
        "        if eff>=23 and eff<=35:\n",
        "          print(f\"For Fuel 1 amount = {fuel_amount_1}, Fuel 2 amount = {fuel_amount_2}, \"\n",
        "                f\"Brake power = {brake_power}, \"\n",
        "                f\"Heat Input = {predicted_efficiency}, \",f\"Efficiency={eff}\")\n",
        "\n",
        "else:\n",
        "    print(\"No combinations meet the efficiency criteria.\")"
      ],
      "metadata": {
        "colab": {
          "base_uri": "https://localhost:8080/"
        },
        "id": "9dFQFN-zmURU",
        "outputId": "8be8f053-2a82-4d02-e5cc-75dc14a47892"
      },
      "execution_count": null,
      "outputs": [
        {
          "output_type": "stream",
          "name": "stdout",
          "text": [
            "For Fuel 1 amount = 28.18, Fuel 2 amount = 2.818, Brake power = 5.2, Heat Input = 17.87170903333333,  Efficiency=29.096266005121528\n",
            "For Fuel 1 amount = 27.43, Fuel 2 amount = 2.7430000000000003, Brake power = 5.2, Heat Input = 17.396060283333334,  Efficiency=29.89182559330385\n",
            "For Fuel 1 amount = 26.28, Fuel 2 amount = 2.628, Brake power = 5.2, Heat Input = 16.6667322,  Efficiency=31.199877322082376\n",
            "For Fuel 1 amount = 33.83, Fuel 2 amount = 3.383, Brake power = 5.2, Heat Input = 21.454929616666664,  Efficiency=24.236854153837566\n",
            "For Fuel 1 amount = 27.756, Fuel 2 amount = 2.7756000000000003, Brake power = 5.2, Heat Input = 17.60280894,  Efficiency=29.54073987693921\n",
            "For Fuel 1 amount = 26.955, Fuel 2 amount = 2.6955, Brake power = 5.2, Heat Input = 17.094816075,  Efficiency=30.418578223866614\n",
            "For Fuel 1 amount = 23.429, Fuel 2 amount = 2.3428999999999998, Brake power = 5.2, Heat Input = 14.858632751666667,  Efficiency=34.99649050426073\n",
            "For Fuel 1 amount = 28.042, Fuel 2 amount = 2.8042000000000002, Brake power = 5.2, Heat Input = 17.784189663333333,  Efficiency=29.239454248068064\n",
            "For Fuel 1 amount = 24.288, Fuel 2 amount = 2.4288000000000003, Brake power = 5.2, Heat Input = 15.40340912,  Efficiency=33.758760541185964\n",
            "For Fuel 1 amount = 25.298, Fuel 2 amount = 2.5298, Brake power = 5.2, Heat Input = 16.04394943666666,  Efficiency=32.41097225173235\n",
            "For Fuel 1 amount = 30.807, Fuel 2 amount = 3.0807, Brake power = 5.2, Heat Input = 19.537748054999994,  Efficiency=26.615145130143308\n",
            "For Fuel 1 amount = 25.935, Fuel 2 amount = 2.5935, Brake power = 5.2, Heat Input = 16.447933775,  Efficiency=31.614913284145928\n",
            "For Fuel 1 amount = 23.886, Fuel 2 amount = 2.3886, Brake power = 5.2, Heat Input = 15.148461389999998,  Efficiency=34.32691853070103\n",
            "For Fuel 1 amount = 33.264, Fuel 2 amount = 3.3264000000000005, Brake power = 5.2, Heat Input = 21.09597336,  Efficiency=24.64925372848499\n",
            "For Fuel 1 amount = 29.072, Fuel 2 amount = 2.9072, Brake power = 5.2, Heat Input = 18.437413946666663,  Efficiency=28.203521464788277\n",
            "For Fuel 1 amount = 24.983, Fuel 2 amount = 2.4983000000000004, Brake power = 5.2, Heat Input = 15.844176961666667,  Efficiency=32.81962838827702\n",
            "For Fuel 1 amount = 32.508, Fuel 2 amount = 3.2508000000000004, Brake power = 5.2, Heat Input = 20.616519420000003,  Efficiency=25.22249218728696\n",
            "For Fuel 1 amount = 27.12, Fuel 2 amount = 2.712, Brake power = 5.2, Heat Input = 17.199458800000002,  Efficiency=30.23350944042495\n",
            "For Fuel 1 amount = 25.935, Fuel 2 amount = 2.5935, Brake power = 5.2, Heat Input = 16.447933775,  Efficiency=31.614913284145928\n"
          ]
        }
      ]
    },
    {
      "cell_type": "markdown",
      "source": [
        "DMC 20"
      ],
      "metadata": {
        "id": "396jJs0umWKi"
      }
    },
    {
      "cell_type": "code",
      "source": [
        "#DMC 20\n",
        "fuel_1_range = [16.46,20.11,28.18,18.05,20.49,27.43,41.24,12.81,19.13,8.91,8.37,26.28,33.83,17.658,22.041,27.756,26.955,15.264,18.224,22.4,16.912,18.648,23.429,9.324,11.994,14.682,17.604,21.522,6.909,17.094,20.86,28.042,35.945,13.992,15.432,19.744,24.288,17.776,10.346,12.936,17.85,25.298,30.807,18.891,20.421,12.504,14.92,19.432,22.616,20.848,10.143,12.621,15.365,20.958,10.528,13.944,11.277,12.978,17.031,25.935,11.416,13.968,16.656,9.555,11.963,14.924,20.972,22.008,19.053,23.886,33.264,4.936,12.936,19.376,10.843,12.117,13.272,12.488,16.48,20.584,29.072,10.409,12.425,16.268,24.983,32.508,12.424,14.88,18.272,27.12,11.375,13.811,16.954,25.935]  # Values from 1 to 60 (inclusive)\n",
        "fuel_2_range=[]\n",
        "for i in fuel_1_range:\n",
        "  fuel_2_range.append(i*0.2)\n",
        " # Values from 1 to 40 (inclusive)\n",
        "calorific_value1 = 35800\n",
        "brake_power = 5.2\n",
        "density1 = 958\n",
        "density2=1073\n",
        "calorific_value2=35000\n",
        "# Assuming you have the formulas defined as functions, for example:\n",
        "def predict_efficiency(fuel_amount_1, fuel_amount_2, calorific_value1,calorific_value2, brake_power, density1,density2):\n",
        "    # Your formula to calculate efficiency based on the given inputs\n",
        "    mass_of_fuel1 = ((fuel_amount_1  * 0.000001) / 60) * density1\n",
        "    mass_of_fuel2=((fuel_amount_2  * 0.000001) / 60) * density2\n",
        "    heat_input = mass_of_fuel1 * calorific_value1 + mass_of_fuel2 * calorific_value2\n",
        "    efficiency = brake_power / heat_input\n",
        "    return heat_input\n",
        "    # Limit efficiency to a maximum value of 32\n",
        "    efficiency = min(efficiency, 32)\n",
        "\n",
        "    return efficiency\n",
        "\n",
        "# List to store combinations that meet the efficiency criteria\n",
        "efficient_combinations = []\n",
        "\n",
        "# Loop through all combinations of fuel_1 and fuel_2\n",
        "for fuel_amount_1 in fuel_1_range:\n",
        "      # Use the formula-based prediction function to get efficiency\n",
        "      predicted_efficiency = predict_efficiency(fuel_amount_1, fuel_amount_1*0.2, calorific_value1,calorific_value2 ,brake_power,density1,density2)\n",
        "      \"\"\"if 23 <= predicted_efficiency <= 32:\"\"\"\n",
        "      efficient_combinations.append((fuel_amount_1, fuel_amount_1*0.2, predicted_efficiency))\n",
        "\n",
        "# Print the combinations that meet the efficiency criteria\n",
        "if efficient_combinations:\n",
        "    for fuel_amount_1, fuel_amount_2, predicted_efficiency in efficient_combinations:\n",
        "        eff=(brake_power/predicted_efficiency)*100\n",
        "        if eff>=23 and eff<=35:\n",
        "          print(f\"For Fuel 1 amount = {fuel_amount_1}, Fuel 2 amount = {fuel_amount_2}, \"\n",
        "                f\"Brake power = {brake_power}, \"\n",
        "                f\"Heat Input = {predicted_efficiency}, \",f\"Efficiency={eff}\")\n",
        "\n",
        "else:\n",
        "    print(\"No combinations meet the efficiency criteria.\")"
      ],
      "metadata": {
        "colab": {
          "base_uri": "https://localhost:8080/"
        },
        "id": "srTFDbMumYHM",
        "outputId": "c1b56303-b27b-48cd-cfd3-7290e81aaf08"
      },
      "execution_count": null,
      "outputs": [
        {
          "output_type": "stream",
          "name": "stdout",
          "text": [
            "For Fuel 1 amount = 28.18, Fuel 2 amount = 5.636, Brake power = 5.2, Heat Input = 19.635542199999996,  Efficiency=26.482589311946786\n",
            "For Fuel 1 amount = 27.43, Fuel 2 amount = 5.486000000000001, Brake power = 5.2, Heat Input = 19.1129497,  Efficiency=27.206684900133443\n",
            "For Fuel 1 amount = 26.28, Fuel 2 amount = 5.256, Brake power = 5.2, Heat Input = 18.311641199999997,  Efficiency=28.397236180009912\n",
            "For Fuel 1 amount = 22.041, Fuel 2 amount = 4.4082, Brake power = 5.2, Heat Input = 15.35794839,  Efficiency=33.85868911622251\n",
            "For Fuel 1 amount = 27.756, Fuel 2 amount = 5.551200000000001, Brake power = 5.2, Heat Input = 19.340103239999998,  Efficiency=26.887136720372546\n",
            "For Fuel 1 amount = 26.955, Fuel 2 amount = 5.391, Brake power = 5.2, Heat Input = 18.78197445,  Efficiency=27.686120082012998\n",
            "For Fuel 1 amount = 22.4, Fuel 2 amount = 4.4799999999999995, Brake power = 5.2, Heat Input = 15.608096,  Efficiency=33.316043161190194\n",
            "For Fuel 1 amount = 23.429, Fuel 2 amount = 4.6857999999999995, Brake power = 5.2, Heat Input = 16.32509291,  Efficiency=31.85280493451109\n",
            "For Fuel 1 amount = 21.522, Fuel 2 amount = 4.3044, Brake power = 5.2, Heat Input = 14.996314379999998,  Efficiency=34.67518663742498\n",
            "For Fuel 1 amount = 28.042, Fuel 2 amount = 5.6084000000000005, Brake power = 5.2, Heat Input = 19.53938518,  Efficiency=26.612915156217827\n",
            "For Fuel 1 amount = 24.288, Fuel 2 amount = 4.857600000000001, Brake power = 5.2, Heat Input = 16.923635519999998,  Efficiency=30.726258514931672\n",
            "For Fuel 1 amount = 25.298, Fuel 2 amount = 5.0596, Brake power = 5.2, Heat Input = 17.627393419999997,  Efficiency=29.499540153793202\n",
            "For Fuel 1 amount = 30.807, Fuel 2 amount = 6.1614, Brake power = 5.2, Heat Input = 21.466009529999994,  Efficiency=24.22434403903855\n",
            "For Fuel 1 amount = 22.616, Fuel 2 amount = 4.5232, Brake power = 5.2, Heat Input = 15.75860264,  Efficiency=32.997849611366306\n",
            "For Fuel 1 amount = 25.935, Fuel 2 amount = 5.187, Brake power = 5.2, Heat Input = 18.071248649999998,  Efficiency=28.77499004475267\n",
            "For Fuel 1 amount = 22.008, Fuel 2 amount = 4.4016, Brake power = 5.2, Heat Input = 15.334954319999998,  Efficiency=33.9094586882343\n",
            "For Fuel 1 amount = 23.886, Fuel 2 amount = 4.7772, Brake power = 5.2, Heat Input = 16.643525939999996,  Efficiency=31.243379670545945\n",
            "For Fuel 1 amount = 29.072, Fuel 2 amount = 5.8144, Brake power = 5.2, Heat Input = 20.257078879999998,  Efficiency=25.670038759310003\n",
            "For Fuel 1 amount = 24.983, Fuel 2 amount = 4.996600000000001, Brake power = 5.2, Heat Input = 17.40790457,  Efficiency=29.871487283779384\n",
            "For Fuel 1 amount = 27.12, Fuel 2 amount = 5.424, Brake power = 5.2, Heat Input = 18.8969448,  Efficiency=27.51767576735473\n",
            "For Fuel 1 amount = 25.935, Fuel 2 amount = 5.187, Brake power = 5.2, Heat Input = 18.071248649999998,  Efficiency=28.77499004475267\n"
          ]
        }
      ]
    },
    {
      "cell_type": "markdown",
      "source": [
        "DMC 30"
      ],
      "metadata": {
        "id": "MxeHye24mYkC"
      }
    },
    {
      "cell_type": "code",
      "source": [
        "#DMC 30\n",
        "fuel_1_range = [16.46,20.11,28.18,18.05,20.49,27.43,41.24,12.81,19.13,8.91,8.37,26.28,33.83,17.658,22.041,27.756,26.955,15.264,18.224,22.4,16.912,18.648,23.429,9.324,11.994,14.682,17.604,21.522,6.909,17.094,20.86,28.042,35.945,13.992,15.432,19.744,24.288,17.776,10.346,12.936,17.85,25.298,30.807,18.891,20.421,12.504,14.92,19.432,22.616,20.848,10.143,12.621,15.365,20.958,10.528,13.944,11.277,12.978,17.031,25.935,11.416,13.968,16.656,9.555,11.963,14.924,20.972,22.008,19.053,23.886,33.264,4.936,12.936,19.376,10.843,12.117,13.272,12.488,16.48,20.584,29.072,10.409,12.425,16.268,24.983,32.508,12.424,14.88,18.272,27.12,11.375,13.811,16.954,25.935]  # Values from 1 to 60 (inclusive)\n",
        "fuel_2_range=[]\n",
        "for i in fuel_1_range:\n",
        "  fuel_2_range.append(i*0.3)\n",
        " # Values from 1 to 40 (inclusive)\n",
        "calorific_value1 = 35800\n",
        "brake_power = 5.2\n",
        "density1 = 958\n",
        "density2=1073\n",
        "calorific_value2=35000\n",
        "# Assuming you have the formulas defined as functions, for example:\n",
        "def predict_efficiency(fuel_amount_1, fuel_amount_2, calorific_value1,calorific_value2, brake_power, density1,density2):\n",
        "    # Your formula to calculate efficiency based on the given inputs\n",
        "    mass_of_fuel1 = ((fuel_amount_1  * 0.000001) / 60) * density1\n",
        "    mass_of_fuel2=((fuel_amount_2  * 0.000001) / 60) * density2\n",
        "    heat_input = mass_of_fuel1 * calorific_value1 + mass_of_fuel2 * calorific_value2\n",
        "    efficiency = brake_power / heat_input\n",
        "    return heat_input\n",
        "    # Limit efficiency to a maximum value of 32\n",
        "    efficiency = min(efficiency, 32)\n",
        "\n",
        "    return efficiency\n",
        "\n",
        "# List to store combinations that meet the efficiency criteria\n",
        "efficient_combinations = []\n",
        "\n",
        "# Loop through all combinations of fuel_1 and fuel_2\n",
        "for fuel_amount_1 in fuel_1_range:\n",
        "      # Use the formula-based prediction function to get efficiency\n",
        "      predicted_efficiency = predict_efficiency(fuel_amount_1, fuel_amount_1*0.3, calorific_value1,calorific_value2 ,brake_power,density1,density2)\n",
        "      \"\"\"if 23 <= predicted_efficiency <= 32:\"\"\"\n",
        "      efficient_combinations.append((fuel_amount_1, fuel_amount_1*0.3, predicted_efficiency))\n",
        "\n",
        "# Print the combinations that meet the efficiency criteria\n",
        "if efficient_combinations:\n",
        "    for fuel_amount_1, fuel_amount_2, predicted_efficiency in efficient_combinations:\n",
        "        eff=(brake_power/predicted_efficiency)*100\n",
        "        if eff>=23 and eff<=35:\n",
        "          print(f\"For Fuel 1 amount = {fuel_amount_1}, Fuel 2 amount = {fuel_amount_2}, \"\n",
        "                f\"Brake power = {brake_power}, \"\n",
        "                f\"Heat Input = {predicted_efficiency}, \",f\"Efficiency={eff}\")\n",
        "\n",
        "else:\n",
        "    print(\"No combinations meet the efficiency criteria.\")"
      ],
      "metadata": {
        "colab": {
          "base_uri": "https://localhost:8080/"
        },
        "id": "SD4uswLBmasH",
        "outputId": "f67298a9-b792-4209-85d9-fb9f2164f80b"
      },
      "execution_count": null,
      "outputs": [
        {
          "output_type": "stream",
          "name": "stdout",
          "text": [
            "For Fuel 1 amount = 20.11, Fuel 2 amount = 6.0329999999999995, Brake power = 5.2, Heat Input = 15.271165316666664,  Efficiency=34.05110148552198\n",
            "For Fuel 1 amount = 28.18, Fuel 2 amount = 8.453999999999999, Brake power = 5.2, Heat Input = 21.39937536666666,  Efficiency=24.299774693890956\n",
            "For Fuel 1 amount = 20.49, Fuel 2 amount = 6.146999999999999, Brake power = 5.2, Heat Input = 15.559730349999997,  Efficiency=33.41960228764505\n",
            "For Fuel 1 amount = 27.43, Fuel 2 amount = 8.229, Brake power = 5.2, Heat Input = 20.82983911666667,  Efficiency=24.964187053366636\n",
            "For Fuel 1 amount = 26.28, Fuel 2 amount = 7.884, Brake power = 5.2, Heat Input = 19.9565502,  Efficiency=26.05660771970498\n",
            "For Fuel 1 amount = 22.041, Fuel 2 amount = 6.6123, Brake power = 5.2, Heat Input = 16.737531315,  Efficiency=31.067903038602925\n",
            "For Fuel 1 amount = 27.756, Fuel 2 amount = 8.3268, Brake power = 5.2, Heat Input = 21.07739754,  Efficiency=24.670977477801088\n",
            "For Fuel 1 amount = 26.955, Fuel 2 amount = 8.0865, Brake power = 5.2, Heat Input = 20.469132825,  Efficiency=25.404105022216545\n",
            "For Fuel 1 amount = 22.4, Fuel 2 amount = 6.72, Brake power = 5.2, Heat Input = 17.010149333333334,  Efficiency=30.56998441401102\n",
            "For Fuel 1 amount = 23.429, Fuel 2 amount = 7.0287, Brake power = 5.2, Heat Input = 17.791553068333332,  Efficiency=29.22735289059913\n",
            "For Fuel 1 amount = 21.522, Fuel 2 amount = 6.456599999999999, Brake power = 5.2, Heat Input = 16.34341223,  Efficiency=31.81710114644768\n",
            "For Fuel 1 amount = 20.86, Fuel 2 amount = 6.258, Brake power = 5.2, Heat Input = 15.840701566666668,  Efficiency=32.82682890095143\n",
            "For Fuel 1 amount = 28.042, Fuel 2 amount = 8.4126, Brake power = 5.2, Heat Input = 21.294580696666664,  Efficiency=24.41935849346862\n",
            "For Fuel 1 amount = 19.744, Fuel 2 amount = 5.9232, Brake power = 5.2, Heat Input = 14.993231626666665,  Efficiency=34.682316190936334\n",
            "For Fuel 1 amount = 24.288, Fuel 2 amount = 7.2863999999999995, Brake power = 5.2, Heat Input = 18.443861919999996,  Efficiency=28.19366151489818\n",
            "For Fuel 1 amount = 25.298, Fuel 2 amount = 7.5893999999999995, Brake power = 5.2, Heat Input = 19.21083740333333,  Efficiency=27.06805482148182\n",
            "For Fuel 1 amount = 20.421, Fuel 2 amount = 6.1263, Brake power = 5.2, Heat Input = 15.507333014999999,  Efficiency=33.532522935891826\n",
            "For Fuel 1 amount = 22.616, Fuel 2 amount = 6.7848, Brake power = 5.2, Heat Input = 17.17417577333333,  Efficiency=30.27801781366497\n",
            "For Fuel 1 amount = 20.848, Fuel 2 amount = 6.2543999999999995, Brake power = 5.2, Heat Input = 15.831588986666663,  Efficiency=32.845723852352606\n",
            "For Fuel 1 amount = 20.958, Fuel 2 amount = 6.287399999999999, Brake power = 5.2, Heat Input = 15.91512097,  Efficiency=32.67333003501513\n",
            "For Fuel 1 amount = 25.935, Fuel 2 amount = 7.780499999999999, Brake power = 5.2, Heat Input = 19.694563525,  Efficiency=26.403225404813842\n",
            "For Fuel 1 amount = 20.972, Fuel 2 amount = 6.2916, Brake power = 5.2, Heat Input = 15.925752313333334,  Efficiency=32.651518733256104\n",
            "For Fuel 1 amount = 22.008, Fuel 2 amount = 6.602399999999999, Brake power = 5.2, Heat Input = 16.712471719999996,  Efficiency=31.114487953191887\n",
            "For Fuel 1 amount = 23.886, Fuel 2 amount = 7.1658, Brake power = 5.2, Heat Input = 18.13859049,  Efficiency=28.668159209321235\n",
            "For Fuel 1 amount = 20.584, Fuel 2 amount = 6.175199999999999, Brake power = 5.2, Heat Input = 15.631112226666666,  Efficiency=33.266986536817285\n",
            "For Fuel 1 amount = 29.072, Fuel 2 amount = 8.721599999999999, Brake power = 5.2, Heat Input = 22.07674381333333,  Efficiency=23.554198227636455\n",
            "For Fuel 1 amount = 24.983, Fuel 2 amount = 7.4948999999999995, Brake power = 5.2, Heat Input = 18.971632178333333,  Efficiency=27.40934438913849\n",
            "For Fuel 1 amount = 27.12, Fuel 2 amount = 8.136, Brake power = 5.2, Heat Input = 20.5944308,  Efficiency=25.249544648740667\n",
            "For Fuel 1 amount = 25.935, Fuel 2 amount = 7.780499999999999, Brake power = 5.2, Heat Input = 19.694563525,  Efficiency=26.403225404813842\n"
          ]
        }
      ]
    },
    {
      "cell_type": "markdown",
      "source": [
        "DMC 40"
      ],
      "metadata": {
        "id": "CndCDV_TmgHz"
      }
    },
    {
      "cell_type": "code",
      "source": [
        "#DMC 40\n",
        "fuel_1_range = [16.46,20.11,28.18,18.05,20.49,27.43,41.24,12.81,19.13,8.91,8.37,26.28,33.83,17.658,22.041,27.756,26.955,15.264,18.224,22.4,16.912,18.648,23.429,9.324,11.994,14.682,17.604,21.522,6.909,17.094,20.86,28.042,35.945,13.992,15.432,19.744,24.288,17.776,10.346,12.936,17.85,25.298,30.807,18.891,20.421,12.504,14.92,19.432,22.616,20.848,10.143,12.621,15.365,20.958,10.528,13.944,11.277,12.978,17.031,25.935,11.416,13.968,16.656,9.555,11.963,14.924,20.972,22.008,19.053,23.886,33.264,4.936,12.936,19.376,10.843,12.117,13.272,12.488,16.48,20.584,29.072,10.409,12.425,16.268,24.983,32.508,12.424,14.88,18.272,27.12,11.375,13.811,16.954,25.935]  # Values from 1 to 60 (inclusive)\n",
        "fuel_2_range=[]\n",
        "for i in fuel_1_range:\n",
        "  fuel_2_range.append(i*0.4)\n",
        " # Values from 1 to 40 (inclusive)\n",
        "calorific_value1 = 35800\n",
        "brake_power = 5.2\n",
        "density1 = 958\n",
        "density2=1073\n",
        "calorific_value2=35000\n",
        "# Assuming you have the formulas defined as functions, for example:\n",
        "def predict_efficiency(fuel_amount_1, fuel_amount_2, calorific_value1,calorific_value2, brake_power, density1,density2):\n",
        "    # Your formula to calculate efficiency based on the given inputs\n",
        "    mass_of_fuel1 = ((fuel_amount_1  * 0.000001) / 60) * density1\n",
        "    mass_of_fuel2=((fuel_amount_2  * 0.000001) / 60) * density2\n",
        "    heat_input = mass_of_fuel1 * calorific_value1 + mass_of_fuel2 * calorific_value2\n",
        "    efficiency = brake_power / heat_input\n",
        "    return heat_input\n",
        "    # Limit efficiency to a maximum value of 32\n",
        "    efficiency = min(efficiency, 32)\n",
        "\n",
        "    return efficiency\n",
        "\n",
        "# List to store combinations that meet the efficiency criteria\n",
        "efficient_combinations = []\n",
        "\n",
        "# Loop through all combinations of fuel_1 and fuel_2\n",
        "for fuel_amount_1 in fuel_1_range:\n",
        "      # Use the formula-based prediction function to get efficiency\n",
        "      predicted_efficiency = predict_efficiency(fuel_amount_1, fuel_amount_1*0.4, calorific_value1,calorific_value2 ,brake_power,density1,density2)\n",
        "      \"\"\"if 23 <= predicted_efficiency <= 32:\"\"\"\n",
        "      efficient_combinations.append((fuel_amount_1, fuel_amount_1*0.4, predicted_efficiency))\n",
        "\n",
        "# Print the combinations that meet the efficiency criteria\n",
        "if efficient_combinations:\n",
        "    for fuel_amount_1, fuel_amount_2, predicted_efficiency in efficient_combinations:\n",
        "        eff=(brake_power/predicted_efficiency)*100\n",
        "        if eff>=23 and eff<=35:\n",
        "          print(f\"For Fuel 1 amount = {fuel_amount_1}, Fuel 2 amount = {fuel_amount_2}, \"\n",
        "                f\"Brake power = {brake_power}, \"\n",
        "                f\"Heat Input = {predicted_efficiency}, \",f\"Efficiency={eff}\")\n",
        "\n",
        "else:\n",
        "    print(\"No combinations meet the efficiency criteria.\")"
      ],
      "metadata": {
        "colab": {
          "base_uri": "https://localhost:8080/"
        },
        "id": "EWq1h6EImhqt",
        "outputId": "67c6cdcc-b6c9-4bee-9632-73b6511a933c"
      },
      "execution_count": null,
      "outputs": [
        {
          "output_type": "stream",
          "name": "stdout",
          "text": [
            "For Fuel 1 amount = 20.11, Fuel 2 amount = 8.044, Brake power = 5.2, Heat Input = 16.52988373333333,  Efficiency=31.458176499535455\n",
            "For Fuel 1 amount = 20.49, Fuel 2 amount = 8.196, Brake power = 5.2, Heat Input = 16.8422336,  Efficiency=30.874764734292725\n",
            "For Fuel 1 amount = 27.43, Fuel 2 amount = 10.972000000000001, Brake power = 5.2, Heat Input = 22.546728533333336,  Efficiency=23.06321288391024\n",
            "For Fuel 1 amount = 19.13, Fuel 2 amount = 7.652, Brake power = 5.2, Heat Input = 15.724349866666667,  Efficiency=33.069729712789226\n",
            "For Fuel 1 amount = 26.28, Fuel 2 amount = 10.512, Brake power = 5.2, Heat Input = 21.6014592,  Efficiency=24.072447846486224\n",
            "For Fuel 1 amount = 22.041, Fuel 2 amount = 8.8164, Brake power = 5.2, Heat Input = 18.11711424,  Efficiency=28.702142797770424\n",
            "For Fuel 1 amount = 26.955, Fuel 2 amount = 10.782, Brake power = 5.2, Heat Input = 22.1562912,  Efficiency=23.469631957175217\n",
            "For Fuel 1 amount = 18.224, Fuel 2 amount = 7.2896, Brake power = 5.2, Heat Input = 14.979642026666667,  Efficiency=34.71378014736929\n",
            "For Fuel 1 amount = 22.4, Fuel 2 amount = 8.959999999999999, Brake power = 5.2, Heat Input = 18.412202666666666,  Efficiency=28.24213970560973\n",
            "For Fuel 1 amount = 18.648, Fuel 2 amount = 7.4592, Brake power = 5.2, Heat Input = 15.32815872,  Efficiency=33.92449213887055\n",
            "For Fuel 1 amount = 23.429, Fuel 2 amount = 9.371599999999999, Brake power = 5.2, Heat Input = 19.258013226666666,  Efficiency=27.001746954870377\n",
            "For Fuel 1 amount = 21.522, Fuel 2 amount = 8.6088, Brake power = 5.2, Heat Input = 17.690510079999996,  Efficiency=29.394290930473844\n",
            "For Fuel 1 amount = 20.86, Fuel 2 amount = 8.344, Brake power = 5.2, Heat Input = 17.146363733333335,  Efficiency=30.3271298852185\n",
            "For Fuel 1 amount = 19.744, Fuel 2 amount = 7.897600000000001, Brake power = 5.2, Heat Input = 16.229041493333334,  Efficiency=32.04132543586193\n",
            "For Fuel 1 amount = 24.288, Fuel 2 amount = 9.715200000000001, Brake power = 5.2, Heat Input = 19.964088320000002,  Efficiency=26.046769161958906\n",
            "For Fuel 1 amount = 25.298, Fuel 2 amount = 10.1192, Brake power = 5.2, Heat Input = 20.79428138666666,  Efficiency=25.00687522356147\n",
            "For Fuel 1 amount = 18.891, Fuel 2 amount = 7.5564, Brake power = 5.2, Heat Input = 15.527898239999995,  Efficiency=33.488112297160455\n",
            "For Fuel 1 amount = 20.421, Fuel 2 amount = 8.1684, Brake power = 5.2, Heat Input = 16.78551744,  Efficiency=30.97908669534587\n",
            "For Fuel 1 amount = 19.432, Fuel 2 amount = 7.7728, Brake power = 5.2, Heat Input = 15.972585813333332,  Efficiency=32.555780640472314\n",
            "For Fuel 1 amount = 22.616, Fuel 2 amount = 9.0464, Brake power = 5.2, Heat Input = 18.589748906666664,  Efficiency=27.97240579260957\n",
            "For Fuel 1 amount = 20.848, Fuel 2 amount = 8.3392, Brake power = 5.2, Heat Input = 17.13650005333333,  Efficiency=30.344586022911464\n",
            "For Fuel 1 amount = 20.958, Fuel 2 amount = 8.3832, Brake power = 5.2, Heat Input = 17.22691712,  Efficiency=30.185319658634313\n",
            "For Fuel 1 amount = 25.935, Fuel 2 amount = 10.374, Brake power = 5.2, Heat Input = 21.317878399999998,  Efficiency=24.392671270702063\n",
            "For Fuel 1 amount = 20.972, Fuel 2 amount = 8.388800000000002, Brake power = 5.2, Heat Input = 17.23842474666667,  Efficiency=30.165169244977008\n",
            "For Fuel 1 amount = 22.008, Fuel 2 amount = 8.8032, Brake power = 5.2, Heat Input = 18.08998912,  Efficiency=28.745180361943746\n",
            "For Fuel 1 amount = 19.053, Fuel 2 amount = 7.621200000000001, Brake power = 5.2, Heat Input = 15.661057920000001,  Efficiency=33.20337633998099\n",
            "For Fuel 1 amount = 23.886, Fuel 2 amount = 9.5544, Brake power = 5.2, Heat Input = 19.633655039999997,  Efficiency=26.485134782117477\n",
            "For Fuel 1 amount = 19.376, Fuel 2 amount = 7.750400000000001, Brake power = 5.2, Heat Input = 15.926555306666666,  Efficiency=32.64987249203437\n",
            "For Fuel 1 amount = 20.584, Fuel 2 amount = 8.233600000000001, Brake power = 5.2, Heat Input = 16.919499093333332,  Efficiency=30.733770375323456\n",
            "For Fuel 1 amount = 24.983, Fuel 2 amount = 9.993200000000002, Brake power = 5.2, Heat Input = 20.535359786666668,  Efficiency=25.322176256080454\n",
            "For Fuel 1 amount = 18.272, Fuel 2 amount = 7.3088, Brake power = 5.2, Heat Input = 15.019096746666666,  Efficiency=34.62258808043225\n",
            "For Fuel 1 amount = 27.12, Fuel 2 amount = 10.848, Brake power = 5.2, Heat Input = 22.291916800000003,  Efficiency=23.326841054780896\n",
            "For Fuel 1 amount = 25.935, Fuel 2 amount = 10.374, Brake power = 5.2, Heat Input = 21.317878399999998,  Efficiency=24.392671270702063\n"
          ]
        }
      ]
    },
    {
      "cell_type": "markdown",
      "source": [
        "CM 10"
      ],
      "metadata": {
        "id": "ztUlOWD0nTel"
      }
    },
    {
      "cell_type": "code",
      "source": [
        "#CM 10\n",
        "fuel_1_range = [16.46,20.11,28.18,18.05,20.49,27.43,41.24,12.81,19.13,8.91,8.37,26.28,33.83,17.658,22.041,27.756,26.955,15.264,18.224,22.4,16.912,18.648,23.429,9.324,11.994,14.682,17.604,21.522,6.909,17.094,20.86,28.042,35.945,13.992,15.432,19.744,24.288,17.776,10.346,12.936,17.85,25.298,30.807,18.891,20.421,12.504,14.92,19.432,22.616,20.848,10.143,12.621,15.365,20.958,10.528,13.944,11.277,12.978,17.031,25.935,11.416,13.968,16.656,9.555,11.963,14.924,20.972,22.008,19.053,23.886,33.264,4.936,12.936,19.376,10.843,12.117,13.272,12.488,16.48,20.584,29.072,10.409,12.425,16.268,24.983,32.508,12.424,14.88,18.272,27.12,11.375,13.811,16.954,25.935]  # Values from 1 to 60 (inclusive)\n",
        "fuel_2_range=[]\n",
        "for i in fuel_1_range:\n",
        "  fuel_2_range.append(i*0.1)\n",
        " # Values from 1 to 40 (inclusive)\n",
        "calorific_value1 = 35800\n",
        "brake_power = 5.2\n",
        "density1 = 958\n",
        "density2=894.2\n",
        "calorific_value2=38200\n",
        "# Assuming you have the formulas defined as functions, for example:\n",
        "def predict_efficiency(fuel_amount_1, fuel_amount_2, calorific_value1,calorific_value2, brake_power, density1,density2):\n",
        "    # Your formula to calculate efficiency based on the given inputs\n",
        "    mass_of_fuel1 = ((fuel_amount_1  * 0.000001) / 60) * density1\n",
        "    mass_of_fuel2=((fuel_amount_2  * 0.000001) / 60) * density2\n",
        "    heat_input = mass_of_fuel1 * calorific_value1 + mass_of_fuel2 * calorific_value2\n",
        "    efficiency = brake_power / heat_input\n",
        "    return heat_input\n",
        "    # Limit efficiency to a maximum value of 32\n",
        "    efficiency = min(efficiency, 32)\n",
        "\n",
        "    return efficiency\n",
        "\n",
        "# List to store combinations that meet the efficiency criteria\n",
        "efficient_combinations = []\n",
        "\n",
        "# Loop through all combinations of fuel_1 and fuel_2\n",
        "for fuel_amount_1 in fuel_1_range:\n",
        "      # Use the formula-based prediction function to get efficiency\n",
        "      predicted_efficiency = predict_efficiency(fuel_amount_1, fuel_amount_1*0.1, calorific_value1,calorific_value2 ,brake_power,density1,density2)\n",
        "      \"\"\"if 23 <= predicted_efficiency <= 32:\"\"\"\n",
        "      efficient_combinations.append((fuel_amount_1, fuel_amount_1*0.1, predicted_efficiency))\n",
        "\n",
        "# Print the combinations that meet the efficiency criteria\n",
        "if efficient_combinations:\n",
        "    for fuel_amount_1, fuel_amount_2, predicted_efficiency in efficient_combinations:\n",
        "        eff=(brake_power/predicted_efficiency)*100\n",
        "        if eff>=23 and eff<=35:\n",
        "          print(f\"For Fuel 1 amount = {fuel_amount_1}, Fuel 2 amount = {fuel_amount_2}, \"\n",
        "                f\"Brake power = {brake_power}, \"\n",
        "                f\"Heat Input = {predicted_efficiency}, \",f\"Efficiency={eff}\")\n",
        "\n",
        "else:\n",
        "    print(\"No combinations meet the efficiency criteria.\")"
      ],
      "metadata": {
        "colab": {
          "base_uri": "https://localhost:8080/"
        },
        "id": "4bnx4oEnnfvr",
        "outputId": "984b32c3-97d5-4e9f-cb4d-fcfa9bfd9156"
      },
      "execution_count": null,
      "outputs": [
        {
          "output_type": "stream",
          "name": "stdout",
          "text": [
            "For Fuel 1 amount = 28.18, Fuel 2 amount = 2.818, Brake power = 5.2, Heat Input = 17.712183932,  Efficiency=29.35832204522977\n",
            "For Fuel 1 amount = 27.43, Fuel 2 amount = 2.7430000000000003, Brake power = 5.2, Heat Input = 17.240780882000003,  Efficiency=30.16104685507017\n",
            "For Fuel 1 amount = 26.28, Fuel 2 amount = 2.628, Brake power = 5.2, Heat Input = 16.517962872,  Efficiency=31.48087957513603\n",
            "For Fuel 1 amount = 33.83, Fuel 2 amount = 3.383, Brake power = 5.2, Heat Input = 21.263420242,  Efficiency=24.45514381420558\n",
            "For Fuel 1 amount = 27.756, Fuel 2 amount = 2.7756000000000003, Brake power = 5.2, Heat Input = 17.4456840744,  Efficiency=29.80679907892257\n",
            "For Fuel 1 amount = 26.955, Fuel 2 amount = 2.6955, Brake power = 5.2, Heat Input = 16.942225617,  Efficiency=30.6925436926201\n",
            "For Fuel 1 amount = 28.042, Fuel 2 amount = 2.8042000000000002, Brake power = 5.2, Heat Input = 17.6254457708,  Efficiency=29.50279991564706\n",
            "For Fuel 1 amount = 35.945, Fuel 2 amount = 3.5945, Brake power = 5.2, Heat Input = 22.592776843000003,  Efficiency=23.016205737503817\n",
            "For Fuel 1 amount = 24.288, Fuel 2 amount = 2.4288000000000003, Brake power = 5.2, Heat Input = 15.2659163712,  Efficiency=34.06280942171339\n",
            "For Fuel 1 amount = 25.298, Fuel 2 amount = 2.5298, Brake power = 5.2, Heat Input = 15.900739145199996,  Efficiency=32.70288225292809\n",
            "For Fuel 1 amount = 30.807, Fuel 2 amount = 3.0807, Brake power = 5.2, Heat Input = 19.363351681799994,  Efficiency=26.85485491072078\n",
            "For Fuel 1 amount = 25.935, Fuel 2 amount = 2.5935, Brake power = 5.2, Heat Input = 16.301117468999998,  Efficiency=31.89965356601407\n",
            "For Fuel 1 amount = 23.886, Fuel 2 amount = 2.3886, Brake power = 5.2, Heat Input = 15.013244336399998,  Efficiency=34.63608453632148\n",
            "For Fuel 1 amount = 33.264, Fuel 2 amount = 3.3264000000000005, Brake power = 5.2, Heat Input = 20.9076680736,  Efficiency=24.87125767299708\n",
            "For Fuel 1 amount = 29.072, Fuel 2 amount = 2.9072, Brake power = 5.2, Heat Input = 18.272839292799997,  Efficiency=28.45753698522891\n",
            "For Fuel 1 amount = 24.983, Fuel 2 amount = 2.4983000000000004, Brake power = 5.2, Heat Input = 15.7027498642,  Efficiency=33.11521895827462\n",
            "For Fuel 1 amount = 32.508, Fuel 2 amount = 3.2508000000000004, Brake power = 5.2, Heat Input = 20.432493799200003,  Efficiency=25.449659014229564\n",
            "For Fuel 1 amount = 27.12, Fuel 2 amount = 2.712, Brake power = 5.2, Heat Input = 17.045934288,  Efficiency=30.50580808387075\n",
            "For Fuel 1 amount = 25.935, Fuel 2 amount = 2.5935, Brake power = 5.2, Heat Input = 16.301117468999998,  Efficiency=31.89965356601407\n"
          ]
        }
      ]
    },
    {
      "cell_type": "markdown",
      "source": [
        "CM 20"
      ],
      "metadata": {
        "id": "CDpZFlgKngVE"
      }
    },
    {
      "cell_type": "code",
      "source": [
        "#CM 20\n",
        "fuel_1_range = [16.46,20.11,28.18,18.05,20.49,27.43,41.24,12.81,19.13,8.91,8.37,26.28,33.83,17.658,22.041,27.756,26.955,15.264,18.224,22.4,16.912,18.648,23.429,9.324,11.994,14.682,17.604,21.522,6.909,17.094,20.86,28.042,35.945,13.992,15.432,19.744,24.288,17.776,10.346,12.936,17.85,25.298,30.807,18.891,20.421,12.504,14.92,19.432,22.616,20.848,10.143,12.621,15.365,20.958,10.528,13.944,11.277,12.978,17.031,25.935,11.416,13.968,16.656,9.555,11.963,14.924,20.972,22.008,19.053,23.886,33.264,4.936,12.936,19.376,10.843,12.117,13.272,12.488,16.48,20.584,29.072,10.409,12.425,16.268,24.983,32.508,12.424,14.88,18.272,27.12,11.375,13.811,16.954,25.935]  # Values from 1 to 60 (inclusive)\n",
        "fuel_2_range=[]\n",
        "for i in fuel_1_range:\n",
        "  fuel_2_range.append(i*0.2)\n",
        " # Values from 1 to 40 (inclusive)\n",
        "calorific_value1 = 35800\n",
        "brake_power = 5.2\n",
        "density1 = 958\n",
        "density2=894.2\n",
        "calorific_value2=38200\n",
        "# Assuming you have the formulas defined as functions, for example:\n",
        "def predict_efficiency(fuel_amount_1, fuel_amount_2, calorific_value1,calorific_value2, brake_power, density1,density2):\n",
        "    # Your formula to calculate efficiency based on the given inputs\n",
        "    mass_of_fuel1 = ((fuel_amount_1  * 0.000001) / 60) * density1\n",
        "    mass_of_fuel2=((fuel_amount_2  * 0.000001) / 60) * density2\n",
        "    heat_input = mass_of_fuel1 * calorific_value1 + mass_of_fuel2 * calorific_value2\n",
        "    efficiency = brake_power / heat_input\n",
        "    return heat_input\n",
        "    # Limit efficiency to a maximum value of 32\n",
        "    efficiency = min(efficiency, 32)\n",
        "\n",
        "    return efficiency\n",
        "\n",
        "# List to store combinations that meet the efficiency criteria\n",
        "efficient_combinations = []\n",
        "\n",
        "# Loop through all combinations of fuel_1 and fuel_2\n",
        "for fuel_amount_1 in fuel_1_range:\n",
        "      # Use the formula-based prediction function to get efficiency\n",
        "      predicted_efficiency = predict_efficiency(fuel_amount_1, fuel_amount_1*0.2, calorific_value1,calorific_value2 ,brake_power,density1,density2)\n",
        "      \"\"\"if 23 <= predicted_efficiency <= 32:\"\"\"\n",
        "      efficient_combinations.append((fuel_amount_1, fuel_amount_1*0.2, predicted_efficiency))\n",
        "\n",
        "# Print the combinations that meet the efficiency criteria\n",
        "if efficient_combinations:\n",
        "    for fuel_amount_1, fuel_amount_2, predicted_efficiency in efficient_combinations:\n",
        "        eff=(brake_power/predicted_efficiency)*100\n",
        "        if eff>=23 and eff<=35:\n",
        "          print(f\"For Fuel 1 amount = {fuel_amount_1}, Fuel 2 amount = {fuel_amount_2}, \"\n",
        "                f\"Brake power = {brake_power}, \"\n",
        "                f\"Heat Input = {predicted_efficiency}, \",f\"Efficiency={eff}\")\n",
        "\n",
        "else:\n",
        "    print(\"No combinations meet the efficiency criteria.\")"
      ],
      "metadata": {
        "colab": {
          "base_uri": "https://localhost:8080/"
        },
        "id": "dvYuWMf0nhr0",
        "outputId": "4adecb1a-fef2-4c22-c761-0b26439e36c1"
      },
      "execution_count": null,
      "outputs": [
        {
          "output_type": "stream",
          "name": "stdout",
          "text": [
            "For Fuel 1 amount = 28.18, Fuel 2 amount = 5.636, Brake power = 5.2, Heat Input = 19.31649199733333,  Efficiency=26.92000183427647\n",
            "For Fuel 1 amount = 27.43, Fuel 2 amount = 5.486000000000001, Brake power = 5.2, Heat Input = 18.802390897333336,  Efficiency=27.656057298210378\n",
            "For Fuel 1 amount = 26.28, Fuel 2 amount = 5.256, Brake power = 5.2, Heat Input = 18.014102543999996,  Efficiency=28.8662728953543\n",
            "For Fuel 1 amount = 22.041, Fuel 2 amount = 4.4082, Brake power = 5.2, Heat Input = 15.108403126799999,  Efficiency=34.41793256612272\n",
            "For Fuel 1 amount = 27.756, Fuel 2 amount = 5.551200000000001, Brake power = 5.2, Heat Input = 19.0258535088,  Efficiency=27.331231146055295\n",
            "For Fuel 1 amount = 26.955, Fuel 2 amount = 5.391, Brake power = 5.2, Heat Input = 18.476793534,  Efficiency=28.143411303650932\n",
            "For Fuel 1 amount = 22.4, Fuel 2 amount = 4.4799999999999995, Brake power = 5.2, Heat Input = 15.354486186666668,  Efficiency=33.86632373615674\n",
            "For Fuel 1 amount = 23.429, Fuel 2 amount = 4.6857999999999995, Brake power = 5.2, Heat Input = 16.059832895866666,  Efficiency=32.37891722608352\n",
            "For Fuel 1 amount = 28.042, Fuel 2 amount = 5.6084000000000005, Brake power = 5.2, Heat Input = 19.221897394933332,  Efficiency=27.052480268522604\n",
            "For Fuel 1 amount = 24.288, Fuel 2 amount = 4.857600000000001, Brake power = 5.2, Heat Input = 16.6486500224,  Efficiency=31.233763656534542\n",
            "For Fuel 1 amount = 25.298, Fuel 2 amount = 5.0596, Brake power = 5.2, Heat Input = 17.340972837066662,  Efficiency=29.986783607000987\n",
            "For Fuel 1 amount = 30.807, Fuel 2 amount = 6.1614, Brake power = 5.2, Heat Input = 21.117216783599996,  Efficiency=24.62445715875973\n",
            "For Fuel 1 amount = 22.616, Fuel 2 amount = 4.5232, Brake power = 5.2, Heat Input = 15.502547303466665,  Efficiency=33.542874588340595\n",
            "For Fuel 1 amount = 25.935, Fuel 2 amount = 5.187, Brake power = 5.2, Heat Input = 17.777616037999998,  Efficiency=29.250266114899205\n",
            "For Fuel 1 amount = 22.008, Fuel 2 amount = 4.4016, Brake power = 5.2, Heat Input = 15.085782678399998,  Efficiency=34.46954069837836\n",
            "For Fuel 1 amount = 23.886, Fuel 2 amount = 4.7772, Brake power = 5.2, Heat Input = 16.373091832799997,  Efficiency=31.75942609436117\n",
            "For Fuel 1 amount = 29.072, Fuel 2 amount = 5.8144, Brake power = 5.2, Heat Input = 19.927929572266663,  Efficiency=26.094030396598477\n",
            "For Fuel 1 amount = 24.983, Fuel 2 amount = 4.996600000000001, Brake power = 5.2, Heat Input = 17.125050375066667,  Efficiency=30.364874182040218\n",
            "For Fuel 1 amount = 32.508, Fuel 2 amount = 6.501600000000001, Brake power = 5.2, Heat Input = 22.2831980784,  Efficiency=23.33596812138276\n",
            "For Fuel 1 amount = 27.12, Fuel 2 amount = 5.424, Brake power = 5.2, Heat Input = 18.589895776000002,  Efficiency=27.972184796825616\n",
            "For Fuel 1 amount = 25.935, Fuel 2 amount = 5.187, Brake power = 5.2, Heat Input = 17.777616037999998,  Efficiency=29.250266114899205\n"
          ]
        }
      ]
    },
    {
      "cell_type": "markdown",
      "source": [
        "CM 30"
      ],
      "metadata": {
        "id": "5DWpGRjenigT"
      }
    },
    {
      "cell_type": "code",
      "source": [
        "#CM 30\n",
        "fuel_1_range = [16.46,20.11,28.18,18.05,20.49,27.43,41.24,12.81,19.13,8.91,8.37,26.28,33.83,17.658,22.041,27.756,26.955,15.264,18.224,22.4,16.912,18.648,23.429,9.324,11.994,14.682,17.604,21.522,6.909,17.094,20.86,28.042,35.945,13.992,15.432,19.744,24.288,17.776,10.346,12.936,17.85,25.298,30.807,18.891,20.421,12.504,14.92,19.432,22.616,20.848,10.143,12.621,15.365,20.958,10.528,13.944,11.277,12.978,17.031,25.935,11.416,13.968,16.656,9.555,11.963,14.924,20.972,22.008,19.053,23.886,33.264,4.936,12.936,19.376,10.843,12.117,13.272,12.488,16.48,20.584,29.072,10.409,12.425,16.268,24.983,32.508,12.424,14.88,18.272,27.12,11.375,13.811,16.954,25.935]  # Values from 1 to 60 (inclusive)\n",
        "fuel_2_range=[]\n",
        "for i in fuel_1_range:\n",
        "  fuel_2_range.append(i*0.3)\n",
        " # Values from 1 to 40 (inclusive)\n",
        "calorific_value1 = 35800\n",
        "brake_power = 5.2\n",
        "density1 = 958\n",
        "density2=894.2\n",
        "calorific_value2=38200\n",
        "# Assuming you have the formulas defined as functions, for example:\n",
        "def predict_efficiency(fuel_amount_1, fuel_amount_2, calorific_value1,calorific_value2, brake_power, density1,density2):\n",
        "    # Your formula to calculate efficiency based on the given inputs\n",
        "    mass_of_fuel1 = ((fuel_amount_1  * 0.000001) / 60) * density1\n",
        "    mass_of_fuel2=((fuel_amount_2  * 0.000001) / 60) * density2\n",
        "    heat_input = mass_of_fuel1 * calorific_value1 + mass_of_fuel2 * calorific_value2\n",
        "    efficiency = brake_power / heat_input\n",
        "    return heat_input\n",
        "    # Limit efficiency to a maximum value of 32\n",
        "    efficiency = min(efficiency, 32)\n",
        "\n",
        "    return efficiency\n",
        "\n",
        "# List to store combinations that meet the efficiency criteria\n",
        "efficient_combinations = []\n",
        "\n",
        "# Loop through all combinations of fuel_1 and fuel_2\n",
        "for fuel_amount_1 in fuel_1_range:\n",
        "      # Use the formula-based prediction function to get efficiency\n",
        "      predicted_efficiency = predict_efficiency(fuel_amount_1, fuel_amount_1*0.3, calorific_value1,calorific_value2 ,brake_power,density1,density2)\n",
        "      \"\"\"if 23 <= predicted_efficiency <= 32:\"\"\"\n",
        "      efficient_combinations.append((fuel_amount_1, fuel_amount_1*0.3, predicted_efficiency))\n",
        "\n",
        "# Print the combinations that meet the efficiency criteria\n",
        "if efficient_combinations:\n",
        "    for fuel_amount_1, fuel_amount_2, predicted_efficiency in efficient_combinations:\n",
        "        eff=(brake_power/predicted_efficiency)*100\n",
        "        if eff>=23 and eff<=35:\n",
        "          print(f\"For Fuel 1 amount = {fuel_amount_1}, Fuel 2 amount = {fuel_amount_2}, \"\n",
        "                f\"Brake power = {brake_power}, \"\n",
        "                f\"Heat Input = {predicted_efficiency}, \",f\"Efficiency={eff}\")\n",
        "\n",
        "else:\n",
        "    print(\"No combinations meet the efficiency criteria.\")"
      ],
      "metadata": {
        "colab": {
          "base_uri": "https://localhost:8080/"
        },
        "id": "jhx2treGnjbv",
        "outputId": "4a272ef3-3b05-4b36-b886-0ec720519653"
      },
      "execution_count": null,
      "outputs": [
        {
          "output_type": "stream",
          "name": "stdout",
          "text": [
            "For Fuel 1 amount = 20.11, Fuel 2 amount = 6.0329999999999995, Brake power = 5.2, Heat Input = 14.929641208666666,  Efficiency=34.8300399676142\n",
            "For Fuel 1 amount = 28.18, Fuel 2 amount = 8.453999999999999, Brake power = 5.2, Heat Input = 20.920800062666665,  Efficiency=24.855645981146974\n",
            "For Fuel 1 amount = 20.49, Fuel 2 amount = 6.146999999999999, Brake power = 5.2, Heat Input = 15.211752777999997,  Efficiency=34.184094863285594\n",
            "For Fuel 1 amount = 27.43, Fuel 2 amount = 8.229, Brake power = 5.2, Heat Input = 20.36400091266667,  Efficiency=25.535257154528672\n",
            "For Fuel 1 amount = 26.28, Fuel 2 amount = 7.884, Brake power = 5.2, Heat Input = 19.510242215999998,  Efficiency=26.652667570347095\n",
            "For Fuel 1 amount = 22.041, Fuel 2 amount = 6.6123, Brake power = 5.2, Heat Input = 16.3632134202,  Efficiency=31.778599144717646\n",
            "For Fuel 1 amount = 27.756, Fuel 2 amount = 8.3268, Brake power = 5.2, Heat Input = 20.6060229432,  Efficiency=25.235340241703476\n",
            "For Fuel 1 amount = 26.955, Fuel 2 amount = 8.0865, Brake power = 5.2, Heat Input = 20.011361451,  Efficiency=25.985238499303343\n",
            "For Fuel 1 amount = 22.4, Fuel 2 amount = 6.72, Brake power = 5.2, Heat Input = 16.629734613333333,  Efficiency=31.26929034592507\n",
            "For Fuel 1 amount = 23.429, Fuel 2 amount = 7.0287, Brake power = 5.2, Heat Input = 17.393663047133334,  Efficiency=29.895945356127946\n",
            "For Fuel 1 amount = 21.522, Fuel 2 amount = 6.456599999999999, Brake power = 5.2, Heat Input = 15.977908408399998,  Efficiency=32.54493558910519\n",
            "For Fuel 1 amount = 20.86, Fuel 2 amount = 6.258, Brake power = 5.2, Heat Input = 15.486440358666668,  Efficiency=33.577761445288665\n",
            "For Fuel 1 amount = 28.042, Fuel 2 amount = 8.4126, Brake power = 5.2, Heat Input = 20.818349019066666,  Efficiency=24.977965328746937\n",
            "For Fuel 1 amount = 24.288, Fuel 2 amount = 7.2863999999999995, Brake power = 5.2, Heat Input = 18.031383673599997,  Efficiency=28.838607697164104\n",
            "For Fuel 1 amount = 25.298, Fuel 2 amount = 7.5893999999999995, Brake power = 5.2, Heat Input = 18.78120652893333,  Efficiency=27.687252104858956\n",
            "For Fuel 1 amount = 20.421, Fuel 2 amount = 6.1263, Brake power = 5.2, Heat Input = 15.160527256199998,  Efficiency=34.29959863614523\n",
            "For Fuel 1 amount = 22.616, Fuel 2 amount = 6.7848, Brake power = 5.2, Heat Input = 16.79009276853333,  Efficiency=30.970644842090632\n",
            "For Fuel 1 amount = 20.848, Fuel 2 amount = 6.2543999999999995, Brake power = 5.2, Heat Input = 15.477531572266663,  Efficiency=33.59708862954345\n",
            "For Fuel 1 amount = 20.958, Fuel 2 amount = 6.287399999999999, Brake power = 5.2, Heat Input = 15.5591954476,  Efficiency=33.42075120472954\n",
            "For Fuel 1 amount = 25.935, Fuel 2 amount = 7.780499999999999, Brake power = 5.2, Heat Input = 19.254114606999998,  Efficiency=27.00721433386241\n",
            "For Fuel 1 amount = 20.972, Fuel 2 amount = 6.2916, Brake power = 5.2, Heat Input = 15.569589031733335,  Efficiency=33.39844095692931\n",
            "For Fuel 1 amount = 22.008, Fuel 2 amount = 6.602399999999999, Brake power = 5.2, Heat Input = 16.338714257599996,  Efficiency=31.82624971595428\n",
            "For Fuel 1 amount = 23.886, Fuel 2 amount = 7.1658, Brake power = 5.2, Heat Input = 17.732939329199997,  Efficiency=29.323959798573295\n",
            "For Fuel 1 amount = 20.584, Fuel 2 amount = 6.175199999999999, Brake power = 5.2, Heat Input = 15.281538271466665,  Efficiency=34.02798793959977\n",
            "For Fuel 1 amount = 29.072, Fuel 2 amount = 8.721599999999999, Brake power = 5.2, Heat Input = 21.58301985173333,  Efficiency=24.09301402547887\n",
            "For Fuel 1 amount = 24.983, Fuel 2 amount = 7.4948999999999995, Brake power = 5.2, Heat Input = 18.547350885933334,  Efficiency=28.036348867178546\n",
            "For Fuel 1 amount = 27.12, Fuel 2 amount = 8.136, Brake power = 5.2, Heat Input = 20.133857264,  Efficiency=25.82714246861068\n",
            "For Fuel 1 amount = 25.935, Fuel 2 amount = 7.780499999999999, Brake power = 5.2, Heat Input = 19.254114606999998,  Efficiency=27.00721433386241\n"
          ]
        }
      ]
    },
    {
      "cell_type": "markdown",
      "source": [
        "CM 40"
      ],
      "metadata": {
        "id": "zGfL3U9LnkBc"
      }
    },
    {
      "cell_type": "code",
      "source": [
        "#CM 40\n",
        "fuel_1_range = [16.46,20.11,28.18,18.05,20.49,27.43,41.24,12.81,19.13,8.91,8.37,26.28,33.83,17.658,22.041,27.756,26.955,15.264,18.224,22.4,16.912,18.648,23.429,9.324,11.994,14.682,17.604,21.522,6.909,17.094,20.86,28.042,35.945,13.992,15.432,19.744,24.288,17.776,10.346,12.936,17.85,25.298,30.807,18.891,20.421,12.504,14.92,19.432,22.616,20.848,10.143,12.621,15.365,20.958,10.528,13.944,11.277,12.978,17.031,25.935,11.416,13.968,16.656,9.555,11.963,14.924,20.972,22.008,19.053,23.886,33.264,4.936,12.936,19.376,10.843,12.117,13.272,12.488,16.48,20.584,29.072,10.409,12.425,16.268,24.983,32.508,12.424,14.88,18.272,27.12,11.375,13.811,16.954,25.935]  # Values from 1 to 60 (inclusive)\n",
        "fuel_2_range=[]\n",
        "for i in fuel_1_range:\n",
        "  fuel_2_range.append(i*0.4)\n",
        " # Values from 1 to 40 (inclusive)\n",
        "calorific_value1 = 35800\n",
        "brake_power = 5.2\n",
        "density1 = 958\n",
        "density2=894.2\n",
        "calorific_value2=38200\n",
        "# Assuming you have the formulas defined as functions, for example:\n",
        "def predict_efficiency(fuel_amount_1, fuel_amount_2, calorific_value1,calorific_value2, brake_power, density1,density2):\n",
        "    # Your formula to calculate efficiency based on the given inputs\n",
        "    mass_of_fuel1 = ((fuel_amount_1  * 0.000001) / 60) * density1\n",
        "    mass_of_fuel2=((fuel_amount_2  * 0.000001) / 60) * density2\n",
        "    heat_input = mass_of_fuel1 * calorific_value1 + mass_of_fuel2 * calorific_value2\n",
        "    efficiency = brake_power / heat_input\n",
        "    return heat_input\n",
        "    # Limit efficiency to a maximum value of 32\n",
        "    efficiency = min(efficiency, 32)\n",
        "\n",
        "    return efficiency\n",
        "\n",
        "# List to store combinations that meet the efficiency criteria\n",
        "efficient_combinations = []\n",
        "\n",
        "# Loop through all combinations of fuel_1 and fuel_2\n",
        "for fuel_amount_1 in fuel_1_range:\n",
        "      # Use the formula-based prediction function to get efficiency\n",
        "      predicted_efficiency = predict_efficiency(fuel_amount_1, fuel_amount_1*0.4, calorific_value1,calorific_value2 ,brake_power,density1,density2)\n",
        "      \"\"\"if 23 <= predicted_efficiency <= 32:\"\"\"\n",
        "      efficient_combinations.append((fuel_amount_1, fuel_amount_1*0.4, predicted_efficiency))\n",
        "\n",
        "# Print the combinations that meet the efficiency criteria\n",
        "if efficient_combinations:\n",
        "    for fuel_amount_1, fuel_amount_2, predicted_efficiency in efficient_combinations:\n",
        "        eff=(brake_power/predicted_efficiency)*100\n",
        "        if eff>=23 and eff<=35:\n",
        "          print(f\"For Fuel 1 amount = {fuel_amount_1}, Fuel 2 amount = {fuel_amount_2}, \"\n",
        "                f\"Brake power = {brake_power}, \"\n",
        "                f\"Heat Input = {predicted_efficiency}, \",f\"Efficiency={eff}\")\n",
        "\n",
        "else:\n",
        "    print(\"No combinations meet the efficiency criteria.\")"
      ],
      "metadata": {
        "colab": {
          "base_uri": "https://localhost:8080/"
        },
        "id": "45cs5Y3Gnlto",
        "outputId": "29ce6afa-8fdd-400e-c3eb-0dcb7441ea0b"
      },
      "execution_count": null,
      "outputs": [
        {
          "output_type": "stream",
          "name": "stdout",
          "text": [
            "For Fuel 1 amount = 20.11, Fuel 2 amount = 8.044, Brake power = 5.2, Heat Input = 16.074518255999998,  Efficiency=32.34933649136913\n",
            "For Fuel 1 amount = 28.18, Fuel 2 amount = 11.272, Brake power = 5.2, Heat Input = 22.525108127999996,  Efficiency=23.085349781456113\n",
            "For Fuel 1 amount = 20.49, Fuel 2 amount = 8.196, Brake power = 5.2, Heat Input = 16.378263503999996,  Efficiency=31.74939760085082\n",
            "For Fuel 1 amount = 27.43, Fuel 2 amount = 10.972000000000001, Brake power = 5.2, Heat Input = 21.925610928,  Efficiency=23.71655693917\n",
            "For Fuel 1 amount = 19.13, Fuel 2 amount = 7.652, Brake power = 5.2, Heat Input = 15.291175248,  Efficiency=34.006542438130325\n",
            "For Fuel 1 amount = 26.28, Fuel 2 amount = 10.512, Brake power = 5.2, Heat Input = 21.006381888,  Efficiency=24.754381919384823\n",
            "For Fuel 1 amount = 22.041, Fuel 2 amount = 8.8164, Brake power = 5.2, Heat Input = 17.6180237136,  Efficiency=29.51522874830694\n",
            "For Fuel 1 amount = 27.756, Fuel 2 amount = 11.102400000000001, Brake power = 5.2, Heat Input = 22.1861923776,  Efficiency=23.43800103910625\n",
            "For Fuel 1 amount = 26.955, Fuel 2 amount = 10.782, Brake power = 5.2, Heat Input = 21.545929368,  Efficiency=24.134489216896053\n",
            "For Fuel 1 amount = 22.4, Fuel 2 amount = 8.959999999999999, Brake power = 5.2, Heat Input = 17.90498304,  Efficiency=29.042194501849693\n",
            "For Fuel 1 amount = 18.648, Fuel 2 amount = 7.4592, Brake power = 5.2, Heat Input = 14.9058983808,  Efficiency=34.88551892114077\n",
            "For Fuel 1 amount = 23.429, Fuel 2 amount = 9.371599999999999, Brake power = 5.2, Heat Input = 18.727493198399998,  Efficiency=27.76666340182821\n",
            "For Fuel 1 amount = 21.522, Fuel 2 amount = 8.6088, Brake power = 5.2, Heat Input = 17.203171651199998,  Efficiency=30.226984334236278\n",
            "For Fuel 1 amount = 20.86, Fuel 2 amount = 8.344, Brake power = 5.2, Heat Input = 16.674015456,  Efficiency=31.18624912950303\n",
            "For Fuel 1 amount = 28.042, Fuel 2 amount = 11.216800000000001, Brake power = 5.2, Heat Input = 22.4148006432,  Efficiency=23.19895716573116\n",
            "For Fuel 1 amount = 19.744, Fuel 2 amount = 7.897600000000001, Brake power = 5.2, Heat Input = 15.7819636224,  Efficiency=32.94900510744698\n",
            "For Fuel 1 amount = 24.288, Fuel 2 amount = 9.715200000000001, Brake power = 5.2, Heat Input = 19.4141173248,  Efficiency=26.784632610401566\n",
            "For Fuel 1 amount = 25.298, Fuel 2 amount = 10.1192, Brake power = 5.2, Heat Input = 20.221440220799998,  Efficiency=25.715280134454627\n",
            "For Fuel 1 amount = 18.891, Fuel 2 amount = 7.5564, Brake power = 5.2, Heat Input = 15.100135473599998,  Efficiency=34.436777134160884\n",
            "For Fuel 1 amount = 20.421, Fuel 2 amount = 8.1684, Brake power = 5.2, Heat Input = 16.3231097616,  Efficiency=31.856674836757904\n",
            "For Fuel 1 amount = 19.432, Fuel 2 amount = 7.7728, Brake power = 5.2, Heat Input = 15.5325727872,  Efficiency=33.4780340078959\n",
            "For Fuel 1 amount = 22.616, Fuel 2 amount = 9.0464, Brake power = 5.2, Heat Input = 18.0776382336,  Efficiency=28.76481945708495\n",
            "For Fuel 1 amount = 20.848, Fuel 2 amount = 8.3392, Brake power = 5.2, Heat Input = 16.664423500799998,  Efficiency=31.20419977174948\n",
            "For Fuel 1 amount = 20.958, Fuel 2 amount = 8.3832, Brake power = 5.2, Heat Input = 16.7523497568,  Efficiency=31.04042164526353\n",
            "For Fuel 1 amount = 25.935, Fuel 2 amount = 10.374, Brake power = 5.2, Heat Input = 20.730613176,  Efficiency=25.083676762731184\n",
            "For Fuel 1 amount = 20.972, Fuel 2 amount = 8.388800000000002, Brake power = 5.2, Heat Input = 16.7635403712,  Efficiency=31.019700402509688\n",
            "For Fuel 1 amount = 22.008, Fuel 2 amount = 8.8032, Brake power = 5.2, Heat Input = 17.591645836799998,  Efficiency=29.55948549806585\n",
            "For Fuel 1 amount = 19.053, Fuel 2 amount = 7.621200000000001, Brake power = 5.2, Heat Input = 15.2296268688,  Efficiency=34.143975061220445\n",
            "For Fuel 1 amount = 23.886, Fuel 2 amount = 9.5544, Brake power = 5.2, Heat Input = 19.092786825599998,  Efficiency=27.235416429767785\n",
            "For Fuel 1 amount = 19.376, Fuel 2 amount = 7.750400000000001, Brake power = 5.2, Heat Input = 15.487810329599998,  Efficiency=33.57479133161815\n",
            "For Fuel 1 amount = 20.584, Fuel 2 amount = 8.233600000000001, Brake power = 5.2, Heat Input = 16.4534004864,  Efficiency=31.604409096455164\n",
            "For Fuel 1 amount = 24.983, Fuel 2 amount = 9.993200000000002, Brake power = 5.2, Heat Input = 19.9696513968,  Efficiency=26.039513142594288\n",
            "For Fuel 1 amount = 27.12, Fuel 2 amount = 10.848, Brake power = 5.2, Heat Input = 21.677818752,  Efficiency=23.987653275864055\n",
            "For Fuel 1 amount = 25.935, Fuel 2 amount = 10.374, Brake power = 5.2, Heat Input = 20.730613176,  Efficiency=25.083676762731184\n"
          ]
        }
      ]
    },
    {
      "cell_type": "markdown",
      "source": [
        "DEE 10"
      ],
      "metadata": {
        "id": "0RHgED08oMlJ"
      }
    },
    {
      "cell_type": "code",
      "source": [
        "#DEE 10\n",
        "fuel_1_range = [16.46,20.11,28.18,18.05,20.49,27.43,41.24,12.81,19.13,8.91,8.37,26.28,33.83,17.658,22.041,27.756,26.955,15.264,18.224,22.4,16.912,18.648,23.429,9.324,11.994,14.682,17.604,21.522,6.909,17.094,20.86,28.042,35.945,13.992,15.432,19.744,24.288,17.776,10.346,12.936,17.85,25.298,30.807,18.891,20.421,12.504,14.92,19.432,22.616,20.848,10.143,12.621,15.365,20.958,10.528,13.944,11.277,12.978,17.031,25.935,11.416,13.968,16.656,9.555,11.963,14.924,20.972,22.008,19.053,23.886,33.264,4.936,12.936,19.376,10.843,12.117,13.272,12.488,16.48,20.584,29.072,10.409,12.425,16.268,24.983,32.508,12.424,14.88,18.272,27.12,11.375,13.811,16.954,25.935]  # Values from 1 to 60 (inclusive)\n",
        "fuel_2_range=[]\n",
        "for i in fuel_1_range:\n",
        "  fuel_2_range.append(i*0.1)\n",
        " # Values from 1 to 40 (inclusive)\n",
        "calorific_value1 = 35800\n",
        "brake_power = 5.2\n",
        "density1 = 958\n",
        "density2=713\n",
        "calorific_value2=39000\n",
        "# Assuming you have the formulas defined as functions, for example:\n",
        "def predict_efficiency(fuel_amount_1, fuel_amount_2, calorific_value1,calorific_value2, brake_power, density1,density2):\n",
        "    # Your formula to calculate efficiency based on the given inputs\n",
        "    mass_of_fuel1 = ((fuel_amount_1  * 0.000001) / 60) * density1\n",
        "    mass_of_fuel2=((fuel_amount_2  * 0.000001) / 60) * density2\n",
        "    heat_input = mass_of_fuel1 * calorific_value1 + mass_of_fuel2 * calorific_value2\n",
        "    efficiency = brake_power / heat_input\n",
        "    return heat_input\n",
        "    # Limit efficiency to a maximum value of 32\n",
        "    efficiency = min(efficiency, 32)\n",
        "\n",
        "    return efficiency\n",
        "\n",
        "# List to store combinations that meet the efficiency criteria\n",
        "efficient_combinations = []\n",
        "\n",
        "# Loop through all combinations of fuel_1 and fuel_2\n",
        "for fuel_amount_1 in fuel_1_range:\n",
        "      # Use the formula-based prediction function to get efficiency\n",
        "      predicted_efficiency = predict_efficiency(fuel_amount_1, fuel_amount_1*0.1, calorific_value1,calorific_value2 ,brake_power,density1,density2)\n",
        "      \"\"\"if 23 <= predicted_efficiency <= 32:\"\"\"\n",
        "      efficient_combinations.append((fuel_amount_1, fuel_amount_1*0.1, predicted_efficiency))\n",
        "\n",
        "# Print the combinations that meet the efficiency criteria\n",
        "if efficient_combinations:\n",
        "    for fuel_amount_1, fuel_amount_2, predicted_efficiency in efficient_combinations:\n",
        "        eff=(brake_power/predicted_efficiency)*100\n",
        "        if eff>=23 and eff<=35:\n",
        "          print(f\"For Fuel 1 amount = {fuel_amount_1}, Fuel 2 amount = {fuel_amount_2}, \"\n",
        "                f\"Brake power = {brake_power}, \"\n",
        "                f\"Heat Input = {predicted_efficiency}, \",f\"Efficiency={eff}\")\n",
        "\n",
        "else:\n",
        "    print(\"No combinations meet the efficiency criteria.\")"
      ],
      "metadata": {
        "colab": {
          "base_uri": "https://localhost:8080/"
        },
        "id": "A2f-AWx7oR5O",
        "outputId": "1dd8a800-8ed9-4cad-95fc-e40c8832ba00"
      },
      "execution_count": null,
      "outputs": [
        {
          "output_type": "stream",
          "name": "stdout",
          "text": [
            "For Fuel 1 amount = 28.18, Fuel 2 amount = 2.818, Brake power = 5.2, Heat Input = 17.413877966666664,  Efficiency=29.861240614834607\n",
            "For Fuel 1 amount = 27.43, Fuel 2 amount = 2.7430000000000003, Brake power = 5.2, Heat Input = 16.95041421666667,  Efficiency=30.67771638811662\n",
            "For Fuel 1 amount = 26.28, Fuel 2 amount = 2.628, Brake power = 5.2, Heat Input = 16.239769799999998,  Efficiency=32.02015831529829\n",
            "For Fuel 1 amount = 33.83, Fuel 2 amount = 3.383, Brake power = 5.2, Heat Input = 20.905304883333333,  Efficiency=24.874069184925776\n",
            "For Fuel 1 amount = 27.756, Fuel 2 amount = 2.7756000000000003, Brake power = 5.2, Heat Input = 17.15186646,  Efficiency=30.31740022071044\n",
            "For Fuel 1 amount = 26.955, Fuel 2 amount = 2.6955, Brake power = 5.2, Heat Input = 16.656887175,  Efficiency=31.218317956818364\n",
            "For Fuel 1 amount = 28.042, Fuel 2 amount = 2.8042000000000002, Brake power = 5.2, Heat Input = 17.328600636666664,  Efficiency=30.008193442908464\n",
            "For Fuel 1 amount = 35.945, Fuel 2 amount = 3.5945, Brake power = 5.2, Heat Input = 22.212272658333337,  Efficiency=23.4104815836984\n",
            "For Fuel 1 amount = 24.288, Fuel 2 amount = 2.4288000000000003, Brake power = 5.2, Heat Input = 15.00881008,  Efficiency=34.646317544715046\n",
            "For Fuel 1 amount = 25.298, Fuel 2 amount = 2.5298, Brake power = 5.2, Heat Input = 15.63294126333333,  Efficiency=33.26309433654989\n",
            "For Fuel 1 amount = 30.807, Fuel 2 amount = 3.0807, Brake power = 5.2, Heat Input = 19.037236994999994,  Efficiency=27.31488819184079\n",
            "For Fuel 1 amount = 25.935, Fuel 2 amount = 2.5935, Brake power = 5.2, Heat Input = 16.026576475,  Efficiency=32.44610605459954\n",
            "For Fuel 1 amount = 33.264, Fuel 2 amount = 3.3264000000000005, Brake power = 5.2, Heat Input = 20.55554424,  Efficiency=25.297311223125273\n",
            "For Fuel 1 amount = 29.072, Fuel 2 amount = 2.9072, Brake power = 5.2, Heat Input = 17.96509085333333,  Efficiency=28.945024784192324\n",
            "For Fuel 1 amount = 24.983, Fuel 2 amount = 2.4983000000000004, Brake power = 5.2, Heat Input = 15.438286488333333,  Efficiency=33.68249451731333\n",
            "For Fuel 1 amount = 32.508, Fuel 2 amount = 3.2508000000000004, Brake power = 5.2, Heat Input = 20.08837278,  Efficiency=25.885620786453767\n",
            "For Fuel 1 amount = 27.12, Fuel 2 amount = 2.712, Brake power = 5.2, Heat Input = 16.7588492,  Efficiency=31.028383500222677\n",
            "For Fuel 1 amount = 25.935, Fuel 2 amount = 2.5935, Brake power = 5.2, Heat Input = 16.026576475,  Efficiency=32.44610605459954\n"
          ]
        }
      ]
    },
    {
      "cell_type": "markdown",
      "source": [
        "DEE 20"
      ],
      "metadata": {
        "id": "8X0VutRDoS1P"
      }
    },
    {
      "cell_type": "code",
      "source": [
        "#DEE 20\n",
        "fuel_1_range = [16.46,20.11,28.18,18.05,20.49,27.43,41.24,12.81,19.13,8.91,8.37,26.28,33.83,17.658,22.041,27.756,26.955,15.264,18.224,22.4,16.912,18.648,23.429,9.324,11.994,14.682,17.604,21.522,6.909,17.094,20.86,28.042,35.945,13.992,15.432,19.744,24.288,17.776,10.346,12.936,17.85,25.298,30.807,18.891,20.421,12.504,14.92,19.432,22.616,20.848,10.143,12.621,15.365,20.958,10.528,13.944,11.277,12.978,17.031,25.935,11.416,13.968,16.656,9.555,11.963,14.924,20.972,22.008,19.053,23.886,33.264,4.936,12.936,19.376,10.843,12.117,13.272,12.488,16.48,20.584,29.072,10.409,12.425,16.268,24.983,32.508,12.424,14.88,18.272,27.12,11.375,13.811,16.954,25.935]  # Values from 1 to 60 (inclusive)\n",
        "fuel_2_range=[]\n",
        "for i in fuel_1_range:\n",
        "  fuel_2_range.append(i*0.2)\n",
        " # Values from 1 to 40 (inclusive)\n",
        "calorific_value1 = 35800\n",
        "brake_power = 5.2\n",
        "density1 = 958\n",
        "density2=713\n",
        "calorific_value2=39000\n",
        "# Assuming you have the formulas defined as functions, for example:\n",
        "def predict_efficiency(fuel_amount_1, fuel_amount_2, calorific_value1,calorific_value2, brake_power, density1,density2):\n",
        "    # Your formula to calculate efficiency based on the given inputs\n",
        "    mass_of_fuel1 = ((fuel_amount_1  * 0.000001) / 60) * density1\n",
        "    mass_of_fuel2=((fuel_amount_2  * 0.000001) / 60) * density2\n",
        "    heat_input = mass_of_fuel1 * calorific_value1 + mass_of_fuel2 * calorific_value2\n",
        "    efficiency = brake_power / heat_input\n",
        "    return heat_input\n",
        "    # Limit efficiency to a maximum value of 32\n",
        "    efficiency = min(efficiency, 32)\n",
        "\n",
        "    return efficiency\n",
        "\n",
        "# List to store combinations that meet the efficiency criteria\n",
        "efficient_combinations = []\n",
        "\n",
        "# Loop through all combinations of fuel_1 and fuel_2\n",
        "for fuel_amount_1 in fuel_1_range:\n",
        "      # Use the formula-based prediction function to get efficiency\n",
        "      predicted_efficiency = predict_efficiency(fuel_amount_1, fuel_amount_1*0.2, calorific_value1,calorific_value2 ,brake_power,density1,density2)\n",
        "      \"\"\"if 23 <= predicted_efficiency <= 32:\"\"\"\n",
        "      efficient_combinations.append((fuel_amount_1, fuel_amount_1*0.2, predicted_efficiency))\n",
        "\n",
        "# Print the combinations that meet the efficiency criteria\n",
        "if efficient_combinations:\n",
        "    for fuel_amount_1, fuel_amount_2, predicted_efficiency in efficient_combinations:\n",
        "        eff=(brake_power/predicted_efficiency)*100\n",
        "        if eff>=23 and eff<=35:\n",
        "          print(f\"For Fuel 1 amount = {fuel_amount_1}, Fuel 2 amount = {fuel_amount_2}, \"\n",
        "                f\"Brake power = {brake_power}, \"\n",
        "                f\"Heat Input = {predicted_efficiency}, \",f\"Efficiency={eff}\")\n",
        "\n",
        "else:\n",
        "    print(\"No combinations meet the efficiency criteria.\")"
      ],
      "metadata": {
        "colab": {
          "base_uri": "https://localhost:8080/"
        },
        "id": "XdvanqdQoURG",
        "outputId": "cb5ee8fc-1d7a-426e-8a1c-ea67584ce664"
      },
      "execution_count": null,
      "outputs": [
        {
          "output_type": "stream",
          "name": "stdout",
          "text": [
            "For Fuel 1 amount = 28.18, Fuel 2 amount = 5.636, Brake power = 5.2, Heat Input = 18.719880066666665,  Efficiency=27.7779557426723\n",
            "For Fuel 1 amount = 27.43, Fuel 2 amount = 5.486000000000001, Brake power = 5.2, Heat Input = 18.221657566666668,  Efficiency=28.537469661994358\n",
            "For Fuel 1 amount = 26.28, Fuel 2 amount = 5.256, Brake power = 5.2, Heat Input = 17.4577164,  Efficiency=29.786255434874636\n",
            "For Fuel 1 amount = 33.83, Fuel 2 amount = 6.766, Brake power = 5.2, Heat Input = 22.47315623333333,  Efficiency=23.138716903000457\n",
            "For Fuel 1 amount = 27.756, Fuel 2 amount = 5.551200000000001, Brake power = 5.2, Heat Input = 18.43821828,  Efficiency=28.202291138078444\n",
            "For Fuel 1 amount = 26.955, Fuel 2 amount = 5.391, Brake power = 5.2, Heat Input = 17.90611665,  Efficiency=29.040355883083112\n",
            "For Fuel 1 amount = 22.4, Fuel 2 amount = 4.4799999999999995, Brake power = 5.2, Heat Input = 14.880245333333335,  Efficiency=34.9456603941297\n",
            "For Fuel 1 amount = 23.429, Fuel 2 amount = 4.6857999999999995, Brake power = 5.2, Heat Input = 15.563806603333333,  Efficiency=33.41084949543324\n",
            "For Fuel 1 amount = 28.042, Fuel 2 amount = 5.6084000000000005, Brake power = 5.2, Heat Input = 18.628207126666666,  Efficiency=27.914656330807553\n",
            "For Fuel 1 amount = 24.288, Fuel 2 amount = 4.857600000000001, Brake power = 5.2, Heat Input = 16.13443744,  Efficiency=32.22919930947404\n",
            "For Fuel 1 amount = 25.298, Fuel 2 amount = 5.0596, Brake power = 5.2, Heat Input = 16.80537707333333,  Efficiency=30.942477382737987\n",
            "For Fuel 1 amount = 30.807, Fuel 2 amount = 6.1614, Brake power = 5.2, Heat Input = 20.464987409999996,  Efficiency=25.409250911432647\n",
            "For Fuel 1 amount = 22.616, Fuel 2 amount = 4.5232, Brake power = 5.2, Heat Input = 15.023733413333332,  Efficiency=34.611902760369006\n",
            "For Fuel 1 amount = 25.935, Fuel 2 amount = 5.187, Brake power = 5.2, Heat Input = 17.22853405,  Efficiency=30.1824867101795\n",
            "For Fuel 1 amount = 23.886, Fuel 2 amount = 4.7772, Brake power = 5.2, Heat Input = 15.867390179999997,  Efficiency=32.771614871828916\n",
            "For Fuel 1 amount = 33.264, Fuel 2 amount = 6.652800000000001, Brake power = 5.2, Heat Input = 22.097164319999997,  Efficiency=23.532431241838186\n",
            "For Fuel 1 amount = 29.072, Fuel 2 amount = 5.8144, Brake power = 5.2, Heat Input = 19.31243269333333,  Efficiency=26.925660182598566\n",
            "For Fuel 1 amount = 24.983, Fuel 2 amount = 4.996600000000001, Brake power = 5.2, Heat Input = 16.596123623333334,  Efficiency=31.332617893307663\n",
            "For Fuel 1 amount = 32.508, Fuel 2 amount = 6.501600000000001, Brake power = 5.2, Heat Input = 21.59495604,  Efficiency=24.07969708467163\n",
            "For Fuel 1 amount = 27.12, Fuel 2 amount = 5.424, Brake power = 5.2, Heat Input = 18.0157256,  Efficiency=28.863672301936038\n",
            "For Fuel 1 amount = 25.935, Fuel 2 amount = 5.187, Brake power = 5.2, Heat Input = 17.22853405,  Efficiency=30.1824867101795\n"
          ]
        }
      ]
    },
    {
      "cell_type": "markdown",
      "source": [
        "DEE 30"
      ],
      "metadata": {
        "id": "K7V_jj7goUi6"
      }
    },
    {
      "cell_type": "code",
      "source": [
        "#DEE 30\n",
        "fuel_1_range = [16.46,20.11,28.18,18.05,20.49,27.43,41.24,12.81,19.13,8.91,8.37,26.28,33.83,17.658,22.041,27.756,26.955,15.264,18.224,22.4,16.912,18.648,23.429,9.324,11.994,14.682,17.604,21.522,6.909,17.094,20.86,28.042,35.945,13.992,15.432,19.744,24.288,17.776,10.346,12.936,17.85,25.298,30.807,18.891,20.421,12.504,14.92,19.432,22.616,20.848,10.143,12.621,15.365,20.958,10.528,13.944,11.277,12.978,17.031,25.935,11.416,13.968,16.656,9.555,11.963,14.924,20.972,22.008,19.053,23.886,33.264,4.936,12.936,19.376,10.843,12.117,13.272,12.488,16.48,20.584,29.072,10.409,12.425,16.268,24.983,32.508,12.424,14.88,18.272,27.12,11.375,13.811,16.954,25.935]  # Values from 1 to 60 (inclusive)\n",
        "fuel_2_range=[]\n",
        "for i in fuel_1_range:\n",
        "  fuel_2_range.append(i*0.3)\n",
        " # Values from 1 to 40 (inclusive)\n",
        "calorific_value1 = 35800\n",
        "brake_power = 5.2\n",
        "density1 = 958\n",
        "density2=713\n",
        "calorific_value2=39000\n",
        "# Assuming you have the formulas defined as functions, for example:\n",
        "def predict_efficiency(fuel_amount_1, fuel_amount_2, calorific_value1,calorific_value2, brake_power, density1,density2):\n",
        "    # Your formula to calculate efficiency based on the given inputs\n",
        "    mass_of_fuel1 = ((fuel_amount_1  * 0.000001) / 60) * density1\n",
        "    mass_of_fuel2=((fuel_amount_2  * 0.000001) / 60) * density2\n",
        "    heat_input = mass_of_fuel1 * calorific_value1 + mass_of_fuel2 * calorific_value2\n",
        "    efficiency = brake_power / heat_input\n",
        "    return heat_input\n",
        "    # Limit efficiency to a maximum value of 32\n",
        "    efficiency = min(efficiency, 32)\n",
        "\n",
        "    return efficiency\n",
        "\n",
        "# List to store combinations that meet the efficiency criteria\n",
        "efficient_combinations = []\n",
        "\n",
        "# Loop through all combinations of fuel_1 and fuel_2\n",
        "for fuel_amount_1 in fuel_1_range:\n",
        "      # Use the formula-based prediction function to get efficiency\n",
        "      predicted_efficiency = predict_efficiency(fuel_amount_1, fuel_amount_1*0.3, calorific_value1,calorific_value2 ,brake_power,density1,density2)\n",
        "      \"\"\"if 23 <= predicted_efficiency <= 32:\"\"\"\n",
        "      efficient_combinations.append((fuel_amount_1, fuel_amount_1*0.3, predicted_efficiency))\n",
        "\n",
        "# Print the combinations that meet the efficiency criteria\n",
        "if efficient_combinations:\n",
        "    for fuel_amount_1, fuel_amount_2, predicted_efficiency in efficient_combinations:\n",
        "        eff=(brake_power/predicted_efficiency)*100\n",
        "        if eff>=23 and eff<=35:\n",
        "          print(f\"For Fuel 1 amount = {fuel_amount_1}, Fuel 2 amount = {fuel_amount_2}, \"\n",
        "                f\"Brake power = {brake_power}, \"\n",
        "                f\"Heat Input = {predicted_efficiency}, \",f\"Efficiency={eff}\")\n",
        "\n",
        "else:\n",
        "    print(\"No combinations meet the efficiency criteria.\")"
      ],
      "metadata": {
        "colab": {
          "base_uri": "https://localhost:8080/"
        },
        "id": "BtJFB0KxoVbf",
        "outputId": "5f9aee6b-68c6-4baa-9652-f0abebf1bd20"
      },
      "execution_count": null,
      "outputs": [
        {
          "output_type": "stream",
          "name": "stdout",
          "text": [
            "For Fuel 1 amount = 28.18, Fuel 2 amount = 8.453999999999999, Brake power = 5.2, Heat Input = 20.025882166666662,  Efficiency=25.966396669683135\n",
            "For Fuel 1 amount = 27.43, Fuel 2 amount = 8.229, Brake power = 5.2, Heat Input = 19.492900916666667,  Efficiency=26.676378350407237\n",
            "For Fuel 1 amount = 26.28, Fuel 2 amount = 7.884, Brake power = 5.2, Heat Input = 18.675663,  Efficiency=27.843723673960064\n",
            "For Fuel 1 amount = 22.041, Fuel 2 amount = 6.6123, Brake power = 5.2, Heat Input = 15.663252975,  Efficiency=33.19872320455835\n",
            "For Fuel 1 amount = 27.756, Fuel 2 amount = 8.3268, Brake power = 5.2, Heat Input = 19.724570099999998,  Efficiency=26.36305873150564\n",
            "For Fuel 1 amount = 26.955, Fuel 2 amount = 8.0865, Brake power = 5.2, Heat Input = 19.155346124999998,  Efficiency=27.146468490138027\n",
            "For Fuel 1 amount = 22.4, Fuel 2 amount = 6.72, Brake power = 5.2, Heat Input = 15.918373333333333,  Efficiency=32.666654381771004\n",
            "For Fuel 1 amount = 23.429, Fuel 2 amount = 7.0287, Brake power = 5.2, Heat Input = 16.649623608333332,  Efficiency=31.23193726371892\n",
            "For Fuel 1 amount = 21.522, Fuel 2 amount = 6.456599999999999, Brake power = 5.2, Heat Input = 15.294429949999998,  Efficiency=33.99930574071511\n",
            "For Fuel 1 amount = 28.042, Fuel 2 amount = 8.4126, Brake power = 5.2, Heat Input = 19.927813616666665,  Efficiency=26.094182232068704\n",
            "For Fuel 1 amount = 24.288, Fuel 2 amount = 7.2863999999999995, Brake power = 5.2, Heat Input = 17.2600648,  Efficiency=30.127349232199872\n",
            "For Fuel 1 amount = 25.298, Fuel 2 amount = 7.5893999999999995, Brake power = 5.2, Heat Input = 17.97781288333333,  Efficiency=28.92454178795441\n",
            "For Fuel 1 amount = 30.807, Fuel 2 amount = 9.242099999999999, Brake power = 5.2, Heat Input = 21.892737824999994,  Efficiency=23.75216860296915\n",
            "For Fuel 1 amount = 22.616, Fuel 2 amount = 6.7848, Brake power = 5.2, Heat Input = 16.07187193333333,  Efficiency=32.354662988666014\n",
            "For Fuel 1 amount = 20.958, Fuel 2 amount = 6.287399999999999, Brake power = 5.2, Heat Input = 14.89362805,  Efficiency=34.91425986027629\n",
            "For Fuel 1 amount = 25.935, Fuel 2 amount = 7.780499999999999, Brake power = 5.2, Heat Input = 18.430491625,  Efficiency=28.21411444579412\n",
            "For Fuel 1 amount = 20.972, Fuel 2 amount = 6.2916, Brake power = 5.2, Heat Input = 14.903577033333335,  Efficiency=34.89095261070334\n",
            "For Fuel 1 amount = 22.008, Fuel 2 amount = 6.602399999999999, Brake power = 5.2, Heat Input = 15.639801799999997,  Efficiency=33.24850318755319\n",
            "For Fuel 1 amount = 23.886, Fuel 2 amount = 7.1658, Brake power = 5.2, Heat Input = 16.97438685,  Efficiency=30.634390779187413\n",
            "For Fuel 1 amount = 29.072, Fuel 2 amount = 8.721599999999999, Brake power = 5.2, Heat Input = 20.65977453333333,  Efficiency=25.169684168673314\n",
            "For Fuel 1 amount = 24.983, Fuel 2 amount = 7.4948999999999995, Brake power = 5.2, Heat Input = 17.75396075833333,  Efficiency=29.289239008592666\n",
            "For Fuel 1 amount = 27.12, Fuel 2 amount = 8.136, Brake power = 5.2, Heat Input = 19.272602,  Efficiency=26.98130745397015\n",
            "For Fuel 1 amount = 25.935, Fuel 2 amount = 7.780499999999999, Brake power = 5.2, Heat Input = 18.430491625,  Efficiency=28.21411444579412\n"
          ]
        }
      ]
    },
    {
      "cell_type": "markdown",
      "source": [
        "DEE 40"
      ],
      "metadata": {
        "id": "HEg_8ysioVtc"
      }
    },
    {
      "cell_type": "code",
      "source": [
        "#DEE 40\n",
        "fuel_1_range = [16.46,20.11,28.18,18.05,20.49,27.43,41.24,12.81,19.13,8.91,8.37,26.28,33.83,17.658,22.041,27.756,26.955,15.264,18.224,22.4,16.912,18.648,23.429,9.324,11.994,14.682,17.604,21.522,6.909,17.094,20.86,28.042,35.945,13.992,15.432,19.744,24.288,17.776,10.346,12.936,17.85,25.298,30.807,18.891,20.421,12.504,14.92,19.432,22.616,20.848,10.143,12.621,15.365,20.958,10.528,13.944,11.277,12.978,17.031,25.935,11.416,13.968,16.656,9.555,11.963,14.924,20.972,22.008,19.053,23.886,33.264,4.936,12.936,19.376,10.843,12.117,13.272,12.488,16.48,20.584,29.072,10.409,12.425,16.268,24.983,32.508,12.424,14.88,18.272,27.12,11.375,13.811,16.954,25.935]  # Values from 1 to 60 (inclusive)\n",
        "fuel_2_range=[]\n",
        "for i in fuel_1_range:\n",
        "  fuel_2_range.append(i*0.4)\n",
        " # Values from 1 to 40 (inclusive)\n",
        "calorific_value1 = 35800\n",
        "brake_power = 5.2\n",
        "density1 = 958\n",
        "density2=713\n",
        "calorific_value2=39000\n",
        "# Assuming you have the formulas defined as functions, for example:\n",
        "def predict_efficiency(fuel_amount_1, fuel_amount_2, calorific_value1,calorific_value2, brake_power, density1,density2):\n",
        "    # Your formula to calculate efficiency based on the given inputs\n",
        "    mass_of_fuel1 = ((fuel_amount_1  * 0.000001) / 60) * density1\n",
        "    mass_of_fuel2=((fuel_amount_2  * 0.000001) / 60) * density2\n",
        "    heat_input = mass_of_fuel1 * calorific_value1 + mass_of_fuel2 * calorific_value2\n",
        "    efficiency = brake_power / heat_input\n",
        "    return heat_input\n",
        "    # Limit efficiency to a maximum value of 32\n",
        "    efficiency = min(efficiency, 32)\n",
        "\n",
        "    return efficiency\n",
        "\n",
        "# List to store combinations that meet the efficiency criteria\n",
        "efficient_combinations = []\n",
        "\n",
        "# Loop through all combinations of fuel_1 and fuel_2\n",
        "for fuel_amount_1 in fuel_1_range:\n",
        "      # Use the formula-based prediction function to get efficiency\n",
        "      predicted_efficiency = predict_efficiency(fuel_amount_1, fuel_amount_1*0.4, calorific_value1,calorific_value2 ,brake_power,density1,density2)\n",
        "      \"\"\"if 23 <= predicted_efficiency <= 32:\"\"\"\n",
        "      efficient_combinations.append((fuel_amount_1, fuel_amount_1*0.4, predicted_efficiency))\n",
        "\n",
        "# Print the combinations that meet the efficiency criteria\n",
        "if efficient_combinations:\n",
        "    for fuel_amount_1, fuel_amount_2, predicted_efficiency in efficient_combinations:\n",
        "        eff=(brake_power/predicted_efficiency)*100\n",
        "        if eff>=23 and eff<=35:\n",
        "          print(f\"For Fuel 1 amount = {fuel_amount_1}, Fuel 2 amount = {fuel_amount_2}, \"\n",
        "                f\"Brake power = {brake_power}, \"\n",
        "                f\"Heat Input = {predicted_efficiency}, \",f\"Efficiency={eff}\")\n",
        "\n",
        "else:\n",
        "    print(\"No combinations meet the efficiency criteria.\")"
      ],
      "metadata": {
        "colab": {
          "base_uri": "https://localhost:8080/"
        },
        "id": "WOK7Crj-oWnK",
        "outputId": "7a98103c-98ba-44cb-be6d-571ffc998b3b"
      },
      "execution_count": null,
      "outputs": [
        {
          "output_type": "stream",
          "name": "stdout",
          "text": [
            "For Fuel 1 amount = 20.11, Fuel 2 amount = 8.044, Brake power = 5.2, Heat Input = 15.223001866666666,  Efficiency=34.15883441088107\n",
            "For Fuel 1 amount = 28.18, Fuel 2 amount = 11.272, Brake power = 5.2, Heat Input = 21.331884266666663,  Efficiency=24.376655784344155\n",
            "For Fuel 1 amount = 20.49, Fuel 2 amount = 8.196, Brake power = 5.2, Heat Input = 15.510656799999998,  Efficiency=33.52533723781446\n",
            "For Fuel 1 amount = 27.43, Fuel 2 amount = 10.972000000000001, Brake power = 5.2, Heat Input = 20.76414426666667,  Efficiency=25.043170251652136\n",
            "For Fuel 1 amount = 26.28, Fuel 2 amount = 10.512, Brake power = 5.2, Heat Input = 19.893609599999998,  Efficiency=26.139047184277715\n",
            "For Fuel 1 amount = 22.041, Fuel 2 amount = 8.8164, Brake power = 5.2, Heat Input = 16.68474312,  Efficiency=31.166197541074283\n",
            "For Fuel 1 amount = 27.756, Fuel 2 amount = 11.102400000000001, Brake power = 5.2, Heat Input = 21.01092192,  Efficiency=24.749033001975\n",
            "For Fuel 1 amount = 26.955, Fuel 2 amount = 10.782, Brake power = 5.2, Heat Input = 20.4045756,  Efficiency=25.48448005946274\n",
            "For Fuel 1 amount = 22.4, Fuel 2 amount = 8.959999999999999, Brake power = 5.2, Heat Input = 16.956501333333335,  Efficiency=30.666703571554383\n",
            "For Fuel 1 amount = 23.429, Fuel 2 amount = 9.371599999999999, Brake power = 5.2, Heat Input = 17.73544061333333,  Efficiency=29.31982414967853\n",
            "For Fuel 1 amount = 21.522, Fuel 2 amount = 8.6088, Brake power = 5.2, Heat Input = 16.291867039999996,  Efficiency=31.917766007007636\n",
            "For Fuel 1 amount = 20.86, Fuel 2 amount = 8.344, Brake power = 5.2, Heat Input = 15.790741866666668,  Efficiency=32.93068839898457\n",
            "For Fuel 1 amount = 28.042, Fuel 2 amount = 11.216800000000001, Brake power = 5.2, Heat Input = 21.227420106666663,  Efficiency=24.496617930347988\n",
            "For Fuel 1 amount = 19.744, Fuel 2 amount = 7.897600000000001, Brake power = 5.2, Heat Input = 14.945944746666665,  Efficiency=34.79204619139071\n",
            "For Fuel 1 amount = 24.288, Fuel 2 amount = 9.715200000000001, Brake power = 5.2, Heat Input = 18.385692159999998,  Efficiency=28.282862318956614\n",
            "For Fuel 1 amount = 25.298, Fuel 2 amount = 10.1192, Brake power = 5.2, Heat Input = 19.15024869333333,  Efficiency=27.153694363302165\n",
            "For Fuel 1 amount = 20.421, Fuel 2 amount = 8.1684, Brake power = 5.2, Heat Input = 15.45842472,  Efficiency=33.638615151207986\n",
            "For Fuel 1 amount = 22.616, Fuel 2 amount = 9.0464, Brake power = 5.2, Heat Input = 17.120010453333332,  Efficiency=30.3738132296966\n",
            "For Fuel 1 amount = 20.848, Fuel 2 amount = 8.3392, Brake power = 5.2, Heat Input = 15.781658026666664,  Efficiency=32.94964313137079\n",
            "For Fuel 1 amount = 20.958, Fuel 2 amount = 8.3832, Brake power = 5.2, Heat Input = 15.86492656,  Efficiency=32.77670388409286\n",
            "For Fuel 1 amount = 25.935, Fuel 2 amount = 10.374, Brake power = 5.2, Heat Input = 19.6324492,  Efficiency=26.486761519291235\n",
            "For Fuel 1 amount = 20.972, Fuel 2 amount = 8.388800000000002, Brake power = 5.2, Heat Input = 15.875524373333336,  Efficiency=32.7548235744239\n",
            "For Fuel 1 amount = 22.008, Fuel 2 amount = 8.8032, Brake power = 5.2, Heat Input = 16.659762559999997,  Efficiency=31.212929843821264\n",
            "For Fuel 1 amount = 23.886, Fuel 2 amount = 9.5544, Brake power = 5.2, Heat Input = 18.081383519999996,  Efficiency=28.75886125775845\n",
            "For Fuel 1 amount = 20.584, Fuel 2 amount = 8.233600000000001, Brake power = 5.2, Heat Input = 15.581813546666666,  Efficiency=33.372238632084056\n",
            "For Fuel 1 amount = 29.072, Fuel 2 amount = 11.6288, Brake power = 5.2, Heat Input = 22.007116373333332,  Efficiency=23.628720418368818\n",
            "For Fuel 1 amount = 24.983, Fuel 2 amount = 9.993200000000002, Brake power = 5.2, Heat Input = 18.911797893333336,  Efficiency=27.49606372344467\n",
            "For Fuel 1 amount = 27.12, Fuel 2 amount = 10.848, Brake power = 5.2, Heat Input = 20.529478400000002,  Efficiency=25.32943067856999\n",
            "For Fuel 1 amount = 25.935, Fuel 2 amount = 10.374, Brake power = 5.2, Heat Input = 19.6324492,  Efficiency=26.486761519291235\n"
          ]
        }
      ]
    },
    {
      "cell_type": "markdown",
      "source": [
        "DIESEL 10"
      ],
      "metadata": {
        "id": "QgdunhcUo0du"
      }
    },
    {
      "cell_type": "code",
      "source": [
        "#DIESEL 10\n",
        "fuel_1_range = [16.46,20.11,28.18,18.05,20.49,27.43,41.24,12.81,19.13,8.91,8.37,26.28,33.83,17.658,22.041,27.756,26.955,15.264,18.224,22.4,16.912,18.648,23.429,9.324,11.994,14.682,17.604,21.522,6.909,17.094,20.86,28.042,35.945,13.992,15.432,19.744,24.288,17.776,10.346,12.936,17.85,25.298,30.807,18.891,20.421,12.504,14.92,19.432,22.616,20.848,10.143,12.621,15.365,20.958,10.528,13.944,11.277,12.978,17.031,25.935,11.416,13.968,16.656,9.555,11.963,14.924,20.972,22.008,19.053,23.886,33.264,4.936,12.936,19.376,10.843,12.117,13.272,12.488,16.48,20.584,29.072,10.409,12.425,16.268,24.983,32.508,12.424,14.88,18.272,27.12,11.375,13.811,16.954,25.935]  # Values from 1 to 60 (inclusive)\n",
        "fuel_2_range=[]\n",
        "for i in fuel_1_range:\n",
        "  fuel_2_range.append(i*0.1)\n",
        " # Values from 1 to 40 (inclusive)\n",
        "calorific_value1 = 35800\n",
        "brake_power = 5.2\n",
        "density1 = 958\n",
        "density2=840\n",
        "calorific_value2=42500\n",
        "# Assuming you have the formulas defined as functions, for example:\n",
        "def predict_efficiency(fuel_amount_1, fuel_amount_2, calorific_value1,calorific_value2, brake_power, density1,density2):\n",
        "    # Your formula to calculate efficiency based on the given inputs\n",
        "    mass_of_fuel1 = ((fuel_amount_1  * 0.000001) / 60) * density1\n",
        "    mass_of_fuel2=((fuel_amount_2  * 0.000001) / 60) * density2\n",
        "    heat_input = mass_of_fuel1 * calorific_value1 + mass_of_fuel2 * calorific_value2\n",
        "    efficiency = brake_power / heat_input\n",
        "    return heat_input\n",
        "    # Limit efficiency to a maximum value of 32\n",
        "    efficiency = min(efficiency, 32)\n",
        "\n",
        "    return efficiency\n",
        "\n",
        "# List to store combinations that meet the efficiency criteria\n",
        "efficient_combinations = []\n",
        "\n",
        "# Loop through all combinations of fuel_1 and fuel_2\n",
        "for fuel_amount_1 in fuel_1_range:\n",
        "      # Use the formula-based prediction function to get efficiency\n",
        "      predicted_efficiency = predict_efficiency(fuel_amount_1, fuel_amount_1*0.1, calorific_value1,calorific_value2 ,brake_power,density1,density2)\n",
        "      \"\"\"if 23 <= predicted_efficiency <= 32:\"\"\"\n",
        "      efficient_combinations.append((fuel_amount_1, fuel_amount_1*0.1, predicted_efficiency))\n",
        "\n",
        "# Print the combinations that meet the efficiency criteria\n",
        "if efficient_combinations:\n",
        "    for fuel_amount_1, fuel_amount_2, predicted_efficiency in efficient_combinations:\n",
        "        eff=(brake_power/predicted_efficiency)*100\n",
        "        if eff>=23 and eff<=35:\n",
        "          print(f\"For Fuel 1 amount = {fuel_amount_1}, Fuel 2 amount = {fuel_amount_2}, \"\n",
        "                f\"Brake power = {brake_power}, \"\n",
        "                f\"Heat Input = {predicted_efficiency}, \",f\"Efficiency={eff}\")\n",
        "\n",
        "else:\n",
        "    print(\"No combinations meet the efficiency criteria.\")"
      ],
      "metadata": {
        "colab": {
          "base_uri": "https://localhost:8080/"
        },
        "id": "1iUUyuHLo81B",
        "outputId": "ec0c636b-31dc-42d1-b8da-4a63219ed349"
      },
      "execution_count": null,
      "outputs": [
        {
          "output_type": "stream",
          "name": "stdout",
          "text": [
            "For Fuel 1 amount = 28.18, Fuel 2 amount = 2.818, Brake power = 5.2, Heat Input = 17.784585866666664,  Efficiency=29.238802854252953\n",
            "For Fuel 1 amount = 27.43, Fuel 2 amount = 2.7430000000000003, Brake power = 5.2, Heat Input = 17.31125586666667,  Efficiency=30.038259731419902\n",
            "For Fuel 1 amount = 26.28, Fuel 2 amount = 2.628, Brake power = 5.2, Heat Input = 16.5854832,  Efficiency=31.352719346759827\n",
            "For Fuel 1 amount = 33.83, Fuel 2 amount = 3.383, Brake power = 5.2, Heat Input = 21.350338533333332,  Efficiency=24.355585705966547\n",
            "For Fuel 1 amount = 27.756, Fuel 2 amount = 2.7756000000000003, Brake power = 5.2, Heat Input = 17.51699664,  Efficiency=29.685454115609172\n",
            "For Fuel 1 amount = 26.955, Fuel 2 amount = 2.6955, Brake power = 5.2, Heat Input = 17.0114802,  Efficiency=30.567592818877685\n",
            "For Fuel 1 amount = 28.042, Fuel 2 amount = 2.8042000000000002, Brake power = 5.2, Heat Input = 17.697493146666666,  Efficiency=29.382692548065336\n",
            "For Fuel 1 amount = 24.288, Fuel 2 amount = 2.4288000000000003, Brake power = 5.2, Heat Input = 15.328318719999999,  Efficiency=33.92413802836167\n",
            "For Fuel 1 amount = 25.298, Fuel 2 amount = 2.5298, Brake power = 5.2, Heat Input = 15.96573645333333,  Efficiency=32.5697471907996\n",
            "For Fuel 1 amount = 30.807, Fuel 2 amount = 3.0807, Brake power = 5.2, Heat Input = 19.442503079999994,  Efficiency=26.74552745911151\n",
            "For Fuel 1 amount = 25.935, Fuel 2 amount = 2.5935, Brake power = 5.2, Heat Input = 16.3677514,  Efficiency=31.76978848786768\n",
            "For Fuel 1 amount = 23.886, Fuel 2 amount = 2.3886, Brake power = 5.2, Heat Input = 15.074613839999998,  Efficiency=34.49507931143131\n",
            "For Fuel 1 amount = 33.264, Fuel 2 amount = 3.3264000000000005, Brake power = 5.2, Heat Input = 20.99313216,  Efficiency=24.770005544518046\n",
            "For Fuel 1 amount = 29.072, Fuel 2 amount = 2.9072, Brake power = 5.2, Heat Input = 18.34753301333333,  Efficiency=28.34168493508697\n",
            "For Fuel 1 amount = 24.983, Fuel 2 amount = 2.4983000000000004, Brake power = 5.2, Heat Input = 15.766937853333333,  Efficiency=32.98040525288589\n",
            "For Fuel 1 amount = 32.508, Fuel 2 amount = 3.2508000000000004, Brake power = 5.2, Heat Input = 20.51601552,  Efficiency=25.34605218508823\n",
            "For Fuel 1 amount = 27.12, Fuel 2 amount = 2.712, Brake power = 5.2, Heat Input = 17.1156128,  Efficiency=30.38161742009027\n",
            "For Fuel 1 amount = 25.935, Fuel 2 amount = 2.5935, Brake power = 5.2, Heat Input = 16.3677514,  Efficiency=31.76978848786768\n"
          ]
        }
      ]
    },
    {
      "cell_type": "markdown",
      "source": [
        "DIESEL 20"
      ],
      "metadata": {
        "id": "GoRr9AHKo0rN"
      }
    },
    {
      "cell_type": "code",
      "source": [
        "#DIESEL 20\n",
        "fuel_1_range = [16.46,20.11,28.18,18.05,20.49,27.43,41.24,12.81,19.13,8.91,8.37,26.28,33.83,17.658,22.041,27.756,26.955,15.264,18.224,22.4,16.912,18.648,23.429,9.324,11.994,14.682,17.604,21.522,6.909,17.094,20.86,28.042,35.945,13.992,15.432,19.744,24.288,17.776,10.346,12.936,17.85,25.298,30.807,18.891,20.421,12.504,14.92,19.432,22.616,20.848,10.143,12.621,15.365,20.958,10.528,13.944,11.277,12.978,17.031,25.935,11.416,13.968,16.656,9.555,11.963,14.924,20.972,22.008,19.053,23.886,33.264,4.936,12.936,19.376,10.843,12.117,13.272,12.488,16.48,20.584,29.072,10.409,12.425,16.268,24.983,32.508,12.424,14.88,18.272,27.12,11.375,13.811,16.954,25.935]  # Values from 1 to 60 (inclusive)\n",
        "fuel_2_range=[]\n",
        "for i in fuel_1_range:\n",
        "  fuel_2_range.append(i*0.2)\n",
        " # Values from 1 to 40 (inclusive)\n",
        "calorific_value1 = 35800\n",
        "brake_power = 5.2\n",
        "density1 = 958\n",
        "density2=840\n",
        "calorific_value2=42500\n",
        "# Assuming you have the formulas defined as functions, for example:\n",
        "def predict_efficiency(fuel_amount_1, fuel_amount_2, calorific_value1,calorific_value2, brake_power, density1,density2):\n",
        "    # Your formula to calculate efficiency based on the given inputs\n",
        "    mass_of_fuel1 = ((fuel_amount_1  * 0.000001) / 60) * density1\n",
        "    mass_of_fuel2=((fuel_amount_2  * 0.000001) / 60) * density2\n",
        "    heat_input = mass_of_fuel1 * calorific_value1 + mass_of_fuel2 * calorific_value2\n",
        "    efficiency = brake_power / heat_input\n",
        "    return heat_input\n",
        "    # Limit efficiency to a maximum value of 32\n",
        "    efficiency = min(efficiency, 32)\n",
        "\n",
        "    return efficiency\n",
        "\n",
        "# List to store combinations that meet the efficiency criteria\n",
        "efficient_combinations = []\n",
        "\n",
        "# Loop through all combinations of fuel_1 and fuel_2\n",
        "for fuel_amount_1 in fuel_1_range:\n",
        "      # Use the formula-based prediction function to get efficiency\n",
        "      predicted_efficiency = predict_efficiency(fuel_amount_1, fuel_amount_1*0.2, calorific_value1,calorific_value2 ,brake_power,density1,density2)\n",
        "      \"\"\"if 23 <= predicted_efficiency <= 32:\"\"\"\n",
        "      efficient_combinations.append((fuel_amount_1, fuel_amount_1*0.2, predicted_efficiency))\n",
        "\n",
        "# Print the combinations that meet the efficiency criteria\n",
        "if efficient_combinations:\n",
        "    for fuel_amount_1, fuel_amount_2, predicted_efficiency in efficient_combinations:\n",
        "        eff=(brake_power/predicted_efficiency)*100\n",
        "        if eff>=23 and eff<=35:\n",
        "          print(f\"For Fuel 1 amount = {fuel_amount_1}, Fuel 2 amount = {fuel_amount_2}, \"\n",
        "                f\"Brake power = {brake_power}, \"\n",
        "                f\"Heat Input = {predicted_efficiency}, \",f\"Efficiency={eff}\")\n",
        "\n",
        "else:\n",
        "    print(\"No combinations meet the efficiency criteria.\")"
      ],
      "metadata": {
        "colab": {
          "base_uri": "https://localhost:8080/"
        },
        "id": "qWB8bzjmpCWp",
        "outputId": "92385b2f-2357-45a0-ba56-0df1e8403cc7"
      },
      "execution_count": null,
      "outputs": [
        {
          "output_type": "stream",
          "name": "stdout",
          "text": [
            "For Fuel 1 amount = 28.18, Fuel 2 amount = 5.636, Brake power = 5.2, Heat Input = 19.461295866666664,  Efficiency=26.71970065933054\n",
            "For Fuel 1 amount = 27.43, Fuel 2 amount = 5.486000000000001, Brake power = 5.2, Heat Input = 18.943340866666666,  Efficiency=27.450279423256816\n",
            "For Fuel 1 amount = 26.28, Fuel 2 amount = 5.256, Brake power = 5.2, Heat Input = 18.149143199999997,  Efficiency=28.65149028081943\n",
            "For Fuel 1 amount = 22.041, Fuel 2 amount = 4.4082, Brake power = 5.2, Heat Input = 15.22166154,  Efficiency=34.16184222947846\n",
            "For Fuel 1 amount = 27.756, Fuel 2 amount = 5.551200000000001, Brake power = 5.2, Heat Input = 19.16847864,  Efficiency=27.12787017509492\n",
            "For Fuel 1 amount = 26.955, Fuel 2 amount = 5.391, Brake power = 5.2, Heat Input = 18.6153027,  Efficiency=27.9340072186954\n",
            "For Fuel 1 amount = 22.4, Fuel 2 amount = 4.4799999999999995, Brake power = 5.2, Heat Input = 15.469589333333333,  Efficiency=33.61433770446137\n",
            "For Fuel 1 amount = 23.429, Fuel 2 amount = 4.6857999999999995, Brake power = 5.2, Heat Input = 16.180223593333334,  Efficiency=32.1379984028313\n",
            "For Fuel 1 amount = 21.522, Fuel 2 amount = 4.3044, Brake power = 5.2, Heat Input = 14.863236679999996,  Efficiency=34.98565024532733\n",
            "For Fuel 1 amount = 28.042, Fuel 2 amount = 5.6084000000000005, Brake power = 5.2, Heat Input = 19.365992146666667,  Efficiency=26.85119337350883\n",
            "For Fuel 1 amount = 24.288, Fuel 2 amount = 4.857600000000001, Brake power = 5.2, Heat Input = 16.77345472,  Efficiency=31.00136547183525\n",
            "For Fuel 1 amount = 25.298, Fuel 2 amount = 5.0596, Brake power = 5.2, Heat Input = 17.47096745333333,  Efficiency=29.763663711753292\n",
            "For Fuel 1 amount = 30.807, Fuel 2 amount = 6.1614, Brake power = 5.2, Heat Input = 21.275519579999994,  Efficiency=24.44123623137387\n",
            "For Fuel 1 amount = 22.616, Fuel 2 amount = 4.5232, Brake power = 5.2, Heat Input = 15.618760373333332,  Efficiency=33.29329521488923\n",
            "For Fuel 1 amount = 25.935, Fuel 2 amount = 5.187, Brake power = 5.2, Heat Input = 17.910883899999998,  Efficiency=29.03262635742952\n",
            "For Fuel 1 amount = 22.008, Fuel 2 amount = 4.4016, Brake power = 5.2, Heat Input = 15.198871519999997,  Efficiency=34.213066365863995\n",
            "For Fuel 1 amount = 23.886, Fuel 2 amount = 4.7772, Brake power = 5.2, Heat Input = 16.495830839999996,  Efficiency=31.52311666164007\n",
            "For Fuel 1 amount = 29.072, Fuel 2 amount = 5.8144, Brake power = 5.2, Heat Input = 20.07731701333333,  Efficiency=25.8998749511535\n",
            "For Fuel 1 amount = 24.983, Fuel 2 amount = 4.996600000000001, Brake power = 5.2, Heat Input = 17.253426353333335,  Efficiency=30.1389410631203\n",
            "For Fuel 1 amount = 32.508, Fuel 2 amount = 6.501600000000001, Brake power = 5.2, Heat Input = 22.450241520000002,  Efficiency=23.16233433554616\n",
            "For Fuel 1 amount = 27.12, Fuel 2 amount = 5.424, Brake power = 5.2, Heat Input = 18.7292528,  Efficiency=27.76405474114803\n",
            "For Fuel 1 amount = 25.935, Fuel 2 amount = 5.187, Brake power = 5.2, Heat Input = 17.910883899999998,  Efficiency=29.03262635742952\n"
          ]
        }
      ]
    },
    {
      "cell_type": "markdown",
      "source": [
        "DIESEL 30"
      ],
      "metadata": {
        "id": "cta2zbOapCvD"
      }
    },
    {
      "cell_type": "code",
      "source": [
        "#DIESEL 30\n",
        "fuel_1_range = [16.46,20.11,28.18,18.05,20.49,27.43,41.24,12.81,19.13,8.91,8.37,26.28,33.83,17.658,22.041,27.756,26.955,15.264,18.224,22.4,16.912,18.648,23.429,9.324,11.994,14.682,17.604,21.522,6.909,17.094,20.86,28.042,35.945,13.992,15.432,19.744,24.288,17.776,10.346,12.936,17.85,25.298,30.807,18.891,20.421,12.504,14.92,19.432,22.616,20.848,10.143,12.621,15.365,20.958,10.528,13.944,11.277,12.978,17.031,25.935,11.416,13.968,16.656,9.555,11.963,14.924,20.972,22.008,19.053,23.886,33.264,4.936,12.936,19.376,10.843,12.117,13.272,12.488,16.48,20.584,29.072,10.409,12.425,16.268,24.983,32.508,12.424,14.88,18.272,27.12,11.375,13.811,16.954,25.935]  # Values from 1 to 60 (inclusive)\n",
        "fuel_2_range=[]\n",
        "for i in fuel_1_range:\n",
        "  fuel_2_range.append(i*0.3)\n",
        " # Values from 1 to 40 (inclusive)\n",
        "calorific_value1 = 35800\n",
        "brake_power = 5.2\n",
        "density1 = 958\n",
        "density2=840\n",
        "calorific_value2=42500\n",
        "# Assuming you have the formulas defined as functions, for example:\n",
        "def predict_efficiency(fuel_amount_1, fuel_amount_2, calorific_value1,calorific_value2, brake_power, density1,density2):\n",
        "    # Your formula to calculate efficiency based on the given inputs\n",
        "    mass_of_fuel1 = ((fuel_amount_1  * 0.000001) / 60) * density1\n",
        "    mass_of_fuel2=((fuel_amount_2  * 0.000001) / 60) * density2\n",
        "    heat_input = mass_of_fuel1 * calorific_value1 + mass_of_fuel2 * calorific_value2\n",
        "    efficiency = brake_power / heat_input\n",
        "    return heat_input\n",
        "    # Limit efficiency to a maximum value of 32\n",
        "    efficiency = min(efficiency, 32)\n",
        "\n",
        "    return efficiency\n",
        "\n",
        "# List to store combinations that meet the efficiency criteria\n",
        "efficient_combinations = []\n",
        "\n",
        "# Loop through all combinations of fuel_1 and fuel_2\n",
        "for fuel_amount_1 in fuel_1_range:\n",
        "      # Use the formula-based prediction function to get efficiency\n",
        "      predicted_efficiency = predict_efficiency(fuel_amount_1, fuel_amount_1*0.3, calorific_value1,calorific_value2 ,brake_power,density1,density2)\n",
        "      \"\"\"if 23 <= predicted_efficiency <= 32:\"\"\"\n",
        "      efficient_combinations.append((fuel_amount_1, fuel_amount_1*0.3, predicted_efficiency))\n",
        "\n",
        "# Print the combinations that meet the efficiency criteria\n",
        "if efficient_combinations:\n",
        "    for fuel_amount_1, fuel_amount_2, predicted_efficiency in efficient_combinations:\n",
        "        eff=(brake_power/predicted_efficiency)*100\n",
        "        if eff>=23 and eff<=35:\n",
        "          print(f\"For Fuel 1 amount = {fuel_amount_1}, Fuel 2 amount = {fuel_amount_2}, \"\n",
        "                f\"Brake power = {brake_power}, \"\n",
        "                f\"Heat Input = {predicted_efficiency}, \",f\"Efficiency={eff}\")\n",
        "\n",
        "else:\n",
        "    print(\"No combinations meet the efficiency criteria.\")"
      ],
      "metadata": {
        "colab": {
          "base_uri": "https://localhost:8080/"
        },
        "id": "y8oiOL9EpD9W",
        "outputId": "ae55ace1-5c4e-4dcc-d6b6-5dc1576927e6"
      },
      "execution_count": null,
      "outputs": [
        {
          "output_type": "stream",
          "name": "stdout",
          "text": [
            "For Fuel 1 amount = 20.11, Fuel 2 amount = 6.0329999999999995, Brake power = 5.2, Heat Input = 15.084645066666665,  Efficiency=34.47214022616094\n",
            "For Fuel 1 amount = 28.18, Fuel 2 amount = 8.453999999999999, Brake power = 5.2, Heat Input = 21.138005866666663,  Efficiency=24.600239174879217\n",
            "For Fuel 1 amount = 20.49, Fuel 2 amount = 6.146999999999999, Brake power = 5.2, Heat Input = 15.369685599999997,  Efficiency=33.8328325987358\n",
            "For Fuel 1 amount = 27.43, Fuel 2 amount = 8.229, Brake power = 5.2, Heat Input = 20.575425866666667,  Efficiency=25.27286693212163\n",
            "For Fuel 1 amount = 26.28, Fuel 2 amount = 7.884, Brake power = 5.2, Heat Input = 19.712803199999996,  Efficiency=26.37879527960793\n",
            "For Fuel 1 amount = 22.041, Fuel 2 amount = 6.6123, Brake power = 5.2, Heat Input = 16.53310104,  Efficiency=31.452054804595814\n",
            "For Fuel 1 amount = 27.756, Fuel 2 amount = 8.3268, Brake power = 5.2, Heat Input = 20.819960639999998,  Efficiency=24.976031847099595\n",
            "For Fuel 1 amount = 26.955, Fuel 2 amount = 8.0865, Brake power = 5.2, Heat Input = 20.2191252,  Efficiency=25.71822444622876\n",
            "For Fuel 1 amount = 22.4, Fuel 2 amount = 6.72, Brake power = 5.2, Heat Input = 16.802389333333334,  Efficiency=30.947979461968583\n",
            "For Fuel 1 amount = 23.429, Fuel 2 amount = 7.0287, Brake power = 5.2, Heat Input = 17.574249093333332,  Efficiency=29.58874642315491\n",
            "For Fuel 1 amount = 21.522, Fuel 2 amount = 6.456599999999999, Brake power = 5.2, Heat Input = 16.143795679999997,  Efficiency=32.21051667819424\n",
            "For Fuel 1 amount = 20.86, Fuel 2 amount = 6.258, Brake power = 5.2, Heat Input = 15.647225066666667,  Efficiency=33.23272962359042\n",
            "For Fuel 1 amount = 28.042, Fuel 2 amount = 8.4126, Brake power = 5.2, Heat Input = 21.034491146666664,  Efficiency=24.721301617149148\n",
            "For Fuel 1 amount = 24.288, Fuel 2 amount = 7.2863999999999995, Brake power = 5.2, Heat Input = 18.218590719999998,  Efficiency=28.542273548587634\n",
            "For Fuel 1 amount = 25.298, Fuel 2 amount = 7.5893999999999995, Brake power = 5.2, Heat Input = 18.97619845333333,  Efficiency=27.40274883184823\n",
            "For Fuel 1 amount = 20.421, Fuel 2 amount = 6.1263, Brake power = 5.2, Heat Input = 15.317928239999999,  Efficiency=33.947149500420956\n",
            "For Fuel 1 amount = 22.616, Fuel 2 amount = 6.7848, Brake power = 5.2, Heat Input = 16.96441237333333,  Efficiency=30.652402721440414\n",
            "For Fuel 1 amount = 20.848, Fuel 2 amount = 6.2543999999999995, Brake power = 5.2, Heat Input = 15.638223786666664,  Efficiency=33.251858209329264\n",
            "For Fuel 1 amount = 20.958, Fuel 2 amount = 6.287399999999999, Brake power = 5.2, Heat Input = 15.72073552,  Efficiency=33.077332758283056\n",
            "For Fuel 1 amount = 25.935, Fuel 2 amount = 7.780499999999999, Brake power = 5.2, Heat Input = 19.4540164,  Efficiency=26.72969886053967\n",
            "For Fuel 1 amount = 20.972, Fuel 2 amount = 6.2916, Brake power = 5.2, Heat Input = 15.731237013333335,  Efficiency=33.055251761782195\n",
            "For Fuel 1 amount = 22.008, Fuel 2 amount = 6.602399999999999, Brake power = 5.2, Heat Input = 16.508347519999997,  Efficiency=31.49921573737261\n",
            "For Fuel 1 amount = 23.886, Fuel 2 amount = 7.1658, Brake power = 5.2, Heat Input = 17.917047839999995,  Efficiency=29.022638363396823\n",
            "For Fuel 1 amount = 20.584, Fuel 2 amount = 6.175199999999999, Brake power = 5.2, Heat Input = 15.440195626666666,  Efficiency=33.67832976817413\n",
            "For Fuel 1 amount = 29.072, Fuel 2 amount = 8.721599999999999, Brake power = 5.2, Heat Input = 21.80710101333333,  Efficiency=23.8454437241365\n",
            "For Fuel 1 amount = 24.983, Fuel 2 amount = 7.4948999999999995, Brake power = 5.2, Heat Input = 18.73991485333333,  Efficiency=27.748258413645132\n",
            "For Fuel 1 amount = 27.12, Fuel 2 amount = 8.136, Brake power = 5.2, Heat Input = 20.3428928,  Efficiency=25.561752947938654\n",
            "For Fuel 1 amount = 25.935, Fuel 2 amount = 7.780499999999999, Brake power = 5.2, Heat Input = 19.4540164,  Efficiency=26.72969886053967\n"
          ]
        }
      ]
    },
    {
      "cell_type": "markdown",
      "source": [
        "DIESEL 40"
      ],
      "metadata": {
        "id": "RWCQfpwGpEeK"
      }
    },
    {
      "cell_type": "code",
      "source": [
        "#DIESEL 40\n",
        "fuel_1_range = [16.46,20.11,28.18,18.05,20.49,27.43,41.24,12.81,19.13,8.91,8.37,26.28,33.83,17.658,22.041,27.756,26.955,15.264,18.224,22.4,16.912,18.648,23.429,9.324,11.994,14.682,17.604,21.522,6.909,17.094,20.86,28.042,35.945,13.992,15.432,19.744,24.288,17.776,10.346,12.936,17.85,25.298,30.807,18.891,20.421,12.504,14.92,19.432,22.616,20.848,10.143,12.621,15.365,20.958,10.528,13.944,11.277,12.978,17.031,25.935,11.416,13.968,16.656,9.555,11.963,14.924,20.972,22.008,19.053,23.886,33.264,4.936,12.936,19.376,10.843,12.117,13.272,12.488,16.48,20.584,29.072,10.409,12.425,16.268,24.983,32.508,12.424,14.88,18.272,27.12,11.375,13.811,16.954,25.935]  # Values from 1 to 60 (inclusive)\n",
        "fuel_2_range=[]\n",
        "for i in fuel_1_range:\n",
        "  fuel_2_range.append(i*0.4)\n",
        " # Values from 1 to 40 (inclusive)\n",
        "calorific_value1 = 35800\n",
        "brake_power = 5.2\n",
        "density1 = 958\n",
        "density2=840\n",
        "calorific_value2=42500\n",
        "# Assuming you have the formulas defined as functions, for example:\n",
        "def predict_efficiency(fuel_amount_1, fuel_amount_2, calorific_value1,calorific_value2, brake_power, density1,density2):\n",
        "    # Your formula to calculate efficiency based on the given inputs\n",
        "    mass_of_fuel1 = ((fuel_amount_1  * 0.000001) / 60) * density1\n",
        "    mass_of_fuel2=((fuel_amount_2  * 0.000001) / 60) * density2\n",
        "    heat_input = mass_of_fuel1 * calorific_value1 + mass_of_fuel2 * calorific_value2\n",
        "    efficiency = brake_power / heat_input\n",
        "    return heat_input\n",
        "    # Limit efficiency to a maximum value of 32\n",
        "    efficiency = min(efficiency, 32)\n",
        "\n",
        "    return efficiency\n",
        "\n",
        "# List to store combinations that meet the efficiency criteria\n",
        "efficient_combinations = []\n",
        "\n",
        "# Loop through all combinations of fuel_1 and fuel_2\n",
        "for fuel_amount_1 in fuel_1_range:\n",
        "      # Use the formula-based prediction function to get efficiency\n",
        "      predicted_efficiency = predict_efficiency(fuel_amount_1, fuel_amount_1*0.4, calorific_value1,calorific_value2 ,brake_power,density1,density2)\n",
        "      \"\"\"if 23 <= predicted_efficiency <= 32:\"\"\"\n",
        "      efficient_combinations.append((fuel_amount_1, fuel_amount_1*0.4, predicted_efficiency))\n",
        "\n",
        "# Print the combinations that meet the efficiency criteria\n",
        "if efficient_combinations:\n",
        "    for fuel_amount_1, fuel_amount_2, predicted_efficiency in efficient_combinations:\n",
        "        eff=(brake_power/predicted_efficiency)*100\n",
        "        if eff>=23 and eff<=35:\n",
        "          print(f\"For Fuel 1 amount = {fuel_amount_1}, Fuel 2 amount = {fuel_amount_2}, \"\n",
        "                f\"Brake power = {brake_power}, \"\n",
        "                f\"Heat Input = {predicted_efficiency}, \",f\"Efficiency={eff}\")\n",
        "\n",
        "else:\n",
        "    print(\"No combinations meet the efficiency criteria.\")"
      ],
      "metadata": {
        "colab": {
          "base_uri": "https://localhost:8080/"
        },
        "id": "iix0bqjwpVC5",
        "outputId": "9035e378-dcaa-4097-b1ca-6f2de770d68f"
      },
      "execution_count": null,
      "outputs": [
        {
          "output_type": "stream",
          "name": "stdout",
          "text": [
            "For Fuel 1 amount = 20.11, Fuel 2 amount = 8.044, Brake power = 5.2, Heat Input = 16.281190066666667,  Efficiency=31.938697224880585\n",
            "For Fuel 1 amount = 20.49, Fuel 2 amount = 8.196, Brake power = 5.2, Heat Input = 16.588840599999997,  Efficiency=31.346373899089734\n",
            "For Fuel 1 amount = 27.43, Fuel 2 amount = 10.972000000000001, Brake power = 5.2, Heat Input = 22.207510866666667,  Efficiency=23.415501319443987\n",
            "For Fuel 1 amount = 19.13, Fuel 2 amount = 7.652, Brake power = 5.2, Heat Input = 15.487775533333334,  Efficiency=33.57486676384467\n",
            "For Fuel 1 amount = 26.28, Fuel 2 amount = 10.512, Brake power = 5.2, Heat Input = 21.2764632,  Efficiency=24.440152252372474\n",
            "For Fuel 1 amount = 22.041, Fuel 2 amount = 8.8164, Brake power = 5.2, Heat Input = 17.84454054,  Efficiency=29.140565364200743\n",
            "For Fuel 1 amount = 27.756, Fuel 2 amount = 11.102400000000001, Brake power = 5.2, Heat Input = 22.47144264,  Efficiency=23.140481380326726\n",
            "For Fuel 1 amount = 26.955, Fuel 2 amount = 10.782, Brake power = 5.2, Heat Input = 21.8229477,  Efficiency=23.828128406319742\n",
            "For Fuel 1 amount = 22.4, Fuel 2 amount = 8.959999999999999, Brake power = 5.2, Heat Input = 18.135189333333333,  Efficiency=28.673535767515563\n",
            "For Fuel 1 amount = 18.648, Fuel 2 amount = 7.4592, Brake power = 5.2, Heat Input = 15.09754512,  Efficiency=34.442685606625304\n",
            "For Fuel 1 amount = 23.429, Fuel 2 amount = 9.371599999999999, Brake power = 5.2, Heat Input = 18.968274593333334,  Efficiency=27.414196132670988\n",
            "For Fuel 1 amount = 21.522, Fuel 2 amount = 8.6088, Brake power = 5.2, Heat Input = 17.424354679999997,  Efficiency=29.843285995369794\n",
            "For Fuel 1 amount = 20.86, Fuel 2 amount = 8.344, Brake power = 5.2, Heat Input = 16.888395066666668,  Efficiency=30.7903739785402\n",
            "For Fuel 1 amount = 19.744, Fuel 2 amount = 7.897600000000001, Brake power = 5.2, Heat Input = 15.984874026666667,  Efficiency=32.5307537070679\n",
            "For Fuel 1 amount = 24.288, Fuel 2 amount = 9.715200000000001, Brake power = 5.2, Heat Input = 19.66372672,  Efficiency=26.444631142636222\n",
            "For Fuel 1 amount = 25.298, Fuel 2 amount = 10.1192, Brake power = 5.2, Heat Input = 20.48142945333333,  Efficiency=25.388852920877092\n",
            "For Fuel 1 amount = 18.891, Fuel 2 amount = 7.5564, Brake power = 5.2, Heat Input = 15.294279539999996,  Efficiency=33.99964010334809\n",
            "For Fuel 1 amount = 20.421, Fuel 2 amount = 8.1684, Brake power = 5.2, Heat Input = 16.53297774,  Efficiency=31.45228936841235\n",
            "For Fuel 1 amount = 19.432, Fuel 2 amount = 7.7728, Brake power = 5.2, Heat Input = 15.732276746666665,  Efficiency=33.05306716716492\n",
            "For Fuel 1 amount = 22.616, Fuel 2 amount = 9.0464, Brake power = 5.2, Heat Input = 18.310064373333333,  Efficiency=28.399681694037344\n",
            "For Fuel 1 amount = 20.848, Fuel 2 amount = 8.3392, Brake power = 5.2, Heat Input = 16.878679786666662,  Efficiency=30.808096757115727\n",
            "For Fuel 1 amount = 20.958, Fuel 2 amount = 8.3832, Brake power = 5.2, Heat Input = 16.96773652,  Efficiency=30.64639761391109\n",
            "For Fuel 1 amount = 25.935, Fuel 2 amount = 10.374, Brake power = 5.2, Heat Input = 20.9971489,  Efficiency=24.765267059662563\n",
            "For Fuel 1 amount = 20.972, Fuel 2 amount = 8.388800000000002, Brake power = 5.2, Heat Input = 16.979071013333336,  Efficiency=30.625939404556\n",
            "For Fuel 1 amount = 22.008, Fuel 2 amount = 8.8032, Brake power = 5.2, Heat Input = 17.817823519999997,  Efficiency=29.184260323171056\n",
            "For Fuel 1 amount = 19.053, Fuel 2 amount = 7.621200000000001, Brake power = 5.2, Heat Input = 15.42543582,  Efficiency=33.71055483085858\n",
            "For Fuel 1 amount = 23.886, Fuel 2 amount = 9.5544, Brake power = 5.2, Heat Input = 19.338264839999997,  Efficiency=26.88969275694334\n",
            "For Fuel 1 amount = 19.376, Fuel 2 amount = 7.750400000000001, Brake power = 5.2, Heat Input = 15.686938773333331,  Efficiency=33.14859626302378\n",
            "For Fuel 1 amount = 20.584, Fuel 2 amount = 8.233600000000001, Brake power = 5.2, Heat Input = 16.664943626666666,  Efficiency=31.203225864377604\n",
            "For Fuel 1 amount = 24.983, Fuel 2 amount = 9.993200000000002, Brake power = 5.2, Heat Input = 20.226403353333335,  Efficiency=25.708970147394165\n",
            "For Fuel 1 amount = 27.12, Fuel 2 amount = 10.848, Brake power = 5.2, Heat Input = 21.9565328,  Efficiency=23.683156386148543\n",
            "For Fuel 1 amount = 25.935, Fuel 2 amount = 10.374, Brake power = 5.2, Heat Input = 20.9971489,  Efficiency=24.765267059662563\n"
          ]
        }
      ]
    },
    {
      "cell_type": "markdown",
      "source": [
        "ETHANOL 10"
      ],
      "metadata": {
        "id": "pE0RwMheMHRP"
      }
    },
    {
      "cell_type": "code",
      "source": [
        "#ETHANOL 10\n",
        "fuel_1_range = [16.46,20.11,28.18,18.05,20.49,27.43,41.24,12.81,19.13,8.91,8.37,26.28,33.83,17.658,22.041,27.756,26.955,15.264,18.224,22.4,16.912,18.648,23.429,9.324,11.994,14.682,17.604,21.522,6.909,17.094,20.86,28.042,35.945,13.992,15.432,19.744,24.288,17.776,10.346,12.936,17.85,25.298,30.807,18.891,20.421,12.504,14.92,19.432,22.616,20.848,10.143,12.621,15.365,20.958,10.528,13.944,11.277,12.978,17.031,25.935,11.416,13.968,16.656,9.555,11.963,14.924,20.972,22.008,19.053,23.886,33.264,4.936,12.936,19.376,10.843,12.117,13.272,12.488,16.48,20.584,29.072,10.409,12.425,16.268,24.983,32.508,12.424,14.88,18.272,27.12,11.375,13.811,16.954,25.935]  # Values from 1 to 60 (inclusive)\n",
        "fuel_2_range=[]\n",
        "for i in fuel_1_range:\n",
        "  fuel_2_range.append(i*0.1)\n",
        " # Values from 1 to 40 (inclusive)\n",
        "calorific_value1 = 35800\n",
        "brake_power = 5.2\n",
        "density1 = 958\n",
        "density2=790\n",
        "calorific_value2=26700\n",
        "# Assuming you have the formulas defined as functions, for example:\n",
        "def predict_efficiency(fuel_amount_1, fuel_amount_2, calorific_value1,calorific_value2, brake_power, density1,density2):\n",
        "    # Your formula to calculate efficiency based on the given inputs\n",
        "    mass_of_fuel1 = ((fuel_amount_1  * 0.000001) / 60) * density1\n",
        "    mass_of_fuel2=((fuel_amount_2  * 0.000001) / 60) * density2\n",
        "    heat_input = mass_of_fuel1 * calorific_value1 + mass_of_fuel2 * calorific_value2\n",
        "    efficiency = brake_power / heat_input\n",
        "    return heat_input\n",
        "    # Limit efficiency to a maximum value of 32\n",
        "    efficiency = min(efficiency, 32)\n",
        "\n",
        "    return efficiency\n",
        "\n",
        "# List to store combinations that meet the efficiency criteria\n",
        "efficient_combinations = []\n",
        "\n",
        "# Loop through all combinations of fuel_1 and fuel_2\n",
        "for fuel_amount_1 in fuel_1_range:\n",
        "      # Use the formula-based prediction function to get efficiency\n",
        "      predicted_efficiency = predict_efficiency(fuel_amount_1, fuel_amount_1*0.1, calorific_value1,calorific_value2 ,brake_power,density1,density2)\n",
        "      \"\"\"if 23 <= predicted_efficiency <= 32:\"\"\"\n",
        "      efficient_combinations.append((fuel_amount_1, fuel_amount_1*0.1, predicted_efficiency))\n",
        "\n",
        "# Print the combinations that meet the efficiency criteria\n",
        "if efficient_combinations:\n",
        "    for fuel_amount_1, fuel_amount_2, predicted_efficiency in efficient_combinations:\n",
        "        eff=(brake_power/predicted_efficiency)*100\n",
        "        if eff>=23 and eff<=35:\n",
        "          print(f\"For Fuel 1 amount = {fuel_amount_1}, Fuel 2 amount = {fuel_amount_2}, \"\n",
        "                f\"Brake power = {brake_power}, \"\n",
        "                f\"Heat Input = {predicted_efficiency}, \",f\"Efficiency={eff}\")\n",
        "\n",
        "else:\n",
        "    print(\"No combinations meet the efficiency criteria.\")"
      ],
      "metadata": {
        "colab": {
          "base_uri": "https://localhost:8080/"
        },
        "id": "OFqln4mURRtA",
        "outputId": "d19f41ee-c66c-4a57-d37e-5178ece85ee6"
      },
      "execution_count": null,
      "outputs": [
        {
          "output_type": "stream",
          "name": "stdout",
          "text": [
            "For Fuel 1 amount = 28.18, Fuel 2 amount = 2.818, Brake power = 5.2, Heat Input = 17.098543766666662,  Efficiency=30.41194660177621\n",
            "For Fuel 1 amount = 27.43, Fuel 2 amount = 2.7430000000000003, Brake power = 5.2, Heat Input = 16.64347251666667,  Efficiency=31.243479957639565\n",
            "For Fuel 1 amount = 26.28, Fuel 2 amount = 2.628, Brake power = 5.2, Heat Input = 15.945696599999998,  Efficiency=32.6106794230614\n",
            "For Fuel 1 amount = 33.83, Fuel 2 amount = 3.383, Brake power = 5.2, Heat Input = 20.52674718333333,  Efficiency=25.332800923383196\n",
            "For Fuel 1 amount = 27.756, Fuel 2 amount = 2.7756000000000003, Brake power = 5.2, Heat Input = 16.841276819999997,  Efficiency=30.876518779292894\n",
            "For Fuel 1 amount = 26.955, Fuel 2 amount = 2.6955, Brake power = 5.2, Heat Input = 16.355260725,  Efficiency=31.79405139076436\n",
            "For Fuel 1 amount = 28.042, Fuel 2 amount = 2.8042000000000002, Brake power = 5.2, Heat Input = 17.014810656666665,  Efficiency=30.56160955844995\n",
            "For Fuel 1 amount = 35.945, Fuel 2 amount = 3.5945, Brake power = 5.2, Heat Input = 21.810048108333337,  Efficiency=23.842221595160755\n",
            "For Fuel 1 amount = 25.298, Fuel 2 amount = 2.5298, Brake power = 5.2, Heat Input = 15.349856643333329,  Efficiency=33.876537878016194\n",
            "For Fuel 1 amount = 30.807, Fuel 2 amount = 3.0807, Brake power = 5.2, Heat Input = 18.692506664999996,  Efficiency=27.81863392209737\n",
            "For Fuel 1 amount = 25.935, Fuel 2 amount = 2.5935, Brake power = 5.2, Heat Input = 15.736363825,  Efficiency=33.044482561714034\n",
            "For Fuel 1 amount = 33.264, Fuel 2 amount = 3.3264000000000005, Brake power = 5.2, Heat Input = 20.183320079999998,  Efficiency=25.763848461942445\n",
            "For Fuel 1 amount = 29.072, Fuel 2 amount = 2.9072, Brake power = 5.2, Heat Input = 17.63977517333333,  Efficiency=29.478833765755834\n",
            "For Fuel 1 amount = 24.983, Fuel 2 amount = 2.4983000000000004, Brake power = 5.2, Heat Input = 15.158726718333334,  Efficiency=34.30367270696287\n",
            "For Fuel 1 amount = 32.508, Fuel 2 amount = 3.2508000000000004, Brake power = 5.2, Heat Input = 19.72460826,  Efficiency=26.363007728499245\n",
            "For Fuel 1 amount = 27.12, Fuel 2 amount = 2.712, Brake power = 5.2, Heat Input = 16.455376400000002,  Efficiency=31.600614131196654\n",
            "For Fuel 1 amount = 25.935, Fuel 2 amount = 2.5935, Brake power = 5.2, Heat Input = 15.736363825,  Efficiency=33.044482561714034\n"
          ]
        }
      ]
    },
    {
      "cell_type": "markdown",
      "source": [
        "ETHANOL 20"
      ],
      "metadata": {
        "id": "ktY7W5RKRR9S"
      }
    },
    {
      "cell_type": "code",
      "source": [
        "#ETHANOL 20\n",
        "fuel_1_range = [16.46,20.11,28.18,18.05,20.49,27.43,41.24,12.81,19.13,8.91,8.37,26.28,33.83,17.658,22.041,27.756,26.955,15.264,18.224,22.4,16.912,18.648,23.429,9.324,11.994,14.682,17.604,21.522,6.909,17.094,20.86,28.042,35.945,13.992,15.432,19.744,24.288,17.776,10.346,12.936,17.85,25.298,30.807,18.891,20.421,12.504,14.92,19.432,22.616,20.848,10.143,12.621,15.365,20.958,10.528,13.944,11.277,12.978,17.031,25.935,11.416,13.968,16.656,9.555,11.963,14.924,20.972,22.008,19.053,23.886,33.264,4.936,12.936,19.376,10.843,12.117,13.272,12.488,16.48,20.584,29.072,10.409,12.425,16.268,24.983,32.508,12.424,14.88,18.272,27.12,11.375,13.811,16.954,25.935]  # Values from 1 to 60 (inclusive)\n",
        "fuel_2_range=[]\n",
        "for i in fuel_1_range:\n",
        "  fuel_2_range.append(i*0.2)\n",
        " # Values from 1 to 40 (inclusive)\n",
        "calorific_value1 = 35800\n",
        "brake_power = 5.2\n",
        "density1 = 958\n",
        "density2=790\n",
        "calorific_value2=26700\n",
        "# Assuming you have the formulas defined as functions, for example:\n",
        "def predict_efficiency(fuel_amount_1, fuel_amount_2, calorific_value1,calorific_value2, brake_power, density1,density2):\n",
        "    # Your formula to calculate efficiency based on the given inputs\n",
        "    mass_of_fuel1 = ((fuel_amount_1  * 0.000001) / 60) * density1\n",
        "    mass_of_fuel2=((fuel_amount_2  * 0.000001) / 60) * density2\n",
        "    heat_input = mass_of_fuel1 * calorific_value1 + mass_of_fuel2 * calorific_value2\n",
        "    efficiency = brake_power / heat_input\n",
        "    return heat_input\n",
        "    # Limit efficiency to a maximum value of 32\n",
        "    efficiency = min(efficiency, 32)\n",
        "\n",
        "    return efficiency\n",
        "\n",
        "# List to store combinations that meet the efficiency criteria\n",
        "efficient_combinations = []\n",
        "\n",
        "# Loop through all combinations of fuel_1 and fuel_2\n",
        "for fuel_amount_1 in fuel_1_range:\n",
        "      # Use the formula-based prediction function to get efficiency\n",
        "      predicted_efficiency = predict_efficiency(fuel_amount_1, fuel_amount_1*0.2, calorific_value1,calorific_value2 ,brake_power,density1,density2)\n",
        "      \"\"\"if 23 <= predicted_efficiency <= 32:\"\"\"\n",
        "      efficient_combinations.append((fuel_amount_1, fuel_amount_1*0.2, predicted_efficiency))\n",
        "\n",
        "# Print the combinations that meet the efficiency criteria\n",
        "if efficient_combinations:\n",
        "    for fuel_amount_1, fuel_amount_2, predicted_efficiency in efficient_combinations:\n",
        "        eff=(brake_power/predicted_efficiency)*100\n",
        "        if eff>=23 and eff<=35:\n",
        "          print(f\"For Fuel 1 amount = {fuel_amount_1}, Fuel 2 amount = {fuel_amount_2}, \"\n",
        "                f\"Brake power = {brake_power}, \"\n",
        "                f\"Heat Input = {predicted_efficiency}, \",f\"Efficiency={eff}\")\n",
        "\n",
        "else:\n",
        "    print(\"No combinations meet the efficiency criteria.\")"
      ],
      "metadata": {
        "colab": {
          "base_uri": "https://localhost:8080/"
        },
        "id": "0tS3MezERSL5",
        "outputId": "6515086e-2e81-4fa5-fdb4-242429f124ab"
      },
      "execution_count": null,
      "outputs": [
        {
          "output_type": "stream",
          "name": "stdout",
          "text": [
            "For Fuel 1 amount = 28.18, Fuel 2 amount = 5.636, Brake power = 5.2, Heat Input = 18.089211666666664,  Efficiency=28.74641579645032\n",
            "For Fuel 1 amount = 27.43, Fuel 2 amount = 5.486000000000001, Brake power = 5.2, Heat Input = 17.60777416666667,  Efficiency=29.532409666203783\n",
            "For Fuel 1 amount = 26.28, Fuel 2 amount = 5.256, Brake power = 5.2, Heat Input = 16.86957,  Efficiency=30.824733529070393\n",
            "For Fuel 1 amount = 33.83, Fuel 2 amount = 6.766, Brake power = 5.2, Heat Input = 21.71604083333333,  Efficiency=23.9454329631679\n",
            "For Fuel 1 amount = 27.756, Fuel 2 amount = 5.551200000000001, Brake power = 5.2, Heat Input = 17.817038999999998,  Efficiency=29.185545364748883\n",
            "For Fuel 1 amount = 26.955, Fuel 2 amount = 5.391, Brake power = 5.2, Heat Input = 17.30286375,  Efficiency=30.052828682766457\n",
            "For Fuel 1 amount = 23.429, Fuel 2 amount = 4.6857999999999995, Brake power = 5.2, Heat Input = 15.039465583333333,  Efficiency=34.57569666413291\n",
            "For Fuel 1 amount = 28.042, Fuel 2 amount = 5.6084000000000005, Brake power = 5.2, Heat Input = 18.000627166666664,  Efficiency=28.887882360172956\n",
            "For Fuel 1 amount = 24.288, Fuel 2 amount = 4.857600000000001, Brake power = 5.2, Heat Input = 15.590872,  Efficiency=33.35284902601984\n",
            "For Fuel 1 amount = 25.298, Fuel 2 amount = 5.0596, Brake power = 5.2, Heat Input = 16.239207833333328,  Efficiency=32.021266390385414\n",
            "For Fuel 1 amount = 30.807, Fuel 2 amount = 6.1614, Brake power = 5.2, Heat Input = 19.775526749999994,  Efficiency=26.29512763800338\n",
            "For Fuel 1 amount = 25.935, Fuel 2 amount = 5.187, Brake power = 5.2, Heat Input = 16.64810875,  Efficiency=31.234779145709275\n",
            "For Fuel 1 amount = 23.886, Fuel 2 amount = 4.7772, Brake power = 5.2, Heat Input = 15.332821499999998,  Efficiency=33.914175548185966\n",
            "For Fuel 1 amount = 33.264, Fuel 2 amount = 6.652800000000001, Brake power = 5.2, Heat Input = 21.352715999999997,  Efficiency=24.35287389201449\n",
            "For Fuel 1 amount = 29.072, Fuel 2 amount = 5.8144, Brake power = 5.2, Heat Input = 18.66180133333333,  Efficiency=27.864405515408986\n",
            "For Fuel 1 amount = 24.983, Fuel 2 amount = 4.996600000000001, Brake power = 5.2, Heat Input = 16.037004083333333,  Efficiency=32.42500889180523\n",
            "For Fuel 1 amount = 32.508, Fuel 2 amount = 6.501600000000001, Brake power = 5.2, Heat Input = 20.867427,  Efficiency=24.91921979647994\n",
            "For Fuel 1 amount = 27.12, Fuel 2 amount = 5.424, Brake power = 5.2, Heat Input = 17.40878,  Efficiency=29.869985145426618\n",
            "For Fuel 1 amount = 25.935, Fuel 2 amount = 5.187, Brake power = 5.2, Heat Input = 16.64810875,  Efficiency=31.234779145709275\n"
          ]
        }
      ]
    },
    {
      "cell_type": "markdown",
      "source": [
        "ETHANOL 30"
      ],
      "metadata": {
        "id": "ggAtW-wzRSbq"
      }
    },
    {
      "cell_type": "code",
      "source": [
        "#ETHANOL 30\n",
        "fuel_1_range = [16.46,20.11,28.18,18.05,20.49,27.43,41.24,12.81,19.13,8.91,8.37,26.28,33.83,17.658,22.041,27.756,26.955,15.264,18.224,22.4,16.912,18.648,23.429,9.324,11.994,14.682,17.604,21.522,6.909,17.094,20.86,28.042,35.945,13.992,15.432,19.744,24.288,17.776,10.346,12.936,17.85,25.298,30.807,18.891,20.421,12.504,14.92,19.432,22.616,20.848,10.143,12.621,15.365,20.958,10.528,13.944,11.277,12.978,17.031,25.935,11.416,13.968,16.656,9.555,11.963,14.924,20.972,22.008,19.053,23.886,33.264,4.936,12.936,19.376,10.843,12.117,13.272,12.488,16.48,20.584,29.072,10.409,12.425,16.268,24.983,32.508,12.424,14.88,18.272,27.12,11.375,13.811,16.954,25.935]  # Values from 1 to 60 (inclusive)\n",
        "fuel_2_range=[]\n",
        "for i in fuel_1_range:\n",
        "  fuel_2_range.append(i*0.3)\n",
        " # Values from 1 to 40 (inclusive)\n",
        "calorific_value1 = 35800\n",
        "brake_power = 5.2\n",
        "density1 = 958\n",
        "density2=790\n",
        "calorific_value2=26700\n",
        "# Assuming you have the formulas defined as functions, for example:\n",
        "def predict_efficiency(fuel_amount_1, fuel_amount_2, calorific_value1,calorific_value2, brake_power, density1,density2):\n",
        "    # Your formula to calculate efficiency based on the given inputs\n",
        "    mass_of_fuel1 = ((fuel_amount_1  * 0.000001) / 60) * density1\n",
        "    mass_of_fuel2=((fuel_amount_2  * 0.000001) / 60) * density2\n",
        "    heat_input = mass_of_fuel1 * calorific_value1 + mass_of_fuel2 * calorific_value2\n",
        "    efficiency = brake_power / heat_input\n",
        "    return heat_input\n",
        "    # Limit efficiency to a maximum value of 32\n",
        "    efficiency = min(efficiency, 32)\n",
        "\n",
        "    return efficiency\n",
        "\n",
        "# List to store combinations that meet the efficiency criteria\n",
        "efficient_combinations = []\n",
        "\n",
        "# Loop through all combinations of fuel_1 and fuel_2\n",
        "for fuel_amount_1 in fuel_1_range:\n",
        "      # Use the formula-based prediction function to get efficiency\n",
        "      predicted_efficiency = predict_efficiency(fuel_amount_1, fuel_amount_1*0.3, calorific_value1,calorific_value2 ,brake_power,density1,density2)\n",
        "      \"\"\"if 23 <= predicted_efficiency <= 32:\"\"\"\n",
        "      efficient_combinations.append((fuel_amount_1, fuel_amount_1*0.3, predicted_efficiency))\n",
        "\n",
        "# Print the combinations that meet the efficiency criteria\n",
        "if efficient_combinations:\n",
        "    for fuel_amount_1, fuel_amount_2, predicted_efficiency in efficient_combinations:\n",
        "        eff=(brake_power/predicted_efficiency)*100\n",
        "        if eff>=23 and eff<=35:\n",
        "          print(f\"For Fuel 1 amount = {fuel_amount_1}, Fuel 2 amount = {fuel_amount_2}, \"\n",
        "                f\"Brake power = {brake_power}, \"\n",
        "                f\"Heat Input = {predicted_efficiency}, \",f\"Efficiency={eff}\")\n",
        "\n",
        "else:\n",
        "    print(\"No combinations meet the efficiency criteria.\")"
      ],
      "metadata": {
        "colab": {
          "base_uri": "https://localhost:8080/"
        },
        "id": "hVi_3oKpRSpz",
        "outputId": "72e18dc4-98bb-4b0a-c28e-b068fbc572ac"
      },
      "execution_count": null,
      "outputs": [
        {
          "output_type": "stream",
          "name": "stdout",
          "text": [
            "For Fuel 1 amount = 28.18, Fuel 2 amount = 8.453999999999999, Brake power = 5.2, Heat Input = 19.079879566666662,  Efficiency=27.25384078987907\n",
            "For Fuel 1 amount = 27.43, Fuel 2 amount = 8.229, Brake power = 5.2, Heat Input = 18.57207581666667,  Efficiency=27.99902418734203\n",
            "For Fuel 1 amount = 26.28, Fuel 2 amount = 7.884, Brake power = 5.2, Heat Input = 17.793443399999997,  Efficiency=29.224247848508067\n",
            "For Fuel 1 amount = 22.041, Fuel 2 amount = 6.6123, Brake power = 5.2, Heat Input = 14.923336605,  Efficiency=34.84475447841713\n",
            "For Fuel 1 amount = 27.756, Fuel 2 amount = 8.3268, Brake power = 5.2, Heat Input = 18.792801179999998,  Efficiency=27.67016981765355\n",
            "For Fuel 1 amount = 26.955, Fuel 2 amount = 8.0865, Brake power = 5.2, Heat Input = 18.250466775,  Efficiency=28.492421942451934\n",
            "For Fuel 1 amount = 22.4, Fuel 2 amount = 6.72, Brake power = 5.2, Heat Input = 15.166405333333334,  Efficiency=34.28630506512464\n",
            "For Fuel 1 amount = 23.429, Fuel 2 amount = 7.0287, Brake power = 5.2, Heat Input = 15.863112078333334,  Efficiency=32.78045300519834\n",
            "For Fuel 1 amount = 28.042, Fuel 2 amount = 8.4126, Brake power = 5.2, Heat Input = 18.986443676666664,  Efficiency=27.387962108936314\n",
            "For Fuel 1 amount = 24.288, Fuel 2 amount = 7.2863999999999995, Brake power = 5.2, Heat Input = 16.44471664,  Efficiency=31.621098215529976\n",
            "For Fuel 1 amount = 25.298, Fuel 2 amount = 7.5893999999999995, Brake power = 5.2, Heat Input = 17.12855902333333,  Efficiency=30.358654180519885\n",
            "For Fuel 1 amount = 30.807, Fuel 2 amount = 9.242099999999999, Brake power = 5.2, Heat Input = 20.858546834999995,  Efficiency=24.929828722653685\n",
            "For Fuel 1 amount = 22.616, Fuel 2 amount = 6.7848, Brake power = 5.2, Heat Input = 15.312652813333331,  Efficiency=33.95884477621118\n",
            "For Fuel 1 amount = 25.935, Fuel 2 amount = 7.780499999999999, Brake power = 5.2, Heat Input = 17.559853675,  Efficiency=29.61300302520887\n",
            "For Fuel 1 amount = 22.008, Fuel 2 amount = 6.602399999999999, Brake power = 5.2, Heat Input = 14.900993239999996,  Efficiency=34.89700261081389\n",
            "For Fuel 1 amount = 23.886, Fuel 2 amount = 7.1658, Brake power = 5.2, Heat Input = 16.172533829999995,  Efficiency=32.153279471606474\n",
            "For Fuel 1 amount = 33.264, Fuel 2 amount = 9.9792, Brake power = 5.2, Heat Input = 22.52211192,  Efficiency=23.08842091927585\n",
            "For Fuel 1 amount = 29.072, Fuel 2 amount = 8.721599999999999, Brake power = 5.2, Heat Input = 19.68382749333333,  Efficiency=26.417626357278213\n",
            "For Fuel 1 amount = 24.983, Fuel 2 amount = 7.4948999999999995, Brake power = 5.2, Heat Input = 16.91528144833333,  Efficiency=30.741433513140613\n",
            "For Fuel 1 amount = 32.508, Fuel 2 amount = 9.7524, Brake power = 5.2, Heat Input = 22.010245740000002,  Efficiency=23.625360940654357\n",
            "For Fuel 1 amount = 27.12, Fuel 2 amount = 8.136, Brake power = 5.2, Heat Input = 18.3621836,  Efficiency=28.31907203019144\n",
            "For Fuel 1 amount = 25.935, Fuel 2 amount = 7.780499999999999, Brake power = 5.2, Heat Input = 17.559853675,  Efficiency=29.61300302520887\n"
          ]
        }
      ]
    },
    {
      "cell_type": "markdown",
      "source": [
        "ETHANOL 40"
      ],
      "metadata": {
        "id": "s1oD54nZRS56"
      }
    },
    {
      "cell_type": "code",
      "source": [
        "#ETHANOL 40\n",
        "fuel_1_range = [16.46,20.11,28.18,18.05,20.49,27.43,41.24,12.81,19.13,8.91,8.37,26.28,33.83,17.658,22.041,27.756,26.955,15.264,18.224,22.4,16.912,18.648,23.429,9.324,11.994,14.682,17.604,21.522,6.909,17.094,20.86,28.042,35.945,13.992,15.432,19.744,24.288,17.776,10.346,12.936,17.85,25.298,30.807,18.891,20.421,12.504,14.92,19.432,22.616,20.848,10.143,12.621,15.365,20.958,10.528,13.944,11.277,12.978,17.031,25.935,11.416,13.968,16.656,9.555,11.963,14.924,20.972,22.008,19.053,23.886,33.264,4.936,12.936,19.376,10.843,12.117,13.272,12.488,16.48,20.584,29.072,10.409,12.425,16.268,24.983,32.508,12.424,14.88,18.272,27.12,11.375,13.811,16.954,25.935]  # Values from 1 to 60 (inclusive)\n",
        "fuel_2_range=[]\n",
        "for i in fuel_1_range:\n",
        "  fuel_2_range.append(i*0.4)\n",
        " # Values from 1 to 40 (inclusive)\n",
        "calorific_value1 = 35800\n",
        "brake_power = 5.2\n",
        "density1 = 958\n",
        "density2=790\n",
        "calorific_value2=26700\n",
        "# Assuming you have the formulas defined as functions, for example:\n",
        "def predict_efficiency(fuel_amount_1, fuel_amount_2, calorific_value1,calorific_value2, brake_power, density1,density2):\n",
        "    # Your formula to calculate efficiency based on the given inputs\n",
        "    mass_of_fuel1 = ((fuel_amount_1  * 0.000001) / 60) * density1\n",
        "    mass_of_fuel2=((fuel_amount_2  * 0.000001) / 60) * density2\n",
        "    heat_input = mass_of_fuel1 * calorific_value1 + mass_of_fuel2 * calorific_value2\n",
        "    efficiency = brake_power / heat_input\n",
        "    return heat_input\n",
        "    # Limit efficiency to a maximum value of 32\n",
        "    efficiency = min(efficiency, 32)\n",
        "\n",
        "    return efficiency\n",
        "\n",
        "# List to store combinations that meet the efficiency criteria\n",
        "efficient_combinations = []\n",
        "\n",
        "# Loop through all combinations of fuel_1 and fuel_2\n",
        "for fuel_amount_1 in fuel_1_range:\n",
        "      # Use the formula-based prediction function to get efficiency\n",
        "      predicted_efficiency = predict_efficiency(fuel_amount_1, fuel_amount_1*0.4, calorific_value1,calorific_value2 ,brake_power,density1,density2)\n",
        "      \"\"\"if 23 <= predicted_efficiency <= 32:\"\"\"\n",
        "      efficient_combinations.append((fuel_amount_1, fuel_amount_1*0.4, predicted_efficiency))\n",
        "\n",
        "# Print the combinations that meet the efficiency criteria\n",
        "if efficient_combinations:\n",
        "    for fuel_amount_1, fuel_amount_2, predicted_efficiency in efficient_combinations:\n",
        "        eff=(brake_power/predicted_efficiency)*100\n",
        "        if eff>=23 and eff<=35:\n",
        "          print(f\"For Fuel 1 amount = {fuel_amount_1}, Fuel 2 amount = {fuel_amount_2}, \"\n",
        "                f\"Brake power = {brake_power}, \"\n",
        "                f\"Heat Input = {predicted_efficiency}, \",f\"Efficiency={eff}\")\n",
        "\n",
        "else:\n",
        "    print(\"No combinations meet the efficiency criteria.\")"
      ],
      "metadata": {
        "colab": {
          "base_uri": "https://localhost:8080/"
        },
        "id": "DXHCr6nYRTJ0",
        "outputId": "262f9447-0972-4b57-bfe2-bc3421ccecd7"
      },
      "execution_count": null,
      "outputs": [
        {
          "output_type": "stream",
          "name": "stdout",
          "text": [
            "For Fuel 1 amount = 28.18, Fuel 2 amount = 11.272, Brake power = 5.2, Heat Input = 20.070547466666664,  Efficiency=25.90861065766245\n",
            "For Fuel 1 amount = 27.43, Fuel 2 amount = 10.972000000000001, Brake power = 5.2, Heat Input = 19.536377466666668,  Efficiency=26.617012334412237\n",
            "For Fuel 1 amount = 26.28, Fuel 2 amount = 10.512, Brake power = 5.2, Heat Input = 18.7173168,  Efficiency=27.781759830020082\n",
            "For Fuel 1 amount = 22.041, Fuel 2 amount = 8.8164, Brake power = 5.2, Heat Input = 15.69818796,  Efficiency=33.124842263641746\n",
            "For Fuel 1 amount = 27.756, Fuel 2 amount = 11.102400000000001, Brake power = 5.2, Heat Input = 19.768563359999998,  Efficiency=26.30438998173108\n",
            "For Fuel 1 amount = 26.955, Fuel 2 amount = 10.782, Brake power = 5.2, Heat Input = 19.1980698,  Efficiency=27.086056328433607\n",
            "For Fuel 1 amount = 22.4, Fuel 2 amount = 8.959999999999999, Brake power = 5.2, Heat Input = 15.953877333333335,  Efficiency=32.59395751486284\n",
            "For Fuel 1 amount = 23.429, Fuel 2 amount = 9.371599999999999, Brake power = 5.2, Heat Input = 16.686758573333332,  Efficiency=31.162433237992566\n",
            "For Fuel 1 amount = 21.522, Fuel 2 amount = 8.6088, Brake power = 5.2, Heat Input = 15.328542319999997,  Efficiency=33.92364317130973\n",
            "For Fuel 1 amount = 28.042, Fuel 2 amount = 11.216800000000001, Brake power = 5.2, Heat Input = 19.972260186666666,  Efficiency=26.036111844124086\n",
            "For Fuel 1 amount = 24.288, Fuel 2 amount = 9.715200000000001, Brake power = 5.2, Heat Input = 17.29856128,  Efficiency=30.06030337339129\n",
            "For Fuel 1 amount = 25.298, Fuel 2 amount = 10.1192, Brake power = 5.2, Heat Input = 18.01791021333333,  Efficiency=28.86017267503075\n",
            "For Fuel 1 amount = 30.807, Fuel 2 amount = 12.3228, Brake power = 5.2, Heat Input = 21.941566919999996,  Efficiency=23.69931016758944\n",
            "For Fuel 1 amount = 22.616, Fuel 2 amount = 9.0464, Brake power = 5.2, Heat Input = 16.10771829333333,  Efficiency=32.2826604321245\n",
            "For Fuel 1 amount = 20.958, Fuel 2 amount = 8.3832, Brake power = 5.2, Heat Input = 14.92684648,  Efficiency=34.836561138129966\n",
            "For Fuel 1 amount = 25.935, Fuel 2 amount = 10.374, Brake power = 5.2, Heat Input = 18.4715986,  Efficiency=28.15132632862648\n",
            "For Fuel 1 amount = 20.972, Fuel 2 amount = 8.388800000000002, Brake power = 5.2, Heat Input = 14.936817653333335,  Efficiency=34.81330575686285\n",
            "For Fuel 1 amount = 22.008, Fuel 2 amount = 8.8032, Brake power = 5.2, Heat Input = 15.674684479999996,  Efficiency=33.17451146550926\n",
            "For Fuel 1 amount = 23.886, Fuel 2 amount = 9.5544, Brake power = 5.2, Heat Input = 17.012246159999997,  Efficiency=30.566216542448625\n",
            "For Fuel 1 amount = 29.072, Fuel 2 amount = 11.6288, Brake power = 5.2, Heat Input = 20.70585365333333,  Efficiency=25.113671172706653\n",
            "For Fuel 1 amount = 24.983, Fuel 2 amount = 9.993200000000002, Brake power = 5.2, Heat Input = 17.793558813333334,  Efficiency=29.224058292956318\n",
            "For Fuel 1 amount = 27.12, Fuel 2 amount = 10.848, Brake power = 5.2, Heat Input = 19.3155872,  Efficiency=26.921262844134503\n",
            "For Fuel 1 amount = 25.935, Fuel 2 amount = 10.374, Brake power = 5.2, Heat Input = 18.4715986,  Efficiency=28.15132632862648\n"
          ]
        }
      ]
    }
  ]
}